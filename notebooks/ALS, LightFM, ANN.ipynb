{
  "cells": [
    {
      "cell_type": "markdown",
      "id": "0d48abdf",
      "metadata": {
        "id": "0d48abdf"
      },
      "source": [
        "# Домашнее задание №4\n"
      ]
    },
    {
      "cell_type": "markdown",
      "id": "91da60a3",
      "metadata": {
        "id": "91da60a3"
      },
      "source": [
        "- Необходимо будет перебрать $N$ моделей $(N \\geq 2)$ матричной факторизации и перебрать у них $K$ гиперпараметров $(K \\geq 2)$ \n",
        "    - Для перебора гиперпараметров можно использовать [`Optuna`](https://github.com/optuna/optuna), [`Hyperopt`](https://github.com/hyperopt/hyperopt)\n",
        "- Воспользоваться методом приближенного поиска соседей для выдачи рекомендаций. \n",
        "    - Можно использовать любые удобные: [`Annoy`](https://github.com/spotify/annoy), [`nmslib`](https://github.com/nmslib/nmslib) и.т.д\n",
        "- Добавить 3 \"аватаров\" (искусственных пользователей) и посмотреть рекомендации итоговой модели на них. Объяснить почему добавили именно таких пользователей.\n",
        "- Придумать как можно обработать рекомендации для холодных пользователей. "
      ]
    },
    {
      "cell_type": "markdown",
      "id": "b383c163",
      "metadata": {
        "id": "b383c163"
      },
      "source": [
        "## Импорты"
      ]
    },
    {
      "cell_type": "code",
      "execution_count": 1,
      "id": "bb70392c",
      "metadata": {
        "id": "bb70392c"
      },
      "outputs": [],
      "source": [
        "import os\n",
        "os.environ[\"OPENBLAS_NUM_THREADS\"] = \"1\"  # For implicit ALS\n",
        "os.environ[\"MKL_NUM_THREADS\"] = \"1\"\n",
        "os.environ[\"KMP_DUPLICATE_LIB_OK\"]=\"TRUE\""
      ]
    },
    {
      "cell_type": "code",
      "source": [
        "from google.colab import drive\n",
        "drive.mount('/content/drive')"
      ],
      "metadata": {
        "colab": {
          "base_uri": "https://localhost:8080/"
        },
        "id": "tbfCCm6ouXKj",
        "outputId": "4da4c124-7544-4592-efab-b5d494a333c3"
      },
      "id": "tbfCCm6ouXKj",
      "execution_count": 2,
      "outputs": [
        {
          "output_type": "stream",
          "name": "stdout",
          "text": [
            "Drive already mounted at /content/drive; to attempt to forcibly remount, call drive.mount(\"/content/drive\", force_remount=True).\n"
          ]
        }
      ]
    },
    {
      "cell_type": "code",
      "execution_count": 3,
      "id": "ad23c130",
      "metadata": {
        "id": "ad23c130"
      },
      "outputs": [],
      "source": [
        "import warnings\n",
        "warnings.filterwarnings('ignore')"
      ]
    },
    {
      "cell_type": "code",
      "execution_count": 4,
      "id": "92b3fb58",
      "metadata": {
        "id": "92b3fb58"
      },
      "outputs": [],
      "source": [
        "import typing as tp\n",
        "from pathlib import Path\n",
        "\n",
        "import dill\n",
        "import matplotlib.pyplot as plt\n",
        "import numpy as np\n",
        "import optuna\n",
        "import pandas as pd\n",
        "import seaborn as sns\n",
        "from implicit.als import AlternatingLeastSquares\n",
        "from implicit.bpr import BayesianPersonalizedRanking\n",
        "from implicit.lmf import LogisticMatrixFactorization\n",
        "from lightfm import LightFM\n",
        "from rectools import Columns\n",
        "from rectools.dataset import Dataset\n",
        "from rectools.metrics import MAP, Precision, Recall, calc_metrics\n",
        "from rectools.models import (\n",
        "    ImplicitALSWrapperModel,\n",
        "    LightFMWrapperModel,\n",
        ")\n",
        "from tqdm import tqdm"
      ]
    },
    {
      "cell_type": "code",
      "execution_count": 5,
      "id": "f9885142",
      "metadata": {
        "id": "f9885142"
      },
      "outputs": [],
      "source": [
        "PATH = Path(\"/content/drive/MyDrive/ML_Eng/kion_train\")"
      ]
    },
    {
      "cell_type": "markdown",
      "id": "8d16381d",
      "metadata": {
        "id": "8d16381d"
      },
      "source": [
        "## Подготовка данных"
      ]
    },
    {
      "cell_type": "code",
      "execution_count": 6,
      "id": "84b52366",
      "metadata": {
        "id": "84b52366"
      },
      "outputs": [],
      "source": [
        "users = pd.read_csv(PATH / 'users.csv')\n",
        "items = pd.read_csv(PATH / 'items.csv')\n",
        "interactions = pd.read_csv(PATH / 'interactions.csv')"
      ]
    },
    {
      "cell_type": "code",
      "execution_count": 7,
      "id": "0bb7f231",
      "metadata": {
        "id": "0bb7f231"
      },
      "outputs": [],
      "source": [
        "Columns.Datetime = 'last_watch_dt'\n",
        "     \n",
        "\n",
        "interactions[Columns.Datetime] = pd.to_datetime(interactions[Columns.Datetime], format='%Y-%m-%d')\n",
        "max_date = interactions[Columns.Datetime].max()\n",
        "interactions[Columns.Weight] = np.where(interactions['watched_pct'] > 10, 3, 1)\n",
        "     \n",
        "\n",
        "# Разделяем на train и test\n",
        "train = interactions[interactions[Columns.Datetime] < max_date - pd.Timedelta(days=7)].copy()\n",
        "test = interactions[interactions[Columns.Datetime] >= max_date - pd.Timedelta(days=7)].copy()\n",
        "     \n",
        "\n",
        "train.drop(train.query(\"total_dur < 300\").index, inplace=True)\n",
        "cold_users = set(test[Columns.User]) - set(train[Columns.User])\n",
        "\n",
        "# Отбрасываем холодных пользователей\n",
        "test.drop(test[test[Columns.User].isin(cold_users)].index, inplace=True)"
      ]
    },
    {
      "cell_type": "code",
      "source": [
        "dataset = Dataset.construct(interactions_df=train)\n",
        "metric = MAP(k = 10)"
      ],
      "metadata": {
        "id": "atArsUHF6u15"
      },
      "id": "atArsUHF6u15",
      "execution_count": 38,
      "outputs": []
    },
    {
      "cell_type": "markdown",
      "id": "f9b66dd7",
      "metadata": {
        "id": "f9b66dd7"
      },
      "source": [
        "## Применение Optuna для подбора гиперпараметров"
      ]
    },
    {
      "cell_type": "markdown",
      "id": "b8527ba4",
      "metadata": {
        "id": "b8527ba4"
      },
      "source": [
        "## ALS Model"
      ]
    },
    {
      "cell_type": "code",
      "execution_count": 39,
      "id": "8f6dada9",
      "metadata": {
        "id": "8f6dada9"
      },
      "outputs": [],
      "source": [
        "def als_optuna_objective(trial):\n",
        "\n",
        "    factors = trial.suggest_int('factors', 32, 64)\n",
        "    regularization = trial.suggest_float('regularization', 0.001, 0.1, log=True)\n",
        "    iterations = trial.suggest_int('iterations', 5, 20)\n",
        "\n",
        "    model = ImplicitALSWrapperModel(\n",
        "        model=AlternatingLeastSquares(\n",
        "            factors=factors,\n",
        "            regularization=regularization,\n",
        "            iterations = iterations,\n",
        "            random_state=42, \n",
        "            num_threads=16,\n",
        "            use_gpu=True\n",
        "        ))\n",
        "    model.fit(dataset)\n",
        "    recos = model.recommend(\n",
        "        users=test[Columns.User].unique(),\n",
        "        dataset=dataset,\n",
        "        k=10,\n",
        "        filter_viewed=True,\n",
        "    )\n",
        "\n",
        "    map10 = metric.calc_per_user(recos, test)\n",
        "    return map10.mean()\n"
      ]
    },
    {
      "cell_type": "code",
      "execution_count": 40,
      "id": "7c9e575d",
      "metadata": {
        "colab": {
          "base_uri": "https://localhost:8080/"
        },
        "id": "7c9e575d",
        "outputId": "330c6322-dcd9-46c7-f8d1-2476052aa234"
      },
      "outputs": [
        {
          "output_type": "stream",
          "name": "stderr",
          "text": [
            "\u001b[32m[I 2023-04-08 23:49:03,395]\u001b[0m A new study created in memory with name: no-name-6cb12ffd-fd39-454a-a12a-550490545496\u001b[0m\n",
            "WARNING:implicit:GPU training requires factor size to be a multiple of 32. Increasing factors from 38 to 64.\n",
            "\u001b[32m[I 2023-04-08 23:50:30,582]\u001b[0m Trial 0 finished with value: 0.02471826347911964 and parameters: {'factors': 38, 'regularization': 0.03170807995620261, 'iterations': 18}. Best is trial 0 with value: 0.02471826347911964.\u001b[0m\n",
            "WARNING:implicit:GPU training requires factor size to be a multiple of 32. Increasing factors from 52 to 64.\n",
            "\u001b[32m[I 2023-04-08 23:51:55,420]\u001b[0m Trial 1 finished with value: 0.024644943387009413 and parameters: {'factors': 52, 'regularization': 0.008551199544889988, 'iterations': 13}. Best is trial 0 with value: 0.02471826347911964.\u001b[0m\n",
            "WARNING:implicit:GPU training requires factor size to be a multiple of 32. Increasing factors from 45 to 64.\n",
            "\u001b[32m[I 2023-04-08 23:53:13,971]\u001b[0m Trial 2 finished with value: 0.023833529527120388 and parameters: {'factors': 45, 'regularization': 0.08850469342116962, 'iterations': 7}. Best is trial 0 with value: 0.02471826347911964.\u001b[0m\n",
            "WARNING:implicit:GPU training requires factor size to be a multiple of 32. Increasing factors from 50 to 64.\n",
            "\u001b[32m[I 2023-04-08 23:54:32,616]\u001b[0m Trial 3 finished with value: 0.023988272465690175 and parameters: {'factors': 50, 'regularization': 0.09646012068473976, 'iterations': 8}. Best is trial 0 with value: 0.02471826347911964.\u001b[0m\n",
            "WARNING:implicit:GPU training requires factor size to be a multiple of 32. Increasing factors from 63 to 64.\n",
            "\u001b[32m[I 2023-04-08 23:55:53,487]\u001b[0m Trial 4 finished with value: 0.024498471811431555 and parameters: {'factors': 63, 'regularization': 0.03545878588553176, 'iterations': 12}. Best is trial 0 with value: 0.02471826347911964.\u001b[0m\n",
            "WARNING:implicit:GPU training requires factor size to be a multiple of 32. Increasing factors from 39 to 64.\n",
            "\u001b[32m[I 2023-04-08 23:57:19,911]\u001b[0m Trial 5 finished with value: 0.024831800960755785 and parameters: {'factors': 39, 'regularization': 0.016400304408543044, 'iterations': 20}. Best is trial 5 with value: 0.024831800960755785.\u001b[0m\n",
            "WARNING:implicit:GPU training requires factor size to be a multiple of 32. Increasing factors from 56 to 64.\n",
            "\u001b[32m[I 2023-04-08 23:58:39,735]\u001b[0m Trial 6 finished with value: 0.023996204231041738 and parameters: {'factors': 56, 'regularization': 0.03449723084790651, 'iterations': 8}. Best is trial 5 with value: 0.024831800960755785.\u001b[0m\n",
            "WARNING:implicit:GPU training requires factor size to be a multiple of 32. Increasing factors from 62 to 64.\n",
            "\u001b[32m[I 2023-04-09 00:00:07,738]\u001b[0m Trial 7 finished with value: 0.02470329910588678 and parameters: {'factors': 62, 'regularization': 0.09525385774948755, 'iterations': 20}. Best is trial 5 with value: 0.024831800960755785.\u001b[0m\n",
            "WARNING:implicit:GPU training requires factor size to be a multiple of 32. Increasing factors from 43 to 64.\n",
            "\u001b[32m[I 2023-04-09 00:01:26,881]\u001b[0m Trial 8 finished with value: 0.024321935592410554 and parameters: {'factors': 43, 'regularization': 0.06767496603328009, 'iterations': 10}. Best is trial 5 with value: 0.024831800960755785.\u001b[0m\n",
            "WARNING:implicit:GPU training requires factor size to be a multiple of 32. Increasing factors from 37 to 64.\n",
            "\u001b[32m[I 2023-04-09 00:02:48,479]\u001b[0m Trial 9 finished with value: 0.024054479129852775 and parameters: {'factors': 37, 'regularization': 0.021748138420190834, 'iterations': 8}. Best is trial 5 with value: 0.024831800960755785.\u001b[0m\n",
            "\u001b[32m[I 2023-04-09 00:04:01,727]\u001b[0m Trial 10 finished with value: 0.02752120916964996 and parameters: {'factors': 32, 'regularization': 0.003101436288200693, 'iterations': 15}. Best is trial 10 with value: 0.02752120916964996.\u001b[0m\n",
            "\u001b[32m[I 2023-04-09 00:05:15,079]\u001b[0m Trial 11 finished with value: 0.02753953740211888 and parameters: {'factors': 32, 'regularization': 0.0023820746193832488, 'iterations': 16}. Best is trial 11 with value: 0.02753953740211888.\u001b[0m\n",
            "\u001b[32m[I 2023-04-09 00:06:33,227]\u001b[0m Trial 12 finished with value: 0.027529261963191973 and parameters: {'factors': 32, 'regularization': 0.0023096161445128904, 'iterations': 15}. Best is trial 11 with value: 0.02753953740211888.\u001b[0m\n",
            "WARNING:implicit:GPU training requires factor size to be a multiple of 32. Increasing factors from 33 to 64.\n",
            "\u001b[32m[I 2023-04-09 00:08:08,012]\u001b[0m Trial 13 finished with value: 0.02483540400578199 and parameters: {'factors': 33, 'regularization': 0.0010778464545039943, 'iterations': 16}. Best is trial 11 with value: 0.02753953740211888.\u001b[0m\n",
            "WARNING:implicit:GPU training requires factor size to be a multiple of 32. Increasing factors from 35 to 64.\n",
            "\u001b[32m[I 2023-04-09 00:09:35,786]\u001b[0m Trial 14 finished with value: 0.024907603667174757 and parameters: {'factors': 35, 'regularization': 0.003125066197281893, 'iterations': 16}. Best is trial 11 with value: 0.02753953740211888.\u001b[0m\n",
            "WARNING:implicit:GPU training requires factor size to be a multiple of 32. Increasing factors from 41 to 64.\n",
            "\u001b[32m[I 2023-04-09 00:11:09,379]\u001b[0m Trial 15 finished with value: 0.02470722762746823 and parameters: {'factors': 41, 'regularization': 0.0010037233138308539, 'iterations': 14}. Best is trial 11 with value: 0.02753953740211888.\u001b[0m\n",
            "WARNING:implicit:GPU training requires factor size to be a multiple of 32. Increasing factors from 46 to 64.\n",
            "\u001b[32m[I 2023-04-09 00:12:46,622]\u001b[0m Trial 16 finished with value: 0.024494797779010504 and parameters: {'factors': 46, 'regularization': 0.0027317929115110657, 'iterations': 11}. Best is trial 11 with value: 0.02753953740211888.\u001b[0m\n",
            "\u001b[32m[I 2023-04-09 00:14:09,432]\u001b[0m Trial 17 finished with value: 0.02762808458280813 and parameters: {'factors': 32, 'regularization': 0.006450307654944045, 'iterations': 18}. Best is trial 17 with value: 0.02762808458280813.\u001b[0m\n",
            "WARNING:implicit:GPU training requires factor size to be a multiple of 32. Increasing factors from 36 to 64.\n",
            "\u001b[32m[I 2023-04-09 00:15:41,425]\u001b[0m Trial 18 finished with value: 0.02479067023536819 and parameters: {'factors': 36, 'regularization': 0.006734583425941505, 'iterations': 17}. Best is trial 17 with value: 0.02762808458280813.\u001b[0m\n",
            "WARNING:implicit:GPU training requires factor size to be a multiple of 32. Increasing factors from 55 to 64.\n",
            "\u001b[32m[I 2023-04-09 00:17:07,687]\u001b[0m Trial 19 finished with value: 0.024827653647951385 and parameters: {'factors': 55, 'regularization': 0.005693676025063141, 'iterations': 18}. Best is trial 17 with value: 0.02762808458280813.\u001b[0m\n"
          ]
        }
      ],
      "source": [
        "# перебор параметров с помощью optuna\n",
        "study = optuna.create_study(directions = ['maximize'])\n",
        "study.optimize(als_optuna_objective, n_trials=20)"
      ]
    },
    {
      "cell_type": "code",
      "execution_count": 41,
      "id": "25f4cd01",
      "metadata": {
        "id": "25f4cd01",
        "colab": {
          "base_uri": "https://localhost:8080/"
        },
        "outputId": "e4cbdf01-1d61-4ad2-a442-e81f3d83a186"
      },
      "outputs": [
        {
          "output_type": "stream",
          "name": "stdout",
          "text": [
            "Лучшее значение MAP@10: 0.02762808458280813\n",
            "Лучшие параметры: {'factors': 32, 'regularization': 0.006450307654944045, 'iterations': 18}\n"
          ]
        }
      ],
      "source": [
        "# лучшие параметры\n",
        "print(f'Лучшее значение MAP@10: {study.best_value}')\n",
        "print(f'Лучшие параметры: {study.best_params}')"
      ]
    },
    {
      "cell_type": "markdown",
      "id": "36d85f18",
      "metadata": {
        "id": "36d85f18"
      },
      "source": [
        "## LightFM Model"
      ]
    },
    {
      "cell_type": "code",
      "execution_count": 42,
      "id": "eaf5efb2",
      "metadata": {
        "id": "eaf5efb2"
      },
      "outputs": [],
      "source": [
        "# введем функцию по подбору оптимальных гиперпараметров\n",
        "def lightfm_optuna_objective(trial):\n",
        "    \n",
        "    no_components = trial.suggest_int('no_components', 32, 256)\n",
        "    learning_rate = trial.suggest_float('learning_rate', 0.005, 0.05, log=True)\n",
        "    loss = trial.suggest_categorical(\"loss\", ['bpr', 'warp', 'logistic'])\n",
        "    \n",
        "        \n",
        "    model = LightFMWrapperModel(\n",
        "                                 model = LightFM(\n",
        "                                 no_components = no_components,\n",
        "                                 loss = loss,\n",
        "                                 rho = 0.2,\n",
        "                                 epsilon = 1e-5,\n",
        "                                 learning_rate = learning_rate,\n",
        "                                 random_state = 42,\n",
        "                                 ),\n",
        "                                  epochs=1,\n",
        "                                  num_threads=16\n",
        "              )\n",
        "\n",
        "    \n",
        "    model.fit(dataset)\n",
        "    recos = model.recommend(\n",
        "        users=test[Columns.User].unique(),\n",
        "        dataset=dataset,\n",
        "        k=10,\n",
        "        filter_viewed=True,\n",
        "    )\n",
        "\n",
        "    map10 = metric.calc_per_user(recos, test)\n",
        "    return map10.mean()"
      ]
    },
    {
      "cell_type": "code",
      "execution_count": 43,
      "id": "8748863d",
      "metadata": {
        "id": "8748863d",
        "colab": {
          "base_uri": "https://localhost:8080/"
        },
        "outputId": "221544ae-9668-467b-f500-c7399ee34e24"
      },
      "outputs": [
        {
          "output_type": "stream",
          "name": "stderr",
          "text": [
            "\u001b[32m[I 2023-04-09 00:17:07,726]\u001b[0m A new study created in memory with name: no-name-78836a68-6c38-42e7-b022-a6a053b8c757\u001b[0m\n",
            "\u001b[32m[I 2023-04-09 00:21:01,962]\u001b[0m Trial 0 finished with value: 0.07471844266608645 and parameters: {'no_components': 244, 'learning_rate': 0.0439253650987498, 'loss': 'logistic'}. Best is trial 0 with value: 0.07471844266608645.\u001b[0m\n",
            "\u001b[32m[I 2023-04-09 00:22:54,640]\u001b[0m Trial 1 finished with value: 0.05862527442768599 and parameters: {'no_components': 78, 'learning_rate': 0.040378164775394444, 'loss': 'bpr'}. Best is trial 0 with value: 0.07471844266608645.\u001b[0m\n",
            "\u001b[32m[I 2023-04-09 00:25:27,936]\u001b[0m Trial 2 finished with value: 0.07471815113322634 and parameters: {'no_components': 132, 'learning_rate': 0.014500343768065532, 'loss': 'logistic'}. Best is trial 0 with value: 0.07471844266608645.\u001b[0m\n",
            "\u001b[32m[I 2023-04-09 00:27:29,276]\u001b[0m Trial 3 finished with value: 0.07471809159729888 and parameters: {'no_components': 80, 'learning_rate': 0.04938599783890662, 'loss': 'logistic'}. Best is trial 0 with value: 0.07471844266608645.\u001b[0m\n",
            "\u001b[32m[I 2023-04-09 00:30:54,132]\u001b[0m Trial 4 finished with value: 0.07471815113322634 and parameters: {'no_components': 214, 'learning_rate': 0.015247470747377251, 'loss': 'logistic'}. Best is trial 0 with value: 0.07471844266608645.\u001b[0m\n",
            "\u001b[32m[I 2023-04-09 00:32:58,825]\u001b[0m Trial 5 finished with value: 0.0747186209226244 and parameters: {'no_components': 123, 'learning_rate': 0.018235795910731302, 'loss': 'logistic'}. Best is trial 5 with value: 0.0747186209226244.\u001b[0m\n",
            "\u001b[32m[I 2023-04-09 00:34:28,270]\u001b[0m Trial 6 finished with value: 0.07471776933055292 and parameters: {'no_components': 59, 'learning_rate': 0.010007325700332996, 'loss': 'logistic'}. Best is trial 5 with value: 0.0747186209226244.\u001b[0m\n",
            "\u001b[32m[I 2023-04-09 00:37:45,827]\u001b[0m Trial 7 finished with value: 0.07834525129823616 and parameters: {'no_components': 216, 'learning_rate': 0.02261092249482664, 'loss': 'warp'}. Best is trial 7 with value: 0.07834525129823616.\u001b[0m\n",
            "\u001b[32m[I 2023-04-09 00:40:14,961]\u001b[0m Trial 8 finished with value: 0.05940615515176573 and parameters: {'no_components': 140, 'learning_rate': 0.03045972003136219, 'loss': 'bpr'}. Best is trial 7 with value: 0.07834525129823616.\u001b[0m\n",
            "\u001b[32m[I 2023-04-09 00:42:57,142]\u001b[0m Trial 9 finished with value: 0.07820134737385452 and parameters: {'no_components': 168, 'learning_rate': 0.021029135844401872, 'loss': 'warp'}. Best is trial 7 with value: 0.07834525129823616.\u001b[0m\n",
            "\u001b[32m[I 2023-04-09 00:46:03,868]\u001b[0m Trial 10 finished with value: 0.0752013466486264 and parameters: {'no_components': 199, 'learning_rate': 0.0062189239439257, 'loss': 'warp'}. Best is trial 7 with value: 0.07834525129823616.\u001b[0m\n",
            "\u001b[32m[I 2023-04-09 00:48:45,729]\u001b[0m Trial 11 finished with value: 0.07713033667560229 and parameters: {'no_components': 182, 'learning_rate': 0.02419078567637961, 'loss': 'warp'}. Best is trial 7 with value: 0.07834525129823616.\u001b[0m\n",
            "\u001b[32m[I 2023-04-09 00:51:30,062]\u001b[0m Trial 12 finished with value: 0.07782284989298496 and parameters: {'no_components': 179, 'learning_rate': 0.02468144917403738, 'loss': 'warp'}. Best is trial 7 with value: 0.07834525129823616.\u001b[0m\n",
            "\u001b[32m[I 2023-04-09 00:55:14,795]\u001b[0m Trial 13 finished with value: 0.07880836726631638 and parameters: {'no_components': 246, 'learning_rate': 0.020619039200214098, 'loss': 'warp'}. Best is trial 13 with value: 0.07880836726631638.\u001b[0m\n",
            "\u001b[32m[I 2023-04-09 00:59:05,929]\u001b[0m Trial 14 finished with value: 0.07845222363101856 and parameters: {'no_components': 249, 'learning_rate': 0.032686702891765514, 'loss': 'warp'}. Best is trial 13 with value: 0.07880836726631638.\u001b[0m\n",
            "\u001b[32m[I 2023-04-09 01:02:58,026]\u001b[0m Trial 15 finished with value: 0.07841065279372222 and parameters: {'no_components': 247, 'learning_rate': 0.032010956926921574, 'loss': 'warp'}. Best is trial 13 with value: 0.07880836726631638.\u001b[0m\n",
            "\u001b[32m[I 2023-04-09 01:07:01,546]\u001b[0m Trial 16 finished with value: 0.07773100775086275 and parameters: {'no_components': 255, 'learning_rate': 0.03406688521196803, 'loss': 'warp'}. Best is trial 13 with value: 0.07880836726631638.\u001b[0m\n",
            "\u001b[32m[I 2023-04-09 01:10:42,806]\u001b[0m Trial 17 finished with value: 0.060306117152505875 and parameters: {'no_components': 227, 'learning_rate': 0.02865985688771798, 'loss': 'bpr'}. Best is trial 13 with value: 0.07880836726631638.\u001b[0m\n",
            "\u001b[32m[I 2023-04-09 01:12:04,113]\u001b[0m Trial 18 finished with value: 0.07745583349014809 and parameters: {'no_components': 35, 'learning_rate': 0.03719399976686648, 'loss': 'warp'}. Best is trial 13 with value: 0.07880836726631638.\u001b[0m\n",
            "\u001b[32m[I 2023-04-09 01:15:36,781]\u001b[0m Trial 19 finished with value: 0.0767752557916624 and parameters: {'no_components': 228, 'learning_rate': 0.01749433108135907, 'loss': 'warp'}. Best is trial 13 with value: 0.07880836726631638.\u001b[0m\n"
          ]
        }
      ],
      "source": [
        "# перебор параметров с помощью optuna\n",
        "study = optuna.create_study(directions = ['maximize'])\n",
        "study.optimize(lightfm_optuna_objective, n_trials=20)"
      ]
    },
    {
      "cell_type": "code",
      "execution_count": 44,
      "id": "624100b1",
      "metadata": {
        "id": "624100b1",
        "colab": {
          "base_uri": "https://localhost:8080/"
        },
        "outputId": "1a35f848-597a-456b-ca15-47571487abe6"
      },
      "outputs": [
        {
          "metadata": {
            "tags": null
          },
          "name": "stdout",
          "output_type": "stream",
          "text": [
            "Лучшее значение MAP@10: 0.07880836726631638\n",
            "Лучшие параметры: {'no_components': 246, 'learning_rate': 0.020619039200214098, 'loss': 'warp'}\n"
          ]
        }
      ],
      "source": [
        "# лучшие параметры\n",
        "print(f'Лучшее значение MAP@10: {study.best_value}')\n",
        "print(f'Лучшие параметры: {study.best_params}')"
      ]
    },
    {
      "cell_type": "markdown",
      "source": [
        "## Обучение лучшей модели"
      ],
      "metadata": {
        "id": "hIalgfVzVY7d"
      },
      "id": "hIalgfVzVY7d"
    },
    {
      "cell_type": "markdown",
      "source": [
        "## Подготовка фич"
      ],
      "metadata": {
        "id": "yAXXdeYmVhRk"
      },
      "id": "yAXXdeYmVhRk"
    },
    {
      "cell_type": "markdown",
      "source": [
        "### User features"
      ],
      "metadata": {
        "id": "AOJFURCCVmHM"
      },
      "id": "AOJFURCCVmHM"
    },
    {
      "cell_type": "code",
      "source": [
        "users.fillna('Unknown', inplace=True)\n",
        "users = users.loc[users[Columns.User].isin(train[Columns.User])].copy()"
      ],
      "metadata": {
        "id": "Cnfu5SHEVdYa"
      },
      "id": "Cnfu5SHEVdYa",
      "execution_count": 8,
      "outputs": []
    },
    {
      "cell_type": "code",
      "source": [
        "user_features_frames = []\n",
        "for feature in [\"sex\", \"age\", \"income\"]:\n",
        "    feature_frame = users.reindex(columns=[Columns.User, feature])\n",
        "    feature_frame.columns = [\"id\", \"value\"]\n",
        "    feature_frame[\"feature\"] = feature\n",
        "    user_features_frames.append(feature_frame)\n",
        "user_features = pd.concat(user_features_frames)\n",
        "user_features.head()"
      ],
      "metadata": {
        "colab": {
          "base_uri": "https://localhost:8080/",
          "height": 206
        },
        "id": "3mn4VEh8VyRq",
        "outputId": "e0f244c6-41f3-480c-c1bb-57a4c9e13cf9"
      },
      "id": "3mn4VEh8VyRq",
      "execution_count": 9,
      "outputs": [
        {
          "output_type": "execute_result",
          "data": {
            "text/plain": [
              "        id value feature\n",
              "0   973171     М     sex\n",
              "1   962099     М     sex\n",
              "3   721985     Ж     sex\n",
              "4   704055     Ж     sex\n",
              "5  1037719     М     sex"
            ],
            "text/html": [
              "\n",
              "  <div id=\"df-0f391012-3f48-4d8c-a713-94d96e7e8591\">\n",
              "    <div class=\"colab-df-container\">\n",
              "      <div>\n",
              "<style scoped>\n",
              "    .dataframe tbody tr th:only-of-type {\n",
              "        vertical-align: middle;\n",
              "    }\n",
              "\n",
              "    .dataframe tbody tr th {\n",
              "        vertical-align: top;\n",
              "    }\n",
              "\n",
              "    .dataframe thead th {\n",
              "        text-align: right;\n",
              "    }\n",
              "</style>\n",
              "<table border=\"1\" class=\"dataframe\">\n",
              "  <thead>\n",
              "    <tr style=\"text-align: right;\">\n",
              "      <th></th>\n",
              "      <th>id</th>\n",
              "      <th>value</th>\n",
              "      <th>feature</th>\n",
              "    </tr>\n",
              "  </thead>\n",
              "  <tbody>\n",
              "    <tr>\n",
              "      <th>0</th>\n",
              "      <td>973171</td>\n",
              "      <td>М</td>\n",
              "      <td>sex</td>\n",
              "    </tr>\n",
              "    <tr>\n",
              "      <th>1</th>\n",
              "      <td>962099</td>\n",
              "      <td>М</td>\n",
              "      <td>sex</td>\n",
              "    </tr>\n",
              "    <tr>\n",
              "      <th>3</th>\n",
              "      <td>721985</td>\n",
              "      <td>Ж</td>\n",
              "      <td>sex</td>\n",
              "    </tr>\n",
              "    <tr>\n",
              "      <th>4</th>\n",
              "      <td>704055</td>\n",
              "      <td>Ж</td>\n",
              "      <td>sex</td>\n",
              "    </tr>\n",
              "    <tr>\n",
              "      <th>5</th>\n",
              "      <td>1037719</td>\n",
              "      <td>М</td>\n",
              "      <td>sex</td>\n",
              "    </tr>\n",
              "  </tbody>\n",
              "</table>\n",
              "</div>\n",
              "      <button class=\"colab-df-convert\" onclick=\"convertToInteractive('df-0f391012-3f48-4d8c-a713-94d96e7e8591')\"\n",
              "              title=\"Convert this dataframe to an interactive table.\"\n",
              "              style=\"display:none;\">\n",
              "        \n",
              "  <svg xmlns=\"http://www.w3.org/2000/svg\" height=\"24px\"viewBox=\"0 0 24 24\"\n",
              "       width=\"24px\">\n",
              "    <path d=\"M0 0h24v24H0V0z\" fill=\"none\"/>\n",
              "    <path d=\"M18.56 5.44l.94 2.06.94-2.06 2.06-.94-2.06-.94-.94-2.06-.94 2.06-2.06.94zm-11 1L8.5 8.5l.94-2.06 2.06-.94-2.06-.94L8.5 2.5l-.94 2.06-2.06.94zm10 10l.94 2.06.94-2.06 2.06-.94-2.06-.94-.94-2.06-.94 2.06-2.06.94z\"/><path d=\"M17.41 7.96l-1.37-1.37c-.4-.4-.92-.59-1.43-.59-.52 0-1.04.2-1.43.59L10.3 9.45l-7.72 7.72c-.78.78-.78 2.05 0 2.83L4 21.41c.39.39.9.59 1.41.59.51 0 1.02-.2 1.41-.59l7.78-7.78 2.81-2.81c.8-.78.8-2.07 0-2.86zM5.41 20L4 18.59l7.72-7.72 1.47 1.35L5.41 20z\"/>\n",
              "  </svg>\n",
              "      </button>\n",
              "      \n",
              "  <style>\n",
              "    .colab-df-container {\n",
              "      display:flex;\n",
              "      flex-wrap:wrap;\n",
              "      gap: 12px;\n",
              "    }\n",
              "\n",
              "    .colab-df-convert {\n",
              "      background-color: #E8F0FE;\n",
              "      border: none;\n",
              "      border-radius: 50%;\n",
              "      cursor: pointer;\n",
              "      display: none;\n",
              "      fill: #1967D2;\n",
              "      height: 32px;\n",
              "      padding: 0 0 0 0;\n",
              "      width: 32px;\n",
              "    }\n",
              "\n",
              "    .colab-df-convert:hover {\n",
              "      background-color: #E2EBFA;\n",
              "      box-shadow: 0px 1px 2px rgba(60, 64, 67, 0.3), 0px 1px 3px 1px rgba(60, 64, 67, 0.15);\n",
              "      fill: #174EA6;\n",
              "    }\n",
              "\n",
              "    [theme=dark] .colab-df-convert {\n",
              "      background-color: #3B4455;\n",
              "      fill: #D2E3FC;\n",
              "    }\n",
              "\n",
              "    [theme=dark] .colab-df-convert:hover {\n",
              "      background-color: #434B5C;\n",
              "      box-shadow: 0px 1px 3px 1px rgba(0, 0, 0, 0.15);\n",
              "      filter: drop-shadow(0px 1px 2px rgba(0, 0, 0, 0.3));\n",
              "      fill: #FFFFFF;\n",
              "    }\n",
              "  </style>\n",
              "\n",
              "      <script>\n",
              "        const buttonEl =\n",
              "          document.querySelector('#df-0f391012-3f48-4d8c-a713-94d96e7e8591 button.colab-df-convert');\n",
              "        buttonEl.style.display =\n",
              "          google.colab.kernel.accessAllowed ? 'block' : 'none';\n",
              "\n",
              "        async function convertToInteractive(key) {\n",
              "          const element = document.querySelector('#df-0f391012-3f48-4d8c-a713-94d96e7e8591');\n",
              "          const dataTable =\n",
              "            await google.colab.kernel.invokeFunction('convertToInteractive',\n",
              "                                                     [key], {});\n",
              "          if (!dataTable) return;\n",
              "\n",
              "          const docLinkHtml = 'Like what you see? Visit the ' +\n",
              "            '<a target=\"_blank\" href=https://colab.research.google.com/notebooks/data_table.ipynb>data table notebook</a>'\n",
              "            + ' to learn more about interactive tables.';\n",
              "          element.innerHTML = '';\n",
              "          dataTable['output_type'] = 'display_data';\n",
              "          await google.colab.output.renderOutput(dataTable, element);\n",
              "          const docLink = document.createElement('div');\n",
              "          docLink.innerHTML = docLinkHtml;\n",
              "          element.appendChild(docLink);\n",
              "        }\n",
              "      </script>\n",
              "    </div>\n",
              "  </div>\n",
              "  "
            ]
          },
          "metadata": {},
          "execution_count": 9
        }
      ]
    },
    {
      "cell_type": "markdown",
      "source": [
        "### Item features"
      ],
      "metadata": {
        "id": "O-y88BXbV1pi"
      },
      "id": "O-y88BXbV1pi"
    },
    {
      "cell_type": "code",
      "source": [
        "items = pd.read_csv(PATH / 'items.csv')"
      ],
      "metadata": {
        "id": "u27pHoQPuRIs"
      },
      "id": "u27pHoQPuRIs",
      "execution_count": 10,
      "outputs": []
    },
    {
      "cell_type": "code",
      "source": [
        "items = items.loc[items[Columns.Item].isin(train[Columns.Item])].copy()"
      ],
      "metadata": {
        "id": "aneA3Y_tV48c"
      },
      "id": "aneA3Y_tV48c",
      "execution_count": 11,
      "outputs": []
    },
    {
      "cell_type": "code",
      "source": [
        "items[\"genre\"] = items[\"genres\"].str.lower().str.replace(\", \", \",\", regex=False).str.split(\",\")\n",
        "genre_feature = items[[\"item_id\", \"genre\"]].explode(\"genre\")\n",
        "genre_feature.columns = [\"id\", \"value\"]\n",
        "genre_feature[\"feature\"] = \"genre\"\n",
        "genre_feature.head()"
      ],
      "metadata": {
        "colab": {
          "base_uri": "https://localhost:8080/",
          "height": 206
        },
        "id": "rmIieInIWK4C",
        "outputId": "09b0df8a-7018-4ab7-8ef0-715c1a812fd7"
      },
      "id": "rmIieInIWK4C",
      "execution_count": 12,
      "outputs": [
        {
          "output_type": "execute_result",
          "data": {
            "text/plain": [
              "      id       value feature\n",
              "0  10711       драмы   genre\n",
              "0  10711  зарубежные   genre\n",
              "0  10711   детективы   genre\n",
              "0  10711   мелодрамы   genre\n",
              "1   2508  зарубежные   genre"
            ],
            "text/html": [
              "\n",
              "  <div id=\"df-2377cf04-b6ea-402a-9176-07d905145bfd\">\n",
              "    <div class=\"colab-df-container\">\n",
              "      <div>\n",
              "<style scoped>\n",
              "    .dataframe tbody tr th:only-of-type {\n",
              "        vertical-align: middle;\n",
              "    }\n",
              "\n",
              "    .dataframe tbody tr th {\n",
              "        vertical-align: top;\n",
              "    }\n",
              "\n",
              "    .dataframe thead th {\n",
              "        text-align: right;\n",
              "    }\n",
              "</style>\n",
              "<table border=\"1\" class=\"dataframe\">\n",
              "  <thead>\n",
              "    <tr style=\"text-align: right;\">\n",
              "      <th></th>\n",
              "      <th>id</th>\n",
              "      <th>value</th>\n",
              "      <th>feature</th>\n",
              "    </tr>\n",
              "  </thead>\n",
              "  <tbody>\n",
              "    <tr>\n",
              "      <th>0</th>\n",
              "      <td>10711</td>\n",
              "      <td>драмы</td>\n",
              "      <td>genre</td>\n",
              "    </tr>\n",
              "    <tr>\n",
              "      <th>0</th>\n",
              "      <td>10711</td>\n",
              "      <td>зарубежные</td>\n",
              "      <td>genre</td>\n",
              "    </tr>\n",
              "    <tr>\n",
              "      <th>0</th>\n",
              "      <td>10711</td>\n",
              "      <td>детективы</td>\n",
              "      <td>genre</td>\n",
              "    </tr>\n",
              "    <tr>\n",
              "      <th>0</th>\n",
              "      <td>10711</td>\n",
              "      <td>мелодрамы</td>\n",
              "      <td>genre</td>\n",
              "    </tr>\n",
              "    <tr>\n",
              "      <th>1</th>\n",
              "      <td>2508</td>\n",
              "      <td>зарубежные</td>\n",
              "      <td>genre</td>\n",
              "    </tr>\n",
              "  </tbody>\n",
              "</table>\n",
              "</div>\n",
              "      <button class=\"colab-df-convert\" onclick=\"convertToInteractive('df-2377cf04-b6ea-402a-9176-07d905145bfd')\"\n",
              "              title=\"Convert this dataframe to an interactive table.\"\n",
              "              style=\"display:none;\">\n",
              "        \n",
              "  <svg xmlns=\"http://www.w3.org/2000/svg\" height=\"24px\"viewBox=\"0 0 24 24\"\n",
              "       width=\"24px\">\n",
              "    <path d=\"M0 0h24v24H0V0z\" fill=\"none\"/>\n",
              "    <path d=\"M18.56 5.44l.94 2.06.94-2.06 2.06-.94-2.06-.94-.94-2.06-.94 2.06-2.06.94zm-11 1L8.5 8.5l.94-2.06 2.06-.94-2.06-.94L8.5 2.5l-.94 2.06-2.06.94zm10 10l.94 2.06.94-2.06 2.06-.94-2.06-.94-.94-2.06-.94 2.06-2.06.94z\"/><path d=\"M17.41 7.96l-1.37-1.37c-.4-.4-.92-.59-1.43-.59-.52 0-1.04.2-1.43.59L10.3 9.45l-7.72 7.72c-.78.78-.78 2.05 0 2.83L4 21.41c.39.39.9.59 1.41.59.51 0 1.02-.2 1.41-.59l7.78-7.78 2.81-2.81c.8-.78.8-2.07 0-2.86zM5.41 20L4 18.59l7.72-7.72 1.47 1.35L5.41 20z\"/>\n",
              "  </svg>\n",
              "      </button>\n",
              "      \n",
              "  <style>\n",
              "    .colab-df-container {\n",
              "      display:flex;\n",
              "      flex-wrap:wrap;\n",
              "      gap: 12px;\n",
              "    }\n",
              "\n",
              "    .colab-df-convert {\n",
              "      background-color: #E8F0FE;\n",
              "      border: none;\n",
              "      border-radius: 50%;\n",
              "      cursor: pointer;\n",
              "      display: none;\n",
              "      fill: #1967D2;\n",
              "      height: 32px;\n",
              "      padding: 0 0 0 0;\n",
              "      width: 32px;\n",
              "    }\n",
              "\n",
              "    .colab-df-convert:hover {\n",
              "      background-color: #E2EBFA;\n",
              "      box-shadow: 0px 1px 2px rgba(60, 64, 67, 0.3), 0px 1px 3px 1px rgba(60, 64, 67, 0.15);\n",
              "      fill: #174EA6;\n",
              "    }\n",
              "\n",
              "    [theme=dark] .colab-df-convert {\n",
              "      background-color: #3B4455;\n",
              "      fill: #D2E3FC;\n",
              "    }\n",
              "\n",
              "    [theme=dark] .colab-df-convert:hover {\n",
              "      background-color: #434B5C;\n",
              "      box-shadow: 0px 1px 3px 1px rgba(0, 0, 0, 0.15);\n",
              "      filter: drop-shadow(0px 1px 2px rgba(0, 0, 0, 0.3));\n",
              "      fill: #FFFFFF;\n",
              "    }\n",
              "  </style>\n",
              "\n",
              "      <script>\n",
              "        const buttonEl =\n",
              "          document.querySelector('#df-2377cf04-b6ea-402a-9176-07d905145bfd button.colab-df-convert');\n",
              "        buttonEl.style.display =\n",
              "          google.colab.kernel.accessAllowed ? 'block' : 'none';\n",
              "\n",
              "        async function convertToInteractive(key) {\n",
              "          const element = document.querySelector('#df-2377cf04-b6ea-402a-9176-07d905145bfd');\n",
              "          const dataTable =\n",
              "            await google.colab.kernel.invokeFunction('convertToInteractive',\n",
              "                                                     [key], {});\n",
              "          if (!dataTable) return;\n",
              "\n",
              "          const docLinkHtml = 'Like what you see? Visit the ' +\n",
              "            '<a target=\"_blank\" href=https://colab.research.google.com/notebooks/data_table.ipynb>data table notebook</a>'\n",
              "            + ' to learn more about interactive tables.';\n",
              "          element.innerHTML = '';\n",
              "          dataTable['output_type'] = 'display_data';\n",
              "          await google.colab.output.renderOutput(dataTable, element);\n",
              "          const docLink = document.createElement('div');\n",
              "          docLink.innerHTML = docLinkHtml;\n",
              "          element.appendChild(docLink);\n",
              "        }\n",
              "      </script>\n",
              "    </div>\n",
              "  </div>\n",
              "  "
            ]
          },
          "metadata": {},
          "execution_count": 12
        }
      ]
    },
    {
      "cell_type": "code",
      "source": [
        "content_feature = items.reindex(columns=[Columns.Item, \"content_type\"])\n",
        "content_feature.columns = [\"id\", \"value\"]\n",
        "content_feature[\"feature\"] = \"content_type\""
      ],
      "metadata": {
        "id": "QdIowcRxWLtg"
      },
      "id": "QdIowcRxWLtg",
      "execution_count": 13,
      "outputs": []
    },
    {
      "cell_type": "code",
      "source": [
        "countries_feature = items.reindex(columns=[Columns.Item, \"countries\"])\n",
        "countries_feature.columns = [\"id\", \"value\"]\n",
        "countries_feature[\"feature\"] = \"countries\""
      ],
      "metadata": {
        "id": "ex8wXiItWNKr"
      },
      "id": "ex8wXiItWNKr",
      "execution_count": 14,
      "outputs": []
    },
    {
      "cell_type": "code",
      "source": [
        "item_features = pd.concat((genre_feature, content_feature, countries_feature))"
      ],
      "metadata": {
        "id": "TV3Y0OviWO1i"
      },
      "id": "TV3Y0OviWO1i",
      "execution_count": 15,
      "outputs": []
    },
    {
      "cell_type": "markdown",
      "source": [
        "### LightFM Model"
      ],
      "metadata": {
        "id": "GKV40QkiWUW1"
      },
      "id": "GKV40QkiWUW1"
    },
    {
      "cell_type": "code",
      "source": [
        "dataset = Dataset.construct(\n",
        "    interactions_df=interactions,\n",
        "    user_features_df=user_features,\n",
        "    cat_user_features=[\"sex\", \"age\", \"income\"],\n",
        "    item_features_df=item_features,\n",
        "    cat_item_features=[\"genre\", \"content_type\", \"countries\"],\n",
        ")\n",
        "\n",
        "TEST_USERS = test[Columns.User].unique()"
      ],
      "metadata": {
        "id": "QsFBKy-iWX9c"
      },
      "id": "QsFBKy-iWX9c",
      "execution_count": 16,
      "outputs": []
    },
    {
      "cell_type": "code",
      "source": [
        "# Лучшие параметры: {'no_components': 246, 'learning_rate': 0.020619039200214098, 'loss': 'warp'}\n",
        "model = LightFMWrapperModel(\n",
        "    LightFM(\n",
        "        no_components=246,\n",
        "        learning_rate=0.020619, \n",
        "        loss='warp',\n",
        "        rho=0.2,\n",
        "        epsilon = 1e-5,\n",
        "        user_alpha=0,\n",
        "        item_alpha=0,\n",
        "        random_state=42,\n",
        "    ),\n",
        "    epochs=1,\n",
        "    num_threads=16,\n",
        ")\n",
        "model.fit(dataset)"
      ],
      "metadata": {
        "colab": {
          "base_uri": "https://localhost:8080/"
        },
        "id": "xly8PIbqWZt2",
        "outputId": "bb71c011-35fd-4c46-a3b6-2a8da2d8a6ab"
      },
      "id": "xly8PIbqWZt2",
      "execution_count": 17,
      "outputs": [
        {
          "output_type": "execute_result",
          "data": {
            "text/plain": [
              "<rectools.models.lightfm.LightFMWrapperModel at 0x7f8867219d00>"
            ]
          },
          "metadata": {},
          "execution_count": 17
        }
      ]
    },
    {
      "cell_type": "code",
      "source": [
        "user_embeddings, item_embeddings = model.get_vectors(dataset)\n",
        "\n",
        "user_id_map = dataset.user_id_map.to_internal\n",
        "item_id_map = dataset.item_id_map.to_internal\n",
        "item_id_inv_map = {idx:item_id for item_id, idx in item_id_map.items()}"
      ],
      "metadata": {
        "id": "QvV79iAtXR0N"
      },
      "id": "QvV79iAtXR0N",
      "execution_count": 18,
      "outputs": []
    },
    {
      "cell_type": "code",
      "source": [
        "output = user_embeddings[9].dot(item_embeddings.T)\n",
        "recs = (-output).argsort()[:10]\n",
        "recs = [item_id_inv_map[item_id] for item_id in recs]\n",
        "recs"
      ],
      "metadata": {
        "colab": {
          "base_uri": "https://localhost:8080/"
        },
        "id": "SB8qg8HkXUZU",
        "outputId": "54122708-bf89-4c03-960b-798ffa96fa98"
      },
      "id": "SB8qg8HkXUZU",
      "execution_count": 19,
      "outputs": [
        {
          "output_type": "execute_result",
          "data": {
            "text/plain": [
              "[10440, 13865, 15297, 9728, 2657, 9996, 4151, 142, 8636, 4740]"
            ]
          },
          "metadata": {},
          "execution_count": 19
        }
      ]
    },
    {
      "cell_type": "code",
      "source": [
        "# сохраним модель для онлайн выдачи\n",
        "with open('lightfm_model.dill', 'wb') as f:\n",
        "    dill.dump(model, f)"
      ],
      "metadata": {
        "id": "UP221hS6aD41"
      },
      "id": "UP221hS6aD41",
      "execution_count": 32,
      "outputs": []
    },
    {
      "cell_type": "code",
      "source": [
        "# проверим, что модель выдает рекомендации для user_id = 10347 \n",
        "model.recommend(pd.DataFrame([10347])[0], dataset, k=10, filter_viewed = True)\n"
      ],
      "metadata": {
        "colab": {
          "base_uri": "https://localhost:8080/",
          "height": 363
        },
        "id": "_XN5IBWgaR4Y",
        "outputId": "cb35c38d-e72d-4b67-b4d4-73a670627e8a"
      },
      "id": "_XN5IBWgaR4Y",
      "execution_count": 33,
      "outputs": [
        {
          "output_type": "execute_result",
          "data": {
            "text/plain": [
              "   user_id  item_id     score  rank\n",
              "0    10347    10440  5.116018     1\n",
              "1    10347     9728  4.996714     2\n",
              "2    10347    15297  4.906498     3\n",
              "3    10347    13865  4.828973     4\n",
              "4    10347     3734  4.732056     5\n",
              "5    10347     4151  4.707777     6\n",
              "6    10347     2657  4.463011     7\n",
              "7    10347     4880  4.427715     8\n",
              "8    10347     1844  4.357654     9\n",
              "9    10347    14741  4.317762    10"
            ],
            "text/html": [
              "\n",
              "  <div id=\"df-0b0dedfa-ead5-45e1-a365-0fa0f71894fa\">\n",
              "    <div class=\"colab-df-container\">\n",
              "      <div>\n",
              "<style scoped>\n",
              "    .dataframe tbody tr th:only-of-type {\n",
              "        vertical-align: middle;\n",
              "    }\n",
              "\n",
              "    .dataframe tbody tr th {\n",
              "        vertical-align: top;\n",
              "    }\n",
              "\n",
              "    .dataframe thead th {\n",
              "        text-align: right;\n",
              "    }\n",
              "</style>\n",
              "<table border=\"1\" class=\"dataframe\">\n",
              "  <thead>\n",
              "    <tr style=\"text-align: right;\">\n",
              "      <th></th>\n",
              "      <th>user_id</th>\n",
              "      <th>item_id</th>\n",
              "      <th>score</th>\n",
              "      <th>rank</th>\n",
              "    </tr>\n",
              "  </thead>\n",
              "  <tbody>\n",
              "    <tr>\n",
              "      <th>0</th>\n",
              "      <td>10347</td>\n",
              "      <td>10440</td>\n",
              "      <td>5.116018</td>\n",
              "      <td>1</td>\n",
              "    </tr>\n",
              "    <tr>\n",
              "      <th>1</th>\n",
              "      <td>10347</td>\n",
              "      <td>9728</td>\n",
              "      <td>4.996714</td>\n",
              "      <td>2</td>\n",
              "    </tr>\n",
              "    <tr>\n",
              "      <th>2</th>\n",
              "      <td>10347</td>\n",
              "      <td>15297</td>\n",
              "      <td>4.906498</td>\n",
              "      <td>3</td>\n",
              "    </tr>\n",
              "    <tr>\n",
              "      <th>3</th>\n",
              "      <td>10347</td>\n",
              "      <td>13865</td>\n",
              "      <td>4.828973</td>\n",
              "      <td>4</td>\n",
              "    </tr>\n",
              "    <tr>\n",
              "      <th>4</th>\n",
              "      <td>10347</td>\n",
              "      <td>3734</td>\n",
              "      <td>4.732056</td>\n",
              "      <td>5</td>\n",
              "    </tr>\n",
              "    <tr>\n",
              "      <th>5</th>\n",
              "      <td>10347</td>\n",
              "      <td>4151</td>\n",
              "      <td>4.707777</td>\n",
              "      <td>6</td>\n",
              "    </tr>\n",
              "    <tr>\n",
              "      <th>6</th>\n",
              "      <td>10347</td>\n",
              "      <td>2657</td>\n",
              "      <td>4.463011</td>\n",
              "      <td>7</td>\n",
              "    </tr>\n",
              "    <tr>\n",
              "      <th>7</th>\n",
              "      <td>10347</td>\n",
              "      <td>4880</td>\n",
              "      <td>4.427715</td>\n",
              "      <td>8</td>\n",
              "    </tr>\n",
              "    <tr>\n",
              "      <th>8</th>\n",
              "      <td>10347</td>\n",
              "      <td>1844</td>\n",
              "      <td>4.357654</td>\n",
              "      <td>9</td>\n",
              "    </tr>\n",
              "    <tr>\n",
              "      <th>9</th>\n",
              "      <td>10347</td>\n",
              "      <td>14741</td>\n",
              "      <td>4.317762</td>\n",
              "      <td>10</td>\n",
              "    </tr>\n",
              "  </tbody>\n",
              "</table>\n",
              "</div>\n",
              "      <button class=\"colab-df-convert\" onclick=\"convertToInteractive('df-0b0dedfa-ead5-45e1-a365-0fa0f71894fa')\"\n",
              "              title=\"Convert this dataframe to an interactive table.\"\n",
              "              style=\"display:none;\">\n",
              "        \n",
              "  <svg xmlns=\"http://www.w3.org/2000/svg\" height=\"24px\"viewBox=\"0 0 24 24\"\n",
              "       width=\"24px\">\n",
              "    <path d=\"M0 0h24v24H0V0z\" fill=\"none\"/>\n",
              "    <path d=\"M18.56 5.44l.94 2.06.94-2.06 2.06-.94-2.06-.94-.94-2.06-.94 2.06-2.06.94zm-11 1L8.5 8.5l.94-2.06 2.06-.94-2.06-.94L8.5 2.5l-.94 2.06-2.06.94zm10 10l.94 2.06.94-2.06 2.06-.94-2.06-.94-.94-2.06-.94 2.06-2.06.94z\"/><path d=\"M17.41 7.96l-1.37-1.37c-.4-.4-.92-.59-1.43-.59-.52 0-1.04.2-1.43.59L10.3 9.45l-7.72 7.72c-.78.78-.78 2.05 0 2.83L4 21.41c.39.39.9.59 1.41.59.51 0 1.02-.2 1.41-.59l7.78-7.78 2.81-2.81c.8-.78.8-2.07 0-2.86zM5.41 20L4 18.59l7.72-7.72 1.47 1.35L5.41 20z\"/>\n",
              "  </svg>\n",
              "      </button>\n",
              "      \n",
              "  <style>\n",
              "    .colab-df-container {\n",
              "      display:flex;\n",
              "      flex-wrap:wrap;\n",
              "      gap: 12px;\n",
              "    }\n",
              "\n",
              "    .colab-df-convert {\n",
              "      background-color: #E8F0FE;\n",
              "      border: none;\n",
              "      border-radius: 50%;\n",
              "      cursor: pointer;\n",
              "      display: none;\n",
              "      fill: #1967D2;\n",
              "      height: 32px;\n",
              "      padding: 0 0 0 0;\n",
              "      width: 32px;\n",
              "    }\n",
              "\n",
              "    .colab-df-convert:hover {\n",
              "      background-color: #E2EBFA;\n",
              "      box-shadow: 0px 1px 2px rgba(60, 64, 67, 0.3), 0px 1px 3px 1px rgba(60, 64, 67, 0.15);\n",
              "      fill: #174EA6;\n",
              "    }\n",
              "\n",
              "    [theme=dark] .colab-df-convert {\n",
              "      background-color: #3B4455;\n",
              "      fill: #D2E3FC;\n",
              "    }\n",
              "\n",
              "    [theme=dark] .colab-df-convert:hover {\n",
              "      background-color: #434B5C;\n",
              "      box-shadow: 0px 1px 3px 1px rgba(0, 0, 0, 0.15);\n",
              "      filter: drop-shadow(0px 1px 2px rgba(0, 0, 0, 0.3));\n",
              "      fill: #FFFFFF;\n",
              "    }\n",
              "  </style>\n",
              "\n",
              "      <script>\n",
              "        const buttonEl =\n",
              "          document.querySelector('#df-0b0dedfa-ead5-45e1-a365-0fa0f71894fa button.colab-df-convert');\n",
              "        buttonEl.style.display =\n",
              "          google.colab.kernel.accessAllowed ? 'block' : 'none';\n",
              "\n",
              "        async function convertToInteractive(key) {\n",
              "          const element = document.querySelector('#df-0b0dedfa-ead5-45e1-a365-0fa0f71894fa');\n",
              "          const dataTable =\n",
              "            await google.colab.kernel.invokeFunction('convertToInteractive',\n",
              "                                                     [key], {});\n",
              "          if (!dataTable) return;\n",
              "\n",
              "          const docLinkHtml = 'Like what you see? Visit the ' +\n",
              "            '<a target=\"_blank\" href=https://colab.research.google.com/notebooks/data_table.ipynb>data table notebook</a>'\n",
              "            + ' to learn more about interactive tables.';\n",
              "          element.innerHTML = '';\n",
              "          dataTable['output_type'] = 'display_data';\n",
              "          await google.colab.output.renderOutput(dataTable, element);\n",
              "          const docLink = document.createElement('div');\n",
              "          docLink.innerHTML = docLinkHtml;\n",
              "          element.appendChild(docLink);\n",
              "        }\n",
              "      </script>\n",
              "    </div>\n",
              "  </div>\n",
              "  "
            ]
          },
          "metadata": {},
          "execution_count": 33
        }
      ]
    },
    {
      "cell_type": "markdown",
      "source": [
        "## Приближенный поиск соседей"
      ],
      "metadata": {
        "id": "-zl_UE50XXsa"
      },
      "id": "-zl_UE50XXsa"
    },
    {
      "cell_type": "code",
      "source": [
        "!pip install nmslib"
      ],
      "metadata": {
        "colab": {
          "base_uri": "https://localhost:8080/"
        },
        "id": "FyLnQt1fXbw8",
        "outputId": "c950aa07-a27f-42b0-f777-c9bf3fd325ff"
      },
      "id": "FyLnQt1fXbw8",
      "execution_count": 21,
      "outputs": [
        {
          "output_type": "stream",
          "name": "stdout",
          "text": [
            "Looking in indexes: https://pypi.org/simple, https://us-python.pkg.dev/colab-wheels/public/simple/\n",
            "Requirement already satisfied: nmslib in /usr/local/lib/python3.9/dist-packages (2.1.1)\n",
            "Requirement already satisfied: psutil in /usr/local/lib/python3.9/dist-packages (from nmslib) (5.9.4)\n",
            "Requirement already satisfied: pybind11<2.6.2 in /usr/local/lib/python3.9/dist-packages (from nmslib) (2.6.1)\n",
            "Requirement already satisfied: numpy>=1.10.0 in /usr/local/lib/python3.9/dist-packages (from nmslib) (1.22.4)\n"
          ]
        }
      ]
    },
    {
      "cell_type": "code",
      "source": [
        "import nmslib"
      ],
      "metadata": {
        "id": "GupInI_EZT5e"
      },
      "id": "GupInI_EZT5e",
      "execution_count": 22,
      "outputs": []
    },
    {
      "cell_type": "code",
      "source": [
        "def augment_inner_product(factors):\n",
        "    normed_factors = np.linalg.norm(factors, axis=1)\n",
        "    max_norm = normed_factors.max()\n",
        "    \n",
        "    extra_dim = np.sqrt(max_norm ** 2 - normed_factors ** 2).reshape(-1, 1)\n",
        "    augmented_factors = np.append(factors, extra_dim, axis=1)\n",
        "    return max_norm, augmented_factors"
      ],
      "metadata": {
        "id": "oSW6eYLDZWV1"
      },
      "id": "oSW6eYLDZWV1",
      "execution_count": 23,
      "outputs": []
    },
    {
      "cell_type": "code",
      "source": [
        "max_norm, augmented_item_embeddings = augment_inner_product(item_embeddings)\n",
        "augmented_item_embeddings.shape"
      ],
      "metadata": {
        "colab": {
          "base_uri": "https://localhost:8080/"
        },
        "id": "ICs1AS4nZfOu",
        "outputId": "58b02add-0fa9-4557-e038-11129157570f"
      },
      "id": "ICs1AS4nZfOu",
      "execution_count": 24,
      "outputs": [
        {
          "output_type": "execute_result",
          "data": {
            "text/plain": [
              "(15706, 249)"
            ]
          },
          "metadata": {},
          "execution_count": 24
        }
      ]
    },
    {
      "cell_type": "code",
      "source": [
        "extra_zero = np.zeros((user_embeddings.shape[0], 1))\n",
        "augmented_user_embeddings = np.append(user_embeddings, extra_zero, axis=1)\n",
        "augmented_user_embeddings.shape\n"
      ],
      "metadata": {
        "colab": {
          "base_uri": "https://localhost:8080/"
        },
        "id": "2RSlAUn6ZjYo",
        "outputId": "e50318bb-c909-469c-b7d7-9fed058fae04"
      },
      "id": "2RSlAUn6ZjYo",
      "execution_count": 25,
      "outputs": [
        {
          "output_type": "execute_result",
          "data": {
            "text/plain": [
              "(962179, 249)"
            ]
          },
          "metadata": {},
          "execution_count": 25
        }
      ]
    },
    {
      "cell_type": "code",
      "source": [
        "M = 48\n",
        "efC = 128\n",
        "efS = 128\n",
        "K = 10\n",
        "num_threads = 4\n",
        "space_name='negdotprod'"
      ],
      "metadata": {
        "id": "1zxp76SnZlos"
      },
      "id": "1zxp76SnZlos",
      "execution_count": 26,
      "outputs": []
    },
    {
      "cell_type": "code",
      "source": [
        "# инициализирем nmslib\n",
        "index = nmslib.init(method='hnsw', space=space_name, data_type=nmslib.DataType.DENSE_VECTOR) \n",
        "index.addDataPointBatch(augmented_item_embeddings) \n",
        "\n",
        "# создаем индекс\n",
        "index_time_params = {'M': M, 'indexThreadQty': num_threads, 'efConstruction': efC}\n",
        "index.createIndex(index_time_params)"
      ],
      "metadata": {
        "id": "et3353teZnkz"
      },
      "id": "et3353teZnkz",
      "execution_count": 27,
      "outputs": []
    },
    {
      "cell_type": "code",
      "source": [
        "# задаем параметры для поиска\n",
        "query_time_params = {'efSearch': efS}\n",
        "index.setQueryTimeParams(query_time_params)"
      ],
      "metadata": {
        "id": "GAmel5i3Zpil"
      },
      "id": "GAmel5i3Zpil",
      "execution_count": 28,
      "outputs": []
    },
    {
      "cell_type": "code",
      "source": [
        "# получаем маппинги\n",
        "user_id_map = dataset.user_id_map.to_internal\n",
        "item_id_map = dataset.item_id_map.to_internal\n",
        "item_id_inv_map = {idx:item_id for item_id, idx in item_id_map.items()}"
      ],
      "metadata": {
        "id": "16HcWC3YZrm3"
      },
      "id": "16HcWC3YZrm3",
      "execution_count": 29,
      "outputs": []
    },
    {
      "cell_type": "code",
      "source": [
        "test_users = [user_id_map[user] for user in TEST_USERS[:5]]\n",
        "query_matrix = augmented_user_embeddings[test_users, :]\n",
        "nbrs = index.knnQueryBatch(query_matrix, k = K, num_threads = num_threads)"
      ],
      "metadata": {
        "id": "cRprM4d_ZupT"
      },
      "id": "cRprM4d_ZupT",
      "execution_count": 30,
      "outputs": []
    },
    {
      "cell_type": "code",
      "source": [
        "recs = [[item_id_inv_map[item] for item in user_nbrs[0]] for user_nbrs in nbrs]\n",
        "recs[:5]\n"
      ],
      "metadata": {
        "colab": {
          "base_uri": "https://localhost:8080/"
        },
        "id": "k80h2GWmZwsG",
        "outputId": "e07198a8-b223-49f4-cd91-4f9ad129dbe6"
      },
      "id": "k80h2GWmZwsG",
      "execution_count": 31,
      "outputs": [
        {
          "output_type": "execute_result",
          "data": {
            "text/plain": [
              "[[10440, 13865, 15297, 9728, 2657, 9996, 4151, 142, 8636, 4740],\n",
              " [9728, 10440, 13865, 15297, 3734, 4151, 4880, 2657, 6809, 142],\n",
              " [9728, 10440, 3734, 15297, 4151, 13865, 4880, 1844, 7571, 11237],\n",
              " [13865, 10440, 9728, 3734, 2657, 15297, 4880, 4151, 11237, 1819],\n",
              " [15297, 13865, 7571, 3182, 10440, 9728, 741, 4151, 16270, 7310]]"
            ]
          },
          "metadata": {},
          "execution_count": 31
        }
      ]
    },
    {
      "cell_type": "markdown",
      "source": [
        "## Тестовые юзеры – Аватары"
      ],
      "metadata": {
        "id": "X7WLQXIkn495"
      },
      "id": "X7WLQXIkn495"
    },
    {
      "cell_type": "code",
      "source": [
        "# сгенирируем подборку фильмов, которые смотрели аватары\n",
        "ussr_fan = items[(items.countries.isna() == False) & (items.countries.str.contains('СССР'))][:5]\n",
        "comedy_fan = items[(items.genres.isna() == False) & (items.genres.str.contains('комедии'))][:5]\n",
        "magic_fan = items[(items.age_rating <= 16.0) & (items.keywords.str.contains('волшеб|чар|маг', case=False))][:5]"
      ],
      "metadata": {
        "id": "MA04sZsZrVSB"
      },
      "id": "MA04sZsZrVSB",
      "execution_count": 16,
      "outputs": []
    },
    {
      "cell_type": "markdown",
      "source": [
        "Первый юзер – мужчина средних лет, предпочитающий смотреть фильмы, которые выпустили в СССР"
      ],
      "metadata": {
        "id": "ghng90TkwWsW"
      },
      "id": "ghng90TkwWsW"
    },
    {
      "cell_type": "code",
      "source": [
        "users = users.append({\n",
        "    Columns.User: 10000001,\n",
        "    'age': 'age_45_54',\n",
        "    'income': 'income_40_60',\n",
        "    'sex': 'M',\n",
        "    'kids_flg': 0\n",
        "}, ignore_index = True\n",
        ")"
      ],
      "metadata": {
        "id": "TG3YyFkgwZCx"
      },
      "id": "TG3YyFkgwZCx",
      "execution_count": 17,
      "outputs": []
    },
    {
      "cell_type": "code",
      "source": [
        "ussr_fan = items.loc[items['item_id'].isin(ussr_fan.item_id), \n",
        "          ['item_id', 'title', 'content_type', 'countries', 'genre']]"
      ],
      "metadata": {
        "id": "Tu8cX4GvxEZg"
      },
      "id": "Tu8cX4GvxEZg",
      "execution_count": 18,
      "outputs": []
    },
    {
      "cell_type": "code",
      "source": [
        "ussr_fan"
      ],
      "metadata": {
        "colab": {
          "base_uri": "https://localhost:8080/",
          "height": 206
        },
        "id": "5r3FHH2nxfMp",
        "outputId": "82da901c-e714-4ad8-dbb8-eb740806d4d6"
      },
      "id": "5r3FHH2nxfMp",
      "execution_count": 19,
      "outputs": [
        {
          "output_type": "execute_result",
          "data": {
            "text/plain": [
              "    item_id                              title content_type countries  \\\n",
              "4     16268               Все решает мгновение         film      СССР   \n",
              "6      1468                    Марья-искусница         film      СССР   \n",
              "13    16429                     Ярослав Мудрый         film      СССР   \n",
              "14     6181  Первая встреча, последняя встреча         film      СССР   \n",
              "29     6318     Днепровский ветер. Чары-камыши         film      СССР   \n",
              "\n",
              "                                                genre  \n",
              "4                [драмы, спорт, советские, мелодрамы]  \n",
              "6   [фильмы, сказки, приключения, советские, семей...  \n",
              "13  [для детей, драмы, исторические, советские, во...  \n",
              "14                        [драмы, советские, комедии]  \n",
              "29                 [драмы, русские, короткометражные]  "
            ],
            "text/html": [
              "\n",
              "  <div id=\"df-a7e5be73-4523-4ecf-9548-e3212824d6e8\">\n",
              "    <div class=\"colab-df-container\">\n",
              "      <div>\n",
              "<style scoped>\n",
              "    .dataframe tbody tr th:only-of-type {\n",
              "        vertical-align: middle;\n",
              "    }\n",
              "\n",
              "    .dataframe tbody tr th {\n",
              "        vertical-align: top;\n",
              "    }\n",
              "\n",
              "    .dataframe thead th {\n",
              "        text-align: right;\n",
              "    }\n",
              "</style>\n",
              "<table border=\"1\" class=\"dataframe\">\n",
              "  <thead>\n",
              "    <tr style=\"text-align: right;\">\n",
              "      <th></th>\n",
              "      <th>item_id</th>\n",
              "      <th>title</th>\n",
              "      <th>content_type</th>\n",
              "      <th>countries</th>\n",
              "      <th>genre</th>\n",
              "    </tr>\n",
              "  </thead>\n",
              "  <tbody>\n",
              "    <tr>\n",
              "      <th>4</th>\n",
              "      <td>16268</td>\n",
              "      <td>Все решает мгновение</td>\n",
              "      <td>film</td>\n",
              "      <td>СССР</td>\n",
              "      <td>[драмы, спорт, советские, мелодрамы]</td>\n",
              "    </tr>\n",
              "    <tr>\n",
              "      <th>6</th>\n",
              "      <td>1468</td>\n",
              "      <td>Марья-искусница</td>\n",
              "      <td>film</td>\n",
              "      <td>СССР</td>\n",
              "      <td>[фильмы, сказки, приключения, советские, семей...</td>\n",
              "    </tr>\n",
              "    <tr>\n",
              "      <th>13</th>\n",
              "      <td>16429</td>\n",
              "      <td>Ярослав Мудрый</td>\n",
              "      <td>film</td>\n",
              "      <td>СССР</td>\n",
              "      <td>[для детей, драмы, исторические, советские, во...</td>\n",
              "    </tr>\n",
              "    <tr>\n",
              "      <th>14</th>\n",
              "      <td>6181</td>\n",
              "      <td>Первая встреча, последняя встреча</td>\n",
              "      <td>film</td>\n",
              "      <td>СССР</td>\n",
              "      <td>[драмы, советские, комедии]</td>\n",
              "    </tr>\n",
              "    <tr>\n",
              "      <th>29</th>\n",
              "      <td>6318</td>\n",
              "      <td>Днепровский ветер. Чары-камыши</td>\n",
              "      <td>film</td>\n",
              "      <td>СССР</td>\n",
              "      <td>[драмы, русские, короткометражные]</td>\n",
              "    </tr>\n",
              "  </tbody>\n",
              "</table>\n",
              "</div>\n",
              "      <button class=\"colab-df-convert\" onclick=\"convertToInteractive('df-a7e5be73-4523-4ecf-9548-e3212824d6e8')\"\n",
              "              title=\"Convert this dataframe to an interactive table.\"\n",
              "              style=\"display:none;\">\n",
              "        \n",
              "  <svg xmlns=\"http://www.w3.org/2000/svg\" height=\"24px\"viewBox=\"0 0 24 24\"\n",
              "       width=\"24px\">\n",
              "    <path d=\"M0 0h24v24H0V0z\" fill=\"none\"/>\n",
              "    <path d=\"M18.56 5.44l.94 2.06.94-2.06 2.06-.94-2.06-.94-.94-2.06-.94 2.06-2.06.94zm-11 1L8.5 8.5l.94-2.06 2.06-.94-2.06-.94L8.5 2.5l-.94 2.06-2.06.94zm10 10l.94 2.06.94-2.06 2.06-.94-2.06-.94-.94-2.06-.94 2.06-2.06.94z\"/><path d=\"M17.41 7.96l-1.37-1.37c-.4-.4-.92-.59-1.43-.59-.52 0-1.04.2-1.43.59L10.3 9.45l-7.72 7.72c-.78.78-.78 2.05 0 2.83L4 21.41c.39.39.9.59 1.41.59.51 0 1.02-.2 1.41-.59l7.78-7.78 2.81-2.81c.8-.78.8-2.07 0-2.86zM5.41 20L4 18.59l7.72-7.72 1.47 1.35L5.41 20z\"/>\n",
              "  </svg>\n",
              "      </button>\n",
              "      \n",
              "  <style>\n",
              "    .colab-df-container {\n",
              "      display:flex;\n",
              "      flex-wrap:wrap;\n",
              "      gap: 12px;\n",
              "    }\n",
              "\n",
              "    .colab-df-convert {\n",
              "      background-color: #E8F0FE;\n",
              "      border: none;\n",
              "      border-radius: 50%;\n",
              "      cursor: pointer;\n",
              "      display: none;\n",
              "      fill: #1967D2;\n",
              "      height: 32px;\n",
              "      padding: 0 0 0 0;\n",
              "      width: 32px;\n",
              "    }\n",
              "\n",
              "    .colab-df-convert:hover {\n",
              "      background-color: #E2EBFA;\n",
              "      box-shadow: 0px 1px 2px rgba(60, 64, 67, 0.3), 0px 1px 3px 1px rgba(60, 64, 67, 0.15);\n",
              "      fill: #174EA6;\n",
              "    }\n",
              "\n",
              "    [theme=dark] .colab-df-convert {\n",
              "      background-color: #3B4455;\n",
              "      fill: #D2E3FC;\n",
              "    }\n",
              "\n",
              "    [theme=dark] .colab-df-convert:hover {\n",
              "      background-color: #434B5C;\n",
              "      box-shadow: 0px 1px 3px 1px rgba(0, 0, 0, 0.15);\n",
              "      filter: drop-shadow(0px 1px 2px rgba(0, 0, 0, 0.3));\n",
              "      fill: #FFFFFF;\n",
              "    }\n",
              "  </style>\n",
              "\n",
              "      <script>\n",
              "        const buttonEl =\n",
              "          document.querySelector('#df-a7e5be73-4523-4ecf-9548-e3212824d6e8 button.colab-df-convert');\n",
              "        buttonEl.style.display =\n",
              "          google.colab.kernel.accessAllowed ? 'block' : 'none';\n",
              "\n",
              "        async function convertToInteractive(key) {\n",
              "          const element = document.querySelector('#df-a7e5be73-4523-4ecf-9548-e3212824d6e8');\n",
              "          const dataTable =\n",
              "            await google.colab.kernel.invokeFunction('convertToInteractive',\n",
              "                                                     [key], {});\n",
              "          if (!dataTable) return;\n",
              "\n",
              "          const docLinkHtml = 'Like what you see? Visit the ' +\n",
              "            '<a target=\"_blank\" href=https://colab.research.google.com/notebooks/data_table.ipynb>data table notebook</a>'\n",
              "            + ' to learn more about interactive tables.';\n",
              "          element.innerHTML = '';\n",
              "          dataTable['output_type'] = 'display_data';\n",
              "          await google.colab.output.renderOutput(dataTable, element);\n",
              "          const docLink = document.createElement('div');\n",
              "          docLink.innerHTML = docLinkHtml;\n",
              "          element.appendChild(docLink);\n",
              "        }\n",
              "      </script>\n",
              "    </div>\n",
              "  </div>\n",
              "  "
            ]
          },
          "metadata": {},
          "execution_count": 19
        }
      ]
    },
    {
      "cell_type": "code",
      "source": [
        "first_avatar = pd.DataFrame({\n",
        "    'user_id': np.full(5, fill_value=10000001),\n",
        "    'item_id': ussr_fan.item_id,\n",
        "    'last_watch_dt': np.full(5, fill_value='2021-03-21'),\n",
        "    'total_dur': np.full(5, fill_value=np.nan),\n",
        "    'watched_pct': [80.0, 9.0, 50.0, 90.0, 8.0],\n",
        "    'weight': [3, 1, 3, 3, 1]\n",
        "    }\n",
        ")\n",
        "\n",
        "first_avatar[Columns.Datetime] = pd.to_datetime(first_avatar[Columns.Datetime], format='%Y-%m-%d')"
      ],
      "metadata": {
        "id": "8z9Q7mILwviY"
      },
      "id": "8z9Q7mILwviY",
      "execution_count": 20,
      "outputs": []
    },
    {
      "cell_type": "markdown",
      "source": [
        "Второй юзер – молодая девушка, предпочитающая смотреть комедии"
      ],
      "metadata": {
        "id": "T2rnPb-gyAEo"
      },
      "id": "T2rnPb-gyAEo"
    },
    {
      "cell_type": "code",
      "source": [
        "users = users.append({\n",
        "    Columns.User: 10000002,\n",
        "    'age': 'age_25_34',\n",
        "    'income': 'income_40_60',\n",
        "    'sex': 'Ж',\n",
        "    'kids_flg': 0\n",
        "}, ignore_index = True\n",
        ")"
      ],
      "metadata": {
        "id": "Pb_HcVrryAf4"
      },
      "id": "Pb_HcVrryAf4",
      "execution_count": 21,
      "outputs": []
    },
    {
      "cell_type": "code",
      "source": [
        "comedy_fan = items.loc[items['item_id'].isin(comedy_fan.item_id), \n",
        "          ['item_id', 'title', 'content_type', 'countries', 'genre']]"
      ],
      "metadata": {
        "id": "xOzie6DTyVz8"
      },
      "id": "xOzie6DTyVz8",
      "execution_count": 22,
      "outputs": []
    },
    {
      "cell_type": "code",
      "source": [
        "comedy_fan"
      ],
      "metadata": {
        "colab": {
          "base_uri": "https://localhost:8080/",
          "height": 206
        },
        "id": "DEsVUshcyaSb",
        "outputId": "6e7b1009-55dd-4ba5-917e-a94661672214"
      },
      "id": "DEsVUshcyaSb",
      "execution_count": 23,
      "outputs": [
        {
          "output_type": "execute_result",
          "data": {
            "text/plain": [
              "    item_id                              title content_type countries  \\\n",
              "1      2508                        Голые перцы         film       США   \n",
              "2     10716                   Тактическая сила         film    Канада   \n",
              "14     6181  Первая встреча, последняя встреча         film      СССР   \n",
              "15    15076                           Бладфест         film       США   \n",
              "23    13109             Новый парень моей мамы         film  Германия   \n",
              "\n",
              "                                                genre  \n",
              "1                  [зарубежные, приключения, комедии]  \n",
              "2   [криминал, зарубежные, триллеры, боевики, коме...  \n",
              "14                        [драмы, советские, комедии]  \n",
              "15                       [зарубежные, ужасы, комедии]  \n",
              "23         [мелодрамы, зарубежные, криминал, комедии]  "
            ],
            "text/html": [
              "\n",
              "  <div id=\"df-80c4f689-4fb2-4f02-bcda-92351de2bd0e\">\n",
              "    <div class=\"colab-df-container\">\n",
              "      <div>\n",
              "<style scoped>\n",
              "    .dataframe tbody tr th:only-of-type {\n",
              "        vertical-align: middle;\n",
              "    }\n",
              "\n",
              "    .dataframe tbody tr th {\n",
              "        vertical-align: top;\n",
              "    }\n",
              "\n",
              "    .dataframe thead th {\n",
              "        text-align: right;\n",
              "    }\n",
              "</style>\n",
              "<table border=\"1\" class=\"dataframe\">\n",
              "  <thead>\n",
              "    <tr style=\"text-align: right;\">\n",
              "      <th></th>\n",
              "      <th>item_id</th>\n",
              "      <th>title</th>\n",
              "      <th>content_type</th>\n",
              "      <th>countries</th>\n",
              "      <th>genre</th>\n",
              "    </tr>\n",
              "  </thead>\n",
              "  <tbody>\n",
              "    <tr>\n",
              "      <th>1</th>\n",
              "      <td>2508</td>\n",
              "      <td>Голые перцы</td>\n",
              "      <td>film</td>\n",
              "      <td>США</td>\n",
              "      <td>[зарубежные, приключения, комедии]</td>\n",
              "    </tr>\n",
              "    <tr>\n",
              "      <th>2</th>\n",
              "      <td>10716</td>\n",
              "      <td>Тактическая сила</td>\n",
              "      <td>film</td>\n",
              "      <td>Канада</td>\n",
              "      <td>[криминал, зарубежные, триллеры, боевики, коме...</td>\n",
              "    </tr>\n",
              "    <tr>\n",
              "      <th>14</th>\n",
              "      <td>6181</td>\n",
              "      <td>Первая встреча, последняя встреча</td>\n",
              "      <td>film</td>\n",
              "      <td>СССР</td>\n",
              "      <td>[драмы, советские, комедии]</td>\n",
              "    </tr>\n",
              "    <tr>\n",
              "      <th>15</th>\n",
              "      <td>15076</td>\n",
              "      <td>Бладфест</td>\n",
              "      <td>film</td>\n",
              "      <td>США</td>\n",
              "      <td>[зарубежные, ужасы, комедии]</td>\n",
              "    </tr>\n",
              "    <tr>\n",
              "      <th>23</th>\n",
              "      <td>13109</td>\n",
              "      <td>Новый парень моей мамы</td>\n",
              "      <td>film</td>\n",
              "      <td>Германия</td>\n",
              "      <td>[мелодрамы, зарубежные, криминал, комедии]</td>\n",
              "    </tr>\n",
              "  </tbody>\n",
              "</table>\n",
              "</div>\n",
              "      <button class=\"colab-df-convert\" onclick=\"convertToInteractive('df-80c4f689-4fb2-4f02-bcda-92351de2bd0e')\"\n",
              "              title=\"Convert this dataframe to an interactive table.\"\n",
              "              style=\"display:none;\">\n",
              "        \n",
              "  <svg xmlns=\"http://www.w3.org/2000/svg\" height=\"24px\"viewBox=\"0 0 24 24\"\n",
              "       width=\"24px\">\n",
              "    <path d=\"M0 0h24v24H0V0z\" fill=\"none\"/>\n",
              "    <path d=\"M18.56 5.44l.94 2.06.94-2.06 2.06-.94-2.06-.94-.94-2.06-.94 2.06-2.06.94zm-11 1L8.5 8.5l.94-2.06 2.06-.94-2.06-.94L8.5 2.5l-.94 2.06-2.06.94zm10 10l.94 2.06.94-2.06 2.06-.94-2.06-.94-.94-2.06-.94 2.06-2.06.94z\"/><path d=\"M17.41 7.96l-1.37-1.37c-.4-.4-.92-.59-1.43-.59-.52 0-1.04.2-1.43.59L10.3 9.45l-7.72 7.72c-.78.78-.78 2.05 0 2.83L4 21.41c.39.39.9.59 1.41.59.51 0 1.02-.2 1.41-.59l7.78-7.78 2.81-2.81c.8-.78.8-2.07 0-2.86zM5.41 20L4 18.59l7.72-7.72 1.47 1.35L5.41 20z\"/>\n",
              "  </svg>\n",
              "      </button>\n",
              "      \n",
              "  <style>\n",
              "    .colab-df-container {\n",
              "      display:flex;\n",
              "      flex-wrap:wrap;\n",
              "      gap: 12px;\n",
              "    }\n",
              "\n",
              "    .colab-df-convert {\n",
              "      background-color: #E8F0FE;\n",
              "      border: none;\n",
              "      border-radius: 50%;\n",
              "      cursor: pointer;\n",
              "      display: none;\n",
              "      fill: #1967D2;\n",
              "      height: 32px;\n",
              "      padding: 0 0 0 0;\n",
              "      width: 32px;\n",
              "    }\n",
              "\n",
              "    .colab-df-convert:hover {\n",
              "      background-color: #E2EBFA;\n",
              "      box-shadow: 0px 1px 2px rgba(60, 64, 67, 0.3), 0px 1px 3px 1px rgba(60, 64, 67, 0.15);\n",
              "      fill: #174EA6;\n",
              "    }\n",
              "\n",
              "    [theme=dark] .colab-df-convert {\n",
              "      background-color: #3B4455;\n",
              "      fill: #D2E3FC;\n",
              "    }\n",
              "\n",
              "    [theme=dark] .colab-df-convert:hover {\n",
              "      background-color: #434B5C;\n",
              "      box-shadow: 0px 1px 3px 1px rgba(0, 0, 0, 0.15);\n",
              "      filter: drop-shadow(0px 1px 2px rgba(0, 0, 0, 0.3));\n",
              "      fill: #FFFFFF;\n",
              "    }\n",
              "  </style>\n",
              "\n",
              "      <script>\n",
              "        const buttonEl =\n",
              "          document.querySelector('#df-80c4f689-4fb2-4f02-bcda-92351de2bd0e button.colab-df-convert');\n",
              "        buttonEl.style.display =\n",
              "          google.colab.kernel.accessAllowed ? 'block' : 'none';\n",
              "\n",
              "        async function convertToInteractive(key) {\n",
              "          const element = document.querySelector('#df-80c4f689-4fb2-4f02-bcda-92351de2bd0e');\n",
              "          const dataTable =\n",
              "            await google.colab.kernel.invokeFunction('convertToInteractive',\n",
              "                                                     [key], {});\n",
              "          if (!dataTable) return;\n",
              "\n",
              "          const docLinkHtml = 'Like what you see? Visit the ' +\n",
              "            '<a target=\"_blank\" href=https://colab.research.google.com/notebooks/data_table.ipynb>data table notebook</a>'\n",
              "            + ' to learn more about interactive tables.';\n",
              "          element.innerHTML = '';\n",
              "          dataTable['output_type'] = 'display_data';\n",
              "          await google.colab.output.renderOutput(dataTable, element);\n",
              "          const docLink = document.createElement('div');\n",
              "          docLink.innerHTML = docLinkHtml;\n",
              "          element.appendChild(docLink);\n",
              "        }\n",
              "      </script>\n",
              "    </div>\n",
              "  </div>\n",
              "  "
            ]
          },
          "metadata": {},
          "execution_count": 23
        }
      ]
    },
    {
      "cell_type": "code",
      "source": [
        "second_avatar = pd.DataFrame({\n",
        "    'user_id': np.full(5, fill_value=10000002),\n",
        "    'item_id': comedy_fan.item_id,\n",
        "    'last_watch_dt': np.full(5, fill_value='2021-05-25'),\n",
        "    'total_dur': np.full(5, fill_value=np.nan),\n",
        "    'watched_pct': [100.0, 5.0, 30.0, 5.0, 90.0],\n",
        "    'weight': [3, 1, 3, 1, 3]\n",
        "    }\n",
        ")\n",
        "\n",
        "second_avatar[Columns.Datetime] = pd.to_datetime(second_avatar[Columns.Datetime], format='%Y-%m-%d')"
      ],
      "metadata": {
        "id": "613AFIqjyfl1"
      },
      "id": "613AFIqjyfl1",
      "execution_count": 24,
      "outputs": []
    },
    {
      "cell_type": "markdown",
      "source": [
        "Третий юзер – молодая девушка, предпочитающая смотреть фильмы и сериалы про волшебство и магию"
      ],
      "metadata": {
        "id": "jrU90Jcoy-sE"
      },
      "id": "jrU90Jcoy-sE"
    },
    {
      "cell_type": "code",
      "source": [
        "users = users.append({\n",
        "    Columns.User: 10000003,\n",
        "    'age': 'age_25_34',\n",
        "    'income': 'income_40_60',\n",
        "    'sex': 'Ж',\n",
        "    'kids_flg': 0\n",
        "}, ignore_index = True\n",
        ")"
      ],
      "metadata": {
        "id": "9Mb0KeEezLpA"
      },
      "id": "9Mb0KeEezLpA",
      "execution_count": 25,
      "outputs": []
    },
    {
      "cell_type": "code",
      "source": [
        "magic_fan = items.loc[items['item_id'].isin(magic_fan.item_id), \n",
        "          ['item_id', 'title', 'content_type', 'countries', 'genre']]"
      ],
      "metadata": {
        "id": "RZIqBst4zNxN"
      },
      "id": "RZIqBst4zNxN",
      "execution_count": 26,
      "outputs": []
    },
    {
      "cell_type": "code",
      "source": [
        "magic_fan"
      ],
      "metadata": {
        "colab": {
          "base_uri": "https://localhost:8080/",
          "height": 302
        },
        "id": "2T5TgwRqzid2",
        "outputId": "5ccd5028-2c76-40a0-a5d5-aebb39b77ba0"
      },
      "id": "2T5TgwRqzid2",
      "execution_count": 27,
      "outputs": [
        {
          "output_type": "execute_result",
          "data": {
            "text/plain": [
              "    item_id                                              title content_type  \\\n",
              "7     11114              Принцесса Лебедь: Пират или принцесса         film   \n",
              "19    15261  Спящая красавица. Легенда двух королевств: Лед...         film   \n",
              "20     2635                            Рождество трех медведей         film   \n",
              "29     6318                     Днепровский ветер. Чары-камыши         film   \n",
              "53     5780                                       Теория хаоса         film   \n",
              "\n",
              "   countries                                              genre  \n",
              "7        США  [для детей, сказки, полнометражные, зарубежные...  \n",
              "19    Россия  [русские, сказки, фильмы-спектакли, мюзиклы, с...  \n",
              "20       США  [фильмы, для детей, сказки, зарубежные, семейное]  \n",
              "29      СССР                 [драмы, русские, короткометражные]  \n",
              "53       США                        [драмы, мелодрамы, комедии]  "
            ],
            "text/html": [
              "\n",
              "  <div id=\"df-ac3dada5-edde-4760-b028-451d5e31a096\">\n",
              "    <div class=\"colab-df-container\">\n",
              "      <div>\n",
              "<style scoped>\n",
              "    .dataframe tbody tr th:only-of-type {\n",
              "        vertical-align: middle;\n",
              "    }\n",
              "\n",
              "    .dataframe tbody tr th {\n",
              "        vertical-align: top;\n",
              "    }\n",
              "\n",
              "    .dataframe thead th {\n",
              "        text-align: right;\n",
              "    }\n",
              "</style>\n",
              "<table border=\"1\" class=\"dataframe\">\n",
              "  <thead>\n",
              "    <tr style=\"text-align: right;\">\n",
              "      <th></th>\n",
              "      <th>item_id</th>\n",
              "      <th>title</th>\n",
              "      <th>content_type</th>\n",
              "      <th>countries</th>\n",
              "      <th>genre</th>\n",
              "    </tr>\n",
              "  </thead>\n",
              "  <tbody>\n",
              "    <tr>\n",
              "      <th>7</th>\n",
              "      <td>11114</td>\n",
              "      <td>Принцесса Лебедь: Пират или принцесса</td>\n",
              "      <td>film</td>\n",
              "      <td>США</td>\n",
              "      <td>[для детей, сказки, полнометражные, зарубежные...</td>\n",
              "    </tr>\n",
              "    <tr>\n",
              "      <th>19</th>\n",
              "      <td>15261</td>\n",
              "      <td>Спящая красавица. Легенда двух королевств: Лед...</td>\n",
              "      <td>film</td>\n",
              "      <td>Россия</td>\n",
              "      <td>[русские, сказки, фильмы-спектакли, мюзиклы, с...</td>\n",
              "    </tr>\n",
              "    <tr>\n",
              "      <th>20</th>\n",
              "      <td>2635</td>\n",
              "      <td>Рождество трех медведей</td>\n",
              "      <td>film</td>\n",
              "      <td>США</td>\n",
              "      <td>[фильмы, для детей, сказки, зарубежные, семейное]</td>\n",
              "    </tr>\n",
              "    <tr>\n",
              "      <th>29</th>\n",
              "      <td>6318</td>\n",
              "      <td>Днепровский ветер. Чары-камыши</td>\n",
              "      <td>film</td>\n",
              "      <td>СССР</td>\n",
              "      <td>[драмы, русские, короткометражные]</td>\n",
              "    </tr>\n",
              "    <tr>\n",
              "      <th>53</th>\n",
              "      <td>5780</td>\n",
              "      <td>Теория хаоса</td>\n",
              "      <td>film</td>\n",
              "      <td>США</td>\n",
              "      <td>[драмы, мелодрамы, комедии]</td>\n",
              "    </tr>\n",
              "  </tbody>\n",
              "</table>\n",
              "</div>\n",
              "      <button class=\"colab-df-convert\" onclick=\"convertToInteractive('df-ac3dada5-edde-4760-b028-451d5e31a096')\"\n",
              "              title=\"Convert this dataframe to an interactive table.\"\n",
              "              style=\"display:none;\">\n",
              "        \n",
              "  <svg xmlns=\"http://www.w3.org/2000/svg\" height=\"24px\"viewBox=\"0 0 24 24\"\n",
              "       width=\"24px\">\n",
              "    <path d=\"M0 0h24v24H0V0z\" fill=\"none\"/>\n",
              "    <path d=\"M18.56 5.44l.94 2.06.94-2.06 2.06-.94-2.06-.94-.94-2.06-.94 2.06-2.06.94zm-11 1L8.5 8.5l.94-2.06 2.06-.94-2.06-.94L8.5 2.5l-.94 2.06-2.06.94zm10 10l.94 2.06.94-2.06 2.06-.94-2.06-.94-.94-2.06-.94 2.06-2.06.94z\"/><path d=\"M17.41 7.96l-1.37-1.37c-.4-.4-.92-.59-1.43-.59-.52 0-1.04.2-1.43.59L10.3 9.45l-7.72 7.72c-.78.78-.78 2.05 0 2.83L4 21.41c.39.39.9.59 1.41.59.51 0 1.02-.2 1.41-.59l7.78-7.78 2.81-2.81c.8-.78.8-2.07 0-2.86zM5.41 20L4 18.59l7.72-7.72 1.47 1.35L5.41 20z\"/>\n",
              "  </svg>\n",
              "      </button>\n",
              "      \n",
              "  <style>\n",
              "    .colab-df-container {\n",
              "      display:flex;\n",
              "      flex-wrap:wrap;\n",
              "      gap: 12px;\n",
              "    }\n",
              "\n",
              "    .colab-df-convert {\n",
              "      background-color: #E8F0FE;\n",
              "      border: none;\n",
              "      border-radius: 50%;\n",
              "      cursor: pointer;\n",
              "      display: none;\n",
              "      fill: #1967D2;\n",
              "      height: 32px;\n",
              "      padding: 0 0 0 0;\n",
              "      width: 32px;\n",
              "    }\n",
              "\n",
              "    .colab-df-convert:hover {\n",
              "      background-color: #E2EBFA;\n",
              "      box-shadow: 0px 1px 2px rgba(60, 64, 67, 0.3), 0px 1px 3px 1px rgba(60, 64, 67, 0.15);\n",
              "      fill: #174EA6;\n",
              "    }\n",
              "\n",
              "    [theme=dark] .colab-df-convert {\n",
              "      background-color: #3B4455;\n",
              "      fill: #D2E3FC;\n",
              "    }\n",
              "\n",
              "    [theme=dark] .colab-df-convert:hover {\n",
              "      background-color: #434B5C;\n",
              "      box-shadow: 0px 1px 3px 1px rgba(0, 0, 0, 0.15);\n",
              "      filter: drop-shadow(0px 1px 2px rgba(0, 0, 0, 0.3));\n",
              "      fill: #FFFFFF;\n",
              "    }\n",
              "  </style>\n",
              "\n",
              "      <script>\n",
              "        const buttonEl =\n",
              "          document.querySelector('#df-ac3dada5-edde-4760-b028-451d5e31a096 button.colab-df-convert');\n",
              "        buttonEl.style.display =\n",
              "          google.colab.kernel.accessAllowed ? 'block' : 'none';\n",
              "\n",
              "        async function convertToInteractive(key) {\n",
              "          const element = document.querySelector('#df-ac3dada5-edde-4760-b028-451d5e31a096');\n",
              "          const dataTable =\n",
              "            await google.colab.kernel.invokeFunction('convertToInteractive',\n",
              "                                                     [key], {});\n",
              "          if (!dataTable) return;\n",
              "\n",
              "          const docLinkHtml = 'Like what you see? Visit the ' +\n",
              "            '<a target=\"_blank\" href=https://colab.research.google.com/notebooks/data_table.ipynb>data table notebook</a>'\n",
              "            + ' to learn more about interactive tables.';\n",
              "          element.innerHTML = '';\n",
              "          dataTable['output_type'] = 'display_data';\n",
              "          await google.colab.output.renderOutput(dataTable, element);\n",
              "          const docLink = document.createElement('div');\n",
              "          docLink.innerHTML = docLinkHtml;\n",
              "          element.appendChild(docLink);\n",
              "        }\n",
              "      </script>\n",
              "    </div>\n",
              "  </div>\n",
              "  "
            ]
          },
          "metadata": {},
          "execution_count": 27
        }
      ]
    },
    {
      "cell_type": "code",
      "source": [
        "third_avatar = pd.DataFrame({\n",
        "    'user_id': np.full(5, fill_value=10000003),\n",
        "    'item_id': magic_fan.item_id,\n",
        "    'last_watch_dt': np.full(5, fill_value='2021-07-25'),\n",
        "    'total_dur': np.full(5, fill_value=np.nan),\n",
        "    'watched_pct': [8.0, 100.0, 30.0, 5.0, 90.0],\n",
        "    'weight': [1, 3, 3, 1, 3]\n",
        "    }\n",
        ")\n",
        "\n",
        "third_avatar[Columns.Datetime] = pd.to_datetime(third_avatar[Columns.Datetime], format='%Y-%m-%d')"
      ],
      "metadata": {
        "id": "mq9dTj0sz7_m"
      },
      "id": "mq9dTj0sz7_m",
      "execution_count": 28,
      "outputs": []
    },
    {
      "cell_type": "code",
      "source": [
        "avatars = pd.concat((first_avatar, second_avatar, third_avatar))\n",
        "train = train.append(avatars, ignore_index = True) "
      ],
      "metadata": {
        "id": "Sc6nsBaH0ShY"
      },
      "id": "Sc6nsBaH0ShY",
      "execution_count": 29,
      "outputs": []
    },
    {
      "cell_type": "code",
      "source": [
        "avatars"
      ],
      "metadata": {
        "colab": {
          "base_uri": "https://localhost:8080/",
          "height": 520
        },
        "id": "CQILr-OK0Uw6",
        "outputId": "0c60b540-a499-41f4-c05f-c38febae8f88"
      },
      "id": "CQILr-OK0Uw6",
      "execution_count": 30,
      "outputs": [
        {
          "output_type": "execute_result",
          "data": {
            "text/plain": [
              "     user_id  item_id last_watch_dt  total_dur  watched_pct  weight\n",
              "4   10000001    16268    2021-03-21        NaN         80.0       3\n",
              "6   10000001     1468    2021-03-21        NaN          9.0       1\n",
              "13  10000001    16429    2021-03-21        NaN         50.0       3\n",
              "14  10000001     6181    2021-03-21        NaN         90.0       3\n",
              "29  10000001     6318    2021-03-21        NaN          8.0       1\n",
              "1   10000002     2508    2021-05-25        NaN        100.0       3\n",
              "2   10000002    10716    2021-05-25        NaN          5.0       1\n",
              "14  10000002     6181    2021-05-25        NaN         30.0       3\n",
              "15  10000002    15076    2021-05-25        NaN          5.0       1\n",
              "23  10000002    13109    2021-05-25        NaN         90.0       3\n",
              "7   10000003    11114    2021-07-25        NaN          8.0       1\n",
              "19  10000003    15261    2021-07-25        NaN        100.0       3\n",
              "20  10000003     2635    2021-07-25        NaN         30.0       3\n",
              "29  10000003     6318    2021-07-25        NaN          5.0       1\n",
              "53  10000003     5780    2021-07-25        NaN         90.0       3"
            ],
            "text/html": [
              "\n",
              "  <div id=\"df-6bf320aa-c440-4d26-b617-e4503decf651\">\n",
              "    <div class=\"colab-df-container\">\n",
              "      <div>\n",
              "<style scoped>\n",
              "    .dataframe tbody tr th:only-of-type {\n",
              "        vertical-align: middle;\n",
              "    }\n",
              "\n",
              "    .dataframe tbody tr th {\n",
              "        vertical-align: top;\n",
              "    }\n",
              "\n",
              "    .dataframe thead th {\n",
              "        text-align: right;\n",
              "    }\n",
              "</style>\n",
              "<table border=\"1\" class=\"dataframe\">\n",
              "  <thead>\n",
              "    <tr style=\"text-align: right;\">\n",
              "      <th></th>\n",
              "      <th>user_id</th>\n",
              "      <th>item_id</th>\n",
              "      <th>last_watch_dt</th>\n",
              "      <th>total_dur</th>\n",
              "      <th>watched_pct</th>\n",
              "      <th>weight</th>\n",
              "    </tr>\n",
              "  </thead>\n",
              "  <tbody>\n",
              "    <tr>\n",
              "      <th>4</th>\n",
              "      <td>10000001</td>\n",
              "      <td>16268</td>\n",
              "      <td>2021-03-21</td>\n",
              "      <td>NaN</td>\n",
              "      <td>80.0</td>\n",
              "      <td>3</td>\n",
              "    </tr>\n",
              "    <tr>\n",
              "      <th>6</th>\n",
              "      <td>10000001</td>\n",
              "      <td>1468</td>\n",
              "      <td>2021-03-21</td>\n",
              "      <td>NaN</td>\n",
              "      <td>9.0</td>\n",
              "      <td>1</td>\n",
              "    </tr>\n",
              "    <tr>\n",
              "      <th>13</th>\n",
              "      <td>10000001</td>\n",
              "      <td>16429</td>\n",
              "      <td>2021-03-21</td>\n",
              "      <td>NaN</td>\n",
              "      <td>50.0</td>\n",
              "      <td>3</td>\n",
              "    </tr>\n",
              "    <tr>\n",
              "      <th>14</th>\n",
              "      <td>10000001</td>\n",
              "      <td>6181</td>\n",
              "      <td>2021-03-21</td>\n",
              "      <td>NaN</td>\n",
              "      <td>90.0</td>\n",
              "      <td>3</td>\n",
              "    </tr>\n",
              "    <tr>\n",
              "      <th>29</th>\n",
              "      <td>10000001</td>\n",
              "      <td>6318</td>\n",
              "      <td>2021-03-21</td>\n",
              "      <td>NaN</td>\n",
              "      <td>8.0</td>\n",
              "      <td>1</td>\n",
              "    </tr>\n",
              "    <tr>\n",
              "      <th>1</th>\n",
              "      <td>10000002</td>\n",
              "      <td>2508</td>\n",
              "      <td>2021-05-25</td>\n",
              "      <td>NaN</td>\n",
              "      <td>100.0</td>\n",
              "      <td>3</td>\n",
              "    </tr>\n",
              "    <tr>\n",
              "      <th>2</th>\n",
              "      <td>10000002</td>\n",
              "      <td>10716</td>\n",
              "      <td>2021-05-25</td>\n",
              "      <td>NaN</td>\n",
              "      <td>5.0</td>\n",
              "      <td>1</td>\n",
              "    </tr>\n",
              "    <tr>\n",
              "      <th>14</th>\n",
              "      <td>10000002</td>\n",
              "      <td>6181</td>\n",
              "      <td>2021-05-25</td>\n",
              "      <td>NaN</td>\n",
              "      <td>30.0</td>\n",
              "      <td>3</td>\n",
              "    </tr>\n",
              "    <tr>\n",
              "      <th>15</th>\n",
              "      <td>10000002</td>\n",
              "      <td>15076</td>\n",
              "      <td>2021-05-25</td>\n",
              "      <td>NaN</td>\n",
              "      <td>5.0</td>\n",
              "      <td>1</td>\n",
              "    </tr>\n",
              "    <tr>\n",
              "      <th>23</th>\n",
              "      <td>10000002</td>\n",
              "      <td>13109</td>\n",
              "      <td>2021-05-25</td>\n",
              "      <td>NaN</td>\n",
              "      <td>90.0</td>\n",
              "      <td>3</td>\n",
              "    </tr>\n",
              "    <tr>\n",
              "      <th>7</th>\n",
              "      <td>10000003</td>\n",
              "      <td>11114</td>\n",
              "      <td>2021-07-25</td>\n",
              "      <td>NaN</td>\n",
              "      <td>8.0</td>\n",
              "      <td>1</td>\n",
              "    </tr>\n",
              "    <tr>\n",
              "      <th>19</th>\n",
              "      <td>10000003</td>\n",
              "      <td>15261</td>\n",
              "      <td>2021-07-25</td>\n",
              "      <td>NaN</td>\n",
              "      <td>100.0</td>\n",
              "      <td>3</td>\n",
              "    </tr>\n",
              "    <tr>\n",
              "      <th>20</th>\n",
              "      <td>10000003</td>\n",
              "      <td>2635</td>\n",
              "      <td>2021-07-25</td>\n",
              "      <td>NaN</td>\n",
              "      <td>30.0</td>\n",
              "      <td>3</td>\n",
              "    </tr>\n",
              "    <tr>\n",
              "      <th>29</th>\n",
              "      <td>10000003</td>\n",
              "      <td>6318</td>\n",
              "      <td>2021-07-25</td>\n",
              "      <td>NaN</td>\n",
              "      <td>5.0</td>\n",
              "      <td>1</td>\n",
              "    </tr>\n",
              "    <tr>\n",
              "      <th>53</th>\n",
              "      <td>10000003</td>\n",
              "      <td>5780</td>\n",
              "      <td>2021-07-25</td>\n",
              "      <td>NaN</td>\n",
              "      <td>90.0</td>\n",
              "      <td>3</td>\n",
              "    </tr>\n",
              "  </tbody>\n",
              "</table>\n",
              "</div>\n",
              "      <button class=\"colab-df-convert\" onclick=\"convertToInteractive('df-6bf320aa-c440-4d26-b617-e4503decf651')\"\n",
              "              title=\"Convert this dataframe to an interactive table.\"\n",
              "              style=\"display:none;\">\n",
              "        \n",
              "  <svg xmlns=\"http://www.w3.org/2000/svg\" height=\"24px\"viewBox=\"0 0 24 24\"\n",
              "       width=\"24px\">\n",
              "    <path d=\"M0 0h24v24H0V0z\" fill=\"none\"/>\n",
              "    <path d=\"M18.56 5.44l.94 2.06.94-2.06 2.06-.94-2.06-.94-.94-2.06-.94 2.06-2.06.94zm-11 1L8.5 8.5l.94-2.06 2.06-.94-2.06-.94L8.5 2.5l-.94 2.06-2.06.94zm10 10l.94 2.06.94-2.06 2.06-.94-2.06-.94-.94-2.06-.94 2.06-2.06.94z\"/><path d=\"M17.41 7.96l-1.37-1.37c-.4-.4-.92-.59-1.43-.59-.52 0-1.04.2-1.43.59L10.3 9.45l-7.72 7.72c-.78.78-.78 2.05 0 2.83L4 21.41c.39.39.9.59 1.41.59.51 0 1.02-.2 1.41-.59l7.78-7.78 2.81-2.81c.8-.78.8-2.07 0-2.86zM5.41 20L4 18.59l7.72-7.72 1.47 1.35L5.41 20z\"/>\n",
              "  </svg>\n",
              "      </button>\n",
              "      \n",
              "  <style>\n",
              "    .colab-df-container {\n",
              "      display:flex;\n",
              "      flex-wrap:wrap;\n",
              "      gap: 12px;\n",
              "    }\n",
              "\n",
              "    .colab-df-convert {\n",
              "      background-color: #E8F0FE;\n",
              "      border: none;\n",
              "      border-radius: 50%;\n",
              "      cursor: pointer;\n",
              "      display: none;\n",
              "      fill: #1967D2;\n",
              "      height: 32px;\n",
              "      padding: 0 0 0 0;\n",
              "      width: 32px;\n",
              "    }\n",
              "\n",
              "    .colab-df-convert:hover {\n",
              "      background-color: #E2EBFA;\n",
              "      box-shadow: 0px 1px 2px rgba(60, 64, 67, 0.3), 0px 1px 3px 1px rgba(60, 64, 67, 0.15);\n",
              "      fill: #174EA6;\n",
              "    }\n",
              "\n",
              "    [theme=dark] .colab-df-convert {\n",
              "      background-color: #3B4455;\n",
              "      fill: #D2E3FC;\n",
              "    }\n",
              "\n",
              "    [theme=dark] .colab-df-convert:hover {\n",
              "      background-color: #434B5C;\n",
              "      box-shadow: 0px 1px 3px 1px rgba(0, 0, 0, 0.15);\n",
              "      filter: drop-shadow(0px 1px 2px rgba(0, 0, 0, 0.3));\n",
              "      fill: #FFFFFF;\n",
              "    }\n",
              "  </style>\n",
              "\n",
              "      <script>\n",
              "        const buttonEl =\n",
              "          document.querySelector('#df-6bf320aa-c440-4d26-b617-e4503decf651 button.colab-df-convert');\n",
              "        buttonEl.style.display =\n",
              "          google.colab.kernel.accessAllowed ? 'block' : 'none';\n",
              "\n",
              "        async function convertToInteractive(key) {\n",
              "          const element = document.querySelector('#df-6bf320aa-c440-4d26-b617-e4503decf651');\n",
              "          const dataTable =\n",
              "            await google.colab.kernel.invokeFunction('convertToInteractive',\n",
              "                                                     [key], {});\n",
              "          if (!dataTable) return;\n",
              "\n",
              "          const docLinkHtml = 'Like what you see? Visit the ' +\n",
              "            '<a target=\"_blank\" href=https://colab.research.google.com/notebooks/data_table.ipynb>data table notebook</a>'\n",
              "            + ' to learn more about interactive tables.';\n",
              "          element.innerHTML = '';\n",
              "          dataTable['output_type'] = 'display_data';\n",
              "          await google.colab.output.renderOutput(dataTable, element);\n",
              "          const docLink = document.createElement('div');\n",
              "          docLink.innerHTML = docLinkHtml;\n",
              "          element.appendChild(docLink);\n",
              "        }\n",
              "      </script>\n",
              "    </div>\n",
              "  </div>\n",
              "  "
            ]
          },
          "metadata": {},
          "execution_count": 30
        }
      ]
    },
    {
      "cell_type": "code",
      "source": [
        "# соберем датасет\n",
        "dataset = Dataset.construct(\n",
        "    interactions_df=train,\n",
        "    user_features_df=user_features,\n",
        "    cat_user_features=[\"sex\", \"age\", \"income\"],\n",
        "    item_features_df=item_features,\n",
        "    cat_item_features=[\"genre\", \"content_type\", \"countries\"],\n",
        ")\n",
        "\n",
        "avatars_ids = avatars['user_id'].unique()"
      ],
      "metadata": {
        "id": "ZTAEKSx70pjc"
      },
      "id": "ZTAEKSx70pjc",
      "execution_count": 31,
      "outputs": []
    },
    {
      "cell_type": "code",
      "source": [
        "# обучим модель на новых данных\n",
        "model = LightFMWrapperModel(\n",
        "    LightFM(\n",
        "        no_components=246,\n",
        "        learning_rate=0.020619, \n",
        "        loss='warp',\n",
        "        rho=0.2,\n",
        "        epsilon = 1e-5,\n",
        "        user_alpha=0,\n",
        "        item_alpha=0,\n",
        "        random_state=42,\n",
        "    ),\n",
        "    epochs=1,\n",
        "    num_threads=16,\n",
        ")\n",
        "model.fit(dataset)\n",
        "recos = model.recommend(\n",
        "    users=avatars_ids,\n",
        "    dataset=dataset,\n",
        "    k=10,\n",
        "    filter_viewed=True,\n",
        ")"
      ],
      "metadata": {
        "id": "YN6e9xBX0tk9"
      },
      "id": "YN6e9xBX0tk9",
      "execution_count": 32,
      "outputs": []
    },
    {
      "cell_type": "code",
      "source": [
        "recs = recos.merge(\n",
        "    items[['item_id', 'title', 'content_type', 'countries', 'genre']], \n",
        "    on='item_id'\n",
        ").sort_values(['user_id', 'rank'])"
      ],
      "metadata": {
        "id": "_7Vt0QfI1NPQ"
      },
      "id": "_7Vt0QfI1NPQ",
      "execution_count": 33,
      "outputs": []
    },
    {
      "cell_type": "code",
      "source": [
        "# мужчина средних лет, предпочитающий смотреть фильмы, которые выпустили в СССР\n",
        "recs[recs['user_id'] == avatars_ids[0]]"
      ],
      "metadata": {
        "colab": {
          "base_uri": "https://localhost:8080/",
          "height": 494
        },
        "id": "OsV0-jgp1Ok0",
        "outputId": "0010f8d1-1a50-44fe-ce36-a65f2c57e955"
      },
      "id": "OsV0-jgp1Ok0",
      "execution_count": 34,
      "outputs": [
        {
          "output_type": "execute_result",
          "data": {
            "text/plain": [
              "     user_id  item_id     score  rank                         title  \\\n",
              "0   10000001    13865  2.887706     1                      Девятаев   \n",
              "2   10000001    15297  2.615153     2               Клиника счастья   \n",
              "4   10000001    10440  2.387885     3                   Хрустальный   \n",
              "5   10000001     7571  2.327745     4                     100% волк   \n",
              "7   10000001    12995  2.319194     5                  Восемь сотен   \n",
              "8   10000001     9728  2.297374     6             Гнев человеческий   \n",
              "9   10000001     4740  2.249405     7            Сахаров. Две жизни   \n",
              "10  10000001     2499  2.201396     8       Падал прошлогодний снег   \n",
              "11  10000001      142  2.199917     9                          Маша   \n",
              "12  10000001     3734  2.143441    10  Прабабушка легкого поведения   \n",
              "\n",
              "   content_type            countries  \\\n",
              "0          film               Россия   \n",
              "2        series               Россия   \n",
              "4        series               Россия   \n",
              "5          film   Австралия, Бельгия   \n",
              "7          film                Китай   \n",
              "8          film  Великобритания, США   \n",
              "9          film               Россия   \n",
              "10         film                 СССР   \n",
              "11         film               Россия   \n",
              "12         film               Россия   \n",
              "\n",
              "                                                genre  \n",
              "0                       [драмы, военные, приключения]  \n",
              "2                                  [драмы, мелодрамы]  \n",
              "4                               [триллеры, детективы]  \n",
              "5   [мультфильм, приключения, семейное, фэнтези, к...  \n",
              "7             [боевики, драмы, историческое, военные]  \n",
              "8                                 [боевики, триллеры]  \n",
              "9                                    [документальное]  \n",
              "10             [драмы, семейное, мультфильм, комедии]  \n",
              "11                                  [драмы, триллеры]  \n",
              "12                                          [комедии]  "
            ],
            "text/html": [
              "\n",
              "  <div id=\"df-1605ca9a-71e6-4efd-bc6b-f5f7ce4c52b4\">\n",
              "    <div class=\"colab-df-container\">\n",
              "      <div>\n",
              "<style scoped>\n",
              "    .dataframe tbody tr th:only-of-type {\n",
              "        vertical-align: middle;\n",
              "    }\n",
              "\n",
              "    .dataframe tbody tr th {\n",
              "        vertical-align: top;\n",
              "    }\n",
              "\n",
              "    .dataframe thead th {\n",
              "        text-align: right;\n",
              "    }\n",
              "</style>\n",
              "<table border=\"1\" class=\"dataframe\">\n",
              "  <thead>\n",
              "    <tr style=\"text-align: right;\">\n",
              "      <th></th>\n",
              "      <th>user_id</th>\n",
              "      <th>item_id</th>\n",
              "      <th>score</th>\n",
              "      <th>rank</th>\n",
              "      <th>title</th>\n",
              "      <th>content_type</th>\n",
              "      <th>countries</th>\n",
              "      <th>genre</th>\n",
              "    </tr>\n",
              "  </thead>\n",
              "  <tbody>\n",
              "    <tr>\n",
              "      <th>0</th>\n",
              "      <td>10000001</td>\n",
              "      <td>13865</td>\n",
              "      <td>2.887706</td>\n",
              "      <td>1</td>\n",
              "      <td>Девятаев</td>\n",
              "      <td>film</td>\n",
              "      <td>Россия</td>\n",
              "      <td>[драмы, военные, приключения]</td>\n",
              "    </tr>\n",
              "    <tr>\n",
              "      <th>2</th>\n",
              "      <td>10000001</td>\n",
              "      <td>15297</td>\n",
              "      <td>2.615153</td>\n",
              "      <td>2</td>\n",
              "      <td>Клиника счастья</td>\n",
              "      <td>series</td>\n",
              "      <td>Россия</td>\n",
              "      <td>[драмы, мелодрамы]</td>\n",
              "    </tr>\n",
              "    <tr>\n",
              "      <th>4</th>\n",
              "      <td>10000001</td>\n",
              "      <td>10440</td>\n",
              "      <td>2.387885</td>\n",
              "      <td>3</td>\n",
              "      <td>Хрустальный</td>\n",
              "      <td>series</td>\n",
              "      <td>Россия</td>\n",
              "      <td>[триллеры, детективы]</td>\n",
              "    </tr>\n",
              "    <tr>\n",
              "      <th>5</th>\n",
              "      <td>10000001</td>\n",
              "      <td>7571</td>\n",
              "      <td>2.327745</td>\n",
              "      <td>4</td>\n",
              "      <td>100% волк</td>\n",
              "      <td>film</td>\n",
              "      <td>Австралия, Бельгия</td>\n",
              "      <td>[мультфильм, приключения, семейное, фэнтези, к...</td>\n",
              "    </tr>\n",
              "    <tr>\n",
              "      <th>7</th>\n",
              "      <td>10000001</td>\n",
              "      <td>12995</td>\n",
              "      <td>2.319194</td>\n",
              "      <td>5</td>\n",
              "      <td>Восемь сотен</td>\n",
              "      <td>film</td>\n",
              "      <td>Китай</td>\n",
              "      <td>[боевики, драмы, историческое, военные]</td>\n",
              "    </tr>\n",
              "    <tr>\n",
              "      <th>8</th>\n",
              "      <td>10000001</td>\n",
              "      <td>9728</td>\n",
              "      <td>2.297374</td>\n",
              "      <td>6</td>\n",
              "      <td>Гнев человеческий</td>\n",
              "      <td>film</td>\n",
              "      <td>Великобритания, США</td>\n",
              "      <td>[боевики, триллеры]</td>\n",
              "    </tr>\n",
              "    <tr>\n",
              "      <th>9</th>\n",
              "      <td>10000001</td>\n",
              "      <td>4740</td>\n",
              "      <td>2.249405</td>\n",
              "      <td>7</td>\n",
              "      <td>Сахаров. Две жизни</td>\n",
              "      <td>film</td>\n",
              "      <td>Россия</td>\n",
              "      <td>[документальное]</td>\n",
              "    </tr>\n",
              "    <tr>\n",
              "      <th>10</th>\n",
              "      <td>10000001</td>\n",
              "      <td>2499</td>\n",
              "      <td>2.201396</td>\n",
              "      <td>8</td>\n",
              "      <td>Падал прошлогодний снег</td>\n",
              "      <td>film</td>\n",
              "      <td>СССР</td>\n",
              "      <td>[драмы, семейное, мультфильм, комедии]</td>\n",
              "    </tr>\n",
              "    <tr>\n",
              "      <th>11</th>\n",
              "      <td>10000001</td>\n",
              "      <td>142</td>\n",
              "      <td>2.199917</td>\n",
              "      <td>9</td>\n",
              "      <td>Маша</td>\n",
              "      <td>film</td>\n",
              "      <td>Россия</td>\n",
              "      <td>[драмы, триллеры]</td>\n",
              "    </tr>\n",
              "    <tr>\n",
              "      <th>12</th>\n",
              "      <td>10000001</td>\n",
              "      <td>3734</td>\n",
              "      <td>2.143441</td>\n",
              "      <td>10</td>\n",
              "      <td>Прабабушка легкого поведения</td>\n",
              "      <td>film</td>\n",
              "      <td>Россия</td>\n",
              "      <td>[комедии]</td>\n",
              "    </tr>\n",
              "  </tbody>\n",
              "</table>\n",
              "</div>\n",
              "      <button class=\"colab-df-convert\" onclick=\"convertToInteractive('df-1605ca9a-71e6-4efd-bc6b-f5f7ce4c52b4')\"\n",
              "              title=\"Convert this dataframe to an interactive table.\"\n",
              "              style=\"display:none;\">\n",
              "        \n",
              "  <svg xmlns=\"http://www.w3.org/2000/svg\" height=\"24px\"viewBox=\"0 0 24 24\"\n",
              "       width=\"24px\">\n",
              "    <path d=\"M0 0h24v24H0V0z\" fill=\"none\"/>\n",
              "    <path d=\"M18.56 5.44l.94 2.06.94-2.06 2.06-.94-2.06-.94-.94-2.06-.94 2.06-2.06.94zm-11 1L8.5 8.5l.94-2.06 2.06-.94-2.06-.94L8.5 2.5l-.94 2.06-2.06.94zm10 10l.94 2.06.94-2.06 2.06-.94-2.06-.94-.94-2.06-.94 2.06-2.06.94z\"/><path d=\"M17.41 7.96l-1.37-1.37c-.4-.4-.92-.59-1.43-.59-.52 0-1.04.2-1.43.59L10.3 9.45l-7.72 7.72c-.78.78-.78 2.05 0 2.83L4 21.41c.39.39.9.59 1.41.59.51 0 1.02-.2 1.41-.59l7.78-7.78 2.81-2.81c.8-.78.8-2.07 0-2.86zM5.41 20L4 18.59l7.72-7.72 1.47 1.35L5.41 20z\"/>\n",
              "  </svg>\n",
              "      </button>\n",
              "      \n",
              "  <style>\n",
              "    .colab-df-container {\n",
              "      display:flex;\n",
              "      flex-wrap:wrap;\n",
              "      gap: 12px;\n",
              "    }\n",
              "\n",
              "    .colab-df-convert {\n",
              "      background-color: #E8F0FE;\n",
              "      border: none;\n",
              "      border-radius: 50%;\n",
              "      cursor: pointer;\n",
              "      display: none;\n",
              "      fill: #1967D2;\n",
              "      height: 32px;\n",
              "      padding: 0 0 0 0;\n",
              "      width: 32px;\n",
              "    }\n",
              "\n",
              "    .colab-df-convert:hover {\n",
              "      background-color: #E2EBFA;\n",
              "      box-shadow: 0px 1px 2px rgba(60, 64, 67, 0.3), 0px 1px 3px 1px rgba(60, 64, 67, 0.15);\n",
              "      fill: #174EA6;\n",
              "    }\n",
              "\n",
              "    [theme=dark] .colab-df-convert {\n",
              "      background-color: #3B4455;\n",
              "      fill: #D2E3FC;\n",
              "    }\n",
              "\n",
              "    [theme=dark] .colab-df-convert:hover {\n",
              "      background-color: #434B5C;\n",
              "      box-shadow: 0px 1px 3px 1px rgba(0, 0, 0, 0.15);\n",
              "      filter: drop-shadow(0px 1px 2px rgba(0, 0, 0, 0.3));\n",
              "      fill: #FFFFFF;\n",
              "    }\n",
              "  </style>\n",
              "\n",
              "      <script>\n",
              "        const buttonEl =\n",
              "          document.querySelector('#df-1605ca9a-71e6-4efd-bc6b-f5f7ce4c52b4 button.colab-df-convert');\n",
              "        buttonEl.style.display =\n",
              "          google.colab.kernel.accessAllowed ? 'block' : 'none';\n",
              "\n",
              "        async function convertToInteractive(key) {\n",
              "          const element = document.querySelector('#df-1605ca9a-71e6-4efd-bc6b-f5f7ce4c52b4');\n",
              "          const dataTable =\n",
              "            await google.colab.kernel.invokeFunction('convertToInteractive',\n",
              "                                                     [key], {});\n",
              "          if (!dataTable) return;\n",
              "\n",
              "          const docLinkHtml = 'Like what you see? Visit the ' +\n",
              "            '<a target=\"_blank\" href=https://colab.research.google.com/notebooks/data_table.ipynb>data table notebook</a>'\n",
              "            + ' to learn more about interactive tables.';\n",
              "          element.innerHTML = '';\n",
              "          dataTable['output_type'] = 'display_data';\n",
              "          await google.colab.output.renderOutput(dataTable, element);\n",
              "          const docLink = document.createElement('div');\n",
              "          docLink.innerHTML = docLinkHtml;\n",
              "          element.appendChild(docLink);\n",
              "        }\n",
              "      </script>\n",
              "    </div>\n",
              "  </div>\n",
              "  "
            ]
          },
          "metadata": {},
          "execution_count": 34
        }
      ]
    },
    {
      "cell_type": "markdown",
      "source": [
        "В целом, рекомендации можно назвать релевантными, потому что в основном предлагается посмотреть фильмы, выпущенные уже в России"
      ],
      "metadata": {
        "id": "BPuLZihp2jr8"
      },
      "id": "BPuLZihp2jr8"
    },
    {
      "cell_type": "code",
      "source": [
        "# молодая девушка, предпочитающая смотреть комедии\n",
        "recs[recs['user_id'] == avatars_ids[1]]"
      ],
      "metadata": {
        "colab": {
          "base_uri": "https://localhost:8080/",
          "height": 563
        },
        "id": "V0JdjueW1RWk",
        "outputId": "2a14b511-0a7b-4f0f-87b6-ba62acd47c99"
      },
      "id": "V0JdjueW1RWk",
      "execution_count": 35,
      "outputs": [
        {
          "output_type": "execute_result",
          "data": {
            "text/plain": [
              "     user_id  item_id     score  rank                           title  \\\n",
              "14  10000002     3797  2.206792     1      [4k] Плохие парни навсегда   \n",
              "15  10000002     5125  2.138105     2                           Фарго   \n",
              "16  10000002    12523  2.126241     3            Очень опасная штучка   \n",
              "17  10000002     7542  2.112513     4                 Опасная иллюзия   \n",
              "18  10000002     9755  2.070572     5                  Мачо и ботан 2   \n",
              "19  10000002    14804  2.043263     6              Криминальное чтиво   \n",
              "20  10000002     3778  2.018189     7                   Слепая ярость   \n",
              "21  10000002     2719  2.016123     8      По признакам совместимости   \n",
              "22  10000002     3120  1.998211     9                     Вне времени   \n",
              "23  10000002     7686  1.997270    10  Порнолоджи, или Милашка как ты   \n",
              "\n",
              "   content_type countries                                              genre  \n",
              "14         film       США  [криминал, зарубежные, триллеры, боевики, коме...  \n",
              "15         film       США   [криминал, драмы, зарубежные, триллеры, комедии]  \n",
              "16         film       США  [криминал, зарубежные, триллеры, мелодрамы, бо...  \n",
              "17         film       США  [криминал, драмы, зарубежные, триллеры, мелодр...  \n",
              "18         film       США           [боевики, зарубежные, криминал, комедии]  \n",
              "19         film       США          [зарубежные, триллеры, криминал, комедии]  \n",
              "20         film       США  [криминал, драмы, зарубежные, триллеры, боевик...  \n",
              "21         film       США                   [мелодрамы, зарубежные, комедии]  \n",
              "22         film       США  [криминал, детективы, драмы, зарубежные, трилл...  \n",
              "23         film       США                   [зарубежные, комедии, мелодрамы]  "
            ],
            "text/html": [
              "\n",
              "  <div id=\"df-1f3f19cc-b146-4e01-89f8-7ea831e34285\">\n",
              "    <div class=\"colab-df-container\">\n",
              "      <div>\n",
              "<style scoped>\n",
              "    .dataframe tbody tr th:only-of-type {\n",
              "        vertical-align: middle;\n",
              "    }\n",
              "\n",
              "    .dataframe tbody tr th {\n",
              "        vertical-align: top;\n",
              "    }\n",
              "\n",
              "    .dataframe thead th {\n",
              "        text-align: right;\n",
              "    }\n",
              "</style>\n",
              "<table border=\"1\" class=\"dataframe\">\n",
              "  <thead>\n",
              "    <tr style=\"text-align: right;\">\n",
              "      <th></th>\n",
              "      <th>user_id</th>\n",
              "      <th>item_id</th>\n",
              "      <th>score</th>\n",
              "      <th>rank</th>\n",
              "      <th>title</th>\n",
              "      <th>content_type</th>\n",
              "      <th>countries</th>\n",
              "      <th>genre</th>\n",
              "    </tr>\n",
              "  </thead>\n",
              "  <tbody>\n",
              "    <tr>\n",
              "      <th>14</th>\n",
              "      <td>10000002</td>\n",
              "      <td>3797</td>\n",
              "      <td>2.206792</td>\n",
              "      <td>1</td>\n",
              "      <td>[4k] Плохие парни навсегда</td>\n",
              "      <td>film</td>\n",
              "      <td>США</td>\n",
              "      <td>[криминал, зарубежные, триллеры, боевики, коме...</td>\n",
              "    </tr>\n",
              "    <tr>\n",
              "      <th>15</th>\n",
              "      <td>10000002</td>\n",
              "      <td>5125</td>\n",
              "      <td>2.138105</td>\n",
              "      <td>2</td>\n",
              "      <td>Фарго</td>\n",
              "      <td>film</td>\n",
              "      <td>США</td>\n",
              "      <td>[криминал, драмы, зарубежные, триллеры, комедии]</td>\n",
              "    </tr>\n",
              "    <tr>\n",
              "      <th>16</th>\n",
              "      <td>10000002</td>\n",
              "      <td>12523</td>\n",
              "      <td>2.126241</td>\n",
              "      <td>3</td>\n",
              "      <td>Очень опасная штучка</td>\n",
              "      <td>film</td>\n",
              "      <td>США</td>\n",
              "      <td>[криминал, зарубежные, триллеры, мелодрамы, бо...</td>\n",
              "    </tr>\n",
              "    <tr>\n",
              "      <th>17</th>\n",
              "      <td>10000002</td>\n",
              "      <td>7542</td>\n",
              "      <td>2.112513</td>\n",
              "      <td>4</td>\n",
              "      <td>Опасная иллюзия</td>\n",
              "      <td>film</td>\n",
              "      <td>США</td>\n",
              "      <td>[криминал, драмы, зарубежные, триллеры, мелодр...</td>\n",
              "    </tr>\n",
              "    <tr>\n",
              "      <th>18</th>\n",
              "      <td>10000002</td>\n",
              "      <td>9755</td>\n",
              "      <td>2.070572</td>\n",
              "      <td>5</td>\n",
              "      <td>Мачо и ботан 2</td>\n",
              "      <td>film</td>\n",
              "      <td>США</td>\n",
              "      <td>[боевики, зарубежные, криминал, комедии]</td>\n",
              "    </tr>\n",
              "    <tr>\n",
              "      <th>19</th>\n",
              "      <td>10000002</td>\n",
              "      <td>14804</td>\n",
              "      <td>2.043263</td>\n",
              "      <td>6</td>\n",
              "      <td>Криминальное чтиво</td>\n",
              "      <td>film</td>\n",
              "      <td>США</td>\n",
              "      <td>[зарубежные, триллеры, криминал, комедии]</td>\n",
              "    </tr>\n",
              "    <tr>\n",
              "      <th>20</th>\n",
              "      <td>10000002</td>\n",
              "      <td>3778</td>\n",
              "      <td>2.018189</td>\n",
              "      <td>7</td>\n",
              "      <td>Слепая ярость</td>\n",
              "      <td>film</td>\n",
              "      <td>США</td>\n",
              "      <td>[криминал, драмы, зарубежные, триллеры, боевик...</td>\n",
              "    </tr>\n",
              "    <tr>\n",
              "      <th>21</th>\n",
              "      <td>10000002</td>\n",
              "      <td>2719</td>\n",
              "      <td>2.016123</td>\n",
              "      <td>8</td>\n",
              "      <td>По признакам совместимости</td>\n",
              "      <td>film</td>\n",
              "      <td>США</td>\n",
              "      <td>[мелодрамы, зарубежные, комедии]</td>\n",
              "    </tr>\n",
              "    <tr>\n",
              "      <th>22</th>\n",
              "      <td>10000002</td>\n",
              "      <td>3120</td>\n",
              "      <td>1.998211</td>\n",
              "      <td>9</td>\n",
              "      <td>Вне времени</td>\n",
              "      <td>film</td>\n",
              "      <td>США</td>\n",
              "      <td>[криминал, детективы, драмы, зарубежные, трилл...</td>\n",
              "    </tr>\n",
              "    <tr>\n",
              "      <th>23</th>\n",
              "      <td>10000002</td>\n",
              "      <td>7686</td>\n",
              "      <td>1.997270</td>\n",
              "      <td>10</td>\n",
              "      <td>Порнолоджи, или Милашка как ты</td>\n",
              "      <td>film</td>\n",
              "      <td>США</td>\n",
              "      <td>[зарубежные, комедии, мелодрамы]</td>\n",
              "    </tr>\n",
              "  </tbody>\n",
              "</table>\n",
              "</div>\n",
              "      <button class=\"colab-df-convert\" onclick=\"convertToInteractive('df-1f3f19cc-b146-4e01-89f8-7ea831e34285')\"\n",
              "              title=\"Convert this dataframe to an interactive table.\"\n",
              "              style=\"display:none;\">\n",
              "        \n",
              "  <svg xmlns=\"http://www.w3.org/2000/svg\" height=\"24px\"viewBox=\"0 0 24 24\"\n",
              "       width=\"24px\">\n",
              "    <path d=\"M0 0h24v24H0V0z\" fill=\"none\"/>\n",
              "    <path d=\"M18.56 5.44l.94 2.06.94-2.06 2.06-.94-2.06-.94-.94-2.06-.94 2.06-2.06.94zm-11 1L8.5 8.5l.94-2.06 2.06-.94-2.06-.94L8.5 2.5l-.94 2.06-2.06.94zm10 10l.94 2.06.94-2.06 2.06-.94-2.06-.94-.94-2.06-.94 2.06-2.06.94z\"/><path d=\"M17.41 7.96l-1.37-1.37c-.4-.4-.92-.59-1.43-.59-.52 0-1.04.2-1.43.59L10.3 9.45l-7.72 7.72c-.78.78-.78 2.05 0 2.83L4 21.41c.39.39.9.59 1.41.59.51 0 1.02-.2 1.41-.59l7.78-7.78 2.81-2.81c.8-.78.8-2.07 0-2.86zM5.41 20L4 18.59l7.72-7.72 1.47 1.35L5.41 20z\"/>\n",
              "  </svg>\n",
              "      </button>\n",
              "      \n",
              "  <style>\n",
              "    .colab-df-container {\n",
              "      display:flex;\n",
              "      flex-wrap:wrap;\n",
              "      gap: 12px;\n",
              "    }\n",
              "\n",
              "    .colab-df-convert {\n",
              "      background-color: #E8F0FE;\n",
              "      border: none;\n",
              "      border-radius: 50%;\n",
              "      cursor: pointer;\n",
              "      display: none;\n",
              "      fill: #1967D2;\n",
              "      height: 32px;\n",
              "      padding: 0 0 0 0;\n",
              "      width: 32px;\n",
              "    }\n",
              "\n",
              "    .colab-df-convert:hover {\n",
              "      background-color: #E2EBFA;\n",
              "      box-shadow: 0px 1px 2px rgba(60, 64, 67, 0.3), 0px 1px 3px 1px rgba(60, 64, 67, 0.15);\n",
              "      fill: #174EA6;\n",
              "    }\n",
              "\n",
              "    [theme=dark] .colab-df-convert {\n",
              "      background-color: #3B4455;\n",
              "      fill: #D2E3FC;\n",
              "    }\n",
              "\n",
              "    [theme=dark] .colab-df-convert:hover {\n",
              "      background-color: #434B5C;\n",
              "      box-shadow: 0px 1px 3px 1px rgba(0, 0, 0, 0.15);\n",
              "      filter: drop-shadow(0px 1px 2px rgba(0, 0, 0, 0.3));\n",
              "      fill: #FFFFFF;\n",
              "    }\n",
              "  </style>\n",
              "\n",
              "      <script>\n",
              "        const buttonEl =\n",
              "          document.querySelector('#df-1f3f19cc-b146-4e01-89f8-7ea831e34285 button.colab-df-convert');\n",
              "        buttonEl.style.display =\n",
              "          google.colab.kernel.accessAllowed ? 'block' : 'none';\n",
              "\n",
              "        async function convertToInteractive(key) {\n",
              "          const element = document.querySelector('#df-1f3f19cc-b146-4e01-89f8-7ea831e34285');\n",
              "          const dataTable =\n",
              "            await google.colab.kernel.invokeFunction('convertToInteractive',\n",
              "                                                     [key], {});\n",
              "          if (!dataTable) return;\n",
              "\n",
              "          const docLinkHtml = 'Like what you see? Visit the ' +\n",
              "            '<a target=\"_blank\" href=https://colab.research.google.com/notebooks/data_table.ipynb>data table notebook</a>'\n",
              "            + ' to learn more about interactive tables.';\n",
              "          element.innerHTML = '';\n",
              "          dataTable['output_type'] = 'display_data';\n",
              "          await google.colab.output.renderOutput(dataTable, element);\n",
              "          const docLink = document.createElement('div');\n",
              "          docLink.innerHTML = docLinkHtml;\n",
              "          element.appendChild(docLink);\n",
              "        }\n",
              "      </script>\n",
              "    </div>\n",
              "  </div>\n",
              "  "
            ]
          },
          "metadata": {},
          "execution_count": 35
        }
      ]
    },
    {
      "cell_type": "markdown",
      "source": [
        "Возможно, из-за генерации не совсем правильной выборки просмотренных фильмов получилось так, что пользователю предлагаются фильмы, которые совмещают в себе несколько жанров, один из которых - комедия"
      ],
      "metadata": {
        "id": "zj9yrXZC20NU"
      },
      "id": "zj9yrXZC20NU"
    },
    {
      "cell_type": "code",
      "source": [
        "# молодая девушка, предпочитающая смотреть фильмы и сериалы про волшебство и магию\n",
        "recs[recs['user_id'] == avatars_ids[2]]"
      ],
      "metadata": {
        "colab": {
          "base_uri": "https://localhost:8080/",
          "height": 528
        },
        "id": "2SIuhW8l1i8L",
        "outputId": "8adc9abd-70d0-4a85-830b-a08a22996dfb"
      },
      "id": "2SIuhW8l1i8L",
      "execution_count": 36,
      "outputs": [
        {
          "output_type": "execute_result",
          "data": {
            "text/plain": [
              "     user_id  item_id     score  rank                         title  \\\n",
              "3   10000003    15297  3.021473     1               Клиника счастья   \n",
              "24  10000003     4151  2.860654     2        Секреты семейной жизни   \n",
              "13  10000003     3734  2.769945     3  Прабабушка легкого поведения   \n",
              "25  10000003     3182  2.767574     4        Ральф против Интернета   \n",
              "6   10000003     7571  2.762947     5                     100% волк   \n",
              "26  10000003     2151  2.748451     6           [4k] Губка Боб в 3D   \n",
              "27  10000003    15192  2.670235     7        [4k] Путеводная звезда   \n",
              "28  10000003    16166  2.668572     8                    Зверополис   \n",
              "29  10000003    13243  2.668092     9                   Головоломка   \n",
              "1   10000003    13865  2.642539    10                      Девятаев   \n",
              "\n",
              "   content_type           countries  \\\n",
              "3        series              Россия   \n",
              "24       series              Россия   \n",
              "13         film              Россия   \n",
              "25         film                 США   \n",
              "6          film  Австралия, Бельгия   \n",
              "26         film                 США   \n",
              "27         film                 США   \n",
              "28         film                 США   \n",
              "29         film                 США   \n",
              "1          film              Россия   \n",
              "\n",
              "                                                genre  \n",
              "3                                  [драмы, мелодрамы]  \n",
              "24                                          [комедии]  \n",
              "13                                          [комедии]  \n",
              "25  [мультфильм, приключения, фантастика, семейное...  \n",
              "6   [мультфильм, приключения, семейное, фэнтези, к...  \n",
              "26  [приключения, полнометражные, зарубежные, семе...  \n",
              "27  [для детей, про животных, полнометражные, прик...  \n",
              "28      [приключения, мультфильм, детективы, комедии]  \n",
              "29                  [фантастика, мультфильм, комедии]  \n",
              "1                       [драмы, военные, приключения]  "
            ],
            "text/html": [
              "\n",
              "  <div id=\"df-5c778010-a7d8-4a2f-8904-fcea3c992878\">\n",
              "    <div class=\"colab-df-container\">\n",
              "      <div>\n",
              "<style scoped>\n",
              "    .dataframe tbody tr th:only-of-type {\n",
              "        vertical-align: middle;\n",
              "    }\n",
              "\n",
              "    .dataframe tbody tr th {\n",
              "        vertical-align: top;\n",
              "    }\n",
              "\n",
              "    .dataframe thead th {\n",
              "        text-align: right;\n",
              "    }\n",
              "</style>\n",
              "<table border=\"1\" class=\"dataframe\">\n",
              "  <thead>\n",
              "    <tr style=\"text-align: right;\">\n",
              "      <th></th>\n",
              "      <th>user_id</th>\n",
              "      <th>item_id</th>\n",
              "      <th>score</th>\n",
              "      <th>rank</th>\n",
              "      <th>title</th>\n",
              "      <th>content_type</th>\n",
              "      <th>countries</th>\n",
              "      <th>genre</th>\n",
              "    </tr>\n",
              "  </thead>\n",
              "  <tbody>\n",
              "    <tr>\n",
              "      <th>3</th>\n",
              "      <td>10000003</td>\n",
              "      <td>15297</td>\n",
              "      <td>3.021473</td>\n",
              "      <td>1</td>\n",
              "      <td>Клиника счастья</td>\n",
              "      <td>series</td>\n",
              "      <td>Россия</td>\n",
              "      <td>[драмы, мелодрамы]</td>\n",
              "    </tr>\n",
              "    <tr>\n",
              "      <th>24</th>\n",
              "      <td>10000003</td>\n",
              "      <td>4151</td>\n",
              "      <td>2.860654</td>\n",
              "      <td>2</td>\n",
              "      <td>Секреты семейной жизни</td>\n",
              "      <td>series</td>\n",
              "      <td>Россия</td>\n",
              "      <td>[комедии]</td>\n",
              "    </tr>\n",
              "    <tr>\n",
              "      <th>13</th>\n",
              "      <td>10000003</td>\n",
              "      <td>3734</td>\n",
              "      <td>2.769945</td>\n",
              "      <td>3</td>\n",
              "      <td>Прабабушка легкого поведения</td>\n",
              "      <td>film</td>\n",
              "      <td>Россия</td>\n",
              "      <td>[комедии]</td>\n",
              "    </tr>\n",
              "    <tr>\n",
              "      <th>25</th>\n",
              "      <td>10000003</td>\n",
              "      <td>3182</td>\n",
              "      <td>2.767574</td>\n",
              "      <td>4</td>\n",
              "      <td>Ральф против Интернета</td>\n",
              "      <td>film</td>\n",
              "      <td>США</td>\n",
              "      <td>[мультфильм, приключения, фантастика, семейное...</td>\n",
              "    </tr>\n",
              "    <tr>\n",
              "      <th>6</th>\n",
              "      <td>10000003</td>\n",
              "      <td>7571</td>\n",
              "      <td>2.762947</td>\n",
              "      <td>5</td>\n",
              "      <td>100% волк</td>\n",
              "      <td>film</td>\n",
              "      <td>Австралия, Бельгия</td>\n",
              "      <td>[мультфильм, приключения, семейное, фэнтези, к...</td>\n",
              "    </tr>\n",
              "    <tr>\n",
              "      <th>26</th>\n",
              "      <td>10000003</td>\n",
              "      <td>2151</td>\n",
              "      <td>2.748451</td>\n",
              "      <td>6</td>\n",
              "      <td>[4k] Губка Боб в 3D</td>\n",
              "      <td>film</td>\n",
              "      <td>США</td>\n",
              "      <td>[приключения, полнометражные, зарубежные, семе...</td>\n",
              "    </tr>\n",
              "    <tr>\n",
              "      <th>27</th>\n",
              "      <td>10000003</td>\n",
              "      <td>15192</td>\n",
              "      <td>2.670235</td>\n",
              "      <td>7</td>\n",
              "      <td>[4k] Путеводная звезда</td>\n",
              "      <td>film</td>\n",
              "      <td>США</td>\n",
              "      <td>[для детей, про животных, полнометражные, прик...</td>\n",
              "    </tr>\n",
              "    <tr>\n",
              "      <th>28</th>\n",
              "      <td>10000003</td>\n",
              "      <td>16166</td>\n",
              "      <td>2.668572</td>\n",
              "      <td>8</td>\n",
              "      <td>Зверополис</td>\n",
              "      <td>film</td>\n",
              "      <td>США</td>\n",
              "      <td>[приключения, мультфильм, детективы, комедии]</td>\n",
              "    </tr>\n",
              "    <tr>\n",
              "      <th>29</th>\n",
              "      <td>10000003</td>\n",
              "      <td>13243</td>\n",
              "      <td>2.668092</td>\n",
              "      <td>9</td>\n",
              "      <td>Головоломка</td>\n",
              "      <td>film</td>\n",
              "      <td>США</td>\n",
              "      <td>[фантастика, мультфильм, комедии]</td>\n",
              "    </tr>\n",
              "    <tr>\n",
              "      <th>1</th>\n",
              "      <td>10000003</td>\n",
              "      <td>13865</td>\n",
              "      <td>2.642539</td>\n",
              "      <td>10</td>\n",
              "      <td>Девятаев</td>\n",
              "      <td>film</td>\n",
              "      <td>Россия</td>\n",
              "      <td>[драмы, военные, приключения]</td>\n",
              "    </tr>\n",
              "  </tbody>\n",
              "</table>\n",
              "</div>\n",
              "      <button class=\"colab-df-convert\" onclick=\"convertToInteractive('df-5c778010-a7d8-4a2f-8904-fcea3c992878')\"\n",
              "              title=\"Convert this dataframe to an interactive table.\"\n",
              "              style=\"display:none;\">\n",
              "        \n",
              "  <svg xmlns=\"http://www.w3.org/2000/svg\" height=\"24px\"viewBox=\"0 0 24 24\"\n",
              "       width=\"24px\">\n",
              "    <path d=\"M0 0h24v24H0V0z\" fill=\"none\"/>\n",
              "    <path d=\"M18.56 5.44l.94 2.06.94-2.06 2.06-.94-2.06-.94-.94-2.06-.94 2.06-2.06.94zm-11 1L8.5 8.5l.94-2.06 2.06-.94-2.06-.94L8.5 2.5l-.94 2.06-2.06.94zm10 10l.94 2.06.94-2.06 2.06-.94-2.06-.94-.94-2.06-.94 2.06-2.06.94z\"/><path d=\"M17.41 7.96l-1.37-1.37c-.4-.4-.92-.59-1.43-.59-.52 0-1.04.2-1.43.59L10.3 9.45l-7.72 7.72c-.78.78-.78 2.05 0 2.83L4 21.41c.39.39.9.59 1.41.59.51 0 1.02-.2 1.41-.59l7.78-7.78 2.81-2.81c.8-.78.8-2.07 0-2.86zM5.41 20L4 18.59l7.72-7.72 1.47 1.35L5.41 20z\"/>\n",
              "  </svg>\n",
              "      </button>\n",
              "      \n",
              "  <style>\n",
              "    .colab-df-container {\n",
              "      display:flex;\n",
              "      flex-wrap:wrap;\n",
              "      gap: 12px;\n",
              "    }\n",
              "\n",
              "    .colab-df-convert {\n",
              "      background-color: #E8F0FE;\n",
              "      border: none;\n",
              "      border-radius: 50%;\n",
              "      cursor: pointer;\n",
              "      display: none;\n",
              "      fill: #1967D2;\n",
              "      height: 32px;\n",
              "      padding: 0 0 0 0;\n",
              "      width: 32px;\n",
              "    }\n",
              "\n",
              "    .colab-df-convert:hover {\n",
              "      background-color: #E2EBFA;\n",
              "      box-shadow: 0px 1px 2px rgba(60, 64, 67, 0.3), 0px 1px 3px 1px rgba(60, 64, 67, 0.15);\n",
              "      fill: #174EA6;\n",
              "    }\n",
              "\n",
              "    [theme=dark] .colab-df-convert {\n",
              "      background-color: #3B4455;\n",
              "      fill: #D2E3FC;\n",
              "    }\n",
              "\n",
              "    [theme=dark] .colab-df-convert:hover {\n",
              "      background-color: #434B5C;\n",
              "      box-shadow: 0px 1px 3px 1px rgba(0, 0, 0, 0.15);\n",
              "      filter: drop-shadow(0px 1px 2px rgba(0, 0, 0, 0.3));\n",
              "      fill: #FFFFFF;\n",
              "    }\n",
              "  </style>\n",
              "\n",
              "      <script>\n",
              "        const buttonEl =\n",
              "          document.querySelector('#df-5c778010-a7d8-4a2f-8904-fcea3c992878 button.colab-df-convert');\n",
              "        buttonEl.style.display =\n",
              "          google.colab.kernel.accessAllowed ? 'block' : 'none';\n",
              "\n",
              "        async function convertToInteractive(key) {\n",
              "          const element = document.querySelector('#df-5c778010-a7d8-4a2f-8904-fcea3c992878');\n",
              "          const dataTable =\n",
              "            await google.colab.kernel.invokeFunction('convertToInteractive',\n",
              "                                                     [key], {});\n",
              "          if (!dataTable) return;\n",
              "\n",
              "          const docLinkHtml = 'Like what you see? Visit the ' +\n",
              "            '<a target=\"_blank\" href=https://colab.research.google.com/notebooks/data_table.ipynb>data table notebook</a>'\n",
              "            + ' to learn more about interactive tables.';\n",
              "          element.innerHTML = '';\n",
              "          dataTable['output_type'] = 'display_data';\n",
              "          await google.colab.output.renderOutput(dataTable, element);\n",
              "          const docLink = document.createElement('div');\n",
              "          docLink.innerHTML = docLinkHtml;\n",
              "          element.appendChild(docLink);\n",
              "        }\n",
              "      </script>\n",
              "    </div>\n",
              "  </div>\n",
              "  "
            ]
          },
          "metadata": {},
          "execution_count": 36
        }
      ]
    },
    {
      "cell_type": "markdown",
      "source": [
        "Сложно объяснить почему первые позиции по скору занимают, кажется, совсем нерелевантные позиции, но остальные рекомендации отражают вкусы пользователя - в основном это фэнтэзийные фильмы, которые тоже в какой-то степени отражают тему волшебства и магии"
      ],
      "metadata": {
        "id": "ilbdPsME3LCf"
      },
      "id": "ilbdPsME3LCf"
    },
    {
      "cell_type": "markdown",
      "source": [
        "## Холодные пользователи"
      ],
      "metadata": {
        "id": "B09EgAsZ3uTL"
      },
      "id": "B09EgAsZ3uTL"
    },
    {
      "cell_type": "markdown",
      "source": [
        "Основной вариант - предлагать популярное за последнее время (неделя, две недели, месяц)"
      ],
      "metadata": {
        "id": "5-cOdY-d3wXl"
      },
      "id": "5-cOdY-d3wXl"
    },
    {
      "cell_type": "code",
      "source": [
        "class Popular():\n",
        "    def __init__(self, max_K=10, days=7, item_column='item_id', dt_column=Columns.Datetime):\n",
        "        self.max_K = max_K\n",
        "        self.days = days\n",
        "        self.item_column = item_column\n",
        "        self.dt_column = dt_column\n",
        "        self.recommendations = []\n",
        "        \n",
        "    def fit(self, df, ):\n",
        "        min_date = df[self.dt_column].max().normalize() - pd.DateOffset(days=self.days)\n",
        "        self.recommendations = df.loc[df[self.dt_column] > min_date, self.item_column].value_counts().head(self.max_K).index.values\n",
        "    \n",
        "    def recommend(self, N=10):\n",
        "        recs = self.recommendations[:N]\n",
        "        return recs.tolist()"
      ],
      "metadata": {
        "id": "sEUZwtdN33W7"
      },
      "id": "sEUZwtdN33W7",
      "execution_count": 37,
      "outputs": []
    },
    {
      "cell_type": "code",
      "source": [
        "popular_model = Popular()\n",
        "popular_model.fit(interactions)\n",
        "popular_model.recommend()"
      ],
      "metadata": {
        "colab": {
          "base_uri": "https://localhost:8080/"
        },
        "id": "QsCa9GfF3-Mi",
        "outputId": "01712212-41e2-4813-9d40-3c851d452271"
      },
      "id": "QsCa9GfF3-Mi",
      "execution_count": 38,
      "outputs": [
        {
          "output_type": "execute_result",
          "data": {
            "text/plain": [
              "[9728, 15297, 10440, 14488, 13865, 12192, 341, 4151, 3734, 512]"
            ]
          },
          "metadata": {},
          "execution_count": 38
        }
      ]
    },
    {
      "cell_type": "markdown",
      "source": [
        "Таким образом пользователю будет предлагаться подборка популярного, если у него мало взаимодействий с айтемами"
      ],
      "metadata": {
        "id": "HjOL9deb4I34"
      },
      "id": "HjOL9deb4I34"
    }
  ],
  "metadata": {
    "kernelspec": {
      "display_name": "Python 3 (ipykernel)",
      "language": "python",
      "name": "python3"
    },
    "language_info": {
      "codemirror_mode": {
        "name": "ipython",
        "version": 3
      },
      "file_extension": ".py",
      "mimetype": "text/x-python",
      "name": "python",
      "nbconvert_exporter": "python",
      "pygments_lexer": "ipython3",
      "version": "3.9.13"
    },
    "colab": {
      "provenance": []
    },
    "accelerator": "GPU",
    "gpuClass": "standard"
  },
  "nbformat": 4,
  "nbformat_minor": 5
}