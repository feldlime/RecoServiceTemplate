{
 "cells": [
  {
   "cell_type": "code",
   "execution_count": 8,
   "id": "cc081a8b",
   "metadata": {},
   "outputs": [],
   "source": [
    "import os\n",
    "import warnings\n",
    "warnings.filterwarnings('ignore')\n",
    "from os import path\n",
    "\n",
    "import pandas as pd\n",
    "from implicit.nearest_neighbours import CosineRecommender\n",
    "from rectools.dataset import Dataset\n",
    "from rectools import Columns\n",
    "from rectools.models.popular import PopularModel\n",
    "from rectools.model_selection import TimeRangeSplit\n",
    "\n"
   ]
  },
  {
   "cell_type": "code",
   "execution_count": 11,
   "id": "90c1e93a",
   "metadata": {},
   "outputs": [],
   "source": [
    "# Train model flag\n",
    "from pathlib import Path\n",
    "import numpy as np\n",
    "\n",
    "DATA_PATH = Path(\"kion_train\")\n",
    "\n",
    "\n",
    "RETRAIN = False\n",
    "\n",
    "users = pd.read_csv(DATA_PATH / 'users.csv')\n",
    "items = pd.read_csv(DATA_PATH / 'items.csv')\n",
    "interactions = pd.read_csv(DATA_PATH / 'interactions.csv')\n",
    "\n",
    "\n",
    "Columns.Datetime = 'last_watch_dt'\n",
    "\n",
    "\n",
    "# примеведем все к Datetime\n",
    "interactions.drop(interactions[interactions[Columns.Datetime].str.len() != 10].index, inplace=True)\n",
    "interactions[Columns.Datetime] = pd.to_datetime(interactions[Columns.Datetime], format='%Y-%m-%d')\n",
    "max_date = interactions[Columns.Datetime].max()\n",
    "\n",
    "# if user wathed more than 10, 3, 1, percent - set 3 балла этому взаим-ию\n",
    "# if less - 1 балл\n",
    "interactions[Columns.Weight] = np.where(interactions['watched_pct'] > 10, 3, 1)\n",
    "\n",
    "\n",
    "# отправим в test  max  interaction for the last week\n",
    "train = interactions[interactions[Columns.Datetime] < max_date - pd.Timedelta(days=7)].copy()\n",
    "test = interactions[interactions[Columns.Datetime] >= max_date - pd.Timedelta(days=7)].copy()\n",
    "\n",
    "\n",
    "train.drop(train.query(\"total_dur < 300\").index, inplace=True)\n",
    "\n",
    "# отфильтруем cold пользователей from test\n",
    "cold_users = set(test[Columns.User]) - set(train[Columns.User])\n",
    "\n",
    "# in test only users with info about interaction\n",
    "test.drop(test[test[Columns.User].isin(cold_users)].index, inplace=True)\n",
    "\n",
    "\n",
    "#users.fillna('Unknown', inplace=True)\n",
    "#users = users.loc[users[Columns.User].isin(train[Columns.User])].copy()\n",
    "\n",
    "\n",
    "#user_features_frames = []\n",
    "#for feature in [\"sex\", \"age\", \"income\"]:\n",
    "#    feature_frame = users.reindex(columns=[Columns.User, feature])\n",
    "#    feature_frame.columns = [\"id\", \"value\"]\n",
    "#    feature_frame[\"feature\"] = feature\n",
    "#    user_features_frames.append(feature_frame)\n",
    "#user_features = pd.concat(user_features_frames)\n",
    "#user_features.head(10)\n",
    "\n",
    "#items = items.loc[items[Columns.Item].isin(train[Columns.Item])].copy()\n",
    "\n",
    "#items[\"genre\"] = items[\"genres\"].str.lower().str.replace(\", \", \",\", regex=False).str.split(\",\")\n",
    "#genre_feature = items[[\"item_id\", \"genre\"]].explode(\"genre\")\n",
    "#genre_feature.columns = [\"id\", \"value\"]\n",
    "#genre_feature[\"feature\"] = \"genre\"\n",
    "#genre_feature.head(4)\n",
    "\n",
    "#content_feature = items.reindex(columns=[Columns.Item, \"content_type\"])\n",
    "#content_feature.columns = [\"id\", \"value\"]\n",
    "#content_feature[\"feature\"] = \"content_type\"\n",
    "\n",
    "#item_features = pd.concat((genre_feature, content_feature))\n",
    "#item_features.head(3)\n",
    "\n"
   ]
  },
  {
   "cell_type": "code",
   "execution_count": 19,
   "id": "69f0b362",
   "metadata": {},
   "outputs": [],
   "source": [
    "dataset = Dataset.construct(\n",
    "            interactions_df=interactions,\n",
    "            user_features_df=None,\n",
    "            item_features_df=None,\n",
    "        )\n",
    "\n",
    "from rectools.metrics import Precision, Recall, MAP, calc_metrics\n"
   ]
  },
  {
   "cell_type": "code",
   "execution_count": 15,
   "id": "422a9ca3",
   "metadata": {},
   "outputs": [],
   "source": [
    "metrics_name = {\n",
    "    'Precision': Precision,\n",
    "    'Recall': Recall,\n",
    "    'MAP': MAP,\n",
    "}\n",
    "\n",
    "metrics = {}\n",
    "for metric_name, metric in metrics_name.items():\n",
    "    for k in range(1, 11):\n",
    "        metrics[f'{metric_name}@{k}'] = metric(k=k)"
   ]
  },
  {
   "cell_type": "code",
   "execution_count": 16,
   "id": "c1414255",
   "metadata": {},
   "outputs": [],
   "source": [
    "K_RECOS = 10      # num of recomendations\n",
    "RAND_ST = 777\n",
    "THREADS = 16\n",
    "N_FACTORS = (32, 64, 128, 160)      # num of factors\n",
    "ITERATIONS = (15, 20)\n",
    "\n"
   ]
  },
  {
   "cell_type": "code",
   "execution_count": null,
   "id": "03f8de15",
   "metadata": {},
   "outputs": [],
   "source": []
  },
  {
   "cell_type": "markdown",
   "id": "49e76f5d",
   "metadata": {},
   "source": [
    "# Fit Popular model"
   ]
  },
  {
   "cell_type": "code",
   "execution_count": 20,
   "id": "3ed80386",
   "metadata": {},
   "outputs": [
    {
     "data": {
      "text/plain": [
       "<rectools.models.popular.PopularModel at 0x7fba97be3340>"
      ]
     },
     "execution_count": 20,
     "metadata": {},
     "output_type": "execute_result"
    }
   ],
   "source": [
    "pop = PopularModel()\n",
    "pop.fit(dataset)"
   ]
  },
  {
   "cell_type": "markdown",
   "id": "54d064d5",
   "metadata": {},
   "source": [
    "# Get recomendations"
   ]
  },
  {
   "cell_type": "code",
   "execution_count": 22,
   "id": "47cfa828",
   "metadata": {},
   "outputs": [],
   "source": [
    "popular_reco_df = pop.recommend(\n",
    "    dataset.user_id_map.external_ids[:1],\n",
    "    dataset=dataset,\n",
    "    k=K_RECOS,\n",
    "    filter_viewed=False  # True - throw away some items for each user\n",
    ")\n",
    "\n",
    "from rectools.models import PopularModel"
   ]
  },
  {
   "cell_type": "markdown",
   "id": "327bf598",
   "metadata": {},
   "source": [
    "# Save recomendations df"
   ]
  },
  {
   "cell_type": "code",
   "execution_count": 24,
   "id": "09de5edb",
   "metadata": {},
   "outputs": [],
   "source": [
    "\n",
    "\n",
    "popular_reco_df.to_csv('/home/iuliiasolomennikova/!!!RecSysService/notebooks/offline_recommend_df/popular', encoding='utf-8', index=False)\n"
   ]
  }
 ],
 "metadata": {
  "kernelspec": {
   "display_name": "Python 3",
   "language": "python",
   "name": "python3"
  },
  "language_info": {
   "codemirror_mode": {
    "name": "ipython",
    "version": 3
   },
   "file_extension": ".py",
   "mimetype": "text/x-python",
   "name": "python",
   "nbconvert_exporter": "python",
   "pygments_lexer": "ipython3",
   "version": "3.8.10"
  }
 },
 "nbformat": 4,
 "nbformat_minor": 5
}
