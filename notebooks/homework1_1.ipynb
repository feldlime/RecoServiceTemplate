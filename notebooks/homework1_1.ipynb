{
 "cells": [
  {
   "cell_type": "code",
   "execution_count": 1,
   "id": "b96b06e0",
   "metadata": {},
   "outputs": [],
   "source": [
    "import pandas as pd\n",
    "import numpy as np"
   ]
  },
  {
   "cell_type": "code",
   "execution_count": 2,
   "id": "bb287afd",
   "metadata": {},
   "outputs": [],
   "source": [
    "train_data = pd.read_csv('train', names=['item'])\n",
    "test_data = pd.read_csv('test', names=['item'])"
   ]
  },
  {
   "cell_type": "code",
   "execution_count": 3,
   "id": "2599a1ae",
   "metadata": {},
   "outputs": [],
   "source": [
    "df = pd.concat([train_data, test_data], ignore_index=True)\n"
   ]
  },
  {
   "cell_type": "markdown",
   "id": "d38e3a4e",
   "metadata": {},
   "source": [
    "<h2>Преобразуем датафрейм к виду {user, item, order}</h2>"
   ]
  },
  {
   "cell_type": "code",
   "execution_count": null,
   "id": "5ccc3843",
   "metadata": {},
   "outputs": [],
   "source": [
    "df['order'] = df['item'].apply(lambda x: list(range(len(x.split(' '))-1, -1, -1)))"
   ]
  },
  {
   "cell_type": "code",
   "execution_count": 5,
   "id": "de9f5dc8",
   "metadata": {},
   "outputs": [],
   "source": [
    "df = df.assign(liked_id=df['liked_id'].str.split(' '))\n",
    "\n",
    "    "
   ]
  },
  {
   "cell_type": "code",
   "execution_count": 6,
   "id": "17636c2d",
   "metadata": {},
   "outputs": [],
   "source": [
    "df = df.explode(['liked_id', 'order'])\n",
    "df['index_col'] = df.index\n",
    "df = df.reset_index()\n",
    "df = df.drop('index_col', axis=1)\n",
    "df = df.rename(columns={\"index\": \"user\"})"
   ]
  },
  {
   "cell_type": "markdown",
   "id": "cbbc345c",
   "metadata": {},
   "source": [
    "## Homework\n",
    "\n",
    "Исходные данные - Yandex Cup 2022 RecSys:\n",
    "- Описание соревнования - https://contest.yandex.ru/yacup/contest/41618/problems/\n",
    "- Данные - https://disk.yandex.ru/d/SI1aAooPn9i8TA\n",
    "- Описание данных - в архиве likes_data.zip три файла:\n",
    "  - train - обучающий набор данных. Каждая строка - последовательность id треков, которые лайкнул один пользователь. Гарантируется, что лайки даны в той последовательности, в которой их ставил пользователь.\n",
    "  - test - набор тестовых данных. Имеет точно такой же формат, но в каждой строке не хватает последнего лайка, который надо предсказать.\n",
    "  - track_artists.csv - информация о исполнителях треков. Гарантируется, что у каждого трека есть ровно один исполнитель. Для треков, у которых фактически несколько исполнителей, мы оставили того, который считается основным исполнителем трека.\n",
    "- Описание сабмита - в качестве решения необходимо отправить файл, в котором для каждого пользователя из test в отдельной строке будет не более 100 треков, разделенных пробелом. Гарантируется, что у каждого пользователя будет только 1 лайк в тесте\n",
    "- Метрика - MRR@100"
   ]
  },
  {
   "cell_type": "markdown",
   "id": "64b576c9",
   "metadata": {},
   "source": [
    "Промежуточная задача - преобразовать данные в pandas.DataFrame вида {user, item, order}, где order - порядковый номер с конца (0 - самый \"свежий\" лайк, чем больше order, тем позже был поставлен лайк)\n",
    "\n",
    "**Итоговая задача** - построить схему валидации для данного соревнования с учетом особенностей сорвенования\n",
    "- Между `train` и `test` не должно быть общих пользователей\n",
    "- Количество фолдов задается через параметр класса `n_folds`\n",
    "- В `test` должно быть не более `p` последних треков (параметр класса `p`)"
   ]
  },
  {
   "cell_type": "code",
   "execution_count": null,
   "id": "4a299131",
   "metadata": {},
   "outputs": [],
   "source": [
    "class UsersKFoldPOut():\n",
    "    def __init__(self, n_folds, p, user_column, item_column, random_seed=23):\n",
    "        self.n_folds = n_folds\n",
    "        self.random_seed = random_seed\n",
    "        self.user_column = user_column\n",
    "        self.item_column = item_column\n",
    "        self.p = p\n",
    "    \n",
    "    def split(self, df):\n",
    "        users = df[self.user_column].unique()\n",
    "        users_count = len(users)\n",
    "        \n",
    "        np.random.seed(self.random_seed)\n",
    "        np.random.shuffle(users)\n",
    "        \n",
    "        fold_sizes = np.full(self.n_folds, users_count // self.n_folds, dtype=int)\n",
    "        fold_sizes[: users_count % self.n_folds] += 1\n",
    "        current = 0\n",
    "        for fold_size in fold_sizes:\n",
    "            start, stop = current, current + fold_size\n",
    "            test_fold_users = users[start:stop]\n",
    "            grouped_df = (df.groupby([self.user_column]).count() <= self.p).reset_index()\n",
    "            p_test_users = grouped_df.loc[grouped_df[self.item_column]==True][self.user_column].to_list()\n",
    "            test_mask = df[self.user_column].isin(set(test_fold_users) & set(p_test_users))\n",
    "            train_mask = ~test_mask\n",
    "            \n",
    "            yield train_mask, test_mask"
   ]
  },
  {
   "cell_type": "code",
   "execution_count": 69,
   "id": "0c190dc3",
   "metadata": {},
   "outputs": [],
   "source": [
    "cv = UsersKFoldPOut(n_folds=3, p=1, user_column='user', item_column='item')\n"
   ]
  },
  {
   "cell_type": "code",
   "execution_count": 71,
   "id": "f36c85c6",
   "metadata": {},
   "outputs": [
    {
     "data": {
      "text/plain": [
       "(0        True\n",
       " 1        True\n",
       " 2        True\n",
       " 3        True\n",
       " 4        True\n",
       "          ... \n",
       " 38110    True\n",
       " 38111    True\n",
       " 38112    True\n",
       " 38113    True\n",
       " 38114    True\n",
       " Name: user, Length: 38115, dtype: bool,\n",
       " 0        False\n",
       " 1        False\n",
       " 2        False\n",
       " 3        False\n",
       " 4        False\n",
       "          ...  \n",
       " 38110    False\n",
       " 38111    False\n",
       " 38112    False\n",
       " 38113    False\n",
       " 38114    False\n",
       " Name: user, Length: 38115, dtype: bool)"
      ]
     },
     "execution_count": 71,
     "metadata": {},
     "output_type": "execute_result"
    }
   ],
   "source": [
    "next(iter(cv.split(df)))"
   ]
  }
 ],
 "metadata": {
  "kernelspec": {
   "display_name": "Python 3 (ipykernel)",
   "language": "python",
   "name": "python3"
  },
  "language_info": {
   "codemirror_mode": {
    "name": "ipython",
    "version": 3
   },
   "file_extension": ".py",
   "mimetype": "text/x-python",
   "name": "python",
   "nbconvert_exporter": "python",
   "pygments_lexer": "ipython3",
   "version": "3.8.15"
  }
 },
 "nbformat": 4,
 "nbformat_minor": 5
}
