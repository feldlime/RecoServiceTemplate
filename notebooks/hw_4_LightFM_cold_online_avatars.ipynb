{
 "cells": [
  {
   "cell_type": "markdown",
   "metadata": {},
   "source": [
    "# Training And Tuning Hyperparametres\n",
    "\n",
    "## Import Libraries"
   ]
  },
  {
   "cell_type": "code",
   "execution_count": 1,
   "metadata": {
    "ExecuteTime": {
     "end_time": "2022-12-14T18:50:25.940254Z",
     "start_time": "2022-12-14T18:50:25.934939Z"
    }
   },
   "outputs": [],
   "source": [
    "import os"
   ]
  },
  {
   "cell_type": "code",
   "execution_count": 2,
   "metadata": {
    "ExecuteTime": {
     "end_time": "2022-12-14T18:50:26.288488Z",
     "start_time": "2022-12-14T18:50:26.282735Z"
    }
   },
   "outputs": [],
   "source": [
    "os.environ[\"OPENBLAS_NUM_THREADS\"] = \"1\"  # For implicit ALS"
   ]
  },
  {
   "cell_type": "code",
   "execution_count": 3,
   "metadata": {
    "ExecuteTime": {
     "end_time": "2022-12-14T18:50:26.591998Z",
     "start_time": "2022-12-14T18:50:26.579457Z"
    }
   },
   "outputs": [],
   "source": [
    "import warnings\n",
    "\n",
    "warnings.filterwarnings(\"ignore\")"
   ]
  },
  {
   "cell_type": "code",
   "execution_count": 4,
   "metadata": {
    "ExecuteTime": {
     "end_time": "2022-12-14T18:50:28.996140Z",
     "start_time": "2022-12-14T18:50:26.952442Z"
    }
   },
   "outputs": [],
   "source": [
    "import itertools\n",
    "import timeit\n",
    "import typing as tp\n",
    "from pathlib import Path\n",
    "\n",
    "import dill\n",
    "import matplotlib.pyplot as plt\n",
    "import numpy as np\n",
    "import optuna\n",
    "import pandas as pd\n",
    "import seaborn as sns\n",
    "from implicit.als import AlternatingLeastSquares\n",
    "from implicit.bpr import BayesianPersonalizedRanking\n",
    "from lightfm import LightFM\n",
    "from rectools import Columns\n",
    "from rectools.dataset import Dataset\n",
    "from rectools.metrics import MAP, calc_metrics  # , Precision, Recall,\n",
    "from rectools.models import ImplicitALSWrapperModel, LightFMWrapperModel\n",
    "from scipy import sparse\n",
    "from tqdm.notebook import tqdm"
   ]
  },
  {
   "cell_type": "code",
   "execution_count": 5,
   "metadata": {
    "ExecuteTime": {
     "end_time": "2022-12-14T18:50:29.011014Z",
     "start_time": "2022-12-14T18:50:29.000731Z"
    }
   },
   "outputs": [],
   "source": [
    "np.random.seed(23)"
   ]
  },
  {
   "cell_type": "code",
   "execution_count": 6,
   "metadata": {
    "ExecuteTime": {
     "end_time": "2022-12-14T18:50:29.021205Z",
     "start_time": "2022-12-14T18:50:29.015898Z"
    }
   },
   "outputs": [],
   "source": [
    "DATA_PATH = Path(\"kion_train\")"
   ]
  },
  {
   "cell_type": "markdown",
   "metadata": {},
   "source": [
    "## Loading Data"
   ]
  },
  {
   "cell_type": "code",
   "execution_count": 56,
   "metadata": {
    "ExecuteTime": {
     "end_time": "2022-12-14T18:53:43.465406Z",
     "start_time": "2022-12-14T18:53:39.377209Z"
    }
   },
   "outputs": [
    {
     "name": "stdout",
     "output_type": "stream",
     "text": [
      "CPU times: user 3.76 s, sys: 260 ms, total: 4.02 s\n",
      "Wall time: 4.08 s\n"
     ]
    }
   ],
   "source": [
    "%%time\n",
    "users = pd.read_csv(DATA_PATH / \"users.csv\")\n",
    "items = pd.read_csv(DATA_PATH / \"items.csv\")\n",
    "interactions = pd.read_csv(DATA_PATH / \"interactions.csv\")"
   ]
  },
  {
   "cell_type": "markdown",
   "metadata": {},
   "source": [
    "## Preprocessing\n",
    "\n",
    "### Interactions dataframe"
   ]
  },
  {
   "cell_type": "code",
   "execution_count": 57,
   "metadata": {
    "ExecuteTime": {
     "end_time": "2022-12-14T18:53:43.476031Z",
     "start_time": "2022-12-14T18:53:43.469407Z"
    }
   },
   "outputs": [],
   "source": [
    "def headtail(df: pd.DataFrame):\n",
    "    return pd.concat([df.head(), df.tail()])"
   ]
  },
  {
   "cell_type": "code",
   "execution_count": 58,
   "metadata": {
    "ExecuteTime": {
     "end_time": "2022-12-14T18:53:43.484716Z",
     "start_time": "2022-12-14T18:53:43.480632Z"
    }
   },
   "outputs": [],
   "source": [
    "Columns.Datetime = \"last_watch_dt\""
   ]
  },
  {
   "cell_type": "code",
   "execution_count": 59,
   "metadata": {
    "ExecuteTime": {
     "end_time": "2022-12-14T18:53:46.450828Z",
     "start_time": "2022-12-14T18:53:43.491363Z"
    }
   },
   "outputs": [],
   "source": [
    "interactions.drop(\n",
    "    interactions[interactions[Columns.Datetime].str.len() != 10].index, inplace=True\n",
    ")"
   ]
  },
  {
   "cell_type": "code",
   "execution_count": 60,
   "metadata": {
    "ExecuteTime": {
     "end_time": "2022-12-14T18:53:47.726007Z",
     "start_time": "2022-12-14T18:53:46.456530Z"
    }
   },
   "outputs": [],
   "source": [
    "interactions[Columns.Datetime] = pd.to_datetime(\n",
    "    interactions[Columns.Datetime], format=\"%Y-%m-%d\"\n",
    ")"
   ]
  },
  {
   "cell_type": "code",
   "execution_count": 61,
   "metadata": {
    "ExecuteTime": {
     "end_time": "2022-12-14T18:53:47.749681Z",
     "start_time": "2022-12-14T18:53:47.728650Z"
    }
   },
   "outputs": [],
   "source": [
    "max_date = interactions[Columns.Datetime].max()"
   ]
  },
  {
   "cell_type": "markdown",
   "metadata": {},
   "source": [
    "Используем долю просмотренного как веса + определим правило для конвертации в пятибальную шкалу"
   ]
  },
  {
   "cell_type": "code",
   "execution_count": 62,
   "metadata": {
    "ExecuteTime": {
     "end_time": "2022-12-14T18:53:47.764063Z",
     "start_time": "2022-12-14T18:53:47.754808Z"
    }
   },
   "outputs": [],
   "source": [
    "def convert_to_weight(col):\n",
    "    if col < 10:\n",
    "        return 1\n",
    "    elif col < 30:\n",
    "        return 2\n",
    "    elif col < 60:\n",
    "        return 3\n",
    "    elif col < 85:\n",
    "        return 4\n",
    "    return 5"
   ]
  },
  {
   "cell_type": "code",
   "execution_count": 63,
   "metadata": {
    "ExecuteTime": {
     "end_time": "2022-12-14T18:53:52.087775Z",
     "start_time": "2022-12-14T18:53:47.770692Z"
    }
   },
   "outputs": [],
   "source": [
    "interactions[Columns.Weight] = interactions[\"watched_pct\"].apply(\n",
    "    lambda x: convert_to_weight(x)\n",
    ")"
   ]
  },
  {
   "cell_type": "code",
   "execution_count": 64,
   "metadata": {
    "ExecuteTime": {
     "end_time": "2022-12-14T18:53:52.114401Z",
     "start_time": "2022-12-14T18:53:52.090817Z"
    }
   },
   "outputs": [
    {
     "data": {
      "text/html": [
       "<div>\n",
       "<style scoped>\n",
       "    .dataframe tbody tr th:only-of-type {\n",
       "        vertical-align: middle;\n",
       "    }\n",
       "\n",
       "    .dataframe tbody tr th {\n",
       "        vertical-align: top;\n",
       "    }\n",
       "\n",
       "    .dataframe thead th {\n",
       "        text-align: right;\n",
       "    }\n",
       "</style>\n",
       "<table border=\"1\" class=\"dataframe\">\n",
       "  <thead>\n",
       "    <tr style=\"text-align: right;\">\n",
       "      <th></th>\n",
       "      <th>user_id</th>\n",
       "      <th>item_id</th>\n",
       "      <th>last_watch_dt</th>\n",
       "      <th>total_dur</th>\n",
       "      <th>watched_pct</th>\n",
       "      <th>weight</th>\n",
       "    </tr>\n",
       "  </thead>\n",
       "  <tbody>\n",
       "    <tr>\n",
       "      <th>0</th>\n",
       "      <td>176549</td>\n",
       "      <td>9506</td>\n",
       "      <td>2021-05-11</td>\n",
       "      <td>4250</td>\n",
       "      <td>72.0</td>\n",
       "      <td>4</td>\n",
       "    </tr>\n",
       "    <tr>\n",
       "      <th>1</th>\n",
       "      <td>699317</td>\n",
       "      <td>1659</td>\n",
       "      <td>2021-05-29</td>\n",
       "      <td>8317</td>\n",
       "      <td>100.0</td>\n",
       "      <td>5</td>\n",
       "    </tr>\n",
       "    <tr>\n",
       "      <th>2</th>\n",
       "      <td>656683</td>\n",
       "      <td>7107</td>\n",
       "      <td>2021-05-09</td>\n",
       "      <td>10</td>\n",
       "      <td>0.0</td>\n",
       "      <td>1</td>\n",
       "    </tr>\n",
       "    <tr>\n",
       "      <th>3</th>\n",
       "      <td>864613</td>\n",
       "      <td>7638</td>\n",
       "      <td>2021-07-05</td>\n",
       "      <td>14483</td>\n",
       "      <td>100.0</td>\n",
       "      <td>5</td>\n",
       "    </tr>\n",
       "    <tr>\n",
       "      <th>4</th>\n",
       "      <td>964868</td>\n",
       "      <td>9506</td>\n",
       "      <td>2021-04-30</td>\n",
       "      <td>6725</td>\n",
       "      <td>100.0</td>\n",
       "      <td>5</td>\n",
       "    </tr>\n",
       "    <tr>\n",
       "      <th>...</th>\n",
       "      <td>...</td>\n",
       "      <td>...</td>\n",
       "      <td>...</td>\n",
       "      <td>...</td>\n",
       "      <td>...</td>\n",
       "      <td>...</td>\n",
       "    </tr>\n",
       "    <tr>\n",
       "      <th>5476246</th>\n",
       "      <td>648596</td>\n",
       "      <td>12225</td>\n",
       "      <td>2021-08-13</td>\n",
       "      <td>76</td>\n",
       "      <td>0.0</td>\n",
       "      <td>1</td>\n",
       "    </tr>\n",
       "    <tr>\n",
       "      <th>5476247</th>\n",
       "      <td>546862</td>\n",
       "      <td>9673</td>\n",
       "      <td>2021-04-13</td>\n",
       "      <td>2308</td>\n",
       "      <td>49.0</td>\n",
       "      <td>3</td>\n",
       "    </tr>\n",
       "    <tr>\n",
       "      <th>5476248</th>\n",
       "      <td>697262</td>\n",
       "      <td>15297</td>\n",
       "      <td>2021-08-20</td>\n",
       "      <td>18307</td>\n",
       "      <td>63.0</td>\n",
       "      <td>4</td>\n",
       "    </tr>\n",
       "    <tr>\n",
       "      <th>5476249</th>\n",
       "      <td>384202</td>\n",
       "      <td>16197</td>\n",
       "      <td>2021-04-19</td>\n",
       "      <td>6203</td>\n",
       "      <td>100.0</td>\n",
       "      <td>5</td>\n",
       "    </tr>\n",
       "    <tr>\n",
       "      <th>5476250</th>\n",
       "      <td>319709</td>\n",
       "      <td>4436</td>\n",
       "      <td>2021-08-15</td>\n",
       "      <td>3921</td>\n",
       "      <td>45.0</td>\n",
       "      <td>3</td>\n",
       "    </tr>\n",
       "  </tbody>\n",
       "</table>\n",
       "<p>5476251 rows × 6 columns</p>\n",
       "</div>"
      ],
      "text/plain": [
       "         user_id  item_id last_watch_dt  total_dur  watched_pct  weight\n",
       "0         176549     9506    2021-05-11       4250         72.0       4\n",
       "1         699317     1659    2021-05-29       8317        100.0       5\n",
       "2         656683     7107    2021-05-09         10          0.0       1\n",
       "3         864613     7638    2021-07-05      14483        100.0       5\n",
       "4         964868     9506    2021-04-30       6725        100.0       5\n",
       "...          ...      ...           ...        ...          ...     ...\n",
       "5476246   648596    12225    2021-08-13         76          0.0       1\n",
       "5476247   546862     9673    2021-04-13       2308         49.0       3\n",
       "5476248   697262    15297    2021-08-20      18307         63.0       4\n",
       "5476249   384202    16197    2021-04-19       6203        100.0       5\n",
       "5476250   319709     4436    2021-08-15       3921         45.0       3\n",
       "\n",
       "[5476251 rows x 6 columns]"
      ]
     },
     "execution_count": 64,
     "metadata": {},
     "output_type": "execute_result"
    }
   ],
   "source": [
    "interactions"
   ]
  },
  {
   "cell_type": "markdown",
   "metadata": {},
   "source": [
    "## Features Preparing and Analyzing\n",
    "\n",
    "### User features"
   ]
  },
  {
   "cell_type": "code",
   "execution_count": 65,
   "metadata": {
    "ExecuteTime": {
     "end_time": "2022-12-14T18:53:52.710881Z",
     "start_time": "2022-12-14T18:53:52.121740Z"
    }
   },
   "outputs": [
    {
     "data": {
      "text/plain": [
       "user_id         0\n",
       "age         14095\n",
       "income      14776\n",
       "sex         13831\n",
       "kids_flg        0\n",
       "dtype: int64"
      ]
     },
     "execution_count": 65,
     "metadata": {},
     "output_type": "execute_result"
    }
   ],
   "source": [
    "users.isnull().sum()"
   ]
  },
  {
   "cell_type": "code",
   "execution_count": 66,
   "metadata": {
    "ExecuteTime": {
     "end_time": "2022-12-14T18:53:53.267008Z",
     "start_time": "2022-12-14T18:53:52.713619Z"
    }
   },
   "outputs": [],
   "source": [
    "users.fillna(\"Unknown\", inplace=True)"
   ]
  },
  {
   "cell_type": "code",
   "execution_count": 67,
   "metadata": {
    "ExecuteTime": {
     "end_time": "2022-12-14T18:53:53.487316Z",
     "start_time": "2022-12-14T18:53:53.271106Z"
    }
   },
   "outputs": [
    {
     "data": {
      "text/plain": [
       "user_id     840197\n",
       "age              7\n",
       "income           7\n",
       "sex              3\n",
       "kids_flg         2\n",
       "dtype: int64"
      ]
     },
     "execution_count": 67,
     "metadata": {},
     "output_type": "execute_result"
    }
   ],
   "source": [
    "users.nunique()"
   ]
  },
  {
   "cell_type": "code",
   "execution_count": 68,
   "metadata": {
    "ExecuteTime": {
     "end_time": "2022-12-14T18:53:53.515070Z",
     "start_time": "2022-12-14T18:53:53.490175Z"
    }
   },
   "outputs": [
    {
     "data": {
      "text/html": [
       "<div>\n",
       "<style scoped>\n",
       "    .dataframe tbody tr th:only-of-type {\n",
       "        vertical-align: middle;\n",
       "    }\n",
       "\n",
       "    .dataframe tbody tr th {\n",
       "        vertical-align: top;\n",
       "    }\n",
       "\n",
       "    .dataframe thead th {\n",
       "        text-align: right;\n",
       "    }\n",
       "</style>\n",
       "<table border=\"1\" class=\"dataframe\">\n",
       "  <thead>\n",
       "    <tr style=\"text-align: right;\">\n",
       "      <th></th>\n",
       "      <th>user_id</th>\n",
       "      <th>age</th>\n",
       "      <th>income</th>\n",
       "      <th>sex</th>\n",
       "      <th>kids_flg</th>\n",
       "    </tr>\n",
       "  </thead>\n",
       "  <tbody>\n",
       "    <tr>\n",
       "      <th>0</th>\n",
       "      <td>973171</td>\n",
       "      <td>age_25_34</td>\n",
       "      <td>income_60_90</td>\n",
       "      <td>М</td>\n",
       "      <td>1</td>\n",
       "    </tr>\n",
       "    <tr>\n",
       "      <th>1</th>\n",
       "      <td>962099</td>\n",
       "      <td>age_18_24</td>\n",
       "      <td>income_20_40</td>\n",
       "      <td>М</td>\n",
       "      <td>0</td>\n",
       "    </tr>\n",
       "    <tr>\n",
       "      <th>2</th>\n",
       "      <td>1047345</td>\n",
       "      <td>age_45_54</td>\n",
       "      <td>income_40_60</td>\n",
       "      <td>Ж</td>\n",
       "      <td>0</td>\n",
       "    </tr>\n",
       "    <tr>\n",
       "      <th>3</th>\n",
       "      <td>721985</td>\n",
       "      <td>age_45_54</td>\n",
       "      <td>income_20_40</td>\n",
       "      <td>Ж</td>\n",
       "      <td>0</td>\n",
       "    </tr>\n",
       "    <tr>\n",
       "      <th>4</th>\n",
       "      <td>704055</td>\n",
       "      <td>age_35_44</td>\n",
       "      <td>income_60_90</td>\n",
       "      <td>Ж</td>\n",
       "      <td>0</td>\n",
       "    </tr>\n",
       "    <tr>\n",
       "      <th>840192</th>\n",
       "      <td>339025</td>\n",
       "      <td>age_65_inf</td>\n",
       "      <td>income_0_20</td>\n",
       "      <td>Ж</td>\n",
       "      <td>0</td>\n",
       "    </tr>\n",
       "    <tr>\n",
       "      <th>840193</th>\n",
       "      <td>983617</td>\n",
       "      <td>age_18_24</td>\n",
       "      <td>income_20_40</td>\n",
       "      <td>Ж</td>\n",
       "      <td>1</td>\n",
       "    </tr>\n",
       "    <tr>\n",
       "      <th>840194</th>\n",
       "      <td>251008</td>\n",
       "      <td>Unknown</td>\n",
       "      <td>Unknown</td>\n",
       "      <td>Unknown</td>\n",
       "      <td>0</td>\n",
       "    </tr>\n",
       "    <tr>\n",
       "      <th>840195</th>\n",
       "      <td>590706</td>\n",
       "      <td>Unknown</td>\n",
       "      <td>Unknown</td>\n",
       "      <td>Ж</td>\n",
       "      <td>0</td>\n",
       "    </tr>\n",
       "    <tr>\n",
       "      <th>840196</th>\n",
       "      <td>166555</td>\n",
       "      <td>age_65_inf</td>\n",
       "      <td>income_20_40</td>\n",
       "      <td>Ж</td>\n",
       "      <td>0</td>\n",
       "    </tr>\n",
       "  </tbody>\n",
       "</table>\n",
       "</div>"
      ],
      "text/plain": [
       "        user_id         age        income      sex  kids_flg\n",
       "0        973171   age_25_34  income_60_90        М         1\n",
       "1        962099   age_18_24  income_20_40        М         0\n",
       "2       1047345   age_45_54  income_40_60        Ж         0\n",
       "3        721985   age_45_54  income_20_40        Ж         0\n",
       "4        704055   age_35_44  income_60_90        Ж         0\n",
       "840192   339025  age_65_inf   income_0_20        Ж         0\n",
       "840193   983617   age_18_24  income_20_40        Ж         1\n",
       "840194   251008     Unknown       Unknown  Unknown         0\n",
       "840195   590706     Unknown       Unknown        Ж         0\n",
       "840196   166555  age_65_inf  income_20_40        Ж         0"
      ]
     },
     "execution_count": 68,
     "metadata": {},
     "output_type": "execute_result"
    }
   ],
   "source": [
    "headtail(users)"
   ]
  },
  {
   "cell_type": "code",
   "execution_count": 69,
   "metadata": {
    "ExecuteTime": {
     "end_time": "2022-12-14T18:53:53.565740Z",
     "start_time": "2022-12-14T18:53:53.518014Z"
    }
   },
   "outputs": [],
   "source": [
    "users = users.astype({\"kids_flg\": bool})"
   ]
  },
  {
   "cell_type": "markdown",
   "metadata": {},
   "source": [
    "#### Generate user features dataset"
   ]
  },
  {
   "cell_type": "code",
   "execution_count": 70,
   "metadata": {
    "ExecuteTime": {
     "end_time": "2022-12-14T18:53:53.837875Z",
     "start_time": "2022-12-14T18:53:53.570384Z"
    }
   },
   "outputs": [
    {
     "data": {
      "text/html": [
       "<div>\n",
       "<style scoped>\n",
       "    .dataframe tbody tr th:only-of-type {\n",
       "        vertical-align: middle;\n",
       "    }\n",
       "\n",
       "    .dataframe tbody tr th {\n",
       "        vertical-align: top;\n",
       "    }\n",
       "\n",
       "    .dataframe thead th {\n",
       "        text-align: right;\n",
       "    }\n",
       "</style>\n",
       "<table border=\"1\" class=\"dataframe\">\n",
       "  <thead>\n",
       "    <tr style=\"text-align: right;\">\n",
       "      <th></th>\n",
       "      <th>id</th>\n",
       "      <th>value</th>\n",
       "      <th>feature</th>\n",
       "    </tr>\n",
       "  </thead>\n",
       "  <tbody>\n",
       "    <tr>\n",
       "      <th>0</th>\n",
       "      <td>973171</td>\n",
       "      <td>М</td>\n",
       "      <td>sex</td>\n",
       "    </tr>\n",
       "    <tr>\n",
       "      <th>1</th>\n",
       "      <td>962099</td>\n",
       "      <td>М</td>\n",
       "      <td>sex</td>\n",
       "    </tr>\n",
       "    <tr>\n",
       "      <th>2</th>\n",
       "      <td>1047345</td>\n",
       "      <td>Ж</td>\n",
       "      <td>sex</td>\n",
       "    </tr>\n",
       "    <tr>\n",
       "      <th>3</th>\n",
       "      <td>721985</td>\n",
       "      <td>Ж</td>\n",
       "      <td>sex</td>\n",
       "    </tr>\n",
       "    <tr>\n",
       "      <th>4</th>\n",
       "      <td>704055</td>\n",
       "      <td>Ж</td>\n",
       "      <td>sex</td>\n",
       "    </tr>\n",
       "  </tbody>\n",
       "</table>\n",
       "</div>"
      ],
      "text/plain": [
       "        id value feature\n",
       "0   973171     М     sex\n",
       "1   962099     М     sex\n",
       "2  1047345     Ж     sex\n",
       "3   721985     Ж     sex\n",
       "4   704055     Ж     sex"
      ]
     },
     "execution_count": 70,
     "metadata": {},
     "output_type": "execute_result"
    }
   ],
   "source": [
    "user_features_frames = []\n",
    "for feature in [\"sex\", \"age\", \"income\", \"kids_flg\"]:\n",
    "    feature_frame = users.reindex(columns=[Columns.User, feature])\n",
    "    feature_frame.columns = [\"id\", \"value\"]\n",
    "    feature_frame[\"feature\"] = feature\n",
    "    user_features_frames.append(feature_frame)\n",
    "user_features = pd.concat(user_features_frames)\n",
    "user_features.head()"
   ]
  },
  {
   "cell_type": "code",
   "execution_count": 71,
   "metadata": {
    "ExecuteTime": {
     "end_time": "2022-12-14T18:53:54.039777Z",
     "start_time": "2022-12-14T18:53:53.841546Z"
    }
   },
   "outputs": [
    {
     "data": {
      "text/html": [
       "<div>\n",
       "<style scoped>\n",
       "    .dataframe tbody tr th:only-of-type {\n",
       "        vertical-align: middle;\n",
       "    }\n",
       "\n",
       "    .dataframe tbody tr th {\n",
       "        vertical-align: top;\n",
       "    }\n",
       "\n",
       "    .dataframe thead th {\n",
       "        text-align: right;\n",
       "    }\n",
       "</style>\n",
       "<table border=\"1\" class=\"dataframe\">\n",
       "  <thead>\n",
       "    <tr style=\"text-align: right;\">\n",
       "      <th></th>\n",
       "      <th>id</th>\n",
       "      <th>value</th>\n",
       "      <th>feature</th>\n",
       "    </tr>\n",
       "  </thead>\n",
       "  <tbody>\n",
       "    <tr>\n",
       "      <th>0</th>\n",
       "      <td>973171</td>\n",
       "      <td>М</td>\n",
       "      <td>sex</td>\n",
       "    </tr>\n",
       "    <tr>\n",
       "      <th>0</th>\n",
       "      <td>973171</td>\n",
       "      <td>age_25_34</td>\n",
       "      <td>age</td>\n",
       "    </tr>\n",
       "    <tr>\n",
       "      <th>0</th>\n",
       "      <td>973171</td>\n",
       "      <td>income_60_90</td>\n",
       "      <td>income</td>\n",
       "    </tr>\n",
       "    <tr>\n",
       "      <th>0</th>\n",
       "      <td>973171</td>\n",
       "      <td>True</td>\n",
       "      <td>kids_flg</td>\n",
       "    </tr>\n",
       "  </tbody>\n",
       "</table>\n",
       "</div>"
      ],
      "text/plain": [
       "       id         value   feature\n",
       "0  973171             М       sex\n",
       "0  973171     age_25_34       age\n",
       "0  973171  income_60_90    income\n",
       "0  973171          True  kids_flg"
      ]
     },
     "execution_count": 71,
     "metadata": {},
     "output_type": "execute_result"
    }
   ],
   "source": [
    "user_features.query(f\"id == 973171\")"
   ]
  },
  {
   "cell_type": "markdown",
   "metadata": {},
   "source": [
    "### Item features"
   ]
  },
  {
   "cell_type": "code",
   "execution_count": 72,
   "metadata": {
    "ExecuteTime": {
     "end_time": "2022-12-14T18:53:54.701931Z",
     "start_time": "2022-12-14T18:53:54.043698Z"
    }
   },
   "outputs": [],
   "source": [
    "# Full data\n",
    "items = pd.read_csv(DATA_PATH / \"items.csv\")"
   ]
  },
  {
   "cell_type": "code",
   "execution_count": 73,
   "metadata": {
    "ExecuteTime": {
     "end_time": "2022-12-14T18:53:54.737942Z",
     "start_time": "2022-12-14T18:53:54.705131Z"
    }
   },
   "outputs": [
    {
     "data": {
      "text/html": [
       "<div>\n",
       "<style scoped>\n",
       "    .dataframe tbody tr th:only-of-type {\n",
       "        vertical-align: middle;\n",
       "    }\n",
       "\n",
       "    .dataframe tbody tr th {\n",
       "        vertical-align: top;\n",
       "    }\n",
       "\n",
       "    .dataframe thead th {\n",
       "        text-align: right;\n",
       "    }\n",
       "</style>\n",
       "<table border=\"1\" class=\"dataframe\">\n",
       "  <thead>\n",
       "    <tr style=\"text-align: right;\">\n",
       "      <th></th>\n",
       "      <th>item_id</th>\n",
       "      <th>content_type</th>\n",
       "      <th>title</th>\n",
       "      <th>title_orig</th>\n",
       "      <th>release_year</th>\n",
       "      <th>genres</th>\n",
       "      <th>countries</th>\n",
       "      <th>for_kids</th>\n",
       "      <th>age_rating</th>\n",
       "      <th>studios</th>\n",
       "      <th>directors</th>\n",
       "      <th>actors</th>\n",
       "      <th>description</th>\n",
       "      <th>keywords</th>\n",
       "    </tr>\n",
       "  </thead>\n",
       "  <tbody>\n",
       "    <tr>\n",
       "      <th>0</th>\n",
       "      <td>10711</td>\n",
       "      <td>film</td>\n",
       "      <td>Поговори с ней</td>\n",
       "      <td>Hable con ella</td>\n",
       "      <td>2002.0</td>\n",
       "      <td>драмы, зарубежные, детективы, мелодрамы</td>\n",
       "      <td>Испания</td>\n",
       "      <td>NaN</td>\n",
       "      <td>16.0</td>\n",
       "      <td>NaN</td>\n",
       "      <td>Педро Альмодовар</td>\n",
       "      <td>Адольфо Фернандес, Ана Фернандес, Дарио Гранди...</td>\n",
       "      <td>Мелодрама легендарного Педро Альмодовара «Пого...</td>\n",
       "      <td>Поговори, ней, 2002, Испания, друзья, любовь, ...</td>\n",
       "    </tr>\n",
       "    <tr>\n",
       "      <th>1</th>\n",
       "      <td>2508</td>\n",
       "      <td>film</td>\n",
       "      <td>Голые перцы</td>\n",
       "      <td>Search Party</td>\n",
       "      <td>2014.0</td>\n",
       "      <td>зарубежные, приключения, комедии</td>\n",
       "      <td>США</td>\n",
       "      <td>NaN</td>\n",
       "      <td>16.0</td>\n",
       "      <td>NaN</td>\n",
       "      <td>Скот Армстронг</td>\n",
       "      <td>Адам Палли, Брайан Хаски, Дж.Б. Смув, Джейсон ...</td>\n",
       "      <td>Уморительная современная комедия на популярную...</td>\n",
       "      <td>Голые, перцы, 2014, США, друзья, свадьбы, прео...</td>\n",
       "    </tr>\n",
       "    <tr>\n",
       "      <th>2</th>\n",
       "      <td>10716</td>\n",
       "      <td>film</td>\n",
       "      <td>Тактическая сила</td>\n",
       "      <td>Tactical Force</td>\n",
       "      <td>2011.0</td>\n",
       "      <td>криминал, зарубежные, триллеры, боевики, комедии</td>\n",
       "      <td>Канада</td>\n",
       "      <td>NaN</td>\n",
       "      <td>16.0</td>\n",
       "      <td>NaN</td>\n",
       "      <td>Адам П. Калтраро</td>\n",
       "      <td>Адриан Холмс, Даррен Шалави, Джерри Вассерман,...</td>\n",
       "      <td>Профессиональный рестлер Стив Остин («Все или ...</td>\n",
       "      <td>Тактическая, сила, 2011, Канада, бандиты, ганг...</td>\n",
       "    </tr>\n",
       "    <tr>\n",
       "      <th>3</th>\n",
       "      <td>7868</td>\n",
       "      <td>film</td>\n",
       "      <td>45 лет</td>\n",
       "      <td>45 Years</td>\n",
       "      <td>2015.0</td>\n",
       "      <td>драмы, зарубежные, мелодрамы</td>\n",
       "      <td>Великобритания</td>\n",
       "      <td>NaN</td>\n",
       "      <td>16.0</td>\n",
       "      <td>NaN</td>\n",
       "      <td>Эндрю Хэй</td>\n",
       "      <td>Александра Риддлстон-Барретт, Джеральдин Джейм...</td>\n",
       "      <td>Шарлотта Рэмплинг, Том Кортни, Джеральдин Джей...</td>\n",
       "      <td>45, лет, 2015, Великобритания, брак, жизнь, лю...</td>\n",
       "    </tr>\n",
       "    <tr>\n",
       "      <th>4</th>\n",
       "      <td>16268</td>\n",
       "      <td>film</td>\n",
       "      <td>Все решает мгновение</td>\n",
       "      <td>NaN</td>\n",
       "      <td>1978.0</td>\n",
       "      <td>драмы, спорт, советские, мелодрамы</td>\n",
       "      <td>СССР</td>\n",
       "      <td>NaN</td>\n",
       "      <td>12.0</td>\n",
       "      <td>Ленфильм</td>\n",
       "      <td>Виктор Садовский</td>\n",
       "      <td>Александр Абдулов, Александр Демьяненко, Алекс...</td>\n",
       "      <td>Расчетливая чаровница из советского кинохита «...</td>\n",
       "      <td>Все, решает, мгновение, 1978, СССР, сильные, ж...</td>\n",
       "    </tr>\n",
       "    <tr>\n",
       "      <th>15958</th>\n",
       "      <td>6443</td>\n",
       "      <td>series</td>\n",
       "      <td>Полярный круг</td>\n",
       "      <td>Arctic Circle</td>\n",
       "      <td>2018.0</td>\n",
       "      <td>драмы, триллеры, криминал</td>\n",
       "      <td>Финляндия, Германия</td>\n",
       "      <td>NaN</td>\n",
       "      <td>16.0</td>\n",
       "      <td>NaN</td>\n",
       "      <td>Ханну Салонен</td>\n",
       "      <td>Иина Куустонен, Максимилиан Брюкнер, Пихла Вии...</td>\n",
       "      <td>Во время погони за браконьерами по лесу, сотру...</td>\n",
       "      <td>убийство, вирус, расследование преступления, н...</td>\n",
       "    </tr>\n",
       "    <tr>\n",
       "      <th>15959</th>\n",
       "      <td>2367</td>\n",
       "      <td>series</td>\n",
       "      <td>Надежда</td>\n",
       "      <td>NaN</td>\n",
       "      <td>2020.0</td>\n",
       "      <td>драмы, боевики</td>\n",
       "      <td>Россия</td>\n",
       "      <td>0.0</td>\n",
       "      <td>18.0</td>\n",
       "      <td>NaN</td>\n",
       "      <td>Елена Хазанова</td>\n",
       "      <td>Виктория Исакова, Александр Кузьмин, Алексей М...</td>\n",
       "      <td>Оригинальный киносериал от создателей «Бывших»...</td>\n",
       "      <td>Надежда, 2020, Россия</td>\n",
       "    </tr>\n",
       "    <tr>\n",
       "      <th>15960</th>\n",
       "      <td>10632</td>\n",
       "      <td>series</td>\n",
       "      <td>Сговор</td>\n",
       "      <td>Hassel</td>\n",
       "      <td>2017.0</td>\n",
       "      <td>драмы, триллеры, криминал</td>\n",
       "      <td>Россия</td>\n",
       "      <td>0.0</td>\n",
       "      <td>18.0</td>\n",
       "      <td>NaN</td>\n",
       "      <td>Эшреф Рейбрук, Амир Камдин, Эрик Эгер</td>\n",
       "      <td>Ола Рапас, Алиетт Офейм, Уильма Лиден, Шанти Р...</td>\n",
       "      <td>Криминальная драма по мотивам романов о шведск...</td>\n",
       "      <td>Сговор, 2017, Россия</td>\n",
       "    </tr>\n",
       "    <tr>\n",
       "      <th>15961</th>\n",
       "      <td>4538</td>\n",
       "      <td>series</td>\n",
       "      <td>Среди камней</td>\n",
       "      <td>Darklands</td>\n",
       "      <td>2019.0</td>\n",
       "      <td>драмы, спорт, криминал</td>\n",
       "      <td>Россия</td>\n",
       "      <td>0.0</td>\n",
       "      <td>18.0</td>\n",
       "      <td>NaN</td>\n",
       "      <td>Марк О’Коннор, Конор МакМахон</td>\n",
       "      <td>Дэйн Уайт О’Хара, Томас Кэйн-Бирн, Джудит Родд...</td>\n",
       "      <td>Семнадцатилетний Дэмиен мечтает вырваться за п...</td>\n",
       "      <td>Среди, камней, 2019, Россия</td>\n",
       "    </tr>\n",
       "    <tr>\n",
       "      <th>15962</th>\n",
       "      <td>3206</td>\n",
       "      <td>series</td>\n",
       "      <td>Гоша</td>\n",
       "      <td>NaN</td>\n",
       "      <td>2019.0</td>\n",
       "      <td>комедии</td>\n",
       "      <td>Россия</td>\n",
       "      <td>0.0</td>\n",
       "      <td>16.0</td>\n",
       "      <td>NaN</td>\n",
       "      <td>Михаил Миронов</td>\n",
       "      <td>Мкртыч Арзуманян, Виктория Рунцова</td>\n",
       "      <td>Добродушный Гоша не может выйти из дома, чтобы...</td>\n",
       "      <td>Гоша, 2019, Россия</td>\n",
       "    </tr>\n",
       "  </tbody>\n",
       "</table>\n",
       "</div>"
      ],
      "text/plain": [
       "       item_id content_type                 title      title_orig  \\\n",
       "0        10711         film        Поговори с ней  Hable con ella   \n",
       "1         2508         film           Голые перцы    Search Party   \n",
       "2        10716         film      Тактическая сила  Tactical Force   \n",
       "3         7868         film                45 лет        45 Years   \n",
       "4        16268         film  Все решает мгновение             NaN   \n",
       "15958     6443       series         Полярный круг   Arctic Circle   \n",
       "15959     2367       series               Надежда             NaN   \n",
       "15960    10632       series                Сговор          Hassel   \n",
       "15961     4538       series          Среди камней      Darklands    \n",
       "15962     3206       series                  Гоша             NaN   \n",
       "\n",
       "       release_year                                            genres  \\\n",
       "0            2002.0           драмы, зарубежные, детективы, мелодрамы   \n",
       "1            2014.0                  зарубежные, приключения, комедии   \n",
       "2            2011.0  криминал, зарубежные, триллеры, боевики, комедии   \n",
       "3            2015.0                      драмы, зарубежные, мелодрамы   \n",
       "4            1978.0                драмы, спорт, советские, мелодрамы   \n",
       "15958        2018.0                         драмы, триллеры, криминал   \n",
       "15959        2020.0                                    драмы, боевики   \n",
       "15960        2017.0                         драмы, триллеры, криминал   \n",
       "15961        2019.0                            драмы, спорт, криминал   \n",
       "15962        2019.0                                           комедии   \n",
       "\n",
       "                 countries  for_kids  age_rating   studios  \\\n",
       "0                  Испания       NaN        16.0       NaN   \n",
       "1                      США       NaN        16.0       NaN   \n",
       "2                   Канада       NaN        16.0       NaN   \n",
       "3           Великобритания       NaN        16.0       NaN   \n",
       "4                     СССР       NaN        12.0  Ленфильм   \n",
       "15958  Финляндия, Германия       NaN        16.0       NaN   \n",
       "15959               Россия       0.0        18.0       NaN   \n",
       "15960               Россия       0.0        18.0       NaN   \n",
       "15961               Россия       0.0        18.0       NaN   \n",
       "15962               Россия       0.0        16.0       NaN   \n",
       "\n",
       "                                   directors  \\\n",
       "0                           Педро Альмодовар   \n",
       "1                             Скот Армстронг   \n",
       "2                           Адам П. Калтраро   \n",
       "3                                  Эндрю Хэй   \n",
       "4                           Виктор Садовский   \n",
       "15958                          Ханну Салонен   \n",
       "15959                         Елена Хазанова   \n",
       "15960  Эшреф Рейбрук, Амир Камдин, Эрик Эгер   \n",
       "15961          Марк О’Коннор, Конор МакМахон   \n",
       "15962                         Михаил Миронов   \n",
       "\n",
       "                                                  actors  \\\n",
       "0      Адольфо Фернандес, Ана Фернандес, Дарио Гранди...   \n",
       "1      Адам Палли, Брайан Хаски, Дж.Б. Смув, Джейсон ...   \n",
       "2      Адриан Холмс, Даррен Шалави, Джерри Вассерман,...   \n",
       "3      Александра Риддлстон-Барретт, Джеральдин Джейм...   \n",
       "4      Александр Абдулов, Александр Демьяненко, Алекс...   \n",
       "15958  Иина Куустонен, Максимилиан Брюкнер, Пихла Вии...   \n",
       "15959  Виктория Исакова, Александр Кузьмин, Алексей М...   \n",
       "15960  Ола Рапас, Алиетт Офейм, Уильма Лиден, Шанти Р...   \n",
       "15961  Дэйн Уайт О’Хара, Томас Кэйн-Бирн, Джудит Родд...   \n",
       "15962                 Мкртыч Арзуманян, Виктория Рунцова   \n",
       "\n",
       "                                             description  \\\n",
       "0      Мелодрама легендарного Педро Альмодовара «Пого...   \n",
       "1      Уморительная современная комедия на популярную...   \n",
       "2      Профессиональный рестлер Стив Остин («Все или ...   \n",
       "3      Шарлотта Рэмплинг, Том Кортни, Джеральдин Джей...   \n",
       "4      Расчетливая чаровница из советского кинохита «...   \n",
       "15958  Во время погони за браконьерами по лесу, сотру...   \n",
       "15959  Оригинальный киносериал от создателей «Бывших»...   \n",
       "15960  Криминальная драма по мотивам романов о шведск...   \n",
       "15961  Семнадцатилетний Дэмиен мечтает вырваться за п...   \n",
       "15962  Добродушный Гоша не может выйти из дома, чтобы...   \n",
       "\n",
       "                                                keywords  \n",
       "0      Поговори, ней, 2002, Испания, друзья, любовь, ...  \n",
       "1      Голые, перцы, 2014, США, друзья, свадьбы, прео...  \n",
       "2      Тактическая, сила, 2011, Канада, бандиты, ганг...  \n",
       "3      45, лет, 2015, Великобритания, брак, жизнь, лю...  \n",
       "4      Все, решает, мгновение, 1978, СССР, сильные, ж...  \n",
       "15958  убийство, вирус, расследование преступления, н...  \n",
       "15959                              Надежда, 2020, Россия  \n",
       "15960                               Сговор, 2017, Россия  \n",
       "15961                        Среди, камней, 2019, Россия  \n",
       "15962                                 Гоша, 2019, Россия  "
      ]
     },
     "execution_count": 73,
     "metadata": {},
     "output_type": "execute_result"
    }
   ],
   "source": [
    "headtail(items)"
   ]
  },
  {
   "cell_type": "code",
   "execution_count": 25,
   "metadata": {
    "ExecuteTime": {
     "end_time": "2022-12-14T18:50:45.404850Z",
     "start_time": "2022-12-14T18:50:45.090735Z"
    }
   },
   "outputs": [
    {
     "ename": "NameError",
     "evalue": "name 'train' is not defined",
     "output_type": "error",
     "traceback": [
      "\u001b[0;31m---------------------------------------------------------------------------\u001b[0m",
      "\u001b[0;31mNameError\u001b[0m                                 Traceback (most recent call last)",
      "Cell \u001b[0;32mIn [25], line 1\u001b[0m\n\u001b[0;32m----> 1\u001b[0m items \u001b[38;5;241m=\u001b[39m items\u001b[38;5;241m.\u001b[39mloc[items[Columns\u001b[38;5;241m.\u001b[39mItem]\u001b[38;5;241m.\u001b[39misin(\u001b[43mtrain\u001b[49m[Columns\u001b[38;5;241m.\u001b[39mItem])]\u001b[38;5;241m.\u001b[39mcopy()\n",
      "\u001b[0;31mNameError\u001b[0m: name 'train' is not defined"
     ]
    }
   ],
   "source": [
    "items = items.loc[items[Columns.Item].isin(train[Columns.Item])].copy()"
   ]
  },
  {
   "cell_type": "code",
   "execution_count": 34,
   "metadata": {
    "ExecuteTime": {
     "end_time": "2022-12-14T18:51:10.312555Z",
     "start_time": "2022-12-14T18:51:10.288509Z"
    }
   },
   "outputs": [
    {
     "data": {
      "text/html": [
       "<div>\n",
       "<style scoped>\n",
       "    .dataframe tbody tr th:only-of-type {\n",
       "        vertical-align: middle;\n",
       "    }\n",
       "\n",
       "    .dataframe tbody tr th {\n",
       "        vertical-align: top;\n",
       "    }\n",
       "\n",
       "    .dataframe thead th {\n",
       "        text-align: right;\n",
       "    }\n",
       "</style>\n",
       "<table border=\"1\" class=\"dataframe\">\n",
       "  <thead>\n",
       "    <tr style=\"text-align: right;\">\n",
       "      <th></th>\n",
       "      <th>item_id</th>\n",
       "      <th>content_type</th>\n",
       "      <th>title</th>\n",
       "      <th>title_orig</th>\n",
       "      <th>release_year</th>\n",
       "      <th>genres</th>\n",
       "      <th>countries</th>\n",
       "      <th>for_kids</th>\n",
       "      <th>age_rating</th>\n",
       "      <th>studios</th>\n",
       "      <th>directors</th>\n",
       "      <th>actors</th>\n",
       "      <th>description</th>\n",
       "      <th>keywords</th>\n",
       "    </tr>\n",
       "  </thead>\n",
       "  <tbody>\n",
       "    <tr>\n",
       "      <th>0</th>\n",
       "      <td>10711</td>\n",
       "      <td>film</td>\n",
       "      <td>Поговори с ней</td>\n",
       "      <td>Hable con ella</td>\n",
       "      <td>2002.0</td>\n",
       "      <td>драмы, зарубежные, детективы, мелодрамы</td>\n",
       "      <td>Испания</td>\n",
       "      <td>False</td>\n",
       "      <td>16</td>\n",
       "      <td>NaN</td>\n",
       "      <td>Педро Альмодовар</td>\n",
       "      <td>Адольфо Фернандес, Ана Фернандес, Дарио Гранди...</td>\n",
       "      <td>Мелодрама легендарного Педро Альмодовара «Пого...</td>\n",
       "      <td>Поговори, ней, 2002, Испания, друзья, любовь, ...</td>\n",
       "    </tr>\n",
       "    <tr>\n",
       "      <th>1</th>\n",
       "      <td>2508</td>\n",
       "      <td>film</td>\n",
       "      <td>Голые перцы</td>\n",
       "      <td>Search Party</td>\n",
       "      <td>2014.0</td>\n",
       "      <td>зарубежные, приключения, комедии</td>\n",
       "      <td>США</td>\n",
       "      <td>False</td>\n",
       "      <td>16</td>\n",
       "      <td>NaN</td>\n",
       "      <td>Скот Армстронг</td>\n",
       "      <td>Адам Палли, Брайан Хаски, Дж.Б. Смув, Джейсон ...</td>\n",
       "      <td>Уморительная современная комедия на популярную...</td>\n",
       "      <td>Голые, перцы, 2014, США, друзья, свадьбы, прео...</td>\n",
       "    </tr>\n",
       "    <tr>\n",
       "      <th>2</th>\n",
       "      <td>10716</td>\n",
       "      <td>film</td>\n",
       "      <td>Тактическая сила</td>\n",
       "      <td>Tactical Force</td>\n",
       "      <td>2011.0</td>\n",
       "      <td>криминал, зарубежные, триллеры, боевики, комедии</td>\n",
       "      <td>Канада</td>\n",
       "      <td>False</td>\n",
       "      <td>16</td>\n",
       "      <td>NaN</td>\n",
       "      <td>Адам П. Калтраро</td>\n",
       "      <td>Адриан Холмс, Даррен Шалави, Джерри Вассерман,...</td>\n",
       "      <td>Профессиональный рестлер Стив Остин («Все или ...</td>\n",
       "      <td>Тактическая, сила, 2011, Канада, бандиты, ганг...</td>\n",
       "    </tr>\n",
       "    <tr>\n",
       "      <th>3</th>\n",
       "      <td>7868</td>\n",
       "      <td>film</td>\n",
       "      <td>45 лет</td>\n",
       "      <td>45 Years</td>\n",
       "      <td>2015.0</td>\n",
       "      <td>драмы, зарубежные, мелодрамы</td>\n",
       "      <td>Великобритания</td>\n",
       "      <td>False</td>\n",
       "      <td>16</td>\n",
       "      <td>NaN</td>\n",
       "      <td>Эндрю Хэй</td>\n",
       "      <td>Александра Риддлстон-Барретт, Джеральдин Джейм...</td>\n",
       "      <td>Шарлотта Рэмплинг, Том Кортни, Джеральдин Джей...</td>\n",
       "      <td>45, лет, 2015, Великобритания, брак, жизнь, лю...</td>\n",
       "    </tr>\n",
       "    <tr>\n",
       "      <th>4</th>\n",
       "      <td>16268</td>\n",
       "      <td>film</td>\n",
       "      <td>Все решает мгновение</td>\n",
       "      <td>NaN</td>\n",
       "      <td>1978.0</td>\n",
       "      <td>драмы, спорт, советские, мелодрамы</td>\n",
       "      <td>СССР</td>\n",
       "      <td>True</td>\n",
       "      <td>12</td>\n",
       "      <td>Ленфильм</td>\n",
       "      <td>Виктор Садовский</td>\n",
       "      <td>Александр Абдулов, Александр Демьяненко, Алекс...</td>\n",
       "      <td>Расчетливая чаровница из советского кинохита «...</td>\n",
       "      <td>Все, решает, мгновение, 1978, СССР, сильные, ж...</td>\n",
       "    </tr>\n",
       "  </tbody>\n",
       "</table>\n",
       "</div>"
      ],
      "text/plain": [
       "   item_id content_type                 title      title_orig  release_year  \\\n",
       "0    10711         film        Поговори с ней  Hable con ella        2002.0   \n",
       "1     2508         film           Голые перцы    Search Party        2014.0   \n",
       "2    10716         film      Тактическая сила  Tactical Force        2011.0   \n",
       "3     7868         film                45 лет        45 Years        2015.0   \n",
       "4    16268         film  Все решает мгновение             NaN        1978.0   \n",
       "\n",
       "                                             genres       countries  for_kids  \\\n",
       "0           драмы, зарубежные, детективы, мелодрамы         Испания     False   \n",
       "1                  зарубежные, приключения, комедии             США     False   \n",
       "2  криминал, зарубежные, триллеры, боевики, комедии          Канада     False   \n",
       "3                      драмы, зарубежные, мелодрамы  Великобритания     False   \n",
       "4                драмы, спорт, советские, мелодрамы            СССР      True   \n",
       "\n",
       "   age_rating   studios         directors  \\\n",
       "0          16       NaN  Педро Альмодовар   \n",
       "1          16       NaN    Скот Армстронг   \n",
       "2          16       NaN  Адам П. Калтраро   \n",
       "3          16       NaN         Эндрю Хэй   \n",
       "4          12  Ленфильм  Виктор Садовский   \n",
       "\n",
       "                                              actors  \\\n",
       "0  Адольфо Фернандес, Ана Фернандес, Дарио Гранди...   \n",
       "1  Адам Палли, Брайан Хаски, Дж.Б. Смув, Джейсон ...   \n",
       "2  Адриан Холмс, Даррен Шалави, Джерри Вассерман,...   \n",
       "3  Александра Риддлстон-Барретт, Джеральдин Джейм...   \n",
       "4  Александр Абдулов, Александр Демьяненко, Алекс...   \n",
       "\n",
       "                                         description  \\\n",
       "0  Мелодрама легендарного Педро Альмодовара «Пого...   \n",
       "1  Уморительная современная комедия на популярную...   \n",
       "2  Профессиональный рестлер Стив Остин («Все или ...   \n",
       "3  Шарлотта Рэмплинг, Том Кортни, Джеральдин Джей...   \n",
       "4  Расчетливая чаровница из советского кинохита «...   \n",
       "\n",
       "                                            keywords  \n",
       "0  Поговори, ней, 2002, Испания, друзья, любовь, ...  \n",
       "1  Голые, перцы, 2014, США, друзья, свадьбы, прео...  \n",
       "2  Тактическая, сила, 2011, Канада, бандиты, ганг...  \n",
       "3  45, лет, 2015, Великобритания, брак, жизнь, лю...  \n",
       "4  Все, решает, мгновение, 1978, СССР, сильные, ж...  "
      ]
     },
     "execution_count": 34,
     "metadata": {},
     "output_type": "execute_result"
    }
   ],
   "source": [
    "items.head()"
   ]
  },
  {
   "cell_type": "markdown",
   "metadata": {},
   "source": [
    "#### Genre"
   ]
  },
  {
   "cell_type": "code",
   "execution_count": 74,
   "metadata": {
    "ExecuteTime": {
     "end_time": "2022-12-14T18:53:54.754836Z",
     "start_time": "2022-12-14T18:53:54.742383Z"
    }
   },
   "outputs": [
    {
     "data": {
      "text/plain": [
       "0"
      ]
     },
     "execution_count": 74,
     "metadata": {},
     "output_type": "execute_result"
    }
   ],
   "source": [
    "items[\"genres\"].isna().sum()"
   ]
  },
  {
   "cell_type": "code",
   "execution_count": 75,
   "metadata": {
    "ExecuteTime": {
     "end_time": "2022-12-14T18:53:54.881324Z",
     "start_time": "2022-12-14T18:53:54.759593Z"
    }
   },
   "outputs": [
    {
     "data": {
      "text/html": [
       "<div>\n",
       "<style scoped>\n",
       "    .dataframe tbody tr th:only-of-type {\n",
       "        vertical-align: middle;\n",
       "    }\n",
       "\n",
       "    .dataframe tbody tr th {\n",
       "        vertical-align: top;\n",
       "    }\n",
       "\n",
       "    .dataframe thead th {\n",
       "        text-align: right;\n",
       "    }\n",
       "</style>\n",
       "<table border=\"1\" class=\"dataframe\">\n",
       "  <thead>\n",
       "    <tr style=\"text-align: right;\">\n",
       "      <th></th>\n",
       "      <th>id</th>\n",
       "      <th>value</th>\n",
       "      <th>feature</th>\n",
       "    </tr>\n",
       "  </thead>\n",
       "  <tbody>\n",
       "    <tr>\n",
       "      <th>0</th>\n",
       "      <td>10711</td>\n",
       "      <td>драмы</td>\n",
       "      <td>genre</td>\n",
       "    </tr>\n",
       "    <tr>\n",
       "      <th>0</th>\n",
       "      <td>10711</td>\n",
       "      <td>зарубежные</td>\n",
       "      <td>genre</td>\n",
       "    </tr>\n",
       "    <tr>\n",
       "      <th>0</th>\n",
       "      <td>10711</td>\n",
       "      <td>детективы</td>\n",
       "      <td>genre</td>\n",
       "    </tr>\n",
       "    <tr>\n",
       "      <th>0</th>\n",
       "      <td>10711</td>\n",
       "      <td>мелодрамы</td>\n",
       "      <td>genre</td>\n",
       "    </tr>\n",
       "    <tr>\n",
       "      <th>1</th>\n",
       "      <td>2508</td>\n",
       "      <td>зарубежные</td>\n",
       "      <td>genre</td>\n",
       "    </tr>\n",
       "  </tbody>\n",
       "</table>\n",
       "</div>"
      ],
      "text/plain": [
       "      id       value feature\n",
       "0  10711       драмы   genre\n",
       "0  10711  зарубежные   genre\n",
       "0  10711   детективы   genre\n",
       "0  10711   мелодрамы   genre\n",
       "1   2508  зарубежные   genre"
      ]
     },
     "execution_count": 75,
     "metadata": {},
     "output_type": "execute_result"
    }
   ],
   "source": [
    "# Explode genres to flatten table\n",
    "items[\"genre\"] = (\n",
    "    items[\"genres\"].str.lower().str.replace(\", \", \",\", regex=False).str.split(\",\")\n",
    ")\n",
    "genre_feature = items[[\"item_id\", \"genre\"]].explode(\"genre\")\n",
    "genre_feature.columns = [\"id\", \"value\"]\n",
    "genre_feature[\"feature\"] = \"genre\"\n",
    "genre_feature.head()"
   ]
  },
  {
   "cell_type": "markdown",
   "metadata": {},
   "source": [
    "#### Content"
   ]
  },
  {
   "cell_type": "markdown",
   "metadata": {},
   "source": [
    "Признак уже готов"
   ]
  },
  {
   "cell_type": "code",
   "execution_count": 76,
   "metadata": {
    "ExecuteTime": {
     "end_time": "2022-12-14T18:53:56.503718Z",
     "start_time": "2022-12-14T18:53:56.496938Z"
    }
   },
   "outputs": [
    {
     "data": {
      "text/plain": [
       "0"
      ]
     },
     "execution_count": 76,
     "metadata": {},
     "output_type": "execute_result"
    }
   ],
   "source": [
    "items[\"content_type\"].isna().sum()"
   ]
  },
  {
   "cell_type": "code",
   "execution_count": 77,
   "metadata": {
    "ExecuteTime": {
     "end_time": "2022-12-14T18:53:56.866510Z",
     "start_time": "2022-12-14T18:53:56.853018Z"
    }
   },
   "outputs": [
    {
     "data": {
      "text/plain": [
       "array(['film', 'series'], dtype=object)"
      ]
     },
     "execution_count": 77,
     "metadata": {},
     "output_type": "execute_result"
    }
   ],
   "source": [
    "items[\"content_type\"].unique()"
   ]
  },
  {
   "cell_type": "markdown",
   "metadata": {},
   "source": [
    "#### Release year"
   ]
  },
  {
   "cell_type": "code",
   "execution_count": 78,
   "metadata": {
    "ExecuteTime": {
     "end_time": "2022-12-14T18:53:57.560426Z",
     "start_time": "2022-12-14T18:53:57.512481Z"
    }
   },
   "outputs": [
    {
     "data": {
      "text/html": [
       "<div>\n",
       "<style scoped>\n",
       "    .dataframe tbody tr th:only-of-type {\n",
       "        vertical-align: middle;\n",
       "    }\n",
       "\n",
       "    .dataframe tbody tr th {\n",
       "        vertical-align: top;\n",
       "    }\n",
       "\n",
       "    .dataframe thead th {\n",
       "        text-align: right;\n",
       "    }\n",
       "</style>\n",
       "<table border=\"1\" class=\"dataframe\">\n",
       "  <thead>\n",
       "    <tr style=\"text-align: right;\">\n",
       "      <th></th>\n",
       "      <th>item_id</th>\n",
       "      <th>content_type</th>\n",
       "      <th>title</th>\n",
       "      <th>title_orig</th>\n",
       "      <th>release_year</th>\n",
       "      <th>genres</th>\n",
       "      <th>countries</th>\n",
       "      <th>for_kids</th>\n",
       "      <th>age_rating</th>\n",
       "      <th>studios</th>\n",
       "      <th>directors</th>\n",
       "      <th>actors</th>\n",
       "      <th>description</th>\n",
       "      <th>keywords</th>\n",
       "      <th>genre</th>\n",
       "    </tr>\n",
       "  </thead>\n",
       "  <tbody>\n",
       "    <tr>\n",
       "      <th>89</th>\n",
       "      <td>10950</td>\n",
       "      <td>series</td>\n",
       "      <td>Начни дома</td>\n",
       "      <td>NaN</td>\n",
       "      <td>NaN</td>\n",
       "      <td>фитнес</td>\n",
       "      <td>Россия</td>\n",
       "      <td>NaN</td>\n",
       "      <td>6.0</td>\n",
       "      <td>NaN</td>\n",
       "      <td>NaN</td>\n",
       "      <td>NaN</td>\n",
       "      <td>Приведи себя в хорошую форму дома с минимальны...</td>\n",
       "      <td>Начни, дома, Россия, спорт-фитнес, спорт-трене...</td>\n",
       "      <td>[фитнес]</td>\n",
       "    </tr>\n",
       "    <tr>\n",
       "      <th>294</th>\n",
       "      <td>3901</td>\n",
       "      <td>series</td>\n",
       "      <td>Красота лица</td>\n",
       "      <td>NaN</td>\n",
       "      <td>NaN</td>\n",
       "      <td>фитнес</td>\n",
       "      <td>Россия</td>\n",
       "      <td>NaN</td>\n",
       "      <td>0.0</td>\n",
       "      <td>NaN</td>\n",
       "      <td>NaN</td>\n",
       "      <td>NaN</td>\n",
       "      <td>Motify научит вас простым, но очень эффективны...</td>\n",
       "      <td>Красота, лица, 2020, Россия, спорт-фитнес, спо...</td>\n",
       "      <td>[фитнес]</td>\n",
       "    </tr>\n",
       "    <tr>\n",
       "      <th>374</th>\n",
       "      <td>10656</td>\n",
       "      <td>series</td>\n",
       "      <td>Медитации для жизни</td>\n",
       "      <td>NaN</td>\n",
       "      <td>NaN</td>\n",
       "      <td>фитнес</td>\n",
       "      <td>NaN</td>\n",
       "      <td>NaN</td>\n",
       "      <td>6.0</td>\n",
       "      <td>NaN</td>\n",
       "      <td>NaN</td>\n",
       "      <td>NaN</td>\n",
       "      <td>В этой программе собраны 3 базовых урока, на к...</td>\n",
       "      <td>Медитации, для, жизни, спорт-фитнес, спорт-тре...</td>\n",
       "      <td>[фитнес]</td>\n",
       "    </tr>\n",
       "    <tr>\n",
       "      <th>375</th>\n",
       "      <td>11526</td>\n",
       "      <td>series</td>\n",
       "      <td>Психология питания</td>\n",
       "      <td>NaN</td>\n",
       "      <td>NaN</td>\n",
       "      <td>фитнес, спорт</td>\n",
       "      <td>NaN</td>\n",
       "      <td>NaN</td>\n",
       "      <td>6.0</td>\n",
       "      <td>NaN</td>\n",
       "      <td>NaN</td>\n",
       "      <td>NaN</td>\n",
       "      <td>В программе от Motify ты узнаешь о психологиче...</td>\n",
       "      <td>Психология, питания</td>\n",
       "      <td>[фитнес, спорт]</td>\n",
       "    </tr>\n",
       "    <tr>\n",
       "      <th>572</th>\n",
       "      <td>11532</td>\n",
       "      <td>series</td>\n",
       "      <td>Йога старт</td>\n",
       "      <td>NaN</td>\n",
       "      <td>NaN</td>\n",
       "      <td>фитнес</td>\n",
       "      <td>Россия</td>\n",
       "      <td>NaN</td>\n",
       "      <td>6.0</td>\n",
       "      <td>NaN</td>\n",
       "      <td>NaN</td>\n",
       "      <td>NaN</td>\n",
       "      <td>Программа от Motify подойдет для любого уровня...</td>\n",
       "      <td>Йога, 2020, Россия, спорт-фитнес, спорт-тренер...</td>\n",
       "      <td>[фитнес]</td>\n",
       "    </tr>\n",
       "    <tr>\n",
       "      <th>...</th>\n",
       "      <td>...</td>\n",
       "      <td>...</td>\n",
       "      <td>...</td>\n",
       "      <td>...</td>\n",
       "      <td>...</td>\n",
       "      <td>...</td>\n",
       "      <td>...</td>\n",
       "      <td>...</td>\n",
       "      <td>...</td>\n",
       "      <td>...</td>\n",
       "      <td>...</td>\n",
       "      <td>...</td>\n",
       "      <td>...</td>\n",
       "      <td>...</td>\n",
       "      <td>...</td>\n",
       "    </tr>\n",
       "    <tr>\n",
       "      <th>15391</th>\n",
       "      <td>12643</td>\n",
       "      <td>series</td>\n",
       "      <td>Идеальная осанка и мышечный рельеф</td>\n",
       "      <td>NaN</td>\n",
       "      <td>NaN</td>\n",
       "      <td>фитнес</td>\n",
       "      <td>Россия</td>\n",
       "      <td>NaN</td>\n",
       "      <td>6.0</td>\n",
       "      <td>NaN</td>\n",
       "      <td>NaN</td>\n",
       "      <td>NaN</td>\n",
       "      <td>Программа от Motify представляет собой функцио...</td>\n",
       "      <td>Идеальная, осанка, мышечный, рельеф, Россия, с...</td>\n",
       "      <td>[фитнес]</td>\n",
       "    </tr>\n",
       "    <tr>\n",
       "      <th>15609</th>\n",
       "      <td>15173</td>\n",
       "      <td>film</td>\n",
       "      <td>Порт - Сересо Осака</td>\n",
       "      <td>NaN</td>\n",
       "      <td>NaN</td>\n",
       "      <td>футбол</td>\n",
       "      <td>Россия</td>\n",
       "      <td>NaN</td>\n",
       "      <td>0.0</td>\n",
       "      <td>NaN</td>\n",
       "      <td>NaN</td>\n",
       "      <td>NaN</td>\n",
       "      <td>Лига чемпионов AFC - это главный клубный футбо...</td>\n",
       "      <td>Порт, -, Сересо, Осака, Россия, спорт-фитнес, ...</td>\n",
       "      <td>[футбол]</td>\n",
       "    </tr>\n",
       "    <tr>\n",
       "      <th>15826</th>\n",
       "      <td>8206</td>\n",
       "      <td>series</td>\n",
       "      <td>Рацион на 1478 ккал</td>\n",
       "      <td>NaN</td>\n",
       "      <td>NaN</td>\n",
       "      <td>фитнес</td>\n",
       "      <td>Россия</td>\n",
       "      <td>NaN</td>\n",
       "      <td>6.0</td>\n",
       "      <td>NaN</td>\n",
       "      <td>NaN</td>\n",
       "      <td>NaN</td>\n",
       "      <td>Готовый рацион на день от Motify. Состоит из п...</td>\n",
       "      <td>Рацион, 1478, ккал, Россия, спорт-фитнес, спор...</td>\n",
       "      <td>[фитнес]</td>\n",
       "    </tr>\n",
       "    <tr>\n",
       "      <th>15827</th>\n",
       "      <td>13968</td>\n",
       "      <td>series</td>\n",
       "      <td>Рацион на 2534 ккал</td>\n",
       "      <td>NaN</td>\n",
       "      <td>NaN</td>\n",
       "      <td>фитнес</td>\n",
       "      <td>Россия</td>\n",
       "      <td>NaN</td>\n",
       "      <td>6.0</td>\n",
       "      <td>NaN</td>\n",
       "      <td>NaN</td>\n",
       "      <td>NaN</td>\n",
       "      <td>Готовые рецепты с подробной инструкцией. 4 при...</td>\n",
       "      <td>Рацион, 2534, ккал, Россия, спорт-фитнес, спор...</td>\n",
       "      <td>[фитнес]</td>\n",
       "    </tr>\n",
       "    <tr>\n",
       "      <th>15948</th>\n",
       "      <td>1830</td>\n",
       "      <td>series</td>\n",
       "      <td>Секреты ежедневного фэйсфитнеса</td>\n",
       "      <td>NaN</td>\n",
       "      <td>NaN</td>\n",
       "      <td>фитнес</td>\n",
       "      <td>Россия</td>\n",
       "      <td>NaN</td>\n",
       "      <td>6.0</td>\n",
       "      <td>NaN</td>\n",
       "      <td>NaN</td>\n",
       "      <td>NaN</td>\n",
       "      <td>Ежедневный уход за лицом изменит вашу жизнь. П...</td>\n",
       "      <td>Секреты, ежедневного, фэйсфитнеса, Россия, спо...</td>\n",
       "      <td>[фитнес]</td>\n",
       "    </tr>\n",
       "  </tbody>\n",
       "</table>\n",
       "<p>98 rows × 15 columns</p>\n",
       "</div>"
      ],
      "text/plain": [
       "       item_id content_type                               title title_orig  \\\n",
       "89       10950       series                          Начни дома        NaN   \n",
       "294       3901       series                        Красота лица        NaN   \n",
       "374      10656       series                 Медитации для жизни        NaN   \n",
       "375      11526       series                  Психология питания        NaN   \n",
       "572      11532       series                          Йога старт        NaN   \n",
       "...        ...          ...                                 ...        ...   \n",
       "15391    12643       series  Идеальная осанка и мышечный рельеф        NaN   \n",
       "15609    15173         film                 Порт - Сересо Осака        NaN   \n",
       "15826     8206       series                 Рацион на 1478 ккал        NaN   \n",
       "15827    13968       series                 Рацион на 2534 ккал        NaN   \n",
       "15948     1830       series     Секреты ежедневного фэйсфитнеса        NaN   \n",
       "\n",
       "       release_year         genres countries  for_kids  age_rating studios  \\\n",
       "89              NaN         фитнес    Россия       NaN         6.0     NaN   \n",
       "294             NaN         фитнес    Россия       NaN         0.0     NaN   \n",
       "374             NaN         фитнес       NaN       NaN         6.0     NaN   \n",
       "375             NaN  фитнес, спорт       NaN       NaN         6.0     NaN   \n",
       "572             NaN         фитнес    Россия       NaN         6.0     NaN   \n",
       "...             ...            ...       ...       ...         ...     ...   \n",
       "15391           NaN         фитнес    Россия       NaN         6.0     NaN   \n",
       "15609           NaN         футбол    Россия       NaN         0.0     NaN   \n",
       "15826           NaN         фитнес    Россия       NaN         6.0     NaN   \n",
       "15827           NaN         фитнес    Россия       NaN         6.0     NaN   \n",
       "15948           NaN         фитнес    Россия       NaN         6.0     NaN   \n",
       "\n",
       "      directors actors                                        description  \\\n",
       "89          NaN    NaN  Приведи себя в хорошую форму дома с минимальны...   \n",
       "294         NaN    NaN  Motify научит вас простым, но очень эффективны...   \n",
       "374         NaN    NaN  В этой программе собраны 3 базовых урока, на к...   \n",
       "375         NaN    NaN  В программе от Motify ты узнаешь о психологиче...   \n",
       "572         NaN    NaN  Программа от Motify подойдет для любого уровня...   \n",
       "...         ...    ...                                                ...   \n",
       "15391       NaN    NaN  Программа от Motify представляет собой функцио...   \n",
       "15609       NaN    NaN  Лига чемпионов AFC - это главный клубный футбо...   \n",
       "15826       NaN    NaN  Готовый рацион на день от Motify. Состоит из п...   \n",
       "15827       NaN    NaN  Готовые рецепты с подробной инструкцией. 4 при...   \n",
       "15948       NaN    NaN  Ежедневный уход за лицом изменит вашу жизнь. П...   \n",
       "\n",
       "                                                keywords            genre  \n",
       "89     Начни, дома, Россия, спорт-фитнес, спорт-трене...         [фитнес]  \n",
       "294    Красота, лица, 2020, Россия, спорт-фитнес, спо...         [фитнес]  \n",
       "374    Медитации, для, жизни, спорт-фитнес, спорт-тре...         [фитнес]  \n",
       "375                                  Психология, питания  [фитнес, спорт]  \n",
       "572    Йога, 2020, Россия, спорт-фитнес, спорт-тренер...         [фитнес]  \n",
       "...                                                  ...              ...  \n",
       "15391  Идеальная, осанка, мышечный, рельеф, Россия, с...         [фитнес]  \n",
       "15609  Порт, -, Сересо, Осака, Россия, спорт-фитнес, ...         [футбол]  \n",
       "15826  Рацион, 1478, ккал, Россия, спорт-фитнес, спор...         [фитнес]  \n",
       "15827  Рацион, 2534, ккал, Россия, спорт-фитнес, спор...         [фитнес]  \n",
       "15948  Секреты, ежедневного, фэйсфитнеса, Россия, спо...         [фитнес]  \n",
       "\n",
       "[98 rows x 15 columns]"
      ]
     },
     "execution_count": 78,
     "metadata": {},
     "output_type": "execute_result"
    }
   ],
   "source": [
    "items[items[\"release_year\"].isna()]"
   ]
  },
  {
   "cell_type": "markdown",
   "metadata": {},
   "source": [
    "Небольшое число айтемов с отсутствующей датой выхода. Судя по жанрам (в основном фитнес) и названиям, это с большой вероятностью вещи, вышедшие недавно, поэтому заполним все `null` значениями последним годом"
   ]
  },
  {
   "cell_type": "code",
   "execution_count": 79,
   "metadata": {
    "ExecuteTime": {
     "end_time": "2022-12-14T18:53:58.578213Z",
     "start_time": "2022-12-14T18:53:58.568299Z"
    }
   },
   "outputs": [],
   "source": [
    "items[\"release_year\"].fillna(int(items[\"release_year\"].max()), inplace=True)"
   ]
  },
  {
   "cell_type": "markdown",
   "metadata": {},
   "source": [
    "Преобразуем"
   ]
  },
  {
   "cell_type": "code",
   "execution_count": 80,
   "metadata": {
    "ExecuteTime": {
     "end_time": "2022-12-14T18:53:59.367098Z",
     "start_time": "2022-12-14T18:53:59.348605Z"
    }
   },
   "outputs": [],
   "source": [
    "items = items.astype({\"release_year\": int})"
   ]
  },
  {
   "cell_type": "code",
   "execution_count": 81,
   "metadata": {
    "ExecuteTime": {
     "end_time": "2022-12-14T18:54:00.826777Z",
     "start_time": "2022-12-14T18:53:59.915081Z"
    }
   },
   "outputs": [
    {
     "data": {
      "image/png": "[encoded data removed]",
      "text/plain": [
       "<Figure size 1000x400 with 1 Axes>"
      ]
     },
     "metadata": {},
     "output_type": "display_data"
    }
   ],
   "source": [
    "plt.figure(figsize=(10, 4))\n",
    "plot = sns.countplot(x=items[\"release_year\"])\n",
    "# plt.tight_layout()\n",
    "\n",
    "for ind, label in enumerate(plot.get_xticklabels()):\n",
    "    if ind % 10 == 0:  # every 10th label is kept\n",
    "        label.set_visible(True)\n",
    "    else:\n",
    "        label.set_visible(False)"
   ]
  },
  {
   "cell_type": "markdown",
   "metadata": {},
   "source": [
    "Видим, что количество фильмов, вышедших с 1897 по ~1977, гораздо меньше, чем вышедших позже, поэтому логичнее отрезок последних лет разбить на более мелкие равные интервалы, а фильмы прошлого поместить в один более длительный"
   ]
  },
  {
   "cell_type": "code",
   "execution_count": 82,
   "metadata": {
    "ExecuteTime": {
     "end_time": "2022-12-14T18:54:00.839712Z",
     "start_time": "2022-12-14T18:54:00.833133Z"
    }
   },
   "outputs": [],
   "source": [
    "year_from = 1977\n",
    "step = 5\n",
    "bins = [year for year in range(year_from, items[\"release_year\"].max() + step, step)]"
   ]
  },
  {
   "cell_type": "code",
   "execution_count": 83,
   "metadata": {
    "ExecuteTime": {
     "end_time": "2022-12-14T18:54:01.466891Z",
     "start_time": "2022-12-14T18:54:01.459508Z"
    }
   },
   "outputs": [
    {
     "data": {
      "text/plain": [
       "[1977, 1982, 1987, 1992, 1997, 2002, 2007, 2012, 2017, 2022]"
      ]
     },
     "execution_count": 83,
     "metadata": {},
     "output_type": "execute_result"
    }
   ],
   "source": [
    "bins"
   ]
  },
  {
   "cell_type": "markdown",
   "metadata": {},
   "source": [
    "Делаем интервалы (строгое вхождение)"
   ]
  },
  {
   "cell_type": "code",
   "execution_count": 84,
   "metadata": {
    "ExecuteTime": {
     "end_time": "2022-12-14T18:54:02.043849Z",
     "start_time": "2022-12-14T18:54:02.038953Z"
    }
   },
   "outputs": [],
   "source": [
    "bins_bias = [item + 1 for item in bins]"
   ]
  },
  {
   "cell_type": "code",
   "execution_count": 85,
   "metadata": {
    "ExecuteTime": {
     "end_time": "2022-12-14T18:54:02.335634Z",
     "start_time": "2022-12-14T18:54:02.320884Z"
    }
   },
   "outputs": [
    {
     "data": {
      "text/plain": [
       "[(1978, 1982),\n",
       " (1983, 1987),\n",
       " (1988, 1992),\n",
       " (1993, 1997),\n",
       " (1998, 2002),\n",
       " (2003, 2007),\n",
       " (2008, 2012),\n",
       " (2013, 2017),\n",
       " (2018, 2022)]"
      ]
     },
     "execution_count": 85,
     "metadata": {},
     "output_type": "execute_result"
    }
   ],
   "source": [
    "pairs_strict = list(zip(bins_bias, bins[1:]))\n",
    "pairs_strict"
   ]
  },
  {
   "cell_type": "code",
   "execution_count": 86,
   "metadata": {
    "ExecuteTime": {
     "end_time": "2022-12-14T18:54:02.661137Z",
     "start_time": "2022-12-14T18:54:02.651748Z"
    }
   },
   "outputs": [],
   "source": [
    "# Add the most first release year\n",
    "bins = [items[\"release_year\"].min()] + bins\n",
    "# Add interval for it\n",
    "pairs_strict = [(items[\"release_year\"].min(), bins[1])] + pairs_strict\n",
    "# Generate feature values\n",
    "labels = [f\"year_{item[0]}_{item[1]}\" for item in pairs_strict]"
   ]
  },
  {
   "cell_type": "code",
   "execution_count": 87,
   "metadata": {
    "ExecuteTime": {
     "end_time": "2022-12-14T18:54:02.973462Z",
     "start_time": "2022-12-14T18:54:02.966463Z"
    }
   },
   "outputs": [
    {
     "data": {
      "text/plain": [
       "['year_1897_1977',\n",
       " 'year_1978_1982',\n",
       " 'year_1983_1987',\n",
       " 'year_1988_1992',\n",
       " 'year_1993_1997',\n",
       " 'year_1998_2002',\n",
       " 'year_2003_2007',\n",
       " 'year_2008_2012',\n",
       " 'year_2013_2017',\n",
       " 'year_2018_2022']"
      ]
     },
     "execution_count": 87,
     "metadata": {},
     "output_type": "execute_result"
    }
   ],
   "source": [
    "labels"
   ]
  },
  {
   "cell_type": "code",
   "execution_count": 88,
   "metadata": {
    "ExecuteTime": {
     "end_time": "2022-12-14T18:54:03.223865Z",
     "start_time": "2022-12-14T18:54:03.215649Z"
    }
   },
   "outputs": [],
   "source": [
    "year_bins = pd.cut(items[\"release_year\"], bins=bins, labels=labels, include_lowest=True)"
   ]
  },
  {
   "cell_type": "code",
   "execution_count": 89,
   "metadata": {
    "ExecuteTime": {
     "end_time": "2022-12-14T18:54:03.463440Z",
     "start_time": "2022-12-14T18:54:03.449865Z"
    }
   },
   "outputs": [],
   "source": [
    "items[\"release_year\"] = year_bins.astype(str)"
   ]
  },
  {
   "cell_type": "code",
   "execution_count": 90,
   "metadata": {
    "ExecuteTime": {
     "end_time": "2022-12-14T18:54:03.769892Z",
     "start_time": "2022-12-14T18:54:03.758304Z"
    }
   },
   "outputs": [
    {
     "data": {
      "text/plain": [
       "array(['year_1998_2002', 'year_2013_2017', 'year_2008_2012',\n",
       "       'year_1978_1982', 'year_1897_1977', 'year_2018_2022',\n",
       "       'year_1983_1987', 'year_2003_2007', 'year_1988_1992',\n",
       "       'year_1993_1997'], dtype=object)"
      ]
     },
     "execution_count": 90,
     "metadata": {},
     "output_type": "execute_result"
    }
   ],
   "source": [
    "items[\"release_year\"].unique()"
   ]
  },
  {
   "cell_type": "markdown",
   "metadata": {},
   "source": [
    "#### Age rating"
   ]
  },
  {
   "cell_type": "code",
   "execution_count": 91,
   "metadata": {
    "ExecuteTime": {
     "end_time": "2022-12-14T18:54:04.363749Z",
     "start_time": "2022-12-14T18:54:04.354956Z"
    }
   },
   "outputs": [
    {
     "data": {
      "text/plain": [
       "array([16., 12.,  6., 18.,  0., 21., nan])"
      ]
     },
     "execution_count": 91,
     "metadata": {},
     "output_type": "execute_result"
    }
   ],
   "source": [
    "items[\"age_rating\"].unique()"
   ]
  },
  {
   "cell_type": "code",
   "execution_count": 92,
   "metadata": {
    "ExecuteTime": {
     "end_time": "2022-12-14T18:54:04.924451Z",
     "start_time": "2022-12-14T18:54:04.879810Z"
    }
   },
   "outputs": [
    {
     "data": {
      "text/html": [
       "<div>\n",
       "<style scoped>\n",
       "    .dataframe tbody tr th:only-of-type {\n",
       "        vertical-align: middle;\n",
       "    }\n",
       "\n",
       "    .dataframe tbody tr th {\n",
       "        vertical-align: top;\n",
       "    }\n",
       "\n",
       "    .dataframe thead th {\n",
       "        text-align: right;\n",
       "    }\n",
       "</style>\n",
       "<table border=\"1\" class=\"dataframe\">\n",
       "  <thead>\n",
       "    <tr style=\"text-align: right;\">\n",
       "      <th></th>\n",
       "      <th>item_id</th>\n",
       "      <th>content_type</th>\n",
       "      <th>title</th>\n",
       "      <th>title_orig</th>\n",
       "      <th>release_year</th>\n",
       "      <th>genres</th>\n",
       "      <th>countries</th>\n",
       "      <th>for_kids</th>\n",
       "      <th>age_rating</th>\n",
       "      <th>studios</th>\n",
       "      <th>directors</th>\n",
       "      <th>actors</th>\n",
       "      <th>description</th>\n",
       "      <th>keywords</th>\n",
       "      <th>genre</th>\n",
       "    </tr>\n",
       "  </thead>\n",
       "  <tbody>\n",
       "    <tr>\n",
       "      <th>8297</th>\n",
       "      <td>6316</td>\n",
       "      <td>series</td>\n",
       "      <td>Машины-помощники</td>\n",
       "      <td>NaN</td>\n",
       "      <td>year_2013_2017</td>\n",
       "      <td>русские, для детей, сериалы, хочу всё знать, р...</td>\n",
       "      <td>Россия</td>\n",
       "      <td>NaN</td>\n",
       "      <td>NaN</td>\n",
       "      <td>NaN</td>\n",
       "      <td>NaN</td>\n",
       "      <td>NaN</td>\n",
       "      <td>Маленькие мальчики всего мира любят играть в м...</td>\n",
       "      <td>Машины-помощники, 2017, Россия, работа, преодо...</td>\n",
       "      <td>[русские, для детей, сериалы, хочу всё знать, ...</td>\n",
       "    </tr>\n",
       "    <tr>\n",
       "      <th>12352</th>\n",
       "      <td>14409</td>\n",
       "      <td>series</td>\n",
       "      <td>БиБаБу</td>\n",
       "      <td>NaN</td>\n",
       "      <td>year_2013_2017</td>\n",
       "      <td>русские, сериалы, для детей, хочу всё знать, р...</td>\n",
       "      <td>Россия</td>\n",
       "      <td>NaN</td>\n",
       "      <td>NaN</td>\n",
       "      <td>NaN</td>\n",
       "      <td>NaN</td>\n",
       "      <td>NaN</td>\n",
       "      <td>В сказочное подводное царство приглашают мален...</td>\n",
       "      <td>друзья, магия и волшебство, рыбы, моря и океан...</td>\n",
       "      <td>[русские, сериалы, для детей, хочу всё знать, ...</td>\n",
       "    </tr>\n",
       "  </tbody>\n",
       "</table>\n",
       "</div>"
      ],
      "text/plain": [
       "       item_id content_type             title title_orig    release_year  \\\n",
       "8297      6316       series  Машины-помощники        NaN  year_2013_2017   \n",
       "12352    14409       series            БиБаБу        NaN  year_2013_2017   \n",
       "\n",
       "                                                  genres countries  for_kids  \\\n",
       "8297   русские, для детей, сериалы, хочу всё знать, р...    Россия       NaN   \n",
       "12352  русские, сериалы, для детей, хочу всё знать, р...    Россия       NaN   \n",
       "\n",
       "       age_rating studios directors actors  \\\n",
       "8297          NaN     NaN       NaN    NaN   \n",
       "12352         NaN     NaN       NaN    NaN   \n",
       "\n",
       "                                             description  \\\n",
       "8297   Маленькие мальчики всего мира любят играть в м...   \n",
       "12352  В сказочное подводное царство приглашают мален...   \n",
       "\n",
       "                                                keywords  \\\n",
       "8297   Машины-помощники, 2017, Россия, работа, преодо...   \n",
       "12352  друзья, магия и волшебство, рыбы, моря и океан...   \n",
       "\n",
       "                                                   genre  \n",
       "8297   [русские, для детей, сериалы, хочу всё знать, ...  \n",
       "12352  [русские, сериалы, для детей, хочу всё знать, ...  "
      ]
     },
     "execution_count": 92,
     "metadata": {},
     "output_type": "execute_result"
    }
   ],
   "source": [
    "items[items[\"age_rating\"].isna()]"
   ]
  },
  {
   "cell_type": "markdown",
   "metadata": {},
   "source": [
    "Вручную доопределим рейтинг этих мультфильмов"
   ]
  },
  {
   "cell_type": "code",
   "execution_count": 93,
   "metadata": {
    "ExecuteTime": {
     "end_time": "2022-12-14T18:54:06.006610Z",
     "start_time": "2022-12-14T18:54:05.996603Z"
    }
   },
   "outputs": [],
   "source": [
    "items[\"age_rating\"].fillna(0, inplace=True)"
   ]
  },
  {
   "cell_type": "code",
   "execution_count": 94,
   "metadata": {
    "ExecuteTime": {
     "end_time": "2022-12-14T18:54:06.398850Z",
     "start_time": "2022-12-14T18:54:06.379498Z"
    }
   },
   "outputs": [],
   "source": [
    "items = items.astype({\"age_rating\": int})"
   ]
  },
  {
   "cell_type": "markdown",
   "metadata": {},
   "source": [
    "#### For kids"
   ]
  },
  {
   "cell_type": "markdown",
   "metadata": {},
   "source": [
    "Если возраст 12+, тогда взрослый контент, иначе - детский "
   ]
  },
  {
   "cell_type": "code",
   "execution_count": 95,
   "metadata": {
    "ExecuteTime": {
     "end_time": "2022-12-14T18:54:07.438229Z",
     "start_time": "2022-12-14T18:54:07.421673Z"
    }
   },
   "outputs": [
    {
     "data": {
      "text/plain": [
       "15397"
      ]
     },
     "execution_count": 95,
     "metadata": {},
     "output_type": "execute_result"
    }
   ],
   "source": [
    "items[\"for_kids\"].isna().sum()"
   ]
  },
  {
   "cell_type": "code",
   "execution_count": 96,
   "metadata": {
    "ExecuteTime": {
     "end_time": "2022-12-14T18:54:07.894411Z",
     "start_time": "2022-12-14T18:54:07.886523Z"
    }
   },
   "outputs": [],
   "source": [
    "items.loc[items[\"age_rating\"] > 12, \"for_kids\"] = 0\n",
    "items.loc[items[\"age_rating\"] <= 12, \"for_kids\"] = 1"
   ]
  },
  {
   "cell_type": "code",
   "execution_count": 97,
   "metadata": {
    "ExecuteTime": {
     "end_time": "2022-12-14T18:54:08.354767Z",
     "start_time": "2022-12-14T18:54:08.337639Z"
    }
   },
   "outputs": [],
   "source": [
    "items = items.astype({\"for_kids\": bool})"
   ]
  },
  {
   "cell_type": "markdown",
   "metadata": {},
   "source": [
    "#### Generate item features dataset"
   ]
  },
  {
   "cell_type": "code",
   "execution_count": 98,
   "metadata": {
    "ExecuteTime": {
     "end_time": "2022-12-14T18:54:09.230289Z",
     "start_time": "2022-12-14T18:54:09.190823Z"
    }
   },
   "outputs": [
    {
     "data": {
      "text/html": [
       "<div>\n",
       "<style scoped>\n",
       "    .dataframe tbody tr th:only-of-type {\n",
       "        vertical-align: middle;\n",
       "    }\n",
       "\n",
       "    .dataframe tbody tr th {\n",
       "        vertical-align: top;\n",
       "    }\n",
       "\n",
       "    .dataframe thead th {\n",
       "        text-align: right;\n",
       "    }\n",
       "</style>\n",
       "<table border=\"1\" class=\"dataframe\">\n",
       "  <thead>\n",
       "    <tr style=\"text-align: right;\">\n",
       "      <th></th>\n",
       "      <th>id</th>\n",
       "      <th>value</th>\n",
       "      <th>feature</th>\n",
       "    </tr>\n",
       "  </thead>\n",
       "  <tbody>\n",
       "    <tr>\n",
       "      <th>0</th>\n",
       "      <td>10711</td>\n",
       "      <td>film</td>\n",
       "      <td>content_type</td>\n",
       "    </tr>\n",
       "    <tr>\n",
       "      <th>1</th>\n",
       "      <td>2508</td>\n",
       "      <td>film</td>\n",
       "      <td>content_type</td>\n",
       "    </tr>\n",
       "    <tr>\n",
       "      <th>2</th>\n",
       "      <td>10716</td>\n",
       "      <td>film</td>\n",
       "      <td>content_type</td>\n",
       "    </tr>\n",
       "    <tr>\n",
       "      <th>3</th>\n",
       "      <td>7868</td>\n",
       "      <td>film</td>\n",
       "      <td>content_type</td>\n",
       "    </tr>\n",
       "    <tr>\n",
       "      <th>4</th>\n",
       "      <td>16268</td>\n",
       "      <td>film</td>\n",
       "      <td>content_type</td>\n",
       "    </tr>\n",
       "    <tr>\n",
       "      <th>15960</th>\n",
       "      <td>10632</td>\n",
       "      <td>криминал</td>\n",
       "      <td>genre</td>\n",
       "    </tr>\n",
       "    <tr>\n",
       "      <th>15961</th>\n",
       "      <td>4538</td>\n",
       "      <td>драмы</td>\n",
       "      <td>genre</td>\n",
       "    </tr>\n",
       "    <tr>\n",
       "      <th>15961</th>\n",
       "      <td>4538</td>\n",
       "      <td>спорт</td>\n",
       "      <td>genre</td>\n",
       "    </tr>\n",
       "    <tr>\n",
       "      <th>15961</th>\n",
       "      <td>4538</td>\n",
       "      <td>криминал</td>\n",
       "      <td>genre</td>\n",
       "    </tr>\n",
       "    <tr>\n",
       "      <th>15962</th>\n",
       "      <td>3206</td>\n",
       "      <td>комедии</td>\n",
       "      <td>genre</td>\n",
       "    </tr>\n",
       "  </tbody>\n",
       "</table>\n",
       "</div>"
      ],
      "text/plain": [
       "          id     value       feature\n",
       "0      10711      film  content_type\n",
       "1       2508      film  content_type\n",
       "2      10716      film  content_type\n",
       "3       7868      film  content_type\n",
       "4      16268      film  content_type\n",
       "15960  10632  криминал         genre\n",
       "15961   4538     драмы         genre\n",
       "15961   4538     спорт         genre\n",
       "15961   4538  криминал         genre\n",
       "15962   3206   комедии         genre"
      ]
     },
     "execution_count": 98,
     "metadata": {},
     "output_type": "execute_result"
    }
   ],
   "source": [
    "item_features_frames = []\n",
    "for feature in [\"content_type\", \"release_year\", \"age_rating\", \"for_kids\"]:\n",
    "    feature_frame = items.reindex(columns=[Columns.Item, feature])\n",
    "    feature_frame.columns = [\"id\", \"value\"]\n",
    "    feature_frame[\"feature\"] = feature\n",
    "    item_features_frames.append(feature_frame)\n",
    "item_features_frames.append(genre_feature)\n",
    "item_features = pd.concat(item_features_frames)\n",
    "headtail(item_features)"
   ]
  },
  {
   "cell_type": "code",
   "execution_count": 99,
   "metadata": {
    "ExecuteTime": {
     "end_time": "2022-12-14T18:54:09.860358Z",
     "start_time": "2022-12-14T18:54:09.839341Z"
    }
   },
   "outputs": [
    {
     "data": {
      "text/html": [
       "<div>\n",
       "<style scoped>\n",
       "    .dataframe tbody tr th:only-of-type {\n",
       "        vertical-align: middle;\n",
       "    }\n",
       "\n",
       "    .dataframe tbody tr th {\n",
       "        vertical-align: top;\n",
       "    }\n",
       "\n",
       "    .dataframe thead th {\n",
       "        text-align: right;\n",
       "    }\n",
       "</style>\n",
       "<table border=\"1\" class=\"dataframe\">\n",
       "  <thead>\n",
       "    <tr style=\"text-align: right;\">\n",
       "      <th></th>\n",
       "      <th>id</th>\n",
       "      <th>value</th>\n",
       "      <th>feature</th>\n",
       "    </tr>\n",
       "  </thead>\n",
       "  <tbody>\n",
       "    <tr>\n",
       "      <th>0</th>\n",
       "      <td>10711</td>\n",
       "      <td>film</td>\n",
       "      <td>content_type</td>\n",
       "    </tr>\n",
       "    <tr>\n",
       "      <th>0</th>\n",
       "      <td>10711</td>\n",
       "      <td>year_1998_2002</td>\n",
       "      <td>release_year</td>\n",
       "    </tr>\n",
       "    <tr>\n",
       "      <th>0</th>\n",
       "      <td>10711</td>\n",
       "      <td>16</td>\n",
       "      <td>age_rating</td>\n",
       "    </tr>\n",
       "    <tr>\n",
       "      <th>0</th>\n",
       "      <td>10711</td>\n",
       "      <td>False</td>\n",
       "      <td>for_kids</td>\n",
       "    </tr>\n",
       "    <tr>\n",
       "      <th>0</th>\n",
       "      <td>10711</td>\n",
       "      <td>драмы</td>\n",
       "      <td>genre</td>\n",
       "    </tr>\n",
       "    <tr>\n",
       "      <th>0</th>\n",
       "      <td>10711</td>\n",
       "      <td>зарубежные</td>\n",
       "      <td>genre</td>\n",
       "    </tr>\n",
       "    <tr>\n",
       "      <th>0</th>\n",
       "      <td>10711</td>\n",
       "      <td>детективы</td>\n",
       "      <td>genre</td>\n",
       "    </tr>\n",
       "    <tr>\n",
       "      <th>0</th>\n",
       "      <td>10711</td>\n",
       "      <td>мелодрамы</td>\n",
       "      <td>genre</td>\n",
       "    </tr>\n",
       "  </tbody>\n",
       "</table>\n",
       "</div>"
      ],
      "text/plain": [
       "      id           value       feature\n",
       "0  10711            film  content_type\n",
       "0  10711  year_1998_2002  release_year\n",
       "0  10711              16    age_rating\n",
       "0  10711           False      for_kids\n",
       "0  10711           драмы         genre\n",
       "0  10711      зарубежные         genre\n",
       "0  10711       детективы         genre\n",
       "0  10711       мелодрамы         genre"
      ]
     },
     "execution_count": 99,
     "metadata": {},
     "output_type": "execute_result"
    }
   ],
   "source": [
    "item_features.query(f\"id == 10711\")"
   ]
  },
  {
   "cell_type": "markdown",
   "metadata": {},
   "source": [
    "### Validation scheme"
   ]
  },
  {
   "cell_type": "markdown",
   "metadata": {},
   "source": [
    "### Feature preparing"
   ]
  },
  {
   "cell_type": "markdown",
   "metadata": {},
   "source": [
    "## MAP@10 on the best model using TimeSplit() validation\n",
    "\n",
    "### Validation scheme"
   ]
  },
  {
   "cell_type": "markdown",
   "metadata": {},
   "source": [
    "Разбиение на фолды по временным интервалам. Схема\n",
    "- `[..., w4, w3, w2] | [w1]`\n",
    "- `[..., w4, w3] | [w2]`\n",
    "- `[..., w4] | [w3]`\n",
    "- `...`\n",
    "- `[..., w_(N+1)] | [wN]`"
   ]
  },
  {
   "cell_type": "code",
   "execution_count": 104,
   "metadata": {
    "ExecuteTime": {
     "end_time": "2022-12-14T18:56:28.455306Z",
     "start_time": "2022-12-14T18:56:28.421706Z"
    }
   },
   "outputs": [
    {
     "name": "stdout",
     "output_type": "stream",
     "text": [
      "\n",
      "    start_date: 2021-08-01 00:00:00\n",
      "    last_date: 2021-08-22 00:00:00\n",
      "    periods: 4\n",
      "    freq: 1W\n",
      "\n"
     ]
    },
    {
     "data": {
      "text/plain": [
       "DatetimeIndex(['2021-08-01', '2021-08-08', '2021-08-15', '2021-08-22'], dtype='datetime64[ns]', freq='W-SUN')"
      ]
     },
     "execution_count": 104,
     "metadata": {},
     "output_type": "execute_result"
    }
   ],
   "source": [
    "n_folds = 3\n",
    "unit = \"W\"\n",
    "n_units = 1\n",
    "last_date = interactions[Columns.Datetime].max()\n",
    "\n",
    "start_date = last_date - pd.Timedelta(n_folds * n_units, unit=unit)\n",
    "periods = n_folds + 1\n",
    "freq = f\"{n_units}{unit}\"\n",
    "print(\n",
    "    f\"\"\"\n",
    "    start_date: {start_date}\n",
    "    last_date: {last_date}\n",
    "    periods: {periods}\n",
    "    freq: {freq}\n",
    "\"\"\"\n",
    ")\n",
    "\n",
    "date_range = pd.date_range(\n",
    "    start=start_date, periods=periods, freq=freq, tz=last_date.tz\n",
    ")\n",
    "date_range"
   ]
  },
  {
   "cell_type": "code",
   "execution_count": 105,
   "metadata": {
    "ExecuteTime": {
     "end_time": "2022-12-14T18:56:29.227725Z",
     "start_time": "2022-12-14T18:56:29.223093Z"
    }
   },
   "outputs": [],
   "source": [
    "from itertools import tee\n",
    "\n",
    "\n",
    "def pairwise(iterable):\n",
    "    # pairwise('ABCDEFG') --> AB BC CD DE EF FG\n",
    "    a, b = tee(iterable)\n",
    "    next(b, None)\n",
    "    return zip(a, b)"
   ]
  },
  {
   "cell_type": "code",
   "execution_count": 109,
   "metadata": {
    "ExecuteTime": {
     "end_time": "2022-12-14T19:02:07.429304Z",
     "start_time": "2022-12-14T19:02:07.414693Z"
    }
   },
   "outputs": [],
   "source": [
    "class TimeSplit:\n",
    "    def __init__(\n",
    "        self,\n",
    "        date_range,\n",
    "        full=False,\n",
    "        filter_cold_users=True,\n",
    "        date_column=Columns.Datetime,\n",
    "    ):\n",
    "        self.date_range = date_range\n",
    "        self.filter_cold_users = filter_cold_users\n",
    "        self.date_column = date_column\n",
    "        self.full = full\n",
    "\n",
    "    def split(self, df):\n",
    "        for i, (start, end) in enumerate(pairwise(self.date_range)):\n",
    "\n",
    "            if not self.full:\n",
    "                # Generate Bernoulli value for each row while building a mask\n",
    "                # as optimization step - take less data\n",
    "                train_mask = (interactions[self.date_column] <= start) & (\n",
    "                    np.random.binomial(1, p=0.05, size=len(interactions))\n",
    "                )\n",
    "                test_mask = (\n",
    "                    (interactions[self.date_column] > start)\n",
    "                    & (interactions[self.date_column] <= end)\n",
    "                    & (np.random.binomial(1, p=0.05, size=len(interactions)))\n",
    "                )\n",
    "            else:\n",
    "                train_mask = interactions[self.date_column] <= start\n",
    "                test_mask = (interactions[self.date_column] > start) & (\n",
    "                    interactions[self.date_column] <= end\n",
    "                )\n",
    "\n",
    "            if self.filter_cold_users:\n",
    "                train_users = df.loc[train_mask, Columns.User].unique()\n",
    "                test_users = df.loc[test_mask, Columns.User].unique()\n",
    "                cold_users = np.setdiff1d(test_users, train_users)\n",
    "                test_mask &= ~df.loc[test_mask, Columns.User].isin(cold_users)\n",
    "\n",
    "            yield train_mask, test_mask"
   ]
  },
  {
   "cell_type": "markdown",
   "metadata": {},
   "source": [
    "### Preparing features"
   ]
  },
  {
   "cell_type": "code",
   "execution_count": 113,
   "metadata": {
    "ExecuteTime": {
     "end_time": "2022-12-14T19:02:39.816618Z",
     "start_time": "2022-12-14T19:02:38.603557Z"
    }
   },
   "outputs": [
    {
     "name": "stdout",
     "output_type": "stream",
     "text": [
      "CPU times: user 1.11 s, sys: 60.1 ms, total: 1.17 s\n",
      "Wall time: 1.21 s\n"
     ]
    }
   ],
   "source": [
    "%%time\n",
    "users = pd.read_csv(DATA_PATH / \"users.csv\")\n",
    "items = pd.read_csv(DATA_PATH / \"items.csv\")"
   ]
  },
  {
   "cell_type": "markdown",
   "metadata": {
    "ExecuteTime": {
     "end_time": "2022-12-13T23:42:54.629235Z",
     "start_time": "2022-12-13T23:42:54.619122Z"
    }
   },
   "source": [
    "Генерируем фичи на основании изменяющихся (зависят от датасета взаимодействий `interactions`) датасетов `users` и `items`. Логика процессинга фичей была представлена выше, обернем для удобства в функцию "
   ]
  },
  {
   "cell_type": "code",
   "execution_count": 114,
   "metadata": {
    "ExecuteTime": {
     "end_time": "2022-12-14T19:02:39.853261Z",
     "start_time": "2022-12-14T19:02:39.822111Z"
    }
   },
   "outputs": [],
   "source": [
    "def get_features(users: pd.DataFrame, items: pd.DataFrame, for_hot=True):\n",
    "\n",
    "    # Generate user/item features for hot users, i.e. syncronise with interactions\n",
    "    if for_hot:\n",
    "        users = users.loc[users[Columns.User].isin(interactions[Columns.User])].copy()\n",
    "    items = items.loc[items[Columns.Item].isin(interactions[Columns.Item])].copy()\n",
    "\n",
    "    # Deal with user features\n",
    "\n",
    "    users.fillna(\"Unknown\", inplace=True)\n",
    "    users = users.astype({\"kids_flg\": bool})\n",
    "\n",
    "    user_features_frames = []\n",
    "    for feature in [\"sex\", \"age\", \"income\", \"kids_flg\"]:\n",
    "        feature_frame = users.reindex(columns=[Columns.User, feature])\n",
    "        feature_frame.columns = [\"id\", \"value\"]\n",
    "        feature_frame[\"feature\"] = feature\n",
    "        user_features_frames.append(feature_frame)\n",
    "\n",
    "    user_features = pd.concat(user_features_frames)\n",
    "\n",
    "    # Deal with item features\n",
    "    # Genre\n",
    "\n",
    "    items[\"genre\"] = (\n",
    "        items[\"genres\"].str.lower().str.replace(\", \", \",\", regex=False).str.split(\",\")\n",
    "    )\n",
    "    genre_feature = items[[\"item_id\", \"genre\"]].explode(\"genre\")\n",
    "    genre_feature.columns = [\"id\", \"value\"]\n",
    "    genre_feature[\"feature\"] = \"genre\"\n",
    "    genre_feature.head()\n",
    "\n",
    "    # Release year\n",
    "\n",
    "    items[\"release_year\"].fillna(int(items[\"release_year\"].max()), inplace=True)\n",
    "    items = items.astype({\"release_year\": int})\n",
    "\n",
    "    year_from = 1977\n",
    "    step = 5\n",
    "    bins = [year for year in range(year_from, items[\"release_year\"].max() + step, step)]\n",
    "\n",
    "    bins_bias = [item + 1 for item in bins]\n",
    "    pairs_strict = list(zip(bins_bias, bins[1:]))\n",
    "    # Add the most first release year\n",
    "    bins = [items[\"release_year\"].min()] + bins\n",
    "    # Add interval for it\n",
    "    pairs_strict = [(items[\"release_year\"].min(), bins[1])] + pairs_strict\n",
    "    # Generate feature values\n",
    "    labels = [f\"year_{item[0]}_{item[1]}\" for item in pairs_strict]\n",
    "\n",
    "    year_bins = pd.cut(\n",
    "        items[\"release_year\"], bins=bins, labels=labels, include_lowest=True\n",
    "    )\n",
    "\n",
    "    items[\"release_year\"] = year_bins.astype(str)\n",
    "\n",
    "    # Age rating\n",
    "\n",
    "    items[\"age_rating\"].fillna(0, inplace=True)\n",
    "    items = items.astype({\"age_rating\": int})\n",
    "\n",
    "    # For kids\n",
    "\n",
    "    items.loc[items[\"age_rating\"] > 12, \"for_kids\"] = 0\n",
    "    items.loc[items[\"age_rating\"] <= 12, \"for_kids\"] = 1\n",
    "    items = items.astype({\"for_kids\": bool})\n",
    "\n",
    "    item_features_frames = []\n",
    "    for feature in [\"content_type\", \"release_year\", \"age_rating\", \"for_kids\"]:\n",
    "        feature_frame = items.reindex(columns=[Columns.Item, feature])\n",
    "        feature_frame.columns = [\"id\", \"value\"]\n",
    "        feature_frame[\"feature\"] = feature\n",
    "        item_features_frames.append(feature_frame)\n",
    "    item_features_frames.append(genre_feature)\n",
    "    item_features = pd.concat(item_features_frames)\n",
    "    headtail(item_features)\n",
    "\n",
    "    return user_features, item_features"
   ]
  },
  {
   "cell_type": "markdown",
   "metadata": {},
   "source": [
    "### Fit model"
   ]
  },
  {
   "cell_type": "code",
   "execution_count": 115,
   "metadata": {
    "ExecuteTime": {
     "end_time": "2022-12-14T19:02:40.223208Z",
     "start_time": "2022-12-14T19:02:40.213154Z"
    }
   },
   "outputs": [],
   "source": [
    "def model_fitting(DATASET, TEST_USERS, TEST):\n",
    "    # Best hyperparametres\n",
    "    N_FACTORS = 32\n",
    "    LEARNING_RATE = 0.05\n",
    "    USER_ALPHA = 0\n",
    "    ITEM_ALPHA = 0\n",
    "    N_EPOCHS = 1\n",
    "    K_FOR_METRIC = 10\n",
    "    K_RECOS = 10\n",
    "\n",
    "    # Initiliaze model\n",
    "    model = LightFMWrapperModel(\n",
    "        LightFM(\n",
    "            no_components=N_FACTORS,\n",
    "            loss=\"warp\",\n",
    "            random_state=23,\n",
    "            learning_rate=LEARNING_RATE,\n",
    "            user_alpha=USER_ALPHA,\n",
    "            item_alpha=ITEM_ALPHA,\n",
    "        ),\n",
    "        epochs=N_EPOCHS,\n",
    "        num_threads=16,\n",
    "    )\n",
    "\n",
    "    # Fi\n",
    "    model.fit(DATASET)\n",
    "    recos = model.recommend(\n",
    "        users=TEST_USERS,\n",
    "        dataset=DATASET,\n",
    "        k=K_FOR_METRIC,\n",
    "        filter_viewed=True,\n",
    "    )\n",
    "\n",
    "    return MAP(k=K_FOR_METRIC).calc(recos, TEST)"
   ]
  },
  {
   "cell_type": "code",
   "execution_count": 116,
   "metadata": {
    "ExecuteTime": {
     "end_time": "2022-12-14T19:09:03.260602Z",
     "start_time": "2022-12-14T19:02:40.569638Z"
    }
   },
   "outputs": [
    {
     "name": "stdout",
     "output_type": "stream",
     "text": [
      "MAP@10:  0.08373093599276649\n"
     ]
    }
   ],
   "source": [
    "scores = []\n",
    "cv = TimeSplit(date_range, full=True)\n",
    "for i, (train_mask, test_mask) in enumerate(cv.split(interactions)):\n",
    "    # Prepare data\n",
    "    train = interactions[train_mask]\n",
    "    test = interactions[test_mask]\n",
    "\n",
    "    users_filter = users.loc[users[Columns.User].isin(train[Columns.User])]\n",
    "    items_filter = items.loc[items[Columns.Item].isin(train[Columns.Item])]\n",
    "\n",
    "    user_features, item_features = get_features(users_filter, items_filter)\n",
    "\n",
    "    # Create dataset\n",
    "    DATASET = Dataset.construct(\n",
    "        interactions_df=train,\n",
    "        user_features_df=user_features,\n",
    "        cat_user_features=[\"sex\", \"age\", \"income\", \"kids_flg\"],\n",
    "        item_features_df=item_features,\n",
    "        cat_item_features=[\n",
    "            \"genre\",\n",
    "            \"content_type\",\n",
    "            \"release_year\",\n",
    "            \"for_kids\",\n",
    "            \"age_rating\",\n",
    "        ],\n",
    "    )\n",
    "\n",
    "    TEST_USERS = test[Columns.User].unique()\n",
    "\n",
    "    # Calculate map_10 for one split\n",
    "    map_10 = model_fitting(DATASET, TEST_USERS, test)\n",
    "    scores.append(map_10)\n",
    "print(\"MAP@10: \", np.mean(scores))"
   ]
  },
  {
   "cell_type": "markdown",
   "metadata": {},
   "source": [
    "## Model inference: Online edition\n",
    "\n",
    "### Preparing"
   ]
  },
  {
   "cell_type": "markdown",
   "metadata": {},
   "source": [
    "Выбираем лучшую модель по итогам валидации и производим обучение на всем датасете"
   ]
  },
  {
   "cell_type": "markdown",
   "metadata": {},
   "source": [
    "Необходимо заново собрать датасет, используя все данные. Особенности:\n",
    "1. Необходим полный датасет `users`\n",
    "2. Необходим полный датасет `items`\n",
    "3. Логику преобразования датасета взаимодействий и генерации фичей оставляем ту же\n",
    "\n",
    "Особенности использования модели:\n",
    "1. Rectools обертка выдает рекомендации, используя обученные вектора из LightFM. Такая реализация, как было установлено опытным путем, справляется с задачей генерации рекомендаций лучше (+ можно легко фильтровать по просмотренному), чем `LightFM.predict()`, однако и гораздо медленнее. Поэтому для прода было решено использовать более неаккуратный, но быстрый встроенный метод модели LightFM\n",
    "2. Нивелировать проседание по метрикам с таким подходом в сравнении с rectools'ной реализацией, сохранив скорость, можно, для этого надо воспользоваться поиском приближенных соседей (она позже)"
   ]
  },
  {
   "cell_type": "code",
   "execution_count": 117,
   "metadata": {
    "ExecuteTime": {
     "end_time": "2022-12-14T19:20:04.646687Z",
     "start_time": "2022-12-14T19:20:03.162188Z"
    }
   },
   "outputs": [
    {
     "name": "stdout",
     "output_type": "stream",
     "text": [
      "CPU times: user 1.2 s, sys: 55.9 ms, total: 1.25 s\n",
      "Wall time: 1.47 s\n"
     ]
    }
   ],
   "source": [
    "%%time\n",
    "# Load data again\n",
    "users = pd.read_csv(DATA_PATH / \"users.csv\")\n",
    "items = pd.read_csv(DATA_PATH / \"items.csv\")"
   ]
  },
  {
   "cell_type": "code",
   "execution_count": 118,
   "metadata": {
    "ExecuteTime": {
     "end_time": "2022-12-14T19:20:04.678058Z",
     "start_time": "2022-12-14T19:20:04.651208Z"
    }
   },
   "outputs": [
    {
     "data": {
      "text/html": [
       "<div>\n",
       "<style scoped>\n",
       "    .dataframe tbody tr th:only-of-type {\n",
       "        vertical-align: middle;\n",
       "    }\n",
       "\n",
       "    .dataframe tbody tr th {\n",
       "        vertical-align: top;\n",
       "    }\n",
       "\n",
       "    .dataframe thead th {\n",
       "        text-align: right;\n",
       "    }\n",
       "</style>\n",
       "<table border=\"1\" class=\"dataframe\">\n",
       "  <thead>\n",
       "    <tr style=\"text-align: right;\">\n",
       "      <th></th>\n",
       "      <th>user_id</th>\n",
       "      <th>item_id</th>\n",
       "      <th>last_watch_dt</th>\n",
       "      <th>total_dur</th>\n",
       "      <th>watched_pct</th>\n",
       "      <th>weight</th>\n",
       "    </tr>\n",
       "  </thead>\n",
       "  <tbody>\n",
       "    <tr>\n",
       "      <th>0</th>\n",
       "      <td>176549</td>\n",
       "      <td>9506</td>\n",
       "      <td>2021-05-11</td>\n",
       "      <td>4250</td>\n",
       "      <td>72.0</td>\n",
       "      <td>4</td>\n",
       "    </tr>\n",
       "    <tr>\n",
       "      <th>1</th>\n",
       "      <td>699317</td>\n",
       "      <td>1659</td>\n",
       "      <td>2021-05-29</td>\n",
       "      <td>8317</td>\n",
       "      <td>100.0</td>\n",
       "      <td>5</td>\n",
       "    </tr>\n",
       "    <tr>\n",
       "      <th>2</th>\n",
       "      <td>656683</td>\n",
       "      <td>7107</td>\n",
       "      <td>2021-05-09</td>\n",
       "      <td>10</td>\n",
       "      <td>0.0</td>\n",
       "      <td>1</td>\n",
       "    </tr>\n",
       "    <tr>\n",
       "      <th>3</th>\n",
       "      <td>864613</td>\n",
       "      <td>7638</td>\n",
       "      <td>2021-07-05</td>\n",
       "      <td>14483</td>\n",
       "      <td>100.0</td>\n",
       "      <td>5</td>\n",
       "    </tr>\n",
       "    <tr>\n",
       "      <th>4</th>\n",
       "      <td>964868</td>\n",
       "      <td>9506</td>\n",
       "      <td>2021-04-30</td>\n",
       "      <td>6725</td>\n",
       "      <td>100.0</td>\n",
       "      <td>5</td>\n",
       "    </tr>\n",
       "    <tr>\n",
       "      <th>5476246</th>\n",
       "      <td>648596</td>\n",
       "      <td>12225</td>\n",
       "      <td>2021-08-13</td>\n",
       "      <td>76</td>\n",
       "      <td>0.0</td>\n",
       "      <td>1</td>\n",
       "    </tr>\n",
       "    <tr>\n",
       "      <th>5476247</th>\n",
       "      <td>546862</td>\n",
       "      <td>9673</td>\n",
       "      <td>2021-04-13</td>\n",
       "      <td>2308</td>\n",
       "      <td>49.0</td>\n",
       "      <td>3</td>\n",
       "    </tr>\n",
       "    <tr>\n",
       "      <th>5476248</th>\n",
       "      <td>697262</td>\n",
       "      <td>15297</td>\n",
       "      <td>2021-08-20</td>\n",
       "      <td>18307</td>\n",
       "      <td>63.0</td>\n",
       "      <td>4</td>\n",
       "    </tr>\n",
       "    <tr>\n",
       "      <th>5476249</th>\n",
       "      <td>384202</td>\n",
       "      <td>16197</td>\n",
       "      <td>2021-04-19</td>\n",
       "      <td>6203</td>\n",
       "      <td>100.0</td>\n",
       "      <td>5</td>\n",
       "    </tr>\n",
       "    <tr>\n",
       "      <th>5476250</th>\n",
       "      <td>319709</td>\n",
       "      <td>4436</td>\n",
       "      <td>2021-08-15</td>\n",
       "      <td>3921</td>\n",
       "      <td>45.0</td>\n",
       "      <td>3</td>\n",
       "    </tr>\n",
       "  </tbody>\n",
       "</table>\n",
       "</div>"
      ],
      "text/plain": [
       "         user_id  item_id last_watch_dt  total_dur  watched_pct  weight\n",
       "0         176549     9506    2021-05-11       4250         72.0       4\n",
       "1         699317     1659    2021-05-29       8317        100.0       5\n",
       "2         656683     7107    2021-05-09         10          0.0       1\n",
       "3         864613     7638    2021-07-05      14483        100.0       5\n",
       "4         964868     9506    2021-04-30       6725        100.0       5\n",
       "5476246   648596    12225    2021-08-13         76          0.0       1\n",
       "5476247   546862     9673    2021-04-13       2308         49.0       3\n",
       "5476248   697262    15297    2021-08-20      18307         63.0       4\n",
       "5476249   384202    16197    2021-04-19       6203        100.0       5\n",
       "5476250   319709     4436    2021-08-15       3921         45.0       3"
      ]
     },
     "execution_count": 118,
     "metadata": {},
     "output_type": "execute_result"
    }
   ],
   "source": [
    "headtail(interactions)"
   ]
  },
  {
   "cell_type": "markdown",
   "metadata": {
    "ExecuteTime": {
     "end_time": "2022-12-13T23:42:54.629235Z",
     "start_time": "2022-12-13T23:42:54.619122Z"
    }
   },
   "source": [
    "Генерируем фичи на основании изменяющихся (зависят от датасета взаимодействий `interactions`) датасетов `users` и `items`. Логика процессинга фичей была представлена выше, обернем для удобства в функцию "
   ]
  },
  {
   "cell_type": "code",
   "execution_count": 119,
   "metadata": {
    "ExecuteTime": {
     "end_time": "2022-12-14T19:20:04.988365Z",
     "start_time": "2022-12-14T19:20:04.965830Z"
    }
   },
   "outputs": [],
   "source": [
    "def get_features(users: pd.DataFrame, items: pd.DataFrame, for_hot=True):\n",
    "\n",
    "    # Generate user/item features for hot users, i.e. syncronise with interactions\n",
    "    if for_hot:\n",
    "        users = users.loc[users[Columns.User].isin(interactions[Columns.User])].copy()\n",
    "    items = items.loc[items[Columns.Item].isin(interactions[Columns.Item])].copy()\n",
    "\n",
    "    # Deal with user features\n",
    "\n",
    "    users.fillna(\"Unknown\", inplace=True)\n",
    "    users = users.astype({\"kids_flg\": bool})\n",
    "\n",
    "    user_features_frames = []\n",
    "    for feature in [\"sex\", \"age\", \"income\", \"kids_flg\"]:\n",
    "        feature_frame = users.reindex(columns=[Columns.User, feature])\n",
    "        feature_frame.columns = [\"id\", \"value\"]\n",
    "        feature_frame[\"feature\"] = feature\n",
    "        user_features_frames.append(feature_frame)\n",
    "\n",
    "    user_features = pd.concat(user_features_frames)\n",
    "\n",
    "    # Deal with item features\n",
    "    # Genre\n",
    "\n",
    "    items[\"genre\"] = (\n",
    "        items[\"genres\"].str.lower().str.replace(\", \", \",\", regex=False).str.split(\",\")\n",
    "    )\n",
    "    genre_feature = items[[\"item_id\", \"genre\"]].explode(\"genre\")\n",
    "    genre_feature.columns = [\"id\", \"value\"]\n",
    "    genre_feature[\"feature\"] = \"genre\"\n",
    "    genre_feature.head()\n",
    "\n",
    "    # Release year\n",
    "\n",
    "    items[\"release_year\"].fillna(int(items[\"release_year\"].max()), inplace=True)\n",
    "    items = items.astype({\"release_year\": int})\n",
    "\n",
    "    year_from = 1977\n",
    "    step = 5\n",
    "    bins = [year for year in range(year_from, items[\"release_year\"].max() + step, step)]\n",
    "\n",
    "    bins_bias = [item + 1 for item in bins]\n",
    "    pairs_strict = list(zip(bins_bias, bins[1:]))\n",
    "    # Add the most first release year\n",
    "    bins = [items[\"release_year\"].min()] + bins\n",
    "    # Add interval for it\n",
    "    pairs_strict = [(items[\"release_year\"].min(), bins[1])] + pairs_strict\n",
    "    # Generate feature values\n",
    "    labels = [f\"year_{item[0]}_{item[1]}\" for item in pairs_strict]\n",
    "\n",
    "    year_bins = pd.cut(\n",
    "        items[\"release_year\"], bins=bins, labels=labels, include_lowest=True\n",
    "    )\n",
    "\n",
    "    items[\"release_year\"] = year_bins.astype(str)\n",
    "\n",
    "    # Age rating\n",
    "\n",
    "    items[\"age_rating\"].fillna(0, inplace=True)\n",
    "    items = items.astype({\"age_rating\": int})\n",
    "\n",
    "    # For kids\n",
    "\n",
    "    items.loc[items[\"age_rating\"] > 12, \"for_kids\"] = 0\n",
    "    items.loc[items[\"age_rating\"] <= 12, \"for_kids\"] = 1\n",
    "    items = items.astype({\"for_kids\": bool})\n",
    "\n",
    "    item_features_frames = []\n",
    "    for feature in [\"content_type\", \"release_year\", \"age_rating\", \"for_kids\"]:\n",
    "        feature_frame = items.reindex(columns=[Columns.Item, feature])\n",
    "        feature_frame.columns = [\"id\", \"value\"]\n",
    "        feature_frame[\"feature\"] = feature\n",
    "        item_features_frames.append(feature_frame)\n",
    "    item_features_frames.append(genre_feature)\n",
    "    item_features = pd.concat(item_features_frames)\n",
    "    headtail(item_features)\n",
    "\n",
    "    return user_features, item_features"
   ]
  },
  {
   "cell_type": "code",
   "execution_count": 120,
   "metadata": {
    "ExecuteTime": {
     "end_time": "2022-12-14T19:20:08.575868Z",
     "start_time": "2022-12-14T19:20:06.321027Z"
    }
   },
   "outputs": [],
   "source": [
    "user_features, item_features = get_features(users, items)\n",
    "full_user_features, _ = get_features(users, items, for_hot=False)"
   ]
  },
  {
   "cell_type": "code",
   "execution_count": 121,
   "metadata": {
    "ExecuteTime": {
     "end_time": "2022-12-14T19:20:10.634941Z",
     "start_time": "2022-12-14T19:20:08.591109Z"
    }
   },
   "outputs": [],
   "source": [
    "user_features, item_features = get_features(users, items)\n",
    "full_user_features, _ = get_features(users, items, for_hot=False)"
   ]
  },
  {
   "cell_type": "markdown",
   "metadata": {},
   "source": [
    "Создаем датасет"
   ]
  },
  {
   "cell_type": "code",
   "execution_count": 122,
   "metadata": {
    "ExecuteTime": {
     "end_time": "2022-12-14T19:20:12.880384Z",
     "start_time": "2022-12-14T19:20:10.638140Z"
    }
   },
   "outputs": [
    {
     "name": "stdout",
     "output_type": "stream",
     "text": [
      "CPU times: user 2.05 s, sys: 164 ms, total: 2.21 s\n",
      "Wall time: 2.24 s\n"
     ]
    }
   ],
   "source": [
    "%%time\n",
    "dataset = Dataset.construct(\n",
    "    interactions_df=interactions,\n",
    "    user_features_df=user_features,\n",
    "    cat_user_features=[\"sex\", \"age\", \"income\", \"kids_flg\"],\n",
    "    item_features_df=item_features,\n",
    "    cat_item_features=[\n",
    "        \"genre\",\n",
    "        \"content_type\",\n",
    "        \"release_year\",\n",
    "        \"for_kids\",\n",
    "        \"age_rating\",\n",
    "    ],\n",
    ")"
   ]
  },
  {
   "cell_type": "markdown",
   "metadata": {},
   "source": [
    "Фиттим"
   ]
  },
  {
   "cell_type": "code",
   "execution_count": 123,
   "metadata": {
    "ExecuteTime": {
     "end_time": "2022-12-14T19:20:14.848702Z",
     "start_time": "2022-12-14T19:20:12.884319Z"
    }
   },
   "outputs": [],
   "source": [
    "user_features, item_features = get_features(users, items)\n",
    "full_user_features, _ = get_features(users, items, for_hot=False)"
   ]
  },
  {
   "cell_type": "code",
   "execution_count": 124,
   "metadata": {
    "ExecuteTime": {
     "end_time": "2022-12-14T19:20:15.375554Z",
     "start_time": "2022-12-14T19:20:15.369317Z"
    }
   },
   "outputs": [],
   "source": [
    "# Optimal hyperparametres due to validation\n",
    "RANDOM_STATE = 23\n",
    "NUM_THREADS = 16\n",
    "# Best hyperparametres\n",
    "N_FACTORS = 32\n",
    "N_EPOCHS = 1\n",
    "LEARNING_RATE = 0.05\n",
    "USER_ALPHA = 0\n",
    "ITEM_ALPHA = 0\n",
    "K_RECOS = 10"
   ]
  },
  {
   "cell_type": "code",
   "execution_count": 125,
   "metadata": {
    "ExecuteTime": {
     "end_time": "2022-12-14T19:20:15.891785Z",
     "start_time": "2022-12-14T19:20:15.877938Z"
    }
   },
   "outputs": [],
   "source": [
    "model = LightFMWrapperModel(\n",
    "    LightFM(\n",
    "        no_components=N_FACTORS,\n",
    "        loss=\"warp\",\n",
    "        random_state=RANDOM_STATE,\n",
    "        learning_rate=LEARNING_RATE,\n",
    "        user_alpha=USER_ALPHA,\n",
    "        item_alpha=ITEM_ALPHA,\n",
    "    ),\n",
    "    epochs=N_EPOCHS,\n",
    "    num_threads=NUM_THREADS,\n",
    ")"
   ]
  },
  {
   "cell_type": "code",
   "execution_count": 126,
   "metadata": {
    "ExecuteTime": {
     "end_time": "2022-12-14T19:20:42.069701Z",
     "start_time": "2022-12-14T19:20:19.097616Z"
    }
   },
   "outputs": [
    {
     "data": {
      "text/plain": [
       "<rectools.models.lightfm.LightFMWrapperModel at 0x7f2e14a15d90>"
      ]
     },
     "execution_count": 126,
     "metadata": {},
     "output_type": "execute_result"
    }
   ],
   "source": [
    "model.fit(dataset)"
   ]
  },
  {
   "cell_type": "markdown",
   "metadata": {},
   "source": [
    "#### Saving data"
   ]
  },
  {
   "cell_type": "markdown",
   "metadata": {},
   "source": [
    "Сохраним модель (онлайн)"
   ]
  },
  {
   "cell_type": "code",
   "execution_count": 127,
   "metadata": {
    "ExecuteTime": {
     "end_time": "2022-12-14T19:20:42.078770Z",
     "start_time": "2022-12-14T19:20:42.074336Z"
    }
   },
   "outputs": [],
   "source": [
    "SAVE_PATH = Path.cwd()"
   ]
  },
  {
   "cell_type": "code",
   "execution_count": 128,
   "metadata": {
    "ExecuteTime": {
     "end_time": "2022-12-14T19:20:42.094159Z",
     "start_time": "2022-12-14T19:20:42.083764Z"
    }
   },
   "outputs": [],
   "source": [
    "light_fm = model.model"
   ]
  },
  {
   "cell_type": "code",
   "execution_count": 129,
   "metadata": {
    "ExecuteTime": {
     "end_time": "2022-12-14T19:20:43.809150Z",
     "start_time": "2022-12-14T19:20:42.097747Z"
    }
   },
   "outputs": [],
   "source": [
    "save_name = \"light_fm\"\n",
    "with open(SAVE_PATH / f\"{save_name}.dill\", \"wb\") as f:\n",
    "    dill.dump(light_fm, f)"
   ]
  },
  {
   "cell_type": "markdown",
   "metadata": {},
   "source": [
    "Загружаем модель"
   ]
  },
  {
   "cell_type": "code",
   "execution_count": 130,
   "metadata": {
    "ExecuteTime": {
     "end_time": "2022-12-14T19:22:50.165767Z",
     "start_time": "2022-12-14T19:22:49.960196Z"
    }
   },
   "outputs": [],
   "source": [
    "save_name = \"light_fm\"\n",
    "with open(SAVE_PATH / f\"{save_name}.dill\", \"rb\") as f:\n",
    "    light_fm = dill.load(f)"
   ]
  },
  {
   "cell_type": "markdown",
   "metadata": {},
   "source": [
    "### Make a recommendation for hot"
   ]
  },
  {
   "cell_type": "markdown",
   "metadata": {},
   "source": [
    "Нам необходимо подать на вход модели \"внутренний\" индекс. Также внутренние индексы рекомендованных айтемов первести во внешние"
   ]
  },
  {
   "cell_type": "code",
   "execution_count": 131,
   "metadata": {
    "ExecuteTime": {
     "end_time": "2022-12-14T19:22:50.574970Z",
     "start_time": "2022-12-14T19:22:50.568414Z"
    }
   },
   "outputs": [],
   "source": [
    "user_internal = dataset.user_id_map.internal_ids\n",
    "user_external = dataset.user_id_map.external_ids\n",
    "\n",
    "item_internal = dataset.item_id_map.internal_ids\n",
    "item_external = dataset.item_id_map.external_ids"
   ]
  },
  {
   "cell_type": "code",
   "execution_count": 132,
   "metadata": {
    "ExecuteTime": {
     "end_time": "2022-12-14T19:22:52.694452Z",
     "start_time": "2022-12-14T19:22:50.866358Z"
    }
   },
   "outputs": [],
   "source": [
    "user_mapping = {k.item(): v.item() for k, v in zip(user_external, user_internal)}\n",
    "item_mapping = {k.item(): v.item() for k, v in zip(item_internal, item_external)}"
   ]
  },
  {
   "cell_type": "code",
   "execution_count": 133,
   "metadata": {
    "ExecuteTime": {
     "end_time": "2022-12-14T19:22:52.704392Z",
     "start_time": "2022-12-14T19:22:52.697758Z"
    }
   },
   "outputs": [],
   "source": [
    "# External user_id\n",
    "user_id = 2"
   ]
  },
  {
   "cell_type": "code",
   "execution_count": 134,
   "metadata": {
    "ExecuteTime": {
     "end_time": "2022-12-14T19:22:52.721401Z",
     "start_time": "2022-12-14T19:22:52.709238Z"
    }
   },
   "outputs": [
    {
     "data": {
      "text/plain": [
       "62855"
      ]
     },
     "execution_count": 134,
     "metadata": {},
     "output_type": "execute_result"
    }
   ],
   "source": [
    "iternal_user_id = user_mapping[user_id]\n",
    "iternal_user_id"
   ]
  },
  {
   "cell_type": "code",
   "execution_count": 135,
   "metadata": {
    "ExecuteTime": {
     "end_time": "2022-12-14T19:22:52.742595Z",
     "start_time": "2022-12-14T19:22:52.726799Z"
    }
   },
   "outputs": [],
   "source": [
    "hot_scores = light_fm.predict(\n",
    "    iternal_user_id, item_ids=dataset.item_id_map.internal_ids\n",
    ")"
   ]
  },
  {
   "cell_type": "code",
   "execution_count": 136,
   "metadata": {
    "ExecuteTime": {
     "end_time": "2022-12-14T19:22:53.199229Z",
     "start_time": "2022-12-14T19:22:53.183959Z"
    }
   },
   "outputs": [
    {
     "data": {
      "text/plain": [
       "[15297, 10440, 4880, 6809, 4740, 4151, 9996, 3734, 2657, 12192]"
      ]
     },
     "execution_count": 136,
     "metadata": {},
     "output_type": "execute_result"
    }
   ],
   "source": [
    "# Get indixes that will sort scores from max to min\n",
    "idxs = np.argsort(hot_scores)[::-1]\n",
    "# Take first 10 but internal ids\n",
    "recs = dataset.item_id_map.internal_ids[idxs][:10]\n",
    "# Map to external\n",
    "recs = [item_mapping[reco] for reco in recs]\n",
    "recs"
   ]
  },
  {
   "cell_type": "markdown",
   "metadata": {},
   "source": [
    "#### Saving data"
   ]
  },
  {
   "cell_type": "code",
   "execution_count": 137,
   "metadata": {
    "ExecuteTime": {
     "end_time": "2022-12-14T19:23:01.458853Z",
     "start_time": "2022-12-14T19:22:53.864296Z"
    }
   },
   "outputs": [],
   "source": [
    "save_name = [\"user_mapping\", \"item_mapping\"]\n",
    "data = [user_mapping, item_mapping]\n",
    "for i, el in enumerate(save_name):\n",
    "    with open(SAVE_PATH / f\"{el}.dill\", \"wb\") as f:\n",
    "        dill.dump(data[i], f)"
   ]
  },
  {
   "cell_type": "markdown",
   "metadata": {},
   "source": [
    "#### Runtime test"
   ]
  },
  {
   "cell_type": "code",
   "execution_count": 138,
   "metadata": {
    "ExecuteTime": {
     "end_time": "2022-12-14T19:23:01.475431Z",
     "start_time": "2022-12-14T19:23:01.462256Z"
    }
   },
   "outputs": [],
   "source": [
    "def get_hot_reco(user_mapping, item_mapping, user_id, model, dataset=dataset):\n",
    "    iternal_user_id = user_mapping[user_id]\n",
    "    hot_scores = model.predict(\n",
    "        iternal_user_id, item_ids=dataset.item_id_map.internal_ids\n",
    "    )\n",
    "    idxs = np.argsort(hot_scores)[::-1]\n",
    "    recs = dataset.item_id_map.internal_ids[idxs][:10]\n",
    "    recs = [item_mapping[reco] for reco in recs]\n",
    "    return recs"
   ]
  },
  {
   "cell_type": "code",
   "execution_count": 139,
   "metadata": {
    "ExecuteTime": {
     "end_time": "2022-12-14T19:23:01.492764Z",
     "start_time": "2022-12-14T19:23:01.478668Z"
    }
   },
   "outputs": [
    {
     "data": {
      "text/plain": [
       "[6809, 4740, 15297, 10440, 13865, 3734, 4495, 2657, 4151, 9996]"
      ]
     },
     "execution_count": 139,
     "metadata": {},
     "output_type": "execute_result"
    }
   ],
   "source": [
    "get_hot_reco(user_mapping, item_mapping, model=light_fm, user_id=5)"
   ]
  },
  {
   "cell_type": "code",
   "execution_count": 140,
   "metadata": {
    "ExecuteTime": {
     "end_time": "2022-12-14T19:23:05.164433Z",
     "start_time": "2022-12-14T19:23:01.496073Z"
    }
   },
   "outputs": [
    {
     "data": {
      "text/plain": [
       "3.6615201880013046"
      ]
     },
     "execution_count": 140,
     "metadata": {},
     "output_type": "execute_result"
    }
   ],
   "source": [
    "timeit.timeit(\n",
    "    \"get_hot_reco(user_mapping, item_mapping, model=light_fm, user_id=5)\",\n",
    "    \"from __main__ import get_hot_reco, light_fm, user_mapping, item_mapping\",\n",
    "    number=1000,\n",
    ")"
   ]
  },
  {
   "cell_type": "code",
   "execution_count": 141,
   "metadata": {
    "ExecuteTime": {
     "end_time": "2022-12-14T19:23:07.996626Z",
     "start_time": "2022-12-14T19:23:05.167983Z"
    }
   },
   "outputs": [
    {
     "name": "stdout",
     "output_type": "stream",
     "text": [
      "3.42 ms ± 83.9 µs per loop (mean ± std. dev. of 7 runs, 100 loops each)\n"
     ]
    }
   ],
   "source": [
    "%timeit get_hot_reco(user_mapping, item_mapping, model=light_fm, user_id=5)"
   ]
  },
  {
   "cell_type": "markdown",
   "metadata": {},
   "source": [
    "### Make a recommendation for cold"
   ]
  },
  {
   "cell_type": "markdown",
   "metadata": {},
   "source": [
    "Если имеем холодного юзера, то делаем предсказания только на основании `user_features`"
   ]
  },
  {
   "cell_type": "code",
   "execution_count": 142,
   "metadata": {
    "ExecuteTime": {
     "end_time": "2022-12-14T19:23:10.471292Z",
     "start_time": "2022-12-14T19:23:08.000910Z"
    }
   },
   "outputs": [],
   "source": [
    "cold = set(users[\"user_id\"]) - set(interactions[\"user_id\"])\n",
    "cold = sorted(cold)"
   ]
  },
  {
   "cell_type": "code",
   "execution_count": 143,
   "metadata": {
    "ExecuteTime": {
     "end_time": "2022-12-14T19:23:10.481801Z",
     "start_time": "2022-12-14T19:23:10.474690Z"
    }
   },
   "outputs": [
    {
     "data": {
      "text/plain": [
       "95909"
      ]
     },
     "execution_count": 143,
     "metadata": {},
     "output_type": "execute_result"
    }
   ],
   "source": [
    "len(cold)"
   ]
  },
  {
   "cell_type": "code",
   "execution_count": 144,
   "metadata": {
    "ExecuteTime": {
     "end_time": "2022-12-14T19:23:10.502589Z",
     "start_time": "2022-12-14T19:23:10.486611Z"
    }
   },
   "outputs": [
    {
     "data": {
      "text/plain": [
       "array(['М', 'Ж', 'Unknown', 'age_25_34', 'age_18_24', 'age_45_54',\n",
       "       'age_35_44', 'age_55_64', 'age_65_inf', 'Unknown', 'income_60_90',\n",
       "       'income_20_40', 'income_40_60', 'income_90_150', 'income_0_20',\n",
       "       'Unknown', 'income_150_inf', 'True', 'False'], dtype='<U14')"
      ]
     },
     "execution_count": 144,
     "metadata": {},
     "output_type": "execute_result"
    }
   ],
   "source": [
    "features = np.array(dataset.user_features.names)[:, 1]\n",
    "features"
   ]
  },
  {
   "cell_type": "code",
   "execution_count": 145,
   "metadata": {
    "ExecuteTime": {
     "end_time": "2022-12-14T19:23:10.516531Z",
     "start_time": "2022-12-14T19:23:10.507690Z"
    }
   },
   "outputs": [],
   "source": [
    "# Cold user id\n",
    "user_id = 6"
   ]
  },
  {
   "cell_type": "markdown",
   "metadata": {},
   "source": [
    "Необходимо проверить, а есть ли вообще у данного пользователя фичи. Если есть, используем LightFM, в противном случае воспользуемся моделью популярного (уже имплементирована в сервис)"
   ]
  },
  {
   "cell_type": "code",
   "execution_count": 146,
   "metadata": {
    "ExecuteTime": {
     "end_time": "2022-12-14T19:23:10.736022Z",
     "start_time": "2022-12-14T19:23:10.529651Z"
    }
   },
   "outputs": [
    {
     "data": {
      "text/plain": [
       "array(['М', 'age_45_54', 'income_90_150', False], dtype=object)"
      ]
     },
     "execution_count": 146,
     "metadata": {},
     "output_type": "execute_result"
    }
   ],
   "source": [
    "# Get his feature set\n",
    "user_feature = full_user_features[full_user_features[\"id\"] == user_id][\"value\"].values\n",
    "user_feature"
   ]
  },
  {
   "cell_type": "code",
   "execution_count": 147,
   "metadata": {
    "ExecuteTime": {
     "end_time": "2022-12-14T19:23:10.746283Z",
     "start_time": "2022-12-14T19:23:10.741563Z"
    }
   },
   "outputs": [],
   "source": [
    "feature_mask = np.isin(\n",
    "    features,\n",
    "    user_feature,\n",
    ")"
   ]
  },
  {
   "cell_type": "code",
   "execution_count": 148,
   "metadata": {
    "ExecuteTime": {
     "end_time": "2022-12-14T19:23:10.765726Z",
     "start_time": "2022-12-14T19:23:10.748838Z"
    }
   },
   "outputs": [
    {
     "data": {
      "text/plain": [
       "array([ True, False, False, False, False,  True, False, False, False,\n",
       "       False, False, False, False,  True, False, False, False, False,\n",
       "       False])"
      ]
     },
     "execution_count": 148,
     "metadata": {},
     "output_type": "execute_result"
    }
   ],
   "source": [
    "feature_mask"
   ]
  },
  {
   "cell_type": "code",
   "execution_count": 149,
   "metadata": {
    "ExecuteTime": {
     "end_time": "2022-12-14T19:23:10.776544Z",
     "start_time": "2022-12-14T19:23:10.769004Z"
    }
   },
   "outputs": [
    {
     "data": {
      "text/plain": [
       "<1x19 sparse matrix of type '<class 'numpy.bool_'>'\n",
       "\twith 3 stored elements in Compressed Sparse Row format>"
      ]
     },
     "execution_count": 149,
     "metadata": {},
     "output_type": "execute_result"
    }
   ],
   "source": [
    "feature_row = sparse.csr_matrix(feature_mask)\n",
    "feature_row"
   ]
  },
  {
   "cell_type": "markdown",
   "metadata": {},
   "source": [
    "Для предсказания холодному пользователю необходимо передать на вход явно его признаки в виде sparse-строки, а в качестве  идентификатора пользователя `user_id = 0`"
   ]
  },
  {
   "cell_type": "code",
   "execution_count": 150,
   "metadata": {
    "ExecuteTime": {
     "end_time": "2022-12-14T19:23:10.791482Z",
     "start_time": "2022-12-14T19:23:10.780008Z"
    }
   },
   "outputs": [],
   "source": [
    "cold_scores = light_fm.predict(\n",
    "    0, dataset.item_id_map.internal_ids, user_features=feature_row\n",
    ")"
   ]
  },
  {
   "cell_type": "code",
   "execution_count": 151,
   "metadata": {
    "ExecuteTime": {
     "end_time": "2022-12-14T19:23:10.804499Z",
     "start_time": "2022-12-14T19:23:10.795768Z"
    }
   },
   "outputs": [
    {
     "data": {
      "text/plain": [
       "array([-0.9115359 , -2.2751565 , -0.56608117, ..., -2.8140454 ,\n",
       "       -2.1191978 , -3.6257005 ], dtype=float32)"
      ]
     },
     "execution_count": 151,
     "metadata": {},
     "output_type": "execute_result"
    }
   ],
   "source": [
    "cold_scores"
   ]
  },
  {
   "cell_type": "code",
   "execution_count": 152,
   "metadata": {
    "ExecuteTime": {
     "end_time": "2022-12-14T19:23:10.819648Z",
     "start_time": "2022-12-14T19:23:10.808905Z"
    }
   },
   "outputs": [
    {
     "data": {
      "text/plain": [
       "[15297, 10440, 9996, 4880, 6809, 4436, 4740, 4495, 3734, 12192]"
      ]
     },
     "execution_count": 152,
     "metadata": {},
     "output_type": "execute_result"
    }
   ],
   "source": [
    "# Get indixes that will sort scores from max to min\n",
    "idxs = np.argsort(cold_scores)[::-1]\n",
    "# Take first 10 but internal ids\n",
    "recs = dataset.item_id_map.internal_ids[idxs][:10]\n",
    "# Map to external\n",
    "recs = [item_mapping[reco] for reco in recs]\n",
    "recs"
   ]
  },
  {
   "cell_type": "markdown",
   "metadata": {},
   "source": [
    "#### Saving data"
   ]
  },
  {
   "cell_type": "code",
   "execution_count": 153,
   "metadata": {
    "ExecuteTime": {
     "end_time": "2022-12-14T19:23:10.842605Z",
     "start_time": "2022-12-14T19:23:10.824372Z"
    }
   },
   "outputs": [
    {
     "data": {
      "text/html": [
       "<div>\n",
       "<style scoped>\n",
       "    .dataframe tbody tr th:only-of-type {\n",
       "        vertical-align: middle;\n",
       "    }\n",
       "\n",
       "    .dataframe tbody tr th {\n",
       "        vertical-align: top;\n",
       "    }\n",
       "\n",
       "    .dataframe thead th {\n",
       "        text-align: right;\n",
       "    }\n",
       "</style>\n",
       "<table border=\"1\" class=\"dataframe\">\n",
       "  <thead>\n",
       "    <tr style=\"text-align: right;\">\n",
       "      <th></th>\n",
       "      <th>id</th>\n",
       "      <th>value</th>\n",
       "      <th>feature</th>\n",
       "    </tr>\n",
       "  </thead>\n",
       "  <tbody>\n",
       "    <tr>\n",
       "      <th>0</th>\n",
       "      <td>973171</td>\n",
       "      <td>М</td>\n",
       "      <td>sex</td>\n",
       "    </tr>\n",
       "    <tr>\n",
       "      <th>1</th>\n",
       "      <td>962099</td>\n",
       "      <td>М</td>\n",
       "      <td>sex</td>\n",
       "    </tr>\n",
       "    <tr>\n",
       "      <th>2</th>\n",
       "      <td>1047345</td>\n",
       "      <td>Ж</td>\n",
       "      <td>sex</td>\n",
       "    </tr>\n",
       "    <tr>\n",
       "      <th>3</th>\n",
       "      <td>721985</td>\n",
       "      <td>Ж</td>\n",
       "      <td>sex</td>\n",
       "    </tr>\n",
       "    <tr>\n",
       "      <th>4</th>\n",
       "      <td>704055</td>\n",
       "      <td>Ж</td>\n",
       "      <td>sex</td>\n",
       "    </tr>\n",
       "    <tr>\n",
       "      <th>840192</th>\n",
       "      <td>339025</td>\n",
       "      <td>False</td>\n",
       "      <td>kids_flg</td>\n",
       "    </tr>\n",
       "    <tr>\n",
       "      <th>840193</th>\n",
       "      <td>983617</td>\n",
       "      <td>True</td>\n",
       "      <td>kids_flg</td>\n",
       "    </tr>\n",
       "    <tr>\n",
       "      <th>840194</th>\n",
       "      <td>251008</td>\n",
       "      <td>False</td>\n",
       "      <td>kids_flg</td>\n",
       "    </tr>\n",
       "    <tr>\n",
       "      <th>840195</th>\n",
       "      <td>590706</td>\n",
       "      <td>False</td>\n",
       "      <td>kids_flg</td>\n",
       "    </tr>\n",
       "    <tr>\n",
       "      <th>840196</th>\n",
       "      <td>166555</td>\n",
       "      <td>False</td>\n",
       "      <td>kids_flg</td>\n",
       "    </tr>\n",
       "  </tbody>\n",
       "</table>\n",
       "</div>"
      ],
      "text/plain": [
       "             id  value   feature\n",
       "0        973171      М       sex\n",
       "1        962099      М       sex\n",
       "2       1047345      Ж       sex\n",
       "3        721985      Ж       sex\n",
       "4        704055      Ж       sex\n",
       "840192   339025  False  kids_flg\n",
       "840193   983617   True  kids_flg\n",
       "840194   251008  False  kids_flg\n",
       "840195   590706  False  kids_flg\n",
       "840196   166555  False  kids_flg"
      ]
     },
     "execution_count": 153,
     "metadata": {},
     "output_type": "execute_result"
    }
   ],
   "source": [
    "headtail(full_user_features)"
   ]
  },
  {
   "cell_type": "code",
   "execution_count": 154,
   "metadata": {
    "ExecuteTime": {
     "end_time": "2022-12-14T19:23:10.856246Z",
     "start_time": "2022-12-14T19:23:10.846115Z"
    }
   },
   "outputs": [],
   "source": [
    "def group_features_by_id(group):\n",
    "    values = group[\"value\"]\n",
    "    features = group[\"feature\"]\n",
    "    return dict(zip(features, values))"
   ]
  },
  {
   "cell_type": "code",
   "execution_count": 155,
   "metadata": {
    "ExecuteTime": {
     "end_time": "2022-12-14T19:23:22.277116Z",
     "start_time": "2022-12-14T19:23:10.862685Z"
    }
   },
   "outputs": [],
   "source": [
    "features_for_cold = full_user_features[full_user_features[\"id\"].isin(cold)]\n",
    "features_for_cold_groups = (\n",
    "    features_for_cold.groupby(\"id\").apply(group_features_by_id).to_dict()\n",
    ")"
   ]
  },
  {
   "cell_type": "code",
   "execution_count": 156,
   "metadata": {
    "ExecuteTime": {
     "end_time": "2022-12-14T19:23:22.467337Z",
     "start_time": "2022-12-14T19:23:22.290628Z"
    }
   },
   "outputs": [
    {
     "data": {
      "text/plain": [
       "[(6,\n",
       "  {'sex': 'М',\n",
       "   'age': 'age_45_54',\n",
       "   'income': 'income_90_150',\n",
       "   'kids_flg': False}),\n",
       " (69,\n",
       "  {'sex': 'М',\n",
       "   'age': 'age_25_34',\n",
       "   'income': 'income_20_40',\n",
       "   'kids_flg': True})]"
      ]
     },
     "execution_count": 156,
     "metadata": {},
     "output_type": "execute_result"
    }
   ],
   "source": [
    "list(features_for_cold_groups.items())[:2]"
   ]
  },
  {
   "cell_type": "code",
   "execution_count": 157,
   "metadata": {
    "ExecuteTime": {
     "end_time": "2022-12-14T19:23:26.352136Z",
     "start_time": "2022-12-14T19:23:22.471530Z"
    }
   },
   "outputs": [],
   "source": [
    "save_name = \"features_for_cold\"\n",
    "with open(SAVE_PATH / f\"{save_name}.dill\", \"wb\") as f:\n",
    "    dill.dump(features_for_cold_groups, f)"
   ]
  },
  {
   "cell_type": "code",
   "execution_count": 158,
   "metadata": {
    "ExecuteTime": {
     "end_time": "2022-12-14T19:23:26.367599Z",
     "start_time": "2022-12-14T19:23:26.355674Z"
    }
   },
   "outputs": [
    {
     "data": {
      "text/plain": [
       "array(['М', 'Ж', 'Unknown', 'age_25_34', 'age_18_24', 'age_45_54',\n",
       "       'age_35_44', 'age_55_64', 'age_65_inf', 'Unknown', 'income_60_90',\n",
       "       'income_20_40', 'income_40_60', 'income_90_150', 'income_0_20',\n",
       "       'Unknown', 'income_150_inf', 'True', 'False'], dtype='<U14')"
      ]
     },
     "execution_count": 158,
     "metadata": {},
     "output_type": "execute_result"
    }
   ],
   "source": [
    "features"
   ]
  },
  {
   "cell_type": "code",
   "execution_count": 159,
   "metadata": {
    "ExecuteTime": {
     "end_time": "2022-12-14T19:23:26.383252Z",
     "start_time": "2022-12-14T19:23:26.371443Z"
    }
   },
   "outputs": [],
   "source": [
    "save_name = \"unique_features\"\n",
    "with open(SAVE_PATH / f\"{save_name}.dill\", \"wb\") as f:\n",
    "    dill.dump(features, f)"
   ]
  },
  {
   "cell_type": "markdown",
   "metadata": {},
   "source": [
    "#### Runtime test"
   ]
  },
  {
   "cell_type": "code",
   "execution_count": 160,
   "metadata": {
    "ExecuteTime": {
     "end_time": "2022-12-14T19:23:26.399968Z",
     "start_time": "2022-12-14T19:23:26.387266Z"
    }
   },
   "outputs": [],
   "source": [
    "def get_cold_reco(\n",
    "    item_mapping, model, user_id, users_features=full_user_features, dataset=dataset\n",
    "):\n",
    "    user_feature = users_features[users_features[\"id\"] == user_id][\"value\"].values\n",
    "    feature_mask = np.isin(features, user_feature)\n",
    "    feature_row = sparse.csr_matrix(feature_mask)\n",
    "\n",
    "    cold_scores = light_fm.predict(\n",
    "        0, dataset.item_id_map.internal_ids, user_features=feature_row\n",
    "    )\n",
    "\n",
    "    idxs = np.argsort(cold_scores)[::-1]\n",
    "    recs = dataset.item_id_map.internal_ids[idxs][:10]\n",
    "    recs = [item_mapping[reco] for reco in recs]\n",
    "    return recs"
   ]
  },
  {
   "cell_type": "code",
   "execution_count": 161,
   "metadata": {
    "ExecuteTime": {
     "end_time": "2022-12-14T19:23:26.427458Z",
     "start_time": "2022-12-14T19:23:26.404739Z"
    }
   },
   "outputs": [
    {
     "data": {
      "text/plain": [
       "[15297, 10440, 9996, 4880, 6809, 4436, 4740, 4495, 3734, 12192]"
      ]
     },
     "execution_count": 161,
     "metadata": {},
     "output_type": "execute_result"
    }
   ],
   "source": [
    "get_cold_reco(item_mapping, model=light_fm, user_id=6)"
   ]
  },
  {
   "cell_type": "code",
   "execution_count": 162,
   "metadata": {
    "ExecuteTime": {
     "end_time": "2022-12-14T19:23:35.191979Z",
     "start_time": "2022-12-14T19:23:26.434648Z"
    }
   },
   "outputs": [
    {
     "data": {
      "text/plain": [
       "8.749824367998372"
      ]
     },
     "execution_count": 162,
     "metadata": {},
     "output_type": "execute_result"
    }
   ],
   "source": [
    "timeit.timeit(\n",
    "    \"get_cold_reco(item_mapping, model=light_fm, user_id=6)\",\n",
    "    \"from __main__ import get_cold_reco, light_fm, full_user_features, item_mapping\",\n",
    "    number=1000,\n",
    ")"
   ]
  },
  {
   "cell_type": "code",
   "execution_count": 164,
   "metadata": {
    "ExecuteTime": {
     "end_time": "2022-12-14T19:23:48.243620Z",
     "start_time": "2022-12-14T19:23:41.833580Z"
    }
   },
   "outputs": [
    {
     "name": "stdout",
     "output_type": "stream",
     "text": [
      "7.86 ms ± 157 µs per loop (mean ± std. dev. of 7 runs, 100 loops each)\n"
     ]
    }
   ],
   "source": [
    "%timeit get_cold_reco(item_mapping, model=light_fm, user_id=6)"
   ]
  },
  {
   "cell_type": "markdown",
   "metadata": {},
   "source": [
    "                                               ** Выводы **\n",
    "* Производительность +- на одном уровне для горячих и холодных пользователей, валидная для использования в сервисе\n",
    "* LightFM генерирует рекомендации быстрее, чем KNN model"
   ]
  },
  {
   "cell_type": "markdown",
   "metadata": {},
   "source": [
    "#### Experiments with predictions for different cold user types\n",
    "\n",
    "Посмотрим глазами, что рекомендует модель для разных групп пользователей, сформированных по фичам, оценим, насколько различны рекомендации"
   ]
  },
  {
   "cell_type": "code",
   "execution_count": 165,
   "metadata": {
    "ExecuteTime": {
     "end_time": "2022-12-14T19:23:48.260166Z",
     "start_time": "2022-12-14T19:23:48.250606Z"
    }
   },
   "outputs": [
    {
     "data": {
      "text/plain": [
       "(('sex', 'М'),\n",
       " ('sex', 'Ж'),\n",
       " ('sex', 'Unknown'),\n",
       " ('age', 'age_25_34'),\n",
       " ('age', 'age_18_24'),\n",
       " ('age', 'age_45_54'),\n",
       " ('age', 'age_35_44'),\n",
       " ('age', 'age_55_64'),\n",
       " ('age', 'age_65_inf'),\n",
       " ('age', 'Unknown'),\n",
       " ('income', 'income_60_90'),\n",
       " ('income', 'income_20_40'),\n",
       " ('income', 'income_40_60'),\n",
       " ('income', 'income_90_150'),\n",
       " ('income', 'income_0_20'),\n",
       " ('income', 'Unknown'),\n",
       " ('income', 'income_150_inf'),\n",
       " ('kids_flg', True),\n",
       " ('kids_flg', False))"
      ]
     },
     "execution_count": 165,
     "metadata": {},
     "output_type": "execute_result"
    }
   ],
   "source": [
    "# All possible features values\n",
    "dataset.user_features.names"
   ]
  },
  {
   "cell_type": "markdown",
   "metadata": {},
   "source": [
    "Сгенерируем рандомные группы пользователей по признакам"
   ]
  },
  {
   "cell_type": "code",
   "execution_count": 166,
   "metadata": {
    "ExecuteTime": {
     "end_time": "2022-12-14T19:23:49.704599Z",
     "start_time": "2022-12-14T19:23:48.263753Z"
    }
   },
   "outputs": [],
   "source": [
    "cold_users_set = []\n",
    "\n",
    "d = {}\n",
    "for _ in range(10):\n",
    "    feature_set = []\n",
    "    for feature in [\"sex\", \"age\", \"income\", \"kids_flg\"]:\n",
    "        if feature not in d:\n",
    "            d[feature] = user_features[\n",
    "                user_features[\"feature\"] == feature\n",
    "            ].value.unique()\n",
    "        feature_set.append(np.random.choice(d[feature]))\n",
    "\n",
    "    cold_users_set.append(feature_set)"
   ]
  },
  {
   "cell_type": "code",
   "execution_count": 167,
   "metadata": {
    "ExecuteTime": {
     "end_time": "2022-12-14T19:23:49.725314Z",
     "start_time": "2022-12-14T19:23:49.709105Z"
    }
   },
   "outputs": [
    {
     "data": {
      "text/plain": [
       "[['Unknown', 'age_25_34', 'income_20_40', True],\n",
       " ['М', 'age_65_inf', 'income_0_20', False],\n",
       " ['Unknown', 'age_18_24', 'income_90_150', True],\n",
       " ['Ж', 'age_55_64', 'income_20_40', True],\n",
       " ['Ж', 'age_65_inf', 'income_60_90', True],\n",
       " ['Ж', 'age_25_34', 'income_20_40', False],\n",
       " ['Unknown', 'Unknown', 'income_20_40', False],\n",
       " ['Ж', 'age_35_44', 'income_0_20', False],\n",
       " ['Ж', 'age_55_64', 'income_90_150', False],\n",
       " ['Unknown', 'age_35_44', 'income_0_20', True]]"
      ]
     },
     "execution_count": 167,
     "metadata": {},
     "output_type": "execute_result"
    }
   ],
   "source": [
    "cold_users_set"
   ]
  },
  {
   "cell_type": "code",
   "execution_count": 168,
   "metadata": {
    "ExecuteTime": {
     "end_time": "2022-12-14T19:23:49.739761Z",
     "start_time": "2022-12-14T19:23:49.728714Z"
    }
   },
   "outputs": [],
   "source": [
    "def features_to_reco(users_set, features, model):\n",
    "    d = {}\n",
    "    for i, feature_set in enumerate(users_set):\n",
    "        feature_mask = np.isin(features, feature_set)\n",
    "        feature_row = sparse.csr_matrix(feature_mask)\n",
    "        cold_scores = model.predict(\n",
    "            0, dataset.item_id_map.internal_ids, user_features=feature_row\n",
    "        )\n",
    "\n",
    "        idxs = np.argsort(cold_scores)[::-1]\n",
    "        recs = dataset.item_id_map.internal_ids[idxs][:10]\n",
    "        recs = [item_mapping[reco] for reco in recs]\n",
    "\n",
    "        feature_set = \",  \".join(\n",
    "            [str(item) for item in feature_set]\n",
    "        )  # Save feature set for naming\n",
    "        d[feature_set] = recs\n",
    "    return d"
   ]
  },
  {
   "cell_type": "code",
   "execution_count": 169,
   "metadata": {
    "ExecuteTime": {
     "end_time": "2022-12-14T19:23:49.803668Z",
     "start_time": "2022-12-14T19:23:49.742687Z"
    }
   },
   "outputs": [],
   "source": [
    "dataset_dict = features_to_reco(cold_users_set, features, model=light_fm)"
   ]
  },
  {
   "cell_type": "code",
   "execution_count": 170,
   "metadata": {
    "ExecuteTime": {
     "end_time": "2022-12-14T19:23:49.818086Z",
     "start_time": "2022-12-14T19:23:49.810782Z"
    }
   },
   "outputs": [],
   "source": [
    "cold_users_view = pd.DataFrame.from_dict(dataset_dict)"
   ]
  },
  {
   "cell_type": "code",
   "execution_count": 171,
   "metadata": {
    "ExecuteTime": {
     "end_time": "2022-12-14T19:23:49.988038Z",
     "start_time": "2022-12-14T19:23:49.823068Z"
    }
   },
   "outputs": [
    {
     "name": "stdout",
     "output_type": "stream",
     "text": [
      "\n",
      "Modified Stlying DataFrame:\n"
     ]
    },
    {
     "data": {
      "text/html": [
       "<style type=\"text/css\">\n",
       "#T_351f9_row0_col0, #T_351f9_row0_col2, #T_351f9_row0_col3, #T_351f9_row0_col4, #T_351f9_row0_col9, #T_351f9_row1_col1, #T_351f9_row1_col5, #T_351f9_row1_col6, #T_351f9_row1_col7, #T_351f9_row1_col8 {\n",
       "  background-color: #ffd4ac;\n",
       "  color: #000000;\n",
       "}\n",
       "#T_351f9_row0_col1, #T_351f9_row0_col5, #T_351f9_row0_col6, #T_351f9_row0_col7, #T_351f9_row0_col8, #T_351f9_row1_col0, #T_351f9_row1_col2, #T_351f9_row1_col3, #T_351f9_row1_col4, #T_351f9_row1_col9 {\n",
       "  background-color: #542732;\n",
       "  color: #f1f1f1;\n",
       "}\n",
       "#T_351f9_row2_col0, #T_351f9_row4_col2, #T_351f9_row8_col9 {\n",
       "  background-color: #81bfcf;\n",
       "  color: #000000;\n",
       "}\n",
       "#T_351f9_row2_col1, #T_351f9_row2_col4, #T_351f9_row2_col6, #T_351f9_row2_col7, #T_351f9_row3_col3, #T_351f9_row3_col8, #T_351f9_row5_col9, #T_351f9_row6_col5, #T_351f9_row9_col0, #T_351f9_row9_col2 {\n",
       "  background-color: #bde7db;\n",
       "  color: #000000;\n",
       "}\n",
       "#T_351f9_row2_col2, #T_351f9_row2_col8, #T_351f9_row3_col0, #T_351f9_row3_col5, #T_351f9_row4_col4, #T_351f9_row4_col7, #T_351f9_row5_col1, #T_351f9_row6_col9, #T_351f9_row7_col3 {\n",
       "  background-color: #454386;\n",
       "  color: #f1f1f1;\n",
       "}\n",
       "#T_351f9_row2_col3, #T_351f9_row3_col4, #T_351f9_row3_col7, #T_351f9_row4_col5, #T_351f9_row5_col8, #T_351f9_row7_col0, #T_351f9_row9_col9 {\n",
       "  background-color: #65afcd;\n",
       "  color: #f1f1f1;\n",
       "}\n",
       "#T_351f9_row2_col5, #T_351f9_row5_col0, #T_351f9_row6_col4, #T_351f9_row7_col8, #T_351f9_row8_col3 {\n",
       "  background-color: #352024;\n",
       "  color: #f1f1f1;\n",
       "}\n",
       "#T_351f9_row2_col9, #T_351f9_row3_col1, #T_351f9_row5_col3, #T_351f9_row7_col2, #T_351f9_row7_col7, #T_351f9_row8_col6, #T_351f9_row9_col8 {\n",
       "  background-color: #3f2228;\n",
       "  color: #f1f1f1;\n",
       "}\n",
       "#T_351f9_row3_col2, #T_351f9_row4_col0, #T_351f9_row4_col8, #T_351f9_row5_col4, #T_351f9_row5_col5, #T_351f9_row6_col1, #T_351f9_row9_col3, #T_351f9_row9_col7 {\n",
       "  background-color: #4798ce;\n",
       "  color: #f1f1f1;\n",
       "}\n",
       "#T_351f9_row3_col6 {\n",
       "  background-color: #46458a;\n",
       "  color: #f1f1f1;\n",
       "}\n",
       "#T_351f9_row3_col9, #T_351f9_row6_col3, #T_351f9_row7_col1, #T_351f9_row8_col7 {\n",
       "  background-color: #bb363f;\n",
       "  color: #f1f1f1;\n",
       "}\n",
       "#T_351f9_row4_col1, #T_351f9_row4_col3, #T_351f9_row4_col9, #T_351f9_row5_col7, #T_351f9_row8_col8 {\n",
       "  background-color: #4192ce;\n",
       "  color: #f1f1f1;\n",
       "}\n",
       "#T_351f9_row4_col6 {\n",
       "  background-color: #68b0cd;\n",
       "  color: #f1f1f1;\n",
       "}\n",
       "#T_351f9_row5_col2, #T_351f9_row6_col0, #T_351f9_row6_col8, #T_351f9_row7_col5 {\n",
       "  background-color: #bae5da;\n",
       "  color: #000000;\n",
       "}\n",
       "#T_351f9_row5_col6 {\n",
       "  background-color: #4596ce;\n",
       "  color: #f1f1f1;\n",
       "}\n",
       "#T_351f9_row6_col2 {\n",
       "  background-color: #53a2cd;\n",
       "  color: #f1f1f1;\n",
       "}\n",
       "#T_351f9_row6_col6 {\n",
       "  background-color: #84c1cf;\n",
       "  color: #000000;\n",
       "}\n",
       "#T_351f9_row6_col7 {\n",
       "  background-color: #e36233;\n",
       "  color: #f1f1f1;\n",
       "}\n",
       "#T_351f9_row7_col4 {\n",
       "  background-color: #c33a3c;\n",
       "  color: #f1f1f1;\n",
       "}\n",
       "#T_351f9_row7_col6 {\n",
       "  background-color: #499ace;\n",
       "  color: #f1f1f1;\n",
       "}\n",
       "#T_351f9_row7_col9, #T_351f9_row8_col1, #T_351f9_row8_col2 {\n",
       "  background-color: #55a3cd;\n",
       "  color: #f1f1f1;\n",
       "}\n",
       "#T_351f9_row8_col0, #T_351f9_row9_col4 {\n",
       "  background-color: #ef8445;\n",
       "  color: #f1f1f1;\n",
       "}\n",
       "#T_351f9_row8_col4 {\n",
       "  background-color: #4858b6;\n",
       "  color: #f1f1f1;\n",
       "}\n",
       "#T_351f9_row8_col5 {\n",
       "  background-color: #60abcd;\n",
       "  color: #f1f1f1;\n",
       "}\n",
       "#T_351f9_row9_col1 {\n",
       "  background-color: #812d41;\n",
       "  color: #f1f1f1;\n",
       "}\n",
       "#T_351f9_row9_col5 {\n",
       "  background-color: #377ad0;\n",
       "  color: #f1f1f1;\n",
       "}\n",
       "#T_351f9_row9_col6 {\n",
       "  background-color: #b93540;\n",
       "  color: #f1f1f1;\n",
       "}\n",
       "</style>\n",
       "<table id=\"T_351f9\">\n",
       "  <thead>\n",
       "    <tr>\n",
       "      <th class=\"blank level0\" >&nbsp;</th>\n",
       "      <th id=\"T_351f9_level0_col0\" class=\"col_heading level0 col0\" >Unknown,  age_25_34,  income_20_40,  True</th>\n",
       "      <th id=\"T_351f9_level0_col1\" class=\"col_heading level0 col1\" >М,  age_65_inf,  income_0_20,  False</th>\n",
       "      <th id=\"T_351f9_level0_col2\" class=\"col_heading level0 col2\" >Unknown,  age_18_24,  income_90_150,  True</th>\n",
       "      <th id=\"T_351f9_level0_col3\" class=\"col_heading level0 col3\" >Ж,  age_55_64,  income_20_40,  True</th>\n",
       "      <th id=\"T_351f9_level0_col4\" class=\"col_heading level0 col4\" >Ж,  age_65_inf,  income_60_90,  True</th>\n",
       "      <th id=\"T_351f9_level0_col5\" class=\"col_heading level0 col5\" >Ж,  age_25_34,  income_20_40,  False</th>\n",
       "      <th id=\"T_351f9_level0_col6\" class=\"col_heading level0 col6\" >Unknown,  Unknown,  income_20_40,  False</th>\n",
       "      <th id=\"T_351f9_level0_col7\" class=\"col_heading level0 col7\" >Ж,  age_35_44,  income_0_20,  False</th>\n",
       "      <th id=\"T_351f9_level0_col8\" class=\"col_heading level0 col8\" >Ж,  age_55_64,  income_90_150,  False</th>\n",
       "      <th id=\"T_351f9_level0_col9\" class=\"col_heading level0 col9\" >Unknown,  age_35_44,  income_0_20,  True</th>\n",
       "    </tr>\n",
       "  </thead>\n",
       "  <tbody>\n",
       "    <tr>\n",
       "      <th id=\"T_351f9_level0_row0\" class=\"row_heading level0 row0\" >0</th>\n",
       "      <td id=\"T_351f9_row0_col0\" class=\"data row0 col0\" >15297</td>\n",
       "      <td id=\"T_351f9_row0_col1\" class=\"data row0 col1\" >10440</td>\n",
       "      <td id=\"T_351f9_row0_col2\" class=\"data row0 col2\" >15297</td>\n",
       "      <td id=\"T_351f9_row0_col3\" class=\"data row0 col3\" >15297</td>\n",
       "      <td id=\"T_351f9_row0_col4\" class=\"data row0 col4\" >15297</td>\n",
       "      <td id=\"T_351f9_row0_col5\" class=\"data row0 col5\" >10440</td>\n",
       "      <td id=\"T_351f9_row0_col6\" class=\"data row0 col6\" >10440</td>\n",
       "      <td id=\"T_351f9_row0_col7\" class=\"data row0 col7\" >10440</td>\n",
       "      <td id=\"T_351f9_row0_col8\" class=\"data row0 col8\" >10440</td>\n",
       "      <td id=\"T_351f9_row0_col9\" class=\"data row0 col9\" >15297</td>\n",
       "    </tr>\n",
       "    <tr>\n",
       "      <th id=\"T_351f9_level0_row1\" class=\"row_heading level0 row1\" >1</th>\n",
       "      <td id=\"T_351f9_row1_col0\" class=\"data row1 col0\" >10440</td>\n",
       "      <td id=\"T_351f9_row1_col1\" class=\"data row1 col1\" >15297</td>\n",
       "      <td id=\"T_351f9_row1_col2\" class=\"data row1 col2\" >10440</td>\n",
       "      <td id=\"T_351f9_row1_col3\" class=\"data row1 col3\" >10440</td>\n",
       "      <td id=\"T_351f9_row1_col4\" class=\"data row1 col4\" >10440</td>\n",
       "      <td id=\"T_351f9_row1_col5\" class=\"data row1 col5\" >15297</td>\n",
       "      <td id=\"T_351f9_row1_col6\" class=\"data row1 col6\" >15297</td>\n",
       "      <td id=\"T_351f9_row1_col7\" class=\"data row1 col7\" >15297</td>\n",
       "      <td id=\"T_351f9_row1_col8\" class=\"data row1 col8\" >15297</td>\n",
       "      <td id=\"T_351f9_row1_col9\" class=\"data row1 col9\" >10440</td>\n",
       "    </tr>\n",
       "    <tr>\n",
       "      <th id=\"T_351f9_level0_row2\" class=\"row_heading level0 row2\" >2</th>\n",
       "      <td id=\"T_351f9_row2_col0\" class=\"data row2 col0\" >3734</td>\n",
       "      <td id=\"T_351f9_row2_col1\" class=\"data row2 col1\" >2657</td>\n",
       "      <td id=\"T_351f9_row2_col2\" class=\"data row2 col2\" >6809</td>\n",
       "      <td id=\"T_351f9_row2_col3\" class=\"data row2 col3\" >4151</td>\n",
       "      <td id=\"T_351f9_row2_col4\" class=\"data row2 col4\" >2657</td>\n",
       "      <td id=\"T_351f9_row2_col5\" class=\"data row2 col5\" >9728</td>\n",
       "      <td id=\"T_351f9_row2_col6\" class=\"data row2 col6\" >2722</td>\n",
       "      <td id=\"T_351f9_row2_col7\" class=\"data row2 col7\" >2657</td>\n",
       "      <td id=\"T_351f9_row2_col8\" class=\"data row2 col8\" >6809</td>\n",
       "      <td id=\"T_351f9_row2_col9\" class=\"data row2 col9\" >9996</td>\n",
       "    </tr>\n",
       "    <tr>\n",
       "      <th id=\"T_351f9_level0_row3\" class=\"row_heading level0 row3\" >3</th>\n",
       "      <td id=\"T_351f9_row3_col0\" class=\"data row3 col0\" >6809</td>\n",
       "      <td id=\"T_351f9_row3_col1\" class=\"data row3 col1\" >9996</td>\n",
       "      <td id=\"T_351f9_row3_col2\" class=\"data row3 col2\" >4740</td>\n",
       "      <td id=\"T_351f9_row3_col3\" class=\"data row3 col3\" >2657</td>\n",
       "      <td id=\"T_351f9_row3_col4\" class=\"data row3 col4\" >4151</td>\n",
       "      <td id=\"T_351f9_row3_col5\" class=\"data row3 col5\" >6809</td>\n",
       "      <td id=\"T_351f9_row3_col6\" class=\"data row3 col6\" >6809</td>\n",
       "      <td id=\"T_351f9_row3_col7\" class=\"data row3 col7\" >4151</td>\n",
       "      <td id=\"T_351f9_row3_col8\" class=\"data row3 col8\" >2657</td>\n",
       "      <td id=\"T_351f9_row3_col9\" class=\"data row3 col9\" >12192</td>\n",
       "    </tr>\n",
       "    <tr>\n",
       "      <th id=\"T_351f9_level0_row4\" class=\"row_heading level0 row4\" >4</th>\n",
       "      <td id=\"T_351f9_row4_col0\" class=\"data row4 col0\" >4740</td>\n",
       "      <td id=\"T_351f9_row4_col1\" class=\"data row4 col1\" >4880</td>\n",
       "      <td id=\"T_351f9_row4_col2\" class=\"data row4 col2\" >3734</td>\n",
       "      <td id=\"T_351f9_row4_col3\" class=\"data row4 col3\" >4880</td>\n",
       "      <td id=\"T_351f9_row4_col4\" class=\"data row4 col4\" >6809</td>\n",
       "      <td id=\"T_351f9_row4_col5\" class=\"data row4 col5\" >4151</td>\n",
       "      <td id=\"T_351f9_row4_col6\" class=\"data row4 col6\" >4151</td>\n",
       "      <td id=\"T_351f9_row4_col7\" class=\"data row4 col7\" >6809</td>\n",
       "      <td id=\"T_351f9_row4_col8\" class=\"data row4 col8\" >4740</td>\n",
       "      <td id=\"T_351f9_row4_col9\" class=\"data row4 col9\" >4880</td>\n",
       "    </tr>\n",
       "    <tr>\n",
       "      <th id=\"T_351f9_level0_row5\" class=\"row_heading level0 row5\" >5</th>\n",
       "      <td id=\"T_351f9_row5_col0\" class=\"data row5 col0\" >9728</td>\n",
       "      <td id=\"T_351f9_row5_col1\" class=\"data row5 col1\" >6809</td>\n",
       "      <td id=\"T_351f9_row5_col2\" class=\"data row5 col2\" >2722</td>\n",
       "      <td id=\"T_351f9_row5_col3\" class=\"data row5 col3\" >9996</td>\n",
       "      <td id=\"T_351f9_row5_col4\" class=\"data row5 col4\" >4740</td>\n",
       "      <td id=\"T_351f9_row5_col5\" class=\"data row5 col5\" >4740</td>\n",
       "      <td id=\"T_351f9_row5_col6\" class=\"data row5 col6\" >4880</td>\n",
       "      <td id=\"T_351f9_row5_col7\" class=\"data row5 col7\" >4880</td>\n",
       "      <td id=\"T_351f9_row5_col8\" class=\"data row5 col8\" >4151</td>\n",
       "      <td id=\"T_351f9_row5_col9\" class=\"data row5 col9\" >2657</td>\n",
       "    </tr>\n",
       "    <tr>\n",
       "      <th id=\"T_351f9_level0_row6\" class=\"row_heading level0 row6\" >6</th>\n",
       "      <td id=\"T_351f9_row6_col0\" class=\"data row6 col0\" >2722</td>\n",
       "      <td id=\"T_351f9_row6_col1\" class=\"data row6 col1\" >4740</td>\n",
       "      <td id=\"T_351f9_row6_col2\" class=\"data row6 col2\" >4495</td>\n",
       "      <td id=\"T_351f9_row6_col3\" class=\"data row6 col3\" >12192</td>\n",
       "      <td id=\"T_351f9_row6_col4\" class=\"data row6 col4\" >9728</td>\n",
       "      <td id=\"T_351f9_row6_col5\" class=\"data row6 col5\" >2657</td>\n",
       "      <td id=\"T_351f9_row6_col6\" class=\"data row6 col6\" >3734</td>\n",
       "      <td id=\"T_351f9_row6_col7\" class=\"data row6 col7\" >13258</td>\n",
       "      <td id=\"T_351f9_row6_col8\" class=\"data row6 col8\" >2722</td>\n",
       "      <td id=\"T_351f9_row6_col9\" class=\"data row6 col9\" >6809</td>\n",
       "    </tr>\n",
       "    <tr>\n",
       "      <th id=\"T_351f9_level0_row7\" class=\"row_heading level0 row7\" >7</th>\n",
       "      <td id=\"T_351f9_row7_col0\" class=\"data row7 col0\" >4151</td>\n",
       "      <td id=\"T_351f9_row7_col1\" class=\"data row7 col1\" >12192</td>\n",
       "      <td id=\"T_351f9_row7_col2\" class=\"data row7 col2\" >9996</td>\n",
       "      <td id=\"T_351f9_row7_col3\" class=\"data row7 col3\" >6809</td>\n",
       "      <td id=\"T_351f9_row7_col4\" class=\"data row7 col4\" >12360</td>\n",
       "      <td id=\"T_351f9_row7_col5\" class=\"data row7 col5\" >2722</td>\n",
       "      <td id=\"T_351f9_row7_col6\" class=\"data row7 col6\" >4740</td>\n",
       "      <td id=\"T_351f9_row7_col7\" class=\"data row7 col7\" >9996</td>\n",
       "      <td id=\"T_351f9_row7_col8\" class=\"data row7 col8\" >9728</td>\n",
       "      <td id=\"T_351f9_row7_col9\" class=\"data row7 col9\" >4436</td>\n",
       "    </tr>\n",
       "    <tr>\n",
       "      <th id=\"T_351f9_level0_row8\" class=\"row_heading level0 row8\" >8</th>\n",
       "      <td id=\"T_351f9_row8_col0\" class=\"data row8 col0\" >13865</td>\n",
       "      <td id=\"T_351f9_row8_col1\" class=\"data row8 col1\" >4436</td>\n",
       "      <td id=\"T_351f9_row8_col2\" class=\"data row8 col2\" >4436</td>\n",
       "      <td id=\"T_351f9_row8_col3\" class=\"data row8 col3\" >9728</td>\n",
       "      <td id=\"T_351f9_row8_col4\" class=\"data row8 col4\" >6166</td>\n",
       "      <td id=\"T_351f9_row8_col5\" class=\"data row8 col5\" >4260</td>\n",
       "      <td id=\"T_351f9_row8_col6\" class=\"data row8 col6\" >9996</td>\n",
       "      <td id=\"T_351f9_row8_col7\" class=\"data row8 col7\" >12192</td>\n",
       "      <td id=\"T_351f9_row8_col8\" class=\"data row8 col8\" >4880</td>\n",
       "      <td id=\"T_351f9_row8_col9\" class=\"data row8 col9\" >3734</td>\n",
       "    </tr>\n",
       "    <tr>\n",
       "      <th id=\"T_351f9_level0_row9\" class=\"row_heading level0 row9\" >9</th>\n",
       "      <td id=\"T_351f9_row9_col0\" class=\"data row9 col0\" >2657</td>\n",
       "      <td id=\"T_351f9_row9_col1\" class=\"data row9 col1\" >11237</td>\n",
       "      <td id=\"T_351f9_row9_col2\" class=\"data row9 col2\" >2657</td>\n",
       "      <td id=\"T_351f9_row9_col3\" class=\"data row9 col3\" >4740</td>\n",
       "      <td id=\"T_351f9_row9_col4\" class=\"data row9 col4\" >13865</td>\n",
       "      <td id=\"T_351f9_row9_col5\" class=\"data row9 col5\" >5434</td>\n",
       "      <td id=\"T_351f9_row9_col6\" class=\"data row9 col6\" >12192</td>\n",
       "      <td id=\"T_351f9_row9_col7\" class=\"data row9 col7\" >4740</td>\n",
       "      <td id=\"T_351f9_row9_col8\" class=\"data row9 col8\" >9996</td>\n",
       "      <td id=\"T_351f9_row9_col9\" class=\"data row9 col9\" >4151</td>\n",
       "    </tr>\n",
       "  </tbody>\n",
       "</table>\n"
      ],
      "text/plain": [
       "<pandas.io.formats.style.Styler at 0x7f2e14a15220>"
      ]
     },
     "execution_count": 171,
     "metadata": {},
     "output_type": "execute_result"
    }
   ],
   "source": [
    "# Set color palette\n",
    "cm = sns.color_palette(\"icefire\", as_cmap=True)\n",
    "\n",
    "# Visualizing the DataFrame with set precision\n",
    "print(\"\\nModified Stlying DataFrame:\")\n",
    "cold_users_view.style.background_gradient(cmap=cm).set_precision(0)"
   ]
  },
  {
   "cell_type": "markdown",
   "metadata": {},
   "source": [
    "В рекомендашках можно увидеть пару уникальных рекомендаций (см. ниже), остальные айтемы сильно пересекаются между группами"
   ]
  },
  {
   "cell_type": "code",
   "execution_count": 172,
   "metadata": {
    "ExecuteTime": {
     "end_time": "2022-12-14T19:26:08.787150Z",
     "start_time": "2022-12-14T19:26:08.782606Z"
    }
   },
   "outputs": [],
   "source": [
    "unique_recos = [11237, 4495, 6166, 13258]"
   ]
  },
  {
   "cell_type": "code",
   "execution_count": 173,
   "metadata": {
    "ExecuteTime": {
     "end_time": "2022-12-14T19:26:09.350021Z",
     "start_time": "2022-12-14T19:26:09.324978Z"
    }
   },
   "outputs": [
    {
     "data": {
      "text/html": [
       "<div>\n",
       "<style scoped>\n",
       "    .dataframe tbody tr th:only-of-type {\n",
       "        vertical-align: middle;\n",
       "    }\n",
       "\n",
       "    .dataframe tbody tr th {\n",
       "        vertical-align: top;\n",
       "    }\n",
       "\n",
       "    .dataframe thead th {\n",
       "        text-align: right;\n",
       "    }\n",
       "</style>\n",
       "<table border=\"1\" class=\"dataframe\">\n",
       "  <thead>\n",
       "    <tr style=\"text-align: right;\">\n",
       "      <th></th>\n",
       "      <th>item_id</th>\n",
       "      <th>content_type</th>\n",
       "      <th>title</th>\n",
       "      <th>title_orig</th>\n",
       "      <th>release_year</th>\n",
       "      <th>genres</th>\n",
       "      <th>countries</th>\n",
       "      <th>for_kids</th>\n",
       "      <th>age_rating</th>\n",
       "      <th>studios</th>\n",
       "      <th>directors</th>\n",
       "      <th>actors</th>\n",
       "      <th>description</th>\n",
       "      <th>keywords</th>\n",
       "    </tr>\n",
       "  </thead>\n",
       "  <tbody>\n",
       "    <tr>\n",
       "      <th>6425</th>\n",
       "      <td>11237</td>\n",
       "      <td>film</td>\n",
       "      <td>День города</td>\n",
       "      <td>NaN</td>\n",
       "      <td>2021.0</td>\n",
       "      <td>комедии</td>\n",
       "      <td>Россия</td>\n",
       "      <td>NaN</td>\n",
       "      <td>16.0</td>\n",
       "      <td>NaN</td>\n",
       "      <td>Алексей Харитонов</td>\n",
       "      <td>Катерина Шпица, Антон Филипенко, Павел Ворожцо...</td>\n",
       "      <td>Эта история случилась в провинциальном городке...</td>\n",
       "      <td>2021, россия, день, города</td>\n",
       "    </tr>\n",
       "    <tr>\n",
       "      <th>7734</th>\n",
       "      <td>4495</td>\n",
       "      <td>film</td>\n",
       "      <td>Пальмира</td>\n",
       "      <td>Palmyra</td>\n",
       "      <td>2020.0</td>\n",
       "      <td>драмы</td>\n",
       "      <td>Россия</td>\n",
       "      <td>NaN</td>\n",
       "      <td>16.0</td>\n",
       "      <td>NaN</td>\n",
       "      <td>Иван Болотников</td>\n",
       "      <td>Геза Морчани, Екатерина Крамаренко, Даниэла Ст...</td>\n",
       "      <td>Бывший военный врач Артур ведет тихую жизнь в ...</td>\n",
       "      <td>2020, россия, пальмира</td>\n",
       "    </tr>\n",
       "    <tr>\n",
       "      <th>11043</th>\n",
       "      <td>6166</td>\n",
       "      <td>series</td>\n",
       "      <td>Стальная звезда</td>\n",
       "      <td>Tin Star</td>\n",
       "      <td>2017.0</td>\n",
       "      <td>драмы, триллеры</td>\n",
       "      <td>Великобритания</td>\n",
       "      <td>NaN</td>\n",
       "      <td>18.0</td>\n",
       "      <td>Endemol</td>\n",
       "      <td>Грант Харви, Жиль Банньер, Марк Йобст</td>\n",
       "      <td>Кристина Хендрикс, Кристофер Хейердал, Оливер ...</td>\n",
       "      <td>«Стальная звезда» — кровавый британский трилле...</td>\n",
       "      <td>Стальная, звезда, 2017, Великобритания</td>\n",
       "    </tr>\n",
       "    <tr>\n",
       "      <th>12211</th>\n",
       "      <td>13258</td>\n",
       "      <td>series</td>\n",
       "      <td>Ералаш</td>\n",
       "      <td>NaN</td>\n",
       "      <td>1974.0</td>\n",
       "      <td>семейное, русские, для детей, комедии</td>\n",
       "      <td>СССР</td>\n",
       "      <td>NaN</td>\n",
       "      <td>0.0</td>\n",
       "      <td>NaN</td>\n",
       "      <td>Алексей Щеглов, Анджей Петрас, Борис Грачевски...</td>\n",
       "      <td>Александр Варакин, Александр Галчев, Александр...</td>\n",
       "      <td>Смотрите премьерные выпуски детского юмористич...</td>\n",
       "      <td>Ералаш, 1974, СССР, друзья, жизнь, отцы, дети,...</td>\n",
       "    </tr>\n",
       "  </tbody>\n",
       "</table>\n",
       "</div>"
      ],
      "text/plain": [
       "       item_id content_type            title title_orig  release_year  \\\n",
       "6425     11237         film      День города        NaN        2021.0   \n",
       "7734      4495         film         Пальмира    Palmyra        2020.0   \n",
       "11043     6166       series  Стальная звезда   Tin Star        2017.0   \n",
       "12211    13258       series           Ералаш        NaN        1974.0   \n",
       "\n",
       "                                      genres       countries  for_kids  \\\n",
       "6425                                 комедии          Россия       NaN   \n",
       "7734                                   драмы          Россия       NaN   \n",
       "11043                        драмы, триллеры  Великобритания       NaN   \n",
       "12211  семейное, русские, для детей, комедии            СССР       NaN   \n",
       "\n",
       "       age_rating  studios                                          directors  \\\n",
       "6425         16.0      NaN                                  Алексей Харитонов   \n",
       "7734         16.0      NaN                                    Иван Болотников   \n",
       "11043        18.0  Endemol              Грант Харви, Жиль Банньер, Марк Йобст   \n",
       "12211         0.0      NaN  Алексей Щеглов, Анджей Петрас, Борис Грачевски...   \n",
       "\n",
       "                                                  actors  \\\n",
       "6425   Катерина Шпица, Антон Филипенко, Павел Ворожцо...   \n",
       "7734   Геза Морчани, Екатерина Крамаренко, Даниэла Ст...   \n",
       "11043  Кристина Хендрикс, Кристофер Хейердал, Оливер ...   \n",
       "12211  Александр Варакин, Александр Галчев, Александр...   \n",
       "\n",
       "                                             description  \\\n",
       "6425   Эта история случилась в провинциальном городке...   \n",
       "7734   Бывший военный врач Артур ведет тихую жизнь в ...   \n",
       "11043  «Стальная звезда» — кровавый британский трилле...   \n",
       "12211  Смотрите премьерные выпуски детского юмористич...   \n",
       "\n",
       "                                                keywords  \n",
       "6425                          2021, россия, день, города  \n",
       "7734                              2020, россия, пальмира  \n",
       "11043             Стальная, звезда, 2017, Великобритания  \n",
       "12211  Ералаш, 1974, СССР, друзья, жизнь, отцы, дети,...  "
      ]
     },
     "execution_count": 173,
     "metadata": {},
     "output_type": "execute_result"
    }
   ],
   "source": [
    "items.loc[items[\"item_id\"].isin(unique_recos)]"
   ]
  },
  {
   "cell_type": "markdown",
   "metadata": {},
   "source": [
    "## Avatars"
   ]
  },
  {
   "cell_type": "markdown",
   "metadata": {},
   "source": [
    "Генерируем искусственных пользователей.\n",
    "\n",
    "Необходимо:\n",
    "1. Создать искусственные взаимодействия и признаки этим пользователям;\n",
    "2. Заново собрать датасет, добавив данные этих пользователей в `interactions`, `users` -> `user_features`;\n",
    "3. Посмотреть предсказания модели и сделать выводы;\n",
    "\n",
    "Логично предположить, что человеку, который смотрит все жанры подряд, легче рекомендовать предметы и меньше шансов не угодить пользователю. Попробуем создать немного хардкорных персонажей, чтобы устроить протестировать нашу факторизационную машину в деле:\n",
    "\n",
    "* <font size='4'>взрослый работящий мужчина с зарплатой до 20к, который смотрит только мультики и при этом нет kid флага;</font>\n",
    "    * интересный кейс, с человеческой точки зрения вероятнее, что не поставили флажок, а сервисом пользуется чисто ребенок, интересно будет взглянуть на рекомендации модели\n",
    "* <font size='4'>молодой парень c ребенком (но без мультиков), зарабатывающий от 150к, в целом интересующийся научно-популярным, но имеющего пару айтемов других жанров </font>\n",
    "    * Хватаемся за специфичную, не выигрывающую по полулярности, категорию + посмотрим, предложат ли ему из-за флажка детский контент\n",
    "* <font size='4'>женщина средних лет без детей со средним достатком 40-60к, которая исключительно занимается спортом по фитнес-роликам.</font>\n",
    "    * Интересно посмотреть спектр рекомендаций для такого пользователя"
   ]
  },
  {
   "cell_type": "markdown",
   "metadata": {},
   "source": [
    "Вручную будем выбирать фильмы"
   ]
  },
  {
   "cell_type": "code",
   "execution_count": 174,
   "metadata": {
    "ExecuteTime": {
     "end_time": "2022-12-14T19:26:28.956394Z",
     "start_time": "2022-12-14T19:26:28.945730Z"
    }
   },
   "outputs": [],
   "source": [
    "def get_random_items(items):\n",
    "    offset = np.random.choice(items.item_id.unique(), size=10)\n",
    "    return items[\n",
    "        [\"item_id\", \"title\", \"genres\", \"release_year\", \"age_rating\", \"description\"]\n",
    "    ].loc[items.item_id.isin(offset)]"
   ]
  },
  {
   "cell_type": "code",
   "execution_count": 175,
   "metadata": {
    "ExecuteTime": {
     "end_time": "2022-12-14T19:26:29.457821Z",
     "start_time": "2022-12-14T19:26:29.421555Z"
    }
   },
   "outputs": [
    {
     "data": {
      "text/html": [
       "<div>\n",
       "<style scoped>\n",
       "    .dataframe tbody tr th:only-of-type {\n",
       "        vertical-align: middle;\n",
       "    }\n",
       "\n",
       "    .dataframe tbody tr th {\n",
       "        vertical-align: top;\n",
       "    }\n",
       "\n",
       "    .dataframe thead th {\n",
       "        text-align: right;\n",
       "    }\n",
       "</style>\n",
       "<table border=\"1\" class=\"dataframe\">\n",
       "  <thead>\n",
       "    <tr style=\"text-align: right;\">\n",
       "      <th></th>\n",
       "      <th>item_id</th>\n",
       "      <th>title</th>\n",
       "      <th>genres</th>\n",
       "      <th>release_year</th>\n",
       "      <th>age_rating</th>\n",
       "      <th>description</th>\n",
       "    </tr>\n",
       "  </thead>\n",
       "  <tbody>\n",
       "    <tr>\n",
       "      <th>537</th>\n",
       "      <td>5533</td>\n",
       "      <td>Титаник</td>\n",
       "      <td>драмы, историческое, триллеры, мелодрамы</td>\n",
       "      <td>1997.0</td>\n",
       "      <td>12.0</td>\n",
       "      <td>В первом и последнем плавании шикарного «Титан...</td>\n",
       "    </tr>\n",
       "    <tr>\n",
       "      <th>2083</th>\n",
       "      <td>6637</td>\n",
       "      <td>Чужая родня</td>\n",
       "      <td>драмы, советские, мелодрамы</td>\n",
       "      <td>1955.0</td>\n",
       "      <td>0.0</td>\n",
       "      <td>Николай Рыбников и Нонна Мордюкова в советской...</td>\n",
       "    </tr>\n",
       "    <tr>\n",
       "      <th>2685</th>\n",
       "      <td>11302</td>\n",
       "      <td>Все начинается с конца</td>\n",
       "      <td>зарубежные, мелодрамы</td>\n",
       "      <td>2010.0</td>\n",
       "      <td>16.0</td>\n",
       "      <td>Одинокий мужчина под сорок по имени Жан однажд...</td>\n",
       "    </tr>\n",
       "    <tr>\n",
       "      <th>3702</th>\n",
       "      <td>3653</td>\n",
       "      <td>Сплетница</td>\n",
       "      <td>драмы, мелодрамы</td>\n",
       "      <td>2021.0</td>\n",
       "      <td>18.0</td>\n",
       "      <td>Перезапуск культового сериала про жизнь подрос...</td>\n",
       "    </tr>\n",
       "    <tr>\n",
       "      <th>6460</th>\n",
       "      <td>580</td>\n",
       "      <td>Наездник</td>\n",
       "      <td>драмы, зарубежные, вестерн</td>\n",
       "      <td>2017.0</td>\n",
       "      <td>16.0</td>\n",
       "      <td>Красивая и неспешная драма режиссера Хлои Чжао...</td>\n",
       "    </tr>\n",
       "    <tr>\n",
       "      <th>7648</th>\n",
       "      <td>3980</td>\n",
       "      <td>Али, рули!</td>\n",
       "      <td>боевики, триллеры, криминал, комедии</td>\n",
       "      <td>2019.0</td>\n",
       "      <td>18.0</td>\n",
       "      <td>Скромный водитель Uber по имени Стю подбирает ...</td>\n",
       "    </tr>\n",
       "    <tr>\n",
       "      <th>9410</th>\n",
       "      <td>263</td>\n",
       "      <td>Matchroom. Джошуа Буатси vs Марко Калич</td>\n",
       "      <td>спорт</td>\n",
       "      <td>2020.0</td>\n",
       "      <td>16.0</td>\n",
       "      <td>Чемпионский бой, в котором 27-летний британец ...</td>\n",
       "    </tr>\n",
       "    <tr>\n",
       "      <th>9485</th>\n",
       "      <td>12253</td>\n",
       "      <td>Исключение</td>\n",
       "      <td>драмы, зарубежные</td>\n",
       "      <td>2017.0</td>\n",
       "      <td>16.0</td>\n",
       "      <td>Адвокат Тара работала в семейной фирме своего ...</td>\n",
       "    </tr>\n",
       "    <tr>\n",
       "      <th>12234</th>\n",
       "      <td>8512</td>\n",
       "      <td>Племя</td>\n",
       "      <td>зарубежные, триллеры, ужасы</td>\n",
       "      <td>2009.0</td>\n",
       "      <td>16.0</td>\n",
       "      <td>Вгоняющий в ступор фильм ужасов «Племя». В дал...</td>\n",
       "    </tr>\n",
       "    <tr>\n",
       "      <th>15416</th>\n",
       "      <td>7316</td>\n",
       "      <td>Хозяева ночи</td>\n",
       "      <td>криминал, детективы, драмы, зарубежные, триллеры</td>\n",
       "      <td>2007.0</td>\n",
       "      <td>16.0</td>\n",
       "      <td>«Хозяева ночи» – криминальный триллер, главная...</td>\n",
       "    </tr>\n",
       "  </tbody>\n",
       "</table>\n",
       "</div>"
      ],
      "text/plain": [
       "       item_id                                    title  \\\n",
       "537       5533                                  Титаник   \n",
       "2083      6637                              Чужая родня   \n",
       "2685     11302                   Все начинается с конца   \n",
       "3702      3653                                Сплетница   \n",
       "6460       580                                 Наездник   \n",
       "7648      3980                               Али, рули!   \n",
       "9410       263  Matchroom. Джошуа Буатси vs Марко Калич   \n",
       "9485     12253                               Исключение   \n",
       "12234     8512                                    Племя   \n",
       "15416     7316                             Хозяева ночи   \n",
       "\n",
       "                                                 genres  release_year  \\\n",
       "537            драмы, историческое, триллеры, мелодрамы        1997.0   \n",
       "2083                        драмы, советские, мелодрамы        1955.0   \n",
       "2685                              зарубежные, мелодрамы        2010.0   \n",
       "3702                                   драмы, мелодрамы        2021.0   \n",
       "6460                         драмы, зарубежные, вестерн        2017.0   \n",
       "7648               боевики, триллеры, криминал, комедии        2019.0   \n",
       "9410                                              спорт        2020.0   \n",
       "9485                                  драмы, зарубежные        2017.0   \n",
       "12234                       зарубежные, триллеры, ужасы        2009.0   \n",
       "15416  криминал, детективы, драмы, зарубежные, триллеры        2007.0   \n",
       "\n",
       "       age_rating                                        description  \n",
       "537          12.0  В первом и последнем плавании шикарного «Титан...  \n",
       "2083          0.0  Николай Рыбников и Нонна Мордюкова в советской...  \n",
       "2685         16.0  Одинокий мужчина под сорок по имени Жан однажд...  \n",
       "3702         18.0  Перезапуск культового сериала про жизнь подрос...  \n",
       "6460         16.0  Красивая и неспешная драма режиссера Хлои Чжао...  \n",
       "7648         18.0  Скромный водитель Uber по имени Стю подбирает ...  \n",
       "9410         16.0  Чемпионский бой, в котором 27-летний британец ...  \n",
       "9485         16.0  Адвокат Тара работала в семейной фирме своего ...  \n",
       "12234        16.0  Вгоняющий в ступор фильм ужасов «Племя». В дал...  \n",
       "15416        16.0  «Хозяева ночи» – криминальный триллер, главная...  "
      ]
     },
     "execution_count": 175,
     "metadata": {},
     "output_type": "execute_result"
    }
   ],
   "source": [
    "get_random_items(items)"
   ]
  },
  {
   "cell_type": "markdown",
   "metadata": {},
   "source": [
    "### Avatars Interactions Generation\n",
    "\n",
    "#### `item_id`'s & `user_id`'s"
   ]
  },
  {
   "cell_type": "code",
   "execution_count": 176,
   "metadata": {
    "ExecuteTime": {
     "end_time": "2022-12-14T19:26:30.384888Z",
     "start_time": "2022-12-14T19:26:30.379562Z"
    }
   },
   "outputs": [],
   "source": [
    "# Man: cartoons (4)\n",
    "user_1 = [8464, 11864, 2378, 6138]\n",
    "# Young man: popular science (3) + adults(1) + horror(1)\n",
    "user_2 = [6096, 11222, 7132, 2812, 14315]\n",
    "# Woman: fitness (4)\n",
    "user_3 = [2888, 8565, 15465, 14957]"
   ]
  },
  {
   "cell_type": "code",
   "execution_count": 177,
   "metadata": {
    "ExecuteTime": {
     "end_time": "2022-12-14T19:26:30.869761Z",
     "start_time": "2022-12-14T19:26:30.865529Z"
    }
   },
   "outputs": [],
   "source": [
    "data = {-6: user_1, -66: user_2, -666: user_3}"
   ]
  },
  {
   "cell_type": "code",
   "execution_count": 178,
   "metadata": {
    "ExecuteTime": {
     "end_time": "2022-12-14T19:26:31.221348Z",
     "start_time": "2022-12-14T19:26:31.214771Z"
    }
   },
   "outputs": [],
   "source": [
    "avatars_interactions = pd.DataFrame(\n",
    "    {Columns.User: list(data.keys()), Columns.Item: list(data.values())}\n",
    ")"
   ]
  },
  {
   "cell_type": "code",
   "execution_count": 179,
   "metadata": {
    "ExecuteTime": {
     "end_time": "2022-12-14T19:26:31.533403Z",
     "start_time": "2022-12-14T19:26:31.519774Z"
    }
   },
   "outputs": [
    {
     "data": {
      "text/html": [
       "<div>\n",
       "<style scoped>\n",
       "    .dataframe tbody tr th:only-of-type {\n",
       "        vertical-align: middle;\n",
       "    }\n",
       "\n",
       "    .dataframe tbody tr th {\n",
       "        vertical-align: top;\n",
       "    }\n",
       "\n",
       "    .dataframe thead th {\n",
       "        text-align: right;\n",
       "    }\n",
       "</style>\n",
       "<table border=\"1\" class=\"dataframe\">\n",
       "  <thead>\n",
       "    <tr style=\"text-align: right;\">\n",
       "      <th></th>\n",
       "      <th>user_id</th>\n",
       "      <th>item_id</th>\n",
       "    </tr>\n",
       "  </thead>\n",
       "  <tbody>\n",
       "    <tr>\n",
       "      <th>0</th>\n",
       "      <td>-6</td>\n",
       "      <td>[8464, 11864, 2378, 6138]</td>\n",
       "    </tr>\n",
       "    <tr>\n",
       "      <th>1</th>\n",
       "      <td>-66</td>\n",
       "      <td>[6096, 11222, 7132, 2812, 14315]</td>\n",
       "    </tr>\n",
       "    <tr>\n",
       "      <th>2</th>\n",
       "      <td>-666</td>\n",
       "      <td>[2888, 8565, 15465, 14957]</td>\n",
       "    </tr>\n",
       "  </tbody>\n",
       "</table>\n",
       "</div>"
      ],
      "text/plain": [
       "   user_id                           item_id\n",
       "0       -6         [8464, 11864, 2378, 6138]\n",
       "1      -66  [6096, 11222, 7132, 2812, 14315]\n",
       "2     -666        [2888, 8565, 15465, 14957]"
      ]
     },
     "execution_count": 179,
     "metadata": {},
     "output_type": "execute_result"
    }
   ],
   "source": [
    "avatars_interactions"
   ]
  },
  {
   "cell_type": "code",
   "execution_count": 180,
   "metadata": {
    "ExecuteTime": {
     "end_time": "2022-12-14T19:26:31.905870Z",
     "start_time": "2022-12-14T19:26:31.875703Z"
    }
   },
   "outputs": [
    {
     "data": {
      "text/html": [
       "<div>\n",
       "<style scoped>\n",
       "    .dataframe tbody tr th:only-of-type {\n",
       "        vertical-align: middle;\n",
       "    }\n",
       "\n",
       "    .dataframe tbody tr th {\n",
       "        vertical-align: top;\n",
       "    }\n",
       "\n",
       "    .dataframe thead th {\n",
       "        text-align: right;\n",
       "    }\n",
       "</style>\n",
       "<table border=\"1\" class=\"dataframe\">\n",
       "  <thead>\n",
       "    <tr style=\"text-align: right;\">\n",
       "      <th></th>\n",
       "      <th>user_id</th>\n",
       "      <th>item_id</th>\n",
       "    </tr>\n",
       "  </thead>\n",
       "  <tbody>\n",
       "    <tr>\n",
       "      <th>0</th>\n",
       "      <td>-6</td>\n",
       "      <td>8464</td>\n",
       "    </tr>\n",
       "    <tr>\n",
       "      <th>0</th>\n",
       "      <td>-6</td>\n",
       "      <td>11864</td>\n",
       "    </tr>\n",
       "    <tr>\n",
       "      <th>0</th>\n",
       "      <td>-6</td>\n",
       "      <td>2378</td>\n",
       "    </tr>\n",
       "    <tr>\n",
       "      <th>0</th>\n",
       "      <td>-6</td>\n",
       "      <td>6138</td>\n",
       "    </tr>\n",
       "    <tr>\n",
       "      <th>1</th>\n",
       "      <td>-66</td>\n",
       "      <td>6096</td>\n",
       "    </tr>\n",
       "    <tr>\n",
       "      <th>1</th>\n",
       "      <td>-66</td>\n",
       "      <td>11222</td>\n",
       "    </tr>\n",
       "    <tr>\n",
       "      <th>1</th>\n",
       "      <td>-66</td>\n",
       "      <td>7132</td>\n",
       "    </tr>\n",
       "    <tr>\n",
       "      <th>1</th>\n",
       "      <td>-66</td>\n",
       "      <td>2812</td>\n",
       "    </tr>\n",
       "    <tr>\n",
       "      <th>1</th>\n",
       "      <td>-66</td>\n",
       "      <td>14315</td>\n",
       "    </tr>\n",
       "    <tr>\n",
       "      <th>2</th>\n",
       "      <td>-666</td>\n",
       "      <td>2888</td>\n",
       "    </tr>\n",
       "    <tr>\n",
       "      <th>2</th>\n",
       "      <td>-666</td>\n",
       "      <td>8565</td>\n",
       "    </tr>\n",
       "    <tr>\n",
       "      <th>2</th>\n",
       "      <td>-666</td>\n",
       "      <td>15465</td>\n",
       "    </tr>\n",
       "    <tr>\n",
       "      <th>2</th>\n",
       "      <td>-666</td>\n",
       "      <td>14957</td>\n",
       "    </tr>\n",
       "  </tbody>\n",
       "</table>\n",
       "</div>"
      ],
      "text/plain": [
       "   user_id item_id\n",
       "0       -6    8464\n",
       "0       -6   11864\n",
       "0       -6    2378\n",
       "0       -6    6138\n",
       "1      -66    6096\n",
       "1      -66   11222\n",
       "1      -66    7132\n",
       "1      -66    2812\n",
       "1      -66   14315\n",
       "2     -666    2888\n",
       "2     -666    8565\n",
       "2     -666   15465\n",
       "2     -666   14957"
      ]
     },
     "execution_count": 180,
     "metadata": {},
     "output_type": "execute_result"
    }
   ],
   "source": [
    "avatars_interactions = avatars_interactions.explode(Columns.Item)\n",
    "avatars_interactions"
   ]
  },
  {
   "cell_type": "markdown",
   "metadata": {},
   "source": [
    "#### Columns.Datetime\n",
    "\n",
    "Даты просмотров и длительность просмотра (неважные параметры) засемплируем"
   ]
  },
  {
   "cell_type": "code",
   "execution_count": 181,
   "metadata": {
    "ExecuteTime": {
     "end_time": "2022-12-14T19:26:32.922111Z",
     "start_time": "2022-12-14T19:26:32.913551Z"
    }
   },
   "outputs": [],
   "source": [
    "avatars_interactions[Columns.Datetime] = np.random.choice(\n",
    "    interactions[Columns.Datetime], len(avatars_interactions)\n",
    ")\n",
    "avatars_interactions[\"total_dur\"] = np.random.choice(\n",
    "    interactions[\"total_dur\"], len(avatars_interactions)\n",
    ")"
   ]
  },
  {
   "cell_type": "code",
   "execution_count": 182,
   "metadata": {
    "ExecuteTime": {
     "end_time": "2022-12-14T19:26:33.278028Z",
     "start_time": "2022-12-14T19:26:33.263930Z"
    }
   },
   "outputs": [
    {
     "data": {
      "text/html": [
       "<div>\n",
       "<style scoped>\n",
       "    .dataframe tbody tr th:only-of-type {\n",
       "        vertical-align: middle;\n",
       "    }\n",
       "\n",
       "    .dataframe tbody tr th {\n",
       "        vertical-align: top;\n",
       "    }\n",
       "\n",
       "    .dataframe thead th {\n",
       "        text-align: right;\n",
       "    }\n",
       "</style>\n",
       "<table border=\"1\" class=\"dataframe\">\n",
       "  <thead>\n",
       "    <tr style=\"text-align: right;\">\n",
       "      <th></th>\n",
       "      <th>user_id</th>\n",
       "      <th>item_id</th>\n",
       "      <th>last_watch_dt</th>\n",
       "      <th>total_dur</th>\n",
       "    </tr>\n",
       "  </thead>\n",
       "  <tbody>\n",
       "    <tr>\n",
       "      <th>0</th>\n",
       "      <td>-6</td>\n",
       "      <td>8464</td>\n",
       "      <td>2021-07-20</td>\n",
       "      <td>4641</td>\n",
       "    </tr>\n",
       "    <tr>\n",
       "      <th>0</th>\n",
       "      <td>-6</td>\n",
       "      <td>11864</td>\n",
       "      <td>2021-06-04</td>\n",
       "      <td>558</td>\n",
       "    </tr>\n",
       "    <tr>\n",
       "      <th>0</th>\n",
       "      <td>-6</td>\n",
       "      <td>2378</td>\n",
       "      <td>2021-03-21</td>\n",
       "      <td>18074</td>\n",
       "    </tr>\n",
       "    <tr>\n",
       "      <th>0</th>\n",
       "      <td>-6</td>\n",
       "      <td>6138</td>\n",
       "      <td>2021-08-22</td>\n",
       "      <td>8665</td>\n",
       "    </tr>\n",
       "    <tr>\n",
       "      <th>1</th>\n",
       "      <td>-66</td>\n",
       "      <td>6096</td>\n",
       "      <td>2021-08-22</td>\n",
       "      <td>3015</td>\n",
       "    </tr>\n",
       "    <tr>\n",
       "      <th>1</th>\n",
       "      <td>-66</td>\n",
       "      <td>11222</td>\n",
       "      <td>2021-08-16</td>\n",
       "      <td>101</td>\n",
       "    </tr>\n",
       "    <tr>\n",
       "      <th>1</th>\n",
       "      <td>-66</td>\n",
       "      <td>7132</td>\n",
       "      <td>2021-05-10</td>\n",
       "      <td>1235</td>\n",
       "    </tr>\n",
       "    <tr>\n",
       "      <th>1</th>\n",
       "      <td>-66</td>\n",
       "      <td>2812</td>\n",
       "      <td>2021-05-18</td>\n",
       "      <td>31</td>\n",
       "    </tr>\n",
       "    <tr>\n",
       "      <th>1</th>\n",
       "      <td>-66</td>\n",
       "      <td>14315</td>\n",
       "      <td>2021-05-11</td>\n",
       "      <td>7508</td>\n",
       "    </tr>\n",
       "    <tr>\n",
       "      <th>2</th>\n",
       "      <td>-666</td>\n",
       "      <td>2888</td>\n",
       "      <td>2021-07-18</td>\n",
       "      <td>11796</td>\n",
       "    </tr>\n",
       "    <tr>\n",
       "      <th>2</th>\n",
       "      <td>-666</td>\n",
       "      <td>8565</td>\n",
       "      <td>2021-04-13</td>\n",
       "      <td>103</td>\n",
       "    </tr>\n",
       "    <tr>\n",
       "      <th>2</th>\n",
       "      <td>-666</td>\n",
       "      <td>15465</td>\n",
       "      <td>2021-05-19</td>\n",
       "      <td>3297</td>\n",
       "    </tr>\n",
       "    <tr>\n",
       "      <th>2</th>\n",
       "      <td>-666</td>\n",
       "      <td>14957</td>\n",
       "      <td>2021-05-18</td>\n",
       "      <td>9572</td>\n",
       "    </tr>\n",
       "  </tbody>\n",
       "</table>\n",
       "</div>"
      ],
      "text/plain": [
       "   user_id item_id last_watch_dt  total_dur\n",
       "0       -6    8464    2021-07-20       4641\n",
       "0       -6   11864    2021-06-04        558\n",
       "0       -6    2378    2021-03-21      18074\n",
       "0       -6    6138    2021-08-22       8665\n",
       "1      -66    6096    2021-08-22       3015\n",
       "1      -66   11222    2021-08-16        101\n",
       "1      -66    7132    2021-05-10       1235\n",
       "1      -66    2812    2021-05-18         31\n",
       "1      -66   14315    2021-05-11       7508\n",
       "2     -666    2888    2021-07-18      11796\n",
       "2     -666    8565    2021-04-13        103\n",
       "2     -666   15465    2021-05-19       3297\n",
       "2     -666   14957    2021-05-18       9572"
      ]
     },
     "execution_count": 182,
     "metadata": {},
     "output_type": "execute_result"
    }
   ],
   "source": [
    "avatars_interactions"
   ]
  },
  {
   "cell_type": "markdown",
   "metadata": {},
   "source": [
    "#### Columns.Weight\n",
    "\n",
    "Ценность имеет `Columns.Weight`. Мы вручную оценим веса, чтобы задать поведение пользователя. При этом можно учесть частотную оценку вероятности, чтобы картина распределения доли просмотренного сохранялась +- такой же среди пользователей"
   ]
  },
  {
   "cell_type": "code",
   "execution_count": 183,
   "metadata": {
    "ExecuteTime": {
     "end_time": "2022-12-14T19:26:34.571762Z",
     "start_time": "2022-12-14T19:26:34.123162Z"
    }
   },
   "outputs": [
    {
     "data": {
      "image/png": "[encoded data removed]",
      "text/plain": [
       "<Figure size 640x480 with 1 Axes>"
      ]
     },
     "metadata": {},
     "output_type": "display_data"
    }
   ],
   "source": [
    "(n, bins, patches) = plt.hist(interactions[\"watched_pct\"], bins=10)"
   ]
  },
  {
   "cell_type": "markdown",
   "metadata": {},
   "source": [
    "Пользователям обычно либо нравится и они смотрят до конца, либо не нравятся и сразу дропают"
   ]
  },
  {
   "cell_type": "code",
   "execution_count": 184,
   "metadata": {
    "ExecuteTime": {
     "end_time": "2022-12-14T19:26:35.029879Z",
     "start_time": "2022-12-14T19:26:35.013990Z"
    }
   },
   "outputs": [],
   "source": [
    "# Man: cartoons (4)\n",
    "user_1_w = [78.0, 9.0, 99.0, 38.0]\n",
    "# Young man: popular science (3) + adults(1) + horror(1)\n",
    "user_2_w = [1.0, 9.0, 46.0, 89.0, 3.0]\n",
    "# Woman: fitness (4)\n",
    "user_3_w = [96.0, 23.0, 85.0, 67.0]"
   ]
  },
  {
   "cell_type": "code",
   "execution_count": 185,
   "metadata": {
    "ExecuteTime": {
     "end_time": "2022-12-14T19:26:35.418568Z",
     "start_time": "2022-12-14T19:26:35.413775Z"
    }
   },
   "outputs": [],
   "source": [
    "avatars_interactions[\"watched_pct\"] = user_1_w + user_2_w + user_3_w"
   ]
  },
  {
   "cell_type": "code",
   "execution_count": 186,
   "metadata": {
    "ExecuteTime": {
     "end_time": "2022-12-14T19:26:35.784067Z",
     "start_time": "2022-12-14T19:26:35.770379Z"
    }
   },
   "outputs": [
    {
     "data": {
      "text/html": [
       "<div>\n",
       "<style scoped>\n",
       "    .dataframe tbody tr th:only-of-type {\n",
       "        vertical-align: middle;\n",
       "    }\n",
       "\n",
       "    .dataframe tbody tr th {\n",
       "        vertical-align: top;\n",
       "    }\n",
       "\n",
       "    .dataframe thead th {\n",
       "        text-align: right;\n",
       "    }\n",
       "</style>\n",
       "<table border=\"1\" class=\"dataframe\">\n",
       "  <thead>\n",
       "    <tr style=\"text-align: right;\">\n",
       "      <th></th>\n",
       "      <th>index</th>\n",
       "      <th>user_id</th>\n",
       "      <th>item_id</th>\n",
       "      <th>last_watch_dt</th>\n",
       "      <th>total_dur</th>\n",
       "      <th>watched_pct</th>\n",
       "    </tr>\n",
       "  </thead>\n",
       "  <tbody>\n",
       "    <tr>\n",
       "      <th>0</th>\n",
       "      <td>0</td>\n",
       "      <td>-6</td>\n",
       "      <td>8464</td>\n",
       "      <td>2021-07-20</td>\n",
       "      <td>4641</td>\n",
       "      <td>78.0</td>\n",
       "    </tr>\n",
       "    <tr>\n",
       "      <th>1</th>\n",
       "      <td>0</td>\n",
       "      <td>-6</td>\n",
       "      <td>11864</td>\n",
       "      <td>2021-06-04</td>\n",
       "      <td>558</td>\n",
       "      <td>9.0</td>\n",
       "    </tr>\n",
       "    <tr>\n",
       "      <th>2</th>\n",
       "      <td>0</td>\n",
       "      <td>-6</td>\n",
       "      <td>2378</td>\n",
       "      <td>2021-03-21</td>\n",
       "      <td>18074</td>\n",
       "      <td>99.0</td>\n",
       "    </tr>\n",
       "    <tr>\n",
       "      <th>3</th>\n",
       "      <td>0</td>\n",
       "      <td>-6</td>\n",
       "      <td>6138</td>\n",
       "      <td>2021-08-22</td>\n",
       "      <td>8665</td>\n",
       "      <td>38.0</td>\n",
       "    </tr>\n",
       "    <tr>\n",
       "      <th>4</th>\n",
       "      <td>1</td>\n",
       "      <td>-66</td>\n",
       "      <td>6096</td>\n",
       "      <td>2021-08-22</td>\n",
       "      <td>3015</td>\n",
       "      <td>1.0</td>\n",
       "    </tr>\n",
       "    <tr>\n",
       "      <th>5</th>\n",
       "      <td>1</td>\n",
       "      <td>-66</td>\n",
       "      <td>11222</td>\n",
       "      <td>2021-08-16</td>\n",
       "      <td>101</td>\n",
       "      <td>9.0</td>\n",
       "    </tr>\n",
       "    <tr>\n",
       "      <th>6</th>\n",
       "      <td>1</td>\n",
       "      <td>-66</td>\n",
       "      <td>7132</td>\n",
       "      <td>2021-05-10</td>\n",
       "      <td>1235</td>\n",
       "      <td>46.0</td>\n",
       "    </tr>\n",
       "    <tr>\n",
       "      <th>7</th>\n",
       "      <td>1</td>\n",
       "      <td>-66</td>\n",
       "      <td>2812</td>\n",
       "      <td>2021-05-18</td>\n",
       "      <td>31</td>\n",
       "      <td>89.0</td>\n",
       "    </tr>\n",
       "    <tr>\n",
       "      <th>8</th>\n",
       "      <td>1</td>\n",
       "      <td>-66</td>\n",
       "      <td>14315</td>\n",
       "      <td>2021-05-11</td>\n",
       "      <td>7508</td>\n",
       "      <td>3.0</td>\n",
       "    </tr>\n",
       "    <tr>\n",
       "      <th>9</th>\n",
       "      <td>2</td>\n",
       "      <td>-666</td>\n",
       "      <td>2888</td>\n",
       "      <td>2021-07-18</td>\n",
       "      <td>11796</td>\n",
       "      <td>96.0</td>\n",
       "    </tr>\n",
       "    <tr>\n",
       "      <th>10</th>\n",
       "      <td>2</td>\n",
       "      <td>-666</td>\n",
       "      <td>8565</td>\n",
       "      <td>2021-04-13</td>\n",
       "      <td>103</td>\n",
       "      <td>23.0</td>\n",
       "    </tr>\n",
       "    <tr>\n",
       "      <th>11</th>\n",
       "      <td>2</td>\n",
       "      <td>-666</td>\n",
       "      <td>15465</td>\n",
       "      <td>2021-05-19</td>\n",
       "      <td>3297</td>\n",
       "      <td>85.0</td>\n",
       "    </tr>\n",
       "    <tr>\n",
       "      <th>12</th>\n",
       "      <td>2</td>\n",
       "      <td>-666</td>\n",
       "      <td>14957</td>\n",
       "      <td>2021-05-18</td>\n",
       "      <td>9572</td>\n",
       "      <td>67.0</td>\n",
       "    </tr>\n",
       "  </tbody>\n",
       "</table>\n",
       "</div>"
      ],
      "text/plain": [
       "    index  user_id item_id last_watch_dt  total_dur  watched_pct\n",
       "0       0       -6    8464    2021-07-20       4641         78.0\n",
       "1       0       -6   11864    2021-06-04        558          9.0\n",
       "2       0       -6    2378    2021-03-21      18074         99.0\n",
       "3       0       -6    6138    2021-08-22       8665         38.0\n",
       "4       1      -66    6096    2021-08-22       3015          1.0\n",
       "5       1      -66   11222    2021-08-16        101          9.0\n",
       "6       1      -66    7132    2021-05-10       1235         46.0\n",
       "7       1      -66    2812    2021-05-18         31         89.0\n",
       "8       1      -66   14315    2021-05-11       7508          3.0\n",
       "9       2     -666    2888    2021-07-18      11796         96.0\n",
       "10      2     -666    8565    2021-04-13        103         23.0\n",
       "11      2     -666   15465    2021-05-19       3297         85.0\n",
       "12      2     -666   14957    2021-05-18       9572         67.0"
      ]
     },
     "execution_count": 186,
     "metadata": {},
     "output_type": "execute_result"
    }
   ],
   "source": [
    "avatars_interactions.reset_index()"
   ]
  },
  {
   "cell_type": "code",
   "execution_count": 187,
   "metadata": {
    "ExecuteTime": {
     "end_time": "2022-12-14T19:26:36.108703Z",
     "start_time": "2022-12-14T19:26:36.098357Z"
    }
   },
   "outputs": [],
   "source": [
    "def convert_to_weight(col):\n",
    "    if col < 10:\n",
    "        return 1\n",
    "    elif col < 30:\n",
    "        return 2\n",
    "    elif col < 60:\n",
    "        return 3\n",
    "    elif col < 85:\n",
    "        return 4\n",
    "    return 5"
   ]
  },
  {
   "cell_type": "code",
   "execution_count": 188,
   "metadata": {
    "ExecuteTime": {
     "end_time": "2022-12-14T19:26:36.482088Z",
     "start_time": "2022-12-14T19:26:36.476245Z"
    }
   },
   "outputs": [],
   "source": [
    "avatars_interactions[Columns.Weight] = avatars_interactions[\"watched_pct\"].apply(\n",
    "    lambda x: convert_to_weight(x)\n",
    ")"
   ]
  },
  {
   "cell_type": "code",
   "execution_count": 193,
   "metadata": {
    "ExecuteTime": {
     "end_time": "2022-12-14T19:28:05.840266Z",
     "start_time": "2022-12-14T19:28:05.823224Z"
    }
   },
   "outputs": [
    {
     "data": {
      "text/html": [
       "<div>\n",
       "<style scoped>\n",
       "    .dataframe tbody tr th:only-of-type {\n",
       "        vertical-align: middle;\n",
       "    }\n",
       "\n",
       "    .dataframe tbody tr th {\n",
       "        vertical-align: top;\n",
       "    }\n",
       "\n",
       "    .dataframe thead th {\n",
       "        text-align: right;\n",
       "    }\n",
       "</style>\n",
       "<table border=\"1\" class=\"dataframe\">\n",
       "  <thead>\n",
       "    <tr style=\"text-align: right;\">\n",
       "      <th></th>\n",
       "      <th>user_id</th>\n",
       "      <th>item_id</th>\n",
       "      <th>last_watch_dt</th>\n",
       "      <th>total_dur</th>\n",
       "      <th>watched_pct</th>\n",
       "      <th>weight</th>\n",
       "    </tr>\n",
       "  </thead>\n",
       "  <tbody>\n",
       "    <tr>\n",
       "      <th>0</th>\n",
       "      <td>-6</td>\n",
       "      <td>8464</td>\n",
       "      <td>2021-07-20</td>\n",
       "      <td>4641</td>\n",
       "      <td>78.0</td>\n",
       "      <td>4</td>\n",
       "    </tr>\n",
       "    <tr>\n",
       "      <th>0</th>\n",
       "      <td>-6</td>\n",
       "      <td>11864</td>\n",
       "      <td>2021-06-04</td>\n",
       "      <td>558</td>\n",
       "      <td>9.0</td>\n",
       "      <td>1</td>\n",
       "    </tr>\n",
       "    <tr>\n",
       "      <th>0</th>\n",
       "      <td>-6</td>\n",
       "      <td>2378</td>\n",
       "      <td>2021-03-21</td>\n",
       "      <td>18074</td>\n",
       "      <td>99.0</td>\n",
       "      <td>5</td>\n",
       "    </tr>\n",
       "    <tr>\n",
       "      <th>0</th>\n",
       "      <td>-6</td>\n",
       "      <td>6138</td>\n",
       "      <td>2021-08-22</td>\n",
       "      <td>8665</td>\n",
       "      <td>38.0</td>\n",
       "      <td>3</td>\n",
       "    </tr>\n",
       "    <tr>\n",
       "      <th>1</th>\n",
       "      <td>-66</td>\n",
       "      <td>6096</td>\n",
       "      <td>2021-08-22</td>\n",
       "      <td>3015</td>\n",
       "      <td>1.0</td>\n",
       "      <td>1</td>\n",
       "    </tr>\n",
       "    <tr>\n",
       "      <th>1</th>\n",
       "      <td>-66</td>\n",
       "      <td>11222</td>\n",
       "      <td>2021-08-16</td>\n",
       "      <td>101</td>\n",
       "      <td>9.0</td>\n",
       "      <td>1</td>\n",
       "    </tr>\n",
       "    <tr>\n",
       "      <th>1</th>\n",
       "      <td>-66</td>\n",
       "      <td>7132</td>\n",
       "      <td>2021-05-10</td>\n",
       "      <td>1235</td>\n",
       "      <td>46.0</td>\n",
       "      <td>3</td>\n",
       "    </tr>\n",
       "    <tr>\n",
       "      <th>1</th>\n",
       "      <td>-66</td>\n",
       "      <td>2812</td>\n",
       "      <td>2021-05-18</td>\n",
       "      <td>31</td>\n",
       "      <td>89.0</td>\n",
       "      <td>5</td>\n",
       "    </tr>\n",
       "    <tr>\n",
       "      <th>1</th>\n",
       "      <td>-66</td>\n",
       "      <td>14315</td>\n",
       "      <td>2021-05-11</td>\n",
       "      <td>7508</td>\n",
       "      <td>3.0</td>\n",
       "      <td>1</td>\n",
       "    </tr>\n",
       "    <tr>\n",
       "      <th>2</th>\n",
       "      <td>-666</td>\n",
       "      <td>2888</td>\n",
       "      <td>2021-07-18</td>\n",
       "      <td>11796</td>\n",
       "      <td>96.0</td>\n",
       "      <td>5</td>\n",
       "    </tr>\n",
       "    <tr>\n",
       "      <th>2</th>\n",
       "      <td>-666</td>\n",
       "      <td>8565</td>\n",
       "      <td>2021-04-13</td>\n",
       "      <td>103</td>\n",
       "      <td>23.0</td>\n",
       "      <td>2</td>\n",
       "    </tr>\n",
       "    <tr>\n",
       "      <th>2</th>\n",
       "      <td>-666</td>\n",
       "      <td>15465</td>\n",
       "      <td>2021-05-19</td>\n",
       "      <td>3297</td>\n",
       "      <td>85.0</td>\n",
       "      <td>5</td>\n",
       "    </tr>\n",
       "    <tr>\n",
       "      <th>2</th>\n",
       "      <td>-666</td>\n",
       "      <td>14957</td>\n",
       "      <td>2021-05-18</td>\n",
       "      <td>9572</td>\n",
       "      <td>67.0</td>\n",
       "      <td>4</td>\n",
       "    </tr>\n",
       "  </tbody>\n",
       "</table>\n",
       "</div>"
      ],
      "text/plain": [
       "   user_id item_id last_watch_dt  total_dur  watched_pct  weight\n",
       "0       -6    8464    2021-07-20       4641         78.0       4\n",
       "0       -6   11864    2021-06-04        558          9.0       1\n",
       "0       -6    2378    2021-03-21      18074         99.0       5\n",
       "0       -6    6138    2021-08-22       8665         38.0       3\n",
       "1      -66    6096    2021-08-22       3015          1.0       1\n",
       "1      -66   11222    2021-08-16        101          9.0       1\n",
       "1      -66    7132    2021-05-10       1235         46.0       3\n",
       "1      -66    2812    2021-05-18         31         89.0       5\n",
       "1      -66   14315    2021-05-11       7508          3.0       1\n",
       "2     -666    2888    2021-07-18      11796         96.0       5\n",
       "2     -666    8565    2021-04-13        103         23.0       2\n",
       "2     -666   15465    2021-05-19       3297         85.0       5\n",
       "2     -666   14957    2021-05-18       9572         67.0       4"
      ]
     },
     "execution_count": 193,
     "metadata": {},
     "output_type": "execute_result"
    }
   ],
   "source": [
    "avatars_interactions"
   ]
  },
  {
   "cell_type": "markdown",
   "metadata": {},
   "source": [
    "Датасет взаимодействий `Interactions` для аватаров готов "
   ]
  },
  {
   "cell_type": "markdown",
   "metadata": {},
   "source": [
    "### Avatars Users Feature Generation"
   ]
  },
  {
   "cell_type": "code",
   "execution_count": 194,
   "metadata": {
    "ExecuteTime": {
     "end_time": "2022-12-14T19:28:07.956439Z",
     "start_time": "2022-12-14T19:28:07.936654Z"
    }
   },
   "outputs": [
    {
     "data": {
      "text/html": [
       "<div>\n",
       "<style scoped>\n",
       "    .dataframe tbody tr th:only-of-type {\n",
       "        vertical-align: middle;\n",
       "    }\n",
       "\n",
       "    .dataframe tbody tr th {\n",
       "        vertical-align: top;\n",
       "    }\n",
       "\n",
       "    .dataframe thead th {\n",
       "        text-align: right;\n",
       "    }\n",
       "</style>\n",
       "<table border=\"1\" class=\"dataframe\">\n",
       "  <thead>\n",
       "    <tr style=\"text-align: right;\">\n",
       "      <th></th>\n",
       "      <th>user_id</th>\n",
       "      <th>age</th>\n",
       "      <th>income</th>\n",
       "      <th>sex</th>\n",
       "      <th>kids_flg</th>\n",
       "    </tr>\n",
       "  </thead>\n",
       "  <tbody>\n",
       "    <tr>\n",
       "      <th>0</th>\n",
       "      <td>973171</td>\n",
       "      <td>age_25_34</td>\n",
       "      <td>income_60_90</td>\n",
       "      <td>М</td>\n",
       "      <td>1</td>\n",
       "    </tr>\n",
       "    <tr>\n",
       "      <th>1</th>\n",
       "      <td>962099</td>\n",
       "      <td>age_18_24</td>\n",
       "      <td>income_20_40</td>\n",
       "      <td>М</td>\n",
       "      <td>0</td>\n",
       "    </tr>\n",
       "    <tr>\n",
       "      <th>2</th>\n",
       "      <td>1047345</td>\n",
       "      <td>age_45_54</td>\n",
       "      <td>income_40_60</td>\n",
       "      <td>Ж</td>\n",
       "      <td>0</td>\n",
       "    </tr>\n",
       "    <tr>\n",
       "      <th>3</th>\n",
       "      <td>721985</td>\n",
       "      <td>age_45_54</td>\n",
       "      <td>income_20_40</td>\n",
       "      <td>Ж</td>\n",
       "      <td>0</td>\n",
       "    </tr>\n",
       "    <tr>\n",
       "      <th>4</th>\n",
       "      <td>704055</td>\n",
       "      <td>age_35_44</td>\n",
       "      <td>income_60_90</td>\n",
       "      <td>Ж</td>\n",
       "      <td>0</td>\n",
       "    </tr>\n",
       "    <tr>\n",
       "      <th>840192</th>\n",
       "      <td>339025</td>\n",
       "      <td>age_65_inf</td>\n",
       "      <td>income_0_20</td>\n",
       "      <td>Ж</td>\n",
       "      <td>0</td>\n",
       "    </tr>\n",
       "    <tr>\n",
       "      <th>840193</th>\n",
       "      <td>983617</td>\n",
       "      <td>age_18_24</td>\n",
       "      <td>income_20_40</td>\n",
       "      <td>Ж</td>\n",
       "      <td>1</td>\n",
       "    </tr>\n",
       "    <tr>\n",
       "      <th>840194</th>\n",
       "      <td>251008</td>\n",
       "      <td>Unknown</td>\n",
       "      <td>Unknown</td>\n",
       "      <td>Unknown</td>\n",
       "      <td>0</td>\n",
       "    </tr>\n",
       "    <tr>\n",
       "      <th>840195</th>\n",
       "      <td>590706</td>\n",
       "      <td>Unknown</td>\n",
       "      <td>Unknown</td>\n",
       "      <td>Ж</td>\n",
       "      <td>0</td>\n",
       "    </tr>\n",
       "    <tr>\n",
       "      <th>840196</th>\n",
       "      <td>166555</td>\n",
       "      <td>age_65_inf</td>\n",
       "      <td>income_20_40</td>\n",
       "      <td>Ж</td>\n",
       "      <td>0</td>\n",
       "    </tr>\n",
       "  </tbody>\n",
       "</table>\n",
       "</div>"
      ],
      "text/plain": [
       "        user_id         age        income      sex  kids_flg\n",
       "0        973171   age_25_34  income_60_90        М         1\n",
       "1        962099   age_18_24  income_20_40        М         0\n",
       "2       1047345   age_45_54  income_40_60        Ж         0\n",
       "3        721985   age_45_54  income_20_40        Ж         0\n",
       "4        704055   age_35_44  income_60_90        Ж         0\n",
       "840192   339025  age_65_inf   income_0_20        Ж         0\n",
       "840193   983617   age_18_24  income_20_40        Ж         1\n",
       "840194   251008     Unknown       Unknown  Unknown         0\n",
       "840195   590706     Unknown       Unknown        Ж         0\n",
       "840196   166555  age_65_inf  income_20_40        Ж         0"
      ]
     },
     "execution_count": 194,
     "metadata": {},
     "output_type": "execute_result"
    }
   ],
   "source": [
    "headtail(users)"
   ]
  },
  {
   "cell_type": "markdown",
   "metadata": {},
   "source": [
    "Создаем `users` датасет наших аватаров, исходя из описания"
   ]
  },
  {
   "cell_type": "code",
   "execution_count": 195,
   "metadata": {
    "ExecuteTime": {
     "end_time": "2022-12-14T19:28:11.283970Z",
     "start_time": "2022-12-14T19:28:11.278481Z"
    }
   },
   "outputs": [],
   "source": [
    "avatars_users = pd.DataFrame(\n",
    "    data={\n",
    "        \"user_id\": [-6, -66, -666],\n",
    "        \"age\": [\"age_55_64\", \"age_18_24\", \"age_35_44\"],\n",
    "        \"income\": [\"income_0_20\", \"income_150_inf\", \"income_40_60\"],\n",
    "        \"sex\": [\"М\", \"М\", \"Ж\"],\n",
    "        \"kids_flg\": [0, 1, 0],\n",
    "    }\n",
    ")"
   ]
  },
  {
   "cell_type": "code",
   "execution_count": 196,
   "metadata": {
    "ExecuteTime": {
     "end_time": "2022-12-14T19:28:11.937697Z",
     "start_time": "2022-12-14T19:28:11.924696Z"
    }
   },
   "outputs": [
    {
     "data": {
      "text/html": [
       "<div>\n",
       "<style scoped>\n",
       "    .dataframe tbody tr th:only-of-type {\n",
       "        vertical-align: middle;\n",
       "    }\n",
       "\n",
       "    .dataframe tbody tr th {\n",
       "        vertical-align: top;\n",
       "    }\n",
       "\n",
       "    .dataframe thead th {\n",
       "        text-align: right;\n",
       "    }\n",
       "</style>\n",
       "<table border=\"1\" class=\"dataframe\">\n",
       "  <thead>\n",
       "    <tr style=\"text-align: right;\">\n",
       "      <th></th>\n",
       "      <th>user_id</th>\n",
       "      <th>age</th>\n",
       "      <th>income</th>\n",
       "      <th>sex</th>\n",
       "      <th>kids_flg</th>\n",
       "    </tr>\n",
       "  </thead>\n",
       "  <tbody>\n",
       "    <tr>\n",
       "      <th>0</th>\n",
       "      <td>-6</td>\n",
       "      <td>age_55_64</td>\n",
       "      <td>income_0_20</td>\n",
       "      <td>М</td>\n",
       "      <td>0</td>\n",
       "    </tr>\n",
       "    <tr>\n",
       "      <th>1</th>\n",
       "      <td>-66</td>\n",
       "      <td>age_18_24</td>\n",
       "      <td>income_150_inf</td>\n",
       "      <td>М</td>\n",
       "      <td>1</td>\n",
       "    </tr>\n",
       "    <tr>\n",
       "      <th>2</th>\n",
       "      <td>-666</td>\n",
       "      <td>age_35_44</td>\n",
       "      <td>income_40_60</td>\n",
       "      <td>Ж</td>\n",
       "      <td>0</td>\n",
       "    </tr>\n",
       "  </tbody>\n",
       "</table>\n",
       "</div>"
      ],
      "text/plain": [
       "   user_id        age          income sex  kids_flg\n",
       "0       -6  age_55_64     income_0_20   М         0\n",
       "1      -66  age_18_24  income_150_inf   М         1\n",
       "2     -666  age_35_44    income_40_60   Ж         0"
      ]
     },
     "execution_count": 196,
     "metadata": {},
     "output_type": "execute_result"
    }
   ],
   "source": [
    "avatars_users"
   ]
  },
  {
   "cell_type": "markdown",
   "metadata": {},
   "source": [
    "Все готово к созданию датасета и последующему обучению модели"
   ]
  },
  {
   "cell_type": "code",
   "execution_count": 198,
   "metadata": {
    "ExecuteTime": {
     "end_time": "2022-12-14T19:29:25.040588Z",
     "start_time": "2022-12-14T19:29:23.900439Z"
    }
   },
   "outputs": [],
   "source": [
    "users = pd.read_csv(DATA_PATH / \"users.csv\")\n",
    "items = pd.read_csv(DATA_PATH / \"items.csv\")\n",
    "users = pd.concat([users, avatars_users], ignore_index=True)"
   ]
  },
  {
   "cell_type": "code",
   "execution_count": 199,
   "metadata": {
    "ExecuteTime": {
     "end_time": "2022-12-14T19:29:25.514788Z",
     "start_time": "2022-12-14T19:29:25.496966Z"
    }
   },
   "outputs": [
    {
     "data": {
      "text/html": [
       "<div>\n",
       "<style scoped>\n",
       "    .dataframe tbody tr th:only-of-type {\n",
       "        vertical-align: middle;\n",
       "    }\n",
       "\n",
       "    .dataframe tbody tr th {\n",
       "        vertical-align: top;\n",
       "    }\n",
       "\n",
       "    .dataframe thead th {\n",
       "        text-align: right;\n",
       "    }\n",
       "</style>\n",
       "<table border=\"1\" class=\"dataframe\">\n",
       "  <thead>\n",
       "    <tr style=\"text-align: right;\">\n",
       "      <th></th>\n",
       "      <th>user_id</th>\n",
       "      <th>age</th>\n",
       "      <th>income</th>\n",
       "      <th>sex</th>\n",
       "      <th>kids_flg</th>\n",
       "    </tr>\n",
       "  </thead>\n",
       "  <tbody>\n",
       "    <tr>\n",
       "      <th>840195</th>\n",
       "      <td>590706</td>\n",
       "      <td>NaN</td>\n",
       "      <td>NaN</td>\n",
       "      <td>Ж</td>\n",
       "      <td>0</td>\n",
       "    </tr>\n",
       "    <tr>\n",
       "      <th>840196</th>\n",
       "      <td>166555</td>\n",
       "      <td>age_65_inf</td>\n",
       "      <td>income_20_40</td>\n",
       "      <td>Ж</td>\n",
       "      <td>0</td>\n",
       "    </tr>\n",
       "    <tr>\n",
       "      <th>840197</th>\n",
       "      <td>-6</td>\n",
       "      <td>age_55_64</td>\n",
       "      <td>income_0_20</td>\n",
       "      <td>М</td>\n",
       "      <td>0</td>\n",
       "    </tr>\n",
       "    <tr>\n",
       "      <th>840198</th>\n",
       "      <td>-66</td>\n",
       "      <td>age_18_24</td>\n",
       "      <td>income_150_inf</td>\n",
       "      <td>М</td>\n",
       "      <td>1</td>\n",
       "    </tr>\n",
       "    <tr>\n",
       "      <th>840199</th>\n",
       "      <td>-666</td>\n",
       "      <td>age_35_44</td>\n",
       "      <td>income_40_60</td>\n",
       "      <td>Ж</td>\n",
       "      <td>0</td>\n",
       "    </tr>\n",
       "  </tbody>\n",
       "</table>\n",
       "</div>"
      ],
      "text/plain": [
       "        user_id         age          income sex  kids_flg\n",
       "840195   590706         NaN             NaN   Ж         0\n",
       "840196   166555  age_65_inf    income_20_40   Ж         0\n",
       "840197       -6   age_55_64     income_0_20   М         0\n",
       "840198      -66   age_18_24  income_150_inf   М         1\n",
       "840199     -666   age_35_44    income_40_60   Ж         0"
      ]
     },
     "execution_count": 199,
     "metadata": {},
     "output_type": "execute_result"
    }
   ],
   "source": [
    "users.tail()"
   ]
  },
  {
   "cell_type": "code",
   "execution_count": 200,
   "metadata": {
    "ExecuteTime": {
     "end_time": "2022-12-14T19:29:29.576397Z",
     "start_time": "2022-12-14T19:29:28.296525Z"
    }
   },
   "outputs": [],
   "source": [
    "users_features, items_features = get_features(users, items)"
   ]
  },
  {
   "cell_type": "code",
   "execution_count": 201,
   "metadata": {
    "ExecuteTime": {
     "end_time": "2022-12-14T19:29:40.031328Z",
     "start_time": "2022-12-14T19:29:29.579702Z"
    }
   },
   "outputs": [],
   "source": [
    "interactions = pd.concat([interactions, avatars_interactions], ignore_index=True)"
   ]
  },
  {
   "cell_type": "code",
   "execution_count": 202,
   "metadata": {
    "ExecuteTime": {
     "end_time": "2022-12-14T19:29:40.051793Z",
     "start_time": "2022-12-14T19:29:40.034308Z"
    }
   },
   "outputs": [
    {
     "data": {
      "text/html": [
       "<div>\n",
       "<style scoped>\n",
       "    .dataframe tbody tr th:only-of-type {\n",
       "        vertical-align: middle;\n",
       "    }\n",
       "\n",
       "    .dataframe tbody tr th {\n",
       "        vertical-align: top;\n",
       "    }\n",
       "\n",
       "    .dataframe thead th {\n",
       "        text-align: right;\n",
       "    }\n",
       "</style>\n",
       "<table border=\"1\" class=\"dataframe\">\n",
       "  <thead>\n",
       "    <tr style=\"text-align: right;\">\n",
       "      <th></th>\n",
       "      <th>user_id</th>\n",
       "      <th>item_id</th>\n",
       "      <th>last_watch_dt</th>\n",
       "      <th>total_dur</th>\n",
       "      <th>watched_pct</th>\n",
       "      <th>weight</th>\n",
       "    </tr>\n",
       "  </thead>\n",
       "  <tbody>\n",
       "    <tr>\n",
       "      <th>5476259</th>\n",
       "      <td>-66</td>\n",
       "      <td>14315</td>\n",
       "      <td>2021-07-02</td>\n",
       "      <td>3159</td>\n",
       "      <td>3.0</td>\n",
       "      <td>1</td>\n",
       "    </tr>\n",
       "    <tr>\n",
       "      <th>5476260</th>\n",
       "      <td>-666</td>\n",
       "      <td>2888</td>\n",
       "      <td>2021-07-27</td>\n",
       "      <td>205</td>\n",
       "      <td>96.0</td>\n",
       "      <td>5</td>\n",
       "    </tr>\n",
       "    <tr>\n",
       "      <th>5476261</th>\n",
       "      <td>-666</td>\n",
       "      <td>8565</td>\n",
       "      <td>2021-05-26</td>\n",
       "      <td>10748</td>\n",
       "      <td>23.0</td>\n",
       "      <td>2</td>\n",
       "    </tr>\n",
       "    <tr>\n",
       "      <th>5476262</th>\n",
       "      <td>-666</td>\n",
       "      <td>15465</td>\n",
       "      <td>2021-08-06</td>\n",
       "      <td>5472</td>\n",
       "      <td>85.0</td>\n",
       "      <td>5</td>\n",
       "    </tr>\n",
       "    <tr>\n",
       "      <th>5476263</th>\n",
       "      <td>-666</td>\n",
       "      <td>14957</td>\n",
       "      <td>2021-08-05</td>\n",
       "      <td>4158</td>\n",
       "      <td>67.0</td>\n",
       "      <td>4</td>\n",
       "    </tr>\n",
       "  </tbody>\n",
       "</table>\n",
       "</div>"
      ],
      "text/plain": [
       "         user_id  item_id last_watch_dt  total_dur  watched_pct  weight\n",
       "5476259      -66    14315    2021-07-02       3159          3.0       1\n",
       "5476260     -666     2888    2021-07-27        205         96.0       5\n",
       "5476261     -666     8565    2021-05-26      10748         23.0       2\n",
       "5476262     -666    15465    2021-08-06       5472         85.0       5\n",
       "5476263     -666    14957    2021-08-05       4158         67.0       4"
      ]
     },
     "execution_count": 202,
     "metadata": {},
     "output_type": "execute_result"
    }
   ],
   "source": [
    "interactions.tail()"
   ]
  },
  {
   "cell_type": "code",
   "execution_count": 203,
   "metadata": {
    "ExecuteTime": {
     "end_time": "2022-12-14T19:30:07.393928Z",
     "start_time": "2022-12-14T19:29:46.999622Z"
    }
   },
   "outputs": [
    {
     "name": "stdout",
     "output_type": "stream",
     "text": [
      "CPU times: user 18.4 s, sys: 1.72 s, total: 20.1 s\n",
      "Wall time: 20.4 s\n"
     ]
    }
   ],
   "source": [
    "%%time\n",
    "dataset = Dataset.construct(\n",
    "    interactions_df=interactions,\n",
    "    user_features_df=user_features,\n",
    "    cat_user_features=[\"sex\", \"age\", \"income\", \"kids_flg\"],\n",
    "    item_features_df=item_features,\n",
    "    cat_item_features=[\n",
    "        \"genre\",\n",
    "        \"content_type\",\n",
    "        \"release_year\",\n",
    "        \"for_kids\",\n",
    "        \"age_rating\",\n",
    "    ],\n",
    ")"
   ]
  },
  {
   "cell_type": "code",
   "execution_count": 204,
   "metadata": {
    "ExecuteTime": {
     "end_time": "2022-12-14T19:33:43.508235Z",
     "start_time": "2022-12-14T19:33:43.502003Z"
    }
   },
   "outputs": [],
   "source": [
    "# Optimal hyperparametres due to validation\n",
    "RANDOM_STATE = 23\n",
    "NUM_THREADS = 16\n",
    "# Best hyperparametres\n",
    "N_FACTORS = 32\n",
    "N_EPOCHS = 1\n",
    "LEARNING_RATE = 0.05\n",
    "USER_ALPHA = 0\n",
    "ITEM_ALPHA = 0\n",
    "K_RECOS = 10"
   ]
  },
  {
   "cell_type": "code",
   "execution_count": 205,
   "metadata": {
    "ExecuteTime": {
     "end_time": "2022-12-14T19:33:44.130267Z",
     "start_time": "2022-12-14T19:33:44.125361Z"
    }
   },
   "outputs": [],
   "source": [
    "model = LightFMWrapperModel(\n",
    "    LightFM(\n",
    "        no_components=N_FACTORS,\n",
    "        loss=\"warp\",\n",
    "        random_state=RANDOM_STATE,\n",
    "        learning_rate=LEARNING_RATE,\n",
    "        user_alpha=USER_ALPHA,\n",
    "        item_alpha=ITEM_ALPHA,\n",
    "    ),\n",
    "    epochs=N_EPOCHS,\n",
    "    num_threads=NUM_THREADS,\n",
    ")"
   ]
  },
  {
   "cell_type": "code",
   "execution_count": 206,
   "metadata": {
    "ExecuteTime": {
     "end_time": "2022-12-14T19:34:07.719940Z",
     "start_time": "2022-12-14T19:33:44.836021Z"
    }
   },
   "outputs": [
    {
     "data": {
      "text/plain": [
       "<rectools.models.lightfm.LightFMWrapperModel at 0x7f2d0d788e50>"
      ]
     },
     "execution_count": 206,
     "metadata": {},
     "output_type": "execute_result"
    }
   ],
   "source": [
    "model.fit(dataset)"
   ]
  },
  {
   "cell_type": "markdown",
   "metadata": {},
   "source": [
    "### Avatars Recomendations"
   ]
  },
  {
   "cell_type": "code",
   "execution_count": 207,
   "metadata": {
    "ExecuteTime": {
     "end_time": "2022-12-14T19:34:57.072072Z",
     "start_time": "2022-12-14T19:34:54.959473Z"
    }
   },
   "outputs": [
    {
     "data": {
      "text/html": [
       "<div>\n",
       "<style scoped>\n",
       "    .dataframe tbody tr th:only-of-type {\n",
       "        vertical-align: middle;\n",
       "    }\n",
       "\n",
       "    .dataframe tbody tr th {\n",
       "        vertical-align: top;\n",
       "    }\n",
       "\n",
       "    .dataframe thead th {\n",
       "        text-align: right;\n",
       "    }\n",
       "</style>\n",
       "<table border=\"1\" class=\"dataframe\">\n",
       "  <thead>\n",
       "    <tr style=\"text-align: right;\">\n",
       "      <th></th>\n",
       "      <th>user_id</th>\n",
       "      <th>item_id</th>\n",
       "      <th>score</th>\n",
       "      <th>rank</th>\n",
       "      <th>title</th>\n",
       "      <th>release_year</th>\n",
       "      <th>genres</th>\n",
       "    </tr>\n",
       "  </thead>\n",
       "  <tbody>\n",
       "    <tr>\n",
       "      <th>0</th>\n",
       "      <td>-6</td>\n",
       "      <td>3182</td>\n",
       "      <td>3.847929</td>\n",
       "      <td>1</td>\n",
       "      <td>Ральф против Интернета</td>\n",
       "      <td>2018.0</td>\n",
       "      <td>мультфильм, приключения, фантастика, семейное,...</td>\n",
       "    </tr>\n",
       "    <tr>\n",
       "      <th>1</th>\n",
       "      <td>-6</td>\n",
       "      <td>9336</td>\n",
       "      <td>3.819947</td>\n",
       "      <td>2</td>\n",
       "      <td>Остров монстров</td>\n",
       "      <td>2018.0</td>\n",
       "      <td>семейное, мультфильм, фэнтези, приключения</td>\n",
       "    </tr>\n",
       "    <tr>\n",
       "      <th>2</th>\n",
       "      <td>-6</td>\n",
       "      <td>10761</td>\n",
       "      <td>3.770006</td>\n",
       "      <td>3</td>\n",
       "      <td>Моана</td>\n",
       "      <td>2016.0</td>\n",
       "      <td>мультфильм, фэнтези, мюзиклы</td>\n",
       "    </tr>\n",
       "    <tr>\n",
       "      <th>3</th>\n",
       "      <td>-6</td>\n",
       "      <td>12908</td>\n",
       "      <td>3.681091</td>\n",
       "      <td>4</td>\n",
       "      <td>Человек-паук: Через вселенные</td>\n",
       "      <td>2018.0</td>\n",
       "      <td>фантастика, мультфильм, приключения</td>\n",
       "    </tr>\n",
       "    <tr>\n",
       "      <th>4</th>\n",
       "      <td>-6</td>\n",
       "      <td>7571</td>\n",
       "      <td>3.679307</td>\n",
       "      <td>5</td>\n",
       "      <td>100% волк</td>\n",
       "      <td>2020.0</td>\n",
       "      <td>мультфильм, приключения, семейное, фэнтези, ко...</td>\n",
       "    </tr>\n",
       "    <tr>\n",
       "      <th>5</th>\n",
       "      <td>-6</td>\n",
       "      <td>16166</td>\n",
       "      <td>3.664617</td>\n",
       "      <td>6</td>\n",
       "      <td>Зверополис</td>\n",
       "      <td>2016.0</td>\n",
       "      <td>приключения, мультфильм, детективы, комедии</td>\n",
       "    </tr>\n",
       "    <tr>\n",
       "      <th>6</th>\n",
       "      <td>-6</td>\n",
       "      <td>15334</td>\n",
       "      <td>3.645636</td>\n",
       "      <td>7</td>\n",
       "      <td>Ронья, дочь разбойника</td>\n",
       "      <td>2014.0</td>\n",
       "      <td>для детей, аниме, сериалы, приключения, зарубе...</td>\n",
       "    </tr>\n",
       "    <tr>\n",
       "      <th>7</th>\n",
       "      <td>-6</td>\n",
       "      <td>3888</td>\n",
       "      <td>3.644508</td>\n",
       "      <td>8</td>\n",
       "      <td>История игрушек 2</td>\n",
       "      <td>1999.0</td>\n",
       "      <td>мультфильм, фэнтези, приключения, комедии</td>\n",
       "    </tr>\n",
       "    <tr>\n",
       "      <th>8</th>\n",
       "      <td>-6</td>\n",
       "      <td>15266</td>\n",
       "      <td>3.632289</td>\n",
       "      <td>9</td>\n",
       "      <td>Корпорация монстров</td>\n",
       "      <td>2001.0</td>\n",
       "      <td>мультфильм, фэнтези, приключения, комедии</td>\n",
       "    </tr>\n",
       "    <tr>\n",
       "      <th>9</th>\n",
       "      <td>-6</td>\n",
       "      <td>9816</td>\n",
       "      <td>3.622309</td>\n",
       "      <td>10</td>\n",
       "      <td>В стране чудес</td>\n",
       "      <td>2019.0</td>\n",
       "      <td>аниме, фэнтези, приключения</td>\n",
       "    </tr>\n",
       "    <tr>\n",
       "      <th>10</th>\n",
       "      <td>-66</td>\n",
       "      <td>15297</td>\n",
       "      <td>5.902357</td>\n",
       "      <td>1</td>\n",
       "      <td>Клиника счастья</td>\n",
       "      <td>2021.0</td>\n",
       "      <td>драмы, мелодрамы</td>\n",
       "    </tr>\n",
       "    <tr>\n",
       "      <th>11</th>\n",
       "      <td>-66</td>\n",
       "      <td>10440</td>\n",
       "      <td>5.753898</td>\n",
       "      <td>2</td>\n",
       "      <td>Хрустальный</td>\n",
       "      <td>2021.0</td>\n",
       "      <td>триллеры, детективы</td>\n",
       "    </tr>\n",
       "    <tr>\n",
       "      <th>12</th>\n",
       "      <td>-66</td>\n",
       "      <td>13865</td>\n",
       "      <td>5.696290</td>\n",
       "      <td>3</td>\n",
       "      <td>Девятаев</td>\n",
       "      <td>2021.0</td>\n",
       "      <td>драмы, военные, приключения</td>\n",
       "    </tr>\n",
       "    <tr>\n",
       "      <th>13</th>\n",
       "      <td>-66</td>\n",
       "      <td>9728</td>\n",
       "      <td>5.394528</td>\n",
       "      <td>4</td>\n",
       "      <td>Гнев человеческий</td>\n",
       "      <td>2021.0</td>\n",
       "      <td>боевики, триллеры</td>\n",
       "    </tr>\n",
       "    <tr>\n",
       "      <th>14</th>\n",
       "      <td>-66</td>\n",
       "      <td>4740</td>\n",
       "      <td>5.262982</td>\n",
       "      <td>5</td>\n",
       "      <td>Сахаров. Две жизни</td>\n",
       "      <td>2021.0</td>\n",
       "      <td>документальное</td>\n",
       "    </tr>\n",
       "    <tr>\n",
       "      <th>15</th>\n",
       "      <td>-66</td>\n",
       "      <td>4151</td>\n",
       "      <td>5.217866</td>\n",
       "      <td>6</td>\n",
       "      <td>Секреты семейной жизни</td>\n",
       "      <td>2021.0</td>\n",
       "      <td>комедии</td>\n",
       "    </tr>\n",
       "    <tr>\n",
       "      <th>16</th>\n",
       "      <td>-66</td>\n",
       "      <td>4880</td>\n",
       "      <td>5.010257</td>\n",
       "      <td>7</td>\n",
       "      <td>Афера</td>\n",
       "      <td>2021.0</td>\n",
       "      <td>комедии</td>\n",
       "    </tr>\n",
       "    <tr>\n",
       "      <th>17</th>\n",
       "      <td>-66</td>\n",
       "      <td>9996</td>\n",
       "      <td>4.934290</td>\n",
       "      <td>8</td>\n",
       "      <td>Немцы</td>\n",
       "      <td>2021.0</td>\n",
       "      <td>драмы</td>\n",
       "    </tr>\n",
       "    <tr>\n",
       "      <th>18</th>\n",
       "      <td>-66</td>\n",
       "      <td>3734</td>\n",
       "      <td>4.876362</td>\n",
       "      <td>9</td>\n",
       "      <td>Прабабушка легкого поведения</td>\n",
       "      <td>2021.0</td>\n",
       "      <td>комедии</td>\n",
       "    </tr>\n",
       "    <tr>\n",
       "      <th>19</th>\n",
       "      <td>-66</td>\n",
       "      <td>6809</td>\n",
       "      <td>4.864885</td>\n",
       "      <td>10</td>\n",
       "      <td>Дуров</td>\n",
       "      <td>2021.0</td>\n",
       "      <td>документальное</td>\n",
       "    </tr>\n",
       "    <tr>\n",
       "      <th>20</th>\n",
       "      <td>-666</td>\n",
       "      <td>7854</td>\n",
       "      <td>2.361076</td>\n",
       "      <td>1</td>\n",
       "      <td>Церемония вручения IX Премии АПКиТ</td>\n",
       "      <td>2021.0</td>\n",
       "      <td>музыкальные</td>\n",
       "    </tr>\n",
       "    <tr>\n",
       "      <th>21</th>\n",
       "      <td>-666</td>\n",
       "      <td>14061</td>\n",
       "      <td>2.328822</td>\n",
       "      <td>2</td>\n",
       "      <td>Лапси. Тайны острова Сариола</td>\n",
       "      <td>2018.0</td>\n",
       "      <td>триллеры</td>\n",
       "    </tr>\n",
       "    <tr>\n",
       "      <th>22</th>\n",
       "      <td>-666</td>\n",
       "      <td>11613</td>\n",
       "      <td>2.083453</td>\n",
       "      <td>3</td>\n",
       "      <td>Я передумала</td>\n",
       "      <td>2021.0</td>\n",
       "      <td>драмы, комедии</td>\n",
       "    </tr>\n",
       "    <tr>\n",
       "      <th>23</th>\n",
       "      <td>-666</td>\n",
       "      <td>9470</td>\n",
       "      <td>2.064710</td>\n",
       "      <td>4</td>\n",
       "      <td>Обет на крови</td>\n",
       "      <td>2020.0</td>\n",
       "      <td>драмы, криминал</td>\n",
       "    </tr>\n",
       "    <tr>\n",
       "      <th>24</th>\n",
       "      <td>-666</td>\n",
       "      <td>7251</td>\n",
       "      <td>2.048139</td>\n",
       "      <td>5</td>\n",
       "      <td>Служба доставки</td>\n",
       "      <td>2018.0</td>\n",
       "      <td>драмы</td>\n",
       "    </tr>\n",
       "    <tr>\n",
       "      <th>25</th>\n",
       "      <td>-666</td>\n",
       "      <td>13707</td>\n",
       "      <td>1.961380</td>\n",
       "      <td>6</td>\n",
       "      <td>Matchroom. Кэти Тейлор vs Мириам Гутьеррез</td>\n",
       "      <td>2020.0</td>\n",
       "      <td>спорт</td>\n",
       "    </tr>\n",
       "    <tr>\n",
       "      <th>26</th>\n",
       "      <td>-666</td>\n",
       "      <td>14104</td>\n",
       "      <td>1.958705</td>\n",
       "      <td>7</td>\n",
       "      <td>Часы с кукушкой</td>\n",
       "      <td>2019.0</td>\n",
       "      <td>детективы, мелодрамы</td>\n",
       "    </tr>\n",
       "    <tr>\n",
       "      <th>27</th>\n",
       "      <td>-666</td>\n",
       "      <td>13348</td>\n",
       "      <td>1.955126</td>\n",
       "      <td>8</td>\n",
       "      <td>Golden Boy. Верджил Ортис-младший vs Самуэль В...</td>\n",
       "      <td>2020.0</td>\n",
       "      <td>спорт</td>\n",
       "    </tr>\n",
       "    <tr>\n",
       "      <th>28</th>\n",
       "      <td>-666</td>\n",
       "      <td>14528</td>\n",
       "      <td>1.936840</td>\n",
       "      <td>9</td>\n",
       "      <td>Тот, кто читает мысли</td>\n",
       "      <td>2018.0</td>\n",
       "      <td>драмы, детективы, мелодрамы</td>\n",
       "    </tr>\n",
       "    <tr>\n",
       "      <th>29</th>\n",
       "      <td>-666</td>\n",
       "      <td>3956</td>\n",
       "      <td>1.926627</td>\n",
       "      <td>10</td>\n",
       "      <td>Matchroom. Геннадий Головкин vs Камил Шеремета</td>\n",
       "      <td>2020.0</td>\n",
       "      <td>спорт</td>\n",
       "    </tr>\n",
       "  </tbody>\n",
       "</table>\n",
       "</div>"
      ],
      "text/plain": [
       "    user_id  item_id     score  rank  \\\n",
       "0        -6     3182  3.847929     1   \n",
       "1        -6     9336  3.819947     2   \n",
       "2        -6    10761  3.770006     3   \n",
       "3        -6    12908  3.681091     4   \n",
       "4        -6     7571  3.679307     5   \n",
       "5        -6    16166  3.664617     6   \n",
       "6        -6    15334  3.645636     7   \n",
       "7        -6     3888  3.644508     8   \n",
       "8        -6    15266  3.632289     9   \n",
       "9        -6     9816  3.622309    10   \n",
       "10      -66    15297  5.902357     1   \n",
       "11      -66    10440  5.753898     2   \n",
       "12      -66    13865  5.696290     3   \n",
       "13      -66     9728  5.394528     4   \n",
       "14      -66     4740  5.262982     5   \n",
       "15      -66     4151  5.217866     6   \n",
       "16      -66     4880  5.010257     7   \n",
       "17      -66     9996  4.934290     8   \n",
       "18      -66     3734  4.876362     9   \n",
       "19      -66     6809  4.864885    10   \n",
       "20     -666     7854  2.361076     1   \n",
       "21     -666    14061  2.328822     2   \n",
       "22     -666    11613  2.083453     3   \n",
       "23     -666     9470  2.064710     4   \n",
       "24     -666     7251  2.048139     5   \n",
       "25     -666    13707  1.961380     6   \n",
       "26     -666    14104  1.958705     7   \n",
       "27     -666    13348  1.955126     8   \n",
       "28     -666    14528  1.936840     9   \n",
       "29     -666     3956  1.926627    10   \n",
       "\n",
       "                                                title  release_year  \\\n",
       "0                              Ральф против Интернета        2018.0   \n",
       "1                                     Остров монстров        2018.0   \n",
       "2                                               Моана        2016.0   \n",
       "3                       Человек-паук: Через вселенные        2018.0   \n",
       "4                                           100% волк        2020.0   \n",
       "5                                          Зверополис        2016.0   \n",
       "6                              Ронья, дочь разбойника        2014.0   \n",
       "7                                   История игрушек 2        1999.0   \n",
       "8                                 Корпорация монстров        2001.0   \n",
       "9                                      В стране чудес        2019.0   \n",
       "10                                    Клиника счастья        2021.0   \n",
       "11                                        Хрустальный        2021.0   \n",
       "12                                           Девятаев        2021.0   \n",
       "13                                  Гнев человеческий        2021.0   \n",
       "14                                 Сахаров. Две жизни        2021.0   \n",
       "15                             Секреты семейной жизни        2021.0   \n",
       "16                                              Афера        2021.0   \n",
       "17                                              Немцы        2021.0   \n",
       "18                       Прабабушка легкого поведения        2021.0   \n",
       "19                                              Дуров        2021.0   \n",
       "20                 Церемония вручения IX Премии АПКиТ        2021.0   \n",
       "21                       Лапси. Тайны острова Сариола        2018.0   \n",
       "22                                       Я передумала        2021.0   \n",
       "23                                      Обет на крови        2020.0   \n",
       "24                                    Служба доставки        2018.0   \n",
       "25         Matchroom. Кэти Тейлор vs Мириам Гутьеррез        2020.0   \n",
       "26                                    Часы с кукушкой        2019.0   \n",
       "27  Golden Boy. Верджил Ортис-младший vs Самуэль В...        2020.0   \n",
       "28                              Тот, кто читает мысли        2018.0   \n",
       "29     Matchroom. Геннадий Головкин vs Камил Шеремета        2020.0   \n",
       "\n",
       "                                               genres  \n",
       "0   мультфильм, приключения, фантастика, семейное,...  \n",
       "1          семейное, мультфильм, фэнтези, приключения  \n",
       "2                        мультфильм, фэнтези, мюзиклы  \n",
       "3                 фантастика, мультфильм, приключения  \n",
       "4   мультфильм, приключения, семейное, фэнтези, ко...  \n",
       "5         приключения, мультфильм, детективы, комедии  \n",
       "6   для детей, аниме, сериалы, приключения, зарубе...  \n",
       "7           мультфильм, фэнтези, приключения, комедии  \n",
       "8           мультфильм, фэнтези, приключения, комедии  \n",
       "9                         аниме, фэнтези, приключения  \n",
       "10                                   драмы, мелодрамы  \n",
       "11                                триллеры, детективы  \n",
       "12                        драмы, военные, приключения  \n",
       "13                                  боевики, триллеры  \n",
       "14                                     документальное  \n",
       "15                                            комедии  \n",
       "16                                            комедии  \n",
       "17                                              драмы  \n",
       "18                                            комедии  \n",
       "19                                     документальное  \n",
       "20                                        музыкальные  \n",
       "21                                           триллеры  \n",
       "22                                     драмы, комедии  \n",
       "23                                    драмы, криминал  \n",
       "24                                              драмы  \n",
       "25                                              спорт  \n",
       "26                               детективы, мелодрамы  \n",
       "27                                              спорт  \n",
       "28                        драмы, детективы, мелодрамы  \n",
       "29                                              спорт  "
      ]
     },
     "execution_count": 207,
     "metadata": {},
     "output_type": "execute_result"
    }
   ],
   "source": [
    "model.recommend([-6, -66, -666], dataset=dataset, filter_viewed=True, k=10).merge(\n",
    "    items[[\"item_id\", \"title\", \"release_year\", \"genres\"]], how=\"left\", on=\"item_id\"\n",
    ")"
   ]
  },
  {
   "cell_type": "markdown",
   "metadata": {},
   "source": [
    "Что видим:\n",
    "* Все первые 10 рекомендаций для мужчины это мультфильмы, что наверное логично, так как только они в истории просмотров. Разнообразие модель здесь не внесла\n",
    "* С парнем поинтереснее. Видим как и жанр документального, так и много других. Здесь разнообразие присутствует, но это может быть фактом того, что модель плохо поняла интересы пользователя - в рекомендациях еще присутствуют айтемы (10440, 15297, 6809, 9996), которые модель рекомендует многим, в том числе и холодным пользователям\n",
    "* Женщине модель рекомендует вполне оригинальные айтемы, причем в рекомендациях 3 из них относятся к спорту, т.е. здесь модель явно уловила характер пользователя"
   ]
  }
 ],
 "metadata": {
  "kernelspec": {
   "display_name": "Python 3 (ipykernel)",
   "language": "python",
   "name": "python3"
  },
  "language_info": {
   "codemirror_mode": {
    "name": "ipython",
    "version": 3
   },
   "file_extension": ".py",
   "mimetype": "text/x-python",
   "name": "python",
   "nbconvert_exporter": "python",
   "pygments_lexer": "ipython3",
   "version": "3.8.14"
  },
  "toc": {
   "base_numbering": 1,
   "nav_menu": {},
   "number_sections": false,
   "sideBar": true,
   "skip_h1_title": false,
   "title_cell": "Table of Contents",
   "title_sidebar": "Contents",
   "toc_cell": false,
   "toc_position": {
    "height": "calc(100% - 180px)",
    "left": "10px",
    "top": "150px",
    "width": "165px"
   },
   "toc_section_display": true,
   "toc_window_display": false
  }
 },
 "nbformat": 4,
 "nbformat_minor": 4
}
