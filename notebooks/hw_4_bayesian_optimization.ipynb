{
 "cells": [
  {
   "attachments": {},
   "cell_type": "markdown",
   "metadata": {},
   "source": [
    "# Байесовская оптимизация"
   ]
  },
  {
   "cell_type": "code",
   "execution_count": 67,
   "metadata": {
    "ExecuteTime": {
     "end_time": "2022-12-12T13:21:54.993141Z",
     "start_time": "2022-12-12T13:21:54.989431Z"
    }
   },
   "outputs": [],
   "source": [
    "import os\n",
    "import timeit"
   ]
  },
  {
   "cell_type": "code",
   "execution_count": 68,
   "metadata": {
    "ExecuteTime": {
     "end_time": "2022-12-12T13:21:55.353424Z",
     "start_time": "2022-12-12T13:21:55.350110Z"
    }
   },
   "outputs": [],
   "source": [
    "os.environ[\"OPENBLAS_NUM_THREADS\"] = \"1\"  # For implicit ALS"
   ]
  },
  {
   "cell_type": "code",
   "execution_count": 69,
   "metadata": {
    "ExecuteTime": {
     "end_time": "2022-12-12T13:21:55.700644Z",
     "start_time": "2022-12-12T13:21:55.696586Z"
    }
   },
   "outputs": [],
   "source": [
    "import warnings\n",
    "\n",
    "warnings.filterwarnings(\"ignore\")"
   ]
  },
  {
   "cell_type": "code",
   "execution_count": 70,
   "metadata": {
    "ExecuteTime": {
     "end_time": "2022-12-12T14:43:56.699126Z",
     "start_time": "2022-12-12T14:43:56.692971Z"
    }
   },
   "outputs": [],
   "source": [
    "import pandas as pd\n",
    "import numpy as np\n",
    "\n",
    "from rectools.metrics import MAP\n",
    "from rectools import Columns\n",
    "from rectools.dataset import Dataset\n",
    "from rectools.models import ImplicitALSWrapperModel, LightFMWrapperModel\n",
    "\n",
    "from pathlib import Path\n",
    "from tqdm import tqdm\n",
    "\n",
    "from lightfm import LightFM\n",
    "\n",
    "from implicit.als import AlternatingLeastSquares\n",
    "\n",
    "import optuna"
   ]
  },
  {
   "cell_type": "markdown",
   "metadata": {},
   "source": [
    "## Loading Data"
   ]
  },
  {
   "cell_type": "code",
   "execution_count": 71,
   "metadata": {
    "ExecuteTime": {
     "end_time": "2022-12-12T15:23:58.164525Z",
     "start_time": "2022-12-12T15:23:54.899566Z"
    }
   },
   "outputs": [
    {
     "name": "stdout",
     "output_type": "stream",
     "text": [
      "CPU times: user 1.67 s, sys: 1.67 s, total: 3.34 s\n",
      "Wall time: 3.34 s\n"
     ]
    }
   ],
   "source": [
    "%%time\n",
    "\n",
    "interactions = pd.read_csv('kion_train/interactions.csv')\n",
    "users = pd.read_csv('kion_train/users.csv')\n",
    "items = pd.read_csv('kion_train/items.csv')"
   ]
  },
  {
   "cell_type": "markdown",
   "metadata": {},
   "source": [
    "## Preprocessing"
   ]
  },
  {
   "cell_type": "code",
   "execution_count": 72,
   "metadata": {
    "ExecuteTime": {
     "end_time": "2022-12-12T15:23:58.659787Z",
     "start_time": "2022-12-12T15:23:58.655516Z"
    }
   },
   "outputs": [],
   "source": [
    "def headtail(df: pd.DataFrame):\n",
    "    return pd.concat([df.head(), df.tail()])"
   ]
  },
  {
   "cell_type": "code",
   "execution_count": 73,
   "metadata": {
    "ExecuteTime": {
     "end_time": "2022-12-12T15:23:59.242377Z",
     "start_time": "2022-12-12T15:23:59.208394Z"
    }
   },
   "outputs": [],
   "source": [
    "Columns.Datetime = \"last_watch_dt\""
   ]
  },
  {
   "cell_type": "code",
   "execution_count": 74,
   "metadata": {
    "ExecuteTime": {
     "end_time": "2022-12-12T15:24:02.095766Z",
     "start_time": "2022-12-12T15:23:59.698797Z"
    }
   },
   "outputs": [],
   "source": [
    "interactions.drop(\n",
    "    interactions[interactions[Columns.Datetime].str.len() != 10].index, inplace=True\n",
    ")"
   ]
  },
  {
   "cell_type": "code",
   "execution_count": 75,
   "metadata": {
    "ExecuteTime": {
     "end_time": "2022-12-12T15:24:02.885897Z",
     "start_time": "2022-12-12T15:24:02.099171Z"
    }
   },
   "outputs": [],
   "source": [
    "interactions[Columns.Datetime] = pd.to_datetime(\n",
    "    interactions[Columns.Datetime], format=\"%Y-%m-%d\"\n",
    ")"
   ]
  },
  {
   "cell_type": "code",
   "execution_count": 76,
   "metadata": {
    "ExecuteTime": {
     "end_time": "2022-12-12T15:24:02.907900Z",
     "start_time": "2022-12-12T15:24:02.889191Z"
    }
   },
   "outputs": [],
   "source": [
    "max_date = interactions[Columns.Datetime].max()"
   ]
  },
  {
   "cell_type": "code",
   "execution_count": 77,
   "metadata": {
    "ExecuteTime": {
     "end_time": "2022-12-12T15:24:02.969732Z",
     "start_time": "2022-12-12T15:24:02.912325Z"
    }
   },
   "outputs": [],
   "source": [
    "interactions[Columns.Weight] = np.where(interactions[\"watched_pct\"] > 10, 3, 1)"
   ]
  },
  {
   "cell_type": "code",
   "execution_count": 78,
   "metadata": {
    "ExecuteTime": {
     "end_time": "2022-12-12T15:24:03.660413Z",
     "start_time": "2022-12-12T15:24:02.974048Z"
    }
   },
   "outputs": [
    {
     "name": "stdout",
     "output_type": "stream",
     "text": [
      "train: (4985269, 6)\n",
      "test: (490982, 6)\n"
     ]
    }
   ],
   "source": [
    "train = interactions[\n",
    "    interactions[Columns.Datetime] < max_date - pd.Timedelta(days=7)\n",
    "].copy()\n",
    "test = interactions[\n",
    "    interactions[Columns.Datetime] >= max_date - pd.Timedelta(days=7)\n",
    "].copy()\n",
    "\n",
    "print(f\"train: {train.shape}\")\n",
    "print(f\"test: {test.shape}\")"
   ]
  },
  {
   "cell_type": "code",
   "execution_count": 79,
   "metadata": {
    "ExecuteTime": {
     "end_time": "2022-12-12T15:24:04.351169Z",
     "start_time": "2022-12-12T15:24:03.663890Z"
    }
   },
   "outputs": [],
   "source": [
    "train.drop(train.query(\"total_dur < 300\").index, inplace=True)"
   ]
  },
  {
   "cell_type": "code",
   "execution_count": 80,
   "metadata": {
    "ExecuteTime": {
     "end_time": "2022-12-12T15:24:05.943367Z",
     "start_time": "2022-12-12T15:24:04.355547Z"
    }
   },
   "outputs": [],
   "source": [
    "# отфильтруем холодных пользователей из теста\n",
    "cold_users = set(test[Columns.User]) - set(train[Columns.User])"
   ]
  },
  {
   "cell_type": "code",
   "execution_count": 81,
   "metadata": {
    "ExecuteTime": {
     "end_time": "2022-12-12T15:24:06.097120Z",
     "start_time": "2022-12-12T15:24:05.947397Z"
    }
   },
   "outputs": [],
   "source": [
    "test.drop(test[test[Columns.User].isin(cold_users)].index, inplace=True)"
   ]
  },
  {
   "cell_type": "markdown",
   "metadata": {},
   "source": [
    "## Features Preparing\n",
    "\n",
    "### User features"
   ]
  },
  {
   "cell_type": "code",
   "execution_count": 82,
   "metadata": {
    "ExecuteTime": {
     "end_time": "2022-12-12T15:02:34.439795Z",
     "start_time": "2022-12-12T15:02:33.761598Z"
    }
   },
   "outputs": [],
   "source": [
    "users.fillna(\"Unknown\", inplace=True)"
   ]
  },
  {
   "cell_type": "code",
   "execution_count": 83,
   "metadata": {
    "ExecuteTime": {
     "end_time": "2022-12-12T15:02:34.976074Z",
     "start_time": "2022-12-12T15:02:34.677498Z"
    }
   },
   "outputs": [],
   "source": [
    "users = users.loc[users[Columns.User].isin(train[Columns.User])].copy()"
   ]
  },
  {
   "cell_type": "code",
   "execution_count": 84,
   "metadata": {
    "ExecuteTime": {
     "end_time": "2022-12-12T15:02:35.054832Z",
     "start_time": "2022-12-12T15:02:35.028145Z"
    }
   },
   "outputs": [],
   "source": [
    "users = users.astype({\"kids_flg\": bool})"
   ]
  },
  {
   "cell_type": "markdown",
   "metadata": {},
   "source": [
    "#### Generate user features dataset"
   ]
  },
  {
   "cell_type": "code",
   "execution_count": 85,
   "metadata": {
    "ExecuteTime": {
     "end_time": "2022-12-12T15:02:38.435902Z",
     "start_time": "2022-12-12T15:02:38.307251Z"
    }
   },
   "outputs": [
    {
     "data": {
      "text/html": [
       "<div>\n",
       "<style scoped>\n",
       "    .dataframe tbody tr th:only-of-type {\n",
       "        vertical-align: middle;\n",
       "    }\n",
       "\n",
       "    .dataframe tbody tr th {\n",
       "        vertical-align: top;\n",
       "    }\n",
       "\n",
       "    .dataframe thead th {\n",
       "        text-align: right;\n",
       "    }\n",
       "</style>\n",
       "<table border=\"1\" class=\"dataframe\">\n",
       "  <thead>\n",
       "    <tr style=\"text-align: right;\">\n",
       "      <th></th>\n",
       "      <th>id</th>\n",
       "      <th>value</th>\n",
       "      <th>feature</th>\n",
       "    </tr>\n",
       "  </thead>\n",
       "  <tbody>\n",
       "    <tr>\n",
       "      <th>0</th>\n",
       "      <td>973171</td>\n",
       "      <td>М</td>\n",
       "      <td>sex</td>\n",
       "    </tr>\n",
       "    <tr>\n",
       "      <th>1</th>\n",
       "      <td>962099</td>\n",
       "      <td>М</td>\n",
       "      <td>sex</td>\n",
       "    </tr>\n",
       "    <tr>\n",
       "      <th>3</th>\n",
       "      <td>721985</td>\n",
       "      <td>Ж</td>\n",
       "      <td>sex</td>\n",
       "    </tr>\n",
       "    <tr>\n",
       "      <th>4</th>\n",
       "      <td>704055</td>\n",
       "      <td>Ж</td>\n",
       "      <td>sex</td>\n",
       "    </tr>\n",
       "    <tr>\n",
       "      <th>5</th>\n",
       "      <td>1037719</td>\n",
       "      <td>М</td>\n",
       "      <td>sex</td>\n",
       "    </tr>\n",
       "  </tbody>\n",
       "</table>\n",
       "</div>"
      ],
      "text/plain": [
       "        id value feature\n",
       "0   973171     М     sex\n",
       "1   962099     М     sex\n",
       "3   721985     Ж     sex\n",
       "4   704055     Ж     sex\n",
       "5  1037719     М     sex"
      ]
     },
     "execution_count": 85,
     "metadata": {},
     "output_type": "execute_result"
    }
   ],
   "source": [
    "user_features_frames = []\n",
    "for feature in [\"sex\", \"age\", \"income\", \"kids_flg\"]:\n",
    "    feature_frame = users.reindex(columns=[Columns.User, feature])\n",
    "    feature_frame.columns = [\"id\", \"value\"]\n",
    "    feature_frame[\"feature\"] = feature\n",
    "    user_features_frames.append(feature_frame)\n",
    "user_features = pd.concat(user_features_frames)\n",
    "user_features.head()"
   ]
  },
  {
   "cell_type": "markdown",
   "metadata": {},
   "source": [
    "### Item features"
   ]
  },
  {
   "cell_type": "code",
   "execution_count": 86,
   "metadata": {
    "ExecuteTime": {
     "end_time": "2022-12-12T15:02:41.621010Z",
     "start_time": "2022-12-12T15:02:40.989769Z"
    }
   },
   "outputs": [],
   "source": [
    "# Full data\n",
    "items = pd.read_csv(DATA_PATH / \"items.csv\")"
   ]
  },
  {
   "cell_type": "code",
   "execution_count": 87,
   "metadata": {
    "ExecuteTime": {
     "end_time": "2022-12-12T15:02:44.460557Z",
     "start_time": "2022-12-12T15:02:44.395570Z"
    }
   },
   "outputs": [],
   "source": [
    "items = items.loc[items[Columns.Item].isin(train[Columns.Item])].copy()"
   ]
  },
  {
   "cell_type": "markdown",
   "metadata": {},
   "source": [
    "#### Genre"
   ]
  },
  {
   "cell_type": "code",
   "execution_count": 88,
   "metadata": {
    "ExecuteTime": {
     "end_time": "2022-12-12T15:02:46.555229Z",
     "start_time": "2022-12-12T15:02:46.451573Z"
    }
   },
   "outputs": [
    {
     "data": {
      "text/html": [
       "<div>\n",
       "<style scoped>\n",
       "    .dataframe tbody tr th:only-of-type {\n",
       "        vertical-align: middle;\n",
       "    }\n",
       "\n",
       "    .dataframe tbody tr th {\n",
       "        vertical-align: top;\n",
       "    }\n",
       "\n",
       "    .dataframe thead th {\n",
       "        text-align: right;\n",
       "    }\n",
       "</style>\n",
       "<table border=\"1\" class=\"dataframe\">\n",
       "  <thead>\n",
       "    <tr style=\"text-align: right;\">\n",
       "      <th></th>\n",
       "      <th>id</th>\n",
       "      <th>value</th>\n",
       "      <th>feature</th>\n",
       "    </tr>\n",
       "  </thead>\n",
       "  <tbody>\n",
       "    <tr>\n",
       "      <th>0</th>\n",
       "      <td>10711</td>\n",
       "      <td>драмы</td>\n",
       "      <td>genre</td>\n",
       "    </tr>\n",
       "    <tr>\n",
       "      <th>0</th>\n",
       "      <td>10711</td>\n",
       "      <td>зарубежные</td>\n",
       "      <td>genre</td>\n",
       "    </tr>\n",
       "    <tr>\n",
       "      <th>0</th>\n",
       "      <td>10711</td>\n",
       "      <td>детективы</td>\n",
       "      <td>genre</td>\n",
       "    </tr>\n",
       "    <tr>\n",
       "      <th>0</th>\n",
       "      <td>10711</td>\n",
       "      <td>мелодрамы</td>\n",
       "      <td>genre</td>\n",
       "    </tr>\n",
       "    <tr>\n",
       "      <th>1</th>\n",
       "      <td>2508</td>\n",
       "      <td>зарубежные</td>\n",
       "      <td>genre</td>\n",
       "    </tr>\n",
       "  </tbody>\n",
       "</table>\n",
       "</div>"
      ],
      "text/plain": [
       "      id       value feature\n",
       "0  10711       драмы   genre\n",
       "0  10711  зарубежные   genre\n",
       "0  10711   детективы   genre\n",
       "0  10711   мелодрамы   genre\n",
       "1   2508  зарубежные   genre"
      ]
     },
     "execution_count": 88,
     "metadata": {},
     "output_type": "execute_result"
    }
   ],
   "source": [
    "# Explode genres to flatten table\n",
    "items[\"genre\"] = (\n",
    "    items[\"genres\"].str.lower().str.replace(\", \", \",\", regex=False).str.split(\",\")\n",
    ")\n",
    "genre_feature = items[[\"item_id\", \"genre\"]].explode(\"genre\")\n",
    "genre_feature.columns = [\"id\", \"value\"]\n",
    "genre_feature[\"feature\"] = \"genre\"\n",
    "genre_feature.head()"
   ]
  },
  {
   "cell_type": "markdown",
   "metadata": {},
   "source": [
    "#### Content"
   ]
  },
  {
   "cell_type": "markdown",
   "metadata": {},
   "source": [
    "#### Release year"
   ]
  },
  {
   "cell_type": "code",
   "execution_count": 89,
   "metadata": {
    "ExecuteTime": {
     "end_time": "2022-12-12T15:02:52.111244Z",
     "start_time": "2022-12-12T15:02:52.103072Z"
    }
   },
   "outputs": [],
   "source": [
    "items[\"release_year\"].fillna(int(items[\"release_year\"].max()), inplace=True)"
   ]
  },
  {
   "cell_type": "markdown",
   "metadata": {},
   "source": [
    "Преобразуем"
   ]
  },
  {
   "cell_type": "code",
   "execution_count": 90,
   "metadata": {
    "ExecuteTime": {
     "end_time": "2022-12-12T15:02:52.808777Z",
     "start_time": "2022-12-12T15:02:52.793799Z"
    }
   },
   "outputs": [],
   "source": [
    "items = items.astype({\"release_year\": int})"
   ]
  },
  {
   "cell_type": "code",
   "execution_count": 91,
   "metadata": {
    "ExecuteTime": {
     "end_time": "2022-12-12T15:02:54.774210Z",
     "start_time": "2022-12-12T15:02:54.761216Z"
    }
   },
   "outputs": [],
   "source": [
    "year_from = 1977\n",
    "step = 5\n",
    "bins = [\n",
    "    year\n",
    "    for year in range(\n",
    "        year_from, items[\"release_year\"].max() + step, step\n",
    "    )\n",
    "]"
   ]
  },
  {
   "cell_type": "markdown",
   "metadata": {},
   "source": [
    "Делаем интервалы (строгое вхождение)"
   ]
  },
  {
   "cell_type": "code",
   "execution_count": 92,
   "metadata": {
    "ExecuteTime": {
     "end_time": "2022-12-12T15:02:55.826216Z",
     "start_time": "2022-12-12T15:02:55.821909Z"
    }
   },
   "outputs": [],
   "source": [
    "bins_bias = [item + 1 for item in bins]"
   ]
  },
  {
   "cell_type": "code",
   "execution_count": 93,
   "metadata": {
    "ExecuteTime": {
     "end_time": "2022-12-12T15:02:56.265640Z",
     "start_time": "2022-12-12T15:02:56.255884Z"
    }
   },
   "outputs": [],
   "source": [
    "pairs_strict = list(zip(bins_bias, bins[1:]))\n"
   ]
  },
  {
   "cell_type": "code",
   "execution_count": 94,
   "metadata": {
    "ExecuteTime": {
     "end_time": "2022-12-12T15:02:56.778654Z",
     "start_time": "2022-12-12T15:02:56.772346Z"
    }
   },
   "outputs": [],
   "source": [
    "# Add the most first release year\n",
    "bins = [items[\"release_year\"].min()] + bins\n",
    "# Add interval for it\n",
    "pairs_strict = [(items[\"release_year\"].min(), bins[1])] + pairs_strict\n",
    "# Generate feature values\n",
    "labels = [f'year_{item[0]}_{item[1]}' for item in pairs_strict]"
   ]
  },
  {
   "cell_type": "code",
   "execution_count": 95,
   "metadata": {
    "ExecuteTime": {
     "end_time": "2022-12-12T15:02:57.627770Z",
     "start_time": "2022-12-12T15:02:57.616870Z"
    }
   },
   "outputs": [],
   "source": [
    "year_bins = pd.cut(items[\"release_year\"], bins=bins, labels=labels, include_lowest=True)"
   ]
  },
  {
   "cell_type": "code",
   "execution_count": 96,
   "metadata": {
    "ExecuteTime": {
     "end_time": "2022-12-12T15:02:58.058174Z",
     "start_time": "2022-12-12T15:02:58.046301Z"
    }
   },
   "outputs": [],
   "source": [
    "items['release_year'] = year_bins.astype(str)"
   ]
  },
  {
   "cell_type": "markdown",
   "metadata": {},
   "source": [
    "#### Age rating"
   ]
  },
  {
   "cell_type": "code",
   "execution_count": 97,
   "metadata": {
    "ExecuteTime": {
     "end_time": "2022-12-12T15:03:03.792071Z",
     "start_time": "2022-12-12T15:03:03.786354Z"
    }
   },
   "outputs": [],
   "source": [
    "items['age_rating'].fillna(0, inplace=True);"
   ]
  },
  {
   "cell_type": "code",
   "execution_count": 98,
   "metadata": {
    "ExecuteTime": {
     "end_time": "2022-12-12T15:03:06.222398Z",
     "start_time": "2022-12-12T15:03:06.199849Z"
    }
   },
   "outputs": [],
   "source": [
    "items = items.astype({\"age_rating\": int})"
   ]
  },
  {
   "cell_type": "markdown",
   "metadata": {},
   "source": [
    "#### For kids"
   ]
  },
  {
   "cell_type": "markdown",
   "metadata": {},
   "source": [
    "Если возраст 12+, тогда взрослый контент, иначе - детский "
   ]
  },
  {
   "cell_type": "code",
   "execution_count": 99,
   "metadata": {
    "ExecuteTime": {
     "end_time": "2022-12-12T15:03:09.222858Z",
     "start_time": "2022-12-12T15:03:09.207554Z"
    }
   },
   "outputs": [],
   "source": [
    "items[\"for_kids\"].loc[items[\"age_rating\"] > 12] = 0\n",
    "items[\"for_kids\"].loc[items[\"age_rating\"] <= 12] = 1"
   ]
  },
  {
   "cell_type": "code",
   "execution_count": 100,
   "metadata": {
    "ExecuteTime": {
     "end_time": "2022-12-12T15:03:09.698177Z",
     "start_time": "2022-12-12T15:03:09.674995Z"
    }
   },
   "outputs": [],
   "source": [
    "items = items.astype({\"for_kids\": bool})"
   ]
  },
  {
   "cell_type": "markdown",
   "metadata": {},
   "source": [
    "#### Generate item features dataset"
   ]
  },
  {
   "cell_type": "code",
   "execution_count": 101,
   "metadata": {},
   "outputs": [
    {
     "data": {
      "text/html": [
       "<div>\n",
       "<style scoped>\n",
       "    .dataframe tbody tr th:only-of-type {\n",
       "        vertical-align: middle;\n",
       "    }\n",
       "\n",
       "    .dataframe tbody tr th {\n",
       "        vertical-align: top;\n",
       "    }\n",
       "\n",
       "    .dataframe thead th {\n",
       "        text-align: right;\n",
       "    }\n",
       "</style>\n",
       "<table border=\"1\" class=\"dataframe\">\n",
       "  <thead>\n",
       "    <tr style=\"text-align: right;\">\n",
       "      <th></th>\n",
       "      <th>id</th>\n",
       "      <th>value</th>\n",
       "      <th>feature</th>\n",
       "    </tr>\n",
       "  </thead>\n",
       "  <tbody>\n",
       "    <tr>\n",
       "      <th>0</th>\n",
       "      <td>10711</td>\n",
       "      <td>драмы</td>\n",
       "      <td>genre</td>\n",
       "    </tr>\n",
       "    <tr>\n",
       "      <th>0</th>\n",
       "      <td>10711</td>\n",
       "      <td>зарубежные</td>\n",
       "      <td>genre</td>\n",
       "    </tr>\n",
       "    <tr>\n",
       "      <th>0</th>\n",
       "      <td>10711</td>\n",
       "      <td>детективы</td>\n",
       "      <td>genre</td>\n",
       "    </tr>\n",
       "    <tr>\n",
       "      <th>0</th>\n",
       "      <td>10711</td>\n",
       "      <td>мелодрамы</td>\n",
       "      <td>genre</td>\n",
       "    </tr>\n",
       "    <tr>\n",
       "      <th>1</th>\n",
       "      <td>2508</td>\n",
       "      <td>зарубежные</td>\n",
       "      <td>genre</td>\n",
       "    </tr>\n",
       "  </tbody>\n",
       "</table>\n",
       "</div>"
      ],
      "text/plain": [
       "      id       value feature\n",
       "0  10711       драмы   genre\n",
       "0  10711  зарубежные   genre\n",
       "0  10711   детективы   genre\n",
       "0  10711   мелодрамы   genre\n",
       "1   2508  зарубежные   genre"
      ]
     },
     "execution_count": 101,
     "metadata": {},
     "output_type": "execute_result"
    }
   ],
   "source": [
    "items[\"genre\"] = items[\"genres\"].str.lower().str.replace(\", \", \",\", regex=False).str.split(\",\")\n",
    "genre_feature = items[[\"item_id\", \"genre\"]].explode(\"genre\")\n",
    "genre_feature.columns = [\"id\", \"value\"]\n",
    "genre_feature[\"feature\"] = \"genre\"\n",
    "genre_feature.head()"
   ]
  },
  {
   "cell_type": "code",
   "execution_count": 102,
   "metadata": {
    "ExecuteTime": {
     "end_time": "2022-12-12T15:03:12.095162Z",
     "start_time": "2022-12-12T15:03:12.053391Z"
    }
   },
   "outputs": [
    {
     "data": {
      "text/html": [
       "<div>\n",
       "<style scoped>\n",
       "    .dataframe tbody tr th:only-of-type {\n",
       "        vertical-align: middle;\n",
       "    }\n",
       "\n",
       "    .dataframe tbody tr th {\n",
       "        vertical-align: top;\n",
       "    }\n",
       "\n",
       "    .dataframe thead th {\n",
       "        text-align: right;\n",
       "    }\n",
       "</style>\n",
       "<table border=\"1\" class=\"dataframe\">\n",
       "  <thead>\n",
       "    <tr style=\"text-align: right;\">\n",
       "      <th></th>\n",
       "      <th>id</th>\n",
       "      <th>value</th>\n",
       "      <th>feature</th>\n",
       "    </tr>\n",
       "  </thead>\n",
       "  <tbody>\n",
       "    <tr>\n",
       "      <th>0</th>\n",
       "      <td>10711</td>\n",
       "      <td>film</td>\n",
       "      <td>content_type</td>\n",
       "    </tr>\n",
       "    <tr>\n",
       "      <th>1</th>\n",
       "      <td>2508</td>\n",
       "      <td>film</td>\n",
       "      <td>content_type</td>\n",
       "    </tr>\n",
       "    <tr>\n",
       "      <th>2</th>\n",
       "      <td>10716</td>\n",
       "      <td>film</td>\n",
       "      <td>content_type</td>\n",
       "    </tr>\n",
       "    <tr>\n",
       "      <th>3</th>\n",
       "      <td>7868</td>\n",
       "      <td>film</td>\n",
       "      <td>content_type</td>\n",
       "    </tr>\n",
       "    <tr>\n",
       "      <th>4</th>\n",
       "      <td>16268</td>\n",
       "      <td>film</td>\n",
       "      <td>content_type</td>\n",
       "    </tr>\n",
       "    <tr>\n",
       "      <th>15960</th>\n",
       "      <td>10632</td>\n",
       "      <td>криминал</td>\n",
       "      <td>genre</td>\n",
       "    </tr>\n",
       "    <tr>\n",
       "      <th>15961</th>\n",
       "      <td>4538</td>\n",
       "      <td>драмы</td>\n",
       "      <td>genre</td>\n",
       "    </tr>\n",
       "    <tr>\n",
       "      <th>15961</th>\n",
       "      <td>4538</td>\n",
       "      <td>спорт</td>\n",
       "      <td>genre</td>\n",
       "    </tr>\n",
       "    <tr>\n",
       "      <th>15961</th>\n",
       "      <td>4538</td>\n",
       "      <td>криминал</td>\n",
       "      <td>genre</td>\n",
       "    </tr>\n",
       "    <tr>\n",
       "      <th>15962</th>\n",
       "      <td>3206</td>\n",
       "      <td>комедии</td>\n",
       "      <td>genre</td>\n",
       "    </tr>\n",
       "  </tbody>\n",
       "</table>\n",
       "</div>"
      ],
      "text/plain": [
       "          id     value       feature\n",
       "0      10711      film  content_type\n",
       "1       2508      film  content_type\n",
       "2      10716      film  content_type\n",
       "3       7868      film  content_type\n",
       "4      16268      film  content_type\n",
       "15960  10632  криминал         genre\n",
       "15961   4538     драмы         genre\n",
       "15961   4538     спорт         genre\n",
       "15961   4538  криминал         genre\n",
       "15962   3206   комедии         genre"
      ]
     },
     "execution_count": 102,
     "metadata": {},
     "output_type": "execute_result"
    }
   ],
   "source": [
    "item_features_frames = []\n",
    "for feature in [\"content_type\", \"release_year\", \"age_rating\", \"for_kids\"]:\n",
    "    feature_frame = items.reindex(columns=[Columns.Item, feature])\n",
    "    feature_frame.columns = [\"id\", \"value\"]\n",
    "    feature_frame[\"feature\"] = feature\n",
    "    item_features_frames.append(feature_frame)\n",
    "item_features_frames.append(genre_feature)\n",
    "item_features = pd.concat(item_features_frames)\n",
    "headtail(item_features)"
   ]
  },
  {
   "attachments": {},
   "cell_type": "markdown",
   "metadata": {},
   "source": [
    "### Model optimization"
   ]
  },
  {
   "cell_type": "code",
   "execution_count": 103,
   "metadata": {},
   "outputs": [],
   "source": [
    "max_date = interactions[Columns.Datetime].max()\n",
    "interactions[Columns.Weight] = np.where(interactions['watched_pct'] > 10, 3, 1)\n",
    "\n",
    "TRAIN = interactions[interactions[Columns.Datetime] < max_date - pd.Timedelta(days=7)].copy()\n",
    "TEST = interactions[interactions[Columns.Datetime] >= max_date - pd.Timedelta(days=7)].copy()\n",
    "\n",
    "TRAIN.drop(TRAIN.query(\"total_dur < 300\").index, inplace=True)\n",
    "\n",
    "# отфильтруем холодных пользователей из теста\n",
    "cold_users = set(TEST[Columns.User]) - set(TRAIN[Columns.User])\n",
    "TEST.drop(TEST[TEST[Columns.User].isin(cold_users)].index, inplace=True)\n"
   ]
  },
  {
   "cell_type": "code",
   "execution_count": 104,
   "metadata": {},
   "outputs": [],
   "source": [
    "item_features_train = item_features.loc[\n",
    "    item_features.id.isin(\n",
    "        TRAIN.item_id\n",
    "    )\n",
    "]\n",
    "item_features_test = item_features.loc[\n",
    "    item_features.id.isin(\n",
    "        TEST.item_id\n",
    "    )\n",
    "]"
   ]
  },
  {
   "cell_type": "code",
   "execution_count": 105,
   "metadata": {},
   "outputs": [],
   "source": [
    "user_features_train = user_features.loc[\n",
    "    user_features.id.isin(\n",
    "        TRAIN.user_id\n",
    "    )\n",
    "]\n",
    "user_features_test = user_features.loc[\n",
    "    user_features.id.isin(\n",
    "        TEST.user_id\n",
    "    )\n",
    "]"
   ]
  },
  {
   "cell_type": "code",
   "execution_count": 106,
   "metadata": {},
   "outputs": [],
   "source": [
    "# make dataset\n",
    "\n",
    "DATASET = Dataset.construct(\n",
    "    interactions_df=TRAIN,\n",
    "    user_features_df=user_features_train,\n",
    "    cat_user_features=[\"sex\", \"age\", \"income\", \"kids_flg\"],\n",
    "    item_features_df=item_features_train,\n",
    "    cat_item_features=[\"genre\", \"content_type\", \"release_year\", \"for_kids\", \"age_rating\"],\n",
    ")"
   ]
  },
  {
   "cell_type": "code",
   "execution_count": 107,
   "metadata": {},
   "outputs": [],
   "source": [
    "TEST_USERS = TEST[Columns.User].unique()\n",
    "K_FOR_METRIC = 10\n",
    "NUM_THREADS = 32"
   ]
  },
  {
   "attachments": {},
   "cell_type": "markdown",
   "metadata": {},
   "source": [
    "#### Make bayesian optimization for LightFM"
   ]
  },
  {
   "attachments": {},
   "cell_type": "markdown",
   "metadata": {},
   "source": [
    "Going to use MAP10 as black box function"
   ]
  },
  {
   "cell_type": "code",
   "execution_count": 66,
   "metadata": {},
   "outputs": [
    {
     "name": "stderr",
     "output_type": "stream",
     "text": [
      "\u001b[32m[I 2022-12-12 22:58:29,857]\u001b[0m A new study created in memory with name: no-name-f644173e-5c92-4169-8d41-ad58fb79546c\u001b[0m\n",
      "\u001b[32m[I 2022-12-12 22:59:00,232]\u001b[0m Trial 0 finished with value: 0.0731286290468275 and parameters: {'n_factors': 13, 'learning_rate': 0.9047338921626018, 'user_alpha': 0.0270968677466501, 'item_alpha': 0.04904404627547998, 'epochs': 1}. Best is trial 0 with value: 0.0731286290468275.\u001b[0m\n",
      "\u001b[32m[I 2022-12-12 23:08:56,857]\u001b[0m Trial 1 finished with value: 0.000430126593557974 and parameters: {'n_factors': 40, 'learning_rate': 0.4052453780755447, 'user_alpha': 0.9475123455238704, 'item_alpha': 0.9466846587296105, 'epochs': 4}. Best is trial 0 with value: 0.0731286290468275.\u001b[0m\n",
      "\u001b[32m[I 2022-12-12 23:15:24,025]\u001b[0m Trial 2 finished with value: 0.0021169665641801766 and parameters: {'n_factors': 30, 'learning_rate': 0.11644543573618182, 'user_alpha': 0.9577078949136297, 'item_alpha': 0.47454145738571396, 'epochs': 9}. Best is trial 0 with value: 0.0731286290468275.\u001b[0m\n",
      "\u001b[32m[I 2022-12-12 23:17:13,375]\u001b[0m Trial 3 finished with value: 0.02070642552316117 and parameters: {'n_factors': 44, 'learning_rate': 0.12286370971533478, 'user_alpha': 0.11317730493138667, 'item_alpha': 0.02067453292012844, 'epochs': 5}. Best is trial 0 with value: 0.0731286290468275.\u001b[0m\n",
      "\u001b[32m[I 2022-12-12 23:32:36,091]\u001b[0m Trial 4 finished with value: 0.00023868318531106926 and parameters: {'n_factors': 23, 'learning_rate': 0.8716621850374812, 'user_alpha': 0.8612850566513183, 'item_alpha': 0.7187447538566838, 'epochs': 5}. Best is trial 0 with value: 0.0731286290468275.\u001b[0m\n",
      "\u001b[32m[I 2022-12-12 23:34:17,718]\u001b[0m Trial 5 finished with value: 0.034289110352794125 and parameters: {'n_factors': 10, 'learning_rate': 0.4255070126435131, 'user_alpha': 0.027944409716049723, 'item_alpha': 0.5531311820844669, 'epochs': 9}. Best is trial 0 with value: 0.0731286290468275.\u001b[0m\n",
      "\u001b[32m[I 2022-12-12 23:38:29,994]\u001b[0m Trial 6 finished with value: 0.005023588762884717 and parameters: {'n_factors': 48, 'learning_rate': 0.4827631911223804, 'user_alpha': 0.23867233240196783, 'item_alpha': 0.29627298451983664, 'epochs': 4}. Best is trial 0 with value: 0.0731286290468275.\u001b[0m\n",
      "\u001b[32m[I 2022-12-12 23:39:19,240]\u001b[0m Trial 7 finished with value: 0.024820272853866756 and parameters: {'n_factors': 43, 'learning_rate': 0.03415030834728361, 'user_alpha': 0.8485995782467902, 'item_alpha': 0.5983925292126321, 'epochs': 1}. Best is trial 0 with value: 0.0731286290468275.\u001b[0m\n",
      "\u001b[32m[I 2022-12-13 00:03:00,532]\u001b[0m Trial 8 finished with value: 4.240994475393412e-05 and parameters: {'n_factors': 24, 'learning_rate': 0.8996891407755517, 'user_alpha': 0.7595249385550533, 'item_alpha': 0.6202252509878295, 'epochs': 9}. Best is trial 0 with value: 0.0731286290468275.\u001b[0m\n",
      "\u001b[32m[I 2022-12-13 00:14:32,110]\u001b[0m Trial 9 finished with value: 0.0012125617579375229 and parameters: {'n_factors': 56, 'learning_rate': 0.3736613312871615, 'user_alpha': 0.09206929135726027, 'item_alpha': 0.8937185259359713, 'epochs': 5}. Best is trial 0 with value: 0.0731286290468275.\u001b[0m\n",
      "\u001b[32m[I 2022-12-13 00:15:17,580]\u001b[0m Trial 10 finished with value: 0.001316016410941808 and parameters: {'n_factors': 8, 'learning_rate': 0.714859201485679, 'user_alpha': 0.45009892534404716, 'item_alpha': 0.034797890114408495, 'epochs': 1}. Best is trial 0 with value: 0.0731286290468275.\u001b[0m\n",
      "\u001b[32m[I 2022-12-13 00:17:13,355]\u001b[0m Trial 11 finished with value: 0.003074151827619784 and parameters: {'n_factors': 8, 'learning_rate': 0.6730132753322242, 'user_alpha': 0.34130627471606706, 'item_alpha': 0.3056014009427639, 'epochs': 7}. Best is trial 0 with value: 0.0731286290468275.\u001b[0m\n",
      "\u001b[32m[I 2022-12-13 00:19:53,649]\u001b[0m Trial 12 finished with value: 0.062342336796875564 and parameters: {'n_factors': 17, 'learning_rate': 0.6416192134349235, 'user_alpha': 0.00709888333138077, 'item_alpha': 0.3321451810623677, 'epochs': 10}. Best is trial 0 with value: 0.0731286290468275.\u001b[0m\n",
      "\u001b[32m[I 2022-12-13 00:30:23,353]\u001b[0m Trial 13 finished with value: 0.008823549753462176 and parameters: {'n_factors': 18, 'learning_rate': 0.6856032026923884, 'user_alpha': 0.6355653831050336, 'item_alpha': 0.20653102422676983, 'epochs': 7}. Best is trial 0 with value: 0.0731286290468275.\u001b[0m\n",
      "\u001b[32m[I 2022-12-13 00:32:48,487]\u001b[0m Trial 14 finished with value: 0.002482772684534873 and parameters: {'n_factors': 17, 'learning_rate': 0.9534334370232799, 'user_alpha': 0.23177041664179548, 'item_alpha': 0.1440339446289403, 'epochs': 3}. Best is trial 0 with value: 0.0731286290468275.\u001b[0m\n",
      "\u001b[32m[I 2022-12-13 00:36:34,505]\u001b[0m Trial 15 finished with value: 0.052333819528369144 and parameters: {'n_factors': 34, 'learning_rate': 0.7805491665142286, 'user_alpha': 0.001831193727016735, 'item_alpha': 0.41521910419954206, 'epochs': 7}. Best is trial 0 with value: 0.0731286290468275.\u001b[0m\n",
      "\u001b[32m[I 2022-12-13 00:40:40,909]\u001b[0m Trial 16 finished with value: 0.006611030014057301 and parameters: {'n_factors': 19, 'learning_rate': 0.5916773463877778, 'user_alpha': 0.23856280757328693, 'item_alpha': 0.17288989667205273, 'epochs': 10}. Best is trial 0 with value: 0.0731286290468275.\u001b[0m\n",
      "\u001b[32m[I 2022-12-13 00:52:05,573]\u001b[0m Trial 17 finished with value: 5.585078411535728e-05 and parameters: {'n_factors': 63, 'learning_rate': 0.9865371625327954, 'user_alpha': 0.5253367766601341, 'item_alpha': 0.3419449433653847, 'epochs': 2}. Best is trial 0 with value: 0.0731286290468275.\u001b[0m\n",
      "\u001b[32m[I 2022-12-13 00:53:41,446]\u001b[0m Trial 18 finished with value: 0.02676348013675494 and parameters: {'n_factors': 26, 'learning_rate': 0.8074764046302103, 'user_alpha': 0.14525826591663993, 'item_alpha': 0.11996307962873118, 'epochs': 3}. Best is trial 0 with value: 0.0731286290468275.\u001b[0m\n",
      "\u001b[32m[I 2022-12-13 01:02:57,770]\u001b[0m Trial 19 finished with value: 0.0004166856744617971 and parameters: {'n_factors': 16, 'learning_rate': 0.5645878279572331, 'user_alpha': 0.3668593954261744, 'item_alpha': 0.7125003738470336, 'epochs': 8}. Best is trial 0 with value: 0.0731286290468275.\u001b[0m\n",
      "\u001b[32m[I 2022-12-13 01:05:41,663]\u001b[0m Trial 20 finished with value: 0.0013342463473398124 and parameters: {'n_factors': 13, 'learning_rate': 0.2502701840776026, 'user_alpha': 0.6141156003893213, 'item_alpha': 0.23813948526959666, 'epochs': 6}. Best is trial 0 with value: 0.0731286290468275.\u001b[0m\n",
      "\u001b[32m[I 2022-12-13 01:12:08,603]\u001b[0m Trial 21 finished with value: 0.03724713544875955 and parameters: {'n_factors': 34, 'learning_rate': 0.7822012642804974, 'user_alpha': 0.00599064946057119, 'item_alpha': 0.38542147829500195, 'epochs': 10}. Best is trial 0 with value: 0.0731286290468275.\u001b[0m\n",
      "\u001b[32m[I 2022-12-13 01:19:50,568]\u001b[0m Trial 22 finished with value: 5.232367913224123e-06 and parameters: {'n_factors': 30, 'learning_rate': 0.795049590546618, 'user_alpha': 0.022365614646157928, 'item_alpha': 0.459776347148114, 'epochs': 7}. Best is trial 0 with value: 0.0731286290468275.\u001b[0m\n",
      "\u001b[32m[I 2022-12-13 01:29:48,460]\u001b[0m Trial 23 finished with value: 0.0007262616090666805 and parameters: {'n_factors': 37, 'learning_rate': 0.6145796744185597, 'user_alpha': 0.17486944476182073, 'item_alpha': 0.39388024204687827, 'epochs': 8}. Best is trial 0 with value: 0.0731286290468275.\u001b[0m\n",
      "\u001b[32m[I 2022-12-13 01:32:00,964]\u001b[0m Trial 24 finished with value: 0.06687357322440672 and parameters: {'n_factors': 29, 'learning_rate': 0.8686230179211512, 'user_alpha': 0.08991349489600019, 'item_alpha': 0.08748920099784413, 'epochs': 6}. Best is trial 0 with value: 0.0731286290468275.\u001b[0m\n",
      "\u001b[32m[I 2022-12-13 01:32:53,390]\u001b[0m Trial 25 finished with value: 0.041157056441084854 and parameters: {'n_factors': 22, 'learning_rate': 0.8956993476899717, 'user_alpha': 0.0989844326308104, 'item_alpha': 0.08254008089995439, 'epochs': 2}. Best is trial 0 with value: 0.0731286290468275.\u001b[0m\n",
      "\u001b[32m[I 2022-12-13 01:39:44,213]\u001b[0m Trial 26 finished with value: 0.0028899401802256635 and parameters: {'n_factors': 28, 'learning_rate': 0.8652549778586832, 'user_alpha': 0.3118762949386602, 'item_alpha': 0.22102330651431817, 'epochs': 6}. Best is trial 0 with value: 0.0731286290468275.\u001b[0m\n",
      "\u001b[32m[I 2022-12-13 01:40:27,582]\u001b[0m Trial 27 finished with value: 0.05227194994037533 and parameters: {'n_factors': 13, 'learning_rate': 0.7261592503797341, 'user_alpha': 0.1797796191120773, 'item_alpha': 0.0004283467443254446, 'epochs': 4}. Best is trial 0 with value: 0.0731286290468275.\u001b[0m\n",
      "\u001b[32m[I 2022-12-13 01:41:59,763]\u001b[0m Trial 28 finished with value: 0.050763417391364585 and parameters: {'n_factors': 13, 'learning_rate': 0.9835611365877873, 'user_alpha': 0.07619160822631783, 'item_alpha': 0.09473060942234379, 'epochs': 8}. Best is trial 0 with value: 0.0731286290468275.\u001b[0m\n",
      "\u001b[32m[I 2022-12-13 01:44:23,894]\u001b[0m Trial 29 finished with value: 0.008911501400676642 and parameters: {'n_factors': 20, 'learning_rate': 0.5255881931691642, 'user_alpha': 0.4336876276850796, 'item_alpha': 0.2670520089540974, 'epochs': 3}. Best is trial 0 with value: 0.0731286290468275.\u001b[0m\n",
      "\u001b[32m[I 2022-12-13 01:45:16,512]\u001b[0m Trial 30 finished with value: 0.03364077783427323 and parameters: {'n_factors': 38, 'learning_rate': 0.6352860318394729, 'user_alpha': 0.06589739458997634, 'item_alpha': 0.075861007962096, 'epochs': 2}. Best is trial 0 with value: 0.0731286290468275.\u001b[0m\n",
      "\u001b[32m[I 2022-12-13 01:49:39,353]\u001b[0m Trial 31 finished with value: 0.00795441238422385 and parameters: {'n_factors': 31, 'learning_rate': 0.7922502982256365, 'user_alpha': 0.017802775321982434, 'item_alpha': 0.37879659655814885, 'epochs': 6}. Best is trial 0 with value: 0.0731286290468275.\u001b[0m\n",
      "\u001b[32m[I 2022-12-13 02:01:09,299]\u001b[0m Trial 32 finished with value: 0.0001805502639481916 and parameters: {'n_factors': 35, 'learning_rate': 0.7595592261486444, 'user_alpha': 0.1598733866280044, 'item_alpha': 0.47640370212617045, 'epochs': 7}. Best is trial 0 with value: 0.0731286290468275.\u001b[0m\n",
      "\u001b[32m[I 2022-12-13 02:10:24,650]\u001b[0m Trial 33 finished with value: 0.0005622358391031446 and parameters: {'n_factors': 43, 'learning_rate': 0.8453472806882326, 'user_alpha': 0.2731021484556657, 'item_alpha': 0.43128710183815616, 'epochs': 4}. Best is trial 0 with value: 0.0731286290468275.\u001b[0m\n",
      "\u001b[32m[I 2022-12-13 02:16:46,868]\u001b[0m Trial 34 finished with value: 0.01650290431301449 and parameters: {'n_factors': 33, 'learning_rate': 0.9297493842261673, 'user_alpha': 0.13563514546402097, 'item_alpha': 0.17441666256671098, 'epochs': 9}. Best is trial 0 with value: 0.0731286290468275.\u001b[0m\n",
      "\u001b[32m[I 2022-12-13 02:28:54,091]\u001b[0m Trial 35 finished with value: 0.004857886773449176 and parameters: {'n_factors': 48, 'learning_rate': 0.8371054243178563, 'user_alpha': 0.05912320569603975, 'item_alpha': 0.5287105457380431, 'epochs': 5}. Best is trial 0 with value: 0.0731286290468275.\u001b[0m\n",
      "\u001b[32m[I 2022-12-13 02:34:49,852]\u001b[0m Trial 36 finished with value: 0.005025450699956386 and parameters: {'n_factors': 28, 'learning_rate': 0.7372795314453215, 'user_alpha': 0.003371415776352353, 'item_alpha': 0.9269087190350811, 'epochs': 6}. Best is trial 0 with value: 0.0731286290468275.\u001b[0m\n",
      "\u001b[32m[I 2022-12-13 02:49:54,792]\u001b[0m Trial 37 finished with value: 0.001214060722276479 and parameters: {'n_factors': 40, 'learning_rate': 0.9203122957006498, 'user_alpha': 0.2020874569485931, 'item_alpha': 0.3051807197835715, 'epochs': 10}. Best is trial 0 with value: 0.0731286290468275.\u001b[0m\n",
      "\u001b[32m[I 2022-12-13 02:52:38,365]\u001b[0m Trial 38 finished with value: 0.01277347631243149 and parameters: {'n_factors': 24, 'learning_rate': 0.6740066349020567, 'user_alpha': 0.11375432985211714, 'item_alpha': 0.046090233738784285, 'epochs': 8}. Best is trial 0 with value: 0.0731286290468275.\u001b[0m\n",
      "\u001b[32m[I 2022-12-13 02:55:15,585]\u001b[0m Trial 39 finished with value: 0.003522968034666091 and parameters: {'n_factors': 15, 'learning_rate': 0.5107594867600331, 'user_alpha': 0.054994694380965214, 'item_alpha': 0.6363398594429661, 'epochs': 5}. Best is trial 0 with value: 0.0731286290468275.\u001b[0m\n",
      "\u001b[32m[I 2022-12-13 03:21:52,013]\u001b[0m Trial 40 finished with value: 0.0008061763092736645 and parameters: {'n_factors': 21, 'learning_rate': 0.8404257930773245, 'user_alpha': 0.9892543890585751, 'item_alpha': 0.8334733368867489, 'epochs': 9}. Best is trial 0 with value: 0.0731286290468275.\u001b[0m\n",
      "\u001b[32m[I 2022-12-13 03:23:12,329]\u001b[0m Trial 41 finished with value: 0.005255640568571844 and parameters: {'n_factors': 12, 'learning_rate': 0.7299181501772306, 'user_alpha': 0.18317806551213806, 'item_alpha': 0.042074187653103765, 'epochs': 4}. Best is trial 0 with value: 0.0731286290468275.\u001b[0m\n",
      "\u001b[32m[I 2022-12-13 03:23:39,888]\u001b[0m Trial 42 finished with value: 0.07235726963549845 and parameters: {'n_factors': 11, 'learning_rate': 0.6360172125233873, 'user_alpha': 0.11130716807412194, 'item_alpha': 0.002588557854572515, 'epochs': 1}. Best is trial 0 with value: 0.0731286290468275.\u001b[0m\n",
      "\u001b[32m[I 2022-12-13 03:24:04,624]\u001b[0m Trial 43 finished with value: 0.06654585942831295 and parameters: {'n_factors': 10, 'learning_rate': 0.5567870324629391, 'user_alpha': 0.1150859453843517, 'item_alpha': 0.004080038535841851, 'epochs': 1}. Best is trial 0 with value: 0.0731286290468275.\u001b[0m\n",
      "\u001b[32m[I 2022-12-13 03:24:31,426]\u001b[0m Trial 44 finished with value: 0.06565129069339984 and parameters: {'n_factors': 10, 'learning_rate': 0.45861546025356126, 'user_alpha': 0.10280899965415373, 'item_alpha': 0.0074762997709395115, 'epochs': 1}. Best is trial 0 with value: 0.0731286290468275.\u001b[0m\n",
      "\u001b[32m[I 2022-12-13 03:25:03,728]\u001b[0m Trial 45 finished with value: 0.02871445364857167 and parameters: {'n_factors': 9, 'learning_rate': 0.4080218954913654, 'user_alpha': 0.27498035480134336, 'item_alpha': 0.010787457660042445, 'epochs': 1}. Best is trial 0 with value: 0.0731286290468275.\u001b[0m\n",
      "\u001b[32m[I 2022-12-13 03:25:30,015]\u001b[0m Trial 46 finished with value: 0.06204209048190649 and parameters: {'n_factors': 11, 'learning_rate': 0.3652692997596145, 'user_alpha': 0.09799407638198519, 'item_alpha': 0.1397514152498314, 'epochs': 1}. Best is trial 0 with value: 0.0731286290468275.\u001b[0m\n",
      "\u001b[32m[I 2022-12-13 03:26:19,371]\u001b[0m Trial 47 finished with value: 0.01134317903418441 and parameters: {'n_factors': 8, 'learning_rate': 0.45582768676234225, 'user_alpha': 0.8501411297567807, 'item_alpha': 0.05693604935732236, 'epochs': 1}. Best is trial 0 with value: 0.0731286290468275.\u001b[0m\n",
      "\u001b[32m[I 2022-12-13 03:26:50,830]\u001b[0m Trial 48 finished with value: 0.049099853791278215 and parameters: {'n_factors': 10, 'learning_rate': 0.3588408331571162, 'user_alpha': 0.12963820232749365, 'item_alpha': 0.0016494049021062269, 'epochs': 2}. Best is trial 0 with value: 0.0731286290468275.\u001b[0m\n",
      "\u001b[32m[I 2022-12-13 03:27:49,536]\u001b[0m Trial 49 finished with value: 0.01860413752586202 and parameters: {'n_factors': 15, 'learning_rate': 0.29629633643758935, 'user_alpha': 0.36521662314791464, 'item_alpha': 0.10559287623186775, 'epochs': 2}. Best is trial 0 with value: 0.0731286290468275.\u001b[0m\n",
      "\u001b[32m[I 2022-12-13 03:28:20,792]\u001b[0m Trial 50 finished with value: 0.07402564336609138 and parameters: {'n_factors': 15, 'learning_rate': 0.21435508621948574, 'user_alpha': 0.23062491440584734, 'item_alpha': 0.14261838347953854, 'epochs': 1}. Best is trial 50 with value: 0.07402564336609138.\u001b[0m\n",
      "\u001b[32m[I 2022-12-13 03:28:44,564]\u001b[0m Trial 51 finished with value: 0.07381953682400047 and parameters: {'n_factors': 11, 'learning_rate': 0.16640540758716144, 'user_alpha': 0.2157707846405484, 'item_alpha': 0.17619333832905826, 'epochs': 1}. Best is trial 50 with value: 0.07402564336609138.\u001b[0m\n",
      "\u001b[32m[I 2022-12-13 03:29:13,398]\u001b[0m Trial 52 finished with value: 0.07563991492096771 and parameters: {'n_factors': 15, 'learning_rate': 0.08972226585862134, 'user_alpha': 0.21571114775365283, 'item_alpha': 0.16427682648237368, 'epochs': 1}. Best is trial 52 with value: 0.07563991492096771.\u001b[0m\n",
      "\u001b[32m[I 2022-12-13 03:29:48,574]\u001b[0m Trial 53 finished with value: 0.07446564753266754 and parameters: {'n_factors': 19, 'learning_rate': 0.15729308034460862, 'user_alpha': 0.2126477860151485, 'item_alpha': 0.17749331691462747, 'epochs': 2}. Best is trial 52 with value: 0.07563991492096771.\u001b[0m\n",
      "\u001b[32m[I 2022-12-13 03:30:26,114]\u001b[0m Trial 54 finished with value: 0.038886893432869954 and parameters: {'n_factors': 18, 'learning_rate': 0.0990744048384255, 'user_alpha': 0.276458433331744, 'item_alpha': 0.17742969883992535, 'epochs': 2}. Best is trial 52 with value: 0.07563991492096771.\u001b[0m\n",
      "\u001b[32m[I 2022-12-13 03:30:55,909]\u001b[0m Trial 55 finished with value: 0.07048923667042198 and parameters: {'n_factors': 15, 'learning_rate': 0.18348235551866582, 'user_alpha': 0.2221649201864133, 'item_alpha': 0.25751529543886886, 'epochs': 1}. Best is trial 52 with value: 0.07563991492096771.\u001b[0m\n",
      "\u001b[32m[I 2022-12-13 03:31:42,757]\u001b[0m Trial 56 finished with value: 0.04706438873268165 and parameters: {'n_factors': 19, 'learning_rate': 0.038195783388193266, 'user_alpha': 0.40561002081007747, 'item_alpha': 0.1918317179071274, 'epochs': 3}. Best is trial 52 with value: 0.07563991492096771.\u001b[0m\n",
      "\u001b[32m[I 2022-12-13 03:32:20,428]\u001b[0m Trial 57 finished with value: 0.018336506732717403 and parameters: {'n_factors': 24, 'learning_rate': 0.1694655690160362, 'user_alpha': 0.3183685709875277, 'item_alpha': 0.14195258799256666, 'epochs': 1}. Best is trial 52 with value: 0.07563991492096771.\u001b[0m\n",
      "\u001b[32m[I 2022-12-13 03:32:52,552]\u001b[0m Trial 58 finished with value: 0.06788378038904473 and parameters: {'n_factors': 14, 'learning_rate': 0.08034680766470709, 'user_alpha': 0.24999830150314686, 'item_alpha': 0.12819478099613263, 'epochs': 2}. Best is trial 52 with value: 0.07563991492096771.\u001b[0m\n",
      "\u001b[32m[I 2022-12-13 03:33:33,344]\u001b[0m Trial 59 finished with value: 0.019058627077627878 and parameters: {'n_factors': 16, 'learning_rate': 0.17470757274088078, 'user_alpha': 0.4939177916432773, 'item_alpha': 0.2057937623018853, 'epochs': 1}. Best is trial 52 with value: 0.07563991492096771.\u001b[0m\n",
      "\u001b[32m[I 2022-12-13 03:34:21,440]\u001b[0m Trial 60 finished with value: 0.010272723875446579 and parameters: {'n_factors': 12, 'learning_rate': 0.0037300146055909145, 'user_alpha': 0.7441568336334052, 'item_alpha': 0.156719338142555, 'epochs': 3}. Best is trial 52 with value: 0.07563991492096771.\u001b[0m\n",
      "\u001b[32m[I 2022-12-13 03:34:53,359]\u001b[0m Trial 61 finished with value: 0.043644417102033005 and parameters: {'n_factors': 17, 'learning_rate': 0.19425938986565677, 'user_alpha': 0.21744317660526002, 'item_alpha': 0.22966929361874988, 'epochs': 1}. Best is trial 52 with value: 0.07563991492096771.\u001b[0m\n",
      "\u001b[32m[I 2022-12-13 03:35:23,881]\u001b[0m Trial 62 finished with value: 0.07221508925450082 and parameters: {'n_factors': 15, 'learning_rate': 0.22524387174559646, 'user_alpha': 0.2081657947012931, 'item_alpha': 0.25838060107001837, 'epochs': 1}. Best is trial 52 with value: 0.07563991492096771.\u001b[0m\n",
      "\u001b[32m[I 2022-12-13 03:36:13,075]\u001b[0m Trial 63 finished with value: 0.06301786835547069 and parameters: {'n_factors': 21, 'learning_rate': 0.23619169583902888, 'user_alpha': 0.16461990968932502, 'item_alpha': 0.2728121899114534, 'epochs': 2}. Best is trial 52 with value: 0.07563991492096771.\u001b[0m\n",
      "\u001b[32m[I 2022-12-13 03:36:46,018]\u001b[0m Trial 64 finished with value: 0.012590179482904345 and parameters: {'n_factors': 13, 'learning_rate': 0.14326284879275875, 'user_alpha': 0.306890641563341, 'item_alpha': 0.06645204405366724, 'epochs': 1}. Best is trial 52 with value: 0.07563991492096771.\u001b[0m\n",
      "\u001b[32m[I 2022-12-13 03:37:25,621]\u001b[0m Trial 65 finished with value: 0.07712667232330807 and parameters: {'n_factors': 18, 'learning_rate': 0.30112589099935444, 'user_alpha': 0.20170808005297858, 'item_alpha': 0.12523508146591408, 'epochs': 2}. Best is trial 65 with value: 0.07712667232330807.\u001b[0m\n",
      "\u001b[32m[I 2022-12-13 03:38:01,823]\u001b[0m Trial 66 finished with value: 0.07138092548357533 and parameters: {'n_factors': 19, 'learning_rate': 0.2952835977640829, 'user_alpha': 0.04228746794036467, 'item_alpha': 0.10777613579605257, 'epochs': 2}. Best is trial 65 with value: 0.07712667232330807.\u001b[0m\n",
      "\u001b[32m[I 2022-12-13 03:38:39,910]\u001b[0m Trial 67 finished with value: 0.07246503288445115 and parameters: {'n_factors': 26, 'learning_rate': 0.13193725348929858, 'user_alpha': 0.15274833054297293, 'item_alpha': 0.34604856653838034, 'epochs': 2}. Best is trial 65 with value: 0.07712667232330807.\u001b[0m\n",
      "\u001b[32m[I 2022-12-13 03:39:29,028]\u001b[0m Trial 68 finished with value: 0.06997845742215474 and parameters: {'n_factors': 22, 'learning_rate': 0.12808241983666094, 'user_alpha': 0.24600622914933973, 'item_alpha': 0.3613027258798549, 'epochs': 3}. Best is trial 65 with value: 0.07712667232330807.\u001b[0m\n",
      "\u001b[32m[I 2022-12-13 03:40:14,423]\u001b[0m Trial 69 finished with value: 0.06083175981222377 and parameters: {'n_factors': 27, 'learning_rate': 0.07960230923709664, 'user_alpha': 0.35610972594475004, 'item_alpha': 0.2037250951468705, 'epochs': 2}. Best is trial 65 with value: 0.07712667232330807.\u001b[0m\n",
      "\u001b[32m[I 2022-12-13 03:41:19,595]\u001b[0m Trial 70 finished with value: 0.0031885656651024484 and parameters: {'n_factors': 17, 'learning_rate': 0.27067774425079844, 'user_alpha': 0.40247578891035307, 'item_alpha': 0.17353052796124924, 'epochs': 2}. Best is trial 65 with value: 0.07712667232330807.\u001b[0m\n",
      "\u001b[32m[I 2022-12-13 03:41:52,581]\u001b[0m Trial 71 finished with value: 0.07358944471760862 and parameters: {'n_factors': 25, 'learning_rate': 0.04703828376693808, 'user_alpha': 0.15772444611065495, 'item_alpha': 0.3211726973721044, 'epochs': 1}. Best is trial 65 with value: 0.07712667232330807.\u001b[0m\n",
      "\u001b[32m[I 2022-12-13 03:42:32,961]\u001b[0m Trial 72 finished with value: 0.06752720773005817 and parameters: {'n_factors': 25, 'learning_rate': 0.055910813920090216, 'user_alpha': 0.15400471549793582, 'item_alpha': 0.32006412606729784, 'epochs': 2}. Best is trial 65 with value: 0.07712667232330807.\u001b[0m\n",
      "\u001b[32m[I 2022-12-13 03:43:22,598]\u001b[0m Trial 73 finished with value: 0.07146231398852915 and parameters: {'n_factors': 23, 'learning_rate': 0.14703342040394046, 'user_alpha': 0.19102237467544508, 'item_alpha': 0.23750134092997532, 'epochs': 3}. Best is trial 65 with value: 0.07712667232330807.\u001b[0m\n",
      "\u001b[32m[I 2022-12-13 03:43:57,940]\u001b[0m Trial 74 finished with value: 0.05356036550571623 and parameters: {'n_factors': 19, 'learning_rate': 0.20764812552556444, 'user_alpha': 0.25655902310745576, 'item_alpha': 0.28347230158216824, 'epochs': 1}. Best is trial 65 with value: 0.07712667232330807.\u001b[0m\n",
      "\u001b[32m[I 2022-12-13 03:44:39,948]\u001b[0m Trial 75 finished with value: 0.07687827304953493 and parameters: {'n_factors': 31, 'learning_rate': 0.0068149997630965325, 'user_alpha': 0.29123421786098286, 'item_alpha': 0.3414875498493142, 'epochs': 2}. Best is trial 65 with value: 0.07712667232330807.\u001b[0m\n",
      "\u001b[32m[I 2022-12-13 03:45:18,004]\u001b[0m Trial 76 finished with value: 0.0236032831803467 and parameters: {'n_factors': 32, 'learning_rate': 0.008780916238779163, 'user_alpha': 0.2736829748856886, 'item_alpha': 0.11782188809583782, 'epochs': 1}. Best is trial 65 with value: 0.07712667232330807.\u001b[0m\n",
      "\u001b[32m[I 2022-12-13 03:46:08,530]\u001b[0m Trial 77 finished with value: 0.007160657422215206 and parameters: {'n_factors': 30, 'learning_rate': 0.055486674139976995, 'user_alpha': 0.337308380589722, 'item_alpha': 0.08946253654002068, 'epochs': 2}. Best is trial 65 with value: 0.07712667232330807.\u001b[0m\n",
      "\u001b[32m[I 2022-12-13 03:47:44,255]\u001b[0m Trial 78 finished with value: 0.07541510930949434 and parameters: {'n_factors': 63, 'learning_rate': 0.09849111371889688, 'user_alpha': 0.30795367216367187, 'item_alpha': 0.4295195620631309, 'epochs': 3}. Best is trial 65 with value: 0.07712667232330807.\u001b[0m\n",
      "\u001b[32m[I 2022-12-13 03:49:00,172]\u001b[0m Trial 79 finished with value: 0.06261054030966791 and parameters: {'n_factors': 46, 'learning_rate': 0.104721685787273, 'user_alpha': 0.29355185032774056, 'item_alpha': 0.4226065981672531, 'epochs': 3}. Best is trial 65 with value: 0.07712667232330807.\u001b[0m\n",
      "\u001b[32m[I 2022-12-13 03:49:59,812]\u001b[0m Trial 80 finished with value: 0.07384879912273024 and parameters: {'n_factors': 52, 'learning_rate': 0.02454899586931736, 'user_alpha': 0.333364392893116, 'item_alpha': 0.5073500101553883, 'epochs': 2}. Best is trial 65 with value: 0.07712667232330807.\u001b[0m\n",
      "\u001b[32m[I 2022-12-13 03:51:06,758]\u001b[0m Trial 81 finished with value: 0.07401150721577557 and parameters: {'n_factors': 63, 'learning_rate': 0.03253636243631637, 'user_alpha': 0.33018242431257927, 'item_alpha': 0.5121087537589109, 'epochs': 2}. Best is trial 65 with value: 0.07712667232330807.\u001b[0m\n",
      "\u001b[32m[I 2022-12-13 03:52:39,179]\u001b[0m Trial 82 finished with value: 0.024732733240578897 and parameters: {'n_factors': 64, 'learning_rate': 0.0818426987183588, 'user_alpha': 0.332662883362306, 'item_alpha': 0.5504013394178668, 'epochs': 2}. Best is trial 65 with value: 0.07712667232330807.\u001b[0m\n",
      "\u001b[32m[I 2022-12-13 03:53:50,082]\u001b[0m Trial 83 finished with value: 0.07473999432854132 and parameters: {'n_factors': 60, 'learning_rate': 0.027518566567382587, 'user_alpha': 0.4181983437930543, 'item_alpha': 0.4883841209025685, 'epochs': 3}. Best is trial 65 with value: 0.07712667232330807.\u001b[0m\n",
      "\u001b[32m[I 2022-12-13 03:55:14,540]\u001b[0m Trial 84 finished with value: 0.07447869465650708 and parameters: {'n_factors': 61, 'learning_rate': 0.010401213320751182, 'user_alpha': 0.4534419687374578, 'item_alpha': 0.5137481349390249, 'epochs': 4}. Best is trial 65 with value: 0.07712667232330807.\u001b[0m\n",
      "\u001b[32m[I 2022-12-13 03:56:38,385]\u001b[0m Trial 85 finished with value: 0.0725174501918665 and parameters: {'n_factors': 61, 'learning_rate': 0.0251725406786834, 'user_alpha': 0.48223865766921314, 'item_alpha': 0.46085362252772666, 'epochs': 4}. Best is trial 65 with value: 0.07712667232330807.\u001b[0m\n",
      "\u001b[32m[I 2022-12-13 03:58:22,447]\u001b[0m Trial 86 finished with value: 0.06313411853532029 and parameters: {'n_factors': 61, 'learning_rate': 0.07105981470358746, 'user_alpha': 0.40500450654919984, 'item_alpha': 0.5997152911153022, 'epochs': 3}. Best is trial 65 with value: 0.07712667232330807.\u001b[0m\n",
      "\u001b[32m[I 2022-12-13 04:00:36,102]\u001b[0m Trial 87 finished with value: 0.07645246618151993 and parameters: {'n_factors': 56, 'learning_rate': 0.10445845177439939, 'user_alpha': 0.45898104287893254, 'item_alpha': 0.5053069083061316, 'epochs': 4}. Best is trial 65 with value: 0.07712667232330807.\u001b[0m\n",
      "\u001b[32m[I 2022-12-13 04:03:19,991]\u001b[0m Trial 88 finished with value: 0.07122158714595987 and parameters: {'n_factors': 57, 'learning_rate': 0.12022966480840794, 'user_alpha': 0.5373708673035775, 'item_alpha': 0.4847746080127254, 'epochs': 4}. Best is trial 65 with value: 0.07712667232330807.\u001b[0m\n",
      "\u001b[32m[I 2022-12-13 04:05:28,243]\u001b[0m Trial 89 finished with value: 0.06901607122374744 and parameters: {'n_factors': 59, 'learning_rate': 0.09662310804428105, 'user_alpha': 0.5776366514913736, 'item_alpha': 0.6563135173591299, 'epochs': 3}. Best is trial 65 with value: 0.07712667232330807.\u001b[0m\n",
      "\u001b[32m[I 2022-12-13 04:08:32,609]\u001b[0m Trial 90 finished with value: 0.05848318215274454 and parameters: {'n_factors': 54, 'learning_rate': 0.14773395614799267, 'user_alpha': 0.43891168128334423, 'item_alpha': 0.5651007953698954, 'epochs': 4}. Best is trial 65 with value: 0.07712667232330807.\u001b[0m\n",
      "\u001b[32m[I 2022-12-13 04:11:03,474]\u001b[0m Trial 91 finished with value: 0.07399729435096405 and parameters: {'n_factors': 62, 'learning_rate': 0.002855983955576097, 'user_alpha': 0.3792357577142885, 'item_alpha': 0.5083815915174189, 'epochs': 5}. Best is trial 65 with value: 0.07712667232330807.\u001b[0m\n",
      "\u001b[32m[I 2022-12-13 04:12:22,184]\u001b[0m Trial 92 finished with value: 0.07405743662782574 and parameters: {'n_factors': 58, 'learning_rate': 0.05502410823306268, 'user_alpha': 0.4518538080164005, 'item_alpha': 0.5434053735852306, 'epochs': 3}. Best is trial 65 with value: 0.07712667232330807.\u001b[0m\n",
      "\u001b[32m[I 2022-12-13 04:14:15,429]\u001b[0m Trial 93 finished with value: 0.06469997344617026 and parameters: {'n_factors': 59, 'learning_rate': 0.10748279259061769, 'user_alpha': 0.4571818915849535, 'item_alpha': 0.43775377962716294, 'epochs': 3}. Best is trial 65 with value: 0.07712667232330807.\u001b[0m\n",
      "\u001b[32m[I 2022-12-13 04:15:57,574]\u001b[0m Trial 94 finished with value: 0.07557220265181226 and parameters: {'n_factors': 57, 'learning_rate': 0.06540689843090082, 'user_alpha': 0.45513770555661753, 'item_alpha': 0.4465093973741368, 'epochs': 4}. Best is trial 65 with value: 0.07712667232330807.\u001b[0m\n",
      "\u001b[32m[I 2022-12-13 04:17:47,213]\u001b[0m Trial 95 finished with value: 0.07617109055534464 and parameters: {'n_factors': 55, 'learning_rate': 0.0625530742674604, 'user_alpha': 0.5321237341406424, 'item_alpha': 0.40200678192519046, 'epochs': 4}. Best is trial 65 with value: 0.07712667232330807.\u001b[0m\n",
      "\u001b[32m[I 2022-12-13 04:19:36,433]\u001b[0m Trial 96 finished with value: 0.016229262603476624 and parameters: {'n_factors': 55, 'learning_rate': 0.07030152091284655, 'user_alpha': 0.5225078909800457, 'item_alpha': 0.4446218092502946, 'epochs': 4}. Best is trial 65 with value: 0.07712667232330807.\u001b[0m\n",
      "\u001b[32m[I 2022-12-13 09:15:18,504]\u001b[0m Trial 97 finished with value: 0.07280192013111232 and parameters: {'n_factors': 53, 'learning_rate': 0.015864436763342447, 'user_alpha': 0.5678306304164796, 'item_alpha': 0.4022259428237301, 'epochs': 5}. Best is trial 65 with value: 0.07712667232330807.\u001b[0m\n",
      "\u001b[32m[I 2022-12-13 09:23:21,189]\u001b[0m Trial 98 finished with value: 0.0006957777400602284 and parameters: {'n_factors': 51, 'learning_rate': 0.33618249181910187, 'user_alpha': 0.6545410546829711, 'item_alpha': 0.37280792220336356, 'epochs': 4}. Best is trial 65 with value: 0.07712667232330807.\u001b[0m\n",
      "\u001b[32m[I 2022-12-13 09:25:49,555]\u001b[0m Trial 99 finished with value: 0.03551613408904371 and parameters: {'n_factors': 56, 'learning_rate': 0.0941376108191273, 'user_alpha': 0.5197935592866686, 'item_alpha': 0.4869126348518311, 'epochs': 5}. Best is trial 65 with value: 0.07712667232330807.\u001b[0m\n"
     ]
    },
    {
     "name": "stdout",
     "output_type": "stream",
     "text": [
      "Number of finished trials: 100\n",
      "Best trial:\n",
      "  Value: 0.07712667232330807\n",
      "  Params: \n",
      "    n_factors: 18\n",
      "    learning_rate: 0.30112589099935444\n",
      "    user_alpha: 0.20170808005297858\n",
      "    item_alpha: 0.12523508146591408\n",
      "    epochs: 2\n"
     ]
    }
   ],
   "source": [
    "\n",
    "def objective_function(\n",
    "    model,\n",
    ") -> float:\n",
    "\n",
    "    model.fit(DATASET)\n",
    "    recos = model.recommend(\n",
    "        users=TEST_USERS,\n",
    "        dataset=DATASET,\n",
    "        k=K_FOR_METRIC,\n",
    "        filter_viewed=True,\n",
    "    )\n",
    "\n",
    "    return MAP(k=K_FOR_METRIC).calc(recos, TEST)\n",
    "\n",
    "def objective(trial):\n",
    "\n",
    "\n",
    "    N_FACTORS = trial.suggest_int(\"n_factors\", 8, 64)\n",
    "    LEARNING_RATE = trial.suggest_float(\"learning_rate\", 0, 1)\n",
    "    USER_ALPHA = trial.suggest_float(\"user_alpha\", 0, 1)\n",
    "    ITEM_ALPHA = trial.suggest_float(\"item_alpha\", 0, 1)\n",
    "    N_EPOCHS = trial.suggest_int(\"epochs\", 1, 10)\n",
    "\n",
    "    model = LightFMWrapperModel(\n",
    "        LightFM(\n",
    "            no_components=N_FACTORS, \n",
    "            loss='warp', \n",
    "            random_state=42,\n",
    "            learning_rate=LEARNING_RATE,\n",
    "            user_alpha=USER_ALPHA,\n",
    "            item_alpha=ITEM_ALPHA,\n",
    "        ),\n",
    "        epochs=N_EPOCHS,\n",
    "        num_threads=NUM_THREADS,\n",
    "    )\n",
    "\n",
    "    return objective_function(model)\n",
    "\n",
    "study = optuna.create_study(direction='maximize')\n",
    "study.optimize(objective, n_trials=100)\n",
    "print(\"Number of finished trials: {}\".format(len(study.trials)))\n",
    "\n",
    "print(\"Best trial:\")\n",
    "trial = study.best_trial\n",
    "\n",
    "print(\"  Value: {}\".format(trial.value))\n",
    "\n",
    "print(\"  Params: \")\n",
    "for key, value in trial.params.items():\n",
    "    print(\"    {}: {}\".format(key, value))"
   ]
  },
  {
   "attachments": {},
   "cell_type": "markdown",
   "metadata": {},
   "source": [
    "### Make optimization for ALS\n",
    "\n",
    "В целях экономии времени, т.к. LightFM считался практически 12 часов, пришлось уменьшить размер данных для ALS"
   ]
  },
  {
   "cell_type": "code",
   "execution_count": 85,
   "metadata": {},
   "outputs": [
    {
     "name": "stderr",
     "output_type": "stream",
     "text": [
      "\u001b[32m[I 2022-12-13 09:39:54,680]\u001b[0m A new study created in memory with name: no-name-97e6eec7-1e84-4725-bfc7-1856cfdcc3fe\u001b[0m\n",
      "\u001b[32m[I 2022-12-13 09:40:10,481]\u001b[0m Trial 0 finished with value: 0.028644785009254936 and parameters: {'n_factors': 8, 'regularization': 0.14800262472442505, 'iterations': 171, 'verify_negative_samples': True}. Best is trial 0 with value: 0.028644785009254936.\u001b[0m\n",
      "\u001b[32m[I 2022-12-13 09:41:01,932]\u001b[0m Trial 1 finished with value: 0.02355095935326332 and parameters: {'n_factors': 52, 'regularization': 0.8249422934192033, 'iterations': 446, 'verify_negative_samples': True}. Best is trial 0 with value: 0.028644785009254936.\u001b[0m\n",
      "\u001b[32m[I 2022-12-13 09:42:28,177]\u001b[0m Trial 2 finished with value: 0.0258039396440153 and parameters: {'n_factors': 29, 'regularization': 0.9043450288395243, 'iterations': 776, 'verify_negative_samples': True}. Best is trial 0 with value: 0.028644785009254936.\u001b[0m\n",
      "\u001b[32m[I 2022-12-13 09:43:27,018]\u001b[0m Trial 3 finished with value: 0.024718775727169965 and parameters: {'n_factors': 35, 'regularization': 0.6704216775129517, 'iterations': 501, 'verify_negative_samples': False}. Best is trial 0 with value: 0.028644785009254936.\u001b[0m\n",
      "\u001b[32m[I 2022-12-13 09:45:27,114]\u001b[0m Trial 4 finished with value: 0.026489504422040157 and parameters: {'n_factors': 25, 'regularization': 0.17116019034048446, 'iterations': 882, 'verify_negative_samples': True}. Best is trial 0 with value: 0.028644785009254936.\u001b[0m\n",
      "\u001b[32m[I 2022-12-13 09:47:00,182]\u001b[0m Trial 5 finished with value: 0.025465809740540264 and parameters: {'n_factors': 31, 'regularization': 0.7708647181056585, 'iterations': 515, 'verify_negative_samples': True}. Best is trial 0 with value: 0.028644785009254936.\u001b[0m\n",
      "\u001b[32m[I 2022-12-13 09:47:55,186]\u001b[0m Trial 6 finished with value: 0.02509490811033934 and parameters: {'n_factors': 32, 'regularization': 0.32667735139420484, 'iterations': 309, 'verify_negative_samples': False}. Best is trial 0 with value: 0.028644785009254936.\u001b[0m\n",
      "\u001b[32m[I 2022-12-13 09:48:24,013]\u001b[0m Trial 7 finished with value: 0.026952423136891397 and parameters: {'n_factors': 21, 'regularization': 0.4652486073179233, 'iterations': 144, 'verify_negative_samples': False}. Best is trial 0 with value: 0.028644785009254936.\u001b[0m\n",
      "\u001b[32m[I 2022-12-13 09:48:36,934]\u001b[0m Trial 8 finished with value: 0.02727696599075719 and parameters: {'n_factors': 13, 'regularization': 0.889820755674101, 'iterations': 58, 'verify_negative_samples': True}. Best is trial 0 with value: 0.028644785009254936.\u001b[0m\n",
      "\u001b[32m[I 2022-12-13 09:49:43,157]\u001b[0m Trial 9 finished with value: 0.02330329645344306 and parameters: {'n_factors': 59, 'regularization': 0.9065841964871703, 'iterations': 287, 'verify_negative_samples': False}. Best is trial 0 with value: 0.028644785009254936.\u001b[0m\n",
      "\u001b[32m[I 2022-12-13 09:52:08,640]\u001b[0m Trial 10 finished with value: 0.023602262836030178 and parameters: {'n_factors': 46, 'regularization': 0.06580642587727142, 'iterations': 693, 'verify_negative_samples': True}. Best is trial 0 with value: 0.028644785009254936.\u001b[0m\n",
      "\u001b[32m[I 2022-12-13 09:52:12,835]\u001b[0m Trial 11 finished with value: 0.028006619567265478 and parameters: {'n_factors': 8, 'regularization': 0.5638023157119163, 'iterations': 12, 'verify_negative_samples': True}. Best is trial 0 with value: 0.028644785009254936.\u001b[0m\n",
      "\u001b[32m[I 2022-12-13 09:52:22,969]\u001b[0m Trial 12 finished with value: 0.028158923456157312 and parameters: {'n_factors': 8, 'regularization': 0.544531405926149, 'iterations': 57, 'verify_negative_samples': True}. Best is trial 0 with value: 0.028644785009254936.\u001b[0m\n",
      "\u001b[32m[I 2022-12-13 09:53:01,212]\u001b[0m Trial 13 finished with value: 0.02701533243910222 and parameters: {'n_factors': 15, 'regularization': 0.3379722105446421, 'iterations': 218, 'verify_negative_samples': True}. Best is trial 0 with value: 0.028644785009254936.\u001b[0m\n",
      "\u001b[32m[I 2022-12-13 09:53:24,534]\u001b[0m Trial 14 finished with value: 0.028605715852670677 and parameters: {'n_factors': 8, 'regularization': 0.3285970561841326, 'iterations': 128, 'verify_negative_samples': True}. Best is trial 0 with value: 0.028644785009254936.\u001b[0m\n",
      "\u001b[32m[I 2022-12-13 09:54:35,319]\u001b[0m Trial 15 finished with value: 0.02707029126577616 and parameters: {'n_factors': 19, 'regularization': 0.2154425159136007, 'iterations': 376, 'verify_negative_samples': True}. Best is trial 0 with value: 0.028644785009254936.\u001b[0m\n",
      "\u001b[32m[I 2022-12-13 09:55:19,451]\u001b[0m Trial 16 finished with value: 0.023579090037224144 and parameters: {'n_factors': 44, 'regularization': 0.0002466057289643442, 'iterations': 204, 'verify_negative_samples': True}. Best is trial 0 with value: 0.028644785009254936.\u001b[0m\n",
      "\u001b[32m[I 2022-12-13 09:56:53,821]\u001b[0m Trial 17 finished with value: 0.027367750172284416 and parameters: {'n_factors': 16, 'regularization': 0.36319414430536917, 'iterations': 580, 'verify_negative_samples': True}. Best is trial 0 with value: 0.028644785009254936.\u001b[0m\n",
      "\u001b[32m[I 2022-12-13 10:00:15,799]\u001b[0m Trial 18 finished with value: 0.023861093282690336 and parameters: {'n_factors': 41, 'regularization': 0.1673731589254821, 'iterations': 982, 'verify_negative_samples': False}. Best is trial 0 with value: 0.028644785009254936.\u001b[0m\n",
      "\u001b[32m[I 2022-12-13 10:00:39,318]\u001b[0m Trial 19 finished with value: 0.02871826748895287 and parameters: {'n_factors': 8, 'regularization': 0.2714620700857743, 'iterations': 130, 'verify_negative_samples': True}. Best is trial 19 with value: 0.02871826748895287.\u001b[0m\n",
      "\u001b[32m[I 2022-12-13 10:01:42,042]\u001b[0m Trial 20 finished with value: 0.026617906829771523 and parameters: {'n_factors': 24, 'regularization': 0.23333980478481361, 'iterations': 348, 'verify_negative_samples': True}. Best is trial 19 with value: 0.02871826748895287.\u001b[0m\n",
      "\u001b[32m[I 2022-12-13 10:02:10,427]\u001b[0m Trial 21 finished with value: 0.02720331717247401 and parameters: {'n_factors': 11, 'regularization': 0.41701363962896515, 'iterations': 147, 'verify_negative_samples': True}. Best is trial 19 with value: 0.02871826748895287.\u001b[0m\n",
      "\u001b[32m[I 2022-12-13 10:02:39,460]\u001b[0m Trial 22 finished with value: 0.027132379280635173 and parameters: {'n_factors': 18, 'regularization': 0.11614714354833786, 'iterations': 142, 'verify_negative_samples': True}. Best is trial 19 with value: 0.02871826748895287.\u001b[0m\n",
      "\u001b[32m[I 2022-12-13 10:03:23,020]\u001b[0m Trial 23 finished with value: 0.02871994514754555 and parameters: {'n_factors': 8, 'regularization': 0.2829243835103209, 'iterations': 239, 'verify_negative_samples': True}. Best is trial 23 with value: 0.02871994514754555.\u001b[0m\n",
      "\u001b[32m[I 2022-12-13 10:04:06,885]\u001b[0m Trial 24 finished with value: 0.027422559557864667 and parameters: {'n_factors': 13, 'regularization': 0.24799398202818873, 'iterations': 241, 'verify_negative_samples': True}. Best is trial 23 with value: 0.02871994514754555.\u001b[0m\n",
      "\u001b[32m[I 2022-12-13 10:05:01,883]\u001b[0m Trial 25 finished with value: 0.02691089110285954 and parameters: {'n_factors': 22, 'regularization': 0.06431811956859593, 'iterations': 405, 'verify_negative_samples': True}. Best is trial 23 with value: 0.02871994514754555.\u001b[0m\n",
      "\u001b[32m[I 2022-12-13 10:05:26,451]\u001b[0m Trial 26 finished with value: 0.027091377355033284 and parameters: {'n_factors': 12, 'regularization': 0.2821558035711838, 'iterations': 257, 'verify_negative_samples': False}. Best is trial 23 with value: 0.02871994514754555.\u001b[0m\n",
      "\u001b[32m[I 2022-12-13 10:05:39,061]\u001b[0m Trial 27 finished with value: 0.022831044616819215 and parameters: {'n_factors': 64, 'regularization': 0.44491956313414194, 'iterations': 93, 'verify_negative_samples': True}. Best is trial 23 with value: 0.02871994514754555.\u001b[0m\n",
      "\u001b[32m[I 2022-12-13 10:06:00,427]\u001b[0m Trial 28 finished with value: 0.025777820382391167 and parameters: {'n_factors': 28, 'regularization': 0.1237460828821812, 'iterations': 197, 'verify_negative_samples': True}. Best is trial 23 with value: 0.02871994514754555.\u001b[0m\n",
      "\u001b[32m[I 2022-12-13 10:06:56,245]\u001b[0m Trial 29 finished with value: 0.02346752237725157 and parameters: {'n_factors': 53, 'regularization': 0.6111661191812976, 'iterations': 450, 'verify_negative_samples': True}. Best is trial 23 with value: 0.02871994514754555.\u001b[0m\n",
      "\u001b[32m[I 2022-12-13 10:07:00,602]\u001b[0m Trial 30 finished with value: 0.026287255314413647 and parameters: {'n_factors': 17, 'regularization': 0.017843591221815336, 'iterations': 24, 'verify_negative_samples': True}. Best is trial 23 with value: 0.02871994514754555.\u001b[0m\n",
      "\u001b[32m[I 2022-12-13 10:07:15,529]\u001b[0m Trial 31 finished with value: 0.02797096073858373 and parameters: {'n_factors': 9, 'regularization': 0.3672405263041739, 'iterations': 139, 'verify_negative_samples': True}. Best is trial 23 with value: 0.02871994514754555.\u001b[0m\n",
      "\u001b[32m[I 2022-12-13 10:07:25,313]\u001b[0m Trial 32 finished with value: 0.028442994485969195 and parameters: {'n_factors': 8, 'regularization': 0.26269216648019844, 'iterations': 98, 'verify_negative_samples': True}. Best is trial 23 with value: 0.02871994514754555.\u001b[0m\n",
      "\u001b[32m[I 2022-12-13 10:07:53,363]\u001b[0m Trial 33 finished with value: 0.02742919393275724 and parameters: {'n_factors': 13, 'regularization': 0.17829428050748378, 'iterations': 292, 'verify_negative_samples': True}. Best is trial 23 with value: 0.02871994514754555.\u001b[0m\n",
      "\u001b[32m[I 2022-12-13 10:08:10,838]\u001b[0m Trial 34 finished with value: 0.02727422083409297 and parameters: {'n_factors': 11, 'regularization': 0.29717044022111166, 'iterations': 176, 'verify_negative_samples': True}. Best is trial 23 with value: 0.02871994514754555.\u001b[0m\n",
      "\u001b[32m[I 2022-12-13 10:08:21,145]\u001b[0m Trial 35 finished with value: 0.026859491150340177 and parameters: {'n_factors': 15, 'regularization': 0.40078978274948907, 'iterations': 89, 'verify_negative_samples': True}. Best is trial 23 with value: 0.02871994514754555.\u001b[0m\n",
      "\u001b[32m[I 2022-12-13 10:08:54,742]\u001b[0m Trial 36 finished with value: 0.026255034090988536 and parameters: {'n_factors': 26, 'regularization': 0.4919888511180267, 'iterations': 319, 'verify_negative_samples': False}. Best is trial 23 with value: 0.02871994514754555.\u001b[0m\n",
      "\u001b[32m[I 2022-12-13 10:10:00,396]\u001b[0m Trial 37 finished with value: 0.02427055417712758 and parameters: {'n_factors': 36, 'regularization': 0.1409418214315558, 'iterations': 597, 'verify_negative_samples': True}. Best is trial 23 with value: 0.02871994514754555.\u001b[0m\n",
      "\u001b[32m[I 2022-12-13 10:10:44,997]\u001b[0m Trial 38 finished with value: 0.0272131694776356 and parameters: {'n_factors': 19, 'regularization': 0.7324635698738593, 'iterations': 447, 'verify_negative_samples': True}. Best is trial 23 with value: 0.02871994514754555.\u001b[0m\n",
      "\u001b[32m[I 2022-12-13 10:11:09,752]\u001b[0m Trial 39 finished with value: 0.02753668023538397 and parameters: {'n_factors': 10, 'regularization': 0.9762282754633661, 'iterations': 259, 'verify_negative_samples': False}. Best is trial 23 with value: 0.02871994514754555.\u001b[0m\n",
      "\u001b[32m[I 2022-12-13 10:12:28,552]\u001b[0m Trial 40 finished with value: 0.026964586436330252 and parameters: {'n_factors': 22, 'regularization': 0.20812649467824157, 'iterations': 761, 'verify_negative_samples': True}. Best is trial 23 with value: 0.02871994514754555.\u001b[0m\n",
      "\u001b[32m[I 2022-12-13 10:12:39,258]\u001b[0m Trial 41 finished with value: 0.02848729717703699 and parameters: {'n_factors': 8, 'regularization': 0.2768280622725747, 'iterations': 103, 'verify_negative_samples': True}. Best is trial 23 with value: 0.02871994514754555.\u001b[0m\n",
      "\u001b[32m[I 2022-12-13 10:12:51,888]\u001b[0m Trial 42 finished with value: 0.026906824331012803 and parameters: {'n_factors': 14, 'regularization': 0.3183331023788072, 'iterations': 116, 'verify_negative_samples': True}. Best is trial 23 with value: 0.02871994514754555.\u001b[0m\n",
      "\u001b[32m[I 2022-12-13 10:12:58,887]\u001b[0m Trial 43 finished with value: 0.02827289538521391 and parameters: {'n_factors': 8, 'regularization': 0.26361971231407577, 'iterations': 63, 'verify_negative_samples': True}. Best is trial 23 with value: 0.02871994514754555.\u001b[0m\n",
      "\u001b[32m[I 2022-12-13 10:13:16,447]\u001b[0m Trial 44 finished with value: 0.02764777561330043 and parameters: {'n_factors': 10, 'regularization': 0.09160385728082177, 'iterations': 179, 'verify_negative_samples': True}. Best is trial 23 with value: 0.02871994514754555.\u001b[0m\n",
      "\u001b[32m[I 2022-12-13 10:13:22,477]\u001b[0m Trial 45 finished with value: 0.02720230302164251 and parameters: {'n_factors': 12, 'regularization': 0.1820296967464587, 'iterations': 47, 'verify_negative_samples': True}. Best is trial 23 with value: 0.02871994514754555.\u001b[0m\n",
      "\u001b[32m[I 2022-12-13 10:13:40,093]\u001b[0m Trial 46 finished with value: 0.027151415563464856 and parameters: {'n_factors': 15, 'regularization': 0.3317162479867838, 'iterations': 160, 'verify_negative_samples': True}. Best is trial 23 with value: 0.02871994514754555.\u001b[0m\n",
      "\u001b[32m[I 2022-12-13 10:13:43,952]\u001b[0m Trial 47 finished with value: 0.028065062306480603 and parameters: {'n_factors': 8, 'regularization': 0.3765261536650651, 'iterations': 22, 'verify_negative_samples': False}. Best is trial 23 with value: 0.02871994514754555.\u001b[0m\n",
      "\u001b[32m[I 2022-12-13 10:14:09,400]\u001b[0m Trial 48 finished with value: 0.027133274521040928 and parameters: {'n_factors': 20, 'regularization': 0.45154513785229966, 'iterations': 228, 'verify_negative_samples': True}. Best is trial 23 with value: 0.02871994514754555.\u001b[0m\n",
      "\u001b[32m[I 2022-12-13 10:14:48,498]\u001b[0m Trial 49 finished with value: 0.025057516053357314 and parameters: {'n_factors': 33, 'regularization': 0.5335365255732762, 'iterations': 336, 'verify_negative_samples': True}. Best is trial 23 with value: 0.02871994514754555.\u001b[0m\n",
      "\u001b[32m[I 2022-12-13 10:15:17,153]\u001b[0m Trial 50 finished with value: 0.026893062980910598 and parameters: {'n_factors': 17, 'regularization': 0.2046761295177686, 'iterations': 276, 'verify_negative_samples': True}. Best is trial 23 with value: 0.02871994514754555.\u001b[0m\n",
      "\u001b[32m[I 2022-12-13 10:15:27,425]\u001b[0m Trial 51 finished with value: 0.028408802094791498 and parameters: {'n_factors': 8, 'regularization': 0.2914594551400872, 'iterations': 94, 'verify_negative_samples': True}. Best is trial 23 with value: 0.02871994514754555.\u001b[0m\n",
      "\u001b[32m[I 2022-12-13 10:15:39,720]\u001b[0m Trial 52 finished with value: 0.027147104355922217 and parameters: {'n_factors': 11, 'regularization': 0.25865167717932236, 'iterations': 115, 'verify_negative_samples': True}. Best is trial 23 with value: 0.02871994514754555.\u001b[0m\n",
      "\u001b[32m[I 2022-12-13 10:15:59,531]\u001b[0m Trial 53 finished with value: 0.027642481055210173 and parameters: {'n_factors': 10, 'regularization': 0.2315915307551934, 'iterations': 204, 'verify_negative_samples': True}. Best is trial 23 with value: 0.02871994514754555.\u001b[0m\n",
      "\u001b[32m[I 2022-12-13 10:16:10,295]\u001b[0m Trial 54 finished with value: 0.02689796654799144 and parameters: {'n_factors': 15, 'regularization': 0.34152605972680955, 'iterations': 88, 'verify_negative_samples': True}. Best is trial 23 with value: 0.02871994514754555.\u001b[0m\n",
      "\u001b[32m[I 2022-12-13 10:16:24,340]\u001b[0m Trial 55 finished with value: 0.027394467551095168 and parameters: {'n_factors': 13, 'regularization': 0.14402312420161106, 'iterations': 129, 'verify_negative_samples': True}. Best is trial 23 with value: 0.02871994514754555.\u001b[0m\n",
      "\u001b[32m[I 2022-12-13 10:16:32,350]\u001b[0m Trial 56 finished with value: 0.024182629697751784 and parameters: {'n_factors': 39, 'regularization': 0.0738921860029931, 'iterations': 52, 'verify_negative_samples': True}. Best is trial 23 with value: 0.02871994514754555.\u001b[0m\n",
      "\u001b[32m[I 2022-12-13 10:16:54,345]\u001b[0m Trial 57 finished with value: 0.028682572772054993 and parameters: {'n_factors': 8, 'regularization': 0.4189078500092982, 'iterations': 234, 'verify_negative_samples': False}. Best is trial 23 with value: 0.02871994514754555.\u001b[0m\n",
      "\u001b[32m[I 2022-12-13 10:17:31,332]\u001b[0m Trial 58 finished with value: 0.027315627112712453 and parameters: {'n_factors': 11, 'regularization': 0.41154833792939455, 'iterations': 384, 'verify_negative_samples': False}. Best is trial 23 with value: 0.02871994514754555.\u001b[0m\n",
      "\u001b[32m[I 2022-12-13 10:17:59,020]\u001b[0m Trial 59 finished with value: 0.023717308365541638 and parameters: {'n_factors': 49, 'regularization': 0.4995279249970526, 'iterations': 225, 'verify_negative_samples': False}. Best is trial 23 with value: 0.02871994514754555.\u001b[0m\n",
      "\u001b[32m[I 2022-12-13 10:18:16,748]\u001b[0m Trial 60 finished with value: 0.02735230459415321 and parameters: {'n_factors': 13, 'regularization': 0.30668204422174117, 'iterations': 171, 'verify_negative_samples': False}. Best is trial 23 with value: 0.02871994514754555.\u001b[0m\n",
      "\u001b[32m[I 2022-12-13 10:18:35,303]\u001b[0m Trial 61 finished with value: 0.02870476074838911 and parameters: {'n_factors': 8, 'regularization': 0.3786704973264786, 'iterations': 196, 'verify_negative_samples': False}. Best is trial 23 with value: 0.02871994514754555.\u001b[0m\n",
      "\u001b[32m[I 2022-12-13 10:18:53,883]\u001b[0m Trial 62 finished with value: 0.02756136758248061 and parameters: {'n_factors': 10, 'regularization': 0.3807467279246725, 'iterations': 193, 'verify_negative_samples': False}. Best is trial 23 with value: 0.02871994514754555.\u001b[0m\n",
      "\u001b[32m[I 2022-12-13 10:19:15,313]\u001b[0m Trial 63 finished with value: 0.028788608580317746 and parameters: {'n_factors': 8, 'regularization': 0.3404183964091668, 'iterations': 232, 'verify_negative_samples': False}. Best is trial 63 with value: 0.028788608580317746.\u001b[0m\n",
      "\u001b[32m[I 2022-12-13 10:19:44,450]\u001b[0m Trial 64 finished with value: 0.02735132492396377 and parameters: {'n_factors': 16, 'regularization': 0.4573841631348059, 'iterations': 305, 'verify_negative_samples': False}. Best is trial 63 with value: 0.028788608580317746.\u001b[0m\n",
      "\u001b[32m[I 2022-12-13 10:20:07,544]\u001b[0m Trial 65 finished with value: 0.02709430389967514 and parameters: {'n_factors': 12, 'regularization': 0.4230357374629149, 'iterations': 250, 'verify_negative_samples': False}. Best is trial 63 with value: 0.028788608580317746.\u001b[0m\n",
      "\u001b[32m[I 2022-12-13 10:20:28,351]\u001b[0m Trial 66 finished with value: 0.02765270692612356 and parameters: {'n_factors': 10, 'regularization': 0.34829496068692667, 'iterations': 220, 'verify_negative_samples': False}. Best is trial 63 with value: 0.028788608580317746.\u001b[0m\n",
      "\u001b[32m[I 2022-12-13 10:21:01,608]\u001b[0m Trial 67 finished with value: 0.027070494206441167 and parameters: {'n_factors': 14, 'regularization': 0.6004072193188161, 'iterations': 353, 'verify_negative_samples': False}. Best is trial 63 with value: 0.028788608580317746.\u001b[0m\n",
      "\u001b[32m[I 2022-12-13 10:21:51,575]\u001b[0m Trial 68 finished with value: 0.02771893546265689 and parameters: {'n_factors': 9, 'regularization': 0.4205988126571968, 'iterations': 543, 'verify_negative_samples': False}. Best is trial 63 with value: 0.028788608580317746.\u001b[0m\n",
      "\u001b[32m[I 2022-12-13 10:22:33,007]\u001b[0m Trial 69 finished with value: 0.027052138895902113 and parameters: {'n_factors': 17, 'regularization': 0.3968107000647737, 'iterations': 418, 'verify_negative_samples': False}. Best is trial 63 with value: 0.028788608580317746.\u001b[0m\n",
      "\u001b[32m[I 2022-12-13 10:23:07,894]\u001b[0m Trial 70 finished with value: 0.023107563858493715 and parameters: {'n_factors': 55, 'regularization': 0.4867219220939426, 'iterations': 280, 'verify_negative_samples': False}. Best is trial 63 with value: 0.028788608580317746.\u001b[0m\n",
      "\u001b[32m[I 2022-12-13 10:23:22,643]\u001b[0m Trial 71 finished with value: 0.028663475037084628 and parameters: {'n_factors': 8, 'regularization': 0.2919146970521346, 'iterations': 161, 'verify_negative_samples': False}. Best is trial 63 with value: 0.028788608580317746.\u001b[0m\n",
      "\u001b[32m[I 2022-12-13 10:23:37,310]\u001b[0m Trial 72 finished with value: 0.027050636834601162 and parameters: {'n_factors': 12, 'regularization': 0.3601251110445288, 'iterations': 153, 'verify_negative_samples': False}. Best is trial 63 with value: 0.028788608580317746.\u001b[0m\n",
      "\u001b[32m[I 2022-12-13 10:23:56,170]\u001b[0m Trial 73 finished with value: 0.02871610844180108 and parameters: {'n_factors': 8, 'regularization': 0.3062693289666899, 'iterations': 192, 'verify_negative_samples': False}. Best is trial 63 with value: 0.028788608580317746.\u001b[0m\n",
      "\u001b[32m[I 2022-12-13 10:24:20,556]\u001b[0m Trial 74 finished with value: 0.02785845301785001 and parameters: {'n_factors': 9, 'regularization': 0.22030605527375208, 'iterations': 268, 'verify_negative_samples': False}. Best is trial 63 with value: 0.028788608580317746.\u001b[0m\n",
      "\u001b[32m[I 2022-12-13 10:24:38,465]\u001b[0m Trial 75 finished with value: 0.027597944441798573 and parameters: {'n_factors': 10, 'regularization': 0.30474069583988106, 'iterations': 194, 'verify_negative_samples': False}. Best is trial 63 with value: 0.028788608580317746.\u001b[0m\n",
      "\u001b[32m[I 2022-12-13 10:24:59,166]\u001b[0m Trial 76 finished with value: 0.028766907795168044 and parameters: {'n_factors': 8, 'regularization': 0.32097726894204537, 'iterations': 239, 'verify_negative_samples': False}. Best is trial 63 with value: 0.028788608580317746.\u001b[0m\n",
      "\u001b[32m[I 2022-12-13 10:25:26,151]\u001b[0m Trial 77 finished with value: 0.028620097665970602 and parameters: {'n_factors': 8, 'regularization': 0.3418927576014253, 'iterations': 320, 'verify_negative_samples': False}. Best is trial 63 with value: 0.028788608580317746.\u001b[0m\n",
      "\u001b[32m[I 2022-12-13 10:25:49,548]\u001b[0m Trial 78 finished with value: 0.02709354914506713 and parameters: {'n_factors': 14, 'regularization': 0.2399550711357845, 'iterations': 252, 'verify_negative_samples': False}. Best is trial 63 with value: 0.028788608580317746.\u001b[0m\n",
      "\u001b[32m[I 2022-12-13 10:26:45,035]\u001b[0m Trial 79 finished with value: 0.027349058208049958 and parameters: {'n_factors': 12, 'regularization': 0.3851203394532276, 'iterations': 664, 'verify_negative_samples': False}. Best is trial 63 with value: 0.028788608580317746.\u001b[0m\n",
      "\u001b[32m[I 2022-12-13 10:28:01,668]\u001b[0m Trial 80 finished with value: 0.027313097651792035 and parameters: {'n_factors': 11, 'regularization': 0.2767045327626139, 'iterations': 865, 'verify_negative_samples': False}. Best is trial 63 with value: 0.028788608580317746.\u001b[0m\n",
      "\u001b[32m[I 2022-12-13 10:28:16,927]\u001b[0m Trial 81 finished with value: 0.028662531217167622 and parameters: {'n_factors': 8, 'regularization': 0.18537093687293316, 'iterations': 152, 'verify_negative_samples': False}. Best is trial 63 with value: 0.028788608580317746.\u001b[0m\n",
      "\u001b[32m[I 2022-12-13 10:28:36,482]\u001b[0m Trial 82 finished with value: 0.028753312078430456 and parameters: {'n_factors': 8, 'regularization': 0.3157081181582474, 'iterations': 223, 'verify_negative_samples': False}. Best is trial 63 with value: 0.028788608580317746.\u001b[0m\n",
      "\u001b[32m[I 2022-12-13 10:28:57,993]\u001b[0m Trial 83 finished with value: 0.027931224465640045 and parameters: {'n_factors': 9, 'regularization': 0.32986863018067175, 'iterations': 240, 'verify_negative_samples': False}. Best is trial 63 with value: 0.028788608580317746.\u001b[0m\n",
      "\u001b[32m[I 2022-12-13 10:29:17,511]\u001b[0m Trial 84 finished with value: 0.027385356668629356 and parameters: {'n_factors': 13, 'regularization': 0.29464841786465384, 'iterations': 188, 'verify_negative_samples': False}. Best is trial 63 with value: 0.028788608580317746.\u001b[0m\n",
      "\u001b[32m[I 2022-12-13 10:29:36,952]\u001b[0m Trial 85 finished with value: 0.027585298505661028 and parameters: {'n_factors': 10, 'regularization': 0.4404923325743451, 'iterations': 214, 'verify_negative_samples': False}. Best is trial 63 with value: 0.028788608580317746.\u001b[0m\n",
      "\u001b[32m[I 2022-12-13 10:30:02,482]\u001b[0m Trial 86 finished with value: 0.027854546468818017 and parameters: {'n_factors': 9, 'regularization': 0.36525956154020217, 'iterations': 283, 'verify_negative_samples': False}. Best is trial 63 with value: 0.028788608580317746.\u001b[0m\n",
      "\u001b[32m[I 2022-12-13 10:30:21,414]\u001b[0m Trial 87 finished with value: 0.027275370204409215 and parameters: {'n_factors': 11, 'regularization': 0.2564465987312495, 'iterations': 175, 'verify_negative_samples': False}. Best is trial 63 with value: 0.028788608580317746.\u001b[0m\n",
      "\u001b[32m[I 2022-12-13 10:30:29,727]\u001b[0m Trial 88 finished with value: 0.026661653243957528 and parameters: {'n_factors': 14, 'regularization': 0.31771973637423634, 'iterations': 69, 'verify_negative_samples': False}. Best is trial 63 with value: 0.028788608580317746.\u001b[0m\n",
      "\u001b[32m[I 2022-12-13 10:30:56,797]\u001b[0m Trial 89 finished with value: 0.028632680045760795 and parameters: {'n_factors': 8, 'regularization': 0.3116479370486251, 'iterations': 307, 'verify_negative_samples': False}. Best is trial 63 with value: 0.028788608580317746.\u001b[0m\n",
      "\u001b[32m[I 2022-12-13 10:31:09,311]\u001b[0m Trial 90 finished with value: 0.027437982307880714 and parameters: {'n_factors': 16, 'regularization': 0.5275633121178099, 'iterations': 124, 'verify_negative_samples': False}. Best is trial 63 with value: 0.028788608580317746.\u001b[0m\n",
      "\u001b[32m[I 2022-12-13 10:31:23,284]\u001b[0m Trial 91 finished with value: 0.028705682276750702 and parameters: {'n_factors': 8, 'regularization': 0.1972177412599325, 'iterations': 146, 'verify_negative_samples': False}. Best is trial 63 with value: 0.028788608580317746.\u001b[0m\n",
      "\u001b[32m[I 2022-12-13 10:31:37,663]\u001b[0m Trial 92 finished with value: 0.02709663590023334 and parameters: {'n_factors': 12, 'regularization': 0.19670561286892754, 'iterations': 143, 'verify_negative_samples': False}. Best is trial 63 with value: 0.028788608580317746.\u001b[0m\n",
      "\u001b[32m[I 2022-12-13 10:32:00,036]\u001b[0m Trial 93 finished with value: 0.02792390832398885 and parameters: {'n_factors': 9, 'regularization': 0.2854070042856303, 'iterations': 236, 'verify_negative_samples': False}. Best is trial 63 with value: 0.028788608580317746.\u001b[0m\n",
      "\u001b[32m[I 2022-12-13 10:32:20,564]\u001b[0m Trial 94 finished with value: 0.02734170443840912 and parameters: {'n_factors': 11, 'regularization': 0.23376905838502654, 'iterations': 207, 'verify_negative_samples': False}. Best is trial 63 with value: 0.028788608580317746.\u001b[0m\n",
      "\u001b[32m[I 2022-12-13 10:32:38,310]\u001b[0m Trial 95 finished with value: 0.028691926859476313 and parameters: {'n_factors': 8, 'regularization': 0.2723573475470922, 'iterations': 172, 'verify_negative_samples': False}. Best is trial 63 with value: 0.028788608580317746.\u001b[0m\n",
      "\u001b[32m[I 2022-12-13 10:32:56,130]\u001b[0m Trial 96 finished with value: 0.027644059192816435 and parameters: {'n_factors': 10, 'regularization': 0.34937172584117093, 'iterations': 177, 'verify_negative_samples': False}. Best is trial 63 with value: 0.028788608580317746.\u001b[0m\n",
      "\u001b[32m[I 2022-12-13 10:33:05,942]\u001b[0m Trial 97 finished with value: 0.02569043876576072 and parameters: {'n_factors': 29, 'regularization': 0.26097437984925587, 'iterations': 77, 'verify_negative_samples': False}. Best is trial 63 with value: 0.028788608580317746.\u001b[0m\n",
      "\u001b[32m[I 2022-12-13 10:33:17,024]\u001b[0m Trial 98 finished with value: 0.0270516206581784 and parameters: {'n_factors': 12, 'regularization': 0.3942968919821127, 'iterations': 109, 'verify_negative_samples': False}. Best is trial 63 with value: 0.028788608580317746.\u001b[0m\n",
      "\u001b[32m[I 2022-12-13 10:33:43,383]\u001b[0m Trial 99 finished with value: 0.0278601381752876 and parameters: {'n_factors': 9, 'regularization': 0.22490718851457098, 'iterations': 259, 'verify_negative_samples': False}. Best is trial 63 with value: 0.028788608580317746.\u001b[0m\n"
     ]
    },
    {
     "name": "stdout",
     "output_type": "stream",
     "text": [
      "Number of finished trials: 100\n",
      "Best trial:\n",
      "  Value: 0.028788608580317746\n",
      "  Params: \n",
      "    n_factors: 8\n",
      "    regularization: 0.3404183964091668\n",
      "    iterations: 232\n",
      "    verify_negative_samples: False\n"
     ]
    }
   ],
   "source": [
    "def objective_function(\n",
    "    model,\n",
    ") -> float:\n",
    "\n",
    "    model.fit(DATASET)\n",
    "    recos = model.recommend(\n",
    "        users=TEST_USERS,\n",
    "        dataset=DATASET,\n",
    "        k=K_FOR_METRIC,\n",
    "        filter_viewed=True,\n",
    "    )\n",
    "\n",
    "    return MAP(k=K_FOR_METRIC).calc(recos, TEST)\n",
    "\n",
    "def objective(trial):\n",
    "\n",
    "\n",
    "    N_FACTORS = trial.suggest_int(\"n_factors\", 8, 64)\n",
    "    REGULARIZATION = trial.suggest_float(\"regularization\", 0, 1)\n",
    "    ITERATIONS = trial.suggest_int(\"iterations\", 10, 1000)\n",
    "    VER_NEG_SAMPLES = trial.suggest_categorical(\"verify_negative_samples\", [True, False])\n",
    "\n",
    "    model = ImplicitALSWrapperModel(\n",
    "        AlternatingLeastSquares(\n",
    "            factors=N_FACTORS,\n",
    "            random_state=42,\n",
    "            iterations=ITERATIONS,\n",
    "            regularization=REGULARIZATION,\n",
    "            num_threads=NUM_THREADS\n",
    "        ),\n",
    "    )\n",
    "\n",
    "    return objective_function(model)\n",
    "\n",
    "study = optuna.create_study(direction='maximize')\n",
    "study.optimize(objective, n_trials=100)\n",
    "print(\"Number of finished trials: {}\".format(len(study.trials)))\n",
    "\n",
    "print(\"Best trial:\")\n",
    "trial = study.best_trial\n",
    "\n",
    "print(\"  Value: {}\".format(trial.value))\n",
    "\n",
    "print(\"  Params: \")\n",
    "for key, value in trial.params.items():\n",
    "    print(\"    {}: {}\".format(key, value))"
   ]
  }
 ],
 "metadata": {
  "kernelspec": {
   "display_name": ".notebooks",
   "language": "python",
   "name": "python3"
  },
  "language_info": {
   "codemirror_mode": {
    "name": "ipython",
    "version": 3
   },
   "file_extension": ".py",
   "mimetype": "text/x-python",
   "name": "python",
   "nbconvert_exporter": "python",
   "pygments_lexer": "ipython3",
   "version": "3.8.15 (default, Oct 12 2022, 19:14:39) \n[GCC 7.5.0]"
  },
  "toc": {
   "base_numbering": 1,
   "nav_menu": {},
   "number_sections": false,
   "sideBar": true,
   "skip_h1_title": false,
   "title_cell": "Table of Contents",
   "title_sidebar": "Contents",
   "toc_cell": false,
   "toc_position": {
    "height": "calc(100% - 180px)",
    "left": "10px",
    "top": "150px",
    "width": "222px"
   },
   "toc_section_display": true,
   "toc_window_display": true
  },
  "vscode": {
   "interpreter": {
    "hash": "cd5881303aab9b4958c820d1e6e6db8e6c9fef46b1e00555c10aeb46dc139e5d"
   }
  }
 },
 "nbformat": 4,
 "nbformat_minor": 4
}
