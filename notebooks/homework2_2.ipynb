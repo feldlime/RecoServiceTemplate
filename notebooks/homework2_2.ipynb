{
 "cells": [
  {
   "cell_type": "markdown",
   "id": "8e22254a",
   "metadata": {},
   "source": [
    "## Homework\n",
    "\n",
    "### PFound\n",
    "Исходные данные - Yandex Cup 2022 Analytics\n",
    "- Ссылка - https://yandex.ru/cup/analytics/analysis/ , пример A. Рассчитать pFound\n",
    "- Данные - https://yadi.sk/d/guqki4UI4hFlXQ\n",
    "- Формула\n",
    "$$pFound@K = \\sum_{i=1}^{k} pLook[i]\\ pRel[i]$$\n",
    "\n",
    "$$pLook[1] = 1$$\n",
    "\n",
    "$$pLook[i] = pLook[i-1]\\ (1 - pRel[i-1])\\ (1 - pBreak)$$\n",
    "\n",
    "$$pBreak = 0.15$$\n",
    "\n",
    "**Задача** - написать функцию, которая принимает на вход dataframe (после join), а на выходе дает средний pFound по всем query.\n",
    "- Запрещается использовать циклы for для расчет метрики (как полностью, так и ее частей).\n",
    "- Усложнение, если задача показалась легкой - попробуйте обойтись без groupby (не уверен, что это возможно, но вдруг вы справитесь)\n",
    "\n",
    "### MRR\n",
    "Исходные данные - результат `generate_subsample` \n",
    "\n",
    "**Задача** - по аналогии с precision написать три версии функции подсчета Mean Reciprocal Rank (naive, numba, pandas) и протестировать на разных размерах выборки\n",
    "- Протестируйте для всех комбинаций (users_count, top_k):\n",
    "  - users_count - [100, 1000, 10000, 100000]\n",
    "  - top_k - [10, 50, 100]\n",
    "- Результатом тестирования должен быть график, где будут отражены следующие показатели:\n",
    "  - Алгоритм - naive, numba, pandas\n",
    "  - Скорость работы (время)\n",
    "  - users_count\n",
    "  - top_k"
   ]
  },
  {
   "cell_type": "code",
   "execution_count": 3,
   "id": "3e6365f5",
   "metadata": {},
   "outputs": [],
   "source": [
    "import pandas as pd\n",
    "import numba as nb\n",
    "import numpy as np\n",
    "import timeit\n",
    "\n",
    "import matplotlib.pyplot as plt\n",
    "\n",
    "from rectools import Columns\n",
    "import warnings\n",
    "warnings.simplefilter(action='ignore', category=FutureWarning)"
   ]
  },
  {
   "cell_type": "code",
   "execution_count": 4,
   "id": "e6b1c41c",
   "metadata": {},
   "outputs": [],
   "source": [
    "qid_query = pd.read_csv(\"yandex_data/hidden_task/qid_query.tsv\", sep=\"\\t\", names=[\"qid\", \"query\"])\n",
    "qid_url_rating = pd.read_csv(\"yandex_data/hidden_task/qid_url_rating.tsv\", sep=\"\\t\", names=[\"qid\", \"url\", \"rating\"])\n",
    "hostid_url = pd.read_csv(\"yandex_data/hidden_task/hostid_url.tsv\", sep=\"\\t\", names=[\"hostid\", \"url\"])\n"
   ]
  },
  {
   "cell_type": "code",
   "execution_count": 8,
   "id": "1a9bebd3",
   "metadata": {},
   "outputs": [
    {
     "data": {
      "text/html": [
       "<div>\n",
       "<style scoped>\n",
       "    .dataframe tbody tr th:only-of-type {\n",
       "        vertical-align: middle;\n",
       "    }\n",
       "\n",
       "    .dataframe tbody tr th {\n",
       "        vertical-align: top;\n",
       "    }\n",
       "\n",
       "    .dataframe thead th {\n",
       "        text-align: right;\n",
       "    }\n",
       "</style>\n",
       "<table border=\"1\" class=\"dataframe\">\n",
       "  <thead>\n",
       "    <tr style=\"text-align: right;\">\n",
       "      <th></th>\n",
       "      <th>hostid</th>\n",
       "      <th>url</th>\n",
       "    </tr>\n",
       "  </thead>\n",
       "  <tbody>\n",
       "    <tr>\n",
       "      <th>0</th>\n",
       "      <td>1</td>\n",
       "      <td>http://09spravki.ru/requisites.php</td>\n",
       "    </tr>\n",
       "    <tr>\n",
       "      <th>1</th>\n",
       "      <td>10</td>\n",
       "      <td>http://3pu.info/seo-tools/domains</td>\n",
       "    </tr>\n",
       "    <tr>\n",
       "      <th>2</th>\n",
       "      <td>1006</td>\n",
       "      <td>http://www.priroda.su/item/820</td>\n",
       "    </tr>\n",
       "    <tr>\n",
       "      <th>3</th>\n",
       "      <td>1007</td>\n",
       "      <td>http://www.prisnilos.su/znaki_zodiaka/strelets...</td>\n",
       "    </tr>\n",
       "    <tr>\n",
       "      <th>4</th>\n",
       "      <td>1009</td>\n",
       "      <td>http://www.prohotel.ru/hotel-108042/0/</td>\n",
       "    </tr>\n",
       "    <tr>\n",
       "      <th>...</th>\n",
       "      <td>...</td>\n",
       "      <td>...</td>\n",
       "    </tr>\n",
       "    <tr>\n",
       "      <th>798</th>\n",
       "      <td>991</td>\n",
       "      <td>http://www.phototopic.ru/photo-art/</td>\n",
       "    </tr>\n",
       "    <tr>\n",
       "      <th>799</th>\n",
       "      <td>992</td>\n",
       "      <td>http://www.piplz.ru/page.php?id=183</td>\n",
       "    </tr>\n",
       "    <tr>\n",
       "      <th>800</th>\n",
       "      <td>995</td>\n",
       "      <td>http://www.playground.ru/cheats/il-2_shturmovi...</td>\n",
       "    </tr>\n",
       "    <tr>\n",
       "      <th>801</th>\n",
       "      <td>995</td>\n",
       "      <td>http://www.playground.ru/files/907/</td>\n",
       "    </tr>\n",
       "    <tr>\n",
       "      <th>802</th>\n",
       "      <td>996</td>\n",
       "      <td>http://www.podelkidoma.ru/node/2230</td>\n",
       "    </tr>\n",
       "  </tbody>\n",
       "</table>\n",
       "<p>803 rows × 2 columns</p>\n",
       "</div>"
      ],
      "text/plain": [
       "     hostid                                                url\n",
       "0         1                 http://09spravki.ru/requisites.php\n",
       "1        10                  http://3pu.info/seo-tools/domains\n",
       "2      1006                     http://www.priroda.su/item/820\n",
       "3      1007  http://www.prisnilos.su/znaki_zodiaka/strelets...\n",
       "4      1009             http://www.prohotel.ru/hotel-108042/0/\n",
       "..      ...                                                ...\n",
       "798     991                http://www.phototopic.ru/photo-art/\n",
       "799     992                http://www.piplz.ru/page.php?id=183\n",
       "800     995  http://www.playground.ru/cheats/il-2_shturmovi...\n",
       "801     995                http://www.playground.ru/files/907/\n",
       "802     996                http://www.podelkidoma.ru/node/2230\n",
       "\n",
       "[803 rows x 2 columns]"
      ]
     },
     "execution_count": 8,
     "metadata": {},
     "output_type": "execute_result"
    }
   ],
   "source": [
    "hostid_url"
   ]
  },
  {
   "cell_type": "markdown",
   "id": "c6b15ab0",
   "metadata": {},
   "source": [
    "### Яндекс версия plook"
   ]
  },
  {
   "cell_type": "code",
   "execution_count": 9,
   "id": "817a948b",
   "metadata": {},
   "outputs": [
    {
     "data": {
      "text/html": [
       "<div>\n",
       "<style scoped>\n",
       "    .dataframe tbody tr th:only-of-type {\n",
       "        vertical-align: middle;\n",
       "    }\n",
       "\n",
       "    .dataframe tbody tr th {\n",
       "        vertical-align: top;\n",
       "    }\n",
       "\n",
       "    .dataframe thead th {\n",
       "        text-align: right;\n",
       "    }\n",
       "</style>\n",
       "<table border=\"1\" class=\"dataframe\">\n",
       "  <thead>\n",
       "    <tr style=\"text-align: right;\">\n",
       "      <th></th>\n",
       "      <th>qid</th>\n",
       "      <th>query</th>\n",
       "    </tr>\n",
       "  </thead>\n",
       "  <tbody>\n",
       "    <tr>\n",
       "      <th>14</th>\n",
       "      <td>692308</td>\n",
       "      <td>бесплатный просмотр камеди клаб</td>\n",
       "    </tr>\n",
       "  </tbody>\n",
       "</table>\n",
       "</div>"
      ],
      "text/plain": [
       "       qid                            query\n",
       "14  692308  бесплатный просмотр камеди клаб"
      ]
     },
     "execution_count": 9,
     "metadata": {},
     "output_type": "execute_result"
    }
   ],
   "source": [
    "# делаем join двух таблиц, чтобы было просто брать url с максимальным рейтингом\n",
    "qid_url_rating_hostid = pd.merge(qid_url_rating, hostid_url, on=\"url\")\n",
    "\n",
    "\n",
    "def plook(ind, rels):\n",
    "    if ind == 0:\n",
    "        return 1\n",
    "    return plook(ind-1, rels)*(1-rels[ind-1])*(1-0.15)\n",
    "\n",
    "\n",
    "def pfound(group):\n",
    "    max_by_host = group.groupby(\"hostid\")[\"rating\"].max() # максимальный рейтинг хоста\n",
    "    top10 = max_by_host.sort_values(ascending=False)[:10] # берем топ10 урлов с наивысшим рейтингом\n",
    "    pfound = 0\n",
    "    for ind, val in enumerate(top10):\n",
    "        pfound += val*plook(ind, top10.values)\n",
    "    return pfound\n",
    "\n",
    "\n",
    "qid_pfound = qid_url_rating_hostid.groupby('qid').apply(pfound) # группируем по qid и вычисляем pfound\n",
    "qid_max = qid_pfound.idxmax() # берем qid с максимальным pfound\n",
    "\n",
    "qid_query[qid_query[\"qid\"] == qid_max]"
   ]
  },
  {
   "cell_type": "code",
   "execution_count": 46,
   "id": "74fd1b4e",
   "metadata": {},
   "outputs": [
    {
     "name": "stdout",
     "output_type": "stream",
     "text": [
      "46.4 µs ± 376 ns per loop (mean ± std. dev. of 7 runs, 10,000 loops each)\n"
     ]
    }
   ],
   "source": [
    "%%timeit\n",
    "\n",
    "qid_pfound.mean()"
   ]
  },
  {
   "cell_type": "code",
   "execution_count": 10,
   "id": "f4dcd5e8",
   "metadata": {},
   "outputs": [
    {
     "data": {
      "text/html": [
       "<div>\n",
       "<style scoped>\n",
       "    .dataframe tbody tr th:only-of-type {\n",
       "        vertical-align: middle;\n",
       "    }\n",
       "\n",
       "    .dataframe tbody tr th {\n",
       "        vertical-align: top;\n",
       "    }\n",
       "\n",
       "    .dataframe thead th {\n",
       "        text-align: right;\n",
       "    }\n",
       "</style>\n",
       "<table border=\"1\" class=\"dataframe\">\n",
       "  <thead>\n",
       "    <tr style=\"text-align: right;\">\n",
       "      <th></th>\n",
       "      <th>qid</th>\n",
       "      <th>url</th>\n",
       "      <th>rating</th>\n",
       "      <th>hostid</th>\n",
       "    </tr>\n",
       "  </thead>\n",
       "  <tbody>\n",
       "    <tr>\n",
       "      <th>0</th>\n",
       "      <td>402111</td>\n",
       "      <td>http://24-job.com/board/job_australia/232-1-2-...</td>\n",
       "      <td>0.07</td>\n",
       "      <td>7</td>\n",
       "    </tr>\n",
       "    <tr>\n",
       "      <th>1</th>\n",
       "      <td>402111</td>\n",
       "      <td>http://24-job.com/board/job_australia/232-1-2-...</td>\n",
       "      <td>0.07</td>\n",
       "      <td>7</td>\n",
       "    </tr>\n",
       "    <tr>\n",
       "      <th>2</th>\n",
       "      <td>402111</td>\n",
       "      <td>http://802351.info/5964-v-avstralii.html</td>\n",
       "      <td>0.00</td>\n",
       "      <td>13</td>\n",
       "    </tr>\n",
       "    <tr>\n",
       "      <th>3</th>\n",
       "      <td>402111</td>\n",
       "      <td>http://auscommunity.com/blog/jobs/</td>\n",
       "      <td>0.00</td>\n",
       "      <td>53</td>\n",
       "    </tr>\n",
       "    <tr>\n",
       "      <th>4</th>\n",
       "      <td>402111</td>\n",
       "      <td>http://auscommunity.com/tag/%D1%84%D0%BE%D1%82...</td>\n",
       "      <td>0.00</td>\n",
       "      <td>53</td>\n",
       "    </tr>\n",
       "    <tr>\n",
       "      <th>...</th>\n",
       "      <td>...</td>\n",
       "      <td>...</td>\n",
       "      <td>...</td>\n",
       "      <td>...</td>\n",
       "    </tr>\n",
       "    <tr>\n",
       "      <th>798</th>\n",
       "      <td>99543</td>\n",
       "      <td>http://www.youtube.com/watch?v=QDcomRWogFE</td>\n",
       "      <td>0.14</td>\n",
       "      <td>1155</td>\n",
       "    </tr>\n",
       "    <tr>\n",
       "      <th>799</th>\n",
       "      <td>99543</td>\n",
       "      <td>http://www.youtube.com/watch?v=Y3n47xZb0b4</td>\n",
       "      <td>0.14</td>\n",
       "      <td>1155</td>\n",
       "    </tr>\n",
       "    <tr>\n",
       "      <th>800</th>\n",
       "      <td>99543</td>\n",
       "      <td>http://www.yuga.ru/articles/culture?id=3378</td>\n",
       "      <td>0.00</td>\n",
       "      <td>1156</td>\n",
       "    </tr>\n",
       "    <tr>\n",
       "      <th>801</th>\n",
       "      <td>99543</td>\n",
       "      <td>http://www.zexe.de/modules.php?name=Pages&amp;pa=s...</td>\n",
       "      <td>0.14</td>\n",
       "      <td>1160</td>\n",
       "    </tr>\n",
       "    <tr>\n",
       "      <th>802</th>\n",
       "      <td>99543</td>\n",
       "      <td>http://zapil77.by.ru/kubok-kvn-g-dubna.html</td>\n",
       "      <td>0.00</td>\n",
       "      <td>1182</td>\n",
       "    </tr>\n",
       "  </tbody>\n",
       "</table>\n",
       "<p>803 rows × 4 columns</p>\n",
       "</div>"
      ],
      "text/plain": [
       "        qid                                                url  rating  hostid\n",
       "0    402111  http://24-job.com/board/job_australia/232-1-2-...    0.07       7\n",
       "1    402111  http://24-job.com/board/job_australia/232-1-2-...    0.07       7\n",
       "2    402111           http://802351.info/5964-v-avstralii.html    0.00      13\n",
       "3    402111                 http://auscommunity.com/blog/jobs/    0.00      53\n",
       "4    402111  http://auscommunity.com/tag/%D1%84%D0%BE%D1%82...    0.00      53\n",
       "..      ...                                                ...     ...     ...\n",
       "798   99543         http://www.youtube.com/watch?v=QDcomRWogFE    0.14    1155\n",
       "799   99543         http://www.youtube.com/watch?v=Y3n47xZb0b4    0.14    1155\n",
       "800   99543        http://www.yuga.ru/articles/culture?id=3378    0.00    1156\n",
       "801   99543  http://www.zexe.de/modules.php?name=Pages&pa=s...    0.14    1160\n",
       "802   99543        http://zapil77.by.ru/kubok-kvn-g-dubna.html    0.00    1182\n",
       "\n",
       "[803 rows x 4 columns]"
      ]
     },
     "execution_count": 10,
     "metadata": {},
     "output_type": "execute_result"
    }
   ],
   "source": [
    "qid_url_rating_hostid"
   ]
  },
  {
   "cell_type": "code",
   "execution_count": 42,
   "id": "6582461a",
   "metadata": {},
   "outputs": [],
   "source": [
    "def mean_pfound(df, k, p_break):\n",
    "    #удаляем адреса ссылок за ненадобностью\n",
    "    df = df.drop(['url'], axis=1)\n",
    "    # для каждого запроса оставляем одну ссылку(один хост)\n",
    "    grouped_qid_rating_hostid = df.groupby(['qid', 'hostid']).min()\n",
    "    #cортируем хосты по рейтингу\n",
    "    grouped_qid_rating_hostid = grouped_qid_rating_hostid.sort_values(['qid', 'rating'], ascending=False)\n",
    "    #нумеруем выдачу по убыванию рейтинга\n",
    "    grouped_qid_rating_hostid['order'] = grouped_qid_rating_hostid.groupby('qid').cumcount() + 1 \n",
    "    #выбираем топ к рекомендаций\n",
    "    topk_recs_for_qid = grouped_qid_rating_hostid[grouped_qid_rating_hostid['order'] <= k] \n",
    "    topk_recs_for_qid = topk_recs_for_qid.reset_index()\n",
    "    #добавляем столбец с рел-1\n",
    "    topk_recs_for_qid['pred_pReil'] = topk_recs_for_qid['rating'].shift(1) \n",
    "    # считаем второй множитель\n",
    "    topk_recs_for_qid['pLook_second'] = (1 - topk_recs_for_qid['pred_pReil']) * (1 - p_break) \n",
    "    # устанавливаем первый второй множитель равный 1\n",
    "    topk_recs_for_qid.loc[(topk_recs_for_qid['order'] == 1), 'pLook_second'] = 1 \n",
    "    # счтаем рекурсивно plook\n",
    "    topk_recs_for_qid['pLook'] = topk_recs_for_qid.groupby('qid')['pLook_second'].cumprod() \n",
    "    # считаем всю  формулу\n",
    "    topk_recs_for_qid['pFound'] = topk_recs_for_qid['pLook'] * topk_recs_for_qid['rating'] \n",
    "    \n",
    "    return topk_recs_for_qid.groupby(['qid']).sum()['pFound'].mean()\n",
    "    "
   ]
  },
  {
   "cell_type": "markdown",
   "id": "aa427778",
   "metadata": {},
   "source": [
    "### Время для нашей версии"
   ]
  },
  {
   "cell_type": "code",
   "execution_count": 43,
   "id": "d14ec621",
   "metadata": {},
   "outputs": [
    {
     "name": "stdout",
     "output_type": "stream",
     "text": [
      "6.09 ms ± 144 µs per loop (mean ± std. dev. of 7 runs, 100 loops each)\n"
     ]
    }
   ],
   "source": [
    "%%timeit\n",
    "mean_pfound(qid_url_rating_hostid, 10, 0.15)"
   ]
  },
  {
   "cell_type": "markdown",
   "id": "3d55a9b8",
   "metadata": {},
   "source": [
    "### Время для версии Яндекса"
   ]
  },
  {
   "cell_type": "code",
   "execution_count": 47,
   "id": "44773393",
   "metadata": {},
   "outputs": [
    {
     "name": "stdout",
     "output_type": "stream",
     "text": [
      "11.9 ms ± 76.4 µs per loop (mean ± std. dev. of 7 runs, 100 loops each)\n"
     ]
    }
   ],
   "source": [
    "%%timeit\n",
    "qid_pfound = qid_url_rating_hostid.groupby('qid').apply(pfound) # группируем по qid и вычисляем pfound\n",
    "qid_pfound.mean()"
   ]
  },
  {
   "cell_type": "markdown",
   "id": "50bcffe4",
   "metadata": {},
   "source": [
    "<h1>MRR</h1>"
   ]
  },
  {
   "cell_type": "code",
   "execution_count": 56,
   "id": "a9f02ada",
   "metadata": {},
   "outputs": [
    {
     "data": {
      "text/html": [
       "<div>\n",
       "<style scoped>\n",
       "    .dataframe tbody tr th:only-of-type {\n",
       "        vertical-align: middle;\n",
       "    }\n",
       "\n",
       "    .dataframe tbody tr th {\n",
       "        vertical-align: top;\n",
       "    }\n",
       "\n",
       "    .dataframe thead th {\n",
       "        text-align: right;\n",
       "    }\n",
       "</style>\n",
       "<table border=\"1\" class=\"dataframe\">\n",
       "  <thead>\n",
       "    <tr style=\"text-align: right;\">\n",
       "      <th></th>\n",
       "      <th>user_id</th>\n",
       "      <th>item_id</th>\n",
       "      <th>datetime</th>\n",
       "      <th>weight</th>\n",
       "      <th>watched_pct</th>\n",
       "    </tr>\n",
       "  </thead>\n",
       "  <tbody>\n",
       "    <tr>\n",
       "      <th>0</th>\n",
       "      <td>176549</td>\n",
       "      <td>9506</td>\n",
       "      <td>2021-05-11</td>\n",
       "      <td>4250</td>\n",
       "      <td>72.0</td>\n",
       "    </tr>\n",
       "    <tr>\n",
       "      <th>1</th>\n",
       "      <td>699317</td>\n",
       "      <td>1659</td>\n",
       "      <td>2021-05-29</td>\n",
       "      <td>8317</td>\n",
       "      <td>100.0</td>\n",
       "    </tr>\n",
       "    <tr>\n",
       "      <th>2</th>\n",
       "      <td>656683</td>\n",
       "      <td>7107</td>\n",
       "      <td>2021-05-09</td>\n",
       "      <td>10</td>\n",
       "      <td>0.0</td>\n",
       "    </tr>\n",
       "    <tr>\n",
       "      <th>3</th>\n",
       "      <td>864613</td>\n",
       "      <td>7638</td>\n",
       "      <td>2021-07-05</td>\n",
       "      <td>14483</td>\n",
       "      <td>100.0</td>\n",
       "    </tr>\n",
       "    <tr>\n",
       "      <th>4</th>\n",
       "      <td>964868</td>\n",
       "      <td>9506</td>\n",
       "      <td>2021-04-30</td>\n",
       "      <td>6725</td>\n",
       "      <td>100.0</td>\n",
       "    </tr>\n",
       "  </tbody>\n",
       "</table>\n",
       "</div>"
      ],
      "text/plain": [
       "   user_id  item_id   datetime  weight  watched_pct\n",
       "0   176549     9506 2021-05-11    4250         72.0\n",
       "1   699317     1659 2021-05-29    8317        100.0\n",
       "2   656683     7107 2021-05-09      10          0.0\n",
       "3   864613     7638 2021-07-05   14483        100.0\n",
       "4   964868     9506 2021-04-30    6725        100.0"
      ]
     },
     "execution_count": 56,
     "metadata": {},
     "output_type": "execute_result"
    }
   ],
   "source": [
    "interactions = pd.read_csv('kion_train/interactions.csv')\n",
    "interactions.rename(\n",
    "    columns={\n",
    "        'track_id': Columns.Item,\n",
    "        'last_watch_dt': Columns.Datetime,\n",
    "        'total_dur': Columns.Weight\n",
    "    }, \n",
    "    inplace=True) \n",
    "\n",
    "interactions[Columns.Datetime] = pd.to_datetime(interactions[Columns.Datetime])\n",
    "interactions.head()"
   ]
  },
  {
   "cell_type": "code",
   "execution_count": 57,
   "id": "c9d54532",
   "metadata": {},
   "outputs": [],
   "source": [
    "\n",
    "def generate_subsample(users_count, top_k):\n",
    "    users = np.random.choice(interactions[Columns.User].unique(), users_count, replace=False)\n",
    "    df = interactions[interactions[Columns.User].isin(users)].reset_index(drop=True)\n",
    "    del df[Columns.Datetime], df[Columns.Weight], df['watched_pct']\n",
    "    \n",
    "    recs = np.random.choice(df[Columns.Item], size=(users_count, top_k))\n",
    "    return df, users, recs"
   ]
  },
  {
   "cell_type": "code",
   "execution_count": 58,
   "id": "554b79c0",
   "metadata": {},
   "outputs": [],
   "source": [
    "df, users, recs = generate_subsample(5, 10)"
   ]
  },
  {
   "cell_type": "code",
   "execution_count": 65,
   "id": "539a7508",
   "metadata": {},
   "outputs": [
    {
     "data": {
      "text/html": [
       "<div>\n",
       "<style scoped>\n",
       "    .dataframe tbody tr th:only-of-type {\n",
       "        vertical-align: middle;\n",
       "    }\n",
       "\n",
       "    .dataframe tbody tr th {\n",
       "        vertical-align: top;\n",
       "    }\n",
       "\n",
       "    .dataframe thead th {\n",
       "        text-align: right;\n",
       "    }\n",
       "</style>\n",
       "<table border=\"1\" class=\"dataframe\">\n",
       "  <thead>\n",
       "    <tr style=\"text-align: right;\">\n",
       "      <th></th>\n",
       "      <th>user_id</th>\n",
       "      <th>item_id</th>\n",
       "    </tr>\n",
       "  </thead>\n",
       "  <tbody>\n",
       "    <tr>\n",
       "      <th>0</th>\n",
       "      <td>2670</td>\n",
       "      <td>8430</td>\n",
       "    </tr>\n",
       "    <tr>\n",
       "      <th>1</th>\n",
       "      <td>984583</td>\n",
       "      <td>15297</td>\n",
       "    </tr>\n",
       "    <tr>\n",
       "      <th>2</th>\n",
       "      <td>2670</td>\n",
       "      <td>13865</td>\n",
       "    </tr>\n",
       "    <tr>\n",
       "      <th>3</th>\n",
       "      <td>938094</td>\n",
       "      <td>15297</td>\n",
       "    </tr>\n",
       "    <tr>\n",
       "      <th>4</th>\n",
       "      <td>2670</td>\n",
       "      <td>3076</td>\n",
       "    </tr>\n",
       "    <tr>\n",
       "      <th>5</th>\n",
       "      <td>2670</td>\n",
       "      <td>1449</td>\n",
       "    </tr>\n",
       "    <tr>\n",
       "      <th>6</th>\n",
       "      <td>2670</td>\n",
       "      <td>7495</td>\n",
       "    </tr>\n",
       "    <tr>\n",
       "      <th>7</th>\n",
       "      <td>397285</td>\n",
       "      <td>9728</td>\n",
       "    </tr>\n",
       "    <tr>\n",
       "      <th>8</th>\n",
       "      <td>2670</td>\n",
       "      <td>10440</td>\n",
       "    </tr>\n",
       "    <tr>\n",
       "      <th>9</th>\n",
       "      <td>2670</td>\n",
       "      <td>8662</td>\n",
       "    </tr>\n",
       "    <tr>\n",
       "      <th>10</th>\n",
       "      <td>397285</td>\n",
       "      <td>13865</td>\n",
       "    </tr>\n",
       "    <tr>\n",
       "      <th>11</th>\n",
       "      <td>2670</td>\n",
       "      <td>4151</td>\n",
       "    </tr>\n",
       "    <tr>\n",
       "      <th>12</th>\n",
       "      <td>2670</td>\n",
       "      <td>6006</td>\n",
       "    </tr>\n",
       "    <tr>\n",
       "      <th>13</th>\n",
       "      <td>938094</td>\n",
       "      <td>10440</td>\n",
       "    </tr>\n",
       "    <tr>\n",
       "      <th>14</th>\n",
       "      <td>2670</td>\n",
       "      <td>285</td>\n",
       "    </tr>\n",
       "    <tr>\n",
       "      <th>15</th>\n",
       "      <td>267422</td>\n",
       "      <td>15297</td>\n",
       "    </tr>\n",
       "    <tr>\n",
       "      <th>16</th>\n",
       "      <td>397285</td>\n",
       "      <td>16447</td>\n",
       "    </tr>\n",
       "  </tbody>\n",
       "</table>\n",
       "</div>"
      ],
      "text/plain": [
       "    user_id  item_id\n",
       "0      2670     8430\n",
       "1    984583    15297\n",
       "2      2670    13865\n",
       "3    938094    15297\n",
       "4      2670     3076\n",
       "5      2670     1449\n",
       "6      2670     7495\n",
       "7    397285     9728\n",
       "8      2670    10440\n",
       "9      2670     8662\n",
       "10   397285    13865\n",
       "11     2670     4151\n",
       "12     2670     6006\n",
       "13   938094    10440\n",
       "14     2670      285\n",
       "15   267422    15297\n",
       "16   397285    16447"
      ]
     },
     "execution_count": 65,
     "metadata": {},
     "output_type": "execute_result"
    }
   ],
   "source": [
    "df"
   ]
  },
  {
   "cell_type": "markdown",
   "id": "b082a8f3",
   "metadata": {},
   "source": [
    "<h2>Naive MRR</h2>"
   ]
  },
  {
   "cell_type": "code",
   "execution_count": 71,
   "id": "88a2a3c0",
   "metadata": {},
   "outputs": [
    {
     "data": {
      "text/plain": [
       "(5, 10)"
      ]
     },
     "execution_count": 71,
     "metadata": {},
     "output_type": "execute_result"
    }
   ],
   "source": [
    "recs.shape"
   ]
  },
  {
   "cell_type": "code",
   "execution_count": 135,
   "id": "46bfc9d7",
   "metadata": {},
   "outputs": [],
   "source": [
    "def mrr_naive(df, users, recs):\n",
    "    df = df.values\n",
    "    mrr = []\n",
    "    r = 0\n",
    "    for i, user in enumerate(users):\n",
    "        #рекомендации которые мы предоставили для каждого пользователя\n",
    "        user_target = df[df[:, 0] == user][:, 1]\n",
    "        for j, rec in enumerate(recs[i]):\n",
    "            if rec in user_target:\n",
    "                r = 1/(j+1)\n",
    "                break\n",
    "            else:\n",
    "                r = 0\n",
    "        mrr.append(r)\n",
    "    return sum(mrr)/len(users)"
   ]
  },
  {
   "cell_type": "code",
   "execution_count": 88,
   "id": "56d5a5fa",
   "metadata": {},
   "outputs": [
    {
     "data": {
      "text/plain": [
       "(5, 10)"
      ]
     },
     "execution_count": 88,
     "metadata": {},
     "output_type": "execute_result"
    }
   ],
   "source": [
    "recs.shape"
   ]
  },
  {
   "cell_type": "markdown",
   "id": "7725be61",
   "metadata": {},
   "source": [
    "<h2>Pandas MRR</h2>"
   ]
  },
  {
   "cell_type": "code",
   "execution_count": 131,
   "id": "996051a1",
   "metadata": {},
   "outputs": [],
   "source": [
    "def mrr_pandas(df, users, recs):\n",
    "    k = recs.shape[1]\n",
    "    #мапим предикты по юзерам\n",
    "    df_recs = pd.DataFrame({'user_id': np.repeat(users, k), 'item_id': recs.ravel()})\n",
    "    #нумеруем\n",
    "    df_recs['rank'] = df_recs.groupby('user_id').cumcount() + 1\n",
    "    df['is_rec'] = 1\n",
    "    # мержим предсказанные рекомендации и топ рекомендаций\n",
    "    df_recs = df_recs.merge(df, how='left', left_on=['user_id', 'item_id'], right_on=['user_id', 'item_id'])\n",
    "    df_recs['reverse_rank'] = 0\n",
    "    #считаем обратный ранг\n",
    "    df_recs.loc[~df_recs['is_rec'].isna(), 'reverse_rank'] = 1/(df_recs.loc[~df_recs['is_rec'].isna(), 'rank'])\n",
    "    #считаем мрр\n",
    "    mrr = df_recs.groupby('user_id')['reverse_rank'].max().sum()/len(users)\n",
    "    return mrr"
   ]
  },
  {
   "cell_type": "code",
   "execution_count": 132,
   "id": "5c52c032",
   "metadata": {},
   "outputs": [
    {
     "name": "stdout",
     "output_type": "stream",
     "text": [
      "CPU times: user 9.29 ms, sys: 0 ns, total: 9.29 ms\n",
      "Wall time: 8.7 ms\n"
     ]
    },
    {
     "data": {
      "text/plain": [
       "0.5952380952380951"
      ]
     },
     "execution_count": 132,
     "metadata": {},
     "output_type": "execute_result"
    }
   ],
   "source": [
    "%%time\n",
    "mrr_pandas(df, users, recs)\n"
   ]
  },
  {
   "cell_type": "markdown",
   "id": "eaf1c08f",
   "metadata": {},
   "source": [
    "<h2>Numba MRR</h2>"
   ]
  },
  {
   "cell_type": "code",
   "execution_count": 110,
   "id": "c9a7fc23",
   "metadata": {},
   "outputs": [],
   "source": [
    "@nb.njit(cache=True, parallel=True)\n",
    "def mrr_numba(df,users, recs):\n",
    "    result_mrr = np.zeros(len(users))\n",
    "    for i in nb.prange(len(users)):\n",
    "        mrr = 0.0\n",
    "        user = users[i]\n",
    "        user_target = df[df[:, 0] == user][:, 1]\n",
    "        for j, rec in enumerate(recs[i]):\n",
    "            if rec in user_target:\n",
    "                mrr = 1 / (j + 1)\n",
    "                break\n",
    "        result_mrr[i] = mrr\n",
    "    return result_mrr.mean()\n"
   ]
  },
  {
   "cell_type": "markdown",
   "id": "dacdeddf",
   "metadata": {},
   "source": [
    "<h2>Посчитаем время выполнения каждого варианта MRR</h2>"
   ]
  },
  {
   "cell_type": "code",
   "execution_count": 69,
   "id": "4b1b16b7",
   "metadata": {},
   "outputs": [],
   "source": [
    "interactions = pd.read_csv('itmo_recsys_2022-main/Lecture 2. Validation and metrics/data_original/interactions.csv')\n",
    "\n",
    "interactions.rename(\n",
    "    columns={\n",
    "        'track_id': Columns.Item,\n",
    "        'last_watch_dt': Columns.Datetime,\n",
    "        'total_dur': Columns.Weight\n",
    "    }, \n",
    "    inplace=True) \n",
    "\n",
    "interactions[Columns.Datetime] = pd.to_datetime(interactions[Columns.Datetime])"
   ]
  },
  {
   "cell_type": "code",
   "execution_count": 144,
   "id": "4f2fd91c",
   "metadata": {},
   "outputs": [],
   "source": [
    "k = 10\n",
    "users_count = 500\n",
    "df, users, recs = generate_subsample(users_count, k)"
   ]
  },
  {
   "cell_type": "code",
   "execution_count": 145,
   "id": "83f713c0",
   "metadata": {},
   "outputs": [
    {
     "name": "stdout",
     "output_type": "stream",
     "text": [
      "CPU times: user 44.7 ms, sys: 36 µs, total: 44.7 ms\n",
      "Wall time: 43.7 ms\n"
     ]
    },
    {
     "data": {
      "text/plain": [
       "0.08071031746031751"
      ]
     },
     "execution_count": 145,
     "metadata": {},
     "output_type": "execute_result"
    }
   ],
   "source": [
    "%%time\n",
    "mrr_naive(df, users, recs)\n"
   ]
  },
  {
   "cell_type": "code",
   "execution_count": 146,
   "id": "5eb1521f",
   "metadata": {},
   "outputs": [
    {
     "name": "stdout",
     "output_type": "stream",
     "text": [
      "CPU times: user 11.5 ms, sys: 307 µs, total: 11.8 ms\n",
      "Wall time: 11 ms\n"
     ]
    },
    {
     "data": {
      "text/plain": [
       "0.08071031746031747"
      ]
     },
     "execution_count": 146,
     "metadata": {},
     "output_type": "execute_result"
    }
   ],
   "source": [
    "%%time\n",
    "mrr_pandas(df, users, recs)\n"
   ]
  },
  {
   "cell_type": "code",
   "execution_count": 147,
   "id": "04d5bce7",
   "metadata": {},
   "outputs": [
    {
     "name": "stdout",
     "output_type": "stream",
     "text": [
      "CPU times: user 12.5 ms, sys: 852 µs, total: 13.3 ms\n",
      "Wall time: 1.91 ms\n"
     ]
    },
    {
     "data": {
      "text/plain": [
       "0.08071031746031751"
      ]
     },
     "execution_count": 147,
     "metadata": {},
     "output_type": "execute_result"
    }
   ],
   "source": [
    "%%time\n",
    "numba_df = df.values\n",
    "mrr_numba(numba_df, users, recs)"
   ]
  },
  {
   "cell_type": "code",
   "execution_count": 150,
   "id": "4f48c5a2",
   "metadata": {},
   "outputs": [
    {
     "name": "stdout",
     "output_type": "stream",
     "text": [
      "naive time:  0.003796584001975134  users count:  100  k:  10\n",
      "pandas time:   0.004949385998770595  users count:  100  k:  10\n",
      "numba time:   0.00034717298694886267  users count:  100  k:  10\n",
      "naive time:  0.05121344397775829  users count:  1000  k:  10\n",
      "pandas time:   0.006708186992909759  users count:  1000  k:  10\n",
      "numba time:   0.0013563729880843312  users count:  1000  k:  10\n",
      "naive time:  1.722203895013081  users count:  10000  k:  10\n",
      "pandas time:   0.030056372022954747  users count:  10000  k:  10\n",
      "numba time:   0.012372347002383322  users count:  10000  k:  10\n",
      "naive time:  137.41401208398747  users count:  100000  k:  10\n",
      "pandas time:   0.37413178200949915  users count:  100000  k:  10\n",
      "numba time:   0.1008931009855587  users count:  100000  k:  10\n",
      "naive time:  0.009184988011838868  users count:  100  k:  50\n",
      "pandas time:   0.005074802000308409  users count:  100  k:  50\n",
      "numba time:   0.00030590497772209346  users count:  100  k:  50\n",
      "naive time:  0.11997458699624985  users count:  1000  k:  50\n",
      "pandas time:   0.01263167499564588  users count:  1000  k:  50\n",
      "numba time:   0.0013918099866714329  users count:  1000  k:  50\n",
      "naive time:  2.4131311810051557  users count:  10000  k:  50\n",
      "pandas time:   0.11044166298233904  users count:  10000  k:  50\n",
      "numba time:   0.01190424698870629  users count:  10000  k:  50\n",
      "naive time:  143.71774987797835  users count:  100000  k:  50\n",
      "pandas time:   1.4879757619928569  users count:  100000  k:  50\n",
      "numba time:   0.10402216998045333  users count:  100000  k:  50\n",
      "naive time:  0.013346421997994184  users count:  100  k:  100\n",
      "pandas time:   0.006170133012346923  users count:  100  k:  100\n",
      "numba time:   0.00028369398205541074  users count:  100  k:  100\n",
      "naive time:  0.18573405899223872  users count:  1000  k:  100\n",
      "pandas time:   0.01877001899993047  users count:  1000  k:  100\n",
      "numba time:   0.001356844004476443  users count:  1000  k:  100\n",
      "naive time:  3.146148619998712  users count:  10000  k:  100\n",
      "pandas time:   0.22592882401659153  users count:  10000  k:  100\n",
      "numba time:   0.012274123000679538  users count:  10000  k:  100\n",
      "naive time:  149.75765111800865  users count:  100000  k:  100\n",
      "pandas time:   3.1909726400044747  users count:  100000  k:  100\n",
      "numba time:   0.08039634101442061  users count:  100000  k:  100\n"
     ]
    }
   ],
   "source": [
    "\n",
    "users_count = [100, 1000, 10000, 100000]\n",
    "top_k = [10, 50, 100]\n",
    "\n",
    "naive_time = []\n",
    "numba_time = []\n",
    "pandas_time = []\n",
    "\n",
    "for k in top_k:\n",
    "    time_k_naive = []\n",
    "    time_k_pandas = []\n",
    "    time_k_numba = []\n",
    "    \n",
    "    for j in range(len(users_count)):\n",
    "        df, users, recs = generate_subsample(users_count[j], k)\n",
    "        target = df.values\n",
    "        time = timeit.timeit('mrr_naive(df, users, recs)', \"from __main__ import mrr_naive, df, users, recs\", number = 1)\n",
    "        time_k_naive.append(time)\n",
    "        print(\"naive time: \", time, \" users count: \", users_count[j], \" k: \", k)\n",
    "        time = timeit.timeit('mrr_pandas(df, users, recs)', \"from __main__ import mrr_pandas, df, users, recs\", number = 1)\n",
    "        time_k_pandas.append(time)\n",
    "        print(\"pandas time:  \", time, \" users count: \", users_count[j], \" k: \", k)\n",
    "        time = timeit.timeit('mrr_numba(numba_df, users, recs)', \"from __main__ import mrr_numba, numba_df, users, recs\", number = 1)\n",
    "        time_k_numba.append(time)\n",
    "        print(\"numba time:  \", time, \" users count: \", users_count[j], \" k: \", k)\n",
    "\n",
    "    naive_time.append(time_k_naive)    \n",
    "    numba_time.append(time_k_numba)    \n",
    "    pandas_time.append(time_k_pandas)"
   ]
  },
  {
   "cell_type": "markdown",
   "id": "6030a292",
   "metadata": {},
   "source": [
    "<h2>Скорость работы в зависимости от количества пользователей при разном К</h2>"
   ]
  },
  {
   "cell_type": "code",
   "execution_count": 151,
   "id": "0b00c374",
   "metadata": {},
   "outputs": [
    {
     "data": {
      "image/png": "[encoded data removed]",
      "text/plain": [
       "<Figure size 1000x1500 with 3 Axes>"
      ]
     },
     "metadata": {},
     "output_type": "display_data"
    }
   ],
   "source": [
    "fx, ax = plt.subplots(3, figsize=(10, 15))\n",
    "for i in range(3):\n",
    "    ax[i].plot(users_count, naive_time[i], label='naive')\n",
    "    ax[i].plot(users_count, numba_time[i], label='numba')\n",
    "    ax[i].plot(users_count, pandas_time[i], label='pandas')\n",
    "    ax[i].set_title(f'top_k {top_k[i]}')\n",
    "    ax[i].set_ylabel('time')\n",
    "    ax[i].set_xlabel('users_count')\n",
    "    ax[i].set_ylim(0, 200)\n",
    "    ax[i].legend()\n",
    "plt.show()\n"
   ]
  },
  {
   "cell_type": "code",
   "execution_count": null,
   "id": "ec8acf86",
   "metadata": {},
   "outputs": [],
   "source": []
  }
 ],
 "metadata": {
  "kernelspec": {
   "display_name": "Python 3 (ipykernel)",
   "language": "python",
   "name": "python3"
  },
  "language_info": {
   "codemirror_mode": {
    "name": "ipython",
    "version": 3
   },
   "file_extension": ".py",
   "mimetype": "text/x-python",
   "name": "python",
   "nbconvert_exporter": "python",
   "pygments_lexer": "ipython3",
   "version": "3.8.15"
  }
 },
 "nbformat": 4,
 "nbformat_minor": 5
}
