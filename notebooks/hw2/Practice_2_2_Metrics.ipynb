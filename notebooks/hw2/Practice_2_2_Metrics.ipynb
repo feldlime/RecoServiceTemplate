{
 "cells": [
  {
   "cell_type": "markdown",
   "id": "a00c6db1",
   "metadata": {
    "pycharm": {
     "name": "#%% md\n"
    }
   },
   "source": [
    "# Метрики\n",
    "\n",
    "## Imports"
   ]
  },
  {
   "cell_type": "code",
   "execution_count": 5,
   "id": "14dec809",
   "metadata": {
    "ExecuteTime": {
     "end_time": "2022-11-16T13:16:59.822474Z",
     "start_time": "2022-11-16T13:16:58.134477Z"
    },
    "pycharm": {
     "name": "#%%\n"
    }
   },
   "outputs": [],
   "source": [
    "import time\n",
    "\n",
    "import matplotlib.pyplot as plt\n",
    "import pandas as pd\n",
    "import numpy as np\n",
    "import numba as nb\n",
    "\n",
    "from tqdm.auto import tqdm\n",
    "from rectools import Columns"
   ]
  },
  {
   "cell_type": "code",
   "execution_count": 6,
   "id": "e3551b5e",
   "metadata": {
    "ExecuteTime": {
     "end_time": "2022-11-16T13:16:59.838475Z",
     "start_time": "2022-11-16T13:16:59.825476Z"
    },
    "pycharm": {
     "name": "#%%\n"
    }
   },
   "outputs": [],
   "source": [
    "np.random.seed(23)"
   ]
  },
  {
   "cell_type": "markdown",
   "id": "d636a7d5",
   "metadata": {
    "pycharm": {
     "name": "#%% md\n"
    }
   },
   "source": [
    "## Read data"
   ]
  },
  {
   "cell_type": "code",
   "execution_count": 7,
   "id": "8b021111",
   "metadata": {
    "ExecuteTime": {
     "end_time": "2022-11-16T13:17:02.540473Z",
     "start_time": "2022-11-16T13:16:59.841479Z"
    },
    "pycharm": {
     "name": "#%%\n"
    }
   },
   "outputs": [],
   "source": [
    "interactions = pd.read_csv('data_original/interactions.csv')\n",
    "\n",
    "interactions.rename(\n",
    "    columns={\n",
    "        'track_id': Columns.Item,\n",
    "        'last_watch_dt': Columns.Datetime,\n",
    "        'total_dur': Columns.Weight\n",
    "    },\n",
    "    inplace=True)\n",
    "\n",
    "interactions[Columns.Datetime] = pd.to_datetime(interactions[Columns.Datetime])"
   ]
  },
  {
   "cell_type": "code",
   "execution_count": 8,
   "id": "1170099f",
   "metadata": {
    "ExecuteTime": {
     "end_time": "2022-11-16T13:17:03.522473Z",
     "start_time": "2022-11-16T13:17:02.544478Z"
    },
    "pycharm": {
     "name": "#%%\n"
    }
   },
   "outputs": [],
   "source": [
    "users = pd.read_csv('data_original/users.csv')\n",
    "items = pd.read_csv('data_original/items.csv')"
   ]
  },
  {
   "cell_type": "code",
   "execution_count": 9,
   "id": "ebc85847",
   "metadata": {
    "ExecuteTime": {
     "end_time": "2022-11-16T13:17:03.553474Z",
     "start_time": "2022-11-16T13:17:03.525477Z"
    },
    "pycharm": {
     "name": "#%%\n"
    }
   },
   "outputs": [
    {
     "data": {
      "text/plain": "         user_id  item_id   datetime  weight  watched_pct\n0         176549     9506 2021-05-11    4250         72.0\n1         699317     1659 2021-05-29    8317        100.0\n2         656683     7107 2021-05-09      10          0.0\n3         864613     7638 2021-07-05   14483        100.0\n4         964868     9506 2021-04-30    6725        100.0\n5476246   648596    12225 2021-08-13      76          0.0\n5476247   546862     9673 2021-04-13    2308         49.0\n5476248   697262    15297 2021-08-20   18307         63.0\n5476249   384202    16197 2021-04-19    6203        100.0\n5476250   319709     4436 2021-08-15    3921         45.0",
      "text/html": "<div>\n<style scoped>\n    .dataframe tbody tr th:only-of-type {\n        vertical-align: middle;\n    }\n\n    .dataframe tbody tr th {\n        vertical-align: top;\n    }\n\n    .dataframe thead th {\n        text-align: right;\n    }\n</style>\n<table border=\"1\" class=\"dataframe\">\n  <thead>\n    <tr style=\"text-align: right;\">\n      <th></th>\n      <th>user_id</th>\n      <th>item_id</th>\n      <th>datetime</th>\n      <th>weight</th>\n      <th>watched_pct</th>\n    </tr>\n  </thead>\n  <tbody>\n    <tr>\n      <th>0</th>\n      <td>176549</td>\n      <td>9506</td>\n      <td>2021-05-11</td>\n      <td>4250</td>\n      <td>72.0</td>\n    </tr>\n    <tr>\n      <th>1</th>\n      <td>699317</td>\n      <td>1659</td>\n      <td>2021-05-29</td>\n      <td>8317</td>\n      <td>100.0</td>\n    </tr>\n    <tr>\n      <th>2</th>\n      <td>656683</td>\n      <td>7107</td>\n      <td>2021-05-09</td>\n      <td>10</td>\n      <td>0.0</td>\n    </tr>\n    <tr>\n      <th>3</th>\n      <td>864613</td>\n      <td>7638</td>\n      <td>2021-07-05</td>\n      <td>14483</td>\n      <td>100.0</td>\n    </tr>\n    <tr>\n      <th>4</th>\n      <td>964868</td>\n      <td>9506</td>\n      <td>2021-04-30</td>\n      <td>6725</td>\n      <td>100.0</td>\n    </tr>\n    <tr>\n      <th>5476246</th>\n      <td>648596</td>\n      <td>12225</td>\n      <td>2021-08-13</td>\n      <td>76</td>\n      <td>0.0</td>\n    </tr>\n    <tr>\n      <th>5476247</th>\n      <td>546862</td>\n      <td>9673</td>\n      <td>2021-04-13</td>\n      <td>2308</td>\n      <td>49.0</td>\n    </tr>\n    <tr>\n      <th>5476248</th>\n      <td>697262</td>\n      <td>15297</td>\n      <td>2021-08-20</td>\n      <td>18307</td>\n      <td>63.0</td>\n    </tr>\n    <tr>\n      <th>5476249</th>\n      <td>384202</td>\n      <td>16197</td>\n      <td>2021-04-19</td>\n      <td>6203</td>\n      <td>100.0</td>\n    </tr>\n    <tr>\n      <th>5476250</th>\n      <td>319709</td>\n      <td>4436</td>\n      <td>2021-08-15</td>\n      <td>3921</td>\n      <td>45.0</td>\n    </tr>\n  </tbody>\n</table>\n</div>"
     },
     "execution_count": 9,
     "metadata": {},
     "output_type": "execute_result"
    }
   ],
   "source": [
    "def headtail(df):\n",
    "    return pd.concat([df.head(), df.tail()])\n",
    "\n",
    "headtail(interactions)"
   ]
  },
  {
   "cell_type": "code",
   "execution_count": 10,
   "id": "5cc82806",
   "metadata": {
    "ExecuteTime": {
     "end_time": "2022-11-16T13:17:03.569476Z",
     "start_time": "2022-11-16T13:17:03.556474Z"
    },
    "pycharm": {
     "name": "#%%\n"
    }
   },
   "outputs": [
    {
     "name": "stdout",
     "output_type": "stream",
     "text": [
      "<class 'pandas.core.frame.DataFrame'>\n",
      "RangeIndex: 5476251 entries, 0 to 5476250\n",
      "Data columns (total 5 columns):\n",
      " #   Column       Dtype         \n",
      "---  ------       -----         \n",
      " 0   user_id      int64         \n",
      " 1   item_id      int64         \n",
      " 2   datetime     datetime64[ns]\n",
      " 3   weight       int64         \n",
      " 4   watched_pct  float64       \n",
      "dtypes: datetime64[ns](1), float64(1), int64(3)\n",
      "memory usage: 208.9 MB\n"
     ]
    }
   ],
   "source": [
    "interactions.info(memory_usage='deep')"
   ]
  },
  {
   "cell_type": "markdown",
   "id": "ff9a7f8e",
   "metadata": {
    "pycharm": {
     "name": "#%% md\n"
    }
   },
   "source": [
    "Выделим небольшой кусок из данных, чтобы не слишком страдать"
   ]
  },
  {
   "cell_type": "code",
   "execution_count": 11,
   "id": "5b28d22e",
   "metadata": {
    "ExecuteTime": {
     "end_time": "2022-11-16T13:17:03.617474Z",
     "start_time": "2022-11-16T13:17:03.571473Z"
    },
    "pycharm": {
     "name": "#%%\n"
    }
   },
   "outputs": [
    {
     "data": {
      "text/plain": "   user_id  item_id\n0    70720     4880\n1    57607     4151\n2    57607    10440\n3    70720     4881\n4   403227     6353\n5   403227     1736\n6    70720     6327\n7    57607    13865\n8   403227     5336\n9   403227      181",
      "text/html": "<div>\n<style scoped>\n    .dataframe tbody tr th:only-of-type {\n        vertical-align: middle;\n    }\n\n    .dataframe tbody tr th {\n        vertical-align: top;\n    }\n\n    .dataframe thead th {\n        text-align: right;\n    }\n</style>\n<table border=\"1\" class=\"dataframe\">\n  <thead>\n    <tr style=\"text-align: right;\">\n      <th></th>\n      <th>user_id</th>\n      <th>item_id</th>\n    </tr>\n  </thead>\n  <tbody>\n    <tr>\n      <th>0</th>\n      <td>70720</td>\n      <td>4880</td>\n    </tr>\n    <tr>\n      <th>1</th>\n      <td>57607</td>\n      <td>4151</td>\n    </tr>\n    <tr>\n      <th>2</th>\n      <td>57607</td>\n      <td>10440</td>\n    </tr>\n    <tr>\n      <th>3</th>\n      <td>70720</td>\n      <td>4881</td>\n    </tr>\n    <tr>\n      <th>4</th>\n      <td>403227</td>\n      <td>6353</td>\n    </tr>\n    <tr>\n      <th>5</th>\n      <td>403227</td>\n      <td>1736</td>\n    </tr>\n    <tr>\n      <th>6</th>\n      <td>70720</td>\n      <td>6327</td>\n    </tr>\n    <tr>\n      <th>7</th>\n      <td>57607</td>\n      <td>13865</td>\n    </tr>\n    <tr>\n      <th>8</th>\n      <td>403227</td>\n      <td>5336</td>\n    </tr>\n    <tr>\n      <th>9</th>\n      <td>403227</td>\n      <td>181</td>\n    </tr>\n  </tbody>\n</table>\n</div>"
     },
     "execution_count": 11,
     "metadata": {},
     "output_type": "execute_result"
    }
   ],
   "source": [
    "sample_users = [57607, 403227, 70720]\n",
    "df = interactions[interactions[Columns.User].isin(sample_users)].reset_index(drop=True)\n",
    "del df[Columns.Datetime], df[Columns.Weight], df['watched_pct']\n",
    "df"
   ]
  },
  {
   "cell_type": "code",
   "execution_count": 12,
   "id": "c1923b07",
   "metadata": {
    "ExecuteTime": {
     "end_time": "2022-11-16T13:17:03.632473Z",
     "start_time": "2022-11-16T13:17:03.620473Z"
    },
    "pycharm": {
     "name": "#%%\n"
    }
   },
   "outputs": [
    {
     "name": "stdout",
     "output_type": "stream",
     "text": [
      "Users [ 70720  57607 403227]\n",
      "Items [ 4880  4151 10440  4881  6353  1736  6327 13865  5336   181]\n"
     ]
    }
   ],
   "source": [
    "print('Users', df[Columns.User].unique())\n",
    "sample_items = df[Columns.Item].unique()\n",
    "print('Items', sample_items)"
   ]
  },
  {
   "cell_type": "markdown",
   "id": "cac10ba7",
   "metadata": {
    "pycharm": {
     "name": "#%% md\n"
    }
   },
   "source": [
    "## Regression"
   ]
  },
  {
   "cell_type": "markdown",
   "id": "a221215f",
   "metadata": {
    "pycharm": {
     "name": "#%% md\n"
    }
   },
   "source": [
    "В регрессией все относительно просто. По (user, item) мы знаем таргет (рейтинг чаще всего) и по такой же паре предсказываем его"
   ]
  },
  {
   "cell_type": "code",
   "execution_count": 13,
   "id": "6de45176",
   "metadata": {
    "ExecuteTime": {
     "end_time": "2022-11-16T13:17:03.648474Z",
     "start_time": "2022-11-16T13:17:03.635475Z"
    },
    "pycharm": {
     "name": "#%%\n"
    }
   },
   "outputs": [
    {
     "data": {
      "text/plain": "   user_id  item_id  target   predict\n0    70720     4880       5  2.658958\n1    57607     4151       3  4.500017\n2    57607    10440       4  3.280296\n3    70720     4881       5  4.263719\n4   403227     6353       3  4.990597\n5   403227     1736       4  2.000249\n6    70720     6327       3  4.927865\n7    57607    13865       5  3.257364\n8   403227     5336       4  4.044672\n9   403227      181       5  4.257889",
      "text/html": "<div>\n<style scoped>\n    .dataframe tbody tr th:only-of-type {\n        vertical-align: middle;\n    }\n\n    .dataframe tbody tr th {\n        vertical-align: top;\n    }\n\n    .dataframe thead th {\n        text-align: right;\n    }\n</style>\n<table border=\"1\" class=\"dataframe\">\n  <thead>\n    <tr style=\"text-align: right;\">\n      <th></th>\n      <th>user_id</th>\n      <th>item_id</th>\n      <th>target</th>\n      <th>predict</th>\n    </tr>\n  </thead>\n  <tbody>\n    <tr>\n      <th>0</th>\n      <td>70720</td>\n      <td>4880</td>\n      <td>5</td>\n      <td>2.658958</td>\n    </tr>\n    <tr>\n      <th>1</th>\n      <td>57607</td>\n      <td>4151</td>\n      <td>3</td>\n      <td>4.500017</td>\n    </tr>\n    <tr>\n      <th>2</th>\n      <td>57607</td>\n      <td>10440</td>\n      <td>4</td>\n      <td>3.280296</td>\n    </tr>\n    <tr>\n      <th>3</th>\n      <td>70720</td>\n      <td>4881</td>\n      <td>5</td>\n      <td>4.263719</td>\n    </tr>\n    <tr>\n      <th>4</th>\n      <td>403227</td>\n      <td>6353</td>\n      <td>3</td>\n      <td>4.990597</td>\n    </tr>\n    <tr>\n      <th>5</th>\n      <td>403227</td>\n      <td>1736</td>\n      <td>4</td>\n      <td>2.000249</td>\n    </tr>\n    <tr>\n      <th>6</th>\n      <td>70720</td>\n      <td>6327</td>\n      <td>3</td>\n      <td>4.927865</td>\n    </tr>\n    <tr>\n      <th>7</th>\n      <td>57607</td>\n      <td>13865</td>\n      <td>5</td>\n      <td>3.257364</td>\n    </tr>\n    <tr>\n      <th>8</th>\n      <td>403227</td>\n      <td>5336</td>\n      <td>4</td>\n      <td>4.044672</td>\n    </tr>\n    <tr>\n      <th>9</th>\n      <td>403227</td>\n      <td>181</td>\n      <td>5</td>\n      <td>4.257889</td>\n    </tr>\n  </tbody>\n</table>\n</div>"
     },
     "execution_count": 13,
     "metadata": {},
     "output_type": "execute_result"
    }
   ],
   "source": [
    "df['target'] = np.random.choice([3, 4, 5], df.shape[0])\n",
    "df['predict'] = np.random.rand(df.shape[0]) * 3 + 2\n",
    "df"
   ]
  },
  {
   "cell_type": "markdown",
   "id": "5eab0e11",
   "metadata": {
    "pycharm": {
     "name": "#%% md\n"
    }
   },
   "source": [
    "Общая оценка"
   ]
  },
  {
   "cell_type": "code",
   "execution_count": 14,
   "id": "51351ab5",
   "metadata": {
    "ExecuteTime": {
     "end_time": "2022-11-16T13:17:03.663474Z",
     "start_time": "2022-11-16T13:17:03.650474Z"
    },
    "pycharm": {
     "name": "#%%\n"
    }
   },
   "outputs": [
    {
     "name": "stdout",
     "output_type": "stream",
     "text": [
      "1.374467645324227\n"
     ]
    }
   ],
   "source": [
    "mae = (df['target'] - df['predict']).abs().mean()\n",
    "print(mae)"
   ]
  },
  {
   "cell_type": "markdown",
   "id": "0f057a3b",
   "metadata": {
    "pycharm": {
     "name": "#%% md\n"
    }
   },
   "source": [
    "Оценка по пользователю с последюущим усреднением"
   ]
  },
  {
   "cell_type": "code",
   "execution_count": 15,
   "id": "b6bce9b4",
   "metadata": {
    "ExecuteTime": {
     "end_time": "2022-11-16T13:17:03.679529Z",
     "start_time": "2022-11-16T13:17:03.670474Z"
    },
    "pycharm": {
     "name": "#%%\n"
    }
   },
   "outputs": [
    {
     "name": "stdout",
     "output_type": "stream",
     "text": [
      "1.3944881931989215\n"
     ]
    },
    {
     "data": {
      "text/plain": "user_id\n57607     1.320786\n70720     1.668396\n403227    1.194283\nName: diff, dtype: float64"
     },
     "execution_count": 15,
     "metadata": {},
     "output_type": "execute_result"
    }
   ],
   "source": [
    "df['diff'] = (df['target'] - df['predict']).abs()\n",
    "average_mae = df.groupby(Columns.User)['diff'].mean()\n",
    "print(average_mae.mean())\n",
    "average_mae"
   ]
  },
  {
   "cell_type": "markdown",
   "id": "0aa59b8a",
   "metadata": {
    "pycharm": {
     "name": "#%% md\n"
    }
   },
   "source": [
    "Видно, что в данном случае метрики близки к друг другу, но это не всегда так"
   ]
  },
  {
   "cell_type": "code",
   "execution_count": 16,
   "id": "878224ff",
   "metadata": {
    "ExecuteTime": {
     "end_time": "2022-11-16T13:17:03.695472Z",
     "start_time": "2022-11-16T13:17:03.682474Z"
    },
    "pycharm": {
     "name": "#%%\n"
    }
   },
   "outputs": [],
   "source": [
    "del df['target'], df['predict'], df['diff']"
   ]
  },
  {
   "cell_type": "markdown",
   "id": "89997f8e",
   "metadata": {
    "pycharm": {
     "name": "#%% md\n"
    }
   },
   "source": [
    "## Classification"
   ]
  },
  {
   "cell_type": "markdown",
   "id": "70b402f4",
   "metadata": {
    "pycharm": {
     "name": "#%% md\n"
    }
   },
   "source": [
    "Сгенерируем случайные рекомендации."
   ]
  },
  {
   "cell_type": "code",
   "execution_count": 17,
   "id": "98c0b7d8",
   "metadata": {
    "ExecuteTime": {
     "end_time": "2022-11-16T13:17:03.711473Z",
     "start_time": "2022-11-16T13:17:03.697474Z"
    },
    "pycharm": {
     "name": "#%%\n"
    }
   },
   "outputs": [
    {
     "data": {
      "text/plain": "array([[ 4880,  6327, 10440,  1736,  4881],\n       [  181,  1736,  4880, 13865,  6353],\n       [ 4151,  4881,  6353, 10440,  1736]])"
     },
     "execution_count": 17,
     "metadata": {},
     "output_type": "execute_result"
    }
   ],
   "source": [
    "top_k = 5\n",
    "recs = np.array([\n",
    "    np.random.choice(sample_items, top_k, replace=False),\n",
    "    np.random.choice(sample_items, top_k, replace=False),\n",
    "    np.random.choice(sample_items, top_k, replace=False),\n",
    "])\n",
    "recs"
   ]
  },
  {
   "cell_type": "markdown",
   "id": "b7945394",
   "metadata": {
    "pycharm": {
     "name": "#%% md\n"
    }
   },
   "source": [
    "Преобразуем в длинный датафрейм"
   ]
  },
  {
   "cell_type": "code",
   "execution_count": 18,
   "id": "2aaad704",
   "metadata": {
    "ExecuteTime": {
     "end_time": "2022-11-16T13:17:03.726473Z",
     "start_time": "2022-11-16T13:17:03.714475Z"
    },
    "pycharm": {
     "name": "#%%\n"
    }
   },
   "outputs": [
    {
     "data": {
      "text/plain": "    user_id  item_id\n0     57607     4880\n1     57607     6327\n2     57607    10440\n3     57607     1736\n4     57607     4881\n5    403227      181\n6    403227     1736\n7    403227     4880\n8    403227    13865\n9    403227     6353\n10    70720     4151\n11    70720     4881\n12    70720     6353\n13    70720    10440\n14    70720     1736",
      "text/html": "<div>\n<style scoped>\n    .dataframe tbody tr th:only-of-type {\n        vertical-align: middle;\n    }\n\n    .dataframe tbody tr th {\n        vertical-align: top;\n    }\n\n    .dataframe thead th {\n        text-align: right;\n    }\n</style>\n<table border=\"1\" class=\"dataframe\">\n  <thead>\n    <tr style=\"text-align: right;\">\n      <th></th>\n      <th>user_id</th>\n      <th>item_id</th>\n    </tr>\n  </thead>\n  <tbody>\n    <tr>\n      <th>0</th>\n      <td>57607</td>\n      <td>4880</td>\n    </tr>\n    <tr>\n      <th>1</th>\n      <td>57607</td>\n      <td>6327</td>\n    </tr>\n    <tr>\n      <th>2</th>\n      <td>57607</td>\n      <td>10440</td>\n    </tr>\n    <tr>\n      <th>3</th>\n      <td>57607</td>\n      <td>1736</td>\n    </tr>\n    <tr>\n      <th>4</th>\n      <td>57607</td>\n      <td>4881</td>\n    </tr>\n    <tr>\n      <th>5</th>\n      <td>403227</td>\n      <td>181</td>\n    </tr>\n    <tr>\n      <th>6</th>\n      <td>403227</td>\n      <td>1736</td>\n    </tr>\n    <tr>\n      <th>7</th>\n      <td>403227</td>\n      <td>4880</td>\n    </tr>\n    <tr>\n      <th>8</th>\n      <td>403227</td>\n      <td>13865</td>\n    </tr>\n    <tr>\n      <th>9</th>\n      <td>403227</td>\n      <td>6353</td>\n    </tr>\n    <tr>\n      <th>10</th>\n      <td>70720</td>\n      <td>4151</td>\n    </tr>\n    <tr>\n      <th>11</th>\n      <td>70720</td>\n      <td>4881</td>\n    </tr>\n    <tr>\n      <th>12</th>\n      <td>70720</td>\n      <td>6353</td>\n    </tr>\n    <tr>\n      <th>13</th>\n      <td>70720</td>\n      <td>10440</td>\n    </tr>\n    <tr>\n      <th>14</th>\n      <td>70720</td>\n      <td>1736</td>\n    </tr>\n  </tbody>\n</table>\n</div>"
     },
     "execution_count": 18,
     "metadata": {},
     "output_type": "execute_result"
    }
   ],
   "source": [
    "df_recs = pd.DataFrame({\n",
    "    Columns.User: np.repeat(sample_users, top_k),\n",
    "    Columns.Item: recs.ravel()\n",
    "})\n",
    "df_recs"
   ]
  },
  {
   "cell_type": "code",
   "execution_count": 19,
   "id": "82f64f64",
   "metadata": {
    "ExecuteTime": {
     "end_time": "2022-11-16T13:17:03.741474Z",
     "start_time": "2022-11-16T13:17:03.728475Z"
    },
    "pycharm": {
     "name": "#%%\n"
    }
   },
   "outputs": [
    {
     "data": {
      "text/plain": "    user_id  item_id  rank\n0     57607     4880     1\n1     57607     6327     2\n2     57607    10440     3\n3     57607     1736     4\n4     57607     4881     5\n10    70720     4151     1\n11    70720     4881     2\n12    70720     6353     3\n13    70720    10440     4\n14    70720     1736     5",
      "text/html": "<div>\n<style scoped>\n    .dataframe tbody tr th:only-of-type {\n        vertical-align: middle;\n    }\n\n    .dataframe tbody tr th {\n        vertical-align: top;\n    }\n\n    .dataframe thead th {\n        text-align: right;\n    }\n</style>\n<table border=\"1\" class=\"dataframe\">\n  <thead>\n    <tr style=\"text-align: right;\">\n      <th></th>\n      <th>user_id</th>\n      <th>item_id</th>\n      <th>rank</th>\n    </tr>\n  </thead>\n  <tbody>\n    <tr>\n      <th>0</th>\n      <td>57607</td>\n      <td>4880</td>\n      <td>1</td>\n    </tr>\n    <tr>\n      <th>1</th>\n      <td>57607</td>\n      <td>6327</td>\n      <td>2</td>\n    </tr>\n    <tr>\n      <th>2</th>\n      <td>57607</td>\n      <td>10440</td>\n      <td>3</td>\n    </tr>\n    <tr>\n      <th>3</th>\n      <td>57607</td>\n      <td>1736</td>\n      <td>4</td>\n    </tr>\n    <tr>\n      <th>4</th>\n      <td>57607</td>\n      <td>4881</td>\n      <td>5</td>\n    </tr>\n    <tr>\n      <th>10</th>\n      <td>70720</td>\n      <td>4151</td>\n      <td>1</td>\n    </tr>\n    <tr>\n      <th>11</th>\n      <td>70720</td>\n      <td>4881</td>\n      <td>2</td>\n    </tr>\n    <tr>\n      <th>12</th>\n      <td>70720</td>\n      <td>6353</td>\n      <td>3</td>\n    </tr>\n    <tr>\n      <th>13</th>\n      <td>70720</td>\n      <td>10440</td>\n      <td>4</td>\n    </tr>\n    <tr>\n      <th>14</th>\n      <td>70720</td>\n      <td>1736</td>\n      <td>5</td>\n    </tr>\n  </tbody>\n</table>\n</div>"
     },
     "execution_count": 19,
     "metadata": {},
     "output_type": "execute_result"
    }
   ],
   "source": [
    "df_recs[Columns.Rank] = df_recs.groupby(Columns.User).cumcount() + 1\n",
    "headtail(df_recs)"
   ]
  },
  {
   "cell_type": "markdown",
   "id": "919c480a",
   "metadata": {
    "pycharm": {
     "name": "#%% md\n"
    }
   },
   "source": [
    "Ключевой момент. Именно ради него преобразовывали данные и именно это позволяет считать метрики быстрее."
   ]
  },
  {
   "cell_type": "code",
   "execution_count": 20,
   "id": "7014b438",
   "metadata": {
    "ExecuteTime": {
     "end_time": "2022-11-16T13:17:03.771473Z",
     "start_time": "2022-11-16T13:17:03.743474Z"
    },
    "pycharm": {
     "name": "#%%\n"
    }
   },
   "outputs": [
    {
     "data": {
      "text/plain": "   user_id  item_id  rank\n2    57607    10440   3.0\n1    57607     4151   NaN\n7    57607    13865   NaN\n3    70720     4881   2.0\n0    70720     4880   NaN\n6    70720     6327   NaN\n9   403227      181   1.0\n5   403227     1736   2.0\n4   403227     6353   5.0\n8   403227     5336   NaN",
      "text/html": "<div>\n<style scoped>\n    .dataframe tbody tr th:only-of-type {\n        vertical-align: middle;\n    }\n\n    .dataframe tbody tr th {\n        vertical-align: top;\n    }\n\n    .dataframe thead th {\n        text-align: right;\n    }\n</style>\n<table border=\"1\" class=\"dataframe\">\n  <thead>\n    <tr style=\"text-align: right;\">\n      <th></th>\n      <th>user_id</th>\n      <th>item_id</th>\n      <th>rank</th>\n    </tr>\n  </thead>\n  <tbody>\n    <tr>\n      <th>2</th>\n      <td>57607</td>\n      <td>10440</td>\n      <td>3.0</td>\n    </tr>\n    <tr>\n      <th>1</th>\n      <td>57607</td>\n      <td>4151</td>\n      <td>NaN</td>\n    </tr>\n    <tr>\n      <th>7</th>\n      <td>57607</td>\n      <td>13865</td>\n      <td>NaN</td>\n    </tr>\n    <tr>\n      <th>3</th>\n      <td>70720</td>\n      <td>4881</td>\n      <td>2.0</td>\n    </tr>\n    <tr>\n      <th>0</th>\n      <td>70720</td>\n      <td>4880</td>\n      <td>NaN</td>\n    </tr>\n    <tr>\n      <th>6</th>\n      <td>70720</td>\n      <td>6327</td>\n      <td>NaN</td>\n    </tr>\n    <tr>\n      <th>9</th>\n      <td>403227</td>\n      <td>181</td>\n      <td>1.0</td>\n    </tr>\n    <tr>\n      <th>5</th>\n      <td>403227</td>\n      <td>1736</td>\n      <td>2.0</td>\n    </tr>\n    <tr>\n      <th>4</th>\n      <td>403227</td>\n      <td>6353</td>\n      <td>5.0</td>\n    </tr>\n    <tr>\n      <th>8</th>\n      <td>403227</td>\n      <td>5336</td>\n      <td>NaN</td>\n    </tr>\n  </tbody>\n</table>\n</div>"
     },
     "execution_count": 20,
     "metadata": {},
     "output_type": "execute_result"
    }
   ],
   "source": [
    "df_recs = df.merge(df_recs, how='left', left_on=Columns.UserItem, right_on=Columns.UserItem)\n",
    "df_recs = df_recs.sort_values(by=[Columns.User, Columns.Rank])\n",
    "df_recs"
   ]
  },
  {
   "cell_type": "markdown",
   "id": "cb5a6c12",
   "metadata": {
    "pycharm": {
     "name": "#%% md\n"
    }
   },
   "source": [
    "### Precision@K"
   ]
  },
  {
   "cell_type": "code",
   "execution_count": 21,
   "id": "d4f9efb1",
   "metadata": {
    "ExecuteTime": {
     "end_time": "2022-11-16T13:17:03.787474Z",
     "start_time": "2022-11-16T13:17:03.774473Z"
    },
    "pycharm": {
     "name": "#%%\n"
    }
   },
   "outputs": [
    {
     "data": {
      "text/plain": "   user_id  item_id  rank   TP@5\n2    57607    10440   3.0   True\n1    57607     4151   NaN  False\n7    57607    13865   NaN  False\n3    70720     4881   2.0   True\n0    70720     4880   NaN  False\n6    70720     6327   NaN  False\n9   403227      181   1.0   True\n5   403227     1736   2.0   True\n4   403227     6353   5.0   True\n8   403227     5336   NaN  False",
      "text/html": "<div>\n<style scoped>\n    .dataframe tbody tr th:only-of-type {\n        vertical-align: middle;\n    }\n\n    .dataframe tbody tr th {\n        vertical-align: top;\n    }\n\n    .dataframe thead th {\n        text-align: right;\n    }\n</style>\n<table border=\"1\" class=\"dataframe\">\n  <thead>\n    <tr style=\"text-align: right;\">\n      <th></th>\n      <th>user_id</th>\n      <th>item_id</th>\n      <th>rank</th>\n      <th>TP@5</th>\n    </tr>\n  </thead>\n  <tbody>\n    <tr>\n      <th>2</th>\n      <td>57607</td>\n      <td>10440</td>\n      <td>3.0</td>\n      <td>True</td>\n    </tr>\n    <tr>\n      <th>1</th>\n      <td>57607</td>\n      <td>4151</td>\n      <td>NaN</td>\n      <td>False</td>\n    </tr>\n    <tr>\n      <th>7</th>\n      <td>57607</td>\n      <td>13865</td>\n      <td>NaN</td>\n      <td>False</td>\n    </tr>\n    <tr>\n      <th>3</th>\n      <td>70720</td>\n      <td>4881</td>\n      <td>2.0</td>\n      <td>True</td>\n    </tr>\n    <tr>\n      <th>0</th>\n      <td>70720</td>\n      <td>4880</td>\n      <td>NaN</td>\n      <td>False</td>\n    </tr>\n    <tr>\n      <th>6</th>\n      <td>70720</td>\n      <td>6327</td>\n      <td>NaN</td>\n      <td>False</td>\n    </tr>\n    <tr>\n      <th>9</th>\n      <td>403227</td>\n      <td>181</td>\n      <td>1.0</td>\n      <td>True</td>\n    </tr>\n    <tr>\n      <th>5</th>\n      <td>403227</td>\n      <td>1736</td>\n      <td>2.0</td>\n      <td>True</td>\n    </tr>\n    <tr>\n      <th>4</th>\n      <td>403227</td>\n      <td>6353</td>\n      <td>5.0</td>\n      <td>True</td>\n    </tr>\n    <tr>\n      <th>8</th>\n      <td>403227</td>\n      <td>5336</td>\n      <td>NaN</td>\n      <td>False</td>\n    </tr>\n  </tbody>\n</table>\n</div>"
     },
     "execution_count": 21,
     "metadata": {},
     "output_type": "execute_result"
    }
   ],
   "source": [
    "df_recs[f'TP@5'] = df_recs['rank'] < 6\n",
    "df_recs"
   ]
  },
  {
   "cell_type": "code",
   "execution_count": 22,
   "id": "dd7c9237",
   "metadata": {
    "ExecuteTime": {
     "end_time": "2022-11-16T13:17:03.803474Z",
     "start_time": "2022-11-16T13:17:03.790477Z"
    },
    "pycharm": {
     "name": "#%%\n"
    }
   },
   "outputs": [
    {
     "data": {
      "text/plain": "   user_id  item_id  rank  TP@5\n2    57607    10440   3.0  True\n3    70720     4881   2.0  True\n9   403227      181   1.0  True\n5   403227     1736   2.0  True\n4   403227     6353   5.0  True",
      "text/html": "<div>\n<style scoped>\n    .dataframe tbody tr th:only-of-type {\n        vertical-align: middle;\n    }\n\n    .dataframe tbody tr th {\n        vertical-align: top;\n    }\n\n    .dataframe thead th {\n        text-align: right;\n    }\n</style>\n<table border=\"1\" class=\"dataframe\">\n  <thead>\n    <tr style=\"text-align: right;\">\n      <th></th>\n      <th>user_id</th>\n      <th>item_id</th>\n      <th>rank</th>\n      <th>TP@5</th>\n    </tr>\n  </thead>\n  <tbody>\n    <tr>\n      <th>2</th>\n      <td>57607</td>\n      <td>10440</td>\n      <td>3.0</td>\n      <td>True</td>\n    </tr>\n    <tr>\n      <th>3</th>\n      <td>70720</td>\n      <td>4881</td>\n      <td>2.0</td>\n      <td>True</td>\n    </tr>\n    <tr>\n      <th>9</th>\n      <td>403227</td>\n      <td>181</td>\n      <td>1.0</td>\n      <td>True</td>\n    </tr>\n    <tr>\n      <th>5</th>\n      <td>403227</td>\n      <td>1736</td>\n      <td>2.0</td>\n      <td>True</td>\n    </tr>\n    <tr>\n      <th>4</th>\n      <td>403227</td>\n      <td>6353</td>\n      <td>5.0</td>\n      <td>True</td>\n    </tr>\n  </tbody>\n</table>\n</div>"
     },
     "execution_count": 22,
     "metadata": {},
     "output_type": "execute_result"
    }
   ],
   "source": [
    "df_recs[df_recs[Columns.Rank].notnull()]"
   ]
  },
  {
   "cell_type": "markdown",
   "id": "7569f5e0",
   "metadata": {
    "ExecuteTime": {
     "end_time": "2022-11-15T15:26:25.757836Z",
     "start_time": "2022-11-15T15:26:25.738834Z"
    },
    "pycharm": {
     "name": "#%% md\n"
    }
   },
   "source": [
    "Посчитаем вручную (1/5 + 1/5 + 3/5) / 3"
   ]
  },
  {
   "cell_type": "code",
   "execution_count": 23,
   "id": "d3c0c214",
   "metadata": {
    "ExecuteTime": {
     "end_time": "2022-11-16T13:17:03.819474Z",
     "start_time": "2022-11-16T13:17:03.806474Z"
    },
    "pycharm": {
     "name": "#%%\n"
    }
   },
   "outputs": [
    {
     "name": "stdout",
     "output_type": "stream",
     "text": [
      "Precision@5 = 0.3333333333333333\n"
     ]
    }
   ],
   "source": [
    "df_recs['TP@5/5'] = df_recs['TP@5'] / top_k\n",
    "\n",
    "p5 = df_recs.groupby(Columns.User)['TP@5/5'].sum().mean()\n",
    "\n",
    "print(f'Precision@5 = {p5}')"
   ]
  },
  {
   "cell_type": "code",
   "execution_count": 24,
   "id": "0ff4fd10",
   "metadata": {
    "ExecuteTime": {
     "end_time": "2022-11-16T13:17:03.850473Z",
     "start_time": "2022-11-16T13:17:03.822474Z"
    },
    "pycharm": {
     "name": "#%%\n"
    }
   },
   "outputs": [
    {
     "data": {
      "text/plain": "   user_id  item_id  rank   TP@5  TP@5/5\n2    57607    10440   3.0   True     0.2\n1    57607     4151   NaN  False     0.0\n7    57607    13865   NaN  False     0.0\n3    70720     4881   2.0   True     0.2\n0    70720     4880   NaN  False     0.0\n6    70720     6327   NaN  False     0.0\n9   403227      181   1.0   True     0.2\n5   403227     1736   2.0   True     0.2\n4   403227     6353   5.0   True     0.2\n8   403227     5336   NaN  False     0.0",
      "text/html": "<div>\n<style scoped>\n    .dataframe tbody tr th:only-of-type {\n        vertical-align: middle;\n    }\n\n    .dataframe tbody tr th {\n        vertical-align: top;\n    }\n\n    .dataframe thead th {\n        text-align: right;\n    }\n</style>\n<table border=\"1\" class=\"dataframe\">\n  <thead>\n    <tr style=\"text-align: right;\">\n      <th></th>\n      <th>user_id</th>\n      <th>item_id</th>\n      <th>rank</th>\n      <th>TP@5</th>\n      <th>TP@5/5</th>\n    </tr>\n  </thead>\n  <tbody>\n    <tr>\n      <th>2</th>\n      <td>57607</td>\n      <td>10440</td>\n      <td>3.0</td>\n      <td>True</td>\n      <td>0.2</td>\n    </tr>\n    <tr>\n      <th>1</th>\n      <td>57607</td>\n      <td>4151</td>\n      <td>NaN</td>\n      <td>False</td>\n      <td>0.0</td>\n    </tr>\n    <tr>\n      <th>7</th>\n      <td>57607</td>\n      <td>13865</td>\n      <td>NaN</td>\n      <td>False</td>\n      <td>0.0</td>\n    </tr>\n    <tr>\n      <th>3</th>\n      <td>70720</td>\n      <td>4881</td>\n      <td>2.0</td>\n      <td>True</td>\n      <td>0.2</td>\n    </tr>\n    <tr>\n      <th>0</th>\n      <td>70720</td>\n      <td>4880</td>\n      <td>NaN</td>\n      <td>False</td>\n      <td>0.0</td>\n    </tr>\n    <tr>\n      <th>6</th>\n      <td>70720</td>\n      <td>6327</td>\n      <td>NaN</td>\n      <td>False</td>\n      <td>0.0</td>\n    </tr>\n    <tr>\n      <th>9</th>\n      <td>403227</td>\n      <td>181</td>\n      <td>1.0</td>\n      <td>True</td>\n      <td>0.2</td>\n    </tr>\n    <tr>\n      <th>5</th>\n      <td>403227</td>\n      <td>1736</td>\n      <td>2.0</td>\n      <td>True</td>\n      <td>0.2</td>\n    </tr>\n    <tr>\n      <th>4</th>\n      <td>403227</td>\n      <td>6353</td>\n      <td>5.0</td>\n      <td>True</td>\n      <td>0.2</td>\n    </tr>\n    <tr>\n      <th>8</th>\n      <td>403227</td>\n      <td>5336</td>\n      <td>NaN</td>\n      <td>False</td>\n      <td>0.0</td>\n    </tr>\n  </tbody>\n</table>\n</div>"
     },
     "execution_count": 24,
     "metadata": {},
     "output_type": "execute_result"
    }
   ],
   "source": [
    "df_recs"
   ]
  },
  {
   "cell_type": "markdown",
   "id": "30ffeeb7",
   "metadata": {
    "pycharm": {
     "name": "#%% md\n"
    }
   },
   "source": [
    "Используем тот факт, что мы знаем количество пользователей, а значит groupby не нужен"
   ]
  },
  {
   "cell_type": "code",
   "execution_count": 25,
   "id": "9555156b",
   "metadata": {
    "ExecuteTime": {
     "end_time": "2022-11-16T13:17:03.865473Z",
     "start_time": "2022-11-16T13:17:03.853476Z"
    },
    "pycharm": {
     "name": "#%%\n"
    }
   },
   "outputs": [
    {
     "name": "stdout",
     "output_type": "stream",
     "text": [
      "Precision@5 = 0.3333333333333333\n"
     ]
    }
   ],
   "source": [
    "p5 = df_recs['TP@5/5'].sum() / len(sample_users)\n",
    "print(f'Precision@5 = {p5}')"
   ]
  },
  {
   "cell_type": "markdown",
   "id": "94b0a780",
   "metadata": {
    "pycharm": {
     "name": "#%% md\n"
    }
   },
   "source": [
    "### Recall@K"
   ]
  },
  {
   "cell_type": "code",
   "execution_count": 26,
   "id": "535e44f2",
   "metadata": {
    "ExecuteTime": {
     "end_time": "2022-11-16T13:17:03.895474Z",
     "start_time": "2022-11-16T13:17:03.868474Z"
    },
    "pycharm": {
     "name": "#%%\n"
    }
   },
   "outputs": [
    {
     "data": {
      "text/plain": "   user_id  item_id  rank   TP@5  TP@5/5  actual\n2    57607    10440   3.0   True     0.2       3\n1    57607     4151   NaN  False     0.0       3\n7    57607    13865   NaN  False     0.0       3\n3    70720     4881   2.0   True     0.2       3\n0    70720     4880   NaN  False     0.0       3\n6    70720     6327   NaN  False     0.0       3\n9   403227      181   1.0   True     0.2       4\n5   403227     1736   2.0   True     0.2       4\n4   403227     6353   5.0   True     0.2       4\n8   403227     5336   NaN  False     0.0       4",
      "text/html": "<div>\n<style scoped>\n    .dataframe tbody tr th:only-of-type {\n        vertical-align: middle;\n    }\n\n    .dataframe tbody tr th {\n        vertical-align: top;\n    }\n\n    .dataframe thead th {\n        text-align: right;\n    }\n</style>\n<table border=\"1\" class=\"dataframe\">\n  <thead>\n    <tr style=\"text-align: right;\">\n      <th></th>\n      <th>user_id</th>\n      <th>item_id</th>\n      <th>rank</th>\n      <th>TP@5</th>\n      <th>TP@5/5</th>\n      <th>actual</th>\n    </tr>\n  </thead>\n  <tbody>\n    <tr>\n      <th>2</th>\n      <td>57607</td>\n      <td>10440</td>\n      <td>3.0</td>\n      <td>True</td>\n      <td>0.2</td>\n      <td>3</td>\n    </tr>\n    <tr>\n      <th>1</th>\n      <td>57607</td>\n      <td>4151</td>\n      <td>NaN</td>\n      <td>False</td>\n      <td>0.0</td>\n      <td>3</td>\n    </tr>\n    <tr>\n      <th>7</th>\n      <td>57607</td>\n      <td>13865</td>\n      <td>NaN</td>\n      <td>False</td>\n      <td>0.0</td>\n      <td>3</td>\n    </tr>\n    <tr>\n      <th>3</th>\n      <td>70720</td>\n      <td>4881</td>\n      <td>2.0</td>\n      <td>True</td>\n      <td>0.2</td>\n      <td>3</td>\n    </tr>\n    <tr>\n      <th>0</th>\n      <td>70720</td>\n      <td>4880</td>\n      <td>NaN</td>\n      <td>False</td>\n      <td>0.0</td>\n      <td>3</td>\n    </tr>\n    <tr>\n      <th>6</th>\n      <td>70720</td>\n      <td>6327</td>\n      <td>NaN</td>\n      <td>False</td>\n      <td>0.0</td>\n      <td>3</td>\n    </tr>\n    <tr>\n      <th>9</th>\n      <td>403227</td>\n      <td>181</td>\n      <td>1.0</td>\n      <td>True</td>\n      <td>0.2</td>\n      <td>4</td>\n    </tr>\n    <tr>\n      <th>5</th>\n      <td>403227</td>\n      <td>1736</td>\n      <td>2.0</td>\n      <td>True</td>\n      <td>0.2</td>\n      <td>4</td>\n    </tr>\n    <tr>\n      <th>4</th>\n      <td>403227</td>\n      <td>6353</td>\n      <td>5.0</td>\n      <td>True</td>\n      <td>0.2</td>\n      <td>4</td>\n    </tr>\n    <tr>\n      <th>8</th>\n      <td>403227</td>\n      <td>5336</td>\n      <td>NaN</td>\n      <td>False</td>\n      <td>0.0</td>\n      <td>4</td>\n    </tr>\n  </tbody>\n</table>\n</div>"
     },
     "execution_count": 26,
     "metadata": {},
     "output_type": "execute_result"
    }
   ],
   "source": [
    "df_recs['actual'] = df_recs.groupby(Columns.User)[Columns.Item].transform('count')\n",
    "df_recs"
   ]
  },
  {
   "cell_type": "code",
   "execution_count": 27,
   "id": "370013e4",
   "metadata": {
    "ExecuteTime": {
     "end_time": "2022-11-16T13:17:03.925476Z",
     "start_time": "2022-11-16T13:17:03.898476Z"
    },
    "pycharm": {
     "name": "#%%\n"
    }
   },
   "outputs": [
    {
     "data": {
      "text/plain": "   user_id  item_id  rank   TP@5  TP@5/5  actual  TP@5/actual\n2    57607    10440   3.0   True     0.2       3     0.333333\n1    57607     4151   NaN  False     0.0       3     0.000000\n7    57607    13865   NaN  False     0.0       3     0.000000\n3    70720     4881   2.0   True     0.2       3     0.333333\n0    70720     4880   NaN  False     0.0       3     0.000000\n6    70720     6327   NaN  False     0.0       3     0.000000\n9   403227      181   1.0   True     0.2       4     0.250000\n5   403227     1736   2.0   True     0.2       4     0.250000\n4   403227     6353   5.0   True     0.2       4     0.250000\n8   403227     5336   NaN  False     0.0       4     0.000000",
      "text/html": "<div>\n<style scoped>\n    .dataframe tbody tr th:only-of-type {\n        vertical-align: middle;\n    }\n\n    .dataframe tbody tr th {\n        vertical-align: top;\n    }\n\n    .dataframe thead th {\n        text-align: right;\n    }\n</style>\n<table border=\"1\" class=\"dataframe\">\n  <thead>\n    <tr style=\"text-align: right;\">\n      <th></th>\n      <th>user_id</th>\n      <th>item_id</th>\n      <th>rank</th>\n      <th>TP@5</th>\n      <th>TP@5/5</th>\n      <th>actual</th>\n      <th>TP@5/actual</th>\n    </tr>\n  </thead>\n  <tbody>\n    <tr>\n      <th>2</th>\n      <td>57607</td>\n      <td>10440</td>\n      <td>3.0</td>\n      <td>True</td>\n      <td>0.2</td>\n      <td>3</td>\n      <td>0.333333</td>\n    </tr>\n    <tr>\n      <th>1</th>\n      <td>57607</td>\n      <td>4151</td>\n      <td>NaN</td>\n      <td>False</td>\n      <td>0.0</td>\n      <td>3</td>\n      <td>0.000000</td>\n    </tr>\n    <tr>\n      <th>7</th>\n      <td>57607</td>\n      <td>13865</td>\n      <td>NaN</td>\n      <td>False</td>\n      <td>0.0</td>\n      <td>3</td>\n      <td>0.000000</td>\n    </tr>\n    <tr>\n      <th>3</th>\n      <td>70720</td>\n      <td>4881</td>\n      <td>2.0</td>\n      <td>True</td>\n      <td>0.2</td>\n      <td>3</td>\n      <td>0.333333</td>\n    </tr>\n    <tr>\n      <th>0</th>\n      <td>70720</td>\n      <td>4880</td>\n      <td>NaN</td>\n      <td>False</td>\n      <td>0.0</td>\n      <td>3</td>\n      <td>0.000000</td>\n    </tr>\n    <tr>\n      <th>6</th>\n      <td>70720</td>\n      <td>6327</td>\n      <td>NaN</td>\n      <td>False</td>\n      <td>0.0</td>\n      <td>3</td>\n      <td>0.000000</td>\n    </tr>\n    <tr>\n      <th>9</th>\n      <td>403227</td>\n      <td>181</td>\n      <td>1.0</td>\n      <td>True</td>\n      <td>0.2</td>\n      <td>4</td>\n      <td>0.250000</td>\n    </tr>\n    <tr>\n      <th>5</th>\n      <td>403227</td>\n      <td>1736</td>\n      <td>2.0</td>\n      <td>True</td>\n      <td>0.2</td>\n      <td>4</td>\n      <td>0.250000</td>\n    </tr>\n    <tr>\n      <th>4</th>\n      <td>403227</td>\n      <td>6353</td>\n      <td>5.0</td>\n      <td>True</td>\n      <td>0.2</td>\n      <td>4</td>\n      <td>0.250000</td>\n    </tr>\n    <tr>\n      <th>8</th>\n      <td>403227</td>\n      <td>5336</td>\n      <td>NaN</td>\n      <td>False</td>\n      <td>0.0</td>\n      <td>4</td>\n      <td>0.000000</td>\n    </tr>\n  </tbody>\n</table>\n</div>"
     },
     "execution_count": 27,
     "metadata": {},
     "output_type": "execute_result"
    }
   ],
   "source": [
    "df_recs['TP@5/actual'] = df_recs['TP@5'] / df_recs['actual']\n",
    "df_recs"
   ]
  },
  {
   "cell_type": "code",
   "execution_count": 28,
   "id": "aebd0ba9",
   "metadata": {
    "ExecuteTime": {
     "end_time": "2022-11-16T13:17:03.940473Z",
     "start_time": "2022-11-16T13:17:03.928474Z"
    },
    "pycharm": {
     "name": "#%%\n"
    }
   },
   "outputs": [
    {
     "data": {
      "text/plain": "0.47222222222222215"
     },
     "execution_count": 28,
     "metadata": {},
     "output_type": "execute_result"
    }
   ],
   "source": [
    "(1/3 + 1/3 + 3/4) / 3"
   ]
  },
  {
   "cell_type": "code",
   "execution_count": 29,
   "id": "84406981",
   "metadata": {
    "ExecuteTime": {
     "end_time": "2022-11-16T13:17:03.956473Z",
     "start_time": "2022-11-16T13:17:03.943474Z"
    },
    "pycharm": {
     "name": "#%%\n"
    }
   },
   "outputs": [
    {
     "name": "stdout",
     "output_type": "stream",
     "text": [
      "Recall@5 = 0.47222222222222215\n"
     ]
    }
   ],
   "source": [
    "r5 = df_recs.groupby(Columns.User)['TP@5/actual'].sum().mean()\n",
    "print(f'Recall@5 = {r5}')"
   ]
  },
  {
   "cell_type": "code",
   "execution_count": 30,
   "id": "e5e58fa3",
   "metadata": {
    "ExecuteTime": {
     "end_time": "2022-11-16T13:17:03.972477Z",
     "start_time": "2022-11-16T13:17:03.959476Z"
    },
    "pycharm": {
     "name": "#%%\n"
    }
   },
   "outputs": [
    {
     "name": "stdout",
     "output_type": "stream",
     "text": [
      "Recall@5 = 0.47222222222222215\n"
     ]
    }
   ],
   "source": [
    "r5 = df_recs['TP@5/actual'].sum() / len(sample_users)\n",
    "print(f'Recall@5 = {r5}')"
   ]
  },
  {
   "cell_type": "markdown",
   "id": "a22237fc",
   "metadata": {
    "pycharm": {
     "name": "#%% md\n"
    }
   },
   "source": [
    "## Ranking\n",
    "\n",
    "### MAP@K"
   ]
  },
  {
   "cell_type": "code",
   "execution_count": 31,
   "id": "7c3bec49",
   "metadata": {
    "ExecuteTime": {
     "end_time": "2022-11-16T13:17:03.988474Z",
     "start_time": "2022-11-16T13:17:03.975477Z"
    },
    "pycharm": {
     "name": "#%%\n"
    }
   },
   "outputs": [
    {
     "data": {
      "text/plain": "   user_id  item_id  rank   TP@5  TP@5/5  actual  TP@5/actual\n2    57607    10440   3.0   True     0.2       3     0.333333\n1    57607     4151   NaN  False     0.0       3     0.000000\n7    57607    13865   NaN  False     0.0       3     0.000000\n3    70720     4881   2.0   True     0.2       3     0.333333\n0    70720     4880   NaN  False     0.0       3     0.000000\n6    70720     6327   NaN  False     0.0       3     0.000000\n9   403227      181   1.0   True     0.2       4     0.250000\n5   403227     1736   2.0   True     0.2       4     0.250000\n4   403227     6353   5.0   True     0.2       4     0.250000\n8   403227     5336   NaN  False     0.0       4     0.000000",
      "text/html": "<div>\n<style scoped>\n    .dataframe tbody tr th:only-of-type {\n        vertical-align: middle;\n    }\n\n    .dataframe tbody tr th {\n        vertical-align: top;\n    }\n\n    .dataframe thead th {\n        text-align: right;\n    }\n</style>\n<table border=\"1\" class=\"dataframe\">\n  <thead>\n    <tr style=\"text-align: right;\">\n      <th></th>\n      <th>user_id</th>\n      <th>item_id</th>\n      <th>rank</th>\n      <th>TP@5</th>\n      <th>TP@5/5</th>\n      <th>actual</th>\n      <th>TP@5/actual</th>\n    </tr>\n  </thead>\n  <tbody>\n    <tr>\n      <th>2</th>\n      <td>57607</td>\n      <td>10440</td>\n      <td>3.0</td>\n      <td>True</td>\n      <td>0.2</td>\n      <td>3</td>\n      <td>0.333333</td>\n    </tr>\n    <tr>\n      <th>1</th>\n      <td>57607</td>\n      <td>4151</td>\n      <td>NaN</td>\n      <td>False</td>\n      <td>0.0</td>\n      <td>3</td>\n      <td>0.000000</td>\n    </tr>\n    <tr>\n      <th>7</th>\n      <td>57607</td>\n      <td>13865</td>\n      <td>NaN</td>\n      <td>False</td>\n      <td>0.0</td>\n      <td>3</td>\n      <td>0.000000</td>\n    </tr>\n    <tr>\n      <th>3</th>\n      <td>70720</td>\n      <td>4881</td>\n      <td>2.0</td>\n      <td>True</td>\n      <td>0.2</td>\n      <td>3</td>\n      <td>0.333333</td>\n    </tr>\n    <tr>\n      <th>0</th>\n      <td>70720</td>\n      <td>4880</td>\n      <td>NaN</td>\n      <td>False</td>\n      <td>0.0</td>\n      <td>3</td>\n      <td>0.000000</td>\n    </tr>\n    <tr>\n      <th>6</th>\n      <td>70720</td>\n      <td>6327</td>\n      <td>NaN</td>\n      <td>False</td>\n      <td>0.0</td>\n      <td>3</td>\n      <td>0.000000</td>\n    </tr>\n    <tr>\n      <th>9</th>\n      <td>403227</td>\n      <td>181</td>\n      <td>1.0</td>\n      <td>True</td>\n      <td>0.2</td>\n      <td>4</td>\n      <td>0.250000</td>\n    </tr>\n    <tr>\n      <th>5</th>\n      <td>403227</td>\n      <td>1736</td>\n      <td>2.0</td>\n      <td>True</td>\n      <td>0.2</td>\n      <td>4</td>\n      <td>0.250000</td>\n    </tr>\n    <tr>\n      <th>4</th>\n      <td>403227</td>\n      <td>6353</td>\n      <td>5.0</td>\n      <td>True</td>\n      <td>0.2</td>\n      <td>4</td>\n      <td>0.250000</td>\n    </tr>\n    <tr>\n      <th>8</th>\n      <td>403227</td>\n      <td>5336</td>\n      <td>NaN</td>\n      <td>False</td>\n      <td>0.0</td>\n      <td>4</td>\n      <td>0.000000</td>\n    </tr>\n  </tbody>\n</table>\n</div>"
     },
     "execution_count": 31,
     "metadata": {},
     "output_type": "execute_result"
    }
   ],
   "source": [
    "df_recs"
   ]
  },
  {
   "cell_type": "code",
   "execution_count": 32,
   "id": "dc0a5f4c",
   "metadata": {
    "ExecuteTime": {
     "end_time": "2022-11-16T13:17:04.019475Z",
     "start_time": "2022-11-16T13:17:03.991473Z"
    },
    "pycharm": {
     "name": "#%%\n"
    }
   },
   "outputs": [
    {
     "data": {
      "text/plain": "   user_id  item_id  rank   TP@5  TP@5/5  actual  TP@5/actual  cumTP@5\n2    57607    10440   3.0   True     0.2       3     0.333333        1\n1    57607     4151   NaN  False     0.0       3     0.000000        1\n7    57607    13865   NaN  False     0.0       3     0.000000        1\n3    70720     4881   2.0   True     0.2       3     0.333333        1\n0    70720     4880   NaN  False     0.0       3     0.000000        1\n6    70720     6327   NaN  False     0.0       3     0.000000        1\n9   403227      181   1.0   True     0.2       4     0.250000        1\n5   403227     1736   2.0   True     0.2       4     0.250000        2\n4   403227     6353   5.0   True     0.2       4     0.250000        3\n8   403227     5336   NaN  False     0.0       4     0.000000        3",
      "text/html": "<div>\n<style scoped>\n    .dataframe tbody tr th:only-of-type {\n        vertical-align: middle;\n    }\n\n    .dataframe tbody tr th {\n        vertical-align: top;\n    }\n\n    .dataframe thead th {\n        text-align: right;\n    }\n</style>\n<table border=\"1\" class=\"dataframe\">\n  <thead>\n    <tr style=\"text-align: right;\">\n      <th></th>\n      <th>user_id</th>\n      <th>item_id</th>\n      <th>rank</th>\n      <th>TP@5</th>\n      <th>TP@5/5</th>\n      <th>actual</th>\n      <th>TP@5/actual</th>\n      <th>cumTP@5</th>\n    </tr>\n  </thead>\n  <tbody>\n    <tr>\n      <th>2</th>\n      <td>57607</td>\n      <td>10440</td>\n      <td>3.0</td>\n      <td>True</td>\n      <td>0.2</td>\n      <td>3</td>\n      <td>0.333333</td>\n      <td>1</td>\n    </tr>\n    <tr>\n      <th>1</th>\n      <td>57607</td>\n      <td>4151</td>\n      <td>NaN</td>\n      <td>False</td>\n      <td>0.0</td>\n      <td>3</td>\n      <td>0.000000</td>\n      <td>1</td>\n    </tr>\n    <tr>\n      <th>7</th>\n      <td>57607</td>\n      <td>13865</td>\n      <td>NaN</td>\n      <td>False</td>\n      <td>0.0</td>\n      <td>3</td>\n      <td>0.000000</td>\n      <td>1</td>\n    </tr>\n    <tr>\n      <th>3</th>\n      <td>70720</td>\n      <td>4881</td>\n      <td>2.0</td>\n      <td>True</td>\n      <td>0.2</td>\n      <td>3</td>\n      <td>0.333333</td>\n      <td>1</td>\n    </tr>\n    <tr>\n      <th>0</th>\n      <td>70720</td>\n      <td>4880</td>\n      <td>NaN</td>\n      <td>False</td>\n      <td>0.0</td>\n      <td>3</td>\n      <td>0.000000</td>\n      <td>1</td>\n    </tr>\n    <tr>\n      <th>6</th>\n      <td>70720</td>\n      <td>6327</td>\n      <td>NaN</td>\n      <td>False</td>\n      <td>0.0</td>\n      <td>3</td>\n      <td>0.000000</td>\n      <td>1</td>\n    </tr>\n    <tr>\n      <th>9</th>\n      <td>403227</td>\n      <td>181</td>\n      <td>1.0</td>\n      <td>True</td>\n      <td>0.2</td>\n      <td>4</td>\n      <td>0.250000</td>\n      <td>1</td>\n    </tr>\n    <tr>\n      <th>5</th>\n      <td>403227</td>\n      <td>1736</td>\n      <td>2.0</td>\n      <td>True</td>\n      <td>0.2</td>\n      <td>4</td>\n      <td>0.250000</td>\n      <td>2</td>\n    </tr>\n    <tr>\n      <th>4</th>\n      <td>403227</td>\n      <td>6353</td>\n      <td>5.0</td>\n      <td>True</td>\n      <td>0.2</td>\n      <td>4</td>\n      <td>0.250000</td>\n      <td>3</td>\n    </tr>\n    <tr>\n      <th>8</th>\n      <td>403227</td>\n      <td>5336</td>\n      <td>NaN</td>\n      <td>False</td>\n      <td>0.0</td>\n      <td>4</td>\n      <td>0.000000</td>\n      <td>3</td>\n    </tr>\n  </tbody>\n</table>\n</div>"
     },
     "execution_count": 32,
     "metadata": {},
     "output_type": "execute_result"
    }
   ],
   "source": [
    "df_recs['cumTP@5'] = df_recs.groupby(Columns.User)['TP@5'].cumsum()\n",
    "df_recs"
   ]
  },
  {
   "cell_type": "code",
   "execution_count": 33,
   "id": "38b572f2",
   "metadata": {
    "ExecuteTime": {
     "end_time": "2022-11-16T13:17:04.049477Z",
     "start_time": "2022-11-16T13:17:04.022475Z"
    },
    "pycharm": {
     "name": "#%%\n"
    }
   },
   "outputs": [
    {
     "data": {
      "text/plain": "   user_id  item_id  rank   TP@5  TP@5/5  actual  TP@5/actual  cumTP@5  \\\n2    57607    10440   3.0   True     0.2       3     0.333333        1   \n1    57607     4151   NaN  False     0.0       3     0.000000        1   \n7    57607    13865   NaN  False     0.0       3     0.000000        1   \n3    70720     4881   2.0   True     0.2       3     0.333333        1   \n0    70720     4880   NaN  False     0.0       3     0.000000        1   \n6    70720     6327   NaN  False     0.0       3     0.000000        1   \n9   403227      181   1.0   True     0.2       4     0.250000        1   \n5   403227     1736   2.0   True     0.2       4     0.250000        2   \n4   403227     6353   5.0   True     0.2       4     0.250000        3   \n8   403227     5336   NaN  False     0.0       4     0.000000        3   \n\n     Prec@5  \n2  0.333333  \n1       NaN  \n7       NaN  \n3  0.500000  \n0       NaN  \n6       NaN  \n9  1.000000  \n5  1.000000  \n4  0.600000  \n8       NaN  ",
      "text/html": "<div>\n<style scoped>\n    .dataframe tbody tr th:only-of-type {\n        vertical-align: middle;\n    }\n\n    .dataframe tbody tr th {\n        vertical-align: top;\n    }\n\n    .dataframe thead th {\n        text-align: right;\n    }\n</style>\n<table border=\"1\" class=\"dataframe\">\n  <thead>\n    <tr style=\"text-align: right;\">\n      <th></th>\n      <th>user_id</th>\n      <th>item_id</th>\n      <th>rank</th>\n      <th>TP@5</th>\n      <th>TP@5/5</th>\n      <th>actual</th>\n      <th>TP@5/actual</th>\n      <th>cumTP@5</th>\n      <th>Prec@5</th>\n    </tr>\n  </thead>\n  <tbody>\n    <tr>\n      <th>2</th>\n      <td>57607</td>\n      <td>10440</td>\n      <td>3.0</td>\n      <td>True</td>\n      <td>0.2</td>\n      <td>3</td>\n      <td>0.333333</td>\n      <td>1</td>\n      <td>0.333333</td>\n    </tr>\n    <tr>\n      <th>1</th>\n      <td>57607</td>\n      <td>4151</td>\n      <td>NaN</td>\n      <td>False</td>\n      <td>0.0</td>\n      <td>3</td>\n      <td>0.000000</td>\n      <td>1</td>\n      <td>NaN</td>\n    </tr>\n    <tr>\n      <th>7</th>\n      <td>57607</td>\n      <td>13865</td>\n      <td>NaN</td>\n      <td>False</td>\n      <td>0.0</td>\n      <td>3</td>\n      <td>0.000000</td>\n      <td>1</td>\n      <td>NaN</td>\n    </tr>\n    <tr>\n      <th>3</th>\n      <td>70720</td>\n      <td>4881</td>\n      <td>2.0</td>\n      <td>True</td>\n      <td>0.2</td>\n      <td>3</td>\n      <td>0.333333</td>\n      <td>1</td>\n      <td>0.500000</td>\n    </tr>\n    <tr>\n      <th>0</th>\n      <td>70720</td>\n      <td>4880</td>\n      <td>NaN</td>\n      <td>False</td>\n      <td>0.0</td>\n      <td>3</td>\n      <td>0.000000</td>\n      <td>1</td>\n      <td>NaN</td>\n    </tr>\n    <tr>\n      <th>6</th>\n      <td>70720</td>\n      <td>6327</td>\n      <td>NaN</td>\n      <td>False</td>\n      <td>0.0</td>\n      <td>3</td>\n      <td>0.000000</td>\n      <td>1</td>\n      <td>NaN</td>\n    </tr>\n    <tr>\n      <th>9</th>\n      <td>403227</td>\n      <td>181</td>\n      <td>1.0</td>\n      <td>True</td>\n      <td>0.2</td>\n      <td>4</td>\n      <td>0.250000</td>\n      <td>1</td>\n      <td>1.000000</td>\n    </tr>\n    <tr>\n      <th>5</th>\n      <td>403227</td>\n      <td>1736</td>\n      <td>2.0</td>\n      <td>True</td>\n      <td>0.2</td>\n      <td>4</td>\n      <td>0.250000</td>\n      <td>2</td>\n      <td>1.000000</td>\n    </tr>\n    <tr>\n      <th>4</th>\n      <td>403227</td>\n      <td>6353</td>\n      <td>5.0</td>\n      <td>True</td>\n      <td>0.2</td>\n      <td>4</td>\n      <td>0.250000</td>\n      <td>3</td>\n      <td>0.600000</td>\n    </tr>\n    <tr>\n      <th>8</th>\n      <td>403227</td>\n      <td>5336</td>\n      <td>NaN</td>\n      <td>False</td>\n      <td>0.0</td>\n      <td>4</td>\n      <td>0.000000</td>\n      <td>3</td>\n      <td>NaN</td>\n    </tr>\n  </tbody>\n</table>\n</div>"
     },
     "execution_count": 33,
     "metadata": {},
     "output_type": "execute_result"
    }
   ],
   "source": [
    "df_recs['Prec@5'] = df_recs['cumTP@5'] / df_recs[Columns.Rank]\n",
    "df_recs"
   ]
  },
  {
   "cell_type": "code",
   "execution_count": 34,
   "id": "6948122a",
   "metadata": {
    "ExecuteTime": {
     "end_time": "2022-11-16T13:17:04.080475Z",
     "start_time": "2022-11-16T13:17:04.052477Z"
    },
    "pycharm": {
     "name": "#%%\n"
    }
   },
   "outputs": [
    {
     "data": {
      "text/plain": "   user_id  item_id  rank   TP@5  TP@5/5  actual  TP@5/actual  cumTP@5  \\\n2    57607    10440   3.0   True     0.2       3     0.333333        1   \n1    57607     4151   NaN  False     0.0       3     0.000000        1   \n7    57607    13865   NaN  False     0.0       3     0.000000        1   \n3    70720     4881   2.0   True     0.2       3     0.333333        1   \n0    70720     4880   NaN  False     0.0       3     0.000000        1   \n6    70720     6327   NaN  False     0.0       3     0.000000        1   \n9   403227      181   1.0   True     0.2       4     0.250000        1   \n5   403227     1736   2.0   True     0.2       4     0.250000        2   \n4   403227     6353   5.0   True     0.2       4     0.250000        3   \n8   403227     5336   NaN  False     0.0       4     0.000000        3   \n\n     Prec@5  Prec@5/actual  \n2  0.333333       0.111111  \n1       NaN            NaN  \n7       NaN            NaN  \n3  0.500000       0.166667  \n0       NaN            NaN  \n6       NaN            NaN  \n9  1.000000       0.250000  \n5  1.000000       0.250000  \n4  0.600000       0.150000  \n8       NaN            NaN  ",
      "text/html": "<div>\n<style scoped>\n    .dataframe tbody tr th:only-of-type {\n        vertical-align: middle;\n    }\n\n    .dataframe tbody tr th {\n        vertical-align: top;\n    }\n\n    .dataframe thead th {\n        text-align: right;\n    }\n</style>\n<table border=\"1\" class=\"dataframe\">\n  <thead>\n    <tr style=\"text-align: right;\">\n      <th></th>\n      <th>user_id</th>\n      <th>item_id</th>\n      <th>rank</th>\n      <th>TP@5</th>\n      <th>TP@5/5</th>\n      <th>actual</th>\n      <th>TP@5/actual</th>\n      <th>cumTP@5</th>\n      <th>Prec@5</th>\n      <th>Prec@5/actual</th>\n    </tr>\n  </thead>\n  <tbody>\n    <tr>\n      <th>2</th>\n      <td>57607</td>\n      <td>10440</td>\n      <td>3.0</td>\n      <td>True</td>\n      <td>0.2</td>\n      <td>3</td>\n      <td>0.333333</td>\n      <td>1</td>\n      <td>0.333333</td>\n      <td>0.111111</td>\n    </tr>\n    <tr>\n      <th>1</th>\n      <td>57607</td>\n      <td>4151</td>\n      <td>NaN</td>\n      <td>False</td>\n      <td>0.0</td>\n      <td>3</td>\n      <td>0.000000</td>\n      <td>1</td>\n      <td>NaN</td>\n      <td>NaN</td>\n    </tr>\n    <tr>\n      <th>7</th>\n      <td>57607</td>\n      <td>13865</td>\n      <td>NaN</td>\n      <td>False</td>\n      <td>0.0</td>\n      <td>3</td>\n      <td>0.000000</td>\n      <td>1</td>\n      <td>NaN</td>\n      <td>NaN</td>\n    </tr>\n    <tr>\n      <th>3</th>\n      <td>70720</td>\n      <td>4881</td>\n      <td>2.0</td>\n      <td>True</td>\n      <td>0.2</td>\n      <td>3</td>\n      <td>0.333333</td>\n      <td>1</td>\n      <td>0.500000</td>\n      <td>0.166667</td>\n    </tr>\n    <tr>\n      <th>0</th>\n      <td>70720</td>\n      <td>4880</td>\n      <td>NaN</td>\n      <td>False</td>\n      <td>0.0</td>\n      <td>3</td>\n      <td>0.000000</td>\n      <td>1</td>\n      <td>NaN</td>\n      <td>NaN</td>\n    </tr>\n    <tr>\n      <th>6</th>\n      <td>70720</td>\n      <td>6327</td>\n      <td>NaN</td>\n      <td>False</td>\n      <td>0.0</td>\n      <td>3</td>\n      <td>0.000000</td>\n      <td>1</td>\n      <td>NaN</td>\n      <td>NaN</td>\n    </tr>\n    <tr>\n      <th>9</th>\n      <td>403227</td>\n      <td>181</td>\n      <td>1.0</td>\n      <td>True</td>\n      <td>0.2</td>\n      <td>4</td>\n      <td>0.250000</td>\n      <td>1</td>\n      <td>1.000000</td>\n      <td>0.250000</td>\n    </tr>\n    <tr>\n      <th>5</th>\n      <td>403227</td>\n      <td>1736</td>\n      <td>2.0</td>\n      <td>True</td>\n      <td>0.2</td>\n      <td>4</td>\n      <td>0.250000</td>\n      <td>2</td>\n      <td>1.000000</td>\n      <td>0.250000</td>\n    </tr>\n    <tr>\n      <th>4</th>\n      <td>403227</td>\n      <td>6353</td>\n      <td>5.0</td>\n      <td>True</td>\n      <td>0.2</td>\n      <td>4</td>\n      <td>0.250000</td>\n      <td>3</td>\n      <td>0.600000</td>\n      <td>0.150000</td>\n    </tr>\n    <tr>\n      <th>8</th>\n      <td>403227</td>\n      <td>5336</td>\n      <td>NaN</td>\n      <td>False</td>\n      <td>0.0</td>\n      <td>4</td>\n      <td>0.000000</td>\n      <td>3</td>\n      <td>NaN</td>\n      <td>NaN</td>\n    </tr>\n  </tbody>\n</table>\n</div>"
     },
     "execution_count": 34,
     "metadata": {},
     "output_type": "execute_result"
    }
   ],
   "source": [
    "df_recs['Prec@5/actual'] = df_recs['Prec@5'] / df_recs['actual']\n",
    "df_recs"
   ]
  },
  {
   "cell_type": "code",
   "execution_count": 35,
   "id": "8ac2cbd1",
   "metadata": {
    "ExecuteTime": {
     "end_time": "2022-11-16T13:17:04.096475Z",
     "start_time": "2022-11-16T13:17:04.083477Z"
    },
    "pycharm": {
     "name": "#%%\n"
    }
   },
   "outputs": [
    {
     "name": "stdout",
     "output_type": "stream",
     "text": [
      "0.3092592592592593\n"
     ]
    },
    {
     "data": {
      "text/plain": "user_id\n57607     0.111111\n70720     0.166667\n403227    0.650000\nName: Prec@5/actual, dtype: float64"
     },
     "execution_count": 35,
     "metadata": {},
     "output_type": "execute_result"
    }
   ],
   "source": [
    "ap = df_recs.groupby(Columns.User)['Prec@5/actual'].sum()\n",
    "print(ap.mean())\n",
    "ap"
   ]
  },
  {
   "cell_type": "markdown",
   "id": "66107dd0",
   "metadata": {
    "pycharm": {
     "name": "#%% md\n"
    }
   },
   "source": [
    "## Naive vs Numba vs Pandas"
   ]
  },
  {
   "cell_type": "code",
   "execution_count": 36,
   "id": "b641c46e",
   "metadata": {
    "ExecuteTime": {
     "end_time": "2022-11-16T17:04:48.907677Z",
     "start_time": "2022-11-16T17:04:48.887676Z"
    },
    "pycharm": {
     "name": "#%%\n"
    }
   },
   "outputs": [
    {
     "data": {
      "text/plain": "   user_id  item_id\n0    70720     4880\n1    57607     4151\n2    57607    10440\n3    70720     4881\n4   403227     6353\n5   403227     1736\n6    70720     6327\n7    57607    13865\n8   403227     5336\n9   403227      181",
      "text/html": "<div>\n<style scoped>\n    .dataframe tbody tr th:only-of-type {\n        vertical-align: middle;\n    }\n\n    .dataframe tbody tr th {\n        vertical-align: top;\n    }\n\n    .dataframe thead th {\n        text-align: right;\n    }\n</style>\n<table border=\"1\" class=\"dataframe\">\n  <thead>\n    <tr style=\"text-align: right;\">\n      <th></th>\n      <th>user_id</th>\n      <th>item_id</th>\n    </tr>\n  </thead>\n  <tbody>\n    <tr>\n      <th>0</th>\n      <td>70720</td>\n      <td>4880</td>\n    </tr>\n    <tr>\n      <th>1</th>\n      <td>57607</td>\n      <td>4151</td>\n    </tr>\n    <tr>\n      <th>2</th>\n      <td>57607</td>\n      <td>10440</td>\n    </tr>\n    <tr>\n      <th>3</th>\n      <td>70720</td>\n      <td>4881</td>\n    </tr>\n    <tr>\n      <th>4</th>\n      <td>403227</td>\n      <td>6353</td>\n    </tr>\n    <tr>\n      <th>5</th>\n      <td>403227</td>\n      <td>1736</td>\n    </tr>\n    <tr>\n      <th>6</th>\n      <td>70720</td>\n      <td>6327</td>\n    </tr>\n    <tr>\n      <th>7</th>\n      <td>57607</td>\n      <td>13865</td>\n    </tr>\n    <tr>\n      <th>8</th>\n      <td>403227</td>\n      <td>5336</td>\n    </tr>\n    <tr>\n      <th>9</th>\n      <td>403227</td>\n      <td>181</td>\n    </tr>\n  </tbody>\n</table>\n</div>"
     },
     "execution_count": 36,
     "metadata": {},
     "output_type": "execute_result"
    }
   ],
   "source": [
    "df"
   ]
  },
  {
   "cell_type": "code",
   "execution_count": 37,
   "id": "bf515d63",
   "metadata": {
    "ExecuteTime": {
     "end_time": "2022-11-16T17:04:44.871588Z",
     "start_time": "2022-11-16T17:04:44.860588Z"
    },
    "pycharm": {
     "name": "#%%\n"
    }
   },
   "outputs": [
    {
     "data": {
      "text/plain": "array([[ 70720,   4880],\n       [ 57607,   4151],\n       [ 57607,  10440],\n       [ 70720,   4881],\n       [403227,   6353],\n       [403227,   1736],\n       [ 70720,   6327],\n       [ 57607,  13865],\n       [403227,   5336],\n       [403227,    181]])"
     },
     "execution_count": 37,
     "metadata": {},
     "output_type": "execute_result"
    }
   ],
   "source": [
    "target = df.values\n",
    "target"
   ]
  },
  {
   "cell_type": "code",
   "execution_count": 38,
   "id": "7817cf13",
   "metadata": {
    "ExecuteTime": {
     "end_time": "2022-11-16T17:05:06.384880Z",
     "start_time": "2022-11-16T17:05:06.370880Z"
    },
    "pycharm": {
     "name": "#%%\n"
    }
   },
   "outputs": [
    {
     "data": {
      "text/plain": "array([], dtype=int64)"
     },
     "execution_count": 38,
     "metadata": {},
     "output_type": "execute_result"
    }
   ],
   "source": [
    "target[target[:, 0] == 513902][:, 1]"
   ]
  },
  {
   "cell_type": "code",
   "execution_count": 39,
   "id": "0e2ccbe3",
   "metadata": {
    "ExecuteTime": {
     "end_time": "2022-11-16T13:17:04.175473Z",
     "start_time": "2022-11-16T13:17:04.163476Z"
    },
    "pycharm": {
     "name": "#%%\n"
    }
   },
   "outputs": [
    {
     "data": {
      "text/plain": "array([[ 4880,  6327, 10440,  1736,  4881],\n       [  181,  1736,  4880, 13865,  6353],\n       [ 4151,  4881,  6353, 10440,  1736]])"
     },
     "execution_count": 39,
     "metadata": {},
     "output_type": "execute_result"
    }
   ],
   "source": [
    "recs"
   ]
  },
  {
   "cell_type": "code",
   "execution_count": 40,
   "id": "cd795c2a",
   "metadata": {
    "ExecuteTime": {
     "end_time": "2022-11-16T13:17:04.190474Z",
     "start_time": "2022-11-16T13:17:04.178474Z"
    },
    "pycharm": {
     "name": "#%%\n"
    }
   },
   "outputs": [],
   "source": [
    "def precision_naive(target, users, recs, k):\n",
    "    precision = []\n",
    "    for i, user in enumerate(users):\n",
    "        p = 0\n",
    "        user_target = target[target[:, 0] == user][:, 1]\n",
    "        for rec in recs[i]:\n",
    "            if rec in user_target:\n",
    "                p += 1\n",
    "        precision.append(p / k)\n",
    "    return sum(precision) / len(users)"
   ]
  },
  {
   "cell_type": "code",
   "execution_count": 41,
   "id": "68849e75",
   "metadata": {
    "ExecuteTime": {
     "end_time": "2022-11-16T13:17:04.206473Z",
     "start_time": "2022-11-16T13:17:04.193473Z"
    },
    "pycharm": {
     "name": "#%%\n"
    }
   },
   "outputs": [
    {
     "data": {
      "text/plain": "0.3333333333333333"
     },
     "execution_count": 41,
     "metadata": {},
     "output_type": "execute_result"
    }
   ],
   "source": [
    "precision_naive(target, sample_users, recs, 5)"
   ]
  },
  {
   "cell_type": "code",
   "execution_count": 42,
   "id": "6e9013f4",
   "metadata": {
    "ExecuteTime": {
     "end_time": "2022-11-16T13:17:04.270475Z",
     "start_time": "2022-11-16T13:17:04.208473Z"
    },
    "pycharm": {
     "name": "#%%\n"
    }
   },
   "outputs": [],
   "source": [
    "@nb.njit(cache=True, parallel=True)\n",
    "def precision_numba(target, users, recs, k):\n",
    "    precision = np.zeros(len(users))\n",
    "    for i in nb.prange(len(users)):\n",
    "        user = users[i]\n",
    "        p = 0\n",
    "        user_target = target[target[:, 0] == user][:, 1]\n",
    "        for rec in recs[i]:\n",
    "            if rec in user_target:\n",
    "                p += 1\n",
    "        precision[i] = p / k\n",
    "    return precision.mean()"
   ]
  },
  {
   "cell_type": "code",
   "execution_count": 43,
   "id": "8e6bddb3",
   "metadata": {
    "ExecuteTime": {
     "end_time": "2022-11-16T13:17:04.919472Z",
     "start_time": "2022-11-16T13:17:04.273475Z"
    },
    "pycharm": {
     "name": "#%%\n"
    }
   },
   "outputs": [
    {
     "data": {
      "text/plain": "0.3333333333333333"
     },
     "execution_count": 43,
     "metadata": {},
     "output_type": "execute_result"
    }
   ],
   "source": [
    "precision_numba(target, np.array(sample_users), recs, 5)"
   ]
  },
  {
   "cell_type": "code",
   "execution_count": 44,
   "id": "f2db84ed",
   "metadata": {
    "ExecuteTime": {
     "end_time": "2022-11-16T13:17:04.935472Z",
     "start_time": "2022-11-16T13:17:04.922564Z"
    },
    "pycharm": {
     "name": "#%%\n"
    }
   },
   "outputs": [
    {
     "data": {
      "text/plain": "0.3333333333333333"
     },
     "execution_count": 44,
     "metadata": {},
     "output_type": "execute_result"
    }
   ],
   "source": [
    "precision_numba(target, np.array(sample_users), recs, 5)"
   ]
  },
  {
   "cell_type": "code",
   "execution_count": 45,
   "id": "eb34dfeb",
   "metadata": {
    "ExecuteTime": {
     "end_time": "2022-11-16T13:17:04.950473Z",
     "start_time": "2022-11-16T13:17:04.938474Z"
    },
    "pycharm": {
     "name": "#%%\n"
    }
   },
   "outputs": [],
   "source": [
    "def precision_pandas(df, users, recs, k):\n",
    "    df_recs = pd.DataFrame({\n",
    "        Columns.User: np.repeat(users, k),\n",
    "        Columns.Item: recs.ravel()\n",
    "    })\n",
    "    df_recs[Columns.Rank] = df_recs.groupby(Columns.User).cumcount() + 1\n",
    "    df_recs = df.merge(df_recs, how='left', left_on=Columns.UserItem, right_on=Columns.UserItem)\n",
    "    tp_k = f'TP@{k}'\n",
    "    df_recs[tp_k] = df_recs[Columns.Rank] < (k + 1)\n",
    "    p = df_recs[tp_k].sum() / k / len(users)\n",
    "    return p"
   ]
  },
  {
   "cell_type": "code",
   "execution_count": 46,
   "id": "b40cf2a1",
   "metadata": {
    "ExecuteTime": {
     "end_time": "2022-11-16T13:17:04.982472Z",
     "start_time": "2022-11-16T13:17:04.953476Z"
    },
    "pycharm": {
     "name": "#%%\n"
    }
   },
   "outputs": [
    {
     "data": {
      "text/plain": "0.3333333333333333"
     },
     "execution_count": 46,
     "metadata": {},
     "output_type": "execute_result"
    }
   ],
   "source": [
    "precision_pandas(df, sample_users, recs, 5)"
   ]
  },
  {
   "cell_type": "markdown",
   "id": "1a2e1aab",
   "metadata": {
    "pycharm": {
     "name": "#%% md\n"
    }
   },
   "source": [
    "Посмотрим через `timeit`"
   ]
  },
  {
   "cell_type": "code",
   "execution_count": 47,
   "id": "48a3a5a4",
   "metadata": {
    "ExecuteTime": {
     "end_time": "2022-11-16T13:17:11.668473Z",
     "start_time": "2022-11-16T13:17:04.986474Z"
    },
    "pycharm": {
     "name": "#%%\n"
    }
   },
   "outputs": [
    {
     "name": "stdout",
     "output_type": "stream",
     "text": [
      "98.7 µs ± 37.8 µs per loop (mean ± std. dev. of 7 runs, 1,000 loops each)\n"
     ]
    }
   ],
   "source": [
    "%timeit precision_naive(target, sample_users, recs, 5)"
   ]
  },
  {
   "cell_type": "code",
   "execution_count": 48,
   "id": "d1d596c6",
   "metadata": {
    "ExecuteTime": {
     "end_time": "2022-11-16T13:17:16.979472Z",
     "start_time": "2022-11-16T13:17:11.670473Z"
    },
    "pycharm": {
     "name": "#%%\n"
    }
   },
   "outputs": [
    {
     "name": "stdout",
     "output_type": "stream",
     "text": [
      "The slowest run took 46.65 times longer than the fastest. This could mean that an intermediate result is being cached.\n",
      "457 µs ± 557 µs per loop (mean ± std. dev. of 7 runs, 10,000 loops each)\n"
     ]
    }
   ],
   "source": [
    "%timeit precision_numba(target, sample_users, recs, 5)"
   ]
  },
  {
   "cell_type": "code",
   "execution_count": 49,
   "id": "db0d4951",
   "metadata": {
    "ExecuteTime": {
     "end_time": "2022-11-16T13:17:19.748472Z",
     "start_time": "2022-11-16T13:17:16.982474Z"
    },
    "pycharm": {
     "name": "#%%\n"
    }
   },
   "outputs": [
    {
     "name": "stdout",
     "output_type": "stream",
     "text": [
      "5.88 ms ± 257 µs per loop (mean ± std. dev. of 7 runs, 100 loops each)\n"
     ]
    }
   ],
   "source": [
    "%timeit precision_pandas(df, sample_users, recs, 5)"
   ]
  },
  {
   "cell_type": "code",
   "execution_count": 50,
   "id": "003c90fd",
   "metadata": {
    "ExecuteTime": {
     "end_time": "2022-11-16T13:17:19.763472Z",
     "start_time": "2022-11-16T13:17:19.751472Z"
    },
    "pycharm": {
     "name": "#%%\n"
    }
   },
   "outputs": [],
   "source": [
    "def generate_subsample(users_count, top_k):\n",
    "    users = np.random.choice(interactions[Columns.User].unique(), users_count, replace=False)\n",
    "    df = interactions[interactions[Columns.User].isin(users)].reset_index(drop=True)\n",
    "    del df[Columns.Datetime], df[Columns.Weight], df['watched_pct']\n",
    "\n",
    "    recs = np.random.choice(df[Columns.Item], size=(users_count, top_k))\n",
    "    return df, users, recs"
   ]
  },
  {
   "cell_type": "code",
   "execution_count": 51,
   "id": "82302497",
   "metadata": {
    "ExecuteTime": {
     "end_time": "2022-11-16T13:17:19.981472Z",
     "start_time": "2022-11-16T13:17:19.766472Z"
    },
    "pycharm": {
     "name": "#%%\n"
    }
   },
   "outputs": [],
   "source": [
    "top_k = 10\n",
    "df, users, recs = generate_subsample(10000, top_k)\n",
    "target = df.values"
   ]
  },
  {
   "cell_type": "code",
   "execution_count": 52,
   "id": "ed196c27",
   "metadata": {
    "ExecuteTime": {
     "end_time": "2022-11-16T13:17:36.490476Z",
     "start_time": "2022-11-16T13:17:19.984472Z"
    },
    "pycharm": {
     "name": "#%%\n"
    }
   },
   "outputs": [
    {
     "name": "stdout",
     "output_type": "stream",
     "text": [
      "3.31 s ± 66.6 ms per loop (mean ± std. dev. of 7 runs, 1 loop each)\n"
     ]
    }
   ],
   "source": [
    "%timeit precision_naive(target, users, recs, top_k)"
   ]
  },
  {
   "cell_type": "code",
   "execution_count": 53,
   "id": "d40279a4",
   "metadata": {
    "ExecuteTime": {
     "end_time": "2022-11-16T13:17:36.615472Z",
     "start_time": "2022-11-16T13:17:36.493475Z"
    },
    "pycharm": {
     "name": "#%%\n"
    }
   },
   "outputs": [
    {
     "data": {
      "text/plain": "0.03048000000000012"
     },
     "execution_count": 53,
     "metadata": {},
     "output_type": "execute_result"
    }
   ],
   "source": [
    "precision_numba(target, users, recs, top_k)"
   ]
  },
  {
   "cell_type": "code",
   "execution_count": 54,
   "id": "ff00d091",
   "metadata": {
    "ExecuteTime": {
     "end_time": "2022-11-16T13:17:44.254473Z",
     "start_time": "2022-11-16T13:17:36.618475Z"
    },
    "pycharm": {
     "name": "#%%\n"
    }
   },
   "outputs": [
    {
     "name": "stdout",
     "output_type": "stream",
     "text": [
      "670 ms ± 32.6 ms per loop (mean ± std. dev. of 7 runs, 1 loop each)\n"
     ]
    }
   ],
   "source": [
    "%timeit precision_numba(target, users, recs, top_k)"
   ]
  },
  {
   "cell_type": "code",
   "execution_count": 55,
   "id": "bb53a8f4",
   "metadata": {
    "ExecuteTime": {
     "end_time": "2022-11-16T13:17:47.065475Z",
     "start_time": "2022-11-16T13:17:44.257476Z"
    },
    "pycharm": {
     "name": "#%%\n"
    }
   },
   "outputs": [
    {
     "name": "stdout",
     "output_type": "stream",
     "text": [
      "41.5 ms ± 3.97 ms per loop (mean ± std. dev. of 7 runs, 10 loops each)\n"
     ]
    }
   ],
   "source": [
    "%timeit precision_pandas(df, users, recs, top_k)"
   ]
  },
  {
   "cell_type": "markdown",
   "id": "5d9eb0b4",
   "metadata": {
    "pycharm": {
     "name": "#%% md\n"
    }
   },
   "source": [
    "## RecTools\n",
    "\n",
    "Рассмотрим, как использовать библиотеку от МТС для подсчета метрик.\n",
    "\n",
    "Полный гайд тут - [RecTools/examples/3_metrics.ipynb](https://github.com/MobileTeleSystems/RecTools/blob/main/examples/3_metrics.ipynb)\n",
    "\n",
    "Вначале вспомним, какие данные есть у нас"
   ]
  },
  {
   "cell_type": "code",
   "execution_count": 56,
   "id": "69cdae87",
   "metadata": {
    "ExecuteTime": {
     "end_time": "2022-11-16T13:17:47.081477Z",
     "start_time": "2022-11-16T13:17:47.068477Z"
    },
    "pycharm": {
     "name": "#%%\n"
    }
   },
   "outputs": [
    {
     "data": {
      "text/plain": "((56805, 2), (10000,), (10000, 10))"
     },
     "execution_count": 56,
     "metadata": {},
     "output_type": "execute_result"
    }
   ],
   "source": [
    "df.shape, users.shape, recs.shape"
   ]
  },
  {
   "cell_type": "code",
   "execution_count": 57,
   "id": "c15a3a3d",
   "metadata": {
    "ExecuteTime": {
     "end_time": "2022-11-16T13:17:47.206475Z",
     "start_time": "2022-11-16T13:17:47.084479Z"
    },
    "pycharm": {
     "name": "#%%\n"
    }
   },
   "outputs": [],
   "source": [
    "from rectools.metrics import Precision, Recall, MAP, calc_metrics"
   ]
  },
  {
   "cell_type": "code",
   "execution_count": 58,
   "id": "f156f6bf",
   "metadata": {
    "ExecuteTime": {
     "end_time": "2022-11-16T13:17:47.222473Z",
     "start_time": "2022-11-16T13:17:47.208477Z"
    },
    "pycharm": {
     "name": "#%%\n"
    }
   },
   "outputs": [],
   "source": [
    "metrics = {\n",
    "    \"prec@1\": Precision(k=1),\n",
    "    \"prec@10\": Precision(k=10),\n",
    "    \"recall@10\": Recall(k=10),\n",
    "    \"MAP@5\": MAP(k=5),\n",
    "    \"MAP@10\": MAP(k=10),\n",
    "}"
   ]
  },
  {
   "cell_type": "code",
   "execution_count": 59,
   "id": "2c5d61a9",
   "metadata": {
    "ExecuteTime": {
     "end_time": "2022-11-16T13:17:47.237486Z",
     "start_time": "2022-11-16T13:17:47.225478Z"
    },
    "pycharm": {
     "name": "#%%\n"
    }
   },
   "outputs": [],
   "source": [
    "catalog = df[Columns.Item].unique()"
   ]
  },
  {
   "cell_type": "code",
   "execution_count": 60,
   "id": "60ce882e",
   "metadata": {
    "ExecuteTime": {
     "end_time": "2022-11-16T13:17:47.267617Z",
     "start_time": "2022-11-16T13:17:47.240494Z"
    },
    "pycharm": {
     "name": "#%%\n"
    }
   },
   "outputs": [],
   "source": [
    "df_recs = pd.DataFrame({\n",
    "    Columns.User: np.repeat(users, top_k),\n",
    "    Columns.Item: recs.ravel()\n",
    "})\n",
    "df_recs[Columns.Rank] = df_recs.groupby(Columns.User).cumcount() + 1"
   ]
  },
  {
   "cell_type": "code",
   "execution_count": 61,
   "id": "6bfb042d",
   "metadata": {
    "ExecuteTime": {
     "end_time": "2022-11-16T13:17:47.346619Z",
     "start_time": "2022-11-16T13:17:47.270620Z"
    },
    "pycharm": {
     "name": "#%%\n"
    }
   },
   "outputs": [],
   "source": [
    "metric_values = calc_metrics(\n",
    "    metrics,\n",
    "    reco=df_recs,\n",
    "    interactions=df,\n",
    ")"
   ]
  },
  {
   "cell_type": "code",
   "execution_count": 62,
   "id": "a9b46c6b",
   "metadata": {
    "ExecuteTime": {
     "end_time": "2022-11-16T13:17:47.362619Z",
     "start_time": "2022-11-16T13:17:47.349619Z"
    },
    "pycharm": {
     "name": "#%%\n"
    }
   },
   "outputs": [
    {
     "data": {
      "text/plain": "{'prec@1': 0.0289,\n 'prec@10': 0.03048,\n 'recall@10': 0.08462718883430417,\n 'MAP@5': 0.01938148253052879,\n 'MAP@10': 0.026219275497237186}"
     },
     "execution_count": 62,
     "metadata": {},
     "output_type": "execute_result"
    }
   ],
   "source": [
    "metric_values"
   ]
  },
  {
   "cell_type": "markdown",
   "id": "75abea7d",
   "metadata": {
    "pycharm": {
     "name": "#%% md\n"
    }
   },
   "source": [
    "Как посчитать одну метрику"
   ]
  },
  {
   "cell_type": "code",
   "execution_count": 63,
   "id": "ad2502ac",
   "metadata": {
    "ExecuteTime": {
     "end_time": "2022-11-16T13:17:47.410619Z",
     "start_time": "2022-11-16T13:17:47.365622Z"
    },
    "pycharm": {
     "name": "#%%\n"
    }
   },
   "outputs": [
    {
     "data": {
      "text/plain": "0.03048"
     },
     "execution_count": 63,
     "metadata": {},
     "output_type": "execute_result"
    }
   ],
   "source": [
    "metrics['prec@10'].calc(df_recs, df)"
   ]
  },
  {
   "cell_type": "code",
   "execution_count": 64,
   "id": "b5117ceb",
   "metadata": {
    "ExecuteTime": {
     "end_time": "2022-11-16T13:17:50.222618Z",
     "start_time": "2022-11-16T13:17:47.412623Z"
    },
    "pycharm": {
     "name": "#%%\n"
    }
   },
   "outputs": [
    {
     "name": "stdout",
     "output_type": "stream",
     "text": [
      "27.3 ms ± 520 µs per loop (mean ± std. dev. of 7 runs, 10 loops each)\n"
     ]
    }
   ],
   "source": [
    "%timeit metrics['prec@10'].calc(df_recs, df)"
   ]
  },
  {
   "cell_type": "code",
   "execution_count": 65,
   "id": "973cb192",
   "metadata": {
    "ExecuteTime": {
     "end_time": "2022-11-16T13:17:50.267620Z",
     "start_time": "2022-11-16T13:17:50.224619Z"
    },
    "pycharm": {
     "name": "#%%\n"
    }
   },
   "outputs": [
    {
     "data": {
      "text/plain": "user_id\n24         0.0\n263        0.0\n477        0.0\n509        0.1\n522        0.0\n          ... \n1097062    0.0\n1097151    0.1\n1097227    0.0\n1097343    0.0\n1097398    0.0\nLength: 10000, dtype: float64"
     },
     "execution_count": 65,
     "metadata": {},
     "output_type": "execute_result"
    }
   ],
   "source": [
    "metrics['prec@10'].calc_per_user(df_recs, df)"
   ]
  },
  {
   "cell_type": "markdown",
   "id": "86146c27",
   "metadata": {
    "pycharm": {
     "name": "#%% md\n"
    }
   },
   "source": [
    "## Homework\n",
    "\n",
    "### PFound\n",
    "Исходные данные - Yandex Cup 2022 Analytics\n",
    "- Ссылка - https://yandex.ru/cup/analytics/analysis/ , пример A. Рассчитать pFound\n",
    "- Данные - https://yadi.sk/d/guqki4UI4hFlXQ\n",
    "- Формула\n",
    "$$pFound@K = \\sum_{i=1}^{k} pLook[i]\\ pRel[i]$$\n",
    "\n",
    "$$pLook[1] = 1$$\n",
    "\n",
    "$$pLook[i] = pLook[i-1]\\ (1 - pRel[i-1])\\ (1 - pBreak)$$\n",
    "\n",
    "$$pBreak = 0.15$$\n",
    "\n",
    "**Задача** - написать функцию, которая принимает на вход dataframe (после join), а на выходе дает средний pFound по всем query.\n",
    "- Запрещается использовать циклы for для расчет метрики (как полностью, так и ее частей).\n",
    "- Усложнение, если задача показалась легкой - попробуйте обойтись без groupby (не уверен, что это возможно, но вдруг вы справитесь)\n",
    "\n",
    "### MRR\n",
    "Исходные данные - результат `generate_subsample`\n",
    "\n",
    "**Задача** - по аналогии с precision написать три версии функции подсчета Mean Reciprocal Rank (naive, numba, pandas) и протестировать на разных размерах выборки\n",
    "- Протестируйте для всех комбинаций (users_count, top_k):\n",
    "  - users_count - [100, 1000, 10000, 100000]\n",
    "  - top_k - [10, 50, 100]\n",
    "- Результатом тестирования должен быть график, где будут отражены следующие показатели:\n",
    "  - Алгоритм - naive, numba, pandas\n",
    "  - Скорость работы (время)\n",
    "  - users_count\n",
    "  - top_k"
   ]
  },
  {
   "cell_type": "code",
   "execution_count": 304,
   "outputs": [],
   "source": [
    "df_s, users_s, recs_s = generate_subsample(100, 10)"
   ],
   "metadata": {
    "collapsed": false,
    "pycharm": {
     "name": "#%%\n"
    }
   }
  },
  {
   "cell_type": "code",
   "execution_count": 305,
   "outputs": [
    {
     "data": {
      "text/plain": "     user_id  item_id\n0      81354     7626\n1     368484    13865\n2     704013    15297\n3      33662    12173\n4     365812     9728\n..       ...      ...\n488   630935    10755\n489   696314     5070\n490   328801    10440\n491   541820    10821\n492   253160    13920\n\n[493 rows x 2 columns]",
      "text/html": "<div>\n<style scoped>\n    .dataframe tbody tr th:only-of-type {\n        vertical-align: middle;\n    }\n\n    .dataframe tbody tr th {\n        vertical-align: top;\n    }\n\n    .dataframe thead th {\n        text-align: right;\n    }\n</style>\n<table border=\"1\" class=\"dataframe\">\n  <thead>\n    <tr style=\"text-align: right;\">\n      <th></th>\n      <th>user_id</th>\n      <th>item_id</th>\n    </tr>\n  </thead>\n  <tbody>\n    <tr>\n      <th>0</th>\n      <td>81354</td>\n      <td>7626</td>\n    </tr>\n    <tr>\n      <th>1</th>\n      <td>368484</td>\n      <td>13865</td>\n    </tr>\n    <tr>\n      <th>2</th>\n      <td>704013</td>\n      <td>15297</td>\n    </tr>\n    <tr>\n      <th>3</th>\n      <td>33662</td>\n      <td>12173</td>\n    </tr>\n    <tr>\n      <th>4</th>\n      <td>365812</td>\n      <td>9728</td>\n    </tr>\n    <tr>\n      <th>...</th>\n      <td>...</td>\n      <td>...</td>\n    </tr>\n    <tr>\n      <th>488</th>\n      <td>630935</td>\n      <td>10755</td>\n    </tr>\n    <tr>\n      <th>489</th>\n      <td>696314</td>\n      <td>5070</td>\n    </tr>\n    <tr>\n      <th>490</th>\n      <td>328801</td>\n      <td>10440</td>\n    </tr>\n    <tr>\n      <th>491</th>\n      <td>541820</td>\n      <td>10821</td>\n    </tr>\n    <tr>\n      <th>492</th>\n      <td>253160</td>\n      <td>13920</td>\n    </tr>\n  </tbody>\n</table>\n<p>493 rows × 2 columns</p>\n</div>"
     },
     "execution_count": 305,
     "metadata": {},
     "output_type": "execute_result"
    }
   ],
   "source": [
    "df"
   ],
   "metadata": {
    "collapsed": false,
    "pycharm": {
     "name": "#%%\n"
    }
   }
  },
  {
   "cell_type": "code",
   "execution_count": 310,
   "outputs": [],
   "source": [
    "def mrr_naive(target, users, recs):\n",
    "    mrr = []\n",
    "    for i, user in enumerate(users):\n",
    "        user_target = target[target[:, 0] == user][:, 1]\n",
    "        for rank, rec in enumerate(recs[i], start=1):\n",
    "            if rec in user_target:\n",
    "                mrr.append(1 / rank)\n",
    "                break\n",
    "    return sum(mrr) / len(users)"
   ],
   "metadata": {
    "collapsed": false,
    "pycharm": {
     "name": "#%%\n"
    }
   }
  },
  {
   "cell_type": "code",
   "execution_count": 311,
   "outputs": [],
   "source": [
    "@nb.njit(cache=True, parallel=True)\n",
    "def mrr_numba(target, users, recs):\n",
    "    mrr = np.zeros(len(users))\n",
    "    for i in nb.prange(len(users)):\n",
    "        user = users[i]\n",
    "        user_target = target[target[:, 0] == user][:, 1]\n",
    "        rank = 0\n",
    "        for rec in recs[i]:\n",
    "            rank += 1\n",
    "            if rec in user_target:\n",
    "                mrr[i] = 1 / rank\n",
    "                break\n",
    "    return mrr.mean()"
   ],
   "metadata": {
    "collapsed": false,
    "pycharm": {
     "name": "#%%\n"
    }
   }
  },
  {
   "cell_type": "code",
   "execution_count": 313,
   "outputs": [
    {
     "data": {
      "text/plain": "0.09267460317460317"
     },
     "execution_count": 313,
     "metadata": {},
     "output_type": "execute_result"
    }
   ],
   "source": [
    "mrr_numba(df_s.values, users_s, recs_s)"
   ],
   "metadata": {
    "collapsed": false,
    "pycharm": {
     "name": "#%%\n"
    }
   }
  },
  {
   "cell_type": "code",
   "execution_count": 315,
   "outputs": [
    {
     "name": "stdout",
     "output_type": "stream",
     "text": [
      "86.6 µs ± 11.5 µs per loop (mean ± std. dev. of 7 runs, 10,000 loops each)\n"
     ]
    }
   ],
   "source": [
    "%timeit mrr_numba(df_s.values, users_s, recs_s)"
   ],
   "metadata": {
    "collapsed": false,
    "pycharm": {
     "name": "#%%\n"
    }
   }
  },
  {
   "cell_type": "code",
   "execution_count": 316,
   "outputs": [
    {
     "data": {
      "text/plain": "0.09267460317460316"
     },
     "execution_count": 316,
     "metadata": {},
     "output_type": "execute_result"
    }
   ],
   "source": [
    "mrr_naive(df_s.values, users_s, recs_s)"
   ],
   "metadata": {
    "collapsed": false,
    "pycharm": {
     "name": "#%%\n"
    }
   }
  },
  {
   "cell_type": "code",
   "execution_count": 317,
   "outputs": [
    {
     "name": "stdout",
     "output_type": "stream",
     "text": [
      "4.6 ms ± 744 µs per loop (mean ± std. dev. of 7 runs, 100 loops each)\n"
     ]
    }
   ],
   "source": [
    "%timeit mrr_naive(df_s.values, users_s, recs_s)"
   ],
   "metadata": {
    "collapsed": false,
    "pycharm": {
     "name": "#%%\n"
    }
   }
  },
  {
   "cell_type": "code",
   "execution_count": 318,
   "outputs": [],
   "source": [
    "def mrr_pandas(df, users, recs):\n",
    "    k = recs.shape[1]\n",
    "    df_recs = pd.DataFrame({\n",
    "        Columns.User: np.repeat(users, k),\n",
    "        Columns.Item: recs.ravel()\n",
    "    })\n",
    "    df_recs[Columns.Rank] = df_recs.groupby(Columns.User).cumcount() + 1\n",
    "    df_recs = df.merge(df_recs, how='left', on=[Columns.User, Columns.Item])\n",
    "    df_recs = df_recs.groupby([Columns.User])[Columns.Rank].min()\n",
    "    df_recs = 1 / df_recs\n",
    "    return df_recs.sum() / len(users)"
   ],
   "metadata": {
    "collapsed": false,
    "pycharm": {
     "name": "#%%\n"
    }
   }
  },
  {
   "cell_type": "code",
   "execution_count": 319,
   "outputs": [
    {
     "name": "stdout",
     "output_type": "stream",
     "text": [
      "4.92 ms ± 1.18 ms per loop (mean ± std. dev. of 7 runs, 100 loops each)\n"
     ]
    }
   ],
   "source": [
    "%timeit mrr_pandas(df_s, users_s, recs_s)"
   ],
   "metadata": {
    "collapsed": false,
    "pycharm": {
     "name": "#%%\n"
    }
   }
  },
  {
   "cell_type": "code",
   "execution_count": 320,
   "outputs": [
    {
     "data": {
      "text/plain": "0.09267460317460317"
     },
     "execution_count": 320,
     "metadata": {},
     "output_type": "execute_result"
    }
   ],
   "source": [
    "mrr_pandas(df_s, users_s, recs_s)"
   ],
   "metadata": {
    "collapsed": false,
    "pycharm": {
     "name": "#%%\n"
    }
   }
  },
  {
   "cell_type": "code",
   "execution_count": 353,
   "outputs": [],
   "source": [
    "users_count = [100, 1000, 10000, 100000]\n",
    "top_k = [10, 50, 100]\n",
    "algos = {\n",
    "    \"naive\": mrr_naive,\n",
    "    \"numba\": mrr_numba,\n",
    "    \"pandas\": mrr_pandas,\n",
    "}\n",
    "data_format = {\n",
    "    \"naive\": lambda x: x.values,\n",
    "    \"numba\": lambda x: x.values,\n",
    "    \"pandas\": None,\n",
    "}"
   ],
   "metadata": {
    "collapsed": false,
    "pycharm": {
     "name": "#%%\n"
    }
   }
  },
  {
   "cell_type": "code",
   "execution_count": 354,
   "outputs": [],
   "source": [
    "from itertools import product\n",
    "import seaborn as sns\n",
    "import time\n",
    "from tqdm import tqdm\n",
    "from matplotlib import pyplot as plt"
   ],
   "metadata": {
    "collapsed": false,
    "pycharm": {
     "name": "#%%\n"
    }
   }
  },
  {
   "cell_type": "code",
   "execution_count": 355,
   "outputs": [],
   "source": [
    "results = {}"
   ],
   "metadata": {
    "collapsed": false,
    "pycharm": {
     "name": "#%%\n"
    }
   }
  },
  {
   "cell_type": "code",
   "execution_count": 356,
   "outputs": [
    {
     "name": "stderr",
     "output_type": "stream",
     "text": [
      "100%|██████████| 12/12 [08:23<00:00, 41.96s/it] \n",
      "100%|██████████| 12/12 [02:12<00:00, 11.07s/it]\n",
      "100%|██████████| 12/12 [00:14<00:00,  1.21s/it]\n"
     ]
    }
   ],
   "source": [
    "for algo_name, algo in algos.items():\n",
    "    results[algo_name] = {\n",
    "        'users': [],\n",
    "        'top_k': [],\n",
    "        'time': [],\n",
    "    }\n",
    "    for cur_users_count, cur_top_k in tqdm(list(product(users_count, top_k))):\n",
    "        df, users, recs = generate_subsample(cur_users_count, cur_top_k)\n",
    "        df = df if data_format[algo_name] is None else data_format[algo_name](df)\n",
    "\n",
    "        time_start = time.time_ns()\n",
    "        algo_result = algo(df, users, recs)\n",
    "        algo_time = time.time_ns() - time_start\n",
    "        results[algo_name]['users'].append(cur_users_count)\n",
    "        results[algo_name]['top_k'].append(cur_top_k)\n",
    "        results[algo_name]['time'].append(algo_time)\n"
   ],
   "metadata": {
    "collapsed": false,
    "pycharm": {
     "name": "#%%\n"
    }
   }
  },
  {
   "cell_type": "code",
   "execution_count": 357,
   "outputs": [
    {
     "data": {
      "text/plain": "<Figure size 640x480 with 0 Axes>"
     },
     "metadata": {},
     "output_type": "display_data"
    }
   ],
   "source": [
    "for algo_name, algo in algos.items():\n",
    "    sns.lineplot(x=results[algo_name]['users'], y=results[algo_name]['time'], hue=results[algo_name]['top_k'])\n",
    "    plt.title(f'Algorithm: {algo_name}')\n",
    "    plt.xlabel('Users')\n",
    "    plt.ylabel('Time')\n",
    "    plt.legend([f'Top-{k}' for k in sorted(set(results[algo_name]['top_k']))])\n",
    "    plt.savefig(f'figs/{algo_name}.png')\n",
    "    plt.clf()"
   ],
   "metadata": {
    "collapsed": false,
    "pycharm": {
     "name": "#%%\n"
    }
   }
  },
  {
   "cell_type": "code",
   "execution_count": 66,
   "outputs": [],
   "source": [],
   "metadata": {
    "collapsed": false,
    "pycharm": {
     "name": "#%%\n"
    }
   }
  },
  {
   "cell_type": "code",
   "execution_count": 66,
   "id": "a0e001ef",
   "metadata": {
    "pycharm": {
     "name": "#%%\n"
    }
   },
   "outputs": [],
   "source": []
  },
  {
   "cell_type": "code",
   "execution_count": 67,
   "outputs": [],
   "source": [
    "qid_query = pd.read_csv(\"/home/kpavel/PycharmProjects/RecoService/notebooks/hw2/yacup/qid_query.tsv\", sep=\"\\t\", names=[\"qid\", \"query\"])\n",
    "qid_url_rating = pd.read_csv(\"/home/kpavel/PycharmProjects/RecoService/notebooks/hw2/yacup/qid_url_rating.tsv\", sep=\"\\t\", names=[\"qid\", \"url\", \"rating\"])\n",
    "hostid_url = pd.read_csv(\"/home/kpavel/PycharmProjects/RecoService/notebooks/hw2/yacup/hostid_url.tsv\", sep=\"\\t\", names=[\"hostid\", \"url\"])\n",
    "\n",
    "qid_url_rating_hostid = pd.merge(qid_url_rating, hostid_url, on=\"url\")"
   ],
   "metadata": {
    "collapsed": false,
    "pycharm": {
     "name": "#%%\n"
    }
   }
  },
  {
   "cell_type": "code",
   "execution_count": 68,
   "outputs": [],
   "source": [
    "qid_url_rating_hostid = qid_url_rating_hostid.sort_values(['hostid', 'rating']).reset_index(drop=True)"
   ],
   "metadata": {
    "collapsed": false,
    "pycharm": {
     "name": "#%%\n"
    }
   }
  },
  {
   "cell_type": "code",
   "execution_count": 69,
   "outputs": [],
   "source": [
    "p = 10"
   ],
   "metadata": {
    "collapsed": false,
    "pycharm": {
     "name": "#%%\n"
    }
   }
  },
  {
   "cell_type": "code",
   "execution_count": null,
   "outputs": [],
   "source": [
    "qid_url_rating_hostid.groupby"
   ],
   "metadata": {
    "collapsed": false,
    "pycharm": {
     "name": "#%%\n"
    }
   }
  },
  {
   "cell_type": "code",
   "execution_count": 415,
   "outputs": [
    {
     "data": {
      "text/plain": "Int64Index([  5308,  48815,  49587,  55082,  58989,  60304,  63179,  70357,\n             70618,  79514,  91889,  99543, 402111, 405851, 407522, 409073,\n            438518, 690263, 692059, 692308],\n           dtype='int64', name='qid')"
     },
     "execution_count": 415,
     "metadata": {},
     "output_type": "execute_result"
    }
   ],
   "source": [
    "qid_url_rating_hostid.groupby(\"qid\").count().index"
   ],
   "metadata": {
    "collapsed": false,
    "pycharm": {
     "name": "#%%\n"
    }
   }
  },
  {
   "cell_type": "code",
   "execution_count": 416,
   "outputs": [],
   "source": [
    "max_by_host = qid_url_rating_hostid[qid_url_rating_hostid.qid == 5308].groupby(\"hostid\").head(p).reset_index(drop=True)"
   ],
   "metadata": {
    "collapsed": false,
    "pycharm": {
     "name": "#%%\n"
    }
   }
  },
  {
   "cell_type": "code",
   "execution_count": 419,
   "outputs": [
    {
     "data": {
      "text/plain": "      qid                                                url  rating  hostid\n6    5308                  http://3pu.info/seo-tools/domains    0.00      10\n26   5308                            http://art-domain.info/    0.00      47\n44   5308                        http://caxapa.ru/92670.html    0.00      88\n59   5308  http://distributed.org.ua/index.php?go=Pages&i...    0.00     119\n79   5308  http://forum.oszone.net/nextoldesttothread-114...    0.14     160\n80   5308           http://forum.oszone.net/post-572043.html    0.14     160\n94   5308       http://gudzonhost.ru/indexns.php?n=5&id=1938    0.07     195\n97   5308                               http://home-bank.kz/    0.07     202\n98   5308                              http://home.live.com/    0.00     203\n104  5308   http://hosting.agava.ru/faq/general/domain.shtml    0.14     208\n194  5308              http://masterhost.ru/support/doc/php/    0.07     323\n458  5308                          http://www.athomejobs.co/    0.00     682\n464  5308                             http://www.avahost.ru/    0.00     689\n477  5308                               http://www.bijid.ru/    0.14     707\n487  5308  http://www.choicehosting.ru/Windows-7-home-bas...    0.00     727\n493  5308                                http://www.cmcc.ru/    0.00     734\n513  5308                             http://www.domain.com/    0.00     767\n552  5308                              http://www.hoster.ru/    0.07     835\n586  5308               http://www.irm.ru/content/domen.html    0.00     866\n637  5308      http://www.nic.ru/?ipartner=182&adv_id=wkmain    0.00     960\n638  5308                                 http://www.nic.ru/    0.07     960\n692  5308  http://www.securitylab.ru/forum/forum18/topic4...    0.07    1044\n695  5308                       http://www.sites.google.com/    0.00    1050\n723  5308                          http://www.toymotion.com/    0.00    1097",
      "text/html": "<div>\n<style scoped>\n    .dataframe tbody tr th:only-of-type {\n        vertical-align: middle;\n    }\n\n    .dataframe tbody tr th {\n        vertical-align: top;\n    }\n\n    .dataframe thead th {\n        text-align: right;\n    }\n</style>\n<table border=\"1\" class=\"dataframe\">\n  <thead>\n    <tr style=\"text-align: right;\">\n      <th></th>\n      <th>qid</th>\n      <th>url</th>\n      <th>rating</th>\n      <th>hostid</th>\n    </tr>\n  </thead>\n  <tbody>\n    <tr>\n      <th>6</th>\n      <td>5308</td>\n      <td>http://3pu.info/seo-tools/domains</td>\n      <td>0.00</td>\n      <td>10</td>\n    </tr>\n    <tr>\n      <th>26</th>\n      <td>5308</td>\n      <td>http://art-domain.info/</td>\n      <td>0.00</td>\n      <td>47</td>\n    </tr>\n    <tr>\n      <th>44</th>\n      <td>5308</td>\n      <td>http://caxapa.ru/92670.html</td>\n      <td>0.00</td>\n      <td>88</td>\n    </tr>\n    <tr>\n      <th>59</th>\n      <td>5308</td>\n      <td>http://distributed.org.ua/index.php?go=Pages&amp;i...</td>\n      <td>0.00</td>\n      <td>119</td>\n    </tr>\n    <tr>\n      <th>79</th>\n      <td>5308</td>\n      <td>http://forum.oszone.net/nextoldesttothread-114...</td>\n      <td>0.14</td>\n      <td>160</td>\n    </tr>\n    <tr>\n      <th>80</th>\n      <td>5308</td>\n      <td>http://forum.oszone.net/post-572043.html</td>\n      <td>0.14</td>\n      <td>160</td>\n    </tr>\n    <tr>\n      <th>94</th>\n      <td>5308</td>\n      <td>http://gudzonhost.ru/indexns.php?n=5&amp;id=1938</td>\n      <td>0.07</td>\n      <td>195</td>\n    </tr>\n    <tr>\n      <th>97</th>\n      <td>5308</td>\n      <td>http://home-bank.kz/</td>\n      <td>0.07</td>\n      <td>202</td>\n    </tr>\n    <tr>\n      <th>98</th>\n      <td>5308</td>\n      <td>http://home.live.com/</td>\n      <td>0.00</td>\n      <td>203</td>\n    </tr>\n    <tr>\n      <th>104</th>\n      <td>5308</td>\n      <td>http://hosting.agava.ru/faq/general/domain.shtml</td>\n      <td>0.14</td>\n      <td>208</td>\n    </tr>\n    <tr>\n      <th>194</th>\n      <td>5308</td>\n      <td>http://masterhost.ru/support/doc/php/</td>\n      <td>0.07</td>\n      <td>323</td>\n    </tr>\n    <tr>\n      <th>458</th>\n      <td>5308</td>\n      <td>http://www.athomejobs.co/</td>\n      <td>0.00</td>\n      <td>682</td>\n    </tr>\n    <tr>\n      <th>464</th>\n      <td>5308</td>\n      <td>http://www.avahost.ru/</td>\n      <td>0.00</td>\n      <td>689</td>\n    </tr>\n    <tr>\n      <th>477</th>\n      <td>5308</td>\n      <td>http://www.bijid.ru/</td>\n      <td>0.14</td>\n      <td>707</td>\n    </tr>\n    <tr>\n      <th>487</th>\n      <td>5308</td>\n      <td>http://www.choicehosting.ru/Windows-7-home-bas...</td>\n      <td>0.00</td>\n      <td>727</td>\n    </tr>\n    <tr>\n      <th>493</th>\n      <td>5308</td>\n      <td>http://www.cmcc.ru/</td>\n      <td>0.00</td>\n      <td>734</td>\n    </tr>\n    <tr>\n      <th>513</th>\n      <td>5308</td>\n      <td>http://www.domain.com/</td>\n      <td>0.00</td>\n      <td>767</td>\n    </tr>\n    <tr>\n      <th>552</th>\n      <td>5308</td>\n      <td>http://www.hoster.ru/</td>\n      <td>0.07</td>\n      <td>835</td>\n    </tr>\n    <tr>\n      <th>586</th>\n      <td>5308</td>\n      <td>http://www.irm.ru/content/domen.html</td>\n      <td>0.00</td>\n      <td>866</td>\n    </tr>\n    <tr>\n      <th>637</th>\n      <td>5308</td>\n      <td>http://www.nic.ru/?ipartner=182&amp;adv_id=wkmain</td>\n      <td>0.00</td>\n      <td>960</td>\n    </tr>\n    <tr>\n      <th>638</th>\n      <td>5308</td>\n      <td>http://www.nic.ru/</td>\n      <td>0.07</td>\n      <td>960</td>\n    </tr>\n    <tr>\n      <th>692</th>\n      <td>5308</td>\n      <td>http://www.securitylab.ru/forum/forum18/topic4...</td>\n      <td>0.07</td>\n      <td>1044</td>\n    </tr>\n    <tr>\n      <th>695</th>\n      <td>5308</td>\n      <td>http://www.sites.google.com/</td>\n      <td>0.00</td>\n      <td>1050</td>\n    </tr>\n    <tr>\n      <th>723</th>\n      <td>5308</td>\n      <td>http://www.toymotion.com/</td>\n      <td>0.00</td>\n      <td>1097</td>\n    </tr>\n  </tbody>\n</table>\n</div>"
     },
     "execution_count": 419,
     "metadata": {},
     "output_type": "execute_result"
    }
   ],
   "source": [
    "qid_url_rating_hostid[qid_url_rating_hostid.qid == 5308]"
   ],
   "metadata": {
    "collapsed": false,
    "pycharm": {
     "name": "#%%\n"
    }
   }
  },
  {
   "cell_type": "code",
   "execution_count": 422,
   "outputs": [],
   "source": [
    "max_by_host = max_by_host.sort_values('rating', ascending=False)[:p]"
   ],
   "metadata": {
    "collapsed": false,
    "pycharm": {
     "name": "#%%\n"
    }
   }
  },
  {
   "cell_type": "code",
   "execution_count": 423,
   "outputs": [
    {
     "data": {
      "text/plain": "     qid                                                url  rating  hostid\n4   5308  http://forum.oszone.net/nextoldesttothread-114...    0.14     160\n5   5308           http://forum.oszone.net/post-572043.html    0.14     160\n9   5308   http://hosting.agava.ru/faq/general/domain.shtml    0.14     208\n13  5308                               http://www.bijid.ru/    0.14     707\n21  5308  http://www.securitylab.ru/forum/forum18/topic4...    0.07    1044\n6   5308       http://gudzonhost.ru/indexns.php?n=5&id=1938    0.07     195\n7   5308                               http://home-bank.kz/    0.07     202\n20  5308                                 http://www.nic.ru/    0.07     960\n10  5308              http://masterhost.ru/support/doc/php/    0.07     323\n17  5308                              http://www.hoster.ru/    0.07     835",
      "text/html": "<div>\n<style scoped>\n    .dataframe tbody tr th:only-of-type {\n        vertical-align: middle;\n    }\n\n    .dataframe tbody tr th {\n        vertical-align: top;\n    }\n\n    .dataframe thead th {\n        text-align: right;\n    }\n</style>\n<table border=\"1\" class=\"dataframe\">\n  <thead>\n    <tr style=\"text-align: right;\">\n      <th></th>\n      <th>qid</th>\n      <th>url</th>\n      <th>rating</th>\n      <th>hostid</th>\n    </tr>\n  </thead>\n  <tbody>\n    <tr>\n      <th>4</th>\n      <td>5308</td>\n      <td>http://forum.oszone.net/nextoldesttothread-114...</td>\n      <td>0.14</td>\n      <td>160</td>\n    </tr>\n    <tr>\n      <th>5</th>\n      <td>5308</td>\n      <td>http://forum.oszone.net/post-572043.html</td>\n      <td>0.14</td>\n      <td>160</td>\n    </tr>\n    <tr>\n      <th>9</th>\n      <td>5308</td>\n      <td>http://hosting.agava.ru/faq/general/domain.shtml</td>\n      <td>0.14</td>\n      <td>208</td>\n    </tr>\n    <tr>\n      <th>13</th>\n      <td>5308</td>\n      <td>http://www.bijid.ru/</td>\n      <td>0.14</td>\n      <td>707</td>\n    </tr>\n    <tr>\n      <th>21</th>\n      <td>5308</td>\n      <td>http://www.securitylab.ru/forum/forum18/topic4...</td>\n      <td>0.07</td>\n      <td>1044</td>\n    </tr>\n    <tr>\n      <th>6</th>\n      <td>5308</td>\n      <td>http://gudzonhost.ru/indexns.php?n=5&amp;id=1938</td>\n      <td>0.07</td>\n      <td>195</td>\n    </tr>\n    <tr>\n      <th>7</th>\n      <td>5308</td>\n      <td>http://home-bank.kz/</td>\n      <td>0.07</td>\n      <td>202</td>\n    </tr>\n    <tr>\n      <th>20</th>\n      <td>5308</td>\n      <td>http://www.nic.ru/</td>\n      <td>0.07</td>\n      <td>960</td>\n    </tr>\n    <tr>\n      <th>10</th>\n      <td>5308</td>\n      <td>http://masterhost.ru/support/doc/php/</td>\n      <td>0.07</td>\n      <td>323</td>\n    </tr>\n    <tr>\n      <th>17</th>\n      <td>5308</td>\n      <td>http://www.hoster.ru/</td>\n      <td>0.07</td>\n      <td>835</td>\n    </tr>\n  </tbody>\n</table>\n</div>"
     },
     "execution_count": 423,
     "metadata": {},
     "output_type": "execute_result"
    }
   ],
   "source": [
    "max_by_host"
   ],
   "metadata": {
    "collapsed": false,
    "pycharm": {
     "name": "#%%\n"
    }
   }
  },
  {
   "cell_type": "code",
   "execution_count": 438,
   "outputs": [],
   "source": [
    "dftmp = max_by_host#.sort_values(['hostid', 'rating'], ascending=False)#.groupby('hostid').cumcount() + 1"
   ],
   "metadata": {
    "collapsed": false,
    "pycharm": {
     "name": "#%%\n"
    }
   }
  },
  {
   "cell_type": "code",
   "execution_count": 458,
   "outputs": [],
   "source": [
    "pbreak = 0.15\n",
    "dftmp['pLook'] = (dftmp.groupby('hostid').cumcount() + 1) * (1 - dftmp['rating']) * (1 - 0.15)"
   ],
   "metadata": {
    "collapsed": false,
    "pycharm": {
     "name": "#%%\n"
    }
   }
  },
  {
   "cell_type": "code",
   "execution_count": 458,
   "outputs": [],
   "source": [],
   "metadata": {
    "collapsed": false,
    "pycharm": {
     "name": "#%%\n"
    }
   }
  },
  {
   "cell_type": "code",
   "execution_count": 464,
   "outputs": [
    {
     "data": {
      "text/plain": "     qid                                                url  rating  hostid  \\\n4   5308  http://forum.oszone.net/nextoldesttothread-114...    0.14     160   \n5   5308           http://forum.oszone.net/post-572043.html    0.14     160   \n9   5308   http://hosting.agava.ru/faq/general/domain.shtml    0.14     208   \n13  5308                               http://www.bijid.ru/    0.14     707   \n21  5308  http://www.securitylab.ru/forum/forum18/topic4...    0.07    1044   \n6   5308       http://gudzonhost.ru/indexns.php?n=5&id=1938    0.07     195   \n7   5308                               http://home-bank.kz/    0.07     202   \n20  5308                                 http://www.nic.ru/    0.07     960   \n10  5308              http://masterhost.ru/support/doc/php/    0.07     323   \n17  5308                              http://www.hoster.ru/    0.07     835   \n\n     pLook    pFound  \n4   0.7310  0.102340  \n5   1.4620  0.204680  \n9   0.7310  0.102340  \n13  0.7310  0.102340  \n21  0.7905  0.055335  \n6   0.7905  0.055335  \n7   0.7905  0.055335  \n20  0.7905  0.055335  \n10  0.7905  0.055335  \n17  0.7905  0.055335  ",
      "text/html": "<div>\n<style scoped>\n    .dataframe tbody tr th:only-of-type {\n        vertical-align: middle;\n    }\n\n    .dataframe tbody tr th {\n        vertical-align: top;\n    }\n\n    .dataframe thead th {\n        text-align: right;\n    }\n</style>\n<table border=\"1\" class=\"dataframe\">\n  <thead>\n    <tr style=\"text-align: right;\">\n      <th></th>\n      <th>qid</th>\n      <th>url</th>\n      <th>rating</th>\n      <th>hostid</th>\n      <th>pLook</th>\n      <th>pFound</th>\n    </tr>\n  </thead>\n  <tbody>\n    <tr>\n      <th>4</th>\n      <td>5308</td>\n      <td>http://forum.oszone.net/nextoldesttothread-114...</td>\n      <td>0.14</td>\n      <td>160</td>\n      <td>0.7310</td>\n      <td>0.102340</td>\n    </tr>\n    <tr>\n      <th>5</th>\n      <td>5308</td>\n      <td>http://forum.oszone.net/post-572043.html</td>\n      <td>0.14</td>\n      <td>160</td>\n      <td>1.4620</td>\n      <td>0.204680</td>\n    </tr>\n    <tr>\n      <th>9</th>\n      <td>5308</td>\n      <td>http://hosting.agava.ru/faq/general/domain.shtml</td>\n      <td>0.14</td>\n      <td>208</td>\n      <td>0.7310</td>\n      <td>0.102340</td>\n    </tr>\n    <tr>\n      <th>13</th>\n      <td>5308</td>\n      <td>http://www.bijid.ru/</td>\n      <td>0.14</td>\n      <td>707</td>\n      <td>0.7310</td>\n      <td>0.102340</td>\n    </tr>\n    <tr>\n      <th>21</th>\n      <td>5308</td>\n      <td>http://www.securitylab.ru/forum/forum18/topic4...</td>\n      <td>0.07</td>\n      <td>1044</td>\n      <td>0.7905</td>\n      <td>0.055335</td>\n    </tr>\n    <tr>\n      <th>6</th>\n      <td>5308</td>\n      <td>http://gudzonhost.ru/indexns.php?n=5&amp;id=1938</td>\n      <td>0.07</td>\n      <td>195</td>\n      <td>0.7905</td>\n      <td>0.055335</td>\n    </tr>\n    <tr>\n      <th>7</th>\n      <td>5308</td>\n      <td>http://home-bank.kz/</td>\n      <td>0.07</td>\n      <td>202</td>\n      <td>0.7905</td>\n      <td>0.055335</td>\n    </tr>\n    <tr>\n      <th>20</th>\n      <td>5308</td>\n      <td>http://www.nic.ru/</td>\n      <td>0.07</td>\n      <td>960</td>\n      <td>0.7905</td>\n      <td>0.055335</td>\n    </tr>\n    <tr>\n      <th>10</th>\n      <td>5308</td>\n      <td>http://masterhost.ru/support/doc/php/</td>\n      <td>0.07</td>\n      <td>323</td>\n      <td>0.7905</td>\n      <td>0.055335</td>\n    </tr>\n    <tr>\n      <th>17</th>\n      <td>5308</td>\n      <td>http://www.hoster.ru/</td>\n      <td>0.07</td>\n      <td>835</td>\n      <td>0.7905</td>\n      <td>0.055335</td>\n    </tr>\n  </tbody>\n</table>\n</div>"
     },
     "execution_count": 464,
     "metadata": {},
     "output_type": "execute_result"
    }
   ],
   "source": [
    "dftmp"
   ],
   "metadata": {
    "collapsed": false,
    "pycharm": {
     "name": "#%%\n"
    }
   }
  },
  {
   "cell_type": "code",
   "execution_count": 460,
   "outputs": [],
   "source": [
    "dftmp['pFound'] = dftmp['pLook'] * dftmp['rating']"
   ],
   "metadata": {
    "collapsed": false,
    "pycharm": {
     "name": "#%%\n"
    }
   }
  },
  {
   "cell_type": "code",
   "execution_count": 472,
   "outputs": [
    {
     "name": "stderr",
     "output_type": "stream",
     "text": [
      "/tmp/ipykernel_53291/3608661173.py:1: FutureWarning: The behavior of `series[i:j]` with an integer-dtype index is deprecated. In a future version, this will be treated as *label-based* indexing, consistent with e.g. `series[i]` lookups. To retain the old behavior, use `series.iloc[i:j]`. To get the future behavior, use `series.loc[i:j]`.\n",
      "  dftmp['pFound'][:3].sum()\n"
     ]
    },
    {
     "data": {
      "text/plain": "0.40936000000000006"
     },
     "execution_count": 472,
     "metadata": {},
     "output_type": "execute_result"
    }
   ],
   "source": [
    "dftmp['pFound'][:3].sum()"
   ],
   "metadata": {
    "collapsed": false,
    "pycharm": {
     "name": "#%%\n"
    }
   }
  },
  {
   "cell_type": "code",
   "execution_count": 469,
   "outputs": [
    {
     "data": {
      "text/plain": "0.8437100000000001"
     },
     "execution_count": 469,
     "metadata": {},
     "output_type": "execute_result"
    }
   ],
   "source": [
    "dftmp['pFound'].sum()"
   ],
   "metadata": {
    "collapsed": false,
    "pycharm": {
     "name": "#%%\n"
    }
   }
  },
  {
   "cell_type": "code",
   "execution_count": 462,
   "outputs": [],
   "source": [
    "def plook(ind, rels):\n",
    "    if ind == 0:\n",
    "        return 1\n",
    "    return plook(ind-1, rels)*(1-rels[ind-1])*(1-pbreak)\n",
    "\n",
    "def pfound(group):\n",
    "    max_by_host = group.groupby(\"hostid\")[\"rating\"].max() # максимальный рейтинг хоста\n",
    "    top10 = max_by_host.sort_values(ascending=False)[:p] # берем топ10 урлов с наивысшим рейтингом\n",
    "    # print(top10)\n",
    "    # pfound = ''\n",
    "    pfound = 0\n",
    "    for ind, val in enumerate(top10):\n",
    "        pfound += val*plook(ind, top10.values)\n",
    "    return pfound"
   ],
   "metadata": {
    "collapsed": false,
    "pycharm": {
     "name": "#%%\n"
    }
   }
  },
  {
   "cell_type": "code",
   "execution_count": 429,
   "outputs": [],
   "source": [],
   "metadata": {
    "collapsed": false,
    "pycharm": {
     "name": "#%%\n"
    }
   }
  },
  {
   "cell_type": "code",
   "execution_count": 430,
   "outputs": [
    {
     "data": {
      "text/plain": "        qid                                                url  rating  hostid\n0     70357                 http://09spravki.ru/requisites.php    0.00       1\n1     49587                    http://16x.zp.ua/find.php?id=13    0.00       5\n2     49587  http://16x.zp.ua/sorties.php?sid=812&action=a&...    0.00       5\n3    402111  http://24-job.com/board/job_australia/232-1-2-...    0.07       7\n4    402111  http://24-job.com/board/job_australia/232-1-2-...    0.07       7\n..      ...                                                ...     ...     ...\n798  690263                   http://z-oleg.com/secur/avz_doc/    0.61    1180\n799   99543        http://zapil77.by.ru/kubok-kvn-g-dubna.html    0.00    1182\n800   63179  http://zhitejnik.ru/aktery-rezhissery-tele/221...    0.00    1184\n801   48815               http://zoolife.com.ua/pageid838.html    0.14    1188\n802   58989                    http://zvuki.pasha.ru/S/P/60690    0.00    1189\n\n[803 rows x 4 columns]",
      "text/html": "<div>\n<style scoped>\n    .dataframe tbody tr th:only-of-type {\n        vertical-align: middle;\n    }\n\n    .dataframe tbody tr th {\n        vertical-align: top;\n    }\n\n    .dataframe thead th {\n        text-align: right;\n    }\n</style>\n<table border=\"1\" class=\"dataframe\">\n  <thead>\n    <tr style=\"text-align: right;\">\n      <th></th>\n      <th>qid</th>\n      <th>url</th>\n      <th>rating</th>\n      <th>hostid</th>\n    </tr>\n  </thead>\n  <tbody>\n    <tr>\n      <th>0</th>\n      <td>70357</td>\n      <td>http://09spravki.ru/requisites.php</td>\n      <td>0.00</td>\n      <td>1</td>\n    </tr>\n    <tr>\n      <th>1</th>\n      <td>49587</td>\n      <td>http://16x.zp.ua/find.php?id=13</td>\n      <td>0.00</td>\n      <td>5</td>\n    </tr>\n    <tr>\n      <th>2</th>\n      <td>49587</td>\n      <td>http://16x.zp.ua/sorties.php?sid=812&amp;action=a&amp;...</td>\n      <td>0.00</td>\n      <td>5</td>\n    </tr>\n    <tr>\n      <th>3</th>\n      <td>402111</td>\n      <td>http://24-job.com/board/job_australia/232-1-2-...</td>\n      <td>0.07</td>\n      <td>7</td>\n    </tr>\n    <tr>\n      <th>4</th>\n      <td>402111</td>\n      <td>http://24-job.com/board/job_australia/232-1-2-...</td>\n      <td>0.07</td>\n      <td>7</td>\n    </tr>\n    <tr>\n      <th>...</th>\n      <td>...</td>\n      <td>...</td>\n      <td>...</td>\n      <td>...</td>\n    </tr>\n    <tr>\n      <th>798</th>\n      <td>690263</td>\n      <td>http://z-oleg.com/secur/avz_doc/</td>\n      <td>0.61</td>\n      <td>1180</td>\n    </tr>\n    <tr>\n      <th>799</th>\n      <td>99543</td>\n      <td>http://zapil77.by.ru/kubok-kvn-g-dubna.html</td>\n      <td>0.00</td>\n      <td>1182</td>\n    </tr>\n    <tr>\n      <th>800</th>\n      <td>63179</td>\n      <td>http://zhitejnik.ru/aktery-rezhissery-tele/221...</td>\n      <td>0.00</td>\n      <td>1184</td>\n    </tr>\n    <tr>\n      <th>801</th>\n      <td>48815</td>\n      <td>http://zoolife.com.ua/pageid838.html</td>\n      <td>0.14</td>\n      <td>1188</td>\n    </tr>\n    <tr>\n      <th>802</th>\n      <td>58989</td>\n      <td>http://zvuki.pasha.ru/S/P/60690</td>\n      <td>0.00</td>\n      <td>1189</td>\n    </tr>\n  </tbody>\n</table>\n<p>803 rows × 4 columns</p>\n</div>"
     },
     "execution_count": 430,
     "metadata": {},
     "output_type": "execute_result"
    }
   ],
   "source": [
    "qid_url_rating_hostid"
   ],
   "metadata": {
    "collapsed": false,
    "pycharm": {
     "name": "#%%\n"
    }
   }
  },
  {
   "cell_type": "code",
   "execution_count": 431,
   "outputs": [
    {
     "name": "stderr",
     "output_type": "stream",
     "text": [
      "/tmp/ipykernel_53291/1682255497.py:8: FutureWarning: The behavior of `series[i:j]` with an integer-dtype index is deprecated. In a future version, this will be treated as *label-based* indexing, consistent with e.g. `series[i]` lookups. To retain the old behavior, use `series.iloc[i:j]`. To get the future behavior, use `series.loc[i:j]`.\n",
      "  top10 = max_by_host.sort_values(ascending=False)[:p] # берем топ10 урлов с наивысшим рейтингом\n",
      "/tmp/ipykernel_53291/1682255497.py:8: FutureWarning: The behavior of `series[i:j]` with an integer-dtype index is deprecated. In a future version, this will be treated as *label-based* indexing, consistent with e.g. `series[i]` lookups. To retain the old behavior, use `series.iloc[i:j]`. To get the future behavior, use `series.loc[i:j]`.\n",
      "  top10 = max_by_host.sort_values(ascending=False)[:p] # берем топ10 урлов с наивысшим рейтингом\n",
      "/tmp/ipykernel_53291/1682255497.py:8: FutureWarning: The behavior of `series[i:j]` with an integer-dtype index is deprecated. In a future version, this will be treated as *label-based* indexing, consistent with e.g. `series[i]` lookups. To retain the old behavior, use `series.iloc[i:j]`. To get the future behavior, use `series.loc[i:j]`.\n",
      "  top10 = max_by_host.sort_values(ascending=False)[:p] # берем топ10 урлов с наивысшим рейтингом\n",
      "/tmp/ipykernel_53291/1682255497.py:8: FutureWarning: The behavior of `series[i:j]` with an integer-dtype index is deprecated. In a future version, this will be treated as *label-based* indexing, consistent with e.g. `series[i]` lookups. To retain the old behavior, use `series.iloc[i:j]`. To get the future behavior, use `series.loc[i:j]`.\n",
      "  top10 = max_by_host.sort_values(ascending=False)[:p] # берем топ10 урлов с наивысшим рейтингом\n",
      "/tmp/ipykernel_53291/1682255497.py:8: FutureWarning: The behavior of `series[i:j]` with an integer-dtype index is deprecated. In a future version, this will be treated as *label-based* indexing, consistent with e.g. `series[i]` lookups. To retain the old behavior, use `series.iloc[i:j]`. To get the future behavior, use `series.loc[i:j]`.\n",
      "  top10 = max_by_host.sort_values(ascending=False)[:p] # берем топ10 урлов с наивысшим рейтингом\n",
      "/tmp/ipykernel_53291/1682255497.py:8: FutureWarning: The behavior of `series[i:j]` with an integer-dtype index is deprecated. In a future version, this will be treated as *label-based* indexing, consistent with e.g. `series[i]` lookups. To retain the old behavior, use `series.iloc[i:j]`. To get the future behavior, use `series.loc[i:j]`.\n",
      "  top10 = max_by_host.sort_values(ascending=False)[:p] # берем топ10 урлов с наивысшим рейтингом\n",
      "/tmp/ipykernel_53291/1682255497.py:8: FutureWarning: The behavior of `series[i:j]` with an integer-dtype index is deprecated. In a future version, this will be treated as *label-based* indexing, consistent with e.g. `series[i]` lookups. To retain the old behavior, use `series.iloc[i:j]`. To get the future behavior, use `series.loc[i:j]`.\n",
      "  top10 = max_by_host.sort_values(ascending=False)[:p] # берем топ10 урлов с наивысшим рейтингом\n",
      "/tmp/ipykernel_53291/1682255497.py:8: FutureWarning: The behavior of `series[i:j]` with an integer-dtype index is deprecated. In a future version, this will be treated as *label-based* indexing, consistent with e.g. `series[i]` lookups. To retain the old behavior, use `series.iloc[i:j]`. To get the future behavior, use `series.loc[i:j]`.\n",
      "  top10 = max_by_host.sort_values(ascending=False)[:p] # берем топ10 урлов с наивысшим рейтингом\n",
      "/tmp/ipykernel_53291/1682255497.py:8: FutureWarning: The behavior of `series[i:j]` with an integer-dtype index is deprecated. In a future version, this will be treated as *label-based* indexing, consistent with e.g. `series[i]` lookups. To retain the old behavior, use `series.iloc[i:j]`. To get the future behavior, use `series.loc[i:j]`.\n",
      "  top10 = max_by_host.sort_values(ascending=False)[:p] # берем топ10 урлов с наивысшим рейтингом\n",
      "/tmp/ipykernel_53291/1682255497.py:8: FutureWarning: The behavior of `series[i:j]` with an integer-dtype index is deprecated. In a future version, this will be treated as *label-based* indexing, consistent with e.g. `series[i]` lookups. To retain the old behavior, use `series.iloc[i:j]`. To get the future behavior, use `series.loc[i:j]`.\n",
      "  top10 = max_by_host.sort_values(ascending=False)[:p] # берем топ10 урлов с наивысшим рейтингом\n",
      "/tmp/ipykernel_53291/1682255497.py:8: FutureWarning: The behavior of `series[i:j]` with an integer-dtype index is deprecated. In a future version, this will be treated as *label-based* indexing, consistent with e.g. `series[i]` lookups. To retain the old behavior, use `series.iloc[i:j]`. To get the future behavior, use `series.loc[i:j]`.\n",
      "  top10 = max_by_host.sort_values(ascending=False)[:p] # берем топ10 урлов с наивысшим рейтингом\n",
      "/tmp/ipykernel_53291/1682255497.py:8: FutureWarning: The behavior of `series[i:j]` with an integer-dtype index is deprecated. In a future version, this will be treated as *label-based* indexing, consistent with e.g. `series[i]` lookups. To retain the old behavior, use `series.iloc[i:j]`. To get the future behavior, use `series.loc[i:j]`.\n",
      "  top10 = max_by_host.sort_values(ascending=False)[:p] # берем топ10 урлов с наивысшим рейтингом\n",
      "/tmp/ipykernel_53291/1682255497.py:8: FutureWarning: The behavior of `series[i:j]` with an integer-dtype index is deprecated. In a future version, this will be treated as *label-based* indexing, consistent with e.g. `series[i]` lookups. To retain the old behavior, use `series.iloc[i:j]`. To get the future behavior, use `series.loc[i:j]`.\n",
      "  top10 = max_by_host.sort_values(ascending=False)[:p] # берем топ10 урлов с наивысшим рейтингом\n",
      "/tmp/ipykernel_53291/1682255497.py:8: FutureWarning: The behavior of `series[i:j]` with an integer-dtype index is deprecated. In a future version, this will be treated as *label-based* indexing, consistent with e.g. `series[i]` lookups. To retain the old behavior, use `series.iloc[i:j]`. To get the future behavior, use `series.loc[i:j]`.\n",
      "  top10 = max_by_host.sort_values(ascending=False)[:p] # берем топ10 урлов с наивысшим рейтингом\n",
      "/tmp/ipykernel_53291/1682255497.py:8: FutureWarning: The behavior of `series[i:j]` with an integer-dtype index is deprecated. In a future version, this will be treated as *label-based* indexing, consistent with e.g. `series[i]` lookups. To retain the old behavior, use `series.iloc[i:j]`. To get the future behavior, use `series.loc[i:j]`.\n",
      "  top10 = max_by_host.sort_values(ascending=False)[:p] # берем топ10 урлов с наивысшим рейтингом\n",
      "/tmp/ipykernel_53291/1682255497.py:8: FutureWarning: The behavior of `series[i:j]` with an integer-dtype index is deprecated. In a future version, this will be treated as *label-based* indexing, consistent with e.g. `series[i]` lookups. To retain the old behavior, use `series.iloc[i:j]`. To get the future behavior, use `series.loc[i:j]`.\n",
      "  top10 = max_by_host.sort_values(ascending=False)[:p] # берем топ10 урлов с наивысшим рейтингом\n",
      "/tmp/ipykernel_53291/1682255497.py:8: FutureWarning: The behavior of `series[i:j]` with an integer-dtype index is deprecated. In a future version, this will be treated as *label-based* indexing, consistent with e.g. `series[i]` lookups. To retain the old behavior, use `series.iloc[i:j]`. To get the future behavior, use `series.loc[i:j]`.\n",
      "  top10 = max_by_host.sort_values(ascending=False)[:p] # берем топ10 урлов с наивысшим рейтингом\n",
      "/tmp/ipykernel_53291/1682255497.py:8: FutureWarning: The behavior of `series[i:j]` with an integer-dtype index is deprecated. In a future version, this will be treated as *label-based* indexing, consistent with e.g. `series[i]` lookups. To retain the old behavior, use `series.iloc[i:j]`. To get the future behavior, use `series.loc[i:j]`.\n",
      "  top10 = max_by_host.sort_values(ascending=False)[:p] # берем топ10 урлов с наивысшим рейтингом\n",
      "/tmp/ipykernel_53291/1682255497.py:8: FutureWarning: The behavior of `series[i:j]` with an integer-dtype index is deprecated. In a future version, this will be treated as *label-based* indexing, consistent with e.g. `series[i]` lookups. To retain the old behavior, use `series.iloc[i:j]`. To get the future behavior, use `series.loc[i:j]`.\n",
      "  top10 = max_by_host.sort_values(ascending=False)[:p] # берем топ10 урлов с наивысшим рейтингом\n",
      "/tmp/ipykernel_53291/1682255497.py:8: FutureWarning: The behavior of `series[i:j]` with an integer-dtype index is deprecated. In a future version, this will be treated as *label-based* indexing, consistent with e.g. `series[i]` lookups. To retain the old behavior, use `series.iloc[i:j]`. To get the future behavior, use `series.loc[i:j]`.\n",
      "  top10 = max_by_host.sort_values(ascending=False)[:p] # берем топ10 урлов с наивысшим рейтингом\n"
     ]
    },
    {
     "data": {
      "text/plain": "qid\n5308      0.415820\n48815     0.655448\n49587     0.493599\n55082     0.497771\n58989     0.497771\n60304     0.735836\n63179     0.460028\n70357     0.655448\n70618     0.263596\n79514     0.764755\n91889     0.344494\n99543     0.772245\n402111    0.324649\n405851    0.718072\n407522    0.460028\n409073    0.808643\n438518    0.497771\n690263    0.770353\n692059    0.655448\n692308    0.852628\ndtype: float64"
     },
     "execution_count": 431,
     "metadata": {},
     "output_type": "execute_result"
    }
   ],
   "source": [
    "qid_pfound = qid_url_rating_hostid.groupby('qid').apply(pfound) # группируем по qid и вычисляем pfound\n",
    "#qid_max = qid_pfound.idxmax() # берем qid с максимальным pfound\n",
    "qid_pfound#.sum()\n",
    "#qid_query[qid_query[\"qid\"] == qid_max]"
   ],
   "metadata": {
    "collapsed": false,
    "pycharm": {
     "name": "#%%\n"
    }
   }
  },
  {
   "cell_type": "code",
   "execution_count": 361,
   "outputs": [],
   "source": [],
   "metadata": {
    "collapsed": false,
    "pycharm": {
     "name": "#%%\n"
    }
   }
  },
  {
   "cell_type": "code",
   "execution_count": 362,
   "outputs": [
    {
     "name": "stderr",
     "output_type": "stream",
     "text": [
      "/tmp/ipykernel_53291/2436558970.py:1: FutureWarning: The default value of numeric_only in DataFrameGroupBy.cumsum is deprecated. In a future version, numeric_only will default to False. Either specify numeric_only or select only columns which should be valid for the function.\n",
      "  df.groupby('hostid').cumsum()\n"
     ]
    },
    {
     "data": {
      "text/plain": "        qid  rating  rating_max\n0    405851    0.00        0.41\n1    811702    0.41        0.82\n2   1217553    0.55        1.23\n3    407522    0.14        0.41\n4    456337    0.28        0.82\n5    505924    0.28        1.23\n6   1196187    0.42        1.64\n7   1886450    0.56        2.05\n8   2578758    0.97        2.46\n9   2678301    1.11        2.87\n10  2777844    1.25        3.28\n11  2877387    1.39        3.69\n12  2976930    1.53        4.10\n13   409073    0.61        0.61\n14   818146    0.75        1.22\n15  1227219    0.89        1.83\n16  1636292    1.03        2.44\n17  2045365    1.17        3.05\n18  2454438    1.31        3.66\n19  2863511    1.45        4.27\n20  3272584    1.59        4.88\n21  3681657    1.73        5.49\n22  4090730    2.14        6.10\n23  4499803    2.28        6.71\n24  4908876    2.28        7.32\n25  5317949    2.35        7.93\n26  5727022    2.49        8.54\n27  6136095    2.49        9.15\n28  6545168    2.56        9.76\n29  6954241    2.70       10.37\n30  7363314    2.84       10.98\n31  7772387    2.98       11.59\n32  8181460    3.12       12.20\n33    48815    0.14        0.41\n34    97630    0.55        0.82\n35    60304    0.41        0.41\n36   690263    0.00        0.61\n37  1380526    0.00        1.22\n38  2070789    0.61        1.83\n39   692059    0.41        0.41\n40   692308    0.61        0.61\n41  1384616    0.68        1.22\n42  2076924    0.82        1.83\n43  2769232    0.96        2.44\n44  3461540    1.10        3.05\n45  4153848    1.17        3.66\n46    79514    0.61        0.61\n47   159028    0.68        1.22\n48   238542    0.82        1.83\n49   318056    0.96        2.44\n50   397570    1.10        3.05\n51   477084    1.51        3.66\n52   556598    1.58        4.27\n53   636112    1.99        4.88\n54   715626    2.13        5.49\n55    99543    0.61        0.61",
      "text/html": "<div>\n<style scoped>\n    .dataframe tbody tr th:only-of-type {\n        vertical-align: middle;\n    }\n\n    .dataframe tbody tr th {\n        vertical-align: top;\n    }\n\n    .dataframe thead th {\n        text-align: right;\n    }\n</style>\n<table border=\"1\" class=\"dataframe\">\n  <thead>\n    <tr style=\"text-align: right;\">\n      <th></th>\n      <th>qid</th>\n      <th>rating</th>\n      <th>rating_max</th>\n    </tr>\n  </thead>\n  <tbody>\n    <tr>\n      <th>0</th>\n      <td>405851</td>\n      <td>0.00</td>\n      <td>0.41</td>\n    </tr>\n    <tr>\n      <th>1</th>\n      <td>811702</td>\n      <td>0.41</td>\n      <td>0.82</td>\n    </tr>\n    <tr>\n      <th>2</th>\n      <td>1217553</td>\n      <td>0.55</td>\n      <td>1.23</td>\n    </tr>\n    <tr>\n      <th>3</th>\n      <td>407522</td>\n      <td>0.14</td>\n      <td>0.41</td>\n    </tr>\n    <tr>\n      <th>4</th>\n      <td>456337</td>\n      <td>0.28</td>\n      <td>0.82</td>\n    </tr>\n    <tr>\n      <th>5</th>\n      <td>505924</td>\n      <td>0.28</td>\n      <td>1.23</td>\n    </tr>\n    <tr>\n      <th>6</th>\n      <td>1196187</td>\n      <td>0.42</td>\n      <td>1.64</td>\n    </tr>\n    <tr>\n      <th>7</th>\n      <td>1886450</td>\n      <td>0.56</td>\n      <td>2.05</td>\n    </tr>\n    <tr>\n      <th>8</th>\n      <td>2578758</td>\n      <td>0.97</td>\n      <td>2.46</td>\n    </tr>\n    <tr>\n      <th>9</th>\n      <td>2678301</td>\n      <td>1.11</td>\n      <td>2.87</td>\n    </tr>\n    <tr>\n      <th>10</th>\n      <td>2777844</td>\n      <td>1.25</td>\n      <td>3.28</td>\n    </tr>\n    <tr>\n      <th>11</th>\n      <td>2877387</td>\n      <td>1.39</td>\n      <td>3.69</td>\n    </tr>\n    <tr>\n      <th>12</th>\n      <td>2976930</td>\n      <td>1.53</td>\n      <td>4.10</td>\n    </tr>\n    <tr>\n      <th>13</th>\n      <td>409073</td>\n      <td>0.61</td>\n      <td>0.61</td>\n    </tr>\n    <tr>\n      <th>14</th>\n      <td>818146</td>\n      <td>0.75</td>\n      <td>1.22</td>\n    </tr>\n    <tr>\n      <th>15</th>\n      <td>1227219</td>\n      <td>0.89</td>\n      <td>1.83</td>\n    </tr>\n    <tr>\n      <th>16</th>\n      <td>1636292</td>\n      <td>1.03</td>\n      <td>2.44</td>\n    </tr>\n    <tr>\n      <th>17</th>\n      <td>2045365</td>\n      <td>1.17</td>\n      <td>3.05</td>\n    </tr>\n    <tr>\n      <th>18</th>\n      <td>2454438</td>\n      <td>1.31</td>\n      <td>3.66</td>\n    </tr>\n    <tr>\n      <th>19</th>\n      <td>2863511</td>\n      <td>1.45</td>\n      <td>4.27</td>\n    </tr>\n    <tr>\n      <th>20</th>\n      <td>3272584</td>\n      <td>1.59</td>\n      <td>4.88</td>\n    </tr>\n    <tr>\n      <th>21</th>\n      <td>3681657</td>\n      <td>1.73</td>\n      <td>5.49</td>\n    </tr>\n    <tr>\n      <th>22</th>\n      <td>4090730</td>\n      <td>2.14</td>\n      <td>6.10</td>\n    </tr>\n    <tr>\n      <th>23</th>\n      <td>4499803</td>\n      <td>2.28</td>\n      <td>6.71</td>\n    </tr>\n    <tr>\n      <th>24</th>\n      <td>4908876</td>\n      <td>2.28</td>\n      <td>7.32</td>\n    </tr>\n    <tr>\n      <th>25</th>\n      <td>5317949</td>\n      <td>2.35</td>\n      <td>7.93</td>\n    </tr>\n    <tr>\n      <th>26</th>\n      <td>5727022</td>\n      <td>2.49</td>\n      <td>8.54</td>\n    </tr>\n    <tr>\n      <th>27</th>\n      <td>6136095</td>\n      <td>2.49</td>\n      <td>9.15</td>\n    </tr>\n    <tr>\n      <th>28</th>\n      <td>6545168</td>\n      <td>2.56</td>\n      <td>9.76</td>\n    </tr>\n    <tr>\n      <th>29</th>\n      <td>6954241</td>\n      <td>2.70</td>\n      <td>10.37</td>\n    </tr>\n    <tr>\n      <th>30</th>\n      <td>7363314</td>\n      <td>2.84</td>\n      <td>10.98</td>\n    </tr>\n    <tr>\n      <th>31</th>\n      <td>7772387</td>\n      <td>2.98</td>\n      <td>11.59</td>\n    </tr>\n    <tr>\n      <th>32</th>\n      <td>8181460</td>\n      <td>3.12</td>\n      <td>12.20</td>\n    </tr>\n    <tr>\n      <th>33</th>\n      <td>48815</td>\n      <td>0.14</td>\n      <td>0.41</td>\n    </tr>\n    <tr>\n      <th>34</th>\n      <td>97630</td>\n      <td>0.55</td>\n      <td>0.82</td>\n    </tr>\n    <tr>\n      <th>35</th>\n      <td>60304</td>\n      <td>0.41</td>\n      <td>0.41</td>\n    </tr>\n    <tr>\n      <th>36</th>\n      <td>690263</td>\n      <td>0.00</td>\n      <td>0.61</td>\n    </tr>\n    <tr>\n      <th>37</th>\n      <td>1380526</td>\n      <td>0.00</td>\n      <td>1.22</td>\n    </tr>\n    <tr>\n      <th>38</th>\n      <td>2070789</td>\n      <td>0.61</td>\n      <td>1.83</td>\n    </tr>\n    <tr>\n      <th>39</th>\n      <td>692059</td>\n      <td>0.41</td>\n      <td>0.41</td>\n    </tr>\n    <tr>\n      <th>40</th>\n      <td>692308</td>\n      <td>0.61</td>\n      <td>0.61</td>\n    </tr>\n    <tr>\n      <th>41</th>\n      <td>1384616</td>\n      <td>0.68</td>\n      <td>1.22</td>\n    </tr>\n    <tr>\n      <th>42</th>\n      <td>2076924</td>\n      <td>0.82</td>\n      <td>1.83</td>\n    </tr>\n    <tr>\n      <th>43</th>\n      <td>2769232</td>\n      <td>0.96</td>\n      <td>2.44</td>\n    </tr>\n    <tr>\n      <th>44</th>\n      <td>3461540</td>\n      <td>1.10</td>\n      <td>3.05</td>\n    </tr>\n    <tr>\n      <th>45</th>\n      <td>4153848</td>\n      <td>1.17</td>\n      <td>3.66</td>\n    </tr>\n    <tr>\n      <th>46</th>\n      <td>79514</td>\n      <td>0.61</td>\n      <td>0.61</td>\n    </tr>\n    <tr>\n      <th>47</th>\n      <td>159028</td>\n      <td>0.68</td>\n      <td>1.22</td>\n    </tr>\n    <tr>\n      <th>48</th>\n      <td>238542</td>\n      <td>0.82</td>\n      <td>1.83</td>\n    </tr>\n    <tr>\n      <th>49</th>\n      <td>318056</td>\n      <td>0.96</td>\n      <td>2.44</td>\n    </tr>\n    <tr>\n      <th>50</th>\n      <td>397570</td>\n      <td>1.10</td>\n      <td>3.05</td>\n    </tr>\n    <tr>\n      <th>51</th>\n      <td>477084</td>\n      <td>1.51</td>\n      <td>3.66</td>\n    </tr>\n    <tr>\n      <th>52</th>\n      <td>556598</td>\n      <td>1.58</td>\n      <td>4.27</td>\n    </tr>\n    <tr>\n      <th>53</th>\n      <td>636112</td>\n      <td>1.99</td>\n      <td>4.88</td>\n    </tr>\n    <tr>\n      <th>54</th>\n      <td>715626</td>\n      <td>2.13</td>\n      <td>5.49</td>\n    </tr>\n    <tr>\n      <th>55</th>\n      <td>99543</td>\n      <td>0.61</td>\n      <td>0.61</td>\n    </tr>\n  </tbody>\n</table>\n</div>"
     },
     "execution_count": 362,
     "metadata": {},
     "output_type": "execute_result"
    }
   ],
   "source": [
    "df.groupby('hostid').cumsum()"
   ],
   "metadata": {
    "collapsed": false,
    "pycharm": {
     "name": "#%%\n"
    }
   }
  },
  {
   "cell_type": "code",
   "execution_count": 132,
   "outputs": [
    {
     "data": {
      "text/plain": "                                                   url  rating  hostid  \\\n0    http://24-job.com/board/job_australia/232-1-2-...    0.07       7   \n1    http://24-job.com/board/job_australia/232-1-2-...    0.07       7   \n2             http://802351.info/5964-v-avstralii.html    0.00      13   \n3                   http://auscommunity.com/blog/jobs/    0.00      53   \n4    http://auscommunity.com/tag/%D1%84%D0%BE%D1%82...    0.00      53   \n..                                                 ...     ...     ...   \n798         http://www.youtube.com/watch?v=QDcomRWogFE    0.14    1155   \n799         http://www.youtube.com/watch?v=Y3n47xZb0b4    0.14    1155   \n800        http://www.yuga.ru/articles/culture?id=3378    0.00    1156   \n801  http://www.zexe.de/modules.php?name=Pages&pa=s...    0.14    1160   \n802        http://zapil77.by.ru/kubok-kvn-g-dubna.html    0.00    1182   \n\n     rating__  rating_max  \n0         NaN         NaN  \n1         NaN         NaN  \n2         NaN         NaN  \n3         NaN         NaN  \n4         NaN         NaN  \n..        ...         ...  \n798      0.41        0.41  \n799      0.41        0.41  \n800       NaN         NaN  \n801       NaN         NaN  \n802       NaN         NaN  \n\n[803 rows x 5 columns]",
      "text/html": "<div>\n<style scoped>\n    .dataframe tbody tr th:only-of-type {\n        vertical-align: middle;\n    }\n\n    .dataframe tbody tr th {\n        vertical-align: top;\n    }\n\n    .dataframe thead th {\n        text-align: right;\n    }\n</style>\n<table border=\"1\" class=\"dataframe\">\n  <thead>\n    <tr style=\"text-align: right;\">\n      <th></th>\n      <th>url</th>\n      <th>rating</th>\n      <th>hostid</th>\n      <th>rating__</th>\n      <th>rating_max</th>\n    </tr>\n  </thead>\n  <tbody>\n    <tr>\n      <th>0</th>\n      <td>http://24-job.com/board/job_australia/232-1-2-...</td>\n      <td>0.07</td>\n      <td>7</td>\n      <td>NaN</td>\n      <td>NaN</td>\n    </tr>\n    <tr>\n      <th>1</th>\n      <td>http://24-job.com/board/job_australia/232-1-2-...</td>\n      <td>0.07</td>\n      <td>7</td>\n      <td>NaN</td>\n      <td>NaN</td>\n    </tr>\n    <tr>\n      <th>2</th>\n      <td>http://802351.info/5964-v-avstralii.html</td>\n      <td>0.00</td>\n      <td>13</td>\n      <td>NaN</td>\n      <td>NaN</td>\n    </tr>\n    <tr>\n      <th>3</th>\n      <td>http://auscommunity.com/blog/jobs/</td>\n      <td>0.00</td>\n      <td>53</td>\n      <td>NaN</td>\n      <td>NaN</td>\n    </tr>\n    <tr>\n      <th>4</th>\n      <td>http://auscommunity.com/tag/%D1%84%D0%BE%D1%82...</td>\n      <td>0.00</td>\n      <td>53</td>\n      <td>NaN</td>\n      <td>NaN</td>\n    </tr>\n    <tr>\n      <th>...</th>\n      <td>...</td>\n      <td>...</td>\n      <td>...</td>\n      <td>...</td>\n      <td>...</td>\n    </tr>\n    <tr>\n      <th>798</th>\n      <td>http://www.youtube.com/watch?v=QDcomRWogFE</td>\n      <td>0.14</td>\n      <td>1155</td>\n      <td>0.41</td>\n      <td>0.41</td>\n    </tr>\n    <tr>\n      <th>799</th>\n      <td>http://www.youtube.com/watch?v=Y3n47xZb0b4</td>\n      <td>0.14</td>\n      <td>1155</td>\n      <td>0.41</td>\n      <td>0.41</td>\n    </tr>\n    <tr>\n      <th>800</th>\n      <td>http://www.yuga.ru/articles/culture?id=3378</td>\n      <td>0.00</td>\n      <td>1156</td>\n      <td>NaN</td>\n      <td>NaN</td>\n    </tr>\n    <tr>\n      <th>801</th>\n      <td>http://www.zexe.de/modules.php?name=Pages&amp;pa=s...</td>\n      <td>0.14</td>\n      <td>1160</td>\n      <td>NaN</td>\n      <td>NaN</td>\n    </tr>\n    <tr>\n      <th>802</th>\n      <td>http://zapil77.by.ru/kubok-kvn-g-dubna.html</td>\n      <td>0.00</td>\n      <td>1182</td>\n      <td>NaN</td>\n      <td>NaN</td>\n    </tr>\n  </tbody>\n</table>\n<p>803 rows × 5 columns</p>\n</div>"
     },
     "execution_count": 132,
     "metadata": {},
     "output_type": "execute_result"
    }
   ],
   "source": [
    "df['pLook'] = dfasd"
   ],
   "metadata": {
    "collapsed": false,
    "pycharm": {
     "name": "#%%\n"
    }
   }
  },
  {
   "cell_type": "code",
   "execution_count": null,
   "outputs": [],
   "source": [],
   "metadata": {
    "collapsed": false,
    "pycharm": {
     "name": "#%%\n"
    }
   }
  },
  {
   "cell_type": "code",
   "execution_count": null,
   "outputs": [],
   "source": [],
   "metadata": {
    "collapsed": false,
    "pycharm": {
     "name": "#%%\n"
    }
   }
  },
  {
   "cell_type": "code",
   "execution_count": null,
   "outputs": [],
   "source": [],
   "metadata": {
    "collapsed": false,
    "pycharm": {
     "name": "#%%\n"
    }
   }
  },
  {
   "cell_type": "code",
   "execution_count": null,
   "outputs": [],
   "source": [],
   "metadata": {
    "collapsed": false,
    "pycharm": {
     "name": "#%%\n"
    }
   }
  },
  {
   "cell_type": "code",
   "execution_count": null,
   "outputs": [],
   "source": [],
   "metadata": {
    "collapsed": false,
    "pycharm": {
     "name": "#%%\n"
    }
   }
  },
  {
   "cell_type": "code",
   "execution_count": null,
   "outputs": [],
   "source": [],
   "metadata": {
    "collapsed": false,
    "pycharm": {
     "name": "#%%\n"
    }
   }
  },
  {
   "cell_type": "code",
   "execution_count": null,
   "outputs": [],
   "source": [],
   "metadata": {
    "collapsed": false,
    "pycharm": {
     "name": "#%%\n"
    }
   }
  }
 ],
 "metadata": {
  "kernelspec": {
   "name": "recsys2",
   "language": "python",
   "display_name": "recsys2"
  },
  "language_info": {
   "codemirror_mode": {
    "name": "ipython",
    "version": 3
   },
   "file_extension": ".py",
   "mimetype": "text/x-python",
   "name": "python",
   "nbconvert_exporter": "python",
   "pygments_lexer": "ipython3",
   "version": "3.8.15"
  },
  "toc": {
   "base_numbering": 1,
   "nav_menu": {},
   "number_sections": true,
   "sideBar": true,
   "skip_h1_title": true,
   "title_cell": "Table of Contents",
   "title_sidebar": "Contents",
   "toc_cell": false,
   "toc_position": {
    "height": "calc(100% - 180px)",
    "left": "10px",
    "top": "150px",
    "width": "221px"
   },
   "toc_section_display": true,
   "toc_window_display": true
  }
 },
 "nbformat": 4,
 "nbformat_minor": 5
}