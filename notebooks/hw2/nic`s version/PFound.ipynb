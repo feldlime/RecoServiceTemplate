{
 "cells": [
  {
   "cell_type": "markdown",
   "id": "b0e31182",
   "metadata": {},
   "source": [
    "## Homework\n",
    "\n",
    "### PFound\n",
    "Исходные данные - Yandex Cup 2022 Analytics\n",
    "- Ссылка - https://yandex.ru/cup/analytics/analysis/ , пример A. Рассчитать pFound\n",
    "- Данные - https://yadi.sk/d/guqki4UI4hFlXQ\n",
    "- Формула\n",
    "$$pFound@K = \\sum_{i=1}^{k} pLook[i]\\ pRel[i]$$\n",
    "\n",
    "$$pLook[1] = 1$$\n",
    "\n",
    "$$pLook[i] = pLook[i-1]\\ (1 - pRel[i-1])\\ (1 - pBreak)$$\n",
    "\n",
    "$$pBreak = 0.15$$\n",
    "\n",
    "**Задача** - написать функцию, которая принимает на вход dataframe (после join), а на выходе дает средний pFound по всем query.\n",
    "- Запрещается использовать циклы for для расчет метрики (как полностью, так и ее частей).\n",
    "- Усложнение, если задача показалась легкой - попробуйте обойтись без groupby (не уверен, что это возможно, но вдруг вы справитесь)"
   ]
  },
  {
   "cell_type": "code",
   "execution_count": 1,
   "id": "5f7a52f0",
   "metadata": {},
   "outputs": [],
   "source": [
    "import warnings\n",
    "\n",
    "import numpy as np\n",
    "import pandas as pd"
   ]
  },
  {
   "cell_type": "code",
   "execution_count": 2,
   "id": "aa9e6f24",
   "metadata": {},
   "outputs": [],
   "source": [
    "!mkdir dataset"
   ]
  },
  {
   "cell_type": "code",
   "execution_count": 4,
   "id": "8d7c3862",
   "metadata": {},
   "outputs": [],
   "source": [
    "import requests\n",
    "from urllib.parse import urlencode\n",
    "\n",
    "base_url = 'https://cloud-api.yandex.net/v1/disk/public/resources/download?'\n",
    "public_key = 'https://yadi.sk/d/guqki4UI4hFlXQ'\n",
    "\n",
    "# Получаем загрузочную ссылку\n",
    "final_url = base_url + urlencode(dict(public_key=public_key))\n",
    "response = requests.get(final_url)\n",
    "download_url = response.json()['href']\n",
    "\n",
    "# Загружаем файл и сохраняем его\n",
    "download_response = requests.get(download_url)\n",
    "with open('dataset/data.zip', 'wb') as f:   # Здесь укажите нужный путь к файлу\n",
    "    f.write(download_response.content)"
   ]
  },
  {
   "cell_type": "code",
   "execution_count": 5,
   "id": "26f4b881",
   "metadata": {},
   "outputs": [],
   "source": [
    "import zipfile\n",
    "\n",
    "with zipfile.ZipFile(\"dataset/data.zip\", mode=\"r\") as archive:\n",
    "    archive.extractall(\"dataset\")"
   ]
  },
  {
   "cell_type": "code",
   "execution_count": 6,
   "id": "9de82fdf",
   "metadata": {},
   "outputs": [],
   "source": [
    "import zipfile\n",
    "\n",
    "with zipfile.ZipFile(\"dataset/hidden_task.zip\", mode=\"r\") as archive:\n",
    "    archive.extractall(\"dataset\")"
   ]
  },
  {
   "cell_type": "code",
   "execution_count": 7,
   "id": "baca2b47",
   "metadata": {},
   "outputs": [],
   "source": [
    "!del \"dataset\\hidden_task.zip\"\n",
    "!del \"dataset\\open_task.zip\"\n",
    "!del \"dataset\\data.zip\""
   ]
  },
  {
   "cell_type": "code",
   "execution_count": 18,
   "id": "547b4045",
   "metadata": {},
   "outputs": [],
   "source": [
    "# считываем данные\n",
    "qid_query = pd.read_csv(\"dataset/qid_query.tsv\", sep=\"\\t\", names=[\"qid\", \"query\"])\n",
    "qid_url_rating = pd.read_csv(\"dataset/qid_url_rating.tsv\", sep=\"\\t\", names=[\"qid\", \"url\", \"rating\"])\n",
    "hostid_url = pd.read_csv(\"dataset/hostid_url.tsv\", sep=\"\\t\", names=[\"hostid\", \"url\"])\n",
    "\n",
    "# делаем join двух таблиц, чтобы было просто брать url с максимальным рейтингом\n",
    "qid_url_rating_hostid = pd.merge(qid_url_rating, hostid_url, on=\"url\")"
   ]
  },
  {
   "cell_type": "code",
   "execution_count": 19,
   "id": "7c202c16",
   "metadata": {},
   "outputs": [
    {
     "data": {
      "text/html": [
       "<div>\n",
       "<style scoped>\n",
       "    .dataframe tbody tr th:only-of-type {\n",
       "        vertical-align: middle;\n",
       "    }\n",
       "\n",
       "    .dataframe tbody tr th {\n",
       "        vertical-align: top;\n",
       "    }\n",
       "\n",
       "    .dataframe thead th {\n",
       "        text-align: right;\n",
       "    }\n",
       "</style>\n",
       "<table border=\"1\" class=\"dataframe\">\n",
       "  <thead>\n",
       "    <tr style=\"text-align: right;\">\n",
       "      <th></th>\n",
       "      <th>qid</th>\n",
       "      <th>url</th>\n",
       "      <th>rating</th>\n",
       "      <th>hostid</th>\n",
       "    </tr>\n",
       "  </thead>\n",
       "  <tbody>\n",
       "    <tr>\n",
       "      <th>0</th>\n",
       "      <td>402111</td>\n",
       "      <td>http://24-job.com/board/job_australia/232-1-2-...</td>\n",
       "      <td>0.07</td>\n",
       "      <td>7</td>\n",
       "    </tr>\n",
       "    <tr>\n",
       "      <th>1</th>\n",
       "      <td>402111</td>\n",
       "      <td>http://24-job.com/board/job_australia/232-1-2-...</td>\n",
       "      <td>0.07</td>\n",
       "      <td>7</td>\n",
       "    </tr>\n",
       "    <tr>\n",
       "      <th>2</th>\n",
       "      <td>402111</td>\n",
       "      <td>http://802351.info/5964-v-avstralii.html</td>\n",
       "      <td>0.00</td>\n",
       "      <td>13</td>\n",
       "    </tr>\n",
       "    <tr>\n",
       "      <th>3</th>\n",
       "      <td>402111</td>\n",
       "      <td>http://auscommunity.com/blog/jobs/</td>\n",
       "      <td>0.00</td>\n",
       "      <td>53</td>\n",
       "    </tr>\n",
       "    <tr>\n",
       "      <th>4</th>\n",
       "      <td>402111</td>\n",
       "      <td>http://auscommunity.com/tag/%D1%84%D0%BE%D1%82...</td>\n",
       "      <td>0.00</td>\n",
       "      <td>53</td>\n",
       "    </tr>\n",
       "  </tbody>\n",
       "</table>\n",
       "</div>"
      ],
      "text/plain": [
       "      qid                                                url  rating  hostid\n",
       "0  402111  http://24-job.com/board/job_australia/232-1-2-...    0.07       7\n",
       "1  402111  http://24-job.com/board/job_australia/232-1-2-...    0.07       7\n",
       "2  402111           http://802351.info/5964-v-avstralii.html    0.00      13\n",
       "3  402111                 http://auscommunity.com/blog/jobs/    0.00      53\n",
       "4  402111  http://auscommunity.com/tag/%D1%84%D0%BE%D1%82...    0.00      53"
      ]
     },
     "execution_count": 19,
     "metadata": {},
     "output_type": "execute_result"
    }
   ],
   "source": [
    "qid_url_rating_hostid.head()"
   ]
  },
  {
   "cell_type": "code",
   "execution_count": 20,
   "id": "80b0396e",
   "metadata": {},
   "outputs": [],
   "source": [
    "def mean_PFoundK(df: pd.DataFrame, K: int = 10, p_break: float = 0.15) -> float:\n",
    "    # Calculate average PFound@K\n",
    "    qid_hostid_max_rel = df.groupby(['qid', 'hostid'])['rating'].max().reset_index()\n",
    "    qid_top_k_hostid = qid_hostid_max_rel.sort_values(['qid', 'rating'], ascending=False).groupby(['qid']).head(K)\n",
    "    # Порядковые номера для hostid внутри каждого qid (0: k - 1)\n",
    "    qid_top_k_hostid['n'] = qid_top_k_hostid.groupby('qid').cumcount()\n",
    "\n",
    "    # Рассчитаем вспомогательные множители для расчета plook: в формуле это (1 - Rel) и (1 - pBreak)\n",
    "    qid_top_k_hostid['one_minus_rating'] = (1 - qid_top_k_hostid['rating']).shift(1)\n",
    "    qid_top_k_hostid['one_minus_p_break'] = 1 - p_break\n",
    "    qid_top_k_hostid.loc[qid_top_k_hostid['n'] == 0, ['one_minus_p_break', 'one_minus_rating']] = 1\n",
    "\n",
    "    # Расчитаем вспомогательную колонку, из которой затем просто используя cumprod получим plool\n",
    "    qid_top_k_hostid['multiplier'] = qid_top_k_hostid['one_minus_rating'] * qid_top_k_hostid['one_minus_p_break']\n",
    "\n",
    "    qid_top_k_hostid['plook'] = qid_top_k_hostid.groupby('qid')['multiplier'].cumprod()\n",
    "    qid_top_k_hostid['pfound'] = qid_top_k_hostid['plook'] * qid_top_k_hostid['rating']\n",
    "    \n",
    "    pfound_qid = qid_top_k_hostid.groupby('qid')['pfound'].sum()\n",
    "    return pfound_qid.mean()"
   ]
  },
  {
   "cell_type": "code",
   "execution_count": 21,
   "id": "af38c60f",
   "metadata": {},
   "outputs": [
    {
     "name": "stdout",
     "output_type": "stream",
     "text": [
      "Средний PFound по всем query: 0.5822199638393889\n"
     ]
    }
   ],
   "source": [
    "avg_pfound = mean_PFoundK(qid_url_rating_hostid)\n",
    "print(f'Средний PFound по всем query: {avg_pfound}')"
   ]
  },
  {
   "cell_type": "markdown",
   "id": "699db15e",
   "metadata": {},
   "source": [
    "## Решение с сайта"
   ]
  },
  {
   "cell_type": "code",
   "execution_count": 22,
   "id": "7551aabd",
   "metadata": {},
   "outputs": [
    {
     "data": {
      "text/html": [
       "<div>\n",
       "<style scoped>\n",
       "    .dataframe tbody tr th:only-of-type {\n",
       "        vertical-align: middle;\n",
       "    }\n",
       "\n",
       "    .dataframe tbody tr th {\n",
       "        vertical-align: top;\n",
       "    }\n",
       "\n",
       "    .dataframe thead th {\n",
       "        text-align: right;\n",
       "    }\n",
       "</style>\n",
       "<table border=\"1\" class=\"dataframe\">\n",
       "  <thead>\n",
       "    <tr style=\"text-align: right;\">\n",
       "      <th></th>\n",
       "      <th>qid</th>\n",
       "      <th>query</th>\n",
       "    </tr>\n",
       "  </thead>\n",
       "  <tbody>\n",
       "    <tr>\n",
       "      <th>14</th>\n",
       "      <td>692308</td>\n",
       "      <td>бесплатный просмотр камеди клаб</td>\n",
       "    </tr>\n",
       "  </tbody>\n",
       "</table>\n",
       "</div>"
      ],
      "text/plain": [
       "       qid                            query\n",
       "14  692308  бесплатный просмотр камеди клаб"
      ]
     },
     "execution_count": 22,
     "metadata": {},
     "output_type": "execute_result"
    }
   ],
   "source": [
    "def plook(ind, rels):\n",
    "    if ind == 0:\n",
    "        return 1\n",
    "    return plook(ind-1, rels)*(1-rels[ind-1])*(1-0.15)\n",
    "\n",
    "\n",
    "def pfound(group):\n",
    "    max_by_host = group.groupby(\"hostid\")[\"rating\"].max() # максимальный рейтинг хоста\n",
    "    top10 = max_by_host.sort_values(ascending=False)[:10] # берем топ10 урлов с наивысшим рейтингом\n",
    "    pfound = 0\n",
    "    for ind, val in enumerate(top10):\n",
    "        pfound += val*plook(ind, top10.values)\n",
    "    return pfound\n",
    "\n",
    "with warnings.catch_warnings():\n",
    "    warnings.simplefilter(action='ignore', category=FutureWarning)\n",
    "    qid_pfound = qid_url_rating_hostid.groupby('qid').apply(pfound) # группируем по qid и вычисляем pfound\n",
    "\n",
    "qid_max = qid_pfound.idxmax() # берем qid с максимальным pfound\n",
    "qid_query[qid_query[\"qid\"] == qid_max]"
   ]
  },
  {
   "cell_type": "code",
   "execution_count": 23,
   "id": "3a149742",
   "metadata": {},
   "outputs": [
    {
     "name": "stdout",
     "output_type": "stream",
     "text": [
      "Средний pFound по всем query (расчет с сайта): 0.5822199638393889\n"
     ]
    }
   ],
   "source": [
    "avg_pfound_original = qid_pfound.mean()\n",
    "print(f'Средний pFound по всем query (расчет с сайта): {avg_pfound_original}')"
   ]
  },
  {
   "cell_type": "code",
   "execution_count": 24,
   "id": "8a34f0f1",
   "metadata": {},
   "outputs": [],
   "source": [
    "assert np.abs(avg_pfound - avg_pfound_original) < 1e-6, 'PFound metrics is not equal'"
   ]
  },
  {
   "cell_type": "code",
   "execution_count": null,
   "id": "e973d085",
   "metadata": {},
   "outputs": [],
   "source": []
  }
 ],
 "metadata": {
  "kernelspec": {
   "display_name": "Python 3 (ipykernel)",
   "language": "python",
   "name": "python3"
  },
  "language_info": {
   "codemirror_mode": {
    "name": "ipython",
    "version": 3
   },
   "file_extension": ".py",
   "mimetype": "text/x-python",
   "name": "python",
   "nbconvert_exporter": "python",
   "pygments_lexer": "ipython3",
   "version": "3.8.15"
  }
 },
 "nbformat": 4,
 "nbformat_minor": 5
}
