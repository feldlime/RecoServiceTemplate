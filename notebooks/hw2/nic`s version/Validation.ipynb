{
 "cells": [
  {
   "cell_type": "markdown",
   "id": "147db339",
   "metadata": {},
   "source": [
    "## Homework\n",
    "\n",
    "Исходные данные - Yandex Cup 2022 RecSys:\n",
    "- Описание соревнования - https://contest.yandex.ru/yacup/contest/41618/problems/\n",
    "- Данные - https://disk.yandex.ru/d/SI1aAooPn9i8TA\n",
    "- Описание данных - в архиве likes_data.zip три файла:\n",
    "  - train - обучающий набор данных. Каждая строка - последовательность id треков, которые лайкнул один пользователь. Гарантируется, что лайки даны в той последовательности, в которой их ставил пользователь.\n",
    "  - test - набор тестовых данных. Имеет точно такой же формат, но в каждой строке не хватает последнего лайка, который надо предсказать.\n",
    "  - track_artists.csv - информация о исполнителях треков. Гарантируется, что у каждого трека есть ровно один исполнитель. Для треков, у которых фактически несколько исполнителей, мы оставили того, который считается основным исполнителем трека.\n",
    "- Описание сабмита - в качестве решения необходимо отправить файл, в котором для каждого пользователя из test в отдельной строке будет не более 100 треков, разделенных пробелом. Гарантируется, что у каждого пользователя будет только 1 лайк в тесте\n",
    "- Метрика - MRR@100"
   ]
  },
  {
   "cell_type": "code",
   "execution_count": 11,
   "id": "8b73ed84",
   "metadata": {},
   "outputs": [],
   "source": [
    "import pandas as pd\n",
    "import numpy as np\n",
    "\n",
    "import tqdm"
   ]
  },
  {
   "cell_type": "markdown",
   "id": "9bf86cf8",
   "metadata": {},
   "source": [
    "## 1. Скачивание и распаковка датасета"
   ]
  },
  {
   "cell_type": "code",
   "execution_count": 12,
   "id": "12aecd3e",
   "metadata": {},
   "outputs": [],
   "source": [
    "!mkdir dataset"
   ]
  },
  {
   "cell_type": "code",
   "execution_count": 13,
   "id": "58ebccac",
   "metadata": {},
   "outputs": [],
   "source": [
    "import requests\n",
    "from urllib.parse import urlencode\n",
    "\n",
    "base_url = 'https://cloud-api.yandex.net/v1/disk/public/resources/download?'\n",
    "public_key = 'https://disk.yandex.ru/d/SI1aAooPn9i8TA'\n",
    "\n",
    "# Получаем загрузочную ссылку\n",
    "final_url = base_url + urlencode(dict(public_key=public_key))\n",
    "response = requests.get(final_url)\n",
    "download_url = response.json()['href']\n",
    "\n",
    "# Загружаем файл и сохраняем его\n",
    "download_response = requests.get(download_url)\n",
    "with open('dataset/data.zip', 'wb') as f:   # Здесь укажите нужный путь к файлу\n",
    "    f.write(download_response.content)"
   ]
  },
  {
   "cell_type": "code",
   "execution_count": 14,
   "id": "43001964",
   "metadata": {
    "scrolled": true
   },
   "outputs": [],
   "source": [
    "import zipfile\n",
    "\n",
    "with zipfile.ZipFile(\"dataset/data.zip\", mode=\"r\") as archive:\n",
    "    archive.extractall(\"dataset\")"
   ]
  },
  {
   "cell_type": "code",
   "execution_count": 15,
   "id": "c313fcaa",
   "metadata": {},
   "outputs": [],
   "source": [
    "with zipfile.ZipFile(\"dataset/likes/likes_data.zip\", mode=\"r\") as archive:\n",
    "    archive.extractall(\"dataset\")"
   ]
  },
  {
   "cell_type": "code",
   "execution_count": 16,
   "id": "ad609566",
   "metadata": {},
   "outputs": [],
   "source": [
    "!del \"dataset\\data.zip\"\n",
    "!rd /s /q \"dataset\\likes\""
   ]
  },
  {
   "cell_type": "markdown",
   "id": "350e5709",
   "metadata": {},
   "source": [
    "## 2. Преобразование данных"
   ]
  },
  {
   "cell_type": "code",
   "execution_count": 17,
   "id": "24767e3a",
   "metadata": {},
   "outputs": [
    {
     "name": "stderr",
     "output_type": "stream",
     "text": [
      "100%|█████████████████████████████████████████████████████████████████████| 1160084/1160084 [00:28<00:00, 41217.59it/s]\n"
     ]
    }
   ],
   "source": [
    "likes = []\n",
    "\n",
    "with open('dataset/train', 'r') as f:\n",
    "    for i, line in enumerate(tqdm.tqdm(f.readlines())):\n",
    "        track_ids = [int(n) for n in line.split()]\n",
    "        user_likes = np.zeros((len(track_ids), 2), dtype=int)\n",
    "        user_likes[:, 0] = i\n",
    "        # в позиции 0 - самый свежий лайк\n",
    "        user_likes[:, 1] = track_ids[::-1]\n",
    "        likes.append(user_likes)\n",
    "\n",
    "all_likes = np.vstack(likes)"
   ]
  },
  {
   "cell_type": "code",
   "execution_count": 18,
   "id": "6a1d7cd1",
   "metadata": {},
   "outputs": [
    {
     "name": "stdout",
     "output_type": "stream",
     "text": [
      "(94188634, 2)\n"
     ]
    },
    {
     "data": {
      "text/html": [
       "<div>\n",
       "<style scoped>\n",
       "    .dataframe tbody tr th:only-of-type {\n",
       "        vertical-align: middle;\n",
       "    }\n",
       "\n",
       "    .dataframe tbody tr th {\n",
       "        vertical-align: top;\n",
       "    }\n",
       "\n",
       "    .dataframe thead th {\n",
       "        text-align: right;\n",
       "    }\n",
       "</style>\n",
       "<table border=\"1\" class=\"dataframe\">\n",
       "  <thead>\n",
       "    <tr style=\"text-align: right;\">\n",
       "      <th></th>\n",
       "      <th>user_id</th>\n",
       "      <th>track_id</th>\n",
       "    </tr>\n",
       "  </thead>\n",
       "  <tbody>\n",
       "    <tr>\n",
       "      <th>0</th>\n",
       "      <td>0</td>\n",
       "      <td>388242</td>\n",
       "    </tr>\n",
       "    <tr>\n",
       "      <th>1</th>\n",
       "      <td>0</td>\n",
       "      <td>278503</td>\n",
       "    </tr>\n",
       "    <tr>\n",
       "      <th>2</th>\n",
       "      <td>0</td>\n",
       "      <td>102795</td>\n",
       "    </tr>\n",
       "    <tr>\n",
       "      <th>3</th>\n",
       "      <td>0</td>\n",
       "      <td>470957</td>\n",
       "    </tr>\n",
       "    <tr>\n",
       "      <th>4</th>\n",
       "      <td>0</td>\n",
       "      <td>159637</td>\n",
       "    </tr>\n",
       "  </tbody>\n",
       "</table>\n",
       "</div>"
      ],
      "text/plain": [
       "   user_id  track_id\n",
       "0        0    388242\n",
       "1        0    278503\n",
       "2        0    102795\n",
       "3        0    470957\n",
       "4        0    159637"
      ]
     },
     "execution_count": 18,
     "metadata": {},
     "output_type": "execute_result"
    }
   ],
   "source": [
    "likes_df = pd.DataFrame(all_likes, columns = ['user_id', 'track_id'])\n",
    "print(likes_df.shape)\n",
    "likes_df.head()"
   ]
  },
  {
   "cell_type": "markdown",
   "id": "2f441f2c",
   "metadata": {},
   "source": [
    "## 3. Валидация"
   ]
  },
  {
   "cell_type": "code",
   "execution_count": 29,
   "id": "30499a26",
   "metadata": {},
   "outputs": [],
   "source": [
    "from sklearn.model_selection import KFold\n",
    "\n",
    "class UsersKFoldPOut():\n",
    "    def __init__(self, n_folds: int, p: int, random_seed: int=23):\n",
    "        self.n_folds = n_folds\n",
    "        self.p = p\n",
    "        self.random_seed = random_seed\n",
    "    \n",
    "    def split(self, df: pd.DataFrame):\n",
    "        df = df.copy()\n",
    "        users = df['user_id'].unique()\n",
    "        # Порядкоые номера лайков\n",
    "        like_numbers = df.groupby('user_id').cumcount()\n",
    "        # Разбиваем user'ов на фолды с необходимыми параметрами\n",
    "        user_kfold = KFold(n_splits=self.n_folds, shuffle=True, random_state=self.random_seed)\n",
    "        for train_users, test_users in user_kfold.split(users):\n",
    "            # Получим маски с учетом пользователей и порядковых номеров лайков (для test)\n",
    "            train_mask = df['user_id'].isin(train_users)\n",
    "            test_mask = df['user_id'].isin(test_users) & (like_numbers < self.p)\n",
    "            yield train_mask, test_mask"
   ]
  },
  {
   "cell_type": "code",
   "execution_count": 30,
   "id": "81de2317",
   "metadata": {},
   "outputs": [],
   "source": [
    "n_folds = 3\n",
    "p = 3\n",
    "\n",
    "cv = UsersKFoldPOut(n_folds=n_folds, p=p)\n",
    "\n",
    "for i, (train_mask, test_mask) in enumerate(cv.split(likes_df)):\n",
    "    train_fold = likes_df[train_mask]\n",
    "    test_fold = likes_df[test_mask]\n",
    "    assert len(set(train_fold['user_id'].unique()).intersection(test_fold['user_id'].unique())) == 0, 'Found common users in train and test'\n",
    "    assert test_fold.groupby('user_id').count().values.max() <= p, 'More than p track_ids in test fold'\n",
    "    # Проверим, что только последние лайки попали в тест\n",
    "    test_first_user = test_fold.iloc[0]['user_id']\n",
    "    test_fold_user_tracks = test_fold[test_fold['user_id'] == test_first_user]['track_id'].values\n",
    "    all_user_tracks = likes_df[likes_df['user_id'] == test_first_user]['track_id'].values\n",
    "    assert np.all(test_fold_user_tracks == all_user_tracks[:p]), 'Wrong user track_ids in test'"
   ]
  },
  {
   "cell_type": "code",
   "execution_count": null,
   "id": "66d689fe",
   "metadata": {},
   "outputs": [],
   "source": []
  }
 ],
 "metadata": {
  "kernelspec": {
   "display_name": "Python 3 (ipykernel)",
   "language": "python",
   "name": "python3"
  },
  "language_info": {
   "codemirror_mode": {
    "name": "ipython",
    "version": 3
   },
   "file_extension": ".py",
   "mimetype": "text/x-python",
   "name": "python",
   "nbconvert_exporter": "python",
   "pygments_lexer": "ipython3",
   "version": "3.8.15"
  }
 },
 "nbformat": 4,
 "nbformat_minor": 5
}
