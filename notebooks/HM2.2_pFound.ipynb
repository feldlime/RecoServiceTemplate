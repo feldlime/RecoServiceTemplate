{
 "cells": [
  {
   "cell_type": "markdown",
   "id": "4f80a4b3",
   "metadata": {},
   "source": [
    "# pFound"
   ]
  },
  {
   "cell_type": "markdown",
   "id": "4bd1529a",
   "metadata": {},
   "source": [
    "### Import Modules"
   ]
  },
  {
   "cell_type": "code",
   "execution_count": 11,
   "id": "59f88b07",
   "metadata": {},
   "outputs": [],
   "source": [
    "import pandas as pd"
   ]
  },
  {
   "cell_type": "markdown",
   "id": "18ea3f6f",
   "metadata": {},
   "source": [
    "### Reading data"
   ]
  },
  {
   "cell_type": "code",
   "execution_count": 12,
   "id": "7e290a55",
   "metadata": {},
   "outputs": [],
   "source": [
    "qid_query = pd.read_csv(\"open_task/qid_query.tsv\", sep=\"\\t\", names=[\"qid\", \"query\"])\n",
    "qid_url_rating = pd.read_csv(\"open_task/qid_url_rating.tsv\", sep=\"\\t\", names=[\"qid\", \"url\", \"rating\"])\n",
    "hostid_url = pd.read_csv(\"open_task/hostid_url.tsv\", sep=\"\\t\", names=[\"hostid\", \"url\"])"
   ]
  },
  {
   "cell_type": "markdown",
   "id": "e8f7d186",
   "metadata": {},
   "source": [
    "### Calculate pFound"
   ]
  },
  {
   "cell_type": "code",
   "execution_count": 13,
   "id": "83d6f222",
   "metadata": {},
   "outputs": [],
   "source": [
    "def pfound_by_group(group: pd.DataFrame):\n",
    "    qid_group = group.sort_values(ascending=False).reset_index().rename(columns={group.name: 'rating'})\n",
    "    qid_group['1_pRel'] = 1 - qid_group['rating']\n",
    "    qid_group['1_pBreak'] = 1 - pBreak\n",
    "    qid_group['cum_1_pRel'] = qid_group['1_pRel'].cumprod().shift(1)\n",
    "    qid_group['cum_1_pBreak'] = qid_group['1_pBreak'].cumprod().shift(1)\n",
    "    qid_group['plook'] = qid_group['cum_1_pBreak'] * qid_group['cum_1_pRel']\n",
    "    qid_group['plook'].fillna(1, inplace=True)\n",
    "    qid_group['plook_prod_rel'] = qid_group['plook'] * qid_group['rating']\n",
    "    return qid_group['plook_prod_rel'].sum()"
   ]
  },
  {
   "cell_type": "code",
   "execution_count": 14,
   "id": "4a7ff898",
   "metadata": {},
   "outputs": [],
   "source": [
    "def get_pfound(df: pd.DataFrame) -> pd.DataFrame:\n",
    "    df = df.groupby(['qid', 'hostid']).max().reset_index()\n",
    "    df['pfound'] = df.groupby('qid')['rating'].transform(pfound_by_group)\n",
    "    df = df.groupby('qid')['pfound'].max()\n",
    "    df = df.mean()\n",
    "    return df"
   ]
  },
  {
   "cell_type": "code",
   "execution_count": 10,
   "id": "9a21be8e",
   "metadata": {},
   "outputs": [
    {
     "name": "stdout",
     "output_type": "stream",
     "text": [
      "0.4681776808809003\n"
     ]
    }
   ],
   "source": [
    "qid_url_rating_hostid = pd.merge(qid_url_rating, hostid_url, on=\"url\")\n",
    "pBreak = 0.15\n",
    "pfound = get_pfound(qid_url_rating_hostid)\n",
    "print(pfound)"
   ]
  }
 ],
 "metadata": {
  "kernelspec": {
   "display_name": "Python 3 (ipykernel)",
   "language": "python",
   "name": "python3"
  },
  "language_info": {
   "codemirror_mode": {
    "name": "ipython",
    "version": 3
   },
   "file_extension": ".py",
   "mimetype": "text/x-python",
   "name": "python",
   "nbconvert_exporter": "python",
   "pygments_lexer": "ipython3",
   "version": "3.8.13"
  }
 },
 "nbformat": 4,
 "nbformat_minor": 5
}
