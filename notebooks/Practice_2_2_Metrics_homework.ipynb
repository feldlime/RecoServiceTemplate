{
 "cells": [
  {
   "cell_type": "markdown",
   "id": "deluxe-prerequisite",
   "metadata": {
    "id": "a00c6db1"
   },
   "source": [
    "# Метрики\n",
    "\n",
    "## Imports"
   ]
  },
  {
   "cell_type": "code",
   "execution_count": null,
   "id": "thrown-zealand",
   "metadata": {
    "colab": {
     "base_uri": "https://localhost:8080/"
    },
    "id": "bXyjVlfGP_pF",
    "outputId": "f240395a-1f88-44ad-a355-374bb71ee57c"
   },
   "outputs": [],
   "source": [
    "!pip install rectools"
   ]
  },
  {
   "cell_type": "code",
   "execution_count": 2,
   "id": "pregnant-scheduling",
   "metadata": {
    "ExecuteTime": {
     "end_time": "2022-11-16T13:16:59.822474Z",
     "start_time": "2022-11-16T13:16:58.134477Z"
    },
    "id": "14dec809"
   },
   "outputs": [],
   "source": [
    "import pandas as pd\n",
    "import numpy as np\n",
    "import numba as nb\n",
    "import requests\n",
    "from rectools import Columns\n",
    "\n",
    "from tqdm.auto import tqdm"
   ]
  },
  {
   "cell_type": "code",
   "execution_count": 3,
   "id": "extraordinary-alfred",
   "metadata": {
    "ExecuteTime": {
     "end_time": "2022-11-16T13:16:59.838475Z",
     "start_time": "2022-11-16T13:16:59.825476Z"
    },
    "id": "e3551b5e"
   },
   "outputs": [],
   "source": [
    "np.random.seed(23)"
   ]
  },
  {
   "cell_type": "markdown",
   "id": "following-quick",
   "metadata": {
    "id": "d636a7d5"
   },
   "source": [
    "## Read data"
   ]
  },
  {
   "cell_type": "code",
   "execution_count": 4,
   "id": "intense-richardson",
   "metadata": {
    "colab": {
     "base_uri": "https://localhost:8080/",
     "height": 49,
     "referenced_widgets": [
      "635f2a48f572460aa655e8c34b33f498",
      "f61c99afe3f14cc993de3545841f6b45",
      "e82c80e9f6f24703a1047afb4412f627",
      "b0373e5736774417a84c5de51b35d76c",
      "a65ad16b3b2946d48e6fd67b215a46a3",
      "f901a7029ea24365bd052e7f7c1c80c6",
      "8b909f9a2a9e4166aeeb9cbe8ea69a76",
      "e7100a7bf41749acb6babc54fab47f52",
      "091fb9baada14b749571e3f0a3f1628d",
      "5f4453513f32449792423bf1b0dc1d61",
      "91b285fe587d45dabb56be07a9b55026"
     ]
    },
    "id": "GMMSkj5WObNi",
    "outputId": "b94fe2b2-683a-4507-c552-232bdc4f221c"
   },
   "outputs": [
    {
     "data": {
      "application/vnd.jupyter.widget-view+json": {
       "model_id": "635f2a48f572460aa655e8c34b33f498",
       "version_major": 2,
       "version_minor": 0
      },
      "text/plain": [
       "kion dataset download:   0%|          | 0.00/78.8M [00:00<?, ?iB/s]"
      ]
     },
     "metadata": {},
     "output_type": "display_data"
    }
   ],
   "source": [
    "url = 'https://github.com/irsafilo/KION_DATASET/raw/f69775be31fa5779907cf0a92ddedb70037fb5ae/data_original.zip'\n",
    "req = requests.get(url, stream=True)\n",
    "\n",
    "with open('kion.zip', 'wb') as fd:\n",
    "    total_size_in_bytes = int(req.headers.get('Content-Length', 0))\n",
    "    progress_bar = tqdm(desc='kion dataset download', total=total_size_in_bytes, unit='iB', unit_scale=True)\n",
    "    for chunk in req.iter_content(chunk_size=2 ** 20):\n",
    "        progress_bar.update(len(chunk))\n",
    "        fd.write(chunk)"
   ]
  },
  {
   "cell_type": "code",
   "execution_count": 5,
   "id": "sunset-breach",
   "metadata": {
    "colab": {
     "base_uri": "https://localhost:8080/"
    },
    "id": "YJucFeAKETuQ",
    "outputId": "b72fb1f3-476a-433e-fff3-be47bf2b75bd"
   },
   "outputs": [
    {
     "name": "stdout",
     "output_type": "stream",
     "text": [
      "Archive:  kion.zip\n",
      "   creating: data_original/\n",
      "  inflating: data_original/interactions.csv  \n",
      "  inflating: __MACOSX/data_original/._interactions.csv  \n",
      "  inflating: data_original/users.csv  \n",
      "  inflating: __MACOSX/data_original/._users.csv  \n",
      "  inflating: data_original/items.csv  \n",
      "  inflating: __MACOSX/data_original/._items.csv  \n"
     ]
    }
   ],
   "source": [
    "!unzip kion.zip"
   ]
  },
  {
   "cell_type": "code",
   "execution_count": 6,
   "id": "restricted-strategy",
   "metadata": {
    "ExecuteTime": {
     "end_time": "2022-11-16T13:17:02.540473Z",
     "start_time": "2022-11-16T13:16:59.841479Z"
    },
    "id": "8b021111"
   },
   "outputs": [],
   "source": [
    "interactions = pd.read_csv('data_original/interactions.csv')\n",
    "\n",
    "interactions.rename(\n",
    "    columns={\n",
    "        'track_id': Columns.Item,\n",
    "        'last_watch_dt': Columns.Datetime,\n",
    "        'total_dur': Columns.Weight\n",
    "    }, \n",
    "    inplace=True) \n",
    "\n",
    "interactions[Columns.Datetime] = pd.to_datetime(interactions[Columns.Datetime])"
   ]
  },
  {
   "cell_type": "markdown",
   "id": "herbal-audio",
   "metadata": {
    "id": "wVmNcjDLtUOH"
   },
   "source": [
    "### MRR\n",
    "Исходные данные - результат `generate_subsample` \n",
    "\n",
    "**Задача** - по аналогии с precision написать три версии функции подсчета Mean Reciprocal Rank (naive, numba, pandas) и протестировать на разных размерах выборки\n",
    "- Протестируйте для всех комбинаций (users_count, top_k):\n",
    "  - users_count - [100, 1000, 10000, 100000]\n",
    "  - top_k - [10, 50, 100]\n",
    "- Результатом тестирования должен быть график, где будут отражены следующие показатели:\n",
    "  - Алгоритм - naive, numba, pandas\n",
    "  - Скорость работы (время)\n",
    "  - users_count\n",
    "  - top_k"
   ]
  },
  {
   "cell_type": "code",
   "execution_count": 7,
   "id": "correct-strip",
   "metadata": {
    "ExecuteTime": {
     "end_time": "2022-11-16T13:17:19.763472Z",
     "start_time": "2022-11-16T13:17:19.751472Z"
    },
    "id": "003c90fd"
   },
   "outputs": [],
   "source": [
    "def generate_subsample(users_count, top_k):\n",
    "    users = np.random.choice(interactions[Columns.User].unique(), users_count, replace=False)\n",
    "    df = interactions[interactions[Columns.User].isin(users)].reset_index(drop=True)\n",
    "    del df[Columns.Datetime], df[Columns.Weight], df['watched_pct']\n",
    "    \n",
    "    recs = np.random.choice(df[Columns.Item], size=(users_count, top_k))\n",
    "    return df, users, recs"
   ]
  },
  {
   "cell_type": "code",
   "execution_count": 8,
   "id": "occupied-plain",
   "metadata": {
    "ExecuteTime": {
     "end_time": "2022-11-16T13:17:19.981472Z",
     "start_time": "2022-11-16T13:17:19.766472Z"
    },
    "id": "82302497"
   },
   "outputs": [],
   "source": [
    "top_k = 10\n",
    "df, users, recs = generate_subsample(10000, top_k)\n",
    "target = df.values"
   ]
  },
  {
   "cell_type": "code",
   "execution_count": 10,
   "id": "sporting-poverty",
   "metadata": {
    "id": "kDSO5MyPHqao"
   },
   "outputs": [],
   "source": [
    "def mrr_naive(target, users, recs, k):\n",
    "    rates = []\n",
    "    for i, user in enumerate(users):\n",
    "        user_target = target[target[:, 0] == user][:, 1]\n",
    "        rec_in_target = False\n",
    "        min_rate = k + 1\n",
    "        for j, rec in enumerate(recs[i]):\n",
    "            if rec in user_target:\n",
    "                min_rate = j + 1\n",
    "                rec_in_target = True\n",
    "                break\n",
    "        if rec_in_target:\n",
    "          rates.append(1 / min_rate)\n",
    "        else:\n",
    "          rates.append(0)\n",
    "    return sum(rates) / len(users)"
   ]
  },
  {
   "cell_type": "code",
   "execution_count": 11,
   "id": "saved-jungle",
   "metadata": {
    "id": "mIrGSAEKLkMX"
   },
   "outputs": [],
   "source": [
    "@nb.njit(cache=True, parallel=True)\n",
    "def mrr_numba(target, users, recs, k):\n",
    "    rates = np.zeros(len(users))\n",
    "    for i in nb.prange(len(users)):\n",
    "        user = users[i]\n",
    "        user_target = target[target[:, 0] == user][:, 1]\n",
    "        min_rate = k + 1\n",
    "        rec_in_target = False\n",
    "        for j in range(len(recs[i])):\n",
    "            if recs[i][j] in user_target:\n",
    "                min_rate = j + 1\n",
    "                rec_in_target = True\n",
    "                break\n",
    "        if rec_in_target:\n",
    "          rates[i] = (1 / min_rate)\n",
    "    return rates.mean()"
   ]
  },
  {
   "cell_type": "code",
   "execution_count": 12,
   "id": "graduate-morrison",
   "metadata": {
    "id": "sadRYFT4NzjP"
   },
   "outputs": [],
   "source": [
    "def mrr_pandas(df, users, recs, k):\n",
    "    df_recs = pd.DataFrame({\n",
    "      Columns.User: np.repeat(users, top_k),\n",
    "      Columns.Item: recs.ravel()\n",
    "    })\n",
    "    df_recs[Columns.Rank] = df_recs.groupby(Columns.User).cumcount() + 1\n",
    "    df_recs = df.merge(df_recs, how='left', left_on=Columns.UserItem, right_on=Columns.UserItem)\n",
    "    return (1.0 / df_recs.groupby(Columns.User)[Columns.Rank].apply(min)).sum() / len(users)"
   ]
  },
  {
   "cell_type": "code",
   "execution_count": 13,
   "id": "major-malaysia",
   "metadata": {
    "colab": {
     "base_uri": "https://localhost:8080/",
     "height": 34
    },
    "id": "DX7DgR1ZImsk",
    "outputId": "3634c647-6ad8-4ac0-c4d2-b70261c7fd3c"
   },
   "outputs": [
    {
     "name": "stdout",
     "output_type": "stream",
     "text": [
      "2.03 s ± 39.1 ms per loop (mean ± std. dev. of 7 runs, 1 loop each)\n"
     ]
    }
   ],
   "source": [
    "%timeit mrr_naive(target, users, recs, top_k)"
   ]
  },
  {
   "cell_type": "code",
   "execution_count": 14,
   "id": "frozen-ottawa",
   "metadata": {
    "colab": {
     "base_uri": "https://localhost:8080/"
    },
    "id": "HPBzOIXjLy6R",
    "outputId": "20165e76-043e-4000-a668-b0ed4c33b403"
   },
   "outputs": [
    {
     "name": "stdout",
     "output_type": "stream",
     "text": [
      "1.11 s ± 12.9 ms per loop (mean ± std. dev. of 7 runs, 1 loop each)\n"
     ]
    }
   ],
   "source": [
    "%timeit mrr_numba(target, users, recs, top_k)"
   ]
  },
  {
   "cell_type": "code",
   "execution_count": 19,
   "id": "blond-interstate",
   "metadata": {
    "colab": {
     "base_uri": "https://localhost:8080/"
    },
    "id": "7-jWdrFaOIUd",
    "outputId": "27434638-2c1d-4fca-c4ed-e0457baf91e8"
   },
   "outputs": [
    {
     "name": "stdout",
     "output_type": "stream",
     "text": [
      "1.01 s ± 31.2 ms per loop (mean ± std. dev. of 7 runs, 1 loop each)\n"
     ]
    }
   ],
   "source": [
    "%timeit mrr_pandas(df, users, recs, top_k) "
   ]
  },
  {
   "cell_type": "code",
   "execution_count": 20,
   "id": "composite-hearts",
   "metadata": {
    "colab": {
     "base_uri": "https://localhost:8080/"
    },
    "id": "saYUChkllF5M",
    "outputId": "3fc3dfb6-c5fd-4209-8b7c-828ca750169b"
   },
   "outputs": [
    {
     "name": "stdout",
     "output_type": "stream",
     "text": [
      "0.07836801587301619 0.07836801587301577 0.07836801587301587\n"
     ]
    }
   ],
   "source": [
    "print(mrr_naive(target, users, recs, top_k), mrr_numba(target, users, recs, top_k), mrr_pandas(df, users, recs, top_k))"
   ]
  },
  {
   "cell_type": "code",
   "execution_count": null,
   "id": "absolute-brisbane",
   "metadata": {
    "colab": {
     "base_uri": "https://localhost:8080/"
    },
    "id": "FwwwiueMeTcw",
    "outputId": "8aeefa1f-3df8-4678-c45e-0831ded93aff"
   },
   "outputs": [
    {
     "name": "stdout",
     "output_type": "stream",
     "text": [
      "3.17 ms ± 121 µs per loop (mean ± std. dev. of 7 runs, 100 loops each)\n",
      "112 µs ± 755 ns per loop (mean ± std. dev. of 7 runs, 10000 loops each)\n",
      "12.3 ms ± 245 µs per loop (mean ± std. dev. of 7 runs, 100 loops each)\n",
      "52.5 ms ± 13.8 ms per loop (mean ± std. dev. of 7 runs, 10 loops each)\n",
      "9.3 ms ± 97.7 µs per loop (mean ± std. dev. of 7 runs, 100 loops each)\n",
      "90.5 ms ± 4.55 ms per loop (mean ± std. dev. of 7 runs, 10 loops each)\n",
      "1.3 s ± 5.1 ms per loop (mean ± std. dev. of 7 runs, 1 loop each)\n",
      "898 ms ± 6.54 ms per loop (mean ± std. dev. of 7 runs, 1 loop each)\n",
      "952 ms ± 77.5 ms per loop (mean ± std. dev. of 7 runs, 1 loop each)\n",
      "1min 42s ± 823 ms per loop (mean ± std. dev. of 7 runs, 1 loop each)\n",
      "1min 29s ± 696 ms per loop (mean ± std. dev. of 7 runs, 1 loop each)\n",
      "9.26 s ± 257 ms per loop (mean ± std. dev. of 7 runs, 1 loop each)\n",
      "11.4 ms ± 101 µs per loop (mean ± std. dev. of 7 runs, 100 loops each)\n",
      "157 µs ± 50.4 µs per loop (mean ± std. dev. of 7 runs, 10000 loops each)\n",
      "12.4 ms ± 354 µs per loop (mean ± std. dev. of 7 runs, 100 loops each)\n",
      "120 ms ± 20 ms per loop (mean ± std. dev. of 7 runs, 10 loops each)\n",
      "9.08 ms ± 75.4 µs per loop (mean ± std. dev. of 7 runs, 100 loops each)\n",
      "91 ms ± 3.39 ms per loop (mean ± std. dev. of 7 runs, 10 loops each)\n",
      "2.09 s ± 186 ms per loop (mean ± std. dev. of 7 runs, 1 loop each)\n",
      "887 ms ± 7.4 ms per loop (mean ± std. dev. of 7 runs, 1 loop each)\n",
      "963 ms ± 54.9 ms per loop (mean ± std. dev. of 7 runs, 1 loop each)\n",
      "1min 48s ± 1.06 s per loop (mean ± std. dev. of 7 runs, 1 loop each)\n",
      "1min 28s ± 380 ms per loop (mean ± std. dev. of 7 runs, 1 loop each)\n",
      "10 s ± 403 ms per loop (mean ± std. dev. of 7 runs, 1 loop each)\n",
      "13.8 ms ± 589 µs per loop (mean ± std. dev. of 7 runs, 100 loops each)\n",
      "108 µs ± 950 ns per loop (mean ± std. dev. of 7 runs, 10000 loops each)\n",
      "12.5 ms ± 164 µs per loop (mean ± std. dev. of 7 runs, 100 loops each)\n",
      "179 ms ± 28.4 ms per loop (mean ± std. dev. of 7 runs, 10 loops each)\n",
      "9.4 ms ± 56.2 µs per loop (mean ± std. dev. of 7 runs, 100 loops each)\n",
      "92.7 ms ± 2.38 ms per loop (mean ± std. dev. of 7 runs, 10 loops each)\n",
      "2.53 s ± 28 ms per loop (mean ± std. dev. of 7 runs, 1 loop each)\n",
      "887 ms ± 7.76 ms per loop (mean ± std. dev. of 7 runs, 1 loop each)\n",
      "1.05 s ± 86.3 ms per loop (mean ± std. dev. of 7 runs, 1 loop each)\n",
      "1min 52s ± 374 ms per loop (mean ± std. dev. of 7 runs, 1 loop each)\n",
      "1min 28s ± 307 ms per loop (mean ± std. dev. of 7 runs, 1 loop each)\n",
      "11.6 s ± 501 ms per loop (mean ± std. dev. of 7 runs, 1 loop each)\n"
     ]
    }
   ],
   "source": [
    "results = []\n",
    "for top_k in [10, 50, 100]:\n",
    "  for user_count in [100, 1000, 10000, 100000]:\n",
    "    df, users, recs = generate_subsample(user_count, top_k)\n",
    "    target = df.values\n",
    "    naive = %timeit -o mrr_naive(target, users, recs, top_k)\n",
    "    numba = %timeit -o mrr_numba(target, users, recs, top_k)\n",
    "    pandas = %timeit -o mrr_pandas(df, users, recs, top_k)\n",
    "    results.append([naive.average, numba.average, pandas.average])"
   ]
  },
  {
   "cell_type": "code",
   "execution_count": null,
   "id": "legitimate-munich",
   "metadata": {
    "colab": {
     "base_uri": "https://localhost:8080/"
    },
    "id": "DwYoa_MsVygn",
    "outputId": "6bfd1e1a-fa80-4a71-d216-ef3c47b83ed5"
   },
   "outputs": [
    {
     "name": "stdout",
     "output_type": "stream",
     "text": [
      "[[0.0031689096114283595, 0.00011154044512857127, 0.012250429870000029], [0.05251929265714352, 0.009299242138571345, 0.09046094810000146], [1.301709081714291, 0.8984132230000016, 0.9516514150000148], [102.49592083042856, 89.4815973899999, 9.263679754428397], [0.011439878968571975, 0.0001567242491428715, 0.012444297498572527], [0.11967227374285097, 0.009083996980000718, 0.09103779407142351], [2.0857187010000677, 0.8869353767141936, 0.9628759572856974], [108.3837689724285, 88.923429762, 10.012739046285658], [0.013833741909998674, 0.00010763156232855441, 0.012537246242860161], [0.1785312022857397, 0.00940299005428512, 0.0926682194285604], [2.5347517454284962, 0.886695998000245, 1.0482716102858052], [112.64749864414287, 88.53726327957156, 11.576991121571544]]\n"
     ]
    }
   ],
   "source": [
    "print(results)"
   ]
  },
  {
   "cell_type": "code",
   "execution_count": 22,
   "id": "harmful-bronze",
   "metadata": {
    "id": "YMMEftK5MON2"
   },
   "outputs": [],
   "source": [
    "results = np.array([[0.0031689096114283595, 0.00011154044512857127, 0.012250429870000029], [0.05251929265714352, 0.009299242138571345, 0.09046094810000146], [1.301709081714291, 0.8984132230000016, 0.9516514150000148], [102.49592083042856, 89.4815973899999, 9.263679754428397], [0.011439878968571975, 0.0001567242491428715, 0.012444297498572527], [0.11967227374285097, 0.009083996980000718, 0.09103779407142351], [2.0857187010000677, 0.8869353767141936, 0.9628759572856974], [108.3837689724285, 88.923429762, 10.012739046285658], [0.013833741909998674, 0.00010763156232855441, 0.012537246242860161], [0.1785312022857397, 0.00940299005428512, 0.0926682194285604], [2.5347517454284962, 0.886695998000245, 1.0482716102858052], [112.64749864414287, 88.53726327957156, 11.576991121571544]])"
   ]
  },
  {
   "cell_type": "code",
   "execution_count": 28,
   "id": "computational-timing",
   "metadata": {
    "colab": {
     "base_uri": "https://localhost:8080/"
    },
    "id": "fPWSlNH0lgjk",
    "outputId": "8837ea8a-0b31-43c4-cc8f-927e4dfd6a3d"
   },
   "outputs": [
    {
     "data": {
      "text/plain": [
       "array([0.00316891, 0.00011154, 0.01225043])"
      ]
     },
     "execution_count": 28,
     "metadata": {},
     "output_type": "execute_result"
    }
   ],
   "source": [
    "results[0]"
   ]
  },
  {
   "cell_type": "code",
   "execution_count": 60,
   "id": "impossible-department",
   "metadata": {
    "colab": {
     "base_uri": "https://localhost:8080/",
     "height": 404
    },
    "id": "CfiWcZPcc52S",
    "outputId": "21e9746a-947d-4352-f9eb-ece07b694bdb"
   },
   "outputs": [
    {
     "data": {
      "image/png": "[encoded data removed]",
      "text/plain": [
       "<Figure size 1728x432 with 4 Axes>"
      ]
     },
     "metadata": {
      "needs_background": "light"
     },
     "output_type": "display_data"
    }
   ],
   "source": [
    "import matplotlib.pyplot as plt\n",
    "import numpy as np\n",
    "  \n",
    "# create data\n",
    "top_array = [10, 50, 100]\n",
    "user_count_array = [100, 1000, 10000, 100000]\n",
    "fig, ax = plt.subplots(1,4, figsize=(24,6))\n",
    "for i in range(4):\n",
    "  x = np.arange(3)\n",
    "  y1 = results[i,0]\n",
    "  y2 = results[i+4,1]\n",
    "  y3 = results[i+8,2]\n",
    "  width = 0.2\n",
    "    \n",
    "  # plot data in grouped manner of bar type\n",
    "  ax[i].bar(x-0.2, y1, width, color='cyan')\n",
    "  ax[i].bar(x, y2, width, color='orange')\n",
    "  ax[i].bar(x+0.2, y3, width, color='green')\n",
    "  ax[i].set_xlabel(\"Setups\")\n",
    "  ax[i].set_ylabel(\"Time, s\")\n",
    "  ax[i].legend([\"Naive\", \"Numba\", \"Pandas\"])\n",
    "  ax[i].set_title(f\"{user_count_array[i]} users\")\n",
    "plt.setp(ax, xticks=x, xticklabels=['Top10', 'Top50', 'Top100'])\n",
    "plt.show()"
   ]
  },
  {
   "cell_type": "markdown",
   "id": "armed-basin",
   "metadata": {
    "id": "86146c27"
   },
   "source": [
    "### PFound\n",
    "Исходные данные - Yandex Cup 2022 Analytics\n",
    "- Ссылка - https://yandex.ru/cup/analytics/analysis/ , пример A. Рассчитать pFound\n",
    "- Данные - https://yadi.sk/d/guqki4UI4hFlXQ\n",
    "- Формула\n",
    "$$pFound@K = \\sum_{i=1}^{k} pLook[i]\\ pRel[i]$$\n",
    "\n",
    "$$pLook[1] = 1$$\n",
    "\n",
    "$$pLook[i] = pLook[i-1]\\ (1 - pRel[i-1])\\ (1 - pBreak)$$\n",
    "\n",
    "$$pBreak = 0.15$$\n",
    "\n",
    "**Задача** - написать функцию, которая принимает на вход dataframe (после join), а на выходе дает средний pFound по всем query.\n",
    "- Запрещается использовать циклы for для расчет метрики (как полностью, так и ее частей).\n",
    "- Усложнение, если задача показалась легкой - попробуйте обойтись без groupby (не уверен, что это возможно, но вдруг вы справитесь)\n"
   ]
  },
  {
   "cell_type": "code",
   "execution_count": null,
   "id": "external-charm",
   "metadata": {
    "id": "nMsyJEO9AUcf"
   },
   "outputs": [],
   "source": [
    "import pandas as pd\n",
    "import numpy as np\n",
    "\n",
    "# считываем данные\n",
    "qid_query = pd.read_csv(\"/content/drive/MyDrive/recsys_lecture2/yacup/qid_query.tsv\", sep=\"\\t\", names=[\"qid\", \"query\"])\n",
    "qid_url_rating = pd.read_csv(\"/content/drive/MyDrive/recsys_lecture2/yacup/qid_url_rating.tsv\", sep=\"\\t\", names=[\"qid\", \"url\", \"rating\"])\n",
    "hostid_url = pd.read_csv(\"/content/drive/MyDrive/recsys_lecture2/yacup/hostid_url.tsv\", sep=\"\\t\", names=[\"hostid\", \"url\"])\n",
    "\n",
    "# делаем join двух таблиц, чтобы было просто брать url с максимальным рейтингом\n",
    "qid_url_rating_hostid = pd.merge(qid_url_rating, hostid_url, on=\"url\")\n",
    "\n",
    "\n",
    "def plook(ind, rels):\n",
    "    if ind == 0:\n",
    "        return 1\n",
    "    return plook(ind-1, rels)*(1-rels[ind-1])*(1-0.15)\n",
    "\n",
    "\n",
    "def pfound_vector(group):\n",
    "    max_by_host = group.groupby(\"hostid\")[\"rating\"].max() # максимальный рейтинг хоста\n",
    "    top10 = max_by_host.sort_values(ascending=False)[:10] # берем топ10 урлов с наивысшим рейтингом\n",
    "    top10_np = top10.to_numpy() \n",
    "    pbreak = np.power(np.repeat(1 - 0.15, 10), np.arange(10))\n",
    "    pRel_ = np.roll(1 - top10_np, 1)\n",
    "    pRel_[0] = 1\n",
    "    pRel_ = pRel_.cumprod() \n",
    "    return np.sum(pRel_ * pbreak * top10_np)\n",
    "\n",
    "def pfound(group):\n",
    "    max_by_host = group.groupby(\"hostid\")[\"rating\"].max() # максимальный рейтинг хоста\n",
    "    top10 = max_by_host.sort_values(ascending=False)[:10] # берем топ10 урлов с наивысшим рейтингом\n",
    "    pfound = 0\n",
    "    for ind, val in enumerate(top10):\n",
    "        pfound += val*plook(ind, top10.values)\n",
    "    return pfound\n",
    "\n",
    "\n",
    "qid_pfound = qid_url_rating_hostid.groupby('qid').apply(pfound) # группируем по qid и вычисляем pfound\n",
    "qid_pfound_vector = qid_url_rating_hostid.groupby('qid').apply(pfound_vector) # группируем по qid и вычисляем pfound векторизованный\n",
    "print(qid_pfound.mean(), qid_pfound_vector.mean())"
   ]
  }
 ],
 "metadata": {
  "colab": {
   "provenance": []
  },
  "gpuClass": "standard",
  "kernelspec": {
   "display_name": "Python 3",
   "language": "python",
   "name": "python3"
  },
  "language_info": {
   "codemirror_mode": {
    "name": "ipython",
    "version": 3
   },
   "file_extension": ".py",
   "mimetype": "text/x-python",
   "name": "python",
   "nbconvert_exporter": "python",
   "pygments_lexer": "ipython3",
   "version": "3.7.2"
  },
  "toc": {
   "base_numbering": 1,
   "nav_menu": {},
   "number_sections": true,
   "sideBar": true,
   "skip_h1_title": true,
   "title_cell": "Table of Contents",
   "title_sidebar": "Contents",
   "toc_cell": false,
   "toc_position": {
    "height": "calc(100% - 180px)",
    "left": "10px",
    "top": "150px",
    "width": "221px"
   },
   "toc_section_display": true,
   "toc_window_display": true
  },
  "widgets": {
   "application/vnd.jupyter.widget-state+json": {
    "091fb9baada14b749571e3f0a3f1628d": {
     "model_module": "@jupyter-widgets/controls",
     "model_module_version": "1.5.0",
     "model_name": "ProgressStyleModel",
     "state": {
      "_model_module": "@jupyter-widgets/controls",
      "_model_module_version": "1.5.0",
      "_model_name": "ProgressStyleModel",
      "_view_count": null,
      "_view_module": "@jupyter-widgets/base",
      "_view_module_version": "1.2.0",
      "_view_name": "StyleView",
      "bar_color": null,
      "description_width": ""
     }
    },
    "5f4453513f32449792423bf1b0dc1d61": {
     "model_module": "@jupyter-widgets/base",
     "model_module_version": "1.2.0",
     "model_name": "LayoutModel",
     "state": {
      "_model_module": "@jupyter-widgets/base",
      "_model_module_version": "1.2.0",
      "_model_name": "LayoutModel",
      "_view_count": null,
      "_view_module": "@jupyter-widgets/base",
      "_view_module_version": "1.2.0",
      "_view_name": "LayoutView",
      "align_content": null,
      "align_items": null,
      "align_self": null,
      "border": null,
      "bottom": null,
      "display": null,
      "flex": null,
      "flex_flow": null,
      "grid_area": null,
      "grid_auto_columns": null,
      "grid_auto_flow": null,
      "grid_auto_rows": null,
      "grid_column": null,
      "grid_gap": null,
      "grid_row": null,
      "grid_template_areas": null,
      "grid_template_columns": null,
      "grid_template_rows": null,
      "height": null,
      "justify_content": null,
      "justify_items": null,
      "left": null,
      "margin": null,
      "max_height": null,
      "max_width": null,
      "min_height": null,
      "min_width": null,
      "object_fit": null,
      "object_position": null,
      "order": null,
      "overflow": null,
      "overflow_x": null,
      "overflow_y": null,
      "padding": null,
      "right": null,
      "top": null,
      "visibility": null,
      "width": null
     }
    },
    "635f2a48f572460aa655e8c34b33f498": {
     "model_module": "@jupyter-widgets/controls",
     "model_module_version": "1.5.0",
     "model_name": "HBoxModel",
     "state": {
      "_dom_classes": [],
      "_model_module": "@jupyter-widgets/controls",
      "_model_module_version": "1.5.0",
      "_model_name": "HBoxModel",
      "_view_count": null,
      "_view_module": "@jupyter-widgets/controls",
      "_view_module_version": "1.5.0",
      "_view_name": "HBoxView",
      "box_style": "",
      "children": [
       "IPY_MODEL_f61c99afe3f14cc993de3545841f6b45",
       "IPY_MODEL_e82c80e9f6f24703a1047afb4412f627",
       "IPY_MODEL_b0373e5736774417a84c5de51b35d76c"
      ],
      "layout": "IPY_MODEL_a65ad16b3b2946d48e6fd67b215a46a3"
     }
    },
    "8b909f9a2a9e4166aeeb9cbe8ea69a76": {
     "model_module": "@jupyter-widgets/controls",
     "model_module_version": "1.5.0",
     "model_name": "DescriptionStyleModel",
     "state": {
      "_model_module": "@jupyter-widgets/controls",
      "_model_module_version": "1.5.0",
      "_model_name": "DescriptionStyleModel",
      "_view_count": null,
      "_view_module": "@jupyter-widgets/base",
      "_view_module_version": "1.2.0",
      "_view_name": "StyleView",
      "description_width": ""
     }
    },
    "91b285fe587d45dabb56be07a9b55026": {
     "model_module": "@jupyter-widgets/controls",
     "model_module_version": "1.5.0",
     "model_name": "DescriptionStyleModel",
     "state": {
      "_model_module": "@jupyter-widgets/controls",
      "_model_module_version": "1.5.0",
      "_model_name": "DescriptionStyleModel",
      "_view_count": null,
      "_view_module": "@jupyter-widgets/base",
      "_view_module_version": "1.2.0",
      "_view_name": "StyleView",
      "description_width": ""
     }
    },
    "a65ad16b3b2946d48e6fd67b215a46a3": {
     "model_module": "@jupyter-widgets/base",
     "model_module_version": "1.2.0",
     "model_name": "LayoutModel",
     "state": {
      "_model_module": "@jupyter-widgets/base",
      "_model_module_version": "1.2.0",
      "_model_name": "LayoutModel",
      "_view_count": null,
      "_view_module": "@jupyter-widgets/base",
      "_view_module_version": "1.2.0",
      "_view_name": "LayoutView",
      "align_content": null,
      "align_items": null,
      "align_self": null,
      "border": null,
      "bottom": null,
      "display": null,
      "flex": null,
      "flex_flow": null,
      "grid_area": null,
      "grid_auto_columns": null,
      "grid_auto_flow": null,
      "grid_auto_rows": null,
      "grid_column": null,
      "grid_gap": null,
      "grid_row": null,
      "grid_template_areas": null,
      "grid_template_columns": null,
      "grid_template_rows": null,
      "height": null,
      "justify_content": null,
      "justify_items": null,
      "left": null,
      "margin": null,
      "max_height": null,
      "max_width": null,
      "min_height": null,
      "min_width": null,
      "object_fit": null,
      "object_position": null,
      "order": null,
      "overflow": null,
      "overflow_x": null,
      "overflow_y": null,
      "padding": null,
      "right": null,
      "top": null,
      "visibility": null,
      "width": null
     }
    },
    "b0373e5736774417a84c5de51b35d76c": {
     "model_module": "@jupyter-widgets/controls",
     "model_module_version": "1.5.0",
     "model_name": "HTMLModel",
     "state": {
      "_dom_classes": [],
      "_model_module": "@jupyter-widgets/controls",
      "_model_module_version": "1.5.0",
      "_model_name": "HTMLModel",
      "_view_count": null,
      "_view_module": "@jupyter-widgets/controls",
      "_view_module_version": "1.5.0",
      "_view_name": "HTMLView",
      "description": "",
      "description_tooltip": null,
      "layout": "IPY_MODEL_5f4453513f32449792423bf1b0dc1d61",
      "placeholder": "​",
      "style": "IPY_MODEL_91b285fe587d45dabb56be07a9b55026",
      "value": " 78.8M/78.8M [00:20&lt;00:00, 143MiB/s]"
     }
    },
    "e7100a7bf41749acb6babc54fab47f52": {
     "model_module": "@jupyter-widgets/base",
     "model_module_version": "1.2.0",
     "model_name": "LayoutModel",
     "state": {
      "_model_module": "@jupyter-widgets/base",
      "_model_module_version": "1.2.0",
      "_model_name": "LayoutModel",
      "_view_count": null,
      "_view_module": "@jupyter-widgets/base",
      "_view_module_version": "1.2.0",
      "_view_name": "LayoutView",
      "align_content": null,
      "align_items": null,
      "align_self": null,
      "border": null,
      "bottom": null,
      "display": null,
      "flex": null,
      "flex_flow": null,
      "grid_area": null,
      "grid_auto_columns": null,
      "grid_auto_flow": null,
      "grid_auto_rows": null,
      "grid_column": null,
      "grid_gap": null,
      "grid_row": null,
      "grid_template_areas": null,
      "grid_template_columns": null,
      "grid_template_rows": null,
      "height": null,
      "justify_content": null,
      "justify_items": null,
      "left": null,
      "margin": null,
      "max_height": null,
      "max_width": null,
      "min_height": null,
      "min_width": null,
      "object_fit": null,
      "object_position": null,
      "order": null,
      "overflow": null,
      "overflow_x": null,
      "overflow_y": null,
      "padding": null,
      "right": null,
      "top": null,
      "visibility": null,
      "width": null
     }
    },
    "e82c80e9f6f24703a1047afb4412f627": {
     "model_module": "@jupyter-widgets/controls",
     "model_module_version": "1.5.0",
     "model_name": "FloatProgressModel",
     "state": {
      "_dom_classes": [],
      "_model_module": "@jupyter-widgets/controls",
      "_model_module_version": "1.5.0",
      "_model_name": "FloatProgressModel",
      "_view_count": null,
      "_view_module": "@jupyter-widgets/controls",
      "_view_module_version": "1.5.0",
      "_view_name": "ProgressView",
      "bar_style": "",
      "description": "",
      "description_tooltip": null,
      "layout": "IPY_MODEL_e7100a7bf41749acb6babc54fab47f52",
      "max": 78795295,
      "min": 0,
      "orientation": "horizontal",
      "style": "IPY_MODEL_091fb9baada14b749571e3f0a3f1628d",
      "value": 78795295
     }
    },
    "f61c99afe3f14cc993de3545841f6b45": {
     "model_module": "@jupyter-widgets/controls",
     "model_module_version": "1.5.0",
     "model_name": "HTMLModel",
     "state": {
      "_dom_classes": [],
      "_model_module": "@jupyter-widgets/controls",
      "_model_module_version": "1.5.0",
      "_model_name": "HTMLModel",
      "_view_count": null,
      "_view_module": "@jupyter-widgets/controls",
      "_view_module_version": "1.5.0",
      "_view_name": "HTMLView",
      "description": "",
      "description_tooltip": null,
      "layout": "IPY_MODEL_f901a7029ea24365bd052e7f7c1c80c6",
      "placeholder": "​",
      "style": "IPY_MODEL_8b909f9a2a9e4166aeeb9cbe8ea69a76",
      "value": "kion dataset download: 100%"
     }
    },
    "f901a7029ea24365bd052e7f7c1c80c6": {
     "model_module": "@jupyter-widgets/base",
     "model_module_version": "1.2.0",
     "model_name": "LayoutModel",
     "state": {
      "_model_module": "@jupyter-widgets/base",
      "_model_module_version": "1.2.0",
      "_model_name": "LayoutModel",
      "_view_count": null,
      "_view_module": "@jupyter-widgets/base",
      "_view_module_version": "1.2.0",
      "_view_name": "LayoutView",
      "align_content": null,
      "align_items": null,
      "align_self": null,
      "border": null,
      "bottom": null,
      "display": null,
      "flex": null,
      "flex_flow": null,
      "grid_area": null,
      "grid_auto_columns": null,
      "grid_auto_flow": null,
      "grid_auto_rows": null,
      "grid_column": null,
      "grid_gap": null,
      "grid_row": null,
      "grid_template_areas": null,
      "grid_template_columns": null,
      "grid_template_rows": null,
      "height": null,
      "justify_content": null,
      "justify_items": null,
      "left": null,
      "margin": null,
      "max_height": null,
      "max_width": null,
      "min_height": null,
      "min_width": null,
      "object_fit": null,
      "object_position": null,
      "order": null,
      "overflow": null,
      "overflow_x": null,
      "overflow_y": null,
      "padding": null,
      "right": null,
      "top": null,
      "visibility": null,
      "width": null
     }
    }
   }
  }
 },
 "nbformat": 4,
 "nbformat_minor": 5
}
