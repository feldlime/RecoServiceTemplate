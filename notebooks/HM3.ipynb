{
 "cells": [
  {
   "cell_type": "markdown",
   "source": [
    "## Imports"
   ],
   "metadata": {
    "collapsed": false,
    "pycharm": {
     "name": "#%% md\n"
    }
   }
  },
  {
   "cell_type": "code",
   "execution_count": null,
   "outputs": [],
   "source": [
    "import warnings\n",
    "warnings.filterwarnings(\"ignore\")\n",
    "\n",
    "from implicit.nearest_neighbours import BM25Recommender\n",
    "from rectools.dataset import Dataset\n",
    "from rectools import Columns\n",
    "from rectools.model_selection import TimeRangeSplit\n",
    "import pandas as pd\n",
    "\n",
    "\n",
    "from service.models.userknn import UserKnn\n",
    "from service.utils import save_model, load_model"
   ],
   "metadata": {
    "collapsed": false,
    "pycharm": {
     "name": "#%%\n"
    }
   }
  },
  {
   "cell_type": "markdown",
   "source": [
    "## Data"
   ],
   "metadata": {
    "collapsed": false,
    "pycharm": {
     "name": "#%% md\n"
    }
   }
  },
  {
   "cell_type": "code",
   "execution_count": null,
   "outputs": [],
   "source": [
    "!mkdir ../data\n",
    "!wget https://storage.yandexcloud.net/itmo-recsys-public-data/kion_train.zip -O ../data/data_original.zip\n",
    "!unzip ../data/data_original.zip -d ../data"
   ],
   "metadata": {
    "collapsed": false,
    "pycharm": {
     "name": "#%%\n"
    }
   }
  },
  {
   "cell_type": "code",
   "execution_count": null,
   "outputs": [],
   "source": [
    "interactions = pd.read_csv('../data/kion_train/interactions.csv')\n",
    "users = pd.read_csv('../data/kion_train/users.csv')\n",
    "items = pd.read_csv('../data/kion_train/items.csv')\n",
    "\n",
    "\n",
    "# rename columns, convert timestamp\n",
    "interactions.rename(columns={'last_watch_dt': Columns.Datetime,\n",
    "                            'total_dur': Columns.Weight},\n",
    "                    inplace=True)\n",
    "\n",
    "interactions['datetime'] = pd.to_datetime(interactions['datetime'])\n"
   ],
   "metadata": {
    "collapsed": false,
    "pycharm": {
     "name": "#%%\n"
    }
   }
  },
  {
   "cell_type": "markdown",
   "source": [
    "## Train test split"
   ],
   "metadata": {
    "collapsed": false,
    "pycharm": {
     "name": "#%% md\n"
    }
   }
  },
  {
   "cell_type": "code",
   "execution_count": null,
   "outputs": [],
   "source": [
    "n_folds = 1\n",
    "unit = \"W\"\n",
    "n_units = 1\n",
    "periods = n_folds + 1\n",
    "\n",
    "last_date = interactions[Columns.Datetime].max().normalize()\n",
    "start_date = last_date - pd.Timedelta(n_folds * n_units + 1, unit=unit)  # TimeDelta возвращает длительность промежутка между датами\n",
    "print(f\"Start date and last date of the test fold: {start_date, last_date}\")\n",
    "\n",
    "date_range = pd.date_range(start=start_date, periods=periods, freq=unit, tz=last_date.tz)\n",
    "print(f\"Test fold borders: {date_range.values.astype('datetime64[D]')}\")\n",
    "\n",
    "# generator of folds\n",
    "cv = TimeRangeSplit(\n",
    "    date_range=date_range,\n",
    "    filter_already_seen=True,\n",
    "    filter_cold_items=True,\n",
    "    filter_cold_users=True,\n",
    ")\n",
    "print(f\"Real number of folds: {cv.get_n_splits(interactions)}\")"
   ],
   "metadata": {
    "collapsed": false,
    "pycharm": {
     "name": "#%%\n"
    }
   }
  },
  {
   "cell_type": "code",
   "execution_count": null,
   "outputs": [],
   "source": [
    "(train_ids, test_ids, fold_info) = cv.split(interactions, collect_fold_stats=True).__next__()"
   ],
   "metadata": {
    "collapsed": false,
    "pycharm": {
     "name": "#%%\n"
    }
   }
  },
  {
   "cell_type": "code",
   "execution_count": null,
   "outputs": [],
   "source": [
    "train = interactions.loc[train_ids].reset_index(drop=True)\n",
    "test = interactions.loc[test_ids].reset_index(drop=True)"
   ],
   "metadata": {
    "collapsed": false,
    "pycharm": {
     "name": "#%%\n"
    }
   }
  },
  {
   "cell_type": "raw",
   "source": [
    "# prepare user and item features\n",
    "age_feature = (\n",
    "    users[[\"user_id\", \"age\"]]\n",
    "    .rename({'user_id': 'id', 'age': 'value'}, axis=1)\n",
    ")\n",
    "age_feature[\"feature\"] = \"age\"\n",
    "\n",
    "age_feature_train = age_feature[age_feature['id'].isin(train['user_id'])]\n",
    "age_feature_test = age_feature[age_feature['id'].isin(test['user_id'])]\n",
    "\n",
    "\n",
    "genres_feature = (\n",
    "    items[[\"item_id\", \"genres\"]]\n",
    "    .rename({'item_id': 'id', 'genres': 'value'}, axis=1)\n",
    ")\n",
    "\n",
    "genres_feature[\"value\"] = genres_feature[\"value\"].str.split(\",\")\n",
    "genres_feature = genres_feature.explode(\"value\")\n",
    "genres_feature[\"feature\"] = \"genres\"\n",
    "\n",
    "genres_feature_train = genres_feature[genres_feature['id'].isin(train['item_id'])]\n",
    "genres_feature_test = genres_feature[genres_feature['id'].isin(test['item_id'])]"
   ],
   "metadata": {
    "collapsed": false,
    "pycharm": {
     "name": "#%% raw\n"
    }
   }
  },
  {
   "cell_type": "raw",
   "source": [
    "# Create dataset\n",
    "train_df = Dataset.construct(\n",
    "    train,\n",
    "    user_features_df=age_feature_train,\n",
    "    item_features_df=genres_feature_train,\n",
    "    cat_item_features=['genres'],\n",
    "    cat_user_features=['age']\n",
    "\n",
    ")\n",
    "test_df = Dataset.construct(\n",
    "    test,\n",
    "    user_features_df=age_feature_test,\n",
    "    item_features_df=genres_feature_test,\n",
    "    cat_item_features=['genres'],\n",
    "    cat_user_features=['age']\n",
    "\n",
    ")"
   ],
   "metadata": {
    "collapsed": false,
    "pycharm": {
     "name": "#%% raw\n"
    }
   }
  },
  {
   "cell_type": "markdown",
   "source": [
    "## Train Model"
   ],
   "metadata": {
    "collapsed": false,
    "pycharm": {
     "name": "#%% md\n"
    }
   }
  },
  {
   "cell_type": "code",
   "execution_count": null,
   "outputs": [],
   "source": [
    "model = UserKnn(model=BM25Recommender(K=10, K1=2), n_neighbors=10)"
   ],
   "metadata": {
    "collapsed": false,
    "pycharm": {
     "name": "#%%\n"
    }
   }
  },
  {
   "cell_type": "code",
   "execution_count": null,
   "outputs": [],
   "source": [
    "train_copy = train.copy()\n",
    "train_copy = train_copy\n",
    "model.fit(train_copy)"
   ],
   "metadata": {
    "collapsed": false,
    "pycharm": {
     "name": "#%%\n"
    }
   }
  },
  {
   "cell_type": "code",
   "execution_count": null,
   "outputs": [],
   "source": [
    "test = pd.DataFrame({'user_id': [964868]})\n",
    "model.predict(test=test)"
   ],
   "metadata": {
    "collapsed": false,
    "pycharm": {
     "name": "#%%\n"
    }
   }
  },
  {
   "cell_type": "code",
   "execution_count": null,
   "outputs": [],
   "source": [
    "save_model(model_path='../models/userknn.pickle', model=model.model)\n",
    "\n",
    "reco_model = load_model(model_path='../models/userknn.pickle')"
   ],
   "metadata": {
    "collapsed": false,
    "pycharm": {
     "name": "#%%\n"
    }
   }
  },
  {
   "cell_type": "code",
   "execution_count": null,
   "outputs": [],
   "source": [
    "model.predict(test=test)"
   ],
   "metadata": {
    "collapsed": false,
    "pycharm": {
     "name": "#%%\n"
    }
   }
  },
  {
   "cell_type": "code",
   "execution_count": null,
   "outputs": [],
   "source": [],
   "metadata": {
    "collapsed": false,
    "pycharm": {
     "name": "#%%\n"
    }
   }
  }
 ],
 "metadata": {
  "kernelspec": {
   "display_name": "Python 3",
   "language": "python",
   "name": "python3"
  },
  "language_info": {
   "codemirror_mode": {
    "name": "ipython",
    "version": 2
   },
   "file_extension": ".py",
   "mimetype": "text/x-python",
   "name": "python",
   "nbconvert_exporter": "python",
   "pygments_lexer": "ipython2",
   "version": "2.7.6"
  }
 },
 "nbformat": 4,
 "nbformat_minor": 0
}