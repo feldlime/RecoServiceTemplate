{
 "cells": [
  {
   "cell_type": "code",
   "execution_count": 14,
   "id": "8b94f641",
   "metadata": {},
   "outputs": [],
   "source": [
    "import dill\n",
    "import warnings\n",
    "\n",
    "import numpy as np\n",
    "import pandas as pd\n",
    "from rectools import Columns\n",
    "from rectools.dataset import Dataset, Interactions, DenseFeatures\n",
    "from rectools.metrics import (\n",
    "    MAP,\n",
    "    Serendipity,\n",
    "    MeanInvUserFreq,\n",
    "    calc_metrics,\n",
    ")\n",
    "from rectools.metrics.base import MetricAtK\n",
    "from rectools.metrics import (\n",
    "    Precision,\n",
    "    Recall,\n",
    "    NDCG,\n",
    "    PairwiseHammingDistanceCalculator,\n",
    "    MRR,\n",
    "    serendipity,\n",
    "    IntraListDiversity,\n",
    ")\n",
    "from rectools.model_selection import Splitter, TimeRangeSplitter\n",
    "from rectools.models import RandomModel, PopularModel, ModelBase\n",
    "from implicit.nearest_neighbours import (\n",
    "    BM25Recommender,\n",
    "    CosineRecommender,\n",
    "    TFIDFRecommender,\n",
    ")\n",
    "from tqdm import tqdm\n",
    "from copy import deepcopy\n",
    "from scipy.stats import mode\n",
    "from pprint import pprint\n",
    "\n",
    "warnings.filterwarnings('ignore')\n",
    "pd.set_option('display.max_columns', None)\n",
    "pd.set_option('display.max_colwidth', 200)\n",
    "pd.set_option('display.float_format', lambda x: f'{x:,.6f}')\n",
    "\n",
    "\n",
    "from userknn import UserKnn\n"
   ]
  },
  {
   "cell_type": "code",
   "execution_count": 15,
   "id": "7449fd99",
   "metadata": {},
   "outputs": [],
   "source": [
    "interactions_df = pd.read_csv('interactions.csv')\n",
    "users = pd.read_csv('users.csv')\n",
    "items = pd.read_csv('items.csv')"
   ]
  },
  {
   "cell_type": "code",
   "execution_count": 16,
   "id": "a2d49bb0",
   "metadata": {},
   "outputs": [],
   "source": [
    "metrics = {\n",
    "    'precision@1': Precision(k=1),\n",
    "    'precision@5': Precision(k=5),\n",
    "    'precision@10': Precision(k=10),\n",
    "    'recall@1': Recall(k=1),\n",
    "    'recall@5': Recall(k=5),\n",
    "    'recall@10': Recall(k=10),\n",
    "    'MAP@1': MAP(k=1, divide_by_k=False),\n",
    "    'MAP@5': MAP(k=5, divide_by_k=False),\n",
    "    'MAP@10': MAP(k=10, divide_by_k=False),\n",
    "    'NDCG@1': NDCG(k=1, log_base=2),\n",
    "    'NDCG@5': NDCG(k=5, log_base=2),\n",
    "    'NDCG@10': NDCG(k=10, log_base=2),\n",
    "    'novelty@1': MeanInvUserFreq(k=1),\n",
    "    'novelty@5': MeanInvUserFreq(k=5),\n",
    "    'novelty@10': MeanInvUserFreq(k=10),\n",
    "    \"mrr@1\": MRR(k=1),\n",
    "    \"mrr@5\": MRR(k=5),\n",
    "    \"mrr@10\": MRR(k=10)\n",
    "}\n"
   ]
  },
  {
   "cell_type": "code",
   "execution_count": 40,
   "id": "bb9fb057",
   "metadata": {},
   "outputs": [],
   "source": [
    "def cross_validate(models, metrics, interactions, splitter, k_recos):\n",
    "    columns = ['k_fold', 'model'] + [metric_name for metric_name in metrics]\n",
    "    results_df = pd.DataFrame(columns=columns)\n",
    "\n",
    "    fold_iterator = splitter.split(interactions, collect_fold_stats=True)\n",
    "\n",
    "    for id_train, id_test, k_fold in fold_iterator:\n",
    "        print(f\"Split Index: {k_fold['i_split']}\")\n",
    "        print(f\"Start Date: {k_fold['start']}\")\n",
    "        print(f\"End Date: {k_fold['end']}\")\n",
    "        print(f\"Train Set Size: {k_fold['train']}\")\n",
    "        print(f\"Train Users: {k_fold['train_users']}\")\n",
    "        print(f\"Train Items: {k_fold['train_items']}\")\n",
    "        print(f\"Test Set Size: {k_fold['test']}\")\n",
    "        print(f\"Test Users: {k_fold['test_users']}\")\n",
    "        print(f\"Test Items: {k_fold['test_items']}\")\n",
    "        print(\"-\" * 40) \n",
    "\n",
    "        train = interactions.df.iloc[id_train]\n",
    "        dataset = Dataset.construct(train)\n",
    "        val = interactions.df.iloc[id_test][Columns.UserItem]\n",
    "        val_id = np.unique(val[Columns.User])\n",
    "\n",
    "        catalog = train[Columns.Item].unique()\n",
    "        \n",
    "        for model_name, model in models.items():\n",
    "            model.fit(train)\n",
    "            recos = model.predict(val)\n",
    "            metric_values = calc_metrics(\n",
    "                metrics,\n",
    "                reco=recos,\n",
    "                interactions=val,\n",
    "                prev_interactions=train,\n",
    "                catalog=catalog,\n",
    "            )\n",
    "            temp_df = pd.DataFrame([{\"k_fold\": k_fold[\"i_split\"], \"model\": model_name, **metric_values}])\n",
    "            results_df = pd.concat([results_df, temp_df], ignore_index=True)\n",
    "\n",
    "    return results_df"
   ]
  },
  {
   "cell_type": "markdown",
   "id": "d7c02b04",
   "metadata": {},
   "source": [
    "# 1. Обучим модель для \"холодных\" пользователей, просто сделаем популярное"
   ]
  },
  {
   "cell_type": "code",
   "execution_count": 84,
   "id": "8f25ed21",
   "metadata": {},
   "outputs": [
    {
     "data": {
      "text/plain": [
       "<rectools.models.popular.PopularModel at 0x2f98ff8e0>"
      ]
     },
     "execution_count": 84,
     "metadata": {},
     "output_type": "execute_result"
    }
   ],
   "source": [
    "dataset = Dataset.construct(\n",
    "    interactions_df=interactions_df,\n",
    "    user_features_df=None,\n",
    "    item_features_df=None\n",
    ")\n",
    "model = PopularModel()\n",
    "model.fit(dataset)"
   ]
  },
  {
   "cell_type": "code",
   "execution_count": 113,
   "id": "70a1e8e9",
   "metadata": {},
   "outputs": [],
   "source": [
    "hold_data = model.recommend(\n",
    "    dataset.user_id_map.external_ids,\n",
    "    dataset=dataset,\n",
    "    k=10,\n",
    "    filter_viewed=False\n",
    ")"
   ]
  },
  {
   "cell_type": "code",
   "execution_count": 123,
   "id": "fbe13127",
   "metadata": {},
   "outputs": [],
   "source": [
    "hold_reco = hold_data.item_id.unique()"
   ]
  },
  {
   "cell_type": "code",
   "execution_count": 125,
   "id": "273beca8",
   "metadata": {},
   "outputs": [
    {
     "data": {
      "text/plain": [
       "array([10440, 15297,  9728, 13865,  4151,  3734,  2657,  4880,   142,\n",
       "        6809])"
      ]
     },
     "execution_count": 125,
     "metadata": {},
     "output_type": "execute_result"
    }
   ],
   "source": [
    "hold_reco"
   ]
  },
  {
   "cell_type": "code",
   "execution_count": 128,
   "id": "67315a1f",
   "metadata": {},
   "outputs": [
    {
     "data": {
      "text/html": [
       "<div>\n",
       "<style scoped>\n",
       "    .dataframe tbody tr th:only-of-type {\n",
       "        vertical-align: middle;\n",
       "    }\n",
       "\n",
       "    .dataframe tbody tr th {\n",
       "        vertical-align: top;\n",
       "    }\n",
       "\n",
       "    .dataframe thead th {\n",
       "        text-align: right;\n",
       "    }\n",
       "</style>\n",
       "<table border=\"1\" class=\"dataframe\">\n",
       "  <thead>\n",
       "    <tr style=\"text-align: right;\">\n",
       "      <th></th>\n",
       "      <th>user_id</th>\n",
       "      <th>age</th>\n",
       "      <th>income</th>\n",
       "      <th>sex</th>\n",
       "      <th>kids_flg</th>\n",
       "    </tr>\n",
       "  </thead>\n",
       "  <tbody>\n",
       "    <tr>\n",
       "      <th>2</th>\n",
       "      <td>1047345</td>\n",
       "      <td>age_45_54</td>\n",
       "      <td>income_40_60</td>\n",
       "      <td>Ж</td>\n",
       "      <td>0</td>\n",
       "    </tr>\n",
       "    <tr>\n",
       "      <th>6</th>\n",
       "      <td>391756</td>\n",
       "      <td>age_25_34</td>\n",
       "      <td>income_0_20</td>\n",
       "      <td>М</td>\n",
       "      <td>0</td>\n",
       "    </tr>\n",
       "    <tr>\n",
       "      <th>7</th>\n",
       "      <td>15878</td>\n",
       "      <td>age_25_34</td>\n",
       "      <td>income_40_60</td>\n",
       "      <td>М</td>\n",
       "      <td>1</td>\n",
       "    </tr>\n",
       "    <tr>\n",
       "      <th>10</th>\n",
       "      <td>99952</td>\n",
       "      <td>NaN</td>\n",
       "      <td>NaN</td>\n",
       "      <td>М</td>\n",
       "      <td>0</td>\n",
       "    </tr>\n",
       "    <tr>\n",
       "      <th>19</th>\n",
       "      <td>1067802</td>\n",
       "      <td>age_35_44</td>\n",
       "      <td>income_40_60</td>\n",
       "      <td>М</td>\n",
       "      <td>0</td>\n",
       "    </tr>\n",
       "    <tr>\n",
       "      <th>...</th>\n",
       "      <td>...</td>\n",
       "      <td>...</td>\n",
       "      <td>...</td>\n",
       "      <td>...</td>\n",
       "      <td>...</td>\n",
       "    </tr>\n",
       "    <tr>\n",
       "      <th>840180</th>\n",
       "      <td>157810</td>\n",
       "      <td>age_25_34</td>\n",
       "      <td>income_20_40</td>\n",
       "      <td>Ж</td>\n",
       "      <td>0</td>\n",
       "    </tr>\n",
       "    <tr>\n",
       "      <th>840185</th>\n",
       "      <td>1021814</td>\n",
       "      <td>age_45_54</td>\n",
       "      <td>income_20_40</td>\n",
       "      <td>Ж</td>\n",
       "      <td>0</td>\n",
       "    </tr>\n",
       "    <tr>\n",
       "      <th>840191</th>\n",
       "      <td>365945</td>\n",
       "      <td>age_25_34</td>\n",
       "      <td>income_20_40</td>\n",
       "      <td>Ж</td>\n",
       "      <td>0</td>\n",
       "    </tr>\n",
       "    <tr>\n",
       "      <th>840193</th>\n",
       "      <td>983617</td>\n",
       "      <td>age_18_24</td>\n",
       "      <td>income_20_40</td>\n",
       "      <td>Ж</td>\n",
       "      <td>1</td>\n",
       "    </tr>\n",
       "    <tr>\n",
       "      <th>840196</th>\n",
       "      <td>166555</td>\n",
       "      <td>age_65_inf</td>\n",
       "      <td>income_20_40</td>\n",
       "      <td>Ж</td>\n",
       "      <td>0</td>\n",
       "    </tr>\n",
       "  </tbody>\n",
       "</table>\n",
       "<p>95909 rows × 5 columns</p>\n",
       "</div>"
      ],
      "text/plain": [
       "        user_id         age        income sex  kids_flg\n",
       "2       1047345   age_45_54  income_40_60   Ж         0\n",
       "6        391756   age_25_34   income_0_20   М         0\n",
       "7         15878   age_25_34  income_40_60   М         1\n",
       "10        99952         NaN           NaN   М         0\n",
       "19      1067802   age_35_44  income_40_60   М         0\n",
       "...         ...         ...           ...  ..       ...\n",
       "840180   157810   age_25_34  income_20_40   Ж         0\n",
       "840185  1021814   age_45_54  income_20_40   Ж         0\n",
       "840191   365945   age_25_34  income_20_40   Ж         0\n",
       "840193   983617   age_18_24  income_20_40   Ж         1\n",
       "840196   166555  age_65_inf  income_20_40   Ж         0\n",
       "\n",
       "[95909 rows x 5 columns]"
      ]
     },
     "execution_count": 128,
     "metadata": {},
     "output_type": "execute_result"
    }
   ],
   "source": [
    "users[~users.user_id.isin(interactions_df.user_id)]"
   ]
  },
  {
   "cell_type": "markdown",
   "id": "c01620b6",
   "metadata": {},
   "source": [
    "### Вообще, пользователей без просмотров довольно много, поэтому на лидерборде популярное уже дает неплохой результат"
   ]
  },
  {
   "cell_type": "markdown",
   "id": "25539c28",
   "metadata": {},
   "source": [
    "# 3. Попробуем сделать cv на 3 фолдах на двух разныз моделях и выберем разное K, по дефолту K = 50"
   ]
  },
  {
   "cell_type": "code",
   "execution_count": 47,
   "id": "5778dfdc",
   "metadata": {},
   "outputs": [],
   "source": [
    "models = {\n",
    "    'cosine_userknn_10': UserKnn(CosineRecommender(K=10)), \n",
    "    'cosine_userknn_50': UserKnn(CosineRecommender()),\n",
    "    'tfidf_userknn_10': UserKnn(TFIDFRecommender(K=10)),\n",
    "    'tfidf_userknn_50': UserKnn(TFIDFRecommender())\n",
    "}"
   ]
  },
  {
   "cell_type": "code",
   "execution_count": 65,
   "id": "38d128a5",
   "metadata": {},
   "outputs": [],
   "source": [
    "splitter = TimeRangeSplitter(\"7D\", 3)"
   ]
  },
  {
   "cell_type": "code",
   "execution_count": 31,
   "id": "fdfa1d16",
   "metadata": {},
   "outputs": [],
   "source": [
    "interactions_df.rename(\n",
    "    columns={\"last_watch_dt\": Columns.Datetime, \"total_dur\": rectools.Columns.Weight}, inplace=True\n",
    ")\n",
    "interactions = Interactions(interactions_df)"
   ]
  },
  {
   "cell_type": "code",
   "execution_count": 68,
   "id": "b8b23879",
   "metadata": {},
   "outputs": [
    {
     "name": "stdout",
     "output_type": "stream",
     "text": [
      "Split Index: 0\n",
      "Start Date: 2021-08-02 00:00:00\n",
      "End Date: 2021-08-09 00:00:00\n",
      "Train Set Size: 4266013\n",
      "Train Users: 797423\n",
      "Train Items: 15237\n",
      "Test Set Size: 263681\n",
      "Test Users: 98184\n",
      "Test Items: 6602\n",
      "----------------------------------------\n"
     ]
    },
    {
     "data": {
      "application/vnd.jupyter.widget-view+json": {
       "model_id": "2948b4890c1e4611a22e9e8881979ba9",
       "version_major": 2,
       "version_minor": 0
      },
      "text/plain": [
       "  0%|          | 0/797423 [00:00<?, ?it/s]"
      ]
     },
     "metadata": {},
     "output_type": "display_data"
    },
    {
     "data": {
      "application/vnd.jupyter.widget-view+json": {
       "model_id": "1722087b514d46119c8c3f24651d3ab5",
       "version_major": 2,
       "version_minor": 0
      },
      "text/plain": [
       "  0%|          | 0/797423 [00:00<?, ?it/s]"
      ]
     },
     "metadata": {},
     "output_type": "display_data"
    },
    {
     "data": {
      "application/vnd.jupyter.widget-view+json": {
       "model_id": "1b14d9a658994174bfcc9324ad2fe09d",
       "version_major": 2,
       "version_minor": 0
      },
      "text/plain": [
       "  0%|          | 0/797423 [00:00<?, ?it/s]"
      ]
     },
     "metadata": {},
     "output_type": "display_data"
    },
    {
     "data": {
      "application/vnd.jupyter.widget-view+json": {
       "model_id": "cfb447b8b6ad47bcba6433fd50a251b5",
       "version_major": 2,
       "version_minor": 0
      },
      "text/plain": [
       "  0%|          | 0/797423 [00:00<?, ?it/s]"
      ]
     },
     "metadata": {},
     "output_type": "display_data"
    },
    {
     "name": "stdout",
     "output_type": "stream",
     "text": [
      "Split Index: 1\n",
      "Start Date: 2021-08-09 00:00:00\n",
      "End Date: 2021-08-16 00:00:00\n",
      "Train Set Size: 4649162\n",
      "Train Users: 850489\n",
      "Train Items: 15415\n",
      "Test Set Size: 279422\n",
      "Test Users: 103511\n",
      "Test Items: 6698\n",
      "----------------------------------------\n"
     ]
    },
    {
     "data": {
      "application/vnd.jupyter.widget-view+json": {
       "model_id": "20c0757783be46c0a3e5a36944848622",
       "version_major": 2,
       "version_minor": 0
      },
      "text/plain": [
       "  0%|          | 0/850489 [00:00<?, ?it/s]"
      ]
     },
     "metadata": {},
     "output_type": "display_data"
    },
    {
     "data": {
      "application/vnd.jupyter.widget-view+json": {
       "model_id": "31354976fefe4b4da16929d01e02e982",
       "version_major": 2,
       "version_minor": 0
      },
      "text/plain": [
       "  0%|          | 0/850489 [00:00<?, ?it/s]"
      ]
     },
     "metadata": {},
     "output_type": "display_data"
    },
    {
     "data": {
      "application/vnd.jupyter.widget-view+json": {
       "model_id": "87a343f37b3b402da8e8d9e9e4a6967c",
       "version_major": 2,
       "version_minor": 0
      },
      "text/plain": [
       "  0%|          | 0/850489 [00:00<?, ?it/s]"
      ]
     },
     "metadata": {},
     "output_type": "display_data"
    },
    {
     "data": {
      "application/vnd.jupyter.widget-view+json": {
       "model_id": "5a5cbbb3db9f4ec8a19b7f17e9cfacb5",
       "version_major": 2,
       "version_minor": 0
      },
      "text/plain": [
       "  0%|          | 0/850489 [00:00<?, ?it/s]"
      ]
     },
     "metadata": {},
     "output_type": "display_data"
    },
    {
     "name": "stdout",
     "output_type": "stream",
     "text": [
      "Split Index: 2\n",
      "Start Date: 2021-08-16 00:00:00\n",
      "End Date: 2021-08-23 00:00:00\n",
      "Train Set Size: 5051815\n",
      "Train Users: 906071\n",
      "Train Items: 15577\n",
      "Test Set Size: 298878\n",
      "Test Users: 110076\n",
      "Test Items: 6679\n",
      "----------------------------------------\n"
     ]
    },
    {
     "data": {
      "application/vnd.jupyter.widget-view+json": {
       "model_id": "7f78e9086fff49569474c864573cff5b",
       "version_major": 2,
       "version_minor": 0
      },
      "text/plain": [
       "  0%|          | 0/906071 [00:00<?, ?it/s]"
      ]
     },
     "metadata": {},
     "output_type": "display_data"
    },
    {
     "data": {
      "application/vnd.jupyter.widget-view+json": {
       "model_id": "d1941b7245d1426dbd6f5d02f5c8592c",
       "version_major": 2,
       "version_minor": 0
      },
      "text/plain": [
       "  0%|          | 0/906071 [00:00<?, ?it/s]"
      ]
     },
     "metadata": {},
     "output_type": "display_data"
    },
    {
     "data": {
      "application/vnd.jupyter.widget-view+json": {
       "model_id": "19cd15bc270346cfad18a21e160a7930",
       "version_major": 2,
       "version_minor": 0
      },
      "text/plain": [
       "  0%|          | 0/906071 [00:00<?, ?it/s]"
      ]
     },
     "metadata": {},
     "output_type": "display_data"
    },
    {
     "data": {
      "application/vnd.jupyter.widget-view+json": {
       "model_id": "2d16f98337e94481b803d30050c73008",
       "version_major": 2,
       "version_minor": 0
      },
      "text/plain": [
       "  0%|          | 0/906071 [00:00<?, ?it/s]"
      ]
     },
     "metadata": {},
     "output_type": "display_data"
    }
   ],
   "source": [
    "result = cross_validate(models, metrics, interactions, splitter, 10)"
   ]
  },
  {
   "cell_type": "code",
   "execution_count": 76,
   "id": "0a745fb0",
   "metadata": {},
   "outputs": [
    {
     "data": {
      "text/html": [
       "<div>\n",
       "<style scoped>\n",
       "    .dataframe tbody tr th:only-of-type {\n",
       "        vertical-align: middle;\n",
       "    }\n",
       "\n",
       "    .dataframe tbody tr th {\n",
       "        vertical-align: top;\n",
       "    }\n",
       "\n",
       "    .dataframe thead th {\n",
       "        text-align: right;\n",
       "    }\n",
       "</style>\n",
       "<table border=\"1\" class=\"dataframe\">\n",
       "  <thead>\n",
       "    <tr style=\"text-align: right;\">\n",
       "      <th></th>\n",
       "      <th>precision@1</th>\n",
       "      <th>precision@5</th>\n",
       "      <th>precision@10</th>\n",
       "      <th>recall@1</th>\n",
       "      <th>recall@5</th>\n",
       "      <th>recall@10</th>\n",
       "      <th>MAP@1</th>\n",
       "      <th>MAP@5</th>\n",
       "      <th>MAP@10</th>\n",
       "      <th>NDCG@1</th>\n",
       "      <th>NDCG@5</th>\n",
       "      <th>NDCG@10</th>\n",
       "      <th>novelty@1</th>\n",
       "      <th>novelty@5</th>\n",
       "      <th>novelty@10</th>\n",
       "      <th>mrr@1</th>\n",
       "      <th>mrr@5</th>\n",
       "      <th>mrr@10</th>\n",
       "    </tr>\n",
       "    <tr>\n",
       "      <th>model</th>\n",
       "      <th></th>\n",
       "      <th></th>\n",
       "      <th></th>\n",
       "      <th></th>\n",
       "      <th></th>\n",
       "      <th></th>\n",
       "      <th></th>\n",
       "      <th></th>\n",
       "      <th></th>\n",
       "      <th></th>\n",
       "      <th></th>\n",
       "      <th></th>\n",
       "      <th></th>\n",
       "      <th></th>\n",
       "      <th></th>\n",
       "      <th></th>\n",
       "      <th></th>\n",
       "      <th></th>\n",
       "    </tr>\n",
       "  </thead>\n",
       "  <tbody>\n",
       "    <tr>\n",
       "      <th>cosine_userknn_10</th>\n",
       "      <td>0.000865</td>\n",
       "      <td>0.002873</td>\n",
       "      <td>0.004142</td>\n",
       "      <td>0.000335</td>\n",
       "      <td>0.007127</td>\n",
       "      <td>0.020041</td>\n",
       "      <td>0.000335</td>\n",
       "      <td>0.002222</td>\n",
       "      <td>0.003958</td>\n",
       "      <td>0.000865</td>\n",
       "      <td>0.002369</td>\n",
       "      <td>0.003442</td>\n",
       "      <td>9.120714</td>\n",
       "      <td>7.637649</td>\n",
       "      <td>6.992581</td>\n",
       "      <td>0.000865</td>\n",
       "      <td>0.004573</td>\n",
       "      <td>0.007867</td>\n",
       "    </tr>\n",
       "    <tr>\n",
       "      <th>cosine_userknn_50</th>\n",
       "      <td>0.000760</td>\n",
       "      <td>0.002603</td>\n",
       "      <td>0.004279</td>\n",
       "      <td>0.000291</td>\n",
       "      <td>0.006465</td>\n",
       "      <td>0.020965</td>\n",
       "      <td>0.000291</td>\n",
       "      <td>0.001994</td>\n",
       "      <td>0.003905</td>\n",
       "      <td>0.000760</td>\n",
       "      <td>0.002137</td>\n",
       "      <td>0.003467</td>\n",
       "      <td>9.655836</td>\n",
       "      <td>8.247415</td>\n",
       "      <td>7.540823</td>\n",
       "      <td>0.000760</td>\n",
       "      <td>0.004112</td>\n",
       "      <td>0.007659</td>\n",
       "    </tr>\n",
       "    <tr>\n",
       "      <th>tfidf_userknn_10</th>\n",
       "      <td>0.000293</td>\n",
       "      <td>0.004434</td>\n",
       "      <td>0.005890</td>\n",
       "      <td>0.000090</td>\n",
       "      <td>0.011585</td>\n",
       "      <td>0.029503</td>\n",
       "      <td>0.000090</td>\n",
       "      <td>0.003209</td>\n",
       "      <td>0.005659</td>\n",
       "      <td>0.000293</td>\n",
       "      <td>0.003400</td>\n",
       "      <td>0.004799</td>\n",
       "      <td>9.935810</td>\n",
       "      <td>8.201203</td>\n",
       "      <td>7.433605</td>\n",
       "      <td>0.000293</td>\n",
       "      <td>0.006054</td>\n",
       "      <td>0.010469</td>\n",
       "    </tr>\n",
       "    <tr>\n",
       "      <th>tfidf_userknn_50</th>\n",
       "      <td>0.000281</td>\n",
       "      <td>0.004770</td>\n",
       "      <td>0.006529</td>\n",
       "      <td>0.000087</td>\n",
       "      <td>0.012715</td>\n",
       "      <td>0.033253</td>\n",
       "      <td>0.000087</td>\n",
       "      <td>0.003548</td>\n",
       "      <td>0.006334</td>\n",
       "      <td>0.000281</td>\n",
       "      <td>0.003668</td>\n",
       "      <td>0.005292</td>\n",
       "      <td>10.007046</td>\n",
       "      <td>8.415495</td>\n",
       "      <td>7.638598</td>\n",
       "      <td>0.000281</td>\n",
       "      <td>0.006550</td>\n",
       "      <td>0.011438</td>\n",
       "    </tr>\n",
       "  </tbody>\n",
       "</table>\n",
       "</div>"
      ],
      "text/plain": [
       "                   precision@1  precision@5  precision@10  recall@1  recall@5  \\\n",
       "model                                                                           \n",
       "cosine_userknn_10     0.000865     0.002873      0.004142  0.000335  0.007127   \n",
       "cosine_userknn_50     0.000760     0.002603      0.004279  0.000291  0.006465   \n",
       "tfidf_userknn_10      0.000293     0.004434      0.005890  0.000090  0.011585   \n",
       "tfidf_userknn_50      0.000281     0.004770      0.006529  0.000087  0.012715   \n",
       "\n",
       "                   recall@10    MAP@1    MAP@5   MAP@10   NDCG@1   NDCG@5  \\\n",
       "model                                                                       \n",
       "cosine_userknn_10   0.020041 0.000335 0.002222 0.003958 0.000865 0.002369   \n",
       "cosine_userknn_50   0.020965 0.000291 0.001994 0.003905 0.000760 0.002137   \n",
       "tfidf_userknn_10    0.029503 0.000090 0.003209 0.005659 0.000293 0.003400   \n",
       "tfidf_userknn_50    0.033253 0.000087 0.003548 0.006334 0.000281 0.003668   \n",
       "\n",
       "                   NDCG@10  novelty@1  novelty@5  novelty@10    mrr@1  \\\n",
       "model                                                                   \n",
       "cosine_userknn_10 0.003442   9.120714   7.637649    6.992581 0.000865   \n",
       "cosine_userknn_50 0.003467   9.655836   8.247415    7.540823 0.000760   \n",
       "tfidf_userknn_10  0.004799   9.935810   8.201203    7.433605 0.000293   \n",
       "tfidf_userknn_50  0.005292  10.007046   8.415495    7.638598 0.000281   \n",
       "\n",
       "                     mrr@5   mrr@10  \n",
       "model                                \n",
       "cosine_userknn_10 0.004573 0.007867  \n",
       "cosine_userknn_50 0.004112 0.007659  \n",
       "tfidf_userknn_10  0.006054 0.010469  \n",
       "tfidf_userknn_50  0.006550 0.011438  "
      ]
     },
     "execution_count": 76,
     "metadata": {},
     "output_type": "execute_result"
    }
   ],
   "source": [
    "result.groupby('model').mean()"
   ]
  },
  {
   "cell_type": "markdown",
   "id": "c7f5b662",
   "metadata": {},
   "source": [
    "### Лучше всего использовать tfidf_userknn_50, эту модель и отправим в сервис (выбрал по MAP@10)"
   ]
  },
  {
   "cell_type": "code",
   "execution_count": null,
   "id": "c0c4a8f0",
   "metadata": {},
   "outputs": [],
   "source": [
    "userknn_model = UserKnn(model=TFIDFRecommender(), N_users=50)\n",
    "userknn_model.fit(interactions.df)"
   ]
  },
  {
   "cell_type": "code",
   "execution_count": 53,
   "id": "98e716f4",
   "metadata": {},
   "outputs": [],
   "source": [
    "import pickle\n",
    "pickle.dump(userknn_model, open('baseknn.pkl', \"wb\"))"
   ]
  },
  {
   "cell_type": "code",
   "execution_count": 138,
   "id": "689a0850",
   "metadata": {},
   "outputs": [],
   "source": [
    "def recommend(model, user_id:int, N_recs:int=10):\n",
    "    \"\"\"\n",
    "    Outputs recommendations for a certain user\n",
    "    \"\"\"\n",
    "    df = pd.DataFrame({\"user_id\": [user_id], \"item_id\": [user_id]})\n",
    "    return model.predict(df, N_recs=N_recs).item_id.to_list()"
   ]
  },
  {
   "cell_type": "code",
   "execution_count": 131,
   "id": "47e9c7a5",
   "metadata": {},
   "outputs": [
    {
     "data": {
      "text/plain": [
       "[10515]"
      ]
     },
     "execution_count": 131,
     "metadata": {},
     "output_type": "execute_result"
    }
   ],
   "source": [
    "pickled_model = pickle.load(open('baseknn.pkl', \"rb\"))\n",
    "recommend(pickled_model, 31)"
   ]
  },
  {
   "cell_type": "markdown",
   "id": "ede89d07",
   "metadata": {},
   "source": [
    "# 2. Попробуем сделать всегда минимум 5 рекомендаций ( можно и побольше просто тогда популярных побольше собрать )"
   ]
  },
  {
   "cell_type": "code",
   "execution_count": 148,
   "id": "c5212628",
   "metadata": {},
   "outputs": [
    {
     "name": "stdout",
     "output_type": "stream",
     "text": [
      "[10515, 10440, 15297, 9728, 13865]\n"
     ]
    }
   ],
   "source": [
    "import pickle\n",
    "\n",
    "def rec_fix(user_id, n, hold_reco):\n",
    "    pickled_model = pickle.load(open('baseknn.pkl', \"rb\"))\n",
    "\n",
    "    recommendations = recommend(pickled_model, user_id)\n",
    "    \n",
    "    # Удаляем элементы из hold_reco, которые уже присутствуют в recommendations\n",
    "    hold_reco = [item for item in hold_reco if item not in recommendations]\n",
    "    \n",
    "    # Если рекомендаций все еще недостаточно, добавьте дополнительные из hold_reco\n",
    "    additional_recommendations = hold_reco[:n - len(recommendations)]\n",
    "    recommendations += additional_recommendations\n",
    "\n",
    "    return recommendations\n",
    "\n",
    "user_id = 31  \n",
    "result = rec_fix(user_id, n=5, hold_reco = hold_reco)\n",
    "print(result)\n"
   ]
  },
  {
   "cell_type": "markdown",
   "id": "01471e17",
   "metadata": {},
   "source": [
    "### Получается порекомендовали одно и добавили 4 популярных в этой ситуации"
   ]
  },
  {
   "cell_type": "markdown",
   "id": "a03060c3",
   "metadata": {},
   "source": [
    "# 4. Возьмем какой-то другой способ например BM25, который сделан для учета длины документов и частоты терминов в коллекции"
   ]
  },
  {
   "cell_type": "code",
   "execution_count": null,
   "id": "494b1b10",
   "metadata": {},
   "outputs": [],
   "source": [
    "result = cross_validate(models, metrics, interactions, splitter, 10)"
   ]
  },
  {
   "cell_type": "code",
   "execution_count": null,
   "id": "f2814cf3",
   "metadata": {},
   "outputs": [],
   "source": [
    "splitter = TimeRangeSplitter(\"7D\", 1)"
   ]
  },
  {
   "cell_type": "code",
   "execution_count": 151,
   "id": "38cb9da9",
   "metadata": {},
   "outputs": [],
   "source": [
    "models = {\n",
    "    'bm25' : UserKnn(model=BM25Recommender())\n",
    "}"
   ]
  },
  {
   "cell_type": "code",
   "execution_count": 152,
   "id": "bbb4089d",
   "metadata": {},
   "outputs": [
    {
     "name": "stdout",
     "output_type": "stream",
     "text": [
      "Split Index: 0\n",
      "Start Date: 2021-08-02 00:00:00\n",
      "End Date: 2021-08-09 00:00:00\n",
      "Train Set Size: 4266013\n",
      "Train Users: 797423\n",
      "Train Items: 15237\n",
      "Test Set Size: 263681\n",
      "Test Users: 98184\n",
      "Test Items: 6602\n",
      "----------------------------------------\n"
     ]
    },
    {
     "data": {
      "application/vnd.jupyter.widget-view+json": {
       "model_id": "3c6a38516c8940779040517d52c3248d",
       "version_major": 2,
       "version_minor": 0
      },
      "text/plain": [
       "  0%|          | 0/797423 [00:00<?, ?it/s]"
      ]
     },
     "metadata": {},
     "output_type": "display_data"
    },
    {
     "name": "stdout",
     "output_type": "stream",
     "text": [
      "Split Index: 1\n",
      "Start Date: 2021-08-09 00:00:00\n",
      "End Date: 2021-08-16 00:00:00\n",
      "Train Set Size: 4649162\n",
      "Train Users: 850489\n",
      "Train Items: 15415\n",
      "Test Set Size: 279422\n",
      "Test Users: 103511\n",
      "Test Items: 6698\n",
      "----------------------------------------\n"
     ]
    },
    {
     "data": {
      "application/vnd.jupyter.widget-view+json": {
       "model_id": "76fedbdb759f4c8b97f8ba20a8ecbaa5",
       "version_major": 2,
       "version_minor": 0
      },
      "text/plain": [
       "  0%|          | 0/850489 [00:00<?, ?it/s]"
      ]
     },
     "metadata": {},
     "output_type": "display_data"
    },
    {
     "name": "stdout",
     "output_type": "stream",
     "text": [
      "Split Index: 2\n",
      "Start Date: 2021-08-16 00:00:00\n",
      "End Date: 2021-08-23 00:00:00\n",
      "Train Set Size: 5051815\n",
      "Train Users: 906071\n",
      "Train Items: 15577\n",
      "Test Set Size: 298878\n",
      "Test Users: 110076\n",
      "Test Items: 6679\n",
      "----------------------------------------\n"
     ]
    },
    {
     "data": {
      "application/vnd.jupyter.widget-view+json": {
       "model_id": "d2d1ef3ccbe64047ab4d72e9115ac5c2",
       "version_major": 2,
       "version_minor": 0
      },
      "text/plain": [
       "  0%|          | 0/906071 [00:00<?, ?it/s]"
      ]
     },
     "metadata": {},
     "output_type": "display_data"
    }
   ],
   "source": [
    "bm25 = cross_validate(models, metrics, interactions, splitter, 10)"
   ]
  },
  {
   "cell_type": "code",
   "execution_count": 154,
   "id": "43d9cab5",
   "metadata": {},
   "outputs": [
    {
     "data": {
      "text/html": [
       "<div>\n",
       "<style scoped>\n",
       "    .dataframe tbody tr th:only-of-type {\n",
       "        vertical-align: middle;\n",
       "    }\n",
       "\n",
       "    .dataframe tbody tr th {\n",
       "        vertical-align: top;\n",
       "    }\n",
       "\n",
       "    .dataframe thead th {\n",
       "        text-align: right;\n",
       "    }\n",
       "</style>\n",
       "<table border=\"1\" class=\"dataframe\">\n",
       "  <thead>\n",
       "    <tr style=\"text-align: right;\">\n",
       "      <th></th>\n",
       "      <th>precision@1</th>\n",
       "      <th>precision@5</th>\n",
       "      <th>precision@10</th>\n",
       "      <th>recall@1</th>\n",
       "      <th>recall@5</th>\n",
       "      <th>recall@10</th>\n",
       "      <th>MAP@1</th>\n",
       "      <th>MAP@5</th>\n",
       "      <th>MAP@10</th>\n",
       "      <th>NDCG@1</th>\n",
       "      <th>NDCG@5</th>\n",
       "      <th>NDCG@10</th>\n",
       "      <th>novelty@1</th>\n",
       "      <th>novelty@5</th>\n",
       "      <th>novelty@10</th>\n",
       "      <th>mrr@1</th>\n",
       "      <th>mrr@5</th>\n",
       "      <th>mrr@10</th>\n",
       "    </tr>\n",
       "    <tr>\n",
       "      <th>model</th>\n",
       "      <th></th>\n",
       "      <th></th>\n",
       "      <th></th>\n",
       "      <th></th>\n",
       "      <th></th>\n",
       "      <th></th>\n",
       "      <th></th>\n",
       "      <th></th>\n",
       "      <th></th>\n",
       "      <th></th>\n",
       "      <th></th>\n",
       "      <th></th>\n",
       "      <th></th>\n",
       "      <th></th>\n",
       "      <th></th>\n",
       "      <th></th>\n",
       "      <th></th>\n",
       "      <th></th>\n",
       "    </tr>\n",
       "  </thead>\n",
       "  <tbody>\n",
       "    <tr>\n",
       "      <th>bm25</th>\n",
       "      <td>0.000577</td>\n",
       "      <td>0.001951</td>\n",
       "      <td>0.003050</td>\n",
       "      <td>0.000234</td>\n",
       "      <td>0.004460</td>\n",
       "      <td>0.013828</td>\n",
       "      <td>0.000234</td>\n",
       "      <td>0.001460</td>\n",
       "      <td>0.002699</td>\n",
       "      <td>0.000577</td>\n",
       "      <td>0.001626</td>\n",
       "      <td>0.002502</td>\n",
       "      <td>11.016226</td>\n",
       "      <td>9.899981</td>\n",
       "      <td>9.283169</td>\n",
       "      <td>0.000577</td>\n",
       "      <td>0.003151</td>\n",
       "      <td>0.005584</td>\n",
       "    </tr>\n",
       "  </tbody>\n",
       "</table>\n",
       "</div>"
      ],
      "text/plain": [
       "       precision@1  precision@5  precision@10  recall@1  recall@5  recall@10  \\\n",
       "model                                                                          \n",
       "bm25      0.000577     0.001951      0.003050  0.000234  0.004460   0.013828   \n",
       "\n",
       "         MAP@1    MAP@5   MAP@10   NDCG@1   NDCG@5  NDCG@10  novelty@1  \\\n",
       "model                                                                    \n",
       "bm25  0.000234 0.001460 0.002699 0.000577 0.001626 0.002502  11.016226   \n",
       "\n",
       "       novelty@5  novelty@10    mrr@1    mrr@5   mrr@10  \n",
       "model                                                    \n",
       "bm25    9.899981    9.283169 0.000577 0.003151 0.005584  "
      ]
     },
     "execution_count": 154,
     "metadata": {},
     "output_type": "execute_result"
    }
   ],
   "source": [
    "bm25.groupby('model').mean()"
   ]
  },
  {
   "cell_type": "code",
   "execution_count": 119,
   "id": "9c325030",
   "metadata": {},
   "outputs": [
    {
     "data": {
      "application/vnd.jupyter.widget-view+json": {
       "model_id": "b50aa2c09d834b578d6b669bc6725754",
       "version_major": 2,
       "version_minor": 0
      },
      "text/plain": [
       "  0%|          | 0/962179 [00:00<?, ?it/s]"
      ]
     },
     "metadata": {},
     "output_type": "display_data"
    }
   ],
   "source": [
    "userknn_model = , N_users=50)\n",
    "userknn_model.fit(interactions.df)"
   ]
  },
  {
   "cell_type": "markdown",
   "id": "fe0e9481",
   "metadata": {},
   "source": [
    "### Вообще, интересно что bm25 дает лучше метрики @1 а в остальных в целом проигрывает, хотя я думал, что никакого улучшения она и не покажет вовсе. В целом, тогда можно было бы использовать tfidf для рекомендаций после первого, а первую рекомендацию отправлять от bm25 и так повышать качество)"
   ]
  }
 ],
 "metadata": {
  "kernelspec": {
   "display_name": "Python 3 (ipykernel)",
   "language": "python",
   "name": "python3"
  },
  "language_info": {
   "codemirror_mode": {
    "name": "ipython",
    "version": 3
   },
   "file_extension": ".py",
   "mimetype": "text/x-python",
   "name": "python",
   "nbconvert_exporter": "python",
   "pygments_lexer": "ipython3",
   "version": "3.10.9"
  }
 },
 "nbformat": 4,
 "nbformat_minor": 5
}
