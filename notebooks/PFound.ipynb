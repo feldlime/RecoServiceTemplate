{
 "cells": [
  {
   "cell_type": "markdown",
   "id": "a09b3608",
   "metadata": {},
   "source": [
    "## pFound\n",
    "\n",
    "\n",
    "Нужно написать функцию, которая берет на вход dataframe,а выдает average pFound по всем query.\n",
    "\n",
    "Notes:\n",
    "\n",
    "- не использовать циклы для расчет метрики\n",
    "- попробуйте обойтись без groupby "
   ]
  },
  {
   "cell_type": "code",
   "execution_count": 5,
   "id": "4bbb7986",
   "metadata": {},
   "outputs": [],
   "source": [
    "import warnings\n",
    "import pandas as pd\n",
    "import numpy as np\n",
    "import requests\n",
    "\n",
    "from urllib.parse import urlencode\n",
    "warnings.filterwarnings('ignore')\n"
   ]
  },
  {
   "cell_type": "code",
   "execution_count": 6,
   "id": "3aa7c2d9",
   "metadata": {},
   "outputs": [],
   "source": [
    "base_url = 'https://cloud-api.yandex.net/v1/disk/public/resources/download?'\n",
    "public_key = 'https://yadi.sk/d/guqki4UI4hFlXQ'\n",
    "\n",
    "# Получаем ссылку\n",
    "final_url = base_url + urlencode(dict(public_key=public_key))\n",
    "response = requests.get(final_url)\n",
    "download_url = response.json()['href']\n",
    "\n",
    "# Сохраняем\n",
    "download_response = requests.get(download_url)\n",
    "with open('data.zip', 'wb') as f: \n",
    "    f.write(download_response.content)"
   ]
  },
  {
   "cell_type": "code",
   "execution_count": 8,
   "id": "eea4c86e",
   "metadata": {},
   "outputs": [
    {
     "name": "stdout",
     "output_type": "stream",
     "text": [
      "Archive:  data.zip\n",
      "  inflating: hidden_task.zip         \n",
      "replace open_task.zip? [y]es, [n]o, [A]ll, [N]one, [r]ename: ^C\n",
      "Archive:  open_task.zip\n",
      "replace open_task/qid_query.tsv? [y]es, [n]o, [A]ll, [N]one, [r]ename: ^C\n"
     ]
    }
   ],
   "source": [
    "!unzip data.zip\n",
    "\n",
    "!rm hidden_task.zip\n",
    "!unzip open_task.zip"
   ]
  },
  {
   "cell_type": "markdown",
   "id": "9086b592",
   "metadata": {},
   "source": [
    "# Ход действий:"
   ]
  },
  {
   "cell_type": "markdown",
   "id": "c264ac14",
   "metadata": {},
   "source": [
    "## Решение Yandex Cup"
   ]
  },
  {
   "cell_type": "code",
   "execution_count": 11,
   "id": "8a4a1cf2",
   "metadata": {},
   "outputs": [],
   "source": [
    "qid_query = pd.read_csv(\"open_task/qid_query.tsv\", sep=\"\\t\", names=[\"qid\", \"query\"])\n",
    "qid_url_rating = pd.read_csv(\"open_task/qid_url_rating.tsv\", sep=\"\\t\", names=[\"qid\", \"url\", \"rating\"])\n",
    "hostid_url = pd.read_csv(\"open_task/hostid_url.tsv\", sep=\"\\t\", names=[\"hostid\", \"url\"])\n",
    "\n",
    "# объединим таблицы\n",
    "qid_url_rating_hostid = pd.merge(qid_url_rating, hostid_url, on=\"url\")"
   ]
  },
  {
   "cell_type": "code",
   "execution_count": 12,
   "id": "1e5bbaa7",
   "metadata": {},
   "outputs": [],
   "source": [
    "def plook(ind, rels):\n",
    "    if ind == 0:\n",
    "        return 1\n",
    "    return plook(ind-1, rels)*(1-rels[ind-1])*(1-0.15)\n",
    "\n",
    "\n",
    "def pfound(group):\n",
    "    max_by_host = group.groupby(\"hostid\")[\"rating\"].max() # max host rating\n",
    "    top10 = max_by_host.sort_values(ascending=False)[:10] # top 10 url with gighest rating\n",
    "    pfound = 0\n",
    "    for ind, val in enumerate(top10):\n",
    "        pfound += val*plook(ind, top10.values)\n",
    "    return pfound"
   ]
  },
  {
   "cell_type": "code",
   "execution_count": 13,
   "id": "d38e2403",
   "metadata": {},
   "outputs": [
    {
     "data": {
      "text/html": [
       "<div>\n",
       "<style scoped>\n",
       "    .dataframe tbody tr th:only-of-type {\n",
       "        vertical-align: middle;\n",
       "    }\n",
       "\n",
       "    .dataframe tbody tr th {\n",
       "        vertical-align: top;\n",
       "    }\n",
       "\n",
       "    .dataframe thead th {\n",
       "        text-align: right;\n",
       "    }\n",
       "</style>\n",
       "<table border=\"1\" class=\"dataframe\">\n",
       "  <thead>\n",
       "    <tr style=\"text-align: right;\">\n",
       "      <th></th>\n",
       "      <th>qid</th>\n",
       "      <th>query</th>\n",
       "    </tr>\n",
       "  </thead>\n",
       "  <tbody>\n",
       "    <tr>\n",
       "      <th>12</th>\n",
       "      <td>295761</td>\n",
       "      <td>гугл переводчик</td>\n",
       "    </tr>\n",
       "  </tbody>\n",
       "</table>\n",
       "</div>"
      ],
      "text/plain": [
       "       qid            query\n",
       "12  295761  гугл переводчик"
      ]
     },
     "execution_count": 13,
     "metadata": {},
     "output_type": "execute_result"
    }
   ],
   "source": [
    "qid_pfound = qid_url_rating_hostid.groupby('qid').apply(pfound) # group by  qid and calc pfound\n",
    "qid_max = qid_pfound.idxmax() #  qid with max pfound\n",
    "\n",
    "qid_query[qid_query[\"qid\"] == qid_max]"
   ]
  },
  {
   "cell_type": "code",
   "execution_count": 14,
   "id": "84b3a244",
   "metadata": {},
   "outputs": [
    {
     "data": {
      "text/plain": [
       "0.4603173929969002"
      ]
     },
     "execution_count": 14,
     "metadata": {},
     "output_type": "execute_result"
    }
   ],
   "source": [
    "qid_pfound.mean()"
   ]
  },
  {
   "cell_type": "markdown",
   "id": "955ae1cb",
   "metadata": {},
   "source": [
    "## Свое решение"
   ]
  },
  {
   "cell_type": "code",
   "execution_count": 32,
   "id": "17726397",
   "metadata": {},
   "outputs": [],
   "source": [
    "def calculate_pfound(df, pBreak=0.15):\n",
    "    p_break = 0.15\n",
    "\n",
    "    # удаляем дубликаты взаимодействий\n",
    "    df = df.drop_duplicates(keep='first')\n",
    "\n",
    "    # оставляем только максимально релевантный документ для каждого хоста\n",
    "    df = df.groupby(['qid', 'hostid'])['rating'].max().reset_index()\n",
    "    \n",
    "    # берем топ-10 hostid с максимальными рейтингами\n",
    "    top_K = df.sort_values(['qid', 'rating'], ascending=False).groupby(['qid']).head(10)\n",
    "    top_K['count'] = top_K.groupby('qid').cumcount()\n",
    "\n",
    "    # для расчета pLook\n",
    "    top_K['1-Rel'] = (1 - top_K['rating']).shift(1) \n",
    "    top_K['1-pBreak'] = 1 - pBreak \n",
    "    \n",
    "    # for pLook[1] = 1\n",
    "    top_K.loc[top_K['count'] == 0, ['1-Rel', '1-pBreak']] = 1\n",
    "\n",
    "    # count поможет посчитать pLook\n",
    "    top_K['count'] = top_K['1-Rel'] * top_K['1-pBreak']\n",
    "    top_K['pLook'] = top_K.groupby('qid')['count'].cumprod()\n",
    "    \n",
    "    # pFound@K - матрично умножим\n",
    "    top_K['pFound'] = top_K['pLook'] * top_K['rating']\n",
    "    total_pfound = top_K.groupby('qid')['pFound'].sum()\n",
    "\n",
    "    return total_pfound\n"
   ]
  },
  {
   "cell_type": "code",
   "execution_count": 36,
   "id": "0fbb16ba",
   "metadata": {},
   "outputs": [
    {
     "name": "stdout",
     "output_type": "stream",
     "text": [
      "Yandex PFound:\n",
      "qid\n",
      "10387     0.497771\n",
      "20860     0.655448\n",
      "21070     0.497771\n",
      "35618     0.437794\n",
      "107538    0.354808\n",
      "150126    0.366109\n",
      "168170    0.481255\n",
      "176370    0.393661\n",
      "192007    0.191170\n",
      "213932    0.347005\n",
      "221830    0.497771\n",
      "242953    0.497771\n",
      "253476    0.497771\n",
      "295761    0.900836\n",
      "346214    0.263596\n",
      "347852    0.618534\n",
      "360100    0.470204\n",
      "366042    0.309314\n",
      "375608    0.497771\n",
      "380923    0.429989\n",
      "dtype: float64 \n",
      "\n",
      "Custom PFound:\n",
      "qid\n",
      "10387     0.497771\n",
      "20860     0.655448\n",
      "21070     0.497771\n",
      "35618     0.437794\n",
      "107538    0.354808\n",
      "150126    0.366109\n",
      "168170    0.481255\n",
      "176370    0.393661\n",
      "192007    0.191170\n",
      "213932    0.347005\n",
      "221830    0.497771\n",
      "242953    0.497771\n",
      "253476    0.497771\n",
      "295761    0.900836\n",
      "346214    0.263596\n",
      "347852    0.618534\n",
      "360100    0.470204\n",
      "366042    0.309314\n",
      "375608    0.497771\n",
      "380923    0.429989\n",
      "Name: pFound, dtype: float64\n"
     ]
    }
   ],
   "source": [
    "print(\"Yandex PFound:\")\n",
    "print(qid_pfound, '\\n')\n",
    "\n",
    "print(\"Custom PFound:\")\n",
    "print(calculate_pfound(qid_url_rating_hostid))"
   ]
  },
  {
   "cell_type": "markdown",
   "id": "f73608ee",
   "metadata": {},
   "source": [
    "## Средний pFound:"
   ]
  },
  {
   "cell_type": "code",
   "execution_count": 38,
   "id": "d23956b0",
   "metadata": {},
   "outputs": [
    {
     "name": "stdout",
     "output_type": "stream",
     "text": [
      "Yandex mean PFound:\n",
      "0.4603173929969002 \n",
      "\n",
      "Custom mean PFound:\n",
      "0.4603173929969002\n"
     ]
    }
   ],
   "source": [
    "print(\"Yandex mean PFound:\")\n",
    "print(qid_pfound.mean(), '\\n')\n",
    "print(\"Custom mean PFound:\")\n",
    "mean_pfound = calculate_pfound(qid_url_rating_hostid).mean()\n",
    "print(mean_pfound)\n"
   ]
  },
  {
   "cell_type": "markdown",
   "id": "c42b376e",
   "metadata": {},
   "source": [
    "Аутпут pFound c применением mean() соответствует qid_pfound.mean() Яндекса"
   ]
  }
 ],
 "metadata": {
  "kernelspec": {
   "display_name": "Python 3 (ipykernel)",
   "language": "python",
   "name": "python3"
  },
  "language_info": {
   "codemirror_mode": {
    "name": "ipython",
    "version": 3
   },
   "file_extension": ".py",
   "mimetype": "text/x-python",
   "name": "python",
   "nbconvert_exporter": "python",
   "pygments_lexer": "ipython3",
   "version": "3.9.13"
  },
  "toc": {
   "base_numbering": 1,
   "nav_menu": {},
   "number_sections": true,
   "sideBar": true,
   "skip_h1_title": false,
   "title_cell": "Table of Contents",
   "title_sidebar": "Contents",
   "toc_cell": false,
   "toc_position": {},
   "toc_section_display": true,
   "toc_window_display": true
  }
 },
 "nbformat": 4,
 "nbformat_minor": 5
}
