{
 "cells": [
  {
   "cell_type": "markdown",
   "metadata": {
    "collapsed": false,
    "pycharm": {
     "name": "#%% md\n"
    }
   },
   "source": [
    "# Validation"
   ]
  },
  {
   "cell_type": "markdown",
   "metadata": {
    "pycharm": {
     "name": "#%% md\n"
    }
   },
   "source": [
    "## Task\n"
   ]
  },
  {
   "cell_type": "markdown",
   "metadata": {
    "pycharm": {
     "name": "#%% md\n"
    }
   },
   "source": [
    "Исходные данные - Yandex Cup 2022 RecSys:\n",
    "\n",
    "* Описание соревнования - https://contest.yandex.ru/yacup/contest/41618/problems/\n",
    "* Данные - https://disk.yandex.ru/d/SI1aAooPn9i8TA\n",
    "* Описание данных - в архиве likes_data.zip три файла:\n",
    "    * train - обучающий набор данных. Каждая строка - последовательность id треков, которые лайкнул один пользователь. Гарантируется, что лайки даны в той последовательности, в которой их ставил пользователь.\n",
    "    * test - набор тестовых данных. Имеет точно такой же формат, но в каждой строке не хватает последнего лайка, который надо предсказать.\n",
    "    * track_artists.csv - информация о исполнителях треков. Гарантируется, что у каждого трека есть ровно один исполнитель. Для треков, у которых фактически несколько исполнителей, мы оставили того, который считается основным исполнителем трека.\n",
    "* Описание сабмита - в качестве решения необходимо отправить файл, в котором для каждого пользователя из test в отдельной строке будет не более 100 треков, разделенных пробелом. Гарантируется, что у каждого пользователя будет только 1 лайк в тесте\n",
    "* Метрика - MRR@100\n",
    "\n",
    "Промежуточная задача - преобразовать данные в pandas.DataFrame вида {user, item, order}, где order - порядковый номер с конца (0 - самый \"свежий\" лайк, чем больше order, тем позже был поставлен лайк)\n",
    "\n",
    "<b>Итоговая задача</b> - построить схему валидации для данного соревнования с учетом особенностей сорвенования\n",
    "\n",
    "* Между train и test не должно быть общих пользователей\n",
    "* Количество фолдов задается через параметр класса n_folds\n",
    "* В test должно быть не более p последних треков (параметр класса p)"
   ]
  },
  {
   "cell_type": "markdown",
   "metadata": {
    "collapsed": false,
    "pycharm": {
     "name": "#%% md\n"
    }
   },
   "source": [
    "## Imports"
   ]
  },
  {
   "cell_type": "code",
   "execution_count": 1,
   "metadata": {
    "collapsed": true,
    "pycharm": {
     "name": "#%%\n"
    }
   },
   "outputs": [],
   "source": [
    "import os\n",
    "\n",
    "import numpy as np\n",
    "import pandas as pd\n",
    "import requests\n",
    "from sklearn.model_selection import KFold"
   ]
  },
  {
   "cell_type": "markdown",
   "metadata": {
    "pycharm": {
     "name": "#%% md\n"
    }
   },
   "source": [
    "## Data"
   ]
  },
  {
   "cell_type": "code",
   "execution_count": 2,
   "metadata": {
    "pycharm": {
     "name": "#%%\n"
    }
   },
   "outputs": [],
   "source": [
    "DATASET_PATH=\"../data/ya_cup\""
   ]
  },
  {
   "cell_type": "code",
   "execution_count": 3,
   "metadata": {
    "pycharm": {
     "name": "#%%\n"
    }
   },
   "outputs": [
    {
     "name": "stderr",
     "output_type": "stream",
     "text": [
      "�訡�� � ᨭ⠪�� �������.\n"
     ]
    }
   ],
   "source": [
    "!mkdir -p $DATASET_PATH"
   ]
  },
  {
   "cell_type": "code",
   "execution_count": 4,
   "metadata": {
    "pycharm": {
     "name": "#%%\n"
    }
   },
   "outputs": [],
   "source": [
    "# Скачать датасет через Y.Disk API\n",
    "DATASET_PATH = os.getenv('DATASET_PATH', '../data/ya_cup')\n",
    "\n",
    "disk_api_url = 'https://cloud-api.yandex.net/v1/disk/public/resources/download'\n",
    "likes_url = 'https://disk.yandex.ru/d/SI1aAooPn9i8TA'\n",
    "download_link = requests.get(f'{disk_api_url}?public_key={likes_url}').json()['href']\n",
    "\n",
    "with open(f'{DATASET_PATH}/data.zip', 'wb') as f:\n",
    "    response = requests.get(download_link)\n",
    "    f.write(response.content)"
   ]
  },
  {
   "cell_type": "code",
   "execution_count": 24,
   "metadata": {
    "pycharm": {
     "name": "#%%\n"
    }
   },
   "outputs": [
    {
     "name": "stderr",
     "output_type": "stream",
     "text": [
      "���⥬� �� 㤠���� ���� 㪠����� ����.\n",
      "���⥬� �� 㤠���� ���� 㪠����� ����.\n"
     ]
    }
   ],
   "source": [
    "!unzip $DATASET_PATH/data.zip -d $DATASET_PATH > /dev/null\n",
    "!unzip $DATASET_PATH/likes/likes_data.zip -d $DATASET_PATH > /dev/null\n",
    "!rm -rf $DATASET_PATH/{likes,data.zip,__MACOSX}"
   ]
  },
  {
   "cell_type": "code",
   "execution_count": 6,
   "metadata": {
    "pycharm": {
     "name": "#%%\n"
    }
   },
   "outputs": [],
   "source": [
    "with open( f\"{DATASET_PATH}/train\", \"r\") as train:\n",
    "    lines = train.readlines()"
   ]
  },
  {
   "cell_type": "code",
   "execution_count": 7,
   "metadata": {
    "pycharm": {
     "name": "#%%\n"
    }
   },
   "outputs": [],
   "source": [
    "likes = []\n",
    "\n",
    "for i, line in enumerate(lines):\n",
    "    track_ids = list(map(int, line.split()))\n",
    "    user_likes = np.zeros((len(track_ids), 2), dtype=int)\n",
    "    user_likes[:, 0] = i\n",
    "    user_likes[:, 1] = track_ids[::-1]\n",
    "    likes.append(user_likes)\n"
   ]
  },
  {
   "cell_type": "code",
   "execution_count": 8,
   "metadata": {
    "pycharm": {
     "name": "#%%\n"
    }
   },
   "outputs": [],
   "source": [
    "df = pd.DataFrame(np.vstack(likes), columns=['user_id', 'track_id'])\n",
    "del likes\n",
    "del lines\n",
    "\n",
    "df.user_id = df.user_id.astype(np.uint32)\n",
    "df.track_id = df.track_id.astype(np.uint32)"
   ]
  },
  {
   "cell_type": "code",
   "execution_count": 10,
   "metadata": {
    "pycharm": {
     "name": "#%%\n"
    }
   },
   "outputs": [
    {
     "name": "stdout",
     "output_type": "stream",
     "text": [
      "<class 'pandas.core.frame.DataFrame'>\n",
      "RangeIndex: 94188634 entries, 0 to 94188633\n",
      "Data columns (total 3 columns):\n",
      " #   Column    Dtype \n",
      "---  ------    ----- \n",
      " 0   user_id   uint32\n",
      " 1   track_id  uint32\n",
      " 2   order     uint16\n",
      "dtypes: uint16(1), uint32(2)\n",
      "memory usage: 898.3 MB\n"
     ]
    },
    {
     "data": {
      "text/html": [
       "<div>\n",
       "<style scoped>\n",
       "    .dataframe tbody tr th:only-of-type {\n",
       "        vertical-align: middle;\n",
       "    }\n",
       "\n",
       "    .dataframe tbody tr th {\n",
       "        vertical-align: top;\n",
       "    }\n",
       "\n",
       "    .dataframe thead th {\n",
       "        text-align: right;\n",
       "    }\n",
       "</style>\n",
       "<table border=\"1\" class=\"dataframe\">\n",
       "  <thead>\n",
       "    <tr style=\"text-align: right;\">\n",
       "      <th></th>\n",
       "      <th>user_id</th>\n",
       "      <th>track_id</th>\n",
       "      <th>order</th>\n",
       "    </tr>\n",
       "  </thead>\n",
       "  <tbody>\n",
       "    <tr>\n",
       "      <th>0</th>\n",
       "      <td>0</td>\n",
       "      <td>388242</td>\n",
       "      <td>53</td>\n",
       "    </tr>\n",
       "    <tr>\n",
       "      <th>1</th>\n",
       "      <td>0</td>\n",
       "      <td>278503</td>\n",
       "      <td>52</td>\n",
       "    </tr>\n",
       "    <tr>\n",
       "      <th>2</th>\n",
       "      <td>0</td>\n",
       "      <td>102795</td>\n",
       "      <td>51</td>\n",
       "    </tr>\n",
       "    <tr>\n",
       "      <th>3</th>\n",
       "      <td>0</td>\n",
       "      <td>470957</td>\n",
       "      <td>50</td>\n",
       "    </tr>\n",
       "    <tr>\n",
       "      <th>4</th>\n",
       "      <td>0</td>\n",
       "      <td>159637</td>\n",
       "      <td>49</td>\n",
       "    </tr>\n",
       "  </tbody>\n",
       "</table>\n",
       "</div>"
      ],
      "text/plain": [
       "   user_id  track_id  order\n",
       "0        0    388242     53\n",
       "1        0    278503     52\n",
       "2        0    102795     51\n",
       "3        0    470957     50\n",
       "4        0    159637     49"
      ]
     },
     "execution_count": 10,
     "metadata": {},
     "output_type": "execute_result"
    }
   ],
   "source": [
    "df.info()\n",
    "df.head()"
   ]
  },
  {
   "cell_type": "markdown",
   "metadata": {
    "pycharm": {
     "name": "#%% md\n"
    }
   },
   "source": [
    "## Solution"
   ]
  },
  {
   "cell_type": "code",
   "execution_count": 22,
   "metadata": {
    "collapsed": false,
    "pycharm": {
     "name": "#%%\n"
    }
   },
   "outputs": [],
   "source": [
    "class UsersKFoldPOut():\n",
    "    def __init__(self, n_folds, p, random_seed=23):\n",
    "        self.n_folds = n_folds\n",
    "        self.p = p\n",
    "        self.random_seed = random_seed\n",
    "\n",
    "    def split(self, df):\n",
    "        users = df['user_id'].unique()\n",
    "        order = df.groupby('user_id').cumcount()\n",
    "        # df.order\n",
    "        user_kfold = KFold(n_splits=self.n_folds, shuffle=True, random_state=self.random_seed)\n",
    "        for train_users, test_users in user_kfold.split(users):\n",
    "            train_mask = df['user_id'].isin(train_users)\n",
    "            test_mask = df['user_id'].isin(test_users) & (order < self.p)\n",
    "            yield train_mask, test_mask"
   ]
  },
  {
   "cell_type": "code",
   "execution_count": 23,
   "metadata": {
    "collapsed": false,
    "pycharm": {
     "name": "#%%\n"
    }
   },
   "outputs": [],
   "source": [
    "n_folds = 3  # Количество фолдов задается через параметр класса n_folds\n",
    "p = 2\n",
    "\n",
    "cv = UsersKFoldPOut(n_folds=n_folds, p=p)\n",
    "\n",
    "for i, (train_mask, test_mask) in enumerate(cv.split(df)):\n",
    "    train = df[train_mask]\n",
    "    test = df[test_mask]\n",
    "    assert len(set(train['user_id'].unique()).intersection(test['user_id'].unique())) == 0, 'Между train и test не должно быть общих пользователей'\n",
    "    assert test.groupby('user_id').count().values.max() <= p, 'В test должно быть не более `p` последних треков'\n",
    "\n",
    "    test_first_user = test.iloc[0]['user_id']\n",
    "    test_fold_user_tracks = test[test['user_id'] == test_first_user]['track_id'].values\n",
    "    all_user_tracks = df[df['user_id'] == test_first_user]['track_id'].values\n",
    "    assert np.all(test_fold_user_tracks == all_user_tracks[:p]), 'Неверный track_ids юзера в `test`'\n"
   ]
  }
 ],
 "metadata": {
  "kernelspec": {
   "display_name": "Python 3.8.15 ('reco')",
   "language": "python",
   "name": "python3"
  },
  "language_info": {
   "codemirror_mode": {
    "name": "ipython",
    "version": 3
   },
   "file_extension": ".py",
   "mimetype": "text/x-python",
   "name": "python",
   "nbconvert_exporter": "python",
   "pygments_lexer": "ipython3",
   "version": "3.8.15"
  },
  "vscode": {
   "interpreter": {
    "hash": "df837fd765a17f8742cda068119b05e3a4cf58a7bbeb46a1e2d6ce5b635eebb9"
   }
  }
 },
 "nbformat": 4,
 "nbformat_minor": 0
}